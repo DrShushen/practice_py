{
 "cells": [
  {
   "cell_type": "markdown",
   "id": "55ada7a8-9e44-49ac-a8a8-d082e0ca1af9",
   "metadata": {},
   "source": [
    "# Quickstart\n",
    "\n",
    "From: https://github.com/alan-turing-institute/sktime"
   ]
  },
  {
   "cell_type": "markdown",
   "id": "2586ee63-171e-4ea0-aa5c-e610048bb1b2",
   "metadata": {},
   "source": [
    "## 1. Forecasting"
   ]
  },
  {
   "cell_type": "code",
   "execution_count": 1,
   "id": "4081d8c7-02b7-4c31-86ba-37ab4a3c540d",
   "metadata": {},
   "outputs": [],
   "source": [
    "from sktime.datasets import load_airline\n",
    "from sktime.forecasting.base import ForecastingHorizon\n",
    "from sktime.forecasting.model_selection import temporal_train_test_split\n",
    "from sktime.forecasting.theta import ThetaForecaster\n",
    "from sktime.performance_metrics.forecasting import mean_absolute_percentage_error"
   ]
  },
  {
   "cell_type": "markdown",
   "id": "ee416ad1-b5b2-4776-8a04-2ce0f8f94572",
   "metadata": {},
   "source": [
    "### Data"
   ]
  },
  {
   "cell_type": "code",
   "execution_count": 2,
   "id": "428c39ca-5765-4f2d-b1aa-7b78ce71a1eb",
   "metadata": {},
   "outputs": [],
   "source": [
    "y = load_airline()"
   ]
  },
  {
   "cell_type": "code",
   "execution_count": 3,
   "id": "882ed42c-0670-4443-8c97-f8887a854312",
   "metadata": {},
   "outputs": [
    {
     "data": {
      "text/plain": [
       "pandas.core.series.Series"
      ]
     },
     "execution_count": 3,
     "metadata": {},
     "output_type": "execute_result"
    }
   ],
   "source": [
    "type(y)"
   ]
  },
  {
   "cell_type": "code",
   "execution_count": 4,
   "id": "fc45f253-20de-4b3c-900d-7d850061f8b4",
   "metadata": {},
   "outputs": [
    {
     "data": {
      "text/plain": [
       "(144,)"
      ]
     },
     "execution_count": 4,
     "metadata": {},
     "output_type": "execute_result"
    }
   ],
   "source": [
    "y.shape"
   ]
  },
  {
   "cell_type": "code",
   "execution_count": 5,
   "id": "1b46532f-6d65-40d5-be19-2273246fb115",
   "metadata": {},
   "outputs": [
    {
     "data": {
      "text/plain": [
       "Period\n",
       "1949-01    112.0\n",
       "1949-02    118.0\n",
       "1949-03    132.0\n",
       "1949-04    129.0\n",
       "1949-05    121.0\n",
       "           ...  \n",
       "1960-08    606.0\n",
       "1960-09    508.0\n",
       "1960-10    461.0\n",
       "1960-11    390.0\n",
       "1960-12    432.0\n",
       "Freq: M, Name: Number of airline passengers, Length: 144, dtype: float64"
      ]
     },
     "execution_count": 5,
     "metadata": {},
     "output_type": "execute_result"
    }
   ],
   "source": [
    "y"
   ]
  },
  {
   "cell_type": "code",
   "execution_count": 6,
   "id": "27d2708f-8265-49ce-9a23-cdeb7f0c3b88",
   "metadata": {},
   "outputs": [],
   "source": [
    "y_train, y_test = temporal_train_test_split(y)"
   ]
  },
  {
   "cell_type": "code",
   "execution_count": 7,
   "id": "6bc984ed-f7c5-4e14-b6ec-dd1efb0ff3b1",
   "metadata": {},
   "outputs": [
    {
     "name": "stdout",
     "output_type": "stream",
     "text": [
      "y_train.shape (108,)\n",
      "y_test.shape (36,)\n"
     ]
    }
   ],
   "source": [
    "print(\"y_train.shape\", y_train.shape)\n",
    "print(\"y_test.shape\", y_test.shape)"
   ]
  },
  {
   "cell_type": "markdown",
   "id": "27dd7297-4b74-43b4-bc1b-1aa89fe56fcf",
   "metadata": {},
   "source": [
    "### Model"
   ]
  },
  {
   "cell_type": "code",
   "execution_count": 8,
   "id": "b05d65c3-a334-4a78-956a-6d7643a301af",
   "metadata": {},
   "outputs": [],
   "source": [
    "fh = ForecastingHorizon(y_test.index, is_relative=False)"
   ]
  },
  {
   "cell_type": "code",
   "execution_count": 9,
   "id": "c9b85f98-50f3-405f-9ce9-baf1d3d207e4",
   "metadata": {},
   "outputs": [],
   "source": [
    "forecaster = ThetaForecaster(sp=12)  # monthly seasonal periodicity"
   ]
  },
  {
   "cell_type": "code",
   "execution_count": 10,
   "id": "89d5ed28-c73c-412c-8c5c-af3f22490754",
   "metadata": {},
   "outputs": [
    {
     "data": {
      "text/plain": [
       "ThetaForecaster(sp=12)"
      ]
     },
     "execution_count": 10,
     "metadata": {},
     "output_type": "execute_result"
    }
   ],
   "source": [
    "forecaster.fit(y_train)"
   ]
  },
  {
   "cell_type": "code",
   "execution_count": 11,
   "id": "3531446e-a0a7-4144-8d90-5f535c6378f9",
   "metadata": {},
   "outputs": [],
   "source": [
    "y_pred = forecaster.predict(fh)"
   ]
  },
  {
   "cell_type": "code",
   "execution_count": 12,
   "id": "68a9adb5-93b4-4527-b160-5f15c3fa169c",
   "metadata": {},
   "outputs": [
    {
     "data": {
      "text/plain": [
       "0.08661467619871827"
      ]
     },
     "execution_count": 12,
     "metadata": {},
     "output_type": "execute_result"
    }
   ],
   "source": [
    "mean_absolute_percentage_error(y_test, y_pred)"
   ]
  },
  {
   "cell_type": "markdown",
   "id": "8597b58b-7467-4559-b859-e7a58a1a81ca",
   "metadata": {},
   "source": [
    "## 2. Time Series Classification"
   ]
  },
  {
   "cell_type": "code",
   "execution_count": 13,
   "id": "fd219cd0-3696-49e0-a386-d63d733969a4",
   "metadata": {},
   "outputs": [],
   "source": [
    "from sktime.classification.interval_based import TimeSeriesForestClassifier\n",
    "from sktime.datasets import load_arrow_head\n",
    "from sklearn.model_selection import train_test_split\n",
    "from sklearn.metrics import accuracy_score"
   ]
  },
  {
   "cell_type": "markdown",
   "id": "d74a8b50-89d2-469d-9f60-20a20254ffb1",
   "metadata": {},
   "source": [
    "### Data"
   ]
  },
  {
   "cell_type": "code",
   "execution_count": 14,
   "id": "48f74dc6-76ab-47a1-a573-347d64f86d8a",
   "metadata": {},
   "outputs": [],
   "source": [
    "X, y = load_arrow_head(return_X_y=True)"
   ]
  },
  {
   "cell_type": "code",
   "execution_count": 15,
   "id": "a41cb9de-59be-455a-8d33-97e42323d0ba",
   "metadata": {},
   "outputs": [
    {
     "name": "stdout",
     "output_type": "stream",
     "text": [
      "<class 'pandas.core.frame.DataFrame'>\n",
      "(211, 1)\n"
     ]
    },
    {
     "data": {
      "text/html": [
       "<div>\n",
       "<style scoped>\n",
       "    .dataframe tbody tr th:only-of-type {\n",
       "        vertical-align: middle;\n",
       "    }\n",
       "\n",
       "    .dataframe tbody tr th {\n",
       "        vertical-align: top;\n",
       "    }\n",
       "\n",
       "    .dataframe thead th {\n",
       "        text-align: right;\n",
       "    }\n",
       "</style>\n",
       "<table border=\"1\" class=\"dataframe\">\n",
       "  <thead>\n",
       "    <tr style=\"text-align: right;\">\n",
       "      <th></th>\n",
       "      <th>dim_0</th>\n",
       "    </tr>\n",
       "  </thead>\n",
       "  <tbody>\n",
       "    <tr>\n",
       "      <th>0</th>\n",
       "      <td>0     -1.9630\n",
       "1     -1.9578\n",
       "2     -1.9561\n",
       "3   ...</td>\n",
       "    </tr>\n",
       "    <tr>\n",
       "      <th>1</th>\n",
       "      <td>0     -1.7746\n",
       "1     -1.7740\n",
       "2     -1.7766\n",
       "3   ...</td>\n",
       "    </tr>\n",
       "    <tr>\n",
       "      <th>2</th>\n",
       "      <td>0     -1.8660\n",
       "1     -1.8420\n",
       "2     -1.8350\n",
       "3   ...</td>\n",
       "    </tr>\n",
       "    <tr>\n",
       "      <th>3</th>\n",
       "      <td>0     -2.0738\n",
       "1     -2.0733\n",
       "2     -2.0446\n",
       "3   ...</td>\n",
       "    </tr>\n",
       "    <tr>\n",
       "      <th>4</th>\n",
       "      <td>0     -1.7463\n",
       "1     -1.7413\n",
       "2     -1.7227\n",
       "3   ...</td>\n",
       "    </tr>\n",
       "  </tbody>\n",
       "</table>\n",
       "</div>"
      ],
      "text/plain": [
       "                                               dim_0\n",
       "0  0     -1.9630\n",
       "1     -1.9578\n",
       "2     -1.9561\n",
       "3   ...\n",
       "1  0     -1.7746\n",
       "1     -1.7740\n",
       "2     -1.7766\n",
       "3   ...\n",
       "2  0     -1.8660\n",
       "1     -1.8420\n",
       "2     -1.8350\n",
       "3   ...\n",
       "3  0     -2.0738\n",
       "1     -2.0733\n",
       "2     -2.0446\n",
       "3   ...\n",
       "4  0     -1.7463\n",
       "1     -1.7413\n",
       "2     -1.7227\n",
       "3   ..."
      ]
     },
     "metadata": {},
     "output_type": "display_data"
    },
    {
     "name": "stdout",
     "output_type": "stream",
     "text": [
      "\n"
     ]
    },
    {
     "data": {
      "text/html": [
       "<div>\n",
       "<style scoped>\n",
       "    .dataframe tbody tr th:only-of-type {\n",
       "        vertical-align: middle;\n",
       "    }\n",
       "\n",
       "    .dataframe tbody tr th {\n",
       "        vertical-align: top;\n",
       "    }\n",
       "\n",
       "    .dataframe thead th {\n",
       "        text-align: right;\n",
       "    }\n",
       "</style>\n",
       "<table border=\"1\" class=\"dataframe\">\n",
       "  <thead>\n",
       "    <tr style=\"text-align: right;\">\n",
       "      <th></th>\n",
       "      <th>dim_0</th>\n",
       "    </tr>\n",
       "  </thead>\n",
       "  <tbody>\n",
       "    <tr>\n",
       "      <th>1</th>\n",
       "      <td>0     -1.7746\n",
       "1     -1.7740\n",
       "2     -1.7766\n",
       "3   ...</td>\n",
       "    </tr>\n",
       "    <tr>\n",
       "      <th>1</th>\n",
       "      <td>0     -1.8299\n",
       "1     -1.8085\n",
       "2     -1.7958\n",
       "3   ...</td>\n",
       "    </tr>\n",
       "  </tbody>\n",
       "</table>\n",
       "</div>"
      ],
      "text/plain": [
       "                                               dim_0\n",
       "1  0     -1.7746\n",
       "1     -1.7740\n",
       "2     -1.7766\n",
       "3   ...\n",
       "1  0     -1.8299\n",
       "1     -1.8085\n",
       "2     -1.7958\n",
       "3   ..."
      ]
     },
     "metadata": {},
     "output_type": "display_data"
    },
    {
     "name": "stdout",
     "output_type": "stream",
     "text": [
      "selected_one_cell.shape: (1,)\n",
      "select_the_data.shape: (251,)\n",
      "\n",
      "select_the_data:\n"
     ]
    },
    {
     "data": {
      "text/plain": [
       "0     -1.8299\n",
       "1     -1.8085\n",
       "2     -1.7958\n",
       "3     -1.7666\n",
       "4     -1.7508\n",
       "        ...  \n",
       "246   -1.7334\n",
       "247   -1.7613\n",
       "248   -1.8034\n",
       "249   -1.8432\n",
       "250   -1.8275\n",
       "Length: 251, dtype: float64"
      ]
     },
     "metadata": {},
     "output_type": "display_data"
    }
   ],
   "source": [
    "from IPython.display import display\n",
    "print(type(X))\n",
    "print(X.shape)\n",
    "display(X.head())\n",
    "print()\n",
    "\n",
    "# Note the multi indexing!!!\n",
    "display(X.loc[1, :])\n",
    "selected_one_cell = X.loc[1, :].iloc[1]\n",
    "print(\"selected_one_cell.shape:\", selected_one_cell.shape)\n",
    "select_the_data = selected_one_cell[0]  # <-- ‼️ NOTE THIS SELECTION HERE, WHICH IS COUNTERINTUITIVE!\n",
    "print(\"select_the_data.shape:\", select_the_data.shape)\n",
    "print(\"\\nselect_the_data:\")\n",
    "display(select_the_data)"
   ]
  },
  {
   "cell_type": "code",
   "execution_count": 16,
   "id": "44f75992-a827-4bed-82b9-499cdcf0571b",
   "metadata": {},
   "outputs": [
    {
     "name": "stdout",
     "output_type": "stream",
     "text": [
      "<class 'pandas.core.series.Series'>\n",
      "(211,)\n"
     ]
    },
    {
     "data": {
      "text/plain": [
       "0    0\n",
       "1    1\n",
       "2    2\n",
       "3    0\n",
       "4    1\n",
       "dtype: object"
      ]
     },
     "metadata": {},
     "output_type": "display_data"
    },
    {
     "data": {
      "text/plain": [
       "1    1\n",
       "1    0\n",
       "dtype: object"
      ]
     },
     "metadata": {},
     "output_type": "display_data"
    }
   ],
   "source": [
    "print(type(y))\n",
    "print(y.shape)\n",
    "display(y.head())\n",
    "\n",
    "# Note the multi indexing!!!\n",
    "display(y.loc[1])"
   ]
  },
  {
   "cell_type": "code",
   "execution_count": 17,
   "id": "51fac929-280f-42a9-a699-469e52e2bbb5",
   "metadata": {},
   "outputs": [],
   "source": [
    "X_train, X_test, y_train, y_test = train_test_split(X, y)"
   ]
  },
  {
   "cell_type": "markdown",
   "id": "74d23b33-fe10-42e9-b313-c0da3b11ff19",
   "metadata": {},
   "source": [
    "### Model"
   ]
  },
  {
   "cell_type": "code",
   "execution_count": 18,
   "id": "9d3f9405-efaa-4a01-a485-4d930d04c601",
   "metadata": {},
   "outputs": [
    {
     "data": {
      "text/plain": [
       "0.8490566037735849"
      ]
     },
     "execution_count": 18,
     "metadata": {},
     "output_type": "execute_result"
    }
   ],
   "source": [
    "classifier = TimeSeriesForestClassifier()\n",
    "classifier.fit(X_train, y_train)\n",
    "y_pred = classifier.predict(X_test)\n",
    "accuracy_score(y_test, y_pred)"
   ]
  }
 ],
 "metadata": {
  "kernelspec": {
   "display_name": "Python 3",
   "language": "python",
   "name": "python3"
  },
  "language_info": {
   "codemirror_mode": {
    "name": "ipython",
    "version": 3
   },
   "file_extension": ".py",
   "mimetype": "text/x-python",
   "name": "python",
   "nbconvert_exporter": "python",
   "pygments_lexer": "ipython3",
   "version": "3.8.11"
  }
 },
 "nbformat": 4,
 "nbformat_minor": 5
}
