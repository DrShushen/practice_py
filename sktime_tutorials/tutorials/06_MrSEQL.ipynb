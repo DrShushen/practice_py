{
 "cells": [
  {
   "cell_type": "markdown",
   "id": "24695b02-efe7-4579-a217-602511893850",
   "metadata": {},
   "source": [
    "# Time series classification with Mr-SEQL\n",
    "\n",
    "From: https://www.sktime.org/en/latest/examples/mrseql.html"
   ]
  },
  {
   "cell_type": "markdown",
   "id": "5b464963-ef62-40ea-9c71-ed82dab2ecd1",
   "metadata": {},
   "source": [
    "## Overview\n",
    "\n",
    "Mr-SEQL\\[1\\] is a univariate time series classifier which train linear classification models (logistic regression) with features extracted from multiple symbolic representations of time series (SAX, SFA). The features are extracted by using SEQL\\[2\\].\n",
    "\n",
    "\\[1\\] T. L. Nguyen, S. Gsponer, I. Ilie, M. O’reilly and G. Ifrim Interpretable Time Series Classification using Linear Models and Multi-resolution Multi-domain Symbolic Representations in Data Mining and Knowledge Discovery (DAMI), May 2019, https://link.springer.com/article/10.1007/s10618-019-00633-3\n",
    "\n",
    "\\[2\\] G. Ifrim, C. Wiuf “Bounded Coordinate-Descent for Biological Sequence Classification in High Dimensional Predictor Space” (KDD 2011)\n",
    "\n",
    "In this notebook, we will demonstrate how to use Mr-SEQL for univariate time series classification with the ArrowHead dataset."
   ]
  },
  {
   "cell_type": "markdown",
   "id": "74f6e411-17af-4660-9431-1765d9b54c6d",
   "metadata": {},
   "source": [
    "### Imports"
   ]
  },
  {
   "cell_type": "code",
   "execution_count": 1,
   "id": "8097c7a3-be1c-44b6-8315-2bc700bac15f",
   "metadata": {},
   "outputs": [],
   "source": [
    "from sklearn import metrics\n",
    "from sklearn.model_selection import train_test_split\n",
    "\n",
    "from sktime.classification.shapelet_based import MrSEQLClassifier\n",
    "from sktime.datasets import load_arrow_head, load_basic_motions"
   ]
  },
  {
   "cell_type": "markdown",
   "id": "7e91b5a6-8c89-4d5f-9dcd-737bf3d7205f",
   "metadata": {},
   "source": [
    "### Load data\n",
    "\n",
    "For more details on the data set, see the [univariate time series classification notebook](https://github.com/alan-turing-institute/sktime/blob/main/examples/02_classification_univariate.ipynb)."
   ]
  },
  {
   "cell_type": "code",
   "execution_count": 2,
   "id": "c2ba2a49-9513-4b04-b7a0-1499186f29a2",
   "metadata": {},
   "outputs": [
    {
     "name": "stdout",
     "output_type": "stream",
     "text": [
      "(158, 1) (158,) (53, 1) (53,)\n"
     ]
    }
   ],
   "source": [
    "X, y = load_arrow_head(return_X_y=True)\n",
    "X_train, X_test, y_train, y_test = train_test_split(X, y, random_state=42)\n",
    "print(X_train.shape, y_train.shape, X_test.shape, y_test.shape)"
   ]
  },
  {
   "cell_type": "markdown",
   "id": "777ee129-2b10-425b-9207-3efee44bc84f",
   "metadata": {},
   "source": [
    "### Train and Test\n",
    "\n",
    "Mr-SEQL can be configured to run in different mode with different symbolic representation.\n",
    "\n",
    "`seql_mode` can be either `'clf'` (SEQL as classifier) or `'fs'` (SEQL as feature selection). If `'fs'` mode is chosen, a logistic regression classifier will be trained with the features extracted by SEQL. `'fs'` mode is more accurate in general.\n",
    "\n",
    "`symrep` can include either `'sax'` or `'sfa'` or both. Using both usually produces a better result."
   ]
  },
  {
   "cell_type": "code",
   "execution_count": 3,
   "id": "6e51a43a-552c-4ce4-bc68-fb2a92c97f67",
   "metadata": {},
   "outputs": [],
   "source": [
    "# Create mrseql object\n",
    "# use sax by default\n",
    "ms = MrSEQLClassifier(seql_mode=\"clf\")\n",
    "\n",
    "# use sfa representations\n",
    "# ms = MrSEQLClassifier(seql_mode='fs', symrep=['sfa'])\n",
    "\n",
    "# use sax and sfa representations\n",
    "# ms = MrSEQLClassifier(seql_mode='fs', symrep=['sax', 'sfa'])"
   ]
  },
  {
   "cell_type": "code",
   "execution_count": 4,
   "id": "6c987981-4d3f-46ec-af03-d0b29a766256",
   "metadata": {},
   "outputs": [
    {
     "data": {
      "text/plain": [
       "MrSEQLClassifier(seql_mode='clf')"
      ]
     },
     "execution_count": 4,
     "metadata": {},
     "output_type": "execute_result"
    }
   ],
   "source": [
    "# fit training data\n",
    "ms.fit(X_train, y_train)"
   ]
  },
  {
   "cell_type": "code",
   "execution_count": 5,
   "id": "a326ea74-2f4f-439d-a82a-e3dc6c104f88",
   "metadata": {},
   "outputs": [],
   "source": [
    "# prediction\n",
    "predicted = ms.predict(X_test)"
   ]
  },
  {
   "cell_type": "code",
   "execution_count": 6,
   "id": "a44af5ec-7e9b-40c8-bf01-cf473dd75495",
   "metadata": {},
   "outputs": [
    {
     "name": "stdout",
     "output_type": "stream",
     "text": [
      "Accuracy with mr-seql: 0.887\n"
     ]
    }
   ],
   "source": [
    "# Classification accuracy\n",
    "print(\"Accuracy with mr-seql: %2.3f\" % metrics.accuracy_score(y_test, predicted))"
   ]
  },
  {
   "cell_type": "markdown",
   "id": "76cd23f4-3215-46d2-88dd-9722a93b3529",
   "metadata": {},
   "source": [
    "## Train and Test: Multivariate\n",
    "\n",
    "Mr-SEQL also supports multivariate time series. Mr-SEQL extracts features from each dimension of the data independently."
   ]
  },
  {
   "cell_type": "code",
   "execution_count": 7,
   "id": "d4381b9d-f8e5-40b7-8319-d7a68437d4ce",
   "metadata": {},
   "outputs": [
    {
     "name": "stdout",
     "output_type": "stream",
     "text": [
      "(60, 6) (60,) (20, 6) (20,)\n"
     ]
    }
   ],
   "source": [
    "X, y = load_basic_motions(return_X_y=True)\n",
    "X_train, X_test, y_train, y_test = train_test_split(X, y, random_state=42)\n",
    "print(X_train.shape, y_train.shape, X_test.shape, y_test.shape)"
   ]
  },
  {
   "cell_type": "code",
   "execution_count": 8,
   "id": "41b7299f-2c79-4996-8333-4386bc67111c",
   "metadata": {},
   "outputs": [
    {
     "data": {
      "text/html": [
       "<div>\n",
       "<style scoped>\n",
       "    .dataframe tbody tr th:only-of-type {\n",
       "        vertical-align: middle;\n",
       "    }\n",
       "\n",
       "    .dataframe tbody tr th {\n",
       "        vertical-align: top;\n",
       "    }\n",
       "\n",
       "    .dataframe thead th {\n",
       "        text-align: right;\n",
       "    }\n",
       "</style>\n",
       "<table border=\"1\" class=\"dataframe\">\n",
       "  <thead>\n",
       "    <tr style=\"text-align: right;\">\n",
       "      <th></th>\n",
       "      <th>dim_0</th>\n",
       "      <th>dim_1</th>\n",
       "      <th>dim_2</th>\n",
       "      <th>dim_3</th>\n",
       "      <th>dim_4</th>\n",
       "      <th>dim_5</th>\n",
       "    </tr>\n",
       "  </thead>\n",
       "  <tbody>\n",
       "    <tr>\n",
       "      <th>9</th>\n",
       "      <td>0    -0.407421\n",
       "1    -0.407421\n",
       "2     2.355158\n",
       "3...</td>\n",
       "      <td>0     1.413374\n",
       "1     1.413374\n",
       "2    -3.928032\n",
       "3...</td>\n",
       "      <td>0     0.092782\n",
       "1     0.092782\n",
       "2    -0.211622\n",
       "3...</td>\n",
       "      <td>0    -0.066584\n",
       "1    -0.066584\n",
       "2    -3.630177\n",
       "3...</td>\n",
       "      <td>0     0.223723\n",
       "1     0.223723\n",
       "2    -0.026634\n",
       "3...</td>\n",
       "      <td>0     0.135832\n",
       "1     0.135832\n",
       "2    -1.946925\n",
       "3...</td>\n",
       "    </tr>\n",
       "    <tr>\n",
       "      <th>24</th>\n",
       "      <td>0     0.383922\n",
       "1     0.383922\n",
       "2    -0.272575\n",
       "3...</td>\n",
       "      <td>0     0.302612\n",
       "1     0.302612\n",
       "2    -1.381236\n",
       "3...</td>\n",
       "      <td>0    -0.398075\n",
       "1    -0.398075\n",
       "2    -0.681258\n",
       "3...</td>\n",
       "      <td>0     0.071911\n",
       "1     0.071911\n",
       "2    -0.761725\n",
       "3...</td>\n",
       "      <td>0     0.175783\n",
       "1     0.175783\n",
       "2    -0.114525\n",
       "3...</td>\n",
       "      <td>0    -0.087891\n",
       "1    -0.087891\n",
       "2    -0.503377\n",
       "3...</td>\n",
       "    </tr>\n",
       "    <tr>\n",
       "      <th>5</th>\n",
       "      <td>0    -0.357300\n",
       "1    -0.357300\n",
       "2    -0.005055\n",
       "3...</td>\n",
       "      <td>0    -0.584885\n",
       "1    -0.584885\n",
       "2     0.295037\n",
       "3...</td>\n",
       "      <td>0    -0.792751\n",
       "1    -0.792751\n",
       "2     0.213664\n",
       "3...</td>\n",
       "      <td>0     0.074574\n",
       "1     0.074574\n",
       "2    -0.157139\n",
       "3...</td>\n",
       "      <td>0     0.159802\n",
       "1     0.159802\n",
       "2    -0.306288\n",
       "3...</td>\n",
       "      <td>0     0.023970\n",
       "1     0.023970\n",
       "2     1.230478\n",
       "3...</td>\n",
       "    </tr>\n",
       "    <tr>\n",
       "      <th>7</th>\n",
       "      <td>0    -0.352746\n",
       "1    -0.352746\n",
       "2    -1.354561\n",
       "3...</td>\n",
       "      <td>0     0.316845\n",
       "1     0.316845\n",
       "2     0.490525\n",
       "3...</td>\n",
       "      <td>0    -0.473779\n",
       "1    -0.473779\n",
       "2     1.454261\n",
       "3...</td>\n",
       "      <td>0    -0.327595\n",
       "1    -0.327595\n",
       "2    -0.269001\n",
       "3...</td>\n",
       "      <td>0     0.106535\n",
       "1     0.106535\n",
       "2     0.021307\n",
       "3...</td>\n",
       "      <td>0     0.197090\n",
       "1     0.197090\n",
       "2     0.460763\n",
       "3...</td>\n",
       "    </tr>\n",
       "    <tr>\n",
       "      <th>34</th>\n",
       "      <td>0      0.052231\n",
       "1      0.052231\n",
       "2     -0.54804...</td>\n",
       "      <td>0     -0.730486\n",
       "1     -0.730486\n",
       "2      0.70700...</td>\n",
       "      <td>0    -0.518104\n",
       "1    -0.518104\n",
       "2    -1.179430\n",
       "3...</td>\n",
       "      <td>0    -0.159802\n",
       "1    -0.159802\n",
       "2    -0.239704\n",
       "3...</td>\n",
       "      <td>0    -0.045277\n",
       "1    -0.045277\n",
       "2     0.023970\n",
       "3...</td>\n",
       "      <td>0     -0.029297\n",
       "1     -0.029297\n",
       "2      0.29829...</td>\n",
       "    </tr>\n",
       "  </tbody>\n",
       "</table>\n",
       "</div>"
      ],
      "text/plain": [
       "                                                dim_0  \\\n",
       "9   0    -0.407421\n",
       "1    -0.407421\n",
       "2     2.355158\n",
       "3...   \n",
       "24  0     0.383922\n",
       "1     0.383922\n",
       "2    -0.272575\n",
       "3...   \n",
       "5   0    -0.357300\n",
       "1    -0.357300\n",
       "2    -0.005055\n",
       "3...   \n",
       "7   0    -0.352746\n",
       "1    -0.352746\n",
       "2    -1.354561\n",
       "3...   \n",
       "34  0      0.052231\n",
       "1      0.052231\n",
       "2     -0.54804...   \n",
       "\n",
       "                                                dim_1  \\\n",
       "9   0     1.413374\n",
       "1     1.413374\n",
       "2    -3.928032\n",
       "3...   \n",
       "24  0     0.302612\n",
       "1     0.302612\n",
       "2    -1.381236\n",
       "3...   \n",
       "5   0    -0.584885\n",
       "1    -0.584885\n",
       "2     0.295037\n",
       "3...   \n",
       "7   0     0.316845\n",
       "1     0.316845\n",
       "2     0.490525\n",
       "3...   \n",
       "34  0     -0.730486\n",
       "1     -0.730486\n",
       "2      0.70700...   \n",
       "\n",
       "                                                dim_2  \\\n",
       "9   0     0.092782\n",
       "1     0.092782\n",
       "2    -0.211622\n",
       "3...   \n",
       "24  0    -0.398075\n",
       "1    -0.398075\n",
       "2    -0.681258\n",
       "3...   \n",
       "5   0    -0.792751\n",
       "1    -0.792751\n",
       "2     0.213664\n",
       "3...   \n",
       "7   0    -0.473779\n",
       "1    -0.473779\n",
       "2     1.454261\n",
       "3...   \n",
       "34  0    -0.518104\n",
       "1    -0.518104\n",
       "2    -1.179430\n",
       "3...   \n",
       "\n",
       "                                                dim_3  \\\n",
       "9   0    -0.066584\n",
       "1    -0.066584\n",
       "2    -3.630177\n",
       "3...   \n",
       "24  0     0.071911\n",
       "1     0.071911\n",
       "2    -0.761725\n",
       "3...   \n",
       "5   0     0.074574\n",
       "1     0.074574\n",
       "2    -0.157139\n",
       "3...   \n",
       "7   0    -0.327595\n",
       "1    -0.327595\n",
       "2    -0.269001\n",
       "3...   \n",
       "34  0    -0.159802\n",
       "1    -0.159802\n",
       "2    -0.239704\n",
       "3...   \n",
       "\n",
       "                                                dim_4  \\\n",
       "9   0     0.223723\n",
       "1     0.223723\n",
       "2    -0.026634\n",
       "3...   \n",
       "24  0     0.175783\n",
       "1     0.175783\n",
       "2    -0.114525\n",
       "3...   \n",
       "5   0     0.159802\n",
       "1     0.159802\n",
       "2    -0.306288\n",
       "3...   \n",
       "7   0     0.106535\n",
       "1     0.106535\n",
       "2     0.021307\n",
       "3...   \n",
       "34  0    -0.045277\n",
       "1    -0.045277\n",
       "2     0.023970\n",
       "3...   \n",
       "\n",
       "                                                dim_5  \n",
       "9   0     0.135832\n",
       "1     0.135832\n",
       "2    -1.946925\n",
       "3...  \n",
       "24  0    -0.087891\n",
       "1    -0.087891\n",
       "2    -0.503377\n",
       "3...  \n",
       "5   0     0.023970\n",
       "1     0.023970\n",
       "2     1.230478\n",
       "3...  \n",
       "7   0     0.197090\n",
       "1     0.197090\n",
       "2     0.460763\n",
       "3...  \n",
       "34  0     -0.029297\n",
       "1     -0.029297\n",
       "2      0.29829...  "
      ]
     },
     "execution_count": 8,
     "metadata": {},
     "output_type": "execute_result"
    }
   ],
   "source": [
    "X_train.head()"
   ]
  },
  {
   "cell_type": "code",
   "execution_count": 9,
   "id": "3993e9c0-4fd5-4077-b1e3-115da91c72b1",
   "metadata": {},
   "outputs": [
    {
     "data": {
      "text/plain": [
       "MrSEQLClassifier()"
      ]
     },
     "execution_count": 9,
     "metadata": {},
     "output_type": "execute_result"
    }
   ],
   "source": [
    "ms = MrSEQLClassifier()\n",
    "ms"
   ]
  },
  {
   "cell_type": "code",
   "execution_count": 10,
   "id": "19093202-8a32-4892-be12-0a967c4ad57b",
   "metadata": {},
   "outputs": [
    {
     "data": {
      "text/plain": [
       "MrSEQLClassifier()"
      ]
     },
     "execution_count": 10,
     "metadata": {},
     "output_type": "execute_result"
    }
   ],
   "source": [
    "# fit training data\n",
    "ms.fit(X_train, y_train)"
   ]
  },
  {
   "cell_type": "code",
   "execution_count": 11,
   "id": "cc66503a-0931-4d9f-b216-b32eda135126",
   "metadata": {},
   "outputs": [],
   "source": [
    "predicted = ms.predict(X_test)"
   ]
  },
  {
   "cell_type": "code",
   "execution_count": 12,
   "id": "2e3ab0d2-e7bc-4e46-afde-0a788026179f",
   "metadata": {},
   "outputs": [
    {
     "name": "stdout",
     "output_type": "stream",
     "text": [
      "Accuracy with mr-seql: 1.000\n"
     ]
    }
   ],
   "source": [
    "# Classification accuracy\n",
    "print(\"Accuracy with mr-seql: %2.3f\" % metrics.accuracy_score(y_test, predicted))"
   ]
  }
 ],
 "metadata": {
  "kernelspec": {
   "display_name": "Python 3",
   "language": "python",
   "name": "python3"
  },
  "language_info": {
   "codemirror_mode": {
    "name": "ipython",
    "version": 3
   },
   "file_extension": ".py",
   "mimetype": "text/x-python",
   "name": "python",
   "nbconvert_exporter": "python",
   "pygments_lexer": "ipython3",
   "version": "3.8.11"
  }
 },
 "nbformat": 4,
 "nbformat_minor": 5
}
