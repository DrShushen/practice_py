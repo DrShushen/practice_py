{
 "cells": [
  {
   "cell_type": "markdown",
   "id": "5b86d30f-59d4-4605-b76e-102ad7af966c",
   "metadata": {},
   "source": [
    "# Demo of ROCKET transform\n",
    "\n",
    "From: https://www.sktime.org/en/latest/examples/rocket.html"
   ]
  },
  {
   "cell_type": "markdown",
   "id": "8b14e244-4749-465a-8602-63c87d556e27",
   "metadata": {},
   "source": [
    "## Overview\n",
    "\n",
    "ROCKET \\[1\\] transforms time series using random convolutional kernels (random length, weights, bias, dilation, and padding). ROCKET computes two features from the resulting feature maps: the max, and the proportion of positive values (or ppv). The transformed features are used to train a linear classifier.\n",
    "\n",
    "\\[1\\] Dempster A, Petitjean F, Webb GI (2019) ROCKET: Exceptionally fast and accurate time series classification using random convolutional kernels. arXiv:1910.13051"
   ]
  },
  {
   "cell_type": "markdown",
   "id": "4378abd0-224e-434c-80be-6e7f7d91a8ec",
   "metadata": {},
   "source": [
    "## Contents\n",
    "\n",
    "1. Imports\n",
    "1. Univariate Time Series\n",
    "1. Multivariate Time Series\n",
    "1. Pipeline Example"
   ]
  },
  {
   "cell_type": "markdown",
   "id": "741bb0d2-012d-4d9f-b4f9-0c946e795387",
   "metadata": {},
   "source": [
    "## 1 Imports\n",
    "\n",
    "Import example data, ROCKET, and a classifier (`RidgeClassifierCV` from scikit-learn), as well as NumPy and `make_pipeline` from scikit-learn.\n",
    "\n",
    "**Note:** ROCKET compiles (via Numba) on import, which may take a few seconds."
   ]
  },
  {
   "cell_type": "code",
   "execution_count": 1,
   "id": "60cf4bd1-4252-4a07-8c38-90aaac131ae4",
   "metadata": {},
   "outputs": [],
   "source": [
    "# !pip install --upgrade numba"
   ]
  },
  {
   "cell_type": "code",
   "execution_count": 2,
   "id": "f759d011-630e-4de2-a798-cd3d42aec01c",
   "metadata": {},
   "outputs": [],
   "source": [
    "import numpy as np\n",
    "\n",
    "from sklearn.linear_model import RidgeClassifierCV\n",
    "from sklearn.pipeline import make_pipeline\n",
    "\n",
    "from sktime.datasets import load_arrow_head  # univariate dataset\n",
    "from sktime.datasets import load_japanese_vowels  # multivariate dataset\n",
    "\n",
    "from sktime.transformations.panel.rocket import Rocket"
   ]
  },
  {
   "cell_type": "markdown",
   "id": "e5fc499e-7e4a-41b7-b9f1-638b32b01dee",
   "metadata": {},
   "source": [
    "## 2 Univariate Time Series\n",
    "\n",
    "We can transform the data using ROCKET and separately fit a classifier, or we can use ROCKET together with a classifier in a pipeline (section 4, below)."
   ]
  },
  {
   "cell_type": "markdown",
   "id": "5857f694-83cd-4625-b09a-c9d0c7a552a2",
   "metadata": {},
   "source": [
    "### 2.1 Load the Training Data\n",
    "\n",
    "For more details on the data set, see the [univariate time series classification notebook](https://github.com/alan-turing-institute/sktime/blob/main/examples/02_classification_univariate.ipynb)."
   ]
  },
  {
   "cell_type": "code",
   "execution_count": 3,
   "id": "514b231a-466e-4b31-9eb5-596f22be19de",
   "metadata": {},
   "outputs": [],
   "source": [
    "X_train, y_train = load_arrow_head(split=\"train\", return_X_y=True)"
   ]
  },
  {
   "cell_type": "code",
   "execution_count": 4,
   "id": "ccf6ee3b-9e2a-4ccc-8eaa-302d77ba5997",
   "metadata": {},
   "outputs": [
    {
     "data": {
      "text/html": [
       "<div>\n",
       "<style scoped>\n",
       "    .dataframe tbody tr th:only-of-type {\n",
       "        vertical-align: middle;\n",
       "    }\n",
       "\n",
       "    .dataframe tbody tr th {\n",
       "        vertical-align: top;\n",
       "    }\n",
       "\n",
       "    .dataframe thead th {\n",
       "        text-align: right;\n",
       "    }\n",
       "</style>\n",
       "<table border=\"1\" class=\"dataframe\">\n",
       "  <thead>\n",
       "    <tr style=\"text-align: right;\">\n",
       "      <th></th>\n",
       "      <th>dim_0</th>\n",
       "    </tr>\n",
       "  </thead>\n",
       "  <tbody>\n",
       "    <tr>\n",
       "      <th>0</th>\n",
       "      <td>0     -1.9630\n",
       "1     -1.9578\n",
       "2     -1.9561\n",
       "3   ...</td>\n",
       "    </tr>\n",
       "    <tr>\n",
       "      <th>1</th>\n",
       "      <td>0     -1.7746\n",
       "1     -1.7740\n",
       "2     -1.7766\n",
       "3   ...</td>\n",
       "    </tr>\n",
       "    <tr>\n",
       "      <th>2</th>\n",
       "      <td>0     -1.8660\n",
       "1     -1.8420\n",
       "2     -1.8350\n",
       "3   ...</td>\n",
       "    </tr>\n",
       "    <tr>\n",
       "      <th>3</th>\n",
       "      <td>0     -2.0738\n",
       "1     -2.0733\n",
       "2     -2.0446\n",
       "3   ...</td>\n",
       "    </tr>\n",
       "    <tr>\n",
       "      <th>4</th>\n",
       "      <td>0     -1.7463\n",
       "1     -1.7413\n",
       "2     -1.7227\n",
       "3   ...</td>\n",
       "    </tr>\n",
       "  </tbody>\n",
       "</table>\n",
       "</div>"
      ],
      "text/plain": [
       "                                               dim_0\n",
       "0  0     -1.9630\n",
       "1     -1.9578\n",
       "2     -1.9561\n",
       "3   ...\n",
       "1  0     -1.7746\n",
       "1     -1.7740\n",
       "2     -1.7766\n",
       "3   ...\n",
       "2  0     -1.8660\n",
       "1     -1.8420\n",
       "2     -1.8350\n",
       "3   ...\n",
       "3  0     -2.0738\n",
       "1     -2.0733\n",
       "2     -2.0446\n",
       "3   ...\n",
       "4  0     -1.7463\n",
       "1     -1.7413\n",
       "2     -1.7227\n",
       "3   ..."
      ]
     },
     "execution_count": 4,
     "metadata": {},
     "output_type": "execute_result"
    }
   ],
   "source": [
    "X_train.head()"
   ]
  },
  {
   "cell_type": "code",
   "execution_count": 5,
   "id": "f7ac2e7f-b9d8-4f17-9bba-8a6c866d3999",
   "metadata": {},
   "outputs": [
    {
     "data": {
      "text/plain": [
       "array(['0', '1', '2', '0', '1'], dtype='<U1')"
      ]
     },
     "execution_count": 5,
     "metadata": {},
     "output_type": "execute_result"
    }
   ],
   "source": [
    "y_train[:5]"
   ]
  },
  {
   "cell_type": "markdown",
   "id": "03d16278-b596-4978-bd71-398ab45dc0de",
   "metadata": {},
   "source": [
    "### 2.2 Initialise ROCKET and Transform the Training Data"
   ]
  },
  {
   "cell_type": "code",
   "execution_count": 6,
   "id": "b46ab62b-77e8-407d-9eda-b57e0865bedc",
   "metadata": {},
   "outputs": [],
   "source": [
    "rocket = Rocket()  # by default, ROCKET uses 10,000 kernels\n",
    "rocket.fit(X_train)\n",
    "X_train_transform = rocket.transform(X_train)"
   ]
  },
  {
   "cell_type": "markdown",
   "id": "0c8f1d09-c7ac-4f26-a672-13f4664ef310",
   "metadata": {},
   "source": [
    "### 2.3 Fit a Classifier\n",
    "\n",
    "We recommend using `RidgeClassifierCV` from scikit-learn for smaller datasets (fewer than approx. 20K training examples), and using logistic regression trained using stochastic gradient descent for larger datasets."
   ]
  },
  {
   "cell_type": "code",
   "execution_count": 7,
   "id": "34f49cfa-43ee-4364-9b27-2ab738ad52ab",
   "metadata": {},
   "outputs": [
    {
     "data": {
      "text/plain": [
       "RidgeClassifierCV(alphas=array([1.00000000e-03, 4.64158883e-03, 2.15443469e-02, 1.00000000e-01,\n",
       "       4.64158883e-01, 2.15443469e+00, 1.00000000e+01, 4.64158883e+01,\n",
       "       2.15443469e+02, 1.00000000e+03]),\n",
       "                  normalize=True)"
      ]
     },
     "execution_count": 7,
     "metadata": {},
     "output_type": "execute_result"
    }
   ],
   "source": [
    "classifier = RidgeClassifierCV(alphas=np.logspace(-3, 3, 10), normalize=True)\n",
    "classifier.fit(X_train_transform, y_train)"
   ]
  },
  {
   "cell_type": "markdown",
   "id": "abb0c701-79ca-4e19-8f48-c579eb01e118",
   "metadata": {},
   "source": [
    "### 2.4 Load and Transform the Test Data"
   ]
  },
  {
   "cell_type": "code",
   "execution_count": 8,
   "id": "3b45e6d9-9df2-40ab-9e04-afd4b80264f0",
   "metadata": {},
   "outputs": [],
   "source": [
    "X_test, y_test = load_arrow_head(split=\"test\", return_X_y=True)\n",
    "X_test_transform = rocket.transform(X_test)"
   ]
  },
  {
   "cell_type": "markdown",
   "id": "ed928772-9915-4a0d-ac7f-8ab986fb2ced",
   "metadata": {},
   "source": [
    "### 2.5 Classify the Test Data"
   ]
  },
  {
   "cell_type": "code",
   "execution_count": 9,
   "id": "88df86a2-815c-461f-a9ff-ad5045f64bf3",
   "metadata": {},
   "outputs": [
    {
     "data": {
      "text/plain": [
       "0.8057142857142857"
      ]
     },
     "execution_count": 9,
     "metadata": {},
     "output_type": "execute_result"
    }
   ],
   "source": [
    "classifier.score(X_test_transform, y_test)"
   ]
  },
  {
   "cell_type": "markdown",
   "id": "b2aa1495-436a-441d-bdc7-82c32af17378",
   "metadata": {},
   "source": [
    "## 3 Multivariate Time Series\n",
    "\n",
    "We can use ROCKET in exactly the same way for multivariate time series."
   ]
  },
  {
   "cell_type": "markdown",
   "id": "f24364f0-406b-4485-8b5e-9fb776680167",
   "metadata": {},
   "source": [
    "### 3.1 Load the Training Data"
   ]
  },
  {
   "cell_type": "code",
   "execution_count": 10,
   "id": "27246f08-8db2-463d-89ca-c8107f7efd68",
   "metadata": {},
   "outputs": [],
   "source": [
    "X_train, y_train = load_japanese_vowels(split=\"train\", return_X_y=True)"
   ]
  },
  {
   "cell_type": "code",
   "execution_count": 11,
   "id": "f5542e03-b37e-466d-a0e9-a2a5c1df5b35",
   "metadata": {},
   "outputs": [
    {
     "data": {
      "text/html": [
       "<div>\n",
       "<style scoped>\n",
       "    .dataframe tbody tr th:only-of-type {\n",
       "        vertical-align: middle;\n",
       "    }\n",
       "\n",
       "    .dataframe tbody tr th {\n",
       "        vertical-align: top;\n",
       "    }\n",
       "\n",
       "    .dataframe thead th {\n",
       "        text-align: right;\n",
       "    }\n",
       "</style>\n",
       "<table border=\"1\" class=\"dataframe\">\n",
       "  <thead>\n",
       "    <tr style=\"text-align: right;\">\n",
       "      <th></th>\n",
       "      <th>dim_0</th>\n",
       "      <th>dim_1</th>\n",
       "      <th>dim_2</th>\n",
       "      <th>dim_3</th>\n",
       "      <th>dim_4</th>\n",
       "      <th>dim_5</th>\n",
       "      <th>dim_6</th>\n",
       "      <th>dim_7</th>\n",
       "      <th>dim_8</th>\n",
       "      <th>dim_9</th>\n",
       "      <th>dim_10</th>\n",
       "      <th>dim_11</th>\n",
       "    </tr>\n",
       "  </thead>\n",
       "  <tbody>\n",
       "    <tr>\n",
       "      <th>0</th>\n",
       "      <td>0     1.860936\n",
       "1     1.891651\n",
       "2     1.939205\n",
       "3...</td>\n",
       "      <td>0    -0.207383\n",
       "1    -0.193249\n",
       "2    -0.239664\n",
       "3...</td>\n",
       "      <td>0     0.261557\n",
       "1     0.235363\n",
       "2     0.258561\n",
       "3...</td>\n",
       "      <td>0    -0.214562\n",
       "1    -0.249118\n",
       "2    -0.291458\n",
       "3...</td>\n",
       "      <td>0    -0.171253\n",
       "1    -0.112890\n",
       "2    -0.041053\n",
       "3...</td>\n",
       "      <td>0    -0.118167\n",
       "1    -0.112238\n",
       "2    -0.102034\n",
       "3...</td>\n",
       "      <td>0    -0.277557\n",
       "1    -0.311997\n",
       "2    -0.383300\n",
       "3...</td>\n",
       "      <td>0     0.025668\n",
       "1    -0.027122\n",
       "2     0.019013\n",
       "3...</td>\n",
       "      <td>0     0.126701\n",
       "1     0.171457\n",
       "2     0.169510\n",
       "3...</td>\n",
       "      <td>0    -0.306756\n",
       "1    -0.289431\n",
       "2    -0.314894\n",
       "3...</td>\n",
       "      <td>0    -0.213076\n",
       "1    -0.247722\n",
       "2    -0.227908\n",
       "3...</td>\n",
       "      <td>0     0.088728\n",
       "1     0.093011\n",
       "2     0.074638\n",
       "3...</td>\n",
       "    </tr>\n",
       "    <tr>\n",
       "      <th>1</th>\n",
       "      <td>0     1.303905\n",
       "1     1.288280\n",
       "2     1.332021\n",
       "3...</td>\n",
       "      <td>0     0.067256\n",
       "1     0.018672\n",
       "2    -0.058744\n",
       "3...</td>\n",
       "      <td>0     0.597720\n",
       "1     0.631579\n",
       "2     0.601928\n",
       "3...</td>\n",
       "      <td>0    -0.271474\n",
       "1    -0.355112\n",
       "2    -0.347913\n",
       "3...</td>\n",
       "      <td>0    -0.236808\n",
       "1    -0.119216\n",
       "2    -0.053463\n",
       "3...</td>\n",
       "      <td>0    -0.411125\n",
       "1    -0.434425\n",
       "2    -0.421753\n",
       "3...</td>\n",
       "      <td>0    -0.014826\n",
       "1    -0.078036\n",
       "2    -0.028479\n",
       "3...</td>\n",
       "      <td>0     0.113175\n",
       "1     0.178121\n",
       "2     0.145073\n",
       "3...</td>\n",
       "      <td>0    -0.058230\n",
       "1    -0.106430\n",
       "2    -0.159488\n",
       "3...</td>\n",
       "      <td>0    -0.173138\n",
       "1    -0.181910\n",
       "2    -0.127751\n",
       "3...</td>\n",
       "      <td>0     0.093058\n",
       "1     0.093031\n",
       "2     0.019092\n",
       "3...</td>\n",
       "      <td>0     0.099247\n",
       "1     0.099183\n",
       "2     0.113546\n",
       "3...</td>\n",
       "    </tr>\n",
       "    <tr>\n",
       "      <th>2</th>\n",
       "      <td>0     1.462484\n",
       "1     1.309815\n",
       "2     1.418207\n",
       "3...</td>\n",
       "      <td>0     0.174066\n",
       "1     0.120183\n",
       "2     0.015721\n",
       "3...</td>\n",
       "      <td>0     0.505133\n",
       "1     0.503046\n",
       "2     0.589994\n",
       "3...</td>\n",
       "      <td>0    -0.374302\n",
       "1    -0.327562\n",
       "2    -0.310586\n",
       "3...</td>\n",
       "      <td>0    -0.362125\n",
       "1    -0.356789\n",
       "2    -0.477019\n",
       "3...</td>\n",
       "      <td>0    -0.400335\n",
       "1    -0.445498\n",
       "2    -0.367101\n",
       "3...</td>\n",
       "      <td>0    -0.137429\n",
       "1    -0.060423\n",
       "2    -0.120849\n",
       "3...</td>\n",
       "      <td>0    -0.000830\n",
       "1    -0.007899\n",
       "2     0.066952\n",
       "3...</td>\n",
       "      <td>0     0.053888\n",
       "1     0.041605\n",
       "2    -0.023859\n",
       "3...</td>\n",
       "      <td>0    -0.237630\n",
       "1    -0.231087\n",
       "2    -0.224317\n",
       "3...</td>\n",
       "      <td>0     0.120636\n",
       "1     0.121053\n",
       "2     0.175298\n",
       "3...</td>\n",
       "      <td>0     0.193254\n",
       "1     0.202386\n",
       "2     0.156670\n",
       "3...</td>\n",
       "    </tr>\n",
       "    <tr>\n",
       "      <th>3</th>\n",
       "      <td>0     1.160837\n",
       "1     1.217979\n",
       "2     1.234654\n",
       "3...</td>\n",
       "      <td>0     0.078806\n",
       "1    -0.043693\n",
       "2    -0.107083\n",
       "3...</td>\n",
       "      <td>0     0.237706\n",
       "1     0.378571\n",
       "2     0.504189\n",
       "3...</td>\n",
       "      <td>0    -0.010878\n",
       "1    -0.055125\n",
       "2    -0.151549\n",
       "3...</td>\n",
       "      <td>0    -0.393053\n",
       "1    -0.399601\n",
       "2    -0.409837\n",
       "3...</td>\n",
       "      <td>0    -0.744686\n",
       "1    -0.756213\n",
       "2    -0.666554\n",
       "3...</td>\n",
       "      <td>0     0.173073\n",
       "1     0.189754\n",
       "2     0.176855\n",
       "3...</td>\n",
       "      <td>0    -0.012922\n",
       "1     0.014265\n",
       "2     0.024257\n",
       "3...</td>\n",
       "      <td>0    -0.071948\n",
       "1    -0.099093\n",
       "2    -0.085188\n",
       "3...</td>\n",
       "      <td>0     0.028707\n",
       "1     0.038970\n",
       "2     0.005654\n",
       "3...</td>\n",
       "      <td>0     0.074820\n",
       "1     0.049702\n",
       "2    -0.007566\n",
       "3...</td>\n",
       "      <td>0     0.146297\n",
       "1     0.164537\n",
       "2     0.168465\n",
       "3...</td>\n",
       "    </tr>\n",
       "    <tr>\n",
       "      <th>4</th>\n",
       "      <td>0     1.665670\n",
       "1     1.685376\n",
       "2     1.541171\n",
       "3...</td>\n",
       "      <td>0    -0.251224\n",
       "1    -0.305126\n",
       "2    -0.238987\n",
       "3...</td>\n",
       "      <td>0     0.309710\n",
       "1     0.339418\n",
       "2     0.295073\n",
       "3...</td>\n",
       "      <td>0    -0.371666\n",
       "1    -0.455499\n",
       "2    -0.447638\n",
       "3...</td>\n",
       "      <td>0    -0.311727\n",
       "1    -0.259315\n",
       "2    -0.200163\n",
       "3...</td>\n",
       "      <td>0    -0.520932\n",
       "1    -0.502600\n",
       "2    -0.495071\n",
       "3...</td>\n",
       "      <td>0    -0.215930\n",
       "1    -0.195365\n",
       "2    -0.189373\n",
       "3...</td>\n",
       "      <td>0     0.255584\n",
       "1     0.185427\n",
       "2     0.123212\n",
       "3...</td>\n",
       "      <td>0     0.048732\n",
       "1     0.076114\n",
       "2     0.130086\n",
       "3...</td>\n",
       "      <td>0    -0.115333\n",
       "1    -0.106838\n",
       "2    -0.125721\n",
       "3...</td>\n",
       "      <td>0     0.063014\n",
       "1    -0.036998\n",
       "2    -0.100226\n",
       "3...</td>\n",
       "      <td>0     0.156787\n",
       "1     0.200715\n",
       "2     0.232676\n",
       "3...</td>\n",
       "    </tr>\n",
       "  </tbody>\n",
       "</table>\n",
       "</div>"
      ],
      "text/plain": [
       "                                               dim_0  \\\n",
       "0  0     1.860936\n",
       "1     1.891651\n",
       "2     1.939205\n",
       "3...   \n",
       "1  0     1.303905\n",
       "1     1.288280\n",
       "2     1.332021\n",
       "3...   \n",
       "2  0     1.462484\n",
       "1     1.309815\n",
       "2     1.418207\n",
       "3...   \n",
       "3  0     1.160837\n",
       "1     1.217979\n",
       "2     1.234654\n",
       "3...   \n",
       "4  0     1.665670\n",
       "1     1.685376\n",
       "2     1.541171\n",
       "3...   \n",
       "\n",
       "                                               dim_1  \\\n",
       "0  0    -0.207383\n",
       "1    -0.193249\n",
       "2    -0.239664\n",
       "3...   \n",
       "1  0     0.067256\n",
       "1     0.018672\n",
       "2    -0.058744\n",
       "3...   \n",
       "2  0     0.174066\n",
       "1     0.120183\n",
       "2     0.015721\n",
       "3...   \n",
       "3  0     0.078806\n",
       "1    -0.043693\n",
       "2    -0.107083\n",
       "3...   \n",
       "4  0    -0.251224\n",
       "1    -0.305126\n",
       "2    -0.238987\n",
       "3...   \n",
       "\n",
       "                                               dim_2  \\\n",
       "0  0     0.261557\n",
       "1     0.235363\n",
       "2     0.258561\n",
       "3...   \n",
       "1  0     0.597720\n",
       "1     0.631579\n",
       "2     0.601928\n",
       "3...   \n",
       "2  0     0.505133\n",
       "1     0.503046\n",
       "2     0.589994\n",
       "3...   \n",
       "3  0     0.237706\n",
       "1     0.378571\n",
       "2     0.504189\n",
       "3...   \n",
       "4  0     0.309710\n",
       "1     0.339418\n",
       "2     0.295073\n",
       "3...   \n",
       "\n",
       "                                               dim_3  \\\n",
       "0  0    -0.214562\n",
       "1    -0.249118\n",
       "2    -0.291458\n",
       "3...   \n",
       "1  0    -0.271474\n",
       "1    -0.355112\n",
       "2    -0.347913\n",
       "3...   \n",
       "2  0    -0.374302\n",
       "1    -0.327562\n",
       "2    -0.310586\n",
       "3...   \n",
       "3  0    -0.010878\n",
       "1    -0.055125\n",
       "2    -0.151549\n",
       "3...   \n",
       "4  0    -0.371666\n",
       "1    -0.455499\n",
       "2    -0.447638\n",
       "3...   \n",
       "\n",
       "                                               dim_4  \\\n",
       "0  0    -0.171253\n",
       "1    -0.112890\n",
       "2    -0.041053\n",
       "3...   \n",
       "1  0    -0.236808\n",
       "1    -0.119216\n",
       "2    -0.053463\n",
       "3...   \n",
       "2  0    -0.362125\n",
       "1    -0.356789\n",
       "2    -0.477019\n",
       "3...   \n",
       "3  0    -0.393053\n",
       "1    -0.399601\n",
       "2    -0.409837\n",
       "3...   \n",
       "4  0    -0.311727\n",
       "1    -0.259315\n",
       "2    -0.200163\n",
       "3...   \n",
       "\n",
       "                                               dim_5  \\\n",
       "0  0    -0.118167\n",
       "1    -0.112238\n",
       "2    -0.102034\n",
       "3...   \n",
       "1  0    -0.411125\n",
       "1    -0.434425\n",
       "2    -0.421753\n",
       "3...   \n",
       "2  0    -0.400335\n",
       "1    -0.445498\n",
       "2    -0.367101\n",
       "3...   \n",
       "3  0    -0.744686\n",
       "1    -0.756213\n",
       "2    -0.666554\n",
       "3...   \n",
       "4  0    -0.520932\n",
       "1    -0.502600\n",
       "2    -0.495071\n",
       "3...   \n",
       "\n",
       "                                               dim_6  \\\n",
       "0  0    -0.277557\n",
       "1    -0.311997\n",
       "2    -0.383300\n",
       "3...   \n",
       "1  0    -0.014826\n",
       "1    -0.078036\n",
       "2    -0.028479\n",
       "3...   \n",
       "2  0    -0.137429\n",
       "1    -0.060423\n",
       "2    -0.120849\n",
       "3...   \n",
       "3  0     0.173073\n",
       "1     0.189754\n",
       "2     0.176855\n",
       "3...   \n",
       "4  0    -0.215930\n",
       "1    -0.195365\n",
       "2    -0.189373\n",
       "3...   \n",
       "\n",
       "                                               dim_7  \\\n",
       "0  0     0.025668\n",
       "1    -0.027122\n",
       "2     0.019013\n",
       "3...   \n",
       "1  0     0.113175\n",
       "1     0.178121\n",
       "2     0.145073\n",
       "3...   \n",
       "2  0    -0.000830\n",
       "1    -0.007899\n",
       "2     0.066952\n",
       "3...   \n",
       "3  0    -0.012922\n",
       "1     0.014265\n",
       "2     0.024257\n",
       "3...   \n",
       "4  0     0.255584\n",
       "1     0.185427\n",
       "2     0.123212\n",
       "3...   \n",
       "\n",
       "                                               dim_8  \\\n",
       "0  0     0.126701\n",
       "1     0.171457\n",
       "2     0.169510\n",
       "3...   \n",
       "1  0    -0.058230\n",
       "1    -0.106430\n",
       "2    -0.159488\n",
       "3...   \n",
       "2  0     0.053888\n",
       "1     0.041605\n",
       "2    -0.023859\n",
       "3...   \n",
       "3  0    -0.071948\n",
       "1    -0.099093\n",
       "2    -0.085188\n",
       "3...   \n",
       "4  0     0.048732\n",
       "1     0.076114\n",
       "2     0.130086\n",
       "3...   \n",
       "\n",
       "                                               dim_9  \\\n",
       "0  0    -0.306756\n",
       "1    -0.289431\n",
       "2    -0.314894\n",
       "3...   \n",
       "1  0    -0.173138\n",
       "1    -0.181910\n",
       "2    -0.127751\n",
       "3...   \n",
       "2  0    -0.237630\n",
       "1    -0.231087\n",
       "2    -0.224317\n",
       "3...   \n",
       "3  0     0.028707\n",
       "1     0.038970\n",
       "2     0.005654\n",
       "3...   \n",
       "4  0    -0.115333\n",
       "1    -0.106838\n",
       "2    -0.125721\n",
       "3...   \n",
       "\n",
       "                                              dim_10  \\\n",
       "0  0    -0.213076\n",
       "1    -0.247722\n",
       "2    -0.227908\n",
       "3...   \n",
       "1  0     0.093058\n",
       "1     0.093031\n",
       "2     0.019092\n",
       "3...   \n",
       "2  0     0.120636\n",
       "1     0.121053\n",
       "2     0.175298\n",
       "3...   \n",
       "3  0     0.074820\n",
       "1     0.049702\n",
       "2    -0.007566\n",
       "3...   \n",
       "4  0     0.063014\n",
       "1    -0.036998\n",
       "2    -0.100226\n",
       "3...   \n",
       "\n",
       "                                              dim_11  \n",
       "0  0     0.088728\n",
       "1     0.093011\n",
       "2     0.074638\n",
       "3...  \n",
       "1  0     0.099247\n",
       "1     0.099183\n",
       "2     0.113546\n",
       "3...  \n",
       "2  0     0.193254\n",
       "1     0.202386\n",
       "2     0.156670\n",
       "3...  \n",
       "3  0     0.146297\n",
       "1     0.164537\n",
       "2     0.168465\n",
       "3...  \n",
       "4  0     0.156787\n",
       "1     0.200715\n",
       "2     0.232676\n",
       "3...  "
      ]
     },
     "execution_count": 11,
     "metadata": {},
     "output_type": "execute_result"
    }
   ],
   "source": [
    "X_train.head()"
   ]
  },
  {
   "cell_type": "code",
   "execution_count": 12,
   "id": "69ff6660-9db5-43c8-ac67-f25417956afb",
   "metadata": {},
   "outputs": [
    {
     "data": {
      "text/plain": [
       "array(['0', '0', '0', '0', '0'], dtype='<U1')"
      ]
     },
     "execution_count": 12,
     "metadata": {},
     "output_type": "execute_result"
    }
   ],
   "source": [
    "y_train[:5]"
   ]
  },
  {
   "cell_type": "code",
   "execution_count": 15,
   "id": "b783c698-ddef-4d29-9f84-a8ddfc7bf527",
   "metadata": {},
   "outputs": [
    {
     "data": {
      "text/plain": [
       "array(['0', '1', '2', '3', '4', '5', '6', '7', '8'], dtype='<U1')"
      ]
     },
     "execution_count": 15,
     "metadata": {},
     "output_type": "execute_result"
    }
   ],
   "source": [
    "np.unique(y_train)"
   ]
  },
  {
   "cell_type": "markdown",
   "id": "d7df7611-cc7c-4f85-ab55-4086254b741f",
   "metadata": {},
   "source": [
    "### 3.2 Initialise ROCKET and Transform the Training Data"
   ]
  },
  {
   "cell_type": "code",
   "execution_count": 16,
   "id": "2be0277a-1bb6-48c7-915d-3c29b4dd6332",
   "metadata": {},
   "outputs": [],
   "source": [
    "rocket = Rocket()\n",
    "rocket.fit(X_train)\n",
    "X_train_transform = rocket.transform(X_train)"
   ]
  },
  {
   "cell_type": "markdown",
   "id": "9fd19dbf-272f-4548-a6e9-0973d43f550c",
   "metadata": {},
   "source": [
    "### 3.3 Fit a Classifier"
   ]
  },
  {
   "cell_type": "code",
   "execution_count": 17,
   "id": "14b40dd0-f9cc-4327-a6a4-2436ef358744",
   "metadata": {},
   "outputs": [
    {
     "data": {
      "text/plain": [
       "RidgeClassifierCV(alphas=array([1.00000000e-03, 4.64158883e-03, 2.15443469e-02, 1.00000000e-01,\n",
       "       4.64158883e-01, 2.15443469e+00, 1.00000000e+01, 4.64158883e+01,\n",
       "       2.15443469e+02, 1.00000000e+03]),\n",
       "                  normalize=True)"
      ]
     },
     "execution_count": 17,
     "metadata": {},
     "output_type": "execute_result"
    }
   ],
   "source": [
    "classifier = RidgeClassifierCV(alphas=np.logspace(-3, 3, 10), normalize=True)\n",
    "classifier.fit(X_train_transform, y_train)"
   ]
  },
  {
   "cell_type": "markdown",
   "id": "4055d0de-930b-4954-a4b5-3f4a6366f536",
   "metadata": {},
   "source": [
    "### 3.4 Load and Transform the Test Data"
   ]
  },
  {
   "cell_type": "code",
   "execution_count": 18,
   "id": "ac206e7b-e895-4cc6-9ff2-d21ea44b0e09",
   "metadata": {},
   "outputs": [],
   "source": [
    "X_test, y_test = load_japanese_vowels(split=\"test\", return_X_y=True)\n",
    "X_test_transform = rocket.transform(X_test)"
   ]
  },
  {
   "cell_type": "markdown",
   "id": "db4888c9-d6dd-4133-8e07-948c529ed04e",
   "metadata": {},
   "source": [
    "### 3.5 Classify the Test Data"
   ]
  },
  {
   "cell_type": "code",
   "execution_count": 19,
   "id": "67374c62-f1cd-41f3-a967-eae690e69a09",
   "metadata": {},
   "outputs": [
    {
     "data": {
      "text/plain": [
       "1.0"
      ]
     },
     "execution_count": 19,
     "metadata": {},
     "output_type": "execute_result"
    }
   ],
   "source": [
    "classifier.score(X_test_transform, y_test)"
   ]
  },
  {
   "cell_type": "markdown",
   "id": "ebf83fb8-7986-4469-b67a-bdccee2f4d1b",
   "metadata": {},
   "source": [
    "## 4 Pipeline Example\n",
    "\n",
    "We can use ROCKET together with `RidgeClassifierCV` (or another classifier) in a pipeline. We can then use the pipeline like a self-contained classifier, with a single call to `fit`, and without having to separately transform the data, etc."
   ]
  },
  {
   "cell_type": "markdown",
   "id": "53078c92-64c2-45a0-b50d-e0e5736838e7",
   "metadata": {},
   "source": [
    "### 4.1 Initialise the Pipeline"
   ]
  },
  {
   "cell_type": "code",
   "execution_count": 20,
   "id": "337ec57e-86b7-4689-bca6-f7208cbdae14",
   "metadata": {},
   "outputs": [],
   "source": [
    "rocket_pipeline = make_pipeline(\n",
    "    Rocket(), \n",
    "    RidgeClassifierCV(alphas=np.logspace(-3, 3, 10), normalize=True)\n",
    ")"
   ]
  },
  {
   "cell_type": "markdown",
   "id": "6ecc5c0b-dd36-47df-a9ef-3205643d7b01",
   "metadata": {},
   "source": [
    "### 4.2 Load and Fit the Training Data"
   ]
  },
  {
   "cell_type": "code",
   "execution_count": 21,
   "id": "60f50ebb-2be3-44ba-8bd3-e66b3b8fd63d",
   "metadata": {},
   "outputs": [],
   "source": [
    "X_train, y_train = load_arrow_head(split=\"train\", return_X_y=True)"
   ]
  },
  {
   "cell_type": "code",
   "execution_count": 22,
   "id": "d7405d1d-eac4-4e4c-b3d5-88db79e173ff",
   "metadata": {},
   "outputs": [
    {
     "data": {
      "text/plain": [
       "Pipeline(steps=[('rocket', Rocket()),\n",
       "                ('ridgeclassifiercv',\n",
       "                 RidgeClassifierCV(alphas=array([1.00000000e-03, 4.64158883e-03, 2.15443469e-02, 1.00000000e-01,\n",
       "       4.64158883e-01, 2.15443469e+00, 1.00000000e+01, 4.64158883e+01,\n",
       "       2.15443469e+02, 1.00000000e+03]),\n",
       "                                   normalize=True))])"
      ]
     },
     "execution_count": 22,
     "metadata": {},
     "output_type": "execute_result"
    }
   ],
   "source": [
    "# it is necessary to pass y_train to the pipeline\n",
    "# y_train is not used for the transform, but it is used by the classifier\n",
    "rocket_pipeline.fit(X_train, y_train)"
   ]
  },
  {
   "cell_type": "markdown",
   "id": "b0c1bf86-25d4-4b7c-b618-1b42d66af22a",
   "metadata": {},
   "source": [
    "### 4.3 Load and Classify the Test Data"
   ]
  },
  {
   "cell_type": "code",
   "execution_count": 23,
   "id": "5b452caa-52d2-40a6-a293-3e77b67f90fd",
   "metadata": {},
   "outputs": [
    {
     "data": {
      "text/plain": [
       "0.8"
      ]
     },
     "execution_count": 23,
     "metadata": {},
     "output_type": "execute_result"
    }
   ],
   "source": [
    "X_test, y_test = load_arrow_head(split=\"test\", return_X_y=True)\n",
    "\n",
    "rocket_pipeline.score(X_test, y_test)"
   ]
  }
 ],
 "metadata": {
  "kernelspec": {
   "display_name": "Python 3",
   "language": "python",
   "name": "python3"
  },
  "language_info": {
   "codemirror_mode": {
    "name": "ipython",
    "version": 3
   },
   "file_extension": ".py",
   "mimetype": "text/x-python",
   "name": "python",
   "nbconvert_exporter": "python",
   "pygments_lexer": "ipython3",
   "version": "3.8.11"
  }
 },
 "nbformat": 4,
 "nbformat_minor": 5
}
