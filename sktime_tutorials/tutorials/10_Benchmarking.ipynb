{
 "cells": [
  {
   "cell_type": "markdown",
   "id": "4e50f4f4-31df-46be-a528-caa1859dbad9",
   "metadata": {},
   "source": [
    "# Benchmarking with sktime\n",
    "\n",
    "From: https://www.sktime.org/en/latest/examples/04_benchmarking.html"
   ]
  },
  {
   "cell_type": "markdown",
   "id": "00c87351-9a76-465b-a82a-57a8cb48dbc9",
   "metadata": {},
   "source": [
    "## Overview\n",
    "\n",
    "The benchmarking modules allows you to easily orchestrate benchmarking experiments in which you want to compare the performance of one or more algorithms over one or more data sets. It also provides a number of statistical tests to check if observed performance differences are statistically significant.\n",
    "\n",
    "#### 📚 The benchmarking modules is based on [mlaut](https://github.com/alan-turing-institute/mlaut)."
   ]
  },
  {
   "cell_type": "markdown",
   "id": "5d45e6bb-bb2d-47a9-9524-de6232b4b612",
   "metadata": {},
   "source": [
    "## Preliminaries"
   ]
  },
  {
   "cell_type": "code",
   "execution_count": 1,
   "id": "6a808400-a1d0-4ace-9cf8-85eead20713b",
   "metadata": {},
   "outputs": [],
   "source": [
    "# import required functions and classes\n",
    "import os\n",
    "\n",
    "from sklearn.metrics import accuracy_score\n",
    "\n",
    "from sktime.benchmarking.data import UEADataset, make_datasets\n",
    "from sktime.benchmarking.evaluation import Evaluator\n",
    "from sktime.benchmarking.metrics import PairwiseMetric\n",
    "from sktime.benchmarking.orchestration import Orchestrator\n",
    "from sktime.benchmarking.results import HDDResults\n",
    "from sktime.benchmarking.strategies import TSCStrategy\n",
    "from sktime.benchmarking.tasks import TSCTask\n",
    "\n",
    "from sktime.classification.interval_based import (\n",
    "    RandomIntervalSpectralForest,\n",
    "    TimeSeriesForestClassifier,\n",
    ")\n",
    "\n",
    "from sktime.series_as_features.model_selection import PresplitFilesCV"
   ]
  },
  {
   "cell_type": "markdown",
   "id": "4468ff5d-0fab-4407-88bd-47d05102c69b",
   "metadata": {},
   "source": [
    "### Set up paths"
   ]
  },
  {
   "cell_type": "code",
   "execution_count": 2,
   "id": "1d4347f6-e815-478e-9ba9-fffeb1d54744",
   "metadata": {},
   "outputs": [],
   "source": [
    "# set up paths to data and results folder\n",
    "import sktime\n",
    "\n",
    "DATA_PATH = os.path.join(os.path.dirname(sktime.__file__), \"datasets/data\")\n",
    "RESULTS_PATH = \"results\""
   ]
  },
  {
   "cell_type": "markdown",
   "id": "47bbea1c-78b3-46ed-a5a3-943c0eeffafe",
   "metadata": {},
   "source": [
    "### Create pointers to datasets on hard drive\n",
    "\n",
    "Here we use the UEADataset which follows the [UEA/UCR format](http://www.timeseriesclassification.com/) and some of the time series classification datasets included in sktime."
   ]
  },
  {
   "cell_type": "code",
   "execution_count": 3,
   "id": "c6587e14-b209-42f5-a33b-f758c0702acb",
   "metadata": {},
   "outputs": [],
   "source": [
    "# Create individual pointers to dataset on the disk\n",
    "datasets = [\n",
    "    UEADataset(path=DATA_PATH, name=\"ArrowHead\"),\n",
    "    UEADataset(path=DATA_PATH, name=\"ItalyPowerDemand\"),\n",
    "]"
   ]
  },
  {
   "cell_type": "code",
   "execution_count": 6,
   "id": "c2be439f-d8d6-4dc9-a059-93e531e8928c",
   "metadata": {},
   "outputs": [
    {
     "data": {
      "text/plain": [
       "[UEADataset(name=ArrowHead), UEADataset(name=ItalyPowerDemand)]"
      ]
     },
     "execution_count": 6,
     "metadata": {},
     "output_type": "execute_result"
    }
   ],
   "source": [
    "# Alternatively, we can use a helper function to create them automatically\n",
    "datasets = make_datasets(\n",
    "    path=DATA_PATH, \n",
    "    dataset_cls=UEADataset, \n",
    "    names=[\"ArrowHead\", \"ItalyPowerDemand\"]\n",
    ")\n",
    "datasets"
   ]
  },
  {
   "cell_type": "markdown",
   "id": "c882907e-360a-47e4-a6a9-75b8020d1ec7",
   "metadata": {},
   "source": [
    "## For each dataset, we also need to specify a learning task\n",
    "\n",
    "**The learning task encapsulate all the information and instructions that define the problem we’re trying to solve.** \n",
    "\n",
    "In our case, we’re trying to solve classification tasks and the key information we need is the *name of the target variable* in the data set that we’re trying to predict. Here all tasks are the same because the target variable has the same name in all data sets."
   ]
  },
  {
   "cell_type": "code",
   "execution_count": 7,
   "id": "10f6cabb-10d3-4e29-92f2-9618e247cdb8",
   "metadata": {},
   "outputs": [
    {
     "data": {
      "text/plain": [
       "[TSCTask(features=None, metadata=None, target='target'),\n",
       " TSCTask(features=None, metadata=None, target='target')]"
      ]
     },
     "execution_count": 7,
     "metadata": {},
     "output_type": "execute_result"
    }
   ],
   "source": [
    "tasks = [TSCTask(target=\"target\") for _ in range(len(datasets))]\n",
    "tasks"
   ]
  },
  {
   "cell_type": "markdown",
   "id": "15064060-5324-482a-bf98-f538c986890d",
   "metadata": {},
   "source": [
    "### Specify learning strategies\n",
    "\n",
    "Having set up the data sets and corresponding learning tasks, we need to define the algorithms we want to evaluate and compare.\n"
   ]
  },
  {
   "cell_type": "code",
   "execution_count": 8,
   "id": "88059e18-370c-40a4-90d5-17b1935d55a6",
   "metadata": {},
   "outputs": [
    {
     "data": {
      "text/plain": [
       "[TSCStrategy(TimeSeriesForestClassifier(estimator=TimeSeriesForestClassifier(n_estimators=10), name='tsf')),\n",
       " TSCStrategy(RandomIntervalSpectralForest(estimator=RandomIntervalSpectralForest(n_estimators=10),\n",
       "       name='rise'))]"
      ]
     },
     "execution_count": 8,
     "metadata": {},
     "output_type": "execute_result"
    }
   ],
   "source": [
    "# Specify learning strategies\n",
    "strategies = [\n",
    "    TSCStrategy(TimeSeriesForestClassifier(n_estimators=10), name=\"tsf\"),\n",
    "    TSCStrategy(RandomIntervalSpectralForest(n_estimators=10), name=\"rise\"),\n",
    "]\n",
    "strategies"
   ]
  },
  {
   "cell_type": "markdown",
   "id": "1b9e1bc0-fded-4bc8-86ef-39113adb08b2",
   "metadata": {},
   "source": [
    "### Set up a results object\n",
    "\n",
    "The results object encapsulates where and how benchmarking results are stored, here we choose to output them to the hard drive."
   ]
  },
  {
   "cell_type": "code",
   "execution_count": 9,
   "id": "47a3c0af-aefd-4e6f-a8a1-d290939c6682",
   "metadata": {},
   "outputs": [],
   "source": [
    "# Specify results object which manages the output of the benchmarking\n",
    "results = HDDResults(path=RESULTS_PATH)"
   ]
  },
  {
   "cell_type": "markdown",
   "id": "ce7f1da4-3219-4bbf-86a4-c2527140b98e",
   "metadata": {},
   "source": [
    "## Run benchmarking\n",
    "\n",
    "Finally, we pass all specifications to the orchestrator. The orchestrator will automatically train and evaluate all algorithms on all data sets and write out the results."
   ]
  },
  {
   "cell_type": "code",
   "execution_count": 11,
   "id": "329136d3-348d-49bb-bf6c-1044a9f01758",
   "metadata": {},
   "outputs": [
    {
     "name": "stderr",
     "output_type": "stream",
     "text": [
      "strategy: 1/2 - tsf on CV-fold: 0/0 of dataset: 1/2 - ArrowHead\n",
      "strategy: 2/2 - rise on CV-fold: 0/0 of dataset: 1/2 - ArrowHead\n",
      "strategy: 1/2 - tsf on CV-fold: 0/0 of dataset: 2/2 - ItalyPowerDemand\n",
      "strategy: 2/2 - rise on CV-fold: 0/0 of dataset: 2/2 - ItalyPowerDemand\n"
     ]
    }
   ],
   "source": [
    "# run orchestrator\n",
    "orchestrator = Orchestrator(\n",
    "    datasets=datasets,\n",
    "    tasks=tasks,\n",
    "    strategies=strategies,\n",
    "    cv=PresplitFilesCV(),\n",
    "    results=results,\n",
    ")\n",
    "\n",
    "orchestrator.fit_predict(\n",
    "    save_fitted_strategies=False, \n",
    "    overwrite_predictions=True,\n",
    "    verbose=True,\n",
    ")"
   ]
  },
  {
   "cell_type": "markdown",
   "id": "494aedbf-2099-4ff5-a0a2-c6ce6a6a808c",
   "metadata": {},
   "source": [
    "## Evaluate and compare results\n",
    "\n",
    "Having run the orchestrator, we can evaluate and compare the prediction strategies."
   ]
  },
  {
   "cell_type": "code",
   "execution_count": 12,
   "id": "94b50063-c518-4424-963c-476c5ce5d34c",
   "metadata": {},
   "outputs": [
    {
     "data": {
      "text/html": [
       "<div>\n",
       "<style scoped>\n",
       "    .dataframe tbody tr th:only-of-type {\n",
       "        vertical-align: middle;\n",
       "    }\n",
       "\n",
       "    .dataframe tbody tr th {\n",
       "        vertical-align: top;\n",
       "    }\n",
       "\n",
       "    .dataframe thead th {\n",
       "        text-align: right;\n",
       "    }\n",
       "</style>\n",
       "<table border=\"1\" class=\"dataframe\">\n",
       "  <thead>\n",
       "    <tr style=\"text-align: right;\">\n",
       "      <th></th>\n",
       "      <th>strategy</th>\n",
       "      <th>accuracy_mean</th>\n",
       "      <th>accuracy_stderr</th>\n",
       "    </tr>\n",
       "  </thead>\n",
       "  <tbody>\n",
       "    <tr>\n",
       "      <th>0</th>\n",
       "      <td>rise</td>\n",
       "      <td>0.858076</td>\n",
       "      <td>0.019439</td>\n",
       "    </tr>\n",
       "    <tr>\n",
       "      <th>1</th>\n",
       "      <td>tsf</td>\n",
       "      <td>0.836735</td>\n",
       "      <td>0.020209</td>\n",
       "    </tr>\n",
       "  </tbody>\n",
       "</table>\n",
       "</div>"
      ],
      "text/plain": [
       "  strategy  accuracy_mean  accuracy_stderr\n",
       "0     rise       0.858076         0.019439\n",
       "1      tsf       0.836735         0.020209"
      ]
     },
     "execution_count": 12,
     "metadata": {},
     "output_type": "execute_result"
    }
   ],
   "source": [
    "evaluator = Evaluator(results)\n",
    "\n",
    "metric = PairwiseMetric(\n",
    "    func=accuracy_score, \n",
    "    name=\"accuracy\"\n",
    ")\n",
    "\n",
    "metrics_by_strategy = evaluator.evaluate(metric=metric)\n",
    "metrics_by_strategy.head()"
   ]
  },
  {
   "cell_type": "markdown",
   "id": "22e29d7d-4a75-49f9-8eb9-160200cce67f",
   "metadata": {},
   "source": [
    "The evaluator offers a number of additional methods for evaluating and comparing strategies, including statistical hypothesis tests and visualisation tools, for example:"
   ]
  },
  {
   "cell_type": "code",
   "execution_count": 13,
   "id": "2e708bb7-0e94-4002-bcf6-b4afe443c9ea",
   "metadata": {},
   "outputs": [
    {
     "data": {
      "text/html": [
       "<div>\n",
       "<style scoped>\n",
       "    .dataframe tbody tr th:only-of-type {\n",
       "        vertical-align: middle;\n",
       "    }\n",
       "\n",
       "    .dataframe tbody tr th {\n",
       "        vertical-align: top;\n",
       "    }\n",
       "\n",
       "    .dataframe thead th {\n",
       "        text-align: right;\n",
       "    }\n",
       "</style>\n",
       "<table border=\"1\" class=\"dataframe\">\n",
       "  <thead>\n",
       "    <tr style=\"text-align: right;\">\n",
       "      <th></th>\n",
       "      <th>strategy</th>\n",
       "      <th>accuracy_mean_rank</th>\n",
       "    </tr>\n",
       "  </thead>\n",
       "  <tbody>\n",
       "    <tr>\n",
       "      <th>0</th>\n",
       "      <td>rise</td>\n",
       "      <td>1.5</td>\n",
       "    </tr>\n",
       "    <tr>\n",
       "      <th>1</th>\n",
       "      <td>tsf</td>\n",
       "      <td>1.5</td>\n",
       "    </tr>\n",
       "  </tbody>\n",
       "</table>\n",
       "</div>"
      ],
      "text/plain": [
       "  strategy  accuracy_mean_rank\n",
       "0     rise                 1.5\n",
       "1      tsf                 1.5"
      ]
     },
     "execution_count": 13,
     "metadata": {},
     "output_type": "execute_result"
    }
   ],
   "source": [
    "evaluator.rank()"
   ]
  },
  {
   "cell_type": "markdown",
   "id": "194d4f2d-d962-454c-92bc-d8a103fdbc4a",
   "metadata": {},
   "source": [
    "Currently, the following functions are implemented:"
   ]
  },
  {
   "cell_type": "markdown",
   "id": "25c1532d-1da8-4881-9f2c-3068772253d4",
   "metadata": {},
   "source": [
    "* `evaluator.plot_boxplots()`\n",
    "* `evaluator.ranks()`\n",
    "* `evaluator.t_test()`\n",
    "* `evaluator.sign_test()`\n",
    "* `evaluator.ranksum_test()`\n",
    "* `evaluator.t_test_with_bonferroni_correction()`\n",
    "* `evaluator.wilcoxon_test()`\n",
    "* `evaluator.friedman_test()`\n",
    "* `evaluator.nemenyi()`"
   ]
  },
  {
   "cell_type": "code",
   "execution_count": null,
   "id": "9dabd167-6625-41e4-a589-535f0283bc5e",
   "metadata": {},
   "outputs": [],
   "source": []
  }
 ],
 "metadata": {
  "kernelspec": {
   "display_name": "Python 3",
   "language": "python",
   "name": "python3"
  },
  "language_info": {
   "codemirror_mode": {
    "name": "ipython",
    "version": 3
   },
   "file_extension": ".py",
   "mimetype": "text/x-python",
   "name": "python",
   "nbconvert_exporter": "python",
   "pygments_lexer": "ipython3",
   "version": "3.8.11"
  }
 },
 "nbformat": 4,
 "nbformat_minor": 5
}
