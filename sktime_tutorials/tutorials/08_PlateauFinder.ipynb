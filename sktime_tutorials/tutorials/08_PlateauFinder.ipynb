{
 "cells": [
  {
   "cell_type": "markdown",
   "id": "4aa36850-01e4-41ab-8b2b-9ab81cac80ea",
   "metadata": {},
   "source": [
    "# Demo of the PlateauFinder transformer\n",
    "\n",
    "From: https://www.sktime.org/en/latest/examples/plateau_finder.html"
   ]
  },
  {
   "cell_type": "markdown",
   "id": "0e8fda16-9bf4-4bdb-b94f-ef0e3dfc4653",
   "metadata": {},
   "source": [
    "## Overview\n",
    "\n",
    "What does the PlateauFinder do?\n",
    "\n",
    "It searches for time series segments of a given minimum length with a constant given value (i.e. plateaus) and returns their starting points (on the time series index) and lengths.\n",
    "\n",
    "The value to search for can also be set to `np.nan` or `np.inf` to find missing values,\n",
    "\n",
    "The minimum length of segments to consider can also be specified; if set to 1, returns as starting points all locations of the given value."
   ]
  },
  {
   "cell_type": "code",
   "execution_count": 1,
   "id": "58754ec9-2db6-42d5-8909-c4abeea1f64d",
   "metadata": {},
   "outputs": [],
   "source": [
    "import numpy as np\n",
    "import pandas as pd\n",
    "\n",
    "from sktime.transformations.panel.summarize import PlateauFinder"
   ]
  },
  {
   "cell_type": "code",
   "execution_count": 2,
   "id": "dfff3fd0-1cf6-4263-b393-60027b5af800",
   "metadata": {},
   "outputs": [
    {
     "data": {
      "text/html": [
       "<div>\n",
       "<style scoped>\n",
       "    .dataframe tbody tr th:only-of-type {\n",
       "        vertical-align: middle;\n",
       "    }\n",
       "\n",
       "    .dataframe tbody tr th {\n",
       "        vertical-align: top;\n",
       "    }\n",
       "\n",
       "    .dataframe thead th {\n",
       "        text-align: right;\n",
       "    }\n",
       "</style>\n",
       "<table border=\"1\" class=\"dataframe\">\n",
       "  <thead>\n",
       "    <tr style=\"text-align: right;\">\n",
       "      <th></th>\n",
       "      <th>0</th>\n",
       "    </tr>\n",
       "  </thead>\n",
       "  <tbody>\n",
       "    <tr>\n",
       "      <th>0</th>\n",
       "      <td>0    NaN\n",
       "1    NaN\n",
       "2    3.0\n",
       "3    3.0\n",
       "4    NaN\n",
       "5...</td>\n",
       "    </tr>\n",
       "    <tr>\n",
       "      <th>1</th>\n",
       "      <td>0    0.0\n",
       "1    NaN\n",
       "2    NaN\n",
       "3    NaN\n",
       "4    NaN\n",
       "5...</td>\n",
       "    </tr>\n",
       "    <tr>\n",
       "      <th>2</th>\n",
       "      <td>0    2.0\n",
       "1    NaN\n",
       "2    NaN\n",
       "3    NaN\n",
       "4    2.0\n",
       "5...</td>\n",
       "    </tr>\n",
       "    <tr>\n",
       "      <th>3</th>\n",
       "      <td>0    1.0\n",
       "1    NaN\n",
       "2    NaN\n",
       "3    3.0\n",
       "4    NaN\n",
       "5...</td>\n",
       "    </tr>\n",
       "  </tbody>\n",
       "</table>\n",
       "</div>"
      ],
      "text/plain": [
       "                                                   0\n",
       "0  0    NaN\n",
       "1    NaN\n",
       "2    3.0\n",
       "3    3.0\n",
       "4    NaN\n",
       "5...\n",
       "1  0    0.0\n",
       "1    NaN\n",
       "2    NaN\n",
       "3    NaN\n",
       "4    NaN\n",
       "5...\n",
       "2  0    2.0\n",
       "1    NaN\n",
       "2    NaN\n",
       "3    NaN\n",
       "4    2.0\n",
       "5...\n",
       "3  0    1.0\n",
       "1    NaN\n",
       "2    NaN\n",
       "3    3.0\n",
       "4    NaN\n",
       "5..."
      ]
     },
     "execution_count": 2,
     "metadata": {},
     "output_type": "execute_result"
    }
   ],
   "source": [
    "# generate toy data\n",
    "X = pd.DataFrame(\n",
    "    pd.Series(\n",
    "        [\n",
    "            pd.Series([np.nan, np.nan, 3, 3, np.nan, 2, 2, 3]),\n",
    "            pd.Series([0, np.nan, np.nan, np.nan, np.nan, np.nan, 2, np.nan]),\n",
    "            pd.Series([2, np.nan, np.nan, np.nan, 2, np.nan, 3, 1]),\n",
    "            pd.Series([1, np.nan, np.nan, 3, np.nan, np.nan, 2, 0]),\n",
    "        ]\n",
    "    )\n",
    ")\n",
    "X.head()"
   ]
  },
  {
   "cell_type": "code",
   "execution_count": 3,
   "id": "0fc45bfc-9378-4891-9e5b-33ded6d8e048",
   "metadata": {},
   "outputs": [
    {
     "data": {
      "text/html": [
       "<div>\n",
       "<style scoped>\n",
       "    .dataframe tbody tr th:only-of-type {\n",
       "        vertical-align: middle;\n",
       "    }\n",
       "\n",
       "    .dataframe tbody tr th {\n",
       "        vertical-align: top;\n",
       "    }\n",
       "\n",
       "    .dataframe thead th {\n",
       "        text-align: right;\n",
       "    }\n",
       "</style>\n",
       "<table border=\"1\" class=\"dataframe\">\n",
       "  <thead>\n",
       "    <tr style=\"text-align: right;\">\n",
       "      <th></th>\n",
       "      <th>0_nan_starts</th>\n",
       "      <th>0_nan_lengths</th>\n",
       "    </tr>\n",
       "  </thead>\n",
       "  <tbody>\n",
       "    <tr>\n",
       "      <th>0</th>\n",
       "      <td>[0]</td>\n",
       "      <td>[2]</td>\n",
       "    </tr>\n",
       "    <tr>\n",
       "      <th>1</th>\n",
       "      <td>[1]</td>\n",
       "      <td>[5]</td>\n",
       "    </tr>\n",
       "    <tr>\n",
       "      <th>2</th>\n",
       "      <td>[1]</td>\n",
       "      <td>[3]</td>\n",
       "    </tr>\n",
       "    <tr>\n",
       "      <th>3</th>\n",
       "      <td>[1, 4]</td>\n",
       "      <td>[2, 2]</td>\n",
       "    </tr>\n",
       "  </tbody>\n",
       "</table>\n",
       "</div>"
      ],
      "text/plain": [
       "  0_nan_starts 0_nan_lengths\n",
       "0          [0]           [2]\n",
       "1          [1]           [5]\n",
       "2          [1]           [3]\n",
       "3       [1, 4]        [2, 2]"
      ]
     },
     "execution_count": 3,
     "metadata": {},
     "output_type": "execute_result"
    }
   ],
   "source": [
    "#  find plateaus\n",
    "t = PlateauFinder()\n",
    "Xt = t.fit_transform(X)\n",
    "Xt"
   ]
  },
  {
   "cell_type": "code",
   "execution_count": null,
   "id": "55d35aaa-119a-45ae-b7f2-b376df36d62c",
   "metadata": {},
   "outputs": [],
   "source": []
  }
 ],
 "metadata": {
  "kernelspec": {
   "display_name": "Python 3",
   "language": "python",
   "name": "python3"
  },
  "language_info": {
   "codemirror_mode": {
    "name": "ipython",
    "version": 3
   },
   "file_extension": ".py",
   "mimetype": "text/x-python",
   "name": "python",
   "nbconvert_exporter": "python",
   "pygments_lexer": "ipython3",
   "version": "3.8.11"
  }
 },
 "nbformat": 4,
 "nbformat_minor": 5
}
