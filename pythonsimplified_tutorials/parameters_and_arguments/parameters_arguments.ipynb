{
 "cells": [
  {
   "attachments": {},
   "cell_type": "markdown",
   "metadata": {},
   "source": [
    "**Note**\n",
    "\n",
    "If any of the features discussed below raise syntax errors, please try using the latest version of Python **3.8 or 3.9**.\n",
    "\n",
    "The `*` and `/` notation was introduced in **Python 3.8**:\n",
    "\n",
    "https://docs.python.org/3.8/whatsnew/3.8.html#positional-only-parameters"
   ]
  },
  {
   "cell_type": "code",
   "execution_count": 1,
   "metadata": {},
   "outputs": [],
   "source": [
    "def my_func(name, age, skill):\n",
    "    pass"
   ]
  },
  {
   "attachments": {},
   "cell_type": "markdown",
   "metadata": {},
   "source": [
    "![img](./parameters-arguments-1.webp)\n",
    "\n",
    "> **Important note**\n",
    ">\n",
    "> The correct terminology is:\n",
    ">\n",
    "> \"Parameters\" = the parameters as defined in function signature.\n",
    ">\n",
    "> \"Arguments\" = the values actually passed at function call.\n",
    "\n",
    "#### Types of *arguments*:\n",
    "\n",
    "![img](./parameters-arguments-2-1.webp)"
   ]
  },
  {
   "cell_type": "code",
   "execution_count": 2,
   "metadata": {},
   "outputs": [],
   "source": [
    "def my_func(name, age):\n",
    "    pass\n",
    "\n",
    "\n",
    "my_func(name=\"Chetan\", age=33)  # Keyword arguments.\n",
    "my_func('Chetan', 33)           # Positional arguments."
   ]
  },
  {
   "attachments": {},
   "cell_type": "markdown",
   "metadata": {},
   "source": [
    "#### Types of *parameters*:\n",
    "\n",
    "> There are **5 different types of parameters**. \n",
    "\n",
    "Let’s explore the syntax and understand how it works with examples.\n",
    "\n",
    "##### 1. Positional or Keyword"
   ]
  },
  {
   "cell_type": "code",
   "execution_count": 3,
   "metadata": {},
   "outputs": [],
   "source": [
    "# Positional or Keyword.\n",
    "def func(pos1, key1=None):\n",
    "    pass"
   ]
  },
  {
   "attachments": {},
   "cell_type": "markdown",
   "metadata": {},
   "source": [
    "Example:"
   ]
  },
  {
   "cell_type": "code",
   "execution_count": 4,
   "metadata": {},
   "outputs": [],
   "source": [
    "# In the below function definition, a & b are positional parameters \n",
    "# and c is the keyword parameter with a default value of 30.\n",
    "\n",
    "def func(a, b, c=30):\n",
    "    print(f\"a:{a}, b:{b}, c:{c}\")"
   ]
  },
  {
   "cell_type": "code",
   "execution_count": 5,
   "metadata": {},
   "outputs": [
    {
     "name": "stdout",
     "output_type": "stream",
     "text": [
      "a:10, b:20, c:30\n"
     ]
    }
   ],
   "source": [
    "# In the function call func(10, 20), arguments 10 and 20 are mapped to a & b by position. \n",
    "# Since c isn't passed as an argument, it gets the default value i.e. 30.\n",
    "\n",
    "func(10, 20)"
   ]
  },
  {
   "cell_type": "code",
   "execution_count": 7,
   "metadata": {},
   "outputs": [
    {
     "name": "stdout",
     "output_type": "stream",
     "text": [
      "a:20, b:10, c:30\n"
     ]
    }
   ],
   "source": [
    "# Similarly, func(20, 10) works the same as above but the values of a & b are interchanged as expected.\n",
    "\n",
    "func(20, 10)"
   ]
  },
  {
   "cell_type": "code",
   "execution_count": 8,
   "metadata": {},
   "outputs": [
    {
     "name": "stdout",
     "output_type": "stream",
     "text": [
      "a:10, b:20, c:30\n"
     ]
    }
   ],
   "source": [
    "# a & b can also be passed as keyword arguments. \n",
    "# Hence func(a=10, b=20, c=30) works without any errors.\n",
    "\n",
    "func(a=10, b=20, c=30)"
   ]
  },
  {
   "cell_type": "code",
   "execution_count": 9,
   "metadata": {},
   "outputs": [
    {
     "name": "stdout",
     "output_type": "stream",
     "text": [
      "a:10, b:20, c:30\n"
     ]
    }
   ],
   "source": [
    "# Or whatever order:\n",
    "func(b=20, a=10)"
   ]
  },
  {
   "cell_type": "code",
   "execution_count": 10,
   "metadata": {},
   "outputs": [
    {
     "ename": "TypeError",
     "evalue": "func() missing 1 required positional argument: 'b'",
     "output_type": "error",
     "traceback": [
      "\u001b[0;31m---------------------------------------------------------------------------\u001b[0m",
      "\u001b[0;31mTypeError\u001b[0m                                 Traceback (most recent call last)",
      "Cell \u001b[0;32mIn[10], line 4\u001b[0m\n\u001b[1;32m      1\u001b[0m \u001b[39m# The call func(a=20) gives an error because the function expects 2 positional arguments (a & b), \u001b[39;00m\n\u001b[1;32m      2\u001b[0m \u001b[39m# but we are only passing one argument a.\u001b[39;00m\n\u001b[0;32m----> 4\u001b[0m func(a\u001b[39m=\u001b[39;49m\u001b[39m10\u001b[39;49m)\n",
      "\u001b[0;31mTypeError\u001b[0m: func() missing 1 required positional argument: 'b'"
     ]
    }
   ],
   "source": [
    "# The call func(a=20) gives an error because the function expects 2 positional arguments (a & b), \n",
    "# but we are only passing one argument a.\n",
    "\n",
    "func(a=10)"
   ]
  },
  {
   "attachments": {},
   "cell_type": "markdown",
   "metadata": {},
   "source": [
    "Python’s built-in function `print()` makes use of **positional or keyword** parameter as you can see\n",
    "from the below function definition.\n",
    "\n",
    "![img](./parameters-arguments-3.webp)"
   ]
  },
  {
   "attachments": {},
   "cell_type": "markdown",
   "metadata": {},
   "source": [
    "##### 2. Positional-only\n",
    "\n",
    "Positional-only parameters indicate that arguments can be passed to function only by position.\n",
    "\n",
    "You can create positional-only parameters using `/` symbol.\n",
    "\n",
    "**All the parameters that come before `/` are strictly positional-only parameters.**"
   ]
  },
  {
   "cell_type": "code",
   "execution_count": 11,
   "metadata": {},
   "outputs": [],
   "source": [
    "def func(pos_only1, pos_only2, /, positional_or_keyword):\n",
    "    pass"
   ]
  },
  {
   "attachments": {},
   "cell_type": "markdown",
   "metadata": {},
   "source": [
    "Example:"
   ]
  },
  {
   "cell_type": "code",
   "execution_count": 12,
   "metadata": {},
   "outputs": [],
   "source": [
    "# In the below example, a & b are the positional-only parameters, \n",
    "# c & d are positional or keyword.\n",
    "# Also, d has a default value of 40.\n",
    "\n",
    "def func(a, b, /, c, d=40):\n",
    "    print(f\"a:{a}, b:{b}, c:{c}, d:{d}\")\n"
   ]
  },
  {
   "cell_type": "code",
   "execution_count": 13,
   "metadata": {},
   "outputs": [
    {
     "name": "stdout",
     "output_type": "stream",
     "text": [
      "a:10, b:20, c:30, d:40\n"
     ]
    }
   ],
   "source": [
    "# In the function call func(10, 20, 30), the arguments 10, 20, and 30 are mapped to a, b, and c by position.\n",
    "# Then d gets the default value of 40.\n",
    "\n",
    "func(10, 20, 30)"
   ]
  },
  {
   "cell_type": "code",
   "execution_count": 15,
   "metadata": {},
   "outputs": [
    {
     "name": "stdout",
     "output_type": "stream",
     "text": [
      "a:10, b:20, c:30, d:40\n"
     ]
    }
   ],
   "source": [
    "#  func(10, 20, c=30) works very similarly to the above.\n",
    "# The only difference is that the value of c is passed as keyword argument instead of positional argument.\n",
    "\n",
    "func(10, 20, c=30)"
   ]
  },
  {
   "cell_type": "code",
   "execution_count": 16,
   "metadata": {},
   "outputs": [
    {
     "ename": "TypeError",
     "evalue": "func() got some positional-only arguments passed as keyword arguments: 'a, b'",
     "output_type": "error",
     "traceback": [
      "\u001b[0;31m---------------------------------------------------------------------------\u001b[0m",
      "\u001b[0;31mTypeError\u001b[0m                                 Traceback (most recent call last)",
      "Cell \u001b[0;32mIn[16], line 4\u001b[0m\n\u001b[1;32m      1\u001b[0m \u001b[39m# func(a=10, b=20) gives TypeError because a & b are defined as positional-only parameters.\u001b[39;00m\n\u001b[1;32m      2\u001b[0m \u001b[39m# Hence Python won't allow passing the values as keyword arguments.\u001b[39;00m\n\u001b[0;32m----> 4\u001b[0m func(a\u001b[39m=\u001b[39;49m\u001b[39m10\u001b[39;49m, b\u001b[39m=\u001b[39;49m\u001b[39m20\u001b[39;49m)\n",
      "\u001b[0;31mTypeError\u001b[0m: func() got some positional-only arguments passed as keyword arguments: 'a, b'"
     ]
    }
   ],
   "source": [
    "# func(a=10, b=20) gives TypeError because a & b are defined as positional-only parameters.\n",
    "# Hence Python won't allow passing the values as keyword arguments.\n",
    "\n",
    "func(a=10, b=20)"
   ]
  },
  {
   "attachments": {},
   "cell_type": "markdown",
   "metadata": {},
   "source": [
    "Python’s built-in function `len()` makes use of **positional-only** parameter as you can see the function definition\n",
    "in the below screenshot.\n",
    "\n",
    "![img](./parameters-arguments-4.webp)"
   ]
  },
  {
   "attachments": {},
   "cell_type": "markdown",
   "metadata": {},
   "source": [
    "##### 3. Keyword-only\n",
    "\n",
    "Keyword-only parameters indicate that arguments can only be passed to function by keywords.\n",
    "\n",
    "You can create keyword-only parameters using `*` symbol.\n",
    "\n",
    "**All the parameters that come after `*` are strictly keyword-only parameters.**"
   ]
  },
  {
   "cell_type": "code",
   "execution_count": 17,
   "metadata": {},
   "outputs": [],
   "source": [
    "def func(pos_only1, pos_only2, *, key_only1, key_only2):\n",
    "    pass"
   ]
  },
  {
   "attachments": {},
   "cell_type": "markdown",
   "metadata": {},
   "source": [
    "Example:"
   ]
  },
  {
   "cell_type": "code",
   "execution_count": 18,
   "metadata": {},
   "outputs": [],
   "source": [
    "# In the below example, c & d are keyword-only parameters as they follow * in the function definition.\n",
    "# And a & b can be positional or keyword parameters.\n",
    "# And d has default value of 40.\n",
    "\n",
    "def func(a, b, *, c, d=40):\n",
    "    print(f\"a:{a}, b:{b}, c:{c}, d:{d}\")"
   ]
  },
  {
   "cell_type": "code",
   "execution_count": 19,
   "metadata": {},
   "outputs": [
    {
     "name": "stdout",
     "output_type": "stream",
     "text": [
      "a:10, b:20, c:30, d:40\n"
     ]
    }
   ],
   "source": [
    "# In the function call func(10, 20, 30), arguments 10 & 20 are mapped to a and b by position.\n",
    "# The value for c is passed as a keyword argument.\n",
    "# And d gets the default value of 40.\n",
    "\n",
    "func(10, 20, c=30)"
   ]
  },
  {
   "cell_type": "code",
   "execution_count": 20,
   "metadata": {},
   "outputs": [
    {
     "name": "stdout",
     "output_type": "stream",
     "text": [
      "a:10, b:20, c:30, d:40\n"
     ]
    }
   ],
   "source": [
    "# a and b can be positional or keyword.\n",
    "# So the function call func(a=10, b=20, c=30) works fine where the arguments a, b, and c \n",
    "# are passed as keyword argument and d get the default value 40.\n",
    "\n",
    "func(a=10, b=20, c=30)"
   ]
  },
  {
   "cell_type": "code",
   "execution_count": 21,
   "metadata": {},
   "outputs": [
    {
     "ename": "TypeError",
     "evalue": "func() missing 1 required keyword-only argument: 'c'",
     "output_type": "error",
     "traceback": [
      "\u001b[0;31m---------------------------------------------------------------------------\u001b[0m",
      "\u001b[0;31mTypeError\u001b[0m                                 Traceback (most recent call last)",
      "Cell \u001b[0;32mIn[21], line 5\u001b[0m\n\u001b[1;32m      1\u001b[0m \u001b[39m# The function call func(10, 20) raise TypeError because func expects two keyword-only parameters c and d.\u001b[39;00m\n\u001b[1;32m      2\u001b[0m \u001b[39m# But we are not passing keyword argument for c.\u001b[39;00m\n\u001b[1;32m      3\u001b[0m \u001b[39m# Note that d gets default value 40 as defined in the function definition.\u001b[39;00m\n\u001b[0;32m----> 5\u001b[0m func(\u001b[39m10\u001b[39;49m, \u001b[39m20\u001b[39;49m)\n",
      "\u001b[0;31mTypeError\u001b[0m: func() missing 1 required keyword-only argument: 'c'"
     ]
    }
   ],
   "source": [
    "# The function call func(10, 20) raise TypeError because func expects two keyword-only parameters c and d.\n",
    "# But we are not passing keyword argument for c.\n",
    "# Note that d gets default value 40 as defined in the function definition.\n",
    "\n",
    "func(10, 20)"
   ]
  },
  {
   "cell_type": "code",
   "execution_count": 22,
   "metadata": {},
   "outputs": [
    {
     "ename": "TypeError",
     "evalue": "func() missing 1 required keyword-only argument: 'c'",
     "output_type": "error",
     "traceback": [
      "\u001b[0;31m---------------------------------------------------------------------------\u001b[0m",
      "\u001b[0;31mTypeError\u001b[0m                                 Traceback (most recent call last)",
      "Cell \u001b[0;32mIn[22], line 3\u001b[0m\n\u001b[1;32m      1\u001b[0m \u001b[39m# Similarly:\u001b[39;00m\n\u001b[0;32m----> 3\u001b[0m func(a\u001b[39m=\u001b[39;49m\u001b[39m10\u001b[39;49m, b\u001b[39m=\u001b[39;49m\u001b[39m20\u001b[39;49m)\n",
      "\u001b[0;31mTypeError\u001b[0m: func() missing 1 required keyword-only argument: 'c'"
     ]
    }
   ],
   "source": [
    "# Similarly:\n",
    "\n",
    "func(a=10, b=20)"
   ]
  },
  {
   "attachments": {},
   "cell_type": "markdown",
   "metadata": {},
   "source": [
    "Python’s built-in function `sorted()` makes use of *both* **keyword-only** and **positional-only** parameters\n",
    "as you can see the function definition below:\n",
    "\n",
    "![img](./parameters-arguments-5.webp)"
   ]
  },
  {
   "attachments": {},
   "cell_type": "markdown",
   "metadata": {},
   "source": [
    "##### 4. Var-positional (aka `*args`)\n",
    "\n",
    "This parameter is useful when your application requires an arbitrary number of positional parameters."
   ]
  },
  {
   "cell_type": "code",
   "execution_count": 23,
   "metadata": {},
   "outputs": [],
   "source": [
    "def func(*args):\n",
    "    pass"
   ]
  },
  {
   "attachments": {},
   "cell_type": "markdown",
   "metadata": {},
   "source": [
    "Example:"
   ]
  },
  {
   "cell_type": "code",
   "execution_count": 24,
   "metadata": {},
   "outputs": [],
   "source": [
    "# In the below function definition, a is a positional parameter and args holds an arbitrary number of\n",
    "# left-over positional parameters.\n",
    "\n",
    "def func(a, *args):\n",
    "    print(f\"a:{a}, args:{args}\")"
   ]
  },
  {
   "cell_type": "code",
   "execution_count": 25,
   "metadata": {},
   "outputs": [
    {
     "name": "stdout",
     "output_type": "stream",
     "text": [
      "a:1, args:(2, 3, 4, 5)\n"
     ]
    }
   ],
   "source": [
    "# In the function call func(1,2,3,4,5), \n",
    "# argument 1 is mapped to a \n",
    "# and the remaining arguments will be part of args \n",
    "# and args return its content as a tuple (2,3,4,5).\n",
    "\n",
    "func(1,2,3,4,5)"
   ]
  },
  {
   "cell_type": "code",
   "execution_count": 26,
   "metadata": {},
   "outputs": [
    {
     "ename": "SyntaxError",
     "evalue": "positional argument follows keyword argument (1911798265.py, line 4)",
     "output_type": "error",
     "traceback": [
      "\u001b[0;36m  Cell \u001b[0;32mIn[26], line 4\u001b[0;36m\u001b[0m\n\u001b[0;31m    func(a=1,2,3,4,5)\u001b[0m\n\u001b[0m             ^\u001b[0m\n\u001b[0;31mSyntaxError\u001b[0m\u001b[0;31m:\u001b[0m positional argument follows keyword argument\n"
     ]
    }
   ],
   "source": [
    "# func(a=1,2,3,4,5) raises TypeError because position arguments must not follow keyword arguments.\n",
    "# Here positional arguments 2,3,4,5 follow keyword argument which raise TypeError.\n",
    "\n",
    "func(a=1,2,3,4,5)"
   ]
  },
  {
   "attachments": {},
   "cell_type": "markdown",
   "metadata": {},
   "source": [
    "Python’s built-in function `max()` makes use of **Var-positional** parameter `*args`\n",
    "as you can see from the function definition.\n",
    "\n",
    "![img](./parameters-arguments-6.webp)"
   ]
  },
  {
   "attachments": {},
   "cell_type": "markdown",
   "metadata": {},
   "source": [
    "##### 5. Var-keyword (aka `**kwargs`)\n",
    "\n",
    "This parameter is useful when your application requires an arbitrary number of keyword parameters."
   ]
  },
  {
   "cell_type": "code",
   "execution_count": 27,
   "metadata": {},
   "outputs": [],
   "source": [
    "def func(**kwargs):\n",
    "    pass"
   ]
  },
  {
   "attachments": {},
   "cell_type": "markdown",
   "metadata": {},
   "source": [
    "Example:"
   ]
  },
  {
   "cell_type": "code",
   "execution_count": 28,
   "metadata": {},
   "outputs": [],
   "source": [
    "# In the below function definition, \n",
    "# a is a positional parameter \n",
    "# and kwargs holds an arbitrary number of left-over keyword parameters.\n",
    "\n",
    "def func(a, **kwargs):\n",
    "    print(f\"a:{a}, kwargs:{kwargs}\")"
   ]
  },
  {
   "cell_type": "code",
   "execution_count": 29,
   "metadata": {},
   "outputs": [
    {
     "name": "stdout",
     "output_type": "stream",
     "text": [
      "a:10, kwargs:{'b': 20, 'c': 30}\n"
     ]
    }
   ],
   "source": [
    "# In the function call func(10, b=20, c=30), \n",
    "# argument 10 is mapped to a by position. \n",
    "# And the remaining keyword arguments will be part of kwargs \n",
    "# and kwargs returns its contents as key-value pairs.\n",
    "\n",
    "func(10, b=20, c=30)"
   ]
  },
  {
   "cell_type": "code",
   "execution_count": 30,
   "metadata": {},
   "outputs": [
    {
     "name": "stdout",
     "output_type": "stream",
     "text": [
      "a:10, kwargs:{'b': 20, 'c': 30}\n"
     ]
    }
   ],
   "source": [
    "# Same as above. \n",
    "# The only difference is in the function call func(10, b=20, c=30), \n",
    "# argument 10 is mapped to a by keyword. \n",
    "# And the remaining keyword arguments will be part of kwargs \n",
    "# and kwargs returns its contents as key-value pairs.\n",
    "\n",
    "func(a=10, b=20, c=30)"
   ]
  },
  {
   "cell_type": "code",
   "execution_count": 31,
   "metadata": {},
   "outputs": [
    {
     "ename": "TypeError",
     "evalue": "func() takes 1 positional argument but 3 were given",
     "output_type": "error",
     "traceback": [
      "\u001b[0;31m---------------------------------------------------------------------------\u001b[0m",
      "\u001b[0;31mTypeError\u001b[0m                                 Traceback (most recent call last)",
      "Cell \u001b[0;32mIn[31], line 5\u001b[0m\n\u001b[1;32m      1\u001b[0m \u001b[39m# The function call func(10, 20, 30) raises TypeError \u001b[39;00m\n\u001b[1;32m      2\u001b[0m \u001b[39m# as func expects only one positional argument and rest as keyword arguments\u001b[39;00m\n\u001b[1;32m      3\u001b[0m \u001b[39m# but in this example, three positional arguments are being passed to the function.\u001b[39;00m\n\u001b[0;32m----> 5\u001b[0m func(\u001b[39m10\u001b[39;49m, \u001b[39m20\u001b[39;49m, \u001b[39m30\u001b[39;49m)\n",
      "\u001b[0;31mTypeError\u001b[0m: func() takes 1 positional argument but 3 were given"
     ]
    }
   ],
   "source": [
    "# The function call func(10, 20, 30) raises TypeError \n",
    "# as func expects only one positional argument and rest as keyword arguments\n",
    "# but in this example, three positional arguments are being passed to the function.\n",
    "\n",
    "func(10, 20, 30)"
   ]
  },
  {
   "attachments": {},
   "cell_type": "markdown",
   "metadata": {},
   "source": [
    "Python’s built-in function `dict()` is an example **Var-keyword** parameter.\n",
    "\n",
    "Refer to the function definition below.\n",
    "\n",
    "![img](./parameters-arguments-7.webp)"
   ]
  },
  {
   "attachments": {},
   "cell_type": "markdown",
   "metadata": {},
   "source": [
    "## Summary:\n",
    "\n",
    "![img](./parameters-arguments-9.webp)\n",
    "\n",
    "**Note:**\n",
    "> Understand the difference between positional & positional-only and keyword & keyword-only parameters very carefully.\n",
    ">\n",
    "> If a parameter is positional it means it can also be passed as a keyword argument in the function call.\n",
    ">\n",
    "> But if it is positional-only it means strictly positional parameter. It can't be used as a keyword argument in the function call.\n",
    ">\n",
    "> The same applies to keyword and keyword-only parameters.\n",
    "\n",
    "**Key takeaways:**\n",
    "* Parameters appear in the function definition and arguments appear in the function call.\n",
    "* There are:\n",
    "    * **two** types of **arguments** (`positional` and `keyword` arguments) and\n",
    "    * **five** types of **parameters**: \n",
    "    (`positional or keyword`, `positional-only`, `keyword-only`, `Var-positional`, and `Var-keyword`).\n",
    "* Positional parameters can also have default values which can be specified using keywords.\n",
    "* `Python 3.8+`: All the parameters that precede `/` in the function definition are strictly positional (positional-only). \n",
    "* `Python 3.8+`: All the parameters that follow `*` in the function definition are strictly keyword (keyword-only).\n",
    "* The `*args` holds an arbitrary number of remaining positional arguments. \n",
    "* The `**kwargs` hold an arbitrary number of remaining keyword arguments.\n",
    "* Positional arguments must not follow keyword arguments in the function call.\n",
    "* No parameter comes after `**kwargs` in the function definition. It’s the end of all the parameters.\n",
    "\n",
    "**Further reading:**\n",
    "* https://docs.python.org/3/faq/programming.html#faq-argument-vs-parameter\n",
    "* https://www.python.org/dev/peps/pep-0570/\n",
    "* https://www.python.org/dev/peps/pep-3102/"
   ]
  },
  {
   "attachments": {},
   "cell_type": "markdown",
   "metadata": {},
   "source": [
    "## My experimentation\n",
    "\n",
    "> NOTE: `*args` and `**kwargs` are also known as **variadics**."
   ]
  },
  {
   "cell_type": "code",
   "execution_count": 40,
   "metadata": {},
   "outputs": [],
   "source": [
    "# Example case 1: \n",
    "# * using both * and /,\n",
    "# * no variadics.\n",
    "\n",
    "def func1(pos_only_1, pos_only_2, /, pos_key_1, pos_key_2, *, kw_only_1, kw_only_2):\n",
    "    print(\"pos_only_1:\", pos_only_1)\n",
    "    print(\"pos_only_2:\", pos_only_2)\n",
    "    print(\"pos_key_1:\", pos_key_1)\n",
    "    print(\"pos_key_2:\", pos_key_2)\n",
    "    print(\"kw_only_1:\", kw_only_1)\n",
    "    print(\"kw_only_2:\", kw_only_2)"
   ]
  },
  {
   "cell_type": "code",
   "execution_count": 41,
   "metadata": {},
   "outputs": [
    {
     "name": "stdout",
     "output_type": "stream",
     "text": [
      "pos_only_1: 1\n",
      "pos_only_2: 2\n",
      "pos_key_1: 3\n",
      "pos_key_2: 4\n",
      "kw_only_1: 5\n",
      "kw_only_2: 6\n"
     ]
    }
   ],
   "source": [
    "func1(1, 2, 3, pos_key_2=4, kw_only_1=5, kw_only_2=6)"
   ]
  },
  {
   "cell_type": "markdown",
   "metadata": {},
   "source": [
    "---"
   ]
  },
  {
   "cell_type": "code",
   "execution_count": 42,
   "metadata": {},
   "outputs": [],
   "source": [
    "# Example case 2: \n",
    "# * no * or /,\n",
    "# * using variadics.\n",
    "# NOTE: In this case, pos_only are NOT possible.\n",
    "\n",
    "def func2(pos_key_1, pos_key_2, *args, kw_only_1, kw_only_2, **kwargs):\n",
    "    print(\"pos_key_1:\", pos_key_1)\n",
    "    print(\"pos_key_2:\", pos_key_2)\n",
    "    print(\"args:\", args)\n",
    "    print(\"kw_only_1:\", kw_only_1)\n",
    "    print(\"kw_only_2:\", kw_only_2)\n",
    "    print(\"kwargs:\", kwargs)"
   ]
  },
  {
   "cell_type": "code",
   "execution_count": 43,
   "metadata": {},
   "outputs": [
    {
     "name": "stdout",
     "output_type": "stream",
     "text": [
      "pos_key_1: 1\n",
      "pos_key_2: 2\n",
      "args: ()\n",
      "kw_only_1: 3\n",
      "kw_only_2: 4\n",
      "kwargs: {'kwarg1': 5, 'kwarg2': 6}\n"
     ]
    }
   ],
   "source": [
    "# *args not getting used:\n",
    "func2(1, pos_key_2=2, kw_only_1=3, kw_only_2=4, kwarg1=5, kwarg2=6)"
   ]
  },
  {
   "cell_type": "code",
   "execution_count": 44,
   "metadata": {},
   "outputs": [
    {
     "name": "stdout",
     "output_type": "stream",
     "text": [
      "pos_key_1: 1\n",
      "pos_key_2: 2\n",
      "args: (3, 4, 5)\n",
      "kw_only_1: 6\n",
      "kw_only_2: 7\n",
      "kwargs: {'kwarg1': 8, 'kwarg2': 9}\n"
     ]
    }
   ],
   "source": [
    "# *args IS getting used:\n",
    "func2(1, 2, 3, 4, 5, kw_only_1=6, kw_only_2=7, kwarg1=8, kwarg2=9)"
   ]
  },
  {
   "cell_type": "markdown",
   "metadata": {},
   "source": [
    "---"
   ]
  },
  {
   "cell_type": "code",
   "execution_count": 37,
   "metadata": {},
   "outputs": [],
   "source": [
    "# Example case 3:\n",
    "# >> The most exhaustive case <<\n",
    "# NOTE: you CANNOT have BOTH * and *args.\n",
    "# Here, using *args.\n",
    "\n",
    "def func_most_exhaustive(pos_only_1, pos_only_2, /, pos_key_1, pos_key_2, *args, kw_only_1, kw_only_2, **kwargs):\n",
    "    print(\"pos_only_1:\", pos_only_1)\n",
    "    print(\"pos_only_2:\", pos_only_2)\n",
    "    print(\"pos_key_1:\", pos_key_1)\n",
    "    print(\"pos_key_2:\", pos_key_2)\n",
    "    print(\"args:\", args)\n",
    "    print(\"kw_only_1:\", kw_only_1)\n",
    "    print(\"kw_only_2:\", kw_only_2)\n",
    "    print(\"kwargs:\", kwargs)\n"
   ]
  },
  {
   "cell_type": "code",
   "execution_count": 38,
   "metadata": {},
   "outputs": [
    {
     "name": "stdout",
     "output_type": "stream",
     "text": [
      "pos_only_1: 1\n",
      "pos_only_2: 2\n",
      "pos_key_1: 3\n",
      "pos_key_2: 4\n",
      "args: ()\n",
      "kw_only_1: 5\n",
      "kw_only_2: 6\n",
      "kwargs: {}\n"
     ]
    }
   ],
   "source": [
    "# Successful call, no variadics:\n",
    "func_most_exhaustive(1, 2, 3, pos_key_2=4, kw_only_1=5, kw_only_2=6)"
   ]
  },
  {
   "cell_type": "code",
   "execution_count": 39,
   "metadata": {},
   "outputs": [
    {
     "name": "stdout",
     "output_type": "stream",
     "text": [
      "pos_only_1: 1\n",
      "pos_only_2: 2\n",
      "pos_key_1: 3\n",
      "pos_key_2: 4\n",
      "args: (5.1, 5.2, 5.3)\n",
      "kw_only_1: 6\n",
      "kw_only_2: 7\n",
      "kwargs: {'kwarg_1': 8.1, 'kwarg_2': 8.2, 'kwarg_3': 8.3}\n"
     ]
    }
   ],
   "source": [
    "# Successful call, with variadics:\n",
    "func_most_exhaustive(1, 2, 3, 4, 5.1, 5.2, 5.3, kw_only_1=6, kw_only_2=7, kwarg_1=8.1, kwarg_2=8.2, kwarg_3=8.3)"
   ]
  },
  {
   "cell_type": "markdown",
   "metadata": {},
   "source": [
    "---"
   ]
  },
  {
   "cell_type": "code",
   "execution_count": 47,
   "metadata": {},
   "outputs": [],
   "source": [
    "# Example case 4:\n",
    "# Alternative \"most exhaustive\" case.\n",
    "# NOTE: you CANNOT have BOTH * and *args.\n",
    "# Here, not using *args, but using *.\n",
    "\n",
    "def func_most_exhaustive_2(pos_only_1, pos_only_2, /, pos_key_1, pos_key_2, *, kw_only_1, kw_only_2, **kwargs):\n",
    "    print(\"pos_only_1:\", pos_only_1)\n",
    "    print(\"pos_only_2:\", pos_only_2)\n",
    "    print(\"pos_key_1:\", pos_key_1)\n",
    "    print(\"pos_key_2:\", pos_key_2)\n",
    "    print(\"kw_only_1:\", kw_only_1)\n",
    "    print(\"kw_only_2:\", kw_only_2)\n",
    "    print(\"kwargs:\", kwargs)"
   ]
  },
  {
   "cell_type": "code",
   "execution_count": 48,
   "metadata": {},
   "outputs": [
    {
     "name": "stdout",
     "output_type": "stream",
     "text": [
      "pos_only_1: 1\n",
      "pos_only_2: 2\n",
      "pos_key_1: 3\n",
      "pos_key_2: 4\n",
      "kw_only_1: 5\n",
      "kw_only_2: 6\n",
      "kwargs: {}\n"
     ]
    }
   ],
   "source": [
    "func_most_exhaustive_2(1, 2, 3, pos_key_2=4, kw_only_1=5, kw_only_2=6)"
   ]
  },
  {
   "cell_type": "code",
   "execution_count": 49,
   "metadata": {},
   "outputs": [
    {
     "name": "stdout",
     "output_type": "stream",
     "text": [
      "pos_only_1: 1\n",
      "pos_only_2: 2\n",
      "pos_key_1: 3\n",
      "pos_key_2: 4\n",
      "kw_only_1: 5\n",
      "kw_only_2: 6\n",
      "kwargs: {'kwarg_1': 7.1, 'kwarg_2': 7.2, 'kwarg_3': 7.3}\n"
     ]
    }
   ],
   "source": [
    "func_most_exhaustive_2(1, 2, 3, pos_key_2=4, kw_only_1=5, kw_only_2=6, kwarg_1=7.1, kwarg_2=7.2, kwarg_3=7.3)"
   ]
  }
 ],
 "metadata": {
  "kernelspec": {
   "display_name": "learn_py38_python-simplified-parameters-arguments",
   "language": "python",
   "name": "python3"
  },
  "language_info": {
   "codemirror_mode": {
    "name": "ipython",
    "version": 3
   },
   "file_extension": ".py",
   "mimetype": "text/x-python",
   "name": "python",
   "nbconvert_exporter": "python",
   "pygments_lexer": "ipython3",
   "version": "3.8.15"
  },
  "orig_nbformat": 4,
  "vscode": {
   "interpreter": {
    "hash": "05220fd3af6455d2a9aed59db8db54e7c3d2f4fe6d2e5ad27219afa1a16ae45d"
   }
  }
 },
 "nbformat": 4,
 "nbformat_minor": 2
}
