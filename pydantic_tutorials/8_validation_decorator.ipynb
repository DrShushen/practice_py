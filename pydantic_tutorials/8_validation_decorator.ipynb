{
 "cells": [
  {
   "attachments": {},
   "cell_type": "markdown",
   "metadata": {},
   "source": [
    "Following [here](https://docs.pydantic.dev/usage/validation_decorator/)\n",
    "\n",
    "# Validation decorator\n",
    "\n",
    "ℹ️\n",
    "> The `validate_arguments` decorator allows the **arguments passed to a function** to be parsed and validated using the\n",
    "> function's annotations before the function is called. While under the hood this uses the same approach of model \n",
    "> creation and initialisation; it provides an extremely easy way to apply validation to your code with minimal boilerplate.\n",
    "\n",
    "⚠️\n",
    "> The `validate_arguments` decorator is **in beta**, it has been added to pydantic in v1.5 on a provisional basis.\n",
    "> It may change significantly in future releases and its interface will not be concrete until v2.\n",
    "\n",
    "Example:"
   ]
  },
  {
   "cell_type": "code",
   "execution_count": 1,
   "metadata": {},
   "outputs": [
    {
     "name": "stdout",
     "output_type": "stream",
     "text": [
      "b'hellohellohello'\n",
      "b'x x x x'\n",
      "1 validation error for Repeat\n",
      "count\n",
      "  value is not a valid integer (type=type_error.integer)\n"
     ]
    }
   ],
   "source": [
    "from pydantic import validate_arguments, ValidationError\n",
    "\n",
    "\n",
    "@validate_arguments  # NOTE.\n",
    "def repeat(s: str, count: int, *, separator: bytes = b\"\") -> bytes:\n",
    "    b = s.encode()\n",
    "    return separator.join(b for _ in range(count))\n",
    "\n",
    "\n",
    "a = repeat(\"hello\", 3)\n",
    "print(a)\n",
    "# > b'hellohellohello'\n",
    "\n",
    "b = repeat(\"x\", \"4\", separator=\" \")  # pyright: ignore\n",
    "print(b)\n",
    "# > b'x x x x'\n",
    "\n",
    "try:\n",
    "    c = repeat(\"hello\", \"wrong\")\n",
    "except ValidationError as exc:\n",
    "    print(exc)\n",
    "    \"\"\"\n",
    "    1 validation error for Repeat\n",
    "    count\n",
    "      value is not a valid integer (type=type_error.integer)\n",
    "    \"\"\""
   ]
  },
  {
   "attachments": {},
   "cell_type": "markdown",
   "metadata": {},
   "source": [
    "### Argument Types\n",
    "\n",
    "* Argument types are inferred from type annotations on the function, arguments without a type decorator are considered as `Any`.\n",
    "* Since `validate_arguments` internally uses a standard `BaseModel`, all types listed in [types](https://docs.pydantic.dev/usage/types/) can be validated, including pydantic models and [custom types](https://docs.pydantic.dev/usage/types/#custom-data-types).\n",
    "* As with the rest of pydantic, types can be coerced by the decorator before they're passed to the actual function:"
   ]
  },
  {
   "cell_type": "code",
   "execution_count": 6,
   "metadata": {},
   "outputs": [
    {
     "name": "stdout",
     "output_type": "stream",
     "text": [
      "8_validation_decorator.ipynb\n",
      "None\n"
     ]
    }
   ],
   "source": [
    "import os\n",
    "from pathlib import Path\n",
    "from typing import Pattern, Optional\n",
    "\n",
    "from pydantic import validate_arguments, DirectoryPath\n",
    "\n",
    "\n",
    "@validate_arguments\n",
    "def find_file(path: DirectoryPath, regex: Pattern, max=None) -> Optional[Path]:\n",
    "    for i, f in enumerate(path.glob(\"**/*\")):\n",
    "        if max and i > max:\n",
    "            return\n",
    "        if f.is_file() and regex.fullmatch(str(f.relative_to(path))):\n",
    "            return f\n",
    "\n",
    "\n",
    "# note: this_dir is a string here\n",
    "this_dir = os.path.dirname(\".\")\n",
    "\n",
    "print(find_file(this_dir, \"^8_val.*\"))  # pyright: ignore\n",
    "# > /Users/samuel/code/pydantic/docs/examples/validation_decorator_main.py\n",
    "print(find_file(this_dir, \"^foobar.*\", max=3))  # pyright: ignore\n",
    "# > None"
   ]
  },
  {
   "attachments": {},
   "cell_type": "markdown",
   "metadata": {},
   "source": [
    "A few notes on the above:\n",
    "* though they're passed as strings, `path` and `regex` are converted to a `Path` object and `regex` respectively by the decorator\n",
    "* `max` has no type annotation, so will be considered as `Any` by the decorator\n",
    "\n",
    "> Type coercion like this can be extremely helpful but also confusing or not desired, see below for a discussion of\n",
    "> `validate_arguments`'s limitations in this regard."
   ]
  },
  {
   "attachments": {},
   "cell_type": "markdown",
   "metadata": {},
   "source": [
    "### Function Signatures\n",
    "\n",
    "The decorator is designed to work with functions using all possible parameter configurations and all possible combinations of these:\n",
    "* positional or keyword arguments with or without defaults\n",
    "* variable positional arguments defined via `*` (often `*args`)\n",
    "* variable keyword arguments defined via `**` (often `**kwargs`)\n",
    "* keyword only arguments - arguments after `*`,\n",
    "* positional only arguments - arguments before `, /` (new in Python 3.8)\n",
    "\n",
    "To demonstrate all the above parameter types:"
   ]
  },
  {
   "cell_type": "code",
   "execution_count": 7,
   "metadata": {},
   "outputs": [
    {
     "name": "stdout",
     "output_type": "stream",
     "text": [
      "a=1 b=2\n",
      "a=1 b=2\n",
      "a=1 b=3\n",
      "a=1 b=3\n",
      "a=1 b=2\n",
      "a=1 b=3\n",
      "a=1 b=2\n",
      "a=1 b=2\n",
      "(1,)\n",
      "(1, 2)\n",
      "(1, 2, 3)\n",
      "{'a': 1}\n",
      "{'a': 1, 'b': 2}\n",
      "a=1 b=2 c=None d=() e=3 f=None g={}\n",
      "a=1 b=2 c=3 d=(4, 5, 6) e=8 f=9 g={'g': 10, 'spam': 11}\n"
     ]
    }
   ],
   "source": [
    "from pydantic import validate_arguments\n",
    "\n",
    "\n",
    "@validate_arguments\n",
    "def pos_or_kw(a: int, b: int = 2) -> str:\n",
    "    return f\"a={a} b={b}\"\n",
    "\n",
    "\n",
    "print(pos_or_kw(1))\n",
    "# > a=1 b=2\n",
    "print(pos_or_kw(a=1))\n",
    "# > a=1 b=2\n",
    "print(pos_or_kw(1, 3))\n",
    "# > a=1 b=3\n",
    "print(pos_or_kw(a=1, b=3))\n",
    "# > a=1 b=3\n",
    "\n",
    "\n",
    "@validate_arguments\n",
    "def kw_only(*, a: int, b: int = 2) -> str:\n",
    "    return f\"a={a} b={b}\"\n",
    "\n",
    "\n",
    "print(kw_only(a=1))\n",
    "# > a=1 b=2\n",
    "print(kw_only(a=1, b=3))\n",
    "# > a=1 b=3\n",
    "\n",
    "\n",
    "@validate_arguments\n",
    "def pos_only(a: int, b: int = 2, /) -> str:  # python 3.8 only\n",
    "    return f\"a={a} b={b}\"\n",
    "\n",
    "\n",
    "print(pos_only(1))\n",
    "# > a=1 b=2\n",
    "print(pos_only(1, 2))\n",
    "# > a=1 b=2\n",
    "\n",
    "\n",
    "@validate_arguments\n",
    "def var_args(*args: int) -> str:\n",
    "    return str(args)\n",
    "\n",
    "\n",
    "print(var_args(1))\n",
    "# > (1,)\n",
    "print(var_args(1, 2))\n",
    "# > (1, 2)\n",
    "print(var_args(1, 2, 3))\n",
    "# > (1, 2, 3)\n",
    "\n",
    "\n",
    "@validate_arguments\n",
    "def var_kwargs(**kwargs: int) -> str:\n",
    "    return str(kwargs)\n",
    "\n",
    "\n",
    "print(var_kwargs(a=1))\n",
    "# > {'a': 1}\n",
    "print(var_kwargs(a=1, b=2))\n",
    "# > {'a': 1, 'b': 2}\n",
    "\n",
    "\n",
    "@validate_arguments\n",
    "def armageddon(\n",
    "    a: int,\n",
    "    /,  # python 3.8 only\n",
    "    b: int,\n",
    "    c: int = None,  # pyright: ignore\n",
    "    *d: int,\n",
    "    e: int,\n",
    "    f: int = None,  # pyright: ignore\n",
    "    **g: int,\n",
    ") -> str:\n",
    "    return f\"a={a} b={b} c={c} d={d} e={e} f={f} g={g}\"\n",
    "\n",
    "\n",
    "print(armageddon(1, 2, e=3))\n",
    "# > a=1 b=2 c=None d=() e=3 f=None g={}\n",
    "print(armageddon(1, 2, 3, 4, 5, 6, e=8, f=9, g=10, spam=11))\n",
    "# > a=1 b=2 c=3 d=(4, 5, 6) e=8 f=9 g={'g': 10, 'spam': 11}"
   ]
  },
  {
   "attachments": {},
   "cell_type": "markdown",
   "metadata": {},
   "source": [
    "⚠️ There is no support for the [`typing.overload`](https://docs.python.org/3/library/typing.html#typing.overload) for functions as yet.\n",
    "See: https://github.com/pydantic/pydantic/issues/1597"
   ]
  },
  {
   "attachments": {},
   "cell_type": "markdown",
   "metadata": {},
   "source": [
    "### Using Field to describe function arguments\n",
    "\n",
    "**⚠️ Note: weird pattern, take care!**\n",
    "\n",
    "* [`Field`](https://docs.pydantic.dev/usage/schema/#field-customisation) can also be used with `validate_arguments`\n",
    "to provide extra information about the field and validations.\n",
    "* In general it should be used in a type hint with [`Annotated`](https://docs.pydantic.dev/usage/schema/#typingannotated-fields),\n",
    "unless `default_factory` is specified, in which case it should be used as the default value of the field:"
   ]
  },
  {
   "cell_type": "code",
   "execution_count": 8,
   "metadata": {},
   "outputs": [
    {
     "name": "stdout",
     "output_type": "stream",
     "text": [
      "1 validation error for HowMany\n",
      "num\n",
      "  ensure this value is greater than 10 (type=value_error.number.not_gt; limit_value=10)\n",
      "<class 'datetime.datetime'>\n"
     ]
    }
   ],
   "source": [
    "from datetime import datetime\n",
    "from pydantic import validate_arguments, Field, ValidationError\n",
    "from pydantic.typing import Annotated  # pyright: ignore\n",
    "\n",
    "\n",
    "@validate_arguments\n",
    "def how_many(num: Annotated[int, Field(gt=10)]):  # NOTE here.\n",
    "    return num\n",
    "\n",
    "\n",
    "try:\n",
    "    how_many(1)\n",
    "except ValidationError as e:\n",
    "    print(e)\n",
    "    \"\"\"\n",
    "    1 validation error for HowMany\n",
    "    num\n",
    "      ensure this value is greater than 10 (type=value_error.number.not_gt;\n",
    "    limit_value=10)\n",
    "    \"\"\"\n",
    "\n",
    "\n",
    "@validate_arguments\n",
    "def when(dt: datetime = Field(default_factory=datetime.now)):  # NOTE here.\n",
    "    return dt\n",
    "\n",
    "\n",
    "print(type(when()))\n",
    "#> <class 'datetime.datetime'>\n"
   ]
  },
  {
   "attachments": {},
   "cell_type": "markdown",
   "metadata": {},
   "source": [
    "* The alias can be used with the decorator as normal."
   ]
  },
  {
   "attachments": {},
   "cell_type": "markdown",
   "metadata": {},
   "source": [
    "### Usage with mypy\n",
    "\n"
   ]
  },
  {
   "attachments": {},
   "cell_type": "markdown",
   "metadata": {},
   "source": [
    "The `validate_arguments` decorator should work \"out of the box\" with `mypy` since it's defined to return a function\n",
    "with the same signature as the function it decorates.\n",
    "\n",
    "The only limitation is that since we trick `mypy` into thinking the function returned by the decorator is the same\n",
    "as the function being decorated; **access to the raw function or other attributes will require `type: ignore**`."
   ]
  },
  {
   "attachments": {},
   "cell_type": "markdown",
   "metadata": {},
   "source": [
    "### Validate without calling the function\n",
    "\n",
    "By default, arguments validation is done **by directly calling the decorated function with parameters**. \n",
    "\n",
    "But what if you wanted to validate them without actually calling the function?\n",
    "\n",
    "To do that you can call the `validate` method bound to the decorated function.\n"
   ]
  },
  {
   "cell_type": "code",
   "execution_count": 10,
   "metadata": {},
   "outputs": [
    {
     "name": "stdout",
     "output_type": "stream",
     "text": [
      "Called with a=1, b=1\n",
      "1 validation error for SlowSum\n",
      "b\n",
      "  value is not a valid integer (type=type_error.integer)\n"
     ]
    }
   ],
   "source": [
    "from pydantic import validate_arguments, ValidationError\n",
    "\n",
    "\n",
    "@validate_arguments\n",
    "def slow_sum(a: int, b: int) -> int:\n",
    "    print(f'Called with a={a}, b={b}')\n",
    "    #> Called with a=1, b=1\n",
    "    return a + b\n",
    "\n",
    "\n",
    "slow_sum(1, 1)  # NOTE: `slow_sum` will be called, obviously.\n",
    "\n",
    "slow_sum.validate(2, 2)  # NOTE: Validate only.\n",
    "\n",
    "try:\n",
    "    slow_sum.validate(1, 'b')\n",
    "except ValidationError as exc:\n",
    "    print(exc)\n",
    "    \"\"\"\n",
    "    1 validation error for SlowSum\n",
    "    b\n",
    "      value is not a valid integer (type=type_error.integer)\n",
    "    \"\"\"\n"
   ]
  },
  {
   "attachments": {},
   "cell_type": "markdown",
   "metadata": {},
   "source": [
    "### Raw function\n",
    "\n",
    "The raw function which was decorated is accessible, this is useful if in some scenarios you trust your input arguments and want to call the function in the most performant way."
   ]
  },
  {
   "cell_type": "code",
   "execution_count": 11,
   "metadata": {},
   "outputs": [
    {
     "name": "stdout",
     "output_type": "stream",
     "text": [
      "b'hellohellohello'\n",
      "b'good bye, good bye'\n"
     ]
    }
   ],
   "source": [
    "from pydantic import validate_arguments\n",
    "\n",
    "\n",
    "@validate_arguments\n",
    "def repeat(s: str, count: int, *, separator: bytes = b'') -> bytes:\n",
    "    b = s.encode()\n",
    "    return separator.join(b for _ in range(count))\n",
    "\n",
    "\n",
    "a = repeat('hello', 3)\n",
    "print(a)\n",
    "#> b'hellohellohello'\n",
    "\n",
    "b = repeat.raw_function('good bye', 2, separator=b', ')  # NOTE: .raw_function() is what you want.\n",
    "print(b)\n",
    "#> b'good bye, good bye'\n"
   ]
  },
  {
   "attachments": {},
   "cell_type": "markdown",
   "metadata": {},
   "source": [
    "* Async Functions: skipped."
   ]
  },
  {
   "attachments": {},
   "cell_type": "markdown",
   "metadata": {},
   "source": [
    "### Custom Config\n",
    "\n",
    "> The model behind `validate_arguments` can be customised using a config setting which is\n",
    "> equivalent to setting the Config sub-class in normal models.\n",
    "\n",
    "> ⚠️ The `fields` and `alias_generator` properties of `Config` which allow aliases to be configured are not \n",
    "> supported yet with `@validate_arguments`, using them will raise an error.\n",
    "\n",
    "Configuration is set using the `config` keyword argument to the decorator, it may be either a config class or a dict of properties which are converted to a class later."
   ]
  },
  {
   "cell_type": "code",
   "execution_count": null,
   "metadata": {},
   "outputs": [],
   "source": [
    "from pydantic import ValidationError, validate_arguments\n",
    "\n",
    "\n",
    "class Foobar:\n",
    "    def __init__(self, v: str):\n",
    "        self.v = v\n",
    "\n",
    "    def __add__(self, other: 'Foobar') -> str:\n",
    "        return f'{self} + {other}'\n",
    "\n",
    "    def __str__(self) -> str:\n",
    "        return f'Foobar({self.v})'\n",
    "\n",
    "\n",
    "@validate_arguments(config=dict(arbitrary_types_allowed=True))\n",
    "def add_foobars(a: Foobar, b: Foobar):\n",
    "    return a + b\n",
    "\n",
    "\n",
    "c = add_foobars(Foobar('a'), Foobar('b'))\n",
    "print(c)\n",
    "#> Foobar(a) + Foobar(b)\n",
    "\n",
    "try:\n",
    "    add_foobars(1, 2)\n",
    "except ValidationError as e:\n",
    "    print(e)\n",
    "    \"\"\"\n",
    "    2 validation errors for AddFoobars\n",
    "    a\n",
    "      instance of Foobar expected (type=type_error.arbitrary_type;\n",
    "    expected_arbitrary_type=Foobar)\n",
    "    b\n",
    "      instance of Foobar expected (type=type_error.arbitrary_type;\n",
    "    expected_arbitrary_type=Foobar)\n",
    "    \"\"\"\n"
   ]
  },
  {
   "attachments": {},
   "cell_type": "markdown",
   "metadata": {},
   "source": [
    "### Limitations\n",
    "\n",
    "**Important limitations**\n",
    "* Remember that currently *pydantic* does coercion by default - bear that in mind!\n",
    "* ⚠️ Function *return value* **NOT** validated (yet).\n",
    "\n",
    "For a discussion of all limitations, read: https://docs.pydantic.dev/usage/validation_decorator/#limitations"
   ]
  }
 ],
 "metadata": {
  "kernelspec": {
   "display_name": "learn_py38_pydantic",
   "language": "python",
   "name": "python3"
  },
  "language_info": {
   "codemirror_mode": {
    "name": "ipython",
    "version": 3
   },
   "file_extension": ".py",
   "mimetype": "text/x-python",
   "name": "python",
   "nbconvert_exporter": "python",
   "pygments_lexer": "ipython3",
   "version": "3.8.15"
  },
  "orig_nbformat": 4,
  "vscode": {
   "interpreter": {
    "hash": "47cc98ae72e7f2ffbe83cf967e6c908a0834e3e404528dbd49b4a163340eeddd"
   }
  }
 },
 "nbformat": 4,
 "nbformat_minor": 2
}
