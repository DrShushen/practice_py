{
 "cells": [
  {
   "attachments": {},
   "cell_type": "markdown",
   "metadata": {},
   "source": [
    "# Dataclasses\n",
    "\n",
    "If you don't want to use pydantic's `BaseModel` you can instead get the same data validation on standard `dataclasses`\n",
    "(introduced in Python 3.7).\n",
    "\n",
    "> Keep in mind that `pydantic.dataclasses.dataclass` is a drop-in replacement for `dataclasses.dataclass` with validation,\n",
    "> not a replacement for `pydantic.BaseModel` (with a small difference in how initialization hooks work).\n",
    ">\n",
    "> There are cases where subclassing `pydantic.BaseModel` is the better choice."
   ]
  },
  {
   "cell_type": "code",
   "execution_count": 1,
   "metadata": {},
   "outputs": [
    {
     "name": "stdout",
     "output_type": "stream",
     "text": [
      "User(id=42, name='John Doe', signup_ts=datetime.datetime(2032, 6, 21, 12, 0))\n"
     ]
    }
   ],
   "source": [
    "from datetime import datetime\n",
    "from pydantic.dataclasses import dataclass\n",
    "\n",
    "\n",
    "@dataclass\n",
    "class User:\n",
    "    id: int\n",
    "    name: str = \"John Doe\"\n",
    "    signup_ts: datetime = None  # pyright: ignore\n",
    "\n",
    "\n",
    "user = User(id=\"42\", signup_ts=\"2032-06-21T12:00\")  # pyright: ignore\n",
    "print(user)\n",
    "# > User(id=42, name='John Doe', signup_ts=datetime.datetime(2032, 6, 21, 12, 0))"
   ]
  },
  {
   "attachments": {},
   "cell_type": "markdown",
   "metadata": {},
   "source": [
    "You can use all the standard pydantic field types, and the resulting `dataclass` will be identical to the one created by the standard library dataclass decorator.\n",
    "\n",
    "The underlying model and its schema can be accessed through `__pydantic_model__`.\n",
    "Also, fields that require a `default_factory` can be specified by either a `pydantic.Field` or a `dataclasses.field`."
   ]
  },
  {
   "cell_type": "code",
   "execution_count": 2,
   "metadata": {},
   "outputs": [
    {
     "name": "stdout",
     "output_type": "stream",
     "text": [
      "{'title': 'User', 'type': 'object', 'properties': {'id': {'title': 'Id', 'type': 'integer'}, 'name': {'title': 'Name', 'default': 'John Doe', 'type': 'string'}, 'friends': {'title': 'Friends', 'type': 'array', 'items': {'type': 'integer'}}, 'age': {'title': 'The age of the user', 'description': 'do not lie!', 'type': 'integer'}, 'height': {'title': 'The height in cm', 'minimum': 50, 'maximum': 300, 'type': 'integer'}}, 'required': ['id']}\n"
     ]
    }
   ],
   "source": [
    "import dataclasses\n",
    "from typing import List, Optional\n",
    "\n",
    "from pydantic import Field\n",
    "from pydantic.dataclasses import dataclass\n",
    "\n",
    "\n",
    "@dataclass  # NOTE.\n",
    "class User:\n",
    "    id: int\n",
    "    name: str = \"John Doe\"\n",
    "    friends: List[int] = dataclasses.field(default_factory=lambda: [0])  # NOTE.\n",
    "    age: Optional[int] = dataclasses.field(  # NOTE.\n",
    "        default=None,\n",
    "        metadata=dict(title=\"The age of the user\", description=\"do not lie!\"),\n",
    "    )\n",
    "    height: Optional[int] = Field(None, title=\"The height in cm\", ge=50, le=300)\n",
    "\n",
    "\n",
    "user = User(id=\"42\")  # pyright: ignore\n",
    "print(user.__pydantic_model__.schema())  # pyright: ignore  # NOTE.\n",
    "\"\"\"\n",
    "{\n",
    "    'title': 'User',\n",
    "    'type': 'object',\n",
    "    'properties': {\n",
    "        'id': {'title': 'Id', 'type': 'integer'},\n",
    "        'name': {\n",
    "            'title': 'Name',\n",
    "            'default': 'John Doe',\n",
    "            'type': 'string',\n",
    "        },\n",
    "        'friends': {\n",
    "            'title': 'Friends',\n",
    "            'type': 'array',\n",
    "            'items': {'type': 'integer'},\n",
    "        },\n",
    "        'age': {\n",
    "            'title': 'The age of the user',\n",
    "            'description': 'do not lie!',\n",
    "            'type': 'integer',\n",
    "        },\n",
    "        'height': {\n",
    "            'title': 'The height in cm',\n",
    "            'minimum': 50,\n",
    "            'maximum': 300,\n",
    "            'type': 'integer',\n",
    "        },\n",
    "    },\n",
    "    'required': ['id'],\n",
    "}\n",
    "\"\"\";"
   ]
  },
  {
   "attachments": {},
   "cell_type": "markdown",
   "metadata": {},
   "source": [
    "`pydantic.dataclasses.dataclass`'s arguments are the same as the standard decorator, except one extra keyword argument `config` which has the same meaning as `Config`.\n",
    "\n",
    "> ⚠️ After v1.2, The [**Mypy plugin**](https://docs.pydantic.dev/mypy_plugin/) must be installed to type check pydantic dataclasses."
   ]
  },
  {
   "attachments": {},
   "cell_type": "markdown",
   "metadata": {},
   "source": [
    "* The rest of this guide is skipped, see [from here](https://docs.pydantic.dev/usage/dataclasses/#nested-dataclasses) if needed."
   ]
  }
 ],
 "metadata": {
  "kernelspec": {
   "display_name": "learn_py38_pydantic",
   "language": "python",
   "name": "python3"
  },
  "language_info": {
   "codemirror_mode": {
    "name": "ipython",
    "version": 3
   },
   "file_extension": ".py",
   "mimetype": "text/x-python",
   "name": "python",
   "nbconvert_exporter": "python",
   "pygments_lexer": "ipython3",
   "version": "3.8.15"
  },
  "orig_nbformat": 4,
  "vscode": {
   "interpreter": {
    "hash": "47cc98ae72e7f2ffbe83cf967e6c908a0834e3e404528dbd49b4a163340eeddd"
   }
  }
 },
 "nbformat": 4,
 "nbformat_minor": 2
}
