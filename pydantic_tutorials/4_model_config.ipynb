{
 "cells": [
  {
   "attachments": {},
   "cell_type": "markdown",
   "metadata": {},
   "source": [
    "Following [this](https://docs.pydantic.dev/usage/model_config/)\n",
    "\n",
    "# Model Config\n",
    "\n",
    "Behaviour of pydantic can be controlled via the `Config` class on a model or a pydantic dataclass.\n"
   ]
  },
  {
   "cell_type": "code",
   "execution_count": 1,
   "metadata": {},
   "outputs": [
    {
     "name": "stdout",
     "output_type": "stream",
     "text": [
      "1 validation error for Model\n",
      "v\n",
      "  max_length:10 (type=value_error.any_str.max_length; limit_value=10)\n"
     ]
    }
   ],
   "source": [
    "from pydantic import BaseModel, ValidationError\n",
    "\n",
    "\n",
    "class Model(BaseModel):\n",
    "    v: str\n",
    "\n",
    "    class Config:  # NOTE.\n",
    "        max_anystr_length = 10\n",
    "        error_msg_templates = {\n",
    "            \"value_error.any_str.max_length\": \"max_length:{limit_value}\",\n",
    "        }\n",
    "\n",
    "\n",
    "try:\n",
    "    Model(v=\"x\" * 20)\n",
    "except ValidationError as e:\n",
    "    print(e)\n",
    "    \"\"\"\n",
    "    1 validation error for Model\n",
    "    v\n",
    "      max_length:10 (type=value_error.any_str.max_length; limit_value=10)\n",
    "    \"\"\""
   ]
  },
  {
   "cell_type": "code",
   "execution_count": 2,
   "metadata": {},
   "outputs": [
    {
     "name": "stdout",
     "output_type": "stream",
     "text": [
      "1 validation error for Model\n",
      "b\n",
      "  extra fields not permitted (type=value_error.extra)\n"
     ]
    }
   ],
   "source": [
    "from pydantic import BaseModel, ValidationError, Extra\n",
    "\n",
    "\n",
    "class Model(BaseModel, extra=Extra.forbid):  # NOTE: can also be set as so.\n",
    "    a: str\n",
    "\n",
    "\n",
    "try:\n",
    "    Model(a=\"spam\", b=\"oh no\")\n",
    "except ValidationError as e:\n",
    "    print(e)\n",
    "    \"\"\"\n",
    "    1 validation error for Model\n",
    "    b\n",
    "      extra fields not permitted (type=value_error.extra)\n",
    "    \"\"\""
   ]
  },
  {
   "cell_type": "code",
   "execution_count": 4,
   "metadata": {},
   "outputs": [
    {
     "name": "stdout",
     "output_type": "stream",
     "text": [
      "1 validation error for User\n",
      "name\n",
      "  max_length:10 (type=value_error.any_str.max_length; limit_value=10)\n"
     ]
    }
   ],
   "source": [
    "# If using the *pydantic* `@dataclass` decorator:\n",
    "\n",
    "from datetime import datetime\n",
    "\n",
    "from pydantic import ValidationError\n",
    "from pydantic.dataclasses import dataclass  # NOTE.\n",
    "\n",
    "\n",
    "class MyConfig:  # NOTE.\n",
    "    max_anystr_length = 10\n",
    "    validate_assignment = True\n",
    "    error_msg_templates = {\n",
    "        \"value_error.any_str.max_length\": \"max_length:{limit_value}\",\n",
    "    }\n",
    "\n",
    "\n",
    "@dataclass(config=MyConfig)  # NOTE.\n",
    "class User:\n",
    "    id: int\n",
    "    name: str = \"John Doe\"\n",
    "    signup_ts: datetime = None  # pyright: ignore\n",
    "\n",
    "\n",
    "user = User(id=\"42\", signup_ts=\"2032-06-21T12:00\")  # pyright: ignore\n",
    "try:\n",
    "    user.name = \"x\" * 20\n",
    "except ValidationError as e:\n",
    "    print(e)\n",
    "    \"\"\"\n",
    "    1 validation error for User\n",
    "    name\n",
    "      max_length:10 (type=value_error.any_str.max_length; limit_value=10)\n",
    "    \"\"\""
   ]
  },
  {
   "attachments": {},
   "cell_type": "markdown",
   "metadata": {},
   "source": [
    "* Full list of options: https://docs.pydantic.dev/usage/model_config/#options"
   ]
  },
  {
   "attachments": {},
   "cell_type": "markdown",
   "metadata": {},
   "source": [
    "### Change behaviour globally\n",
    "\n",
    "If you wish to change the behaviour of pydantic globally, you can **create your own custom `BaseModel` with custom `Config` since the config is inherited**:"
   ]
  },
  {
   "cell_type": "code",
   "execution_count": 6,
   "metadata": {},
   "outputs": [],
   "source": [
    "from pydantic import BaseModel as PydanticBaseModel  # NOTE.\n",
    "\n",
    "\n",
    "class BaseModel(PydanticBaseModel):  # NOTE.\n",
    "    class Config:\n",
    "        arbitrary_types_allowed = True\n",
    "\n",
    "\n",
    "class MyClass:\n",
    "    \"\"\"A random class\"\"\"\n",
    "\n",
    "\n",
    "class Model(BaseModel):  # NOTE.\n",
    "    x: MyClass"
   ]
  },
  {
   "attachments": {},
   "cell_type": "markdown",
   "metadata": {},
   "source": [
    "* Alias stuff skipped."
   ]
  },
  {
   "attachments": {},
   "cell_type": "markdown",
   "metadata": {},
   "source": [
    "### Smart Union\n",
    "\n",
    "By default, as explained [here](https://docs.pydantic.dev/usage/types/#unions), pydantic tries to validate\n",
    "(and coerce if it can) **in the order of** the `Union`.\n",
    "\n",
    "So sometimes you may have unexpected coerced data."
   ]
  },
  {
   "cell_type": "code",
   "execution_count": 7,
   "metadata": {},
   "outputs": [
    {
     "name": "stdout",
     "output_type": "stream",
     "text": [
      "x='1' y=Foo()\n"
     ]
    }
   ],
   "source": [
    "from typing import Union\n",
    "\n",
    "from pydantic import BaseModel\n",
    "\n",
    "\n",
    "class Foo(BaseModel):\n",
    "    pass\n",
    "\n",
    "\n",
    "class Bar(BaseModel):\n",
    "    pass\n",
    "\n",
    "\n",
    "class Model(BaseModel):\n",
    "    x: Union[str, int]\n",
    "    y: Union[Foo, Bar]\n",
    "\n",
    "\n",
    "print(Model(x=1, y=Bar()))  # NOTE: :(\n",
    "# > x='1' y=Foo()"
   ]
  },
  {
   "attachments": {},
   "cell_type": "markdown",
   "metadata": {},
   "source": [
    "To prevent this, you can enable `Config.smart_union`.\n",
    "\n",
    "Pydantic will then check all allowed types before even trying to coerce. \n",
    "\n",
    "Know that this is of course **slower**, especially if your `Union` is quite big."
   ]
  },
  {
   "cell_type": "code",
   "execution_count": 8,
   "metadata": {},
   "outputs": [
    {
     "name": "stdout",
     "output_type": "stream",
     "text": [
      "x=1 y=Bar()\n"
     ]
    }
   ],
   "source": [
    "from typing import Union\n",
    "\n",
    "from pydantic import BaseModel\n",
    "\n",
    "\n",
    "class Foo(BaseModel):\n",
    "    pass\n",
    "\n",
    "\n",
    "class Bar(BaseModel):\n",
    "    pass\n",
    "\n",
    "\n",
    "class Model(BaseModel):\n",
    "    x: Union[str, int]\n",
    "    y: Union[Foo, Bar]\n",
    "\n",
    "    class Config:\n",
    "        smart_union = True\n",
    "\n",
    "\n",
    "print(Model(x=1, y=Bar()))\n",
    "# > x=1 y=Bar()"
   ]
  },
  {
   "attachments": {},
   "cell_type": "markdown",
   "metadata": {},
   "source": [
    "> ⚠️ Note that this option **does not support compound types** yet (e.g. differentiate `List[int]` and `List[str]`).\n",
    ">\n",
    "> This option will be improved further once a strict mode is added in pydantic and will probably be the default behaviour in v2!"
   ]
  },
  {
   "cell_type": "code",
   "execution_count": null,
   "metadata": {},
   "outputs": [],
   "source": []
  }
 ],
 "metadata": {
  "kernelspec": {
   "display_name": "learn_py38_pydantic",
   "language": "python",
   "name": "python3"
  },
  "language_info": {
   "codemirror_mode": {
    "name": "ipython",
    "version": 3
   },
   "file_extension": ".py",
   "mimetype": "text/x-python",
   "name": "python",
   "nbconvert_exporter": "python",
   "pygments_lexer": "ipython3",
   "version": "3.8.15"
  },
  "orig_nbformat": 4,
  "vscode": {
   "interpreter": {
    "hash": "47cc98ae72e7f2ffbe83cf967e6c908a0834e3e404528dbd49b4a163340eeddd"
   }
  }
 },
 "nbformat": 4,
 "nbformat_minor": 2
}
