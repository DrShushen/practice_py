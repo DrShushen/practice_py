{
 "cells": [
  {
   "attachments": {},
   "cell_type": "markdown",
   "metadata": {},
   "source": [
    "*Schema* guide skipped.\n",
    "\n",
    "https://docs.pydantic.dev/usage/schema/"
   ]
  },
  {
   "attachments": {},
   "cell_type": "markdown",
   "metadata": {},
   "source": [
    "### Useful part: `Field()` function\n",
    "\n",
    "https://docs.pydantic.dev/usage/schema/#field-customization\n",
    "\n",
    "> Allows some additional validation customizations. E.g. `lt` or `gt` for numeric fields."
   ]
  }
 ],
 "metadata": {
  "kernelspec": {
   "display_name": "learn_py38_pydantic",
   "language": "python",
   "name": "python3"
  },
  "language_info": {
   "name": "python",
   "version": "3.8.15"
  },
  "orig_nbformat": 4,
  "vscode": {
   "interpreter": {
    "hash": "47cc98ae72e7f2ffbe83cf967e6c908a0834e3e404528dbd49b4a163340eeddd"
   }
  }
 },
 "nbformat": 4,
 "nbformat_minor": 2
}
