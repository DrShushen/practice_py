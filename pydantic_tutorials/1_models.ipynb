{
 "cells": [
  {
   "attachments": {},
   "cell_type": "markdown",
   "metadata": {},
   "source": [
    "Following [this](https://docs.pydantic.dev/usage/models/)\n",
    "\n",
    "<br/>\n",
    "\n",
    "**Pydantic Note**\n",
    "\n",
    "*pydantic* is primarily a **parsing** library, **not a validation** library. Validation is a means to an end: building a model which conforms to the types and constraints provided.\n",
    "\n",
    "> In other words, *pydantic* guarantees the *types and constraints of the output model, not the input data*.\n",
    "\n",
    "This might sound like an esoteric distinction, but it is not. If you're unsure what this means or how it might affect your usage you should read the section about [Data Conversion](https://docs.pydantic.dev/usage/models/#data-conversion).\n",
    "\n",
    "Although validation is not the main purpose of *pydantic*, you can use this library for custom [validation](https://docs.pydantic.dev/usage/validators/)."
   ]
  },
  {
   "attachments": {},
   "cell_type": "markdown",
   "metadata": {},
   "source": [
    "### Basic model usage"
   ]
  },
  {
   "cell_type": "code",
   "execution_count": 1,
   "metadata": {},
   "outputs": [],
   "source": [
    "from pydantic import BaseModel\n",
    "\n",
    "\n",
    "class User(BaseModel):\n",
    "    id: int\n",
    "    name = \"Jane Doe\""
   ]
  },
  {
   "cell_type": "code",
   "execution_count": 2,
   "metadata": {},
   "outputs": [
    {
     "data": {
      "text/plain": [
       "User(id=123, name='Jane Doe')"
      ]
     },
     "execution_count": 2,
     "metadata": {},
     "output_type": "execute_result"
    }
   ],
   "source": [
    "user = User(id=\"123\")  # pyright: ignore\n",
    "\n",
    "user"
   ]
  },
  {
   "attachments": {},
   "cell_type": "markdown",
   "metadata": {},
   "source": [
    "⬆️ Note the `# pyright: ignore` above, this is because PyRight/Lance doesn't understand *pydantic*'s automatic conversions.\n",
    "\n",
    "Most of the time strict PyRight type checking is still useful, so a workaround is in order.\n",
    "\n",
    "This is discussed in detail here:\n",
    "https://docs.pydantic.dev/visual_studio_code/#strict-errors\n",
    "\n",
    "> In general useful for VSCode and *pydantic* compatibility: https://docs.pydantic.dev/visual_studio_code/\n",
    "\n",
    "Either use `# pyright: ignore` or `my_id: Any = \"123\"` then pass to function."
   ]
  },
  {
   "cell_type": "code",
   "execution_count": 3,
   "metadata": {},
   "outputs": [
    {
     "ename": "ValidationError",
     "evalue": "1 validation error for User\nid\n  value is not a valid integer (type=type_error.integer)",
     "output_type": "error",
     "traceback": [
      "\u001b[0;31m---------------------------------------------------------------------------\u001b[0m",
      "\u001b[0;31mValidationError\u001b[0m                           Traceback (most recent call last)",
      "Cell \u001b[0;32mIn[3], line 1\u001b[0m\n\u001b[0;32m----> 1\u001b[0m user_x \u001b[39m=\u001b[39m User(\u001b[39mid\u001b[39;49m\u001b[39m=\u001b[39;49m\u001b[39m'\u001b[39;49m\u001b[39m123.45\u001b[39;49m\u001b[39m'\u001b[39;49m)\n\u001b[1;32m      3\u001b[0m user_x\n",
      "File \u001b[0;32m/mnt/data-linux/miniconda3/envs/learn_py38_pydantic/lib/python3.8/site-packages/pydantic/main.py:342\u001b[0m, in \u001b[0;36mpydantic.main.BaseModel.__init__\u001b[0;34m()\u001b[0m\n",
      "\u001b[0;31mValidationError\u001b[0m: 1 validation error for User\nid\n  value is not a valid integer (type=type_error.integer)"
     ]
    }
   ],
   "source": [
    "user_x = User(id=\"123.45\")\n",
    "\n",
    "user_x\n",
    "\n",
    "# NOTE: This doesn't seem to agree with the docs. \"123.45\" does NOT get cast to 123."
   ]
  },
  {
   "cell_type": "code",
   "execution_count": 5,
   "metadata": {},
   "outputs": [],
   "source": [
    "assert user.id == 123\n",
    "assert isinstance(user.id, int)"
   ]
  },
  {
   "cell_type": "code",
   "execution_count": 6,
   "metadata": {},
   "outputs": [],
   "source": [
    "assert user.name == \"Jane Doe\""
   ]
  },
  {
   "cell_type": "code",
   "execution_count": 8,
   "metadata": {},
   "outputs": [
    {
     "data": {
      "text/plain": [
       "{'id'}"
      ]
     },
     "execution_count": 8,
     "metadata": {},
     "output_type": "execute_result"
    }
   ],
   "source": [
    "user.__fields_set__  # The fields which were supplied when user was initialised."
   ]
  },
  {
   "cell_type": "code",
   "execution_count": 9,
   "metadata": {},
   "outputs": [
    {
     "data": {
      "text/plain": [
       "{'id': 123, 'name': 'Jane Doe'}"
      ]
     },
     "execution_count": 9,
     "metadata": {},
     "output_type": "execute_result"
    }
   ],
   "source": [
    "user.dict()  # \"name\" was automatically taken from the default value."
   ]
  },
  {
   "cell_type": "code",
   "execution_count": 10,
   "metadata": {},
   "outputs": [],
   "source": [
    "# Mutable.\n",
    "user.id = 321\n",
    "assert user.id == 321"
   ]
  },
  {
   "attachments": {},
   "cell_type": "markdown",
   "metadata": {},
   "source": [
    "### Recursive Models"
   ]
  },
  {
   "cell_type": "code",
   "execution_count": 12,
   "metadata": {},
   "outputs": [
    {
     "name": "stdout",
     "output_type": "stream",
     "text": [
      "foo=Foo(count=4, size=None) bars=[Bar(apple='x1', banana='y'), Bar(apple='x2', banana='y')]\n",
      "{'foo': {'count': 4, 'size': None}, 'bars': [{'apple': 'x1', 'banana': 'y'}, {'apple': 'x2', 'banana': 'y'}]}\n"
     ]
    }
   ],
   "source": [
    "from typing import List, Optional\n",
    "from pydantic import BaseModel\n",
    "\n",
    "\n",
    "class Foo(BaseModel):\n",
    "    count: int\n",
    "    size: Optional[float] = None\n",
    "\n",
    "\n",
    "class Bar(BaseModel):\n",
    "    apple = \"x\"\n",
    "    banana = \"y\"\n",
    "\n",
    "\n",
    "class Spam(BaseModel):\n",
    "    foo: Foo\n",
    "    bars: List[Bar]\n",
    "\n",
    "\n",
    "# NOTE: Initialised through dictionaries below. This is a pydantic thing.\n",
    "m = Spam(foo={\"count\": 4}, bars=[{\"apple\": \"x1\"}, {\"apple\": \"x2\"}])  # pyright: ignore\n",
    "# ^ As noted above re. PyRight.\n",
    "\n",
    "print(m)\n",
    "# > foo=Foo(count=4, size=None) bars=[Bar(apple='x1', banana='y'),\n",
    "# > Bar(apple='x2', banana='y')]\n",
    "print(m.dict())\n",
    "\"\"\"\n",
    "{\n",
    "    'foo': {'count': 4, 'size': None},\n",
    "    'bars': [\n",
    "        {'apple': 'x1', 'banana': 'y'},\n",
    "        {'apple': 'x2', 'banana': 'y'},\n",
    "    ],\n",
    "}\n",
    "\"\"\";"
   ]
  },
  {
   "cell_type": "code",
   "execution_count": 14,
   "metadata": {},
   "outputs": [
    {
     "data": {
      "text/plain": [
       "Spam(foo=Foo(count=4, size=None), bars=[Bar(apple='x1', banana='y'), Bar(apple='x2', banana='y')])"
      ]
     },
     "execution_count": 14,
     "metadata": {},
     "output_type": "execute_result"
    }
   ],
   "source": [
    "m = Spam(foo=Foo(count=4), bars=[Bar(apple=\"x1\"), Bar(apple=\"x2\")])  # pyright: ignore\n",
    "# NOTE: Above, PyRight isn't happy about the `apple` initializer parameter in `Bar`.\n",
    "# I guess this is dynamically created by BaseModel, but PyRight doesn't know it...\n",
    "\n",
    "m"
   ]
  },
  {
   "attachments": {},
   "cell_type": "markdown",
   "metadata": {},
   "source": [
    "### ORM Mode (aka Arbitrary Class Instances)\n",
    "\n",
    "Pydantic models can be created from arbitrary class instances to support models that map to ORM objects.\n",
    "\n",
    "To do this:\n",
    "* The Config property `orm_mode` must be set to `True`.\n",
    "* The special constructor `from_orm` must be used to create the model instance.\n",
    "\n",
    "The example here uses SQLAlchemy, but the same approach should work for any ORM."
   ]
  },
  {
   "cell_type": "code",
   "execution_count": 15,
   "metadata": {},
   "outputs": [
    {
     "name": "stdout",
     "output_type": "stream",
     "text": [
      "<__main__.CompanyOrm object at 0x7f46d0cfdd00>\n",
      "id=123 public_key='foobar' name='Testing' domains=['example.com', 'foobar.com']\n"
     ]
    }
   ],
   "source": [
    "from typing import List\n",
    "from sqlalchemy import Column, Integer, String\n",
    "from sqlalchemy.dialects.postgresql import ARRAY\n",
    "from sqlalchemy.ext.declarative import declarative_base\n",
    "from pydantic import BaseModel, constr\n",
    "\n",
    "Base = declarative_base()\n",
    "\n",
    "\n",
    "class CompanyOrm(Base):  # SQLAlchemy ORM.\n",
    "    __tablename__ = \"companies\"\n",
    "    id = Column(Integer, primary_key=True, nullable=False)\n",
    "    public_key = Column(String(20), index=True, nullable=False, unique=True)\n",
    "    name = Column(String(63), unique=True)\n",
    "    domains = Column(ARRAY(String(255)))\n",
    "\n",
    "\n",
    "class CompanyModel(BaseModel):  # Pydantic model.\n",
    "    id: int\n",
    "    public_key: constr(max_length=20)  # pyright: ignore\n",
    "    name: constr(max_length=63)  # pyright: ignore\n",
    "    domains: List[constr(max_length=255)]  # pyright: ignore\n",
    "\n",
    "    class Config:\n",
    "        orm_mode = True  # NOTE.\n",
    "\n",
    "\n",
    "co_orm = CompanyOrm(\n",
    "    id=123,\n",
    "    public_key=\"foobar\",\n",
    "    name=\"Testing\",\n",
    "    domains=[\"example.com\", \"foobar.com\"],\n",
    ")\n",
    "\n",
    "print(co_orm)\n",
    "# > <models_orm_mode.CompanyOrm object at 0x102154f40>\n",
    "co_model = CompanyModel.from_orm(co_orm)  # NOTE this conversion.\n",
    "print(co_model)\n",
    "# > id=123 public_key='foobar' name='Testing' domains=['example.com',\n",
    "# > 'foobar.com']"
   ]
  },
  {
   "attachments": {},
   "cell_type": "markdown",
   "metadata": {},
   "source": [
    "* Next two subsections are too ORM specific, skipped."
   ]
  },
  {
   "attachments": {},
   "cell_type": "markdown",
   "metadata": {},
   "source": [
    "### Error Handling\n",
    "\n",
    "pydantic will raise `ValidationError` whenever it finds an error in the data it's validating.\n",
    "\n",
    "> Validation code should not raise `ValidationError` itself, but rather raise \n",
    "`ValueError`, `TypeError` or `AssertionError` (or subclasses of `ValueError` or `TypeError`)\n",
    "which will be caught and used to populate `ValidationError`.\n",
    "\n",
    "One exception will be raised regardless of the number of errors found, that `ValidationError` will contain information about all the errors and how they happened."
   ]
  },
  {
   "cell_type": "code",
   "execution_count": 17,
   "metadata": {},
   "outputs": [
    {
     "name": "stdout",
     "output_type": "stream",
     "text": [
      "5 validation errors for Model\n",
      "is_required\n",
      "  field required (type=value_error.missing)\n",
      "gt_int\n",
      "  ensure this value is greater than 42 (type=value_error.number.not_gt; limit_value=42)\n",
      "list_of_ints -> 2\n",
      "  value is not a valid integer (type=type_error.integer)\n",
      "a_float\n",
      "  value is not a valid float (type=type_error.float)\n",
      "recursive_model -> lng\n",
      "  value is not a valid float (type=type_error.float)\n",
      "---\n",
      "[\n",
      "  {\n",
      "    \"loc\": [\n",
      "      \"is_required\"\n",
      "    ],\n",
      "    \"msg\": \"field required\",\n",
      "    \"type\": \"value_error.missing\"\n",
      "  },\n",
      "  {\n",
      "    \"loc\": [\n",
      "      \"gt_int\"\n",
      "    ],\n",
      "    \"msg\": \"ensure this value is greater than 42\",\n",
      "    \"type\": \"value_error.number.not_gt\",\n",
      "    \"ctx\": {\n",
      "      \"limit_value\": 42\n",
      "    }\n",
      "  },\n",
      "  {\n",
      "    \"loc\": [\n",
      "      \"list_of_ints\",\n",
      "      2\n",
      "    ],\n",
      "    \"msg\": \"value is not a valid integer\",\n",
      "    \"type\": \"type_error.integer\"\n",
      "  },\n",
      "  {\n",
      "    \"loc\": [\n",
      "      \"a_float\"\n",
      "    ],\n",
      "    \"msg\": \"value is not a valid float\",\n",
      "    \"type\": \"type_error.float\"\n",
      "  },\n",
      "  {\n",
      "    \"loc\": [\n",
      "      \"recursive_model\",\n",
      "      \"lng\"\n",
      "    ],\n",
      "    \"msg\": \"value is not a valid float\",\n",
      "    \"type\": \"type_error.float\"\n",
      "  }\n",
      "]\n"
     ]
    }
   ],
   "source": [
    "from typing import List\n",
    "from pydantic import BaseModel, ValidationError, conint\n",
    "\n",
    "\n",
    "class Location(BaseModel):\n",
    "    lat = 0.1\n",
    "    lng = 10.1\n",
    "\n",
    "\n",
    "class Model(BaseModel):\n",
    "    is_required: float\n",
    "    gt_int: conint(gt=42)  # pyright: ignore\n",
    "    list_of_ints: List[int] = None  # pyright: ignore\n",
    "    a_float: float = None  # pyright: ignore\n",
    "    recursive_model: Location = None  # pyright: ignore\n",
    "\n",
    "\n",
    "# NOTE: ^ It seems pydantic is happy with = None without specifying Optional[].\n",
    "\n",
    "\n",
    "data = dict(\n",
    "    list_of_ints=[\"1\", 2, \"bad\"],\n",
    "    a_float=\"not a float\",\n",
    "    recursive_model={\"lat\": 4.2, \"lng\": \"New York\"},\n",
    "    gt_int=21,\n",
    ")\n",
    "\n",
    "try:\n",
    "    Model(**data)  # pyright: ignore\n",
    "except ValidationError as e:\n",
    "    print(e)\n",
    "    \"\"\"\n",
    "    5 validation errors for Model\n",
    "    is_required\n",
    "      field required (type=value_error.missing)\n",
    "    gt_int\n",
    "      ensure this value is greater than 42 (type=value_error.number.not_gt;\n",
    "    limit_value=42)\n",
    "    list_of_ints -> 2\n",
    "      value is not a valid integer (type=type_error.integer)\n",
    "    a_float\n",
    "      value is not a valid float (type=type_error.float)\n",
    "    recursive_model -> lng\n",
    "      value is not a valid float (type=type_error.float)\n",
    "    \"\"\"\n",
    "\n",
    "print(\"---\")\n",
    "\n",
    "try:\n",
    "    Model(**data)  # pyright: ignore\n",
    "except ValidationError as e:\n",
    "    print(e.json())\n",
    "    \"\"\"\n",
    "    [\n",
    "      {\n",
    "        \"loc\": [\n",
    "          \"is_required\"\n",
    "        ],\n",
    "        \"msg\": \"field required\",\n",
    "        \"type\": \"value_error.missing\"\n",
    "      },\n",
    "      {\n",
    "        \"loc\": [\n",
    "          \"gt_int\"\n",
    "        ],\n",
    "        \"msg\": \"ensure this value is greater than 42\",\n",
    "        \"type\": \"value_error.number.not_gt\",\n",
    "        \"ctx\": {\n",
    "          \"limit_value\": 42\n",
    "        }\n",
    "      },\n",
    "      {\n",
    "        \"loc\": [\n",
    "          \"list_of_ints\",\n",
    "          2\n",
    "        ],\n",
    "        \"msg\": \"value is not a valid integer\",\n",
    "        \"type\": \"type_error.integer\"\n",
    "      },\n",
    "      {\n",
    "        \"loc\": [\n",
    "          \"a_float\"\n",
    "        ],\n",
    "        \"msg\": \"value is not a valid float\",\n",
    "        \"type\": \"type_error.float\"\n",
    "      },\n",
    "      {\n",
    "        \"loc\": [\n",
    "          \"recursive_model\",\n",
    "          \"lng\"\n",
    "        ],\n",
    "        \"msg\": \"value is not a valid float\",\n",
    "        \"type\": \"type_error.float\"\n",
    "      }\n",
    "    ]\n",
    "    \"\"\""
   ]
  },
  {
   "attachments": {},
   "cell_type": "markdown",
   "metadata": {},
   "source": [
    "In your custom data types or validators you should use `ValueError`, `TypeError` or `AssertionError` to raise errors."
   ]
  },
  {
   "cell_type": "code",
   "execution_count": 18,
   "metadata": {},
   "outputs": [
    {
     "name": "stdout",
     "output_type": "stream",
     "text": [
      "[{'loc': ('foo',), 'msg': 'value must be \"bar\"', 'type': 'value_error'}]\n"
     ]
    }
   ],
   "source": [
    "from pydantic import BaseModel, ValidationError, validator\n",
    "\n",
    "\n",
    "class Model(BaseModel):\n",
    "    foo: str\n",
    "\n",
    "    @validator(\"foo\")  # NOTE: Using @validator decorator.\n",
    "    def value_must_equal_bar(cls, v):\n",
    "        if v != \"bar\":\n",
    "            raise ValueError('value must be \"bar\"')\n",
    "\n",
    "        return v\n",
    "\n",
    "\n",
    "try:\n",
    "    Model(foo=\"ber\")\n",
    "except ValidationError as e:\n",
    "    print(e.errors())\n",
    "    \"\"\"\n",
    "    [\n",
    "        {\n",
    "            'loc': ('foo',),\n",
    "            'msg': 'value must be \"bar\"',\n",
    "            'type': 'value_error',\n",
    "        },\n",
    "    ]\n",
    "    \"\"\""
   ]
  },
  {
   "attachments": {},
   "cell_type": "markdown",
   "metadata": {},
   "source": [
    "You can also define your **own error classes**, which can specify a custom error *code, message template, and context*:"
   ]
  },
  {
   "cell_type": "code",
   "execution_count": 19,
   "metadata": {},
   "outputs": [
    {
     "name": "stdout",
     "output_type": "stream",
     "text": [
      "[\n",
      "  {\n",
      "    \"loc\": [\n",
      "      \"foo\"\n",
      "    ],\n",
      "    \"msg\": \"value is not \\\"bar\\\", got \\\"ber\\\"\",\n",
      "    \"type\": \"value_error.not_a_bar\",\n",
      "    \"ctx\": {\n",
      "      \"wrong_value\": \"ber\"\n",
      "    }\n",
      "  }\n",
      "]\n"
     ]
    }
   ],
   "source": [
    "from pydantic import BaseModel, PydanticValueError, ValidationError, validator\n",
    "\n",
    "\n",
    "class NotABarError(PydanticValueError):  # NOTE: Custom validation error.\n",
    "    code = \"not_a_bar\"\n",
    "    msg_template = 'value is not \"bar\", got \"{wrong_value}\"'\n",
    "\n",
    "\n",
    "class Model(BaseModel):\n",
    "    foo: str\n",
    "\n",
    "    @validator(\"foo\")\n",
    "    def value_must_equal_bar(cls, v):\n",
    "        if v != \"bar\":\n",
    "            raise NotABarError(wrong_value=v)  # NOTE: Raised here.\n",
    "        return v\n",
    "\n",
    "\n",
    "try:\n",
    "    Model(foo=\"ber\")\n",
    "except ValidationError as e:\n",
    "    print(e.json())\n",
    "    \"\"\"\n",
    "    [\n",
    "      {\n",
    "        \"loc\": [\n",
    "          \"foo\"\n",
    "        ],\n",
    "        \"msg\": \"value is not \\\"bar\\\", got \\\"ber\\\"\",\n",
    "        \"type\": \"value_error.not_a_bar\",\n",
    "        \"ctx\": {\n",
    "          \"wrong_value\": \"ber\"\n",
    "        }\n",
    "      }\n",
    "    ]\n",
    "    \"\"\""
   ]
  },
  {
   "attachments": {},
   "cell_type": "markdown",
   "metadata": {},
   "source": [
    "### Helper Functions\n",
    "\n",
    "Pydantic provides three classmethod helper functions on models for parsing data:\n",
    "\n",
    "* `parse_obj`: this is very similar to the `__init__` method of the model, except it takes a dict rather than keyword arguments. If the object passed is not a dict a `ValidationError` will be raised.\n",
    "* `parse_raw`: this takes a `str` or `bytes` and parses it as *json*, then passes the result to `parse_obj`. Parsing *pickle* data is also supported by setting the `content_type` argument appropriately.\n",
    "* `parse_file`: this takes in a file path, reads the file and passes the contents to `parse_raw`. If `content_type` is omitted, it is inferred from the file's extension.\n"
   ]
  },
  {
   "cell_type": "code",
   "execution_count": 20,
   "metadata": {},
   "outputs": [
    {
     "name": "stdout",
     "output_type": "stream",
     "text": [
      "id=123 signup_ts=None name='James'\n",
      "1 validation error for User\n",
      "__root__\n",
      "  User expected dict not list (type=type_error)\n",
      "id=123 signup_ts=None name='James'\n",
      "id=123 signup_ts=datetime.datetime(2017, 7, 14, 0, 0) name='James'\n",
      "id=123 signup_ts=None name='James'\n"
     ]
    }
   ],
   "source": [
    "import pickle\n",
    "from datetime import datetime\n",
    "from pathlib import Path\n",
    "\n",
    "from pydantic import BaseModel, ValidationError\n",
    "\n",
    "\n",
    "class User(BaseModel):\n",
    "    id: int\n",
    "    name = \"John Doe\"\n",
    "    signup_ts: datetime = None  # pyright: ignore\n",
    "\n",
    "\n",
    "m = User.parse_obj({\"id\": 123, \"name\": \"James\"})  # NOTE.\n",
    "print(m)\n",
    "# > id=123 signup_ts=None name='James'\n",
    "\n",
    "try:\n",
    "    User.parse_obj([\"not\", \"a\", \"dict\"])  # NOTE.\n",
    "except ValidationError as e:\n",
    "    print(e)\n",
    "    \"\"\"\n",
    "    1 validation error for User\n",
    "    __root__\n",
    "      User expected dict not list (type=type_error)\n",
    "    \"\"\"\n",
    "\n",
    "# assumes json as no content type passed\n",
    "m = User.parse_raw('{\"id\": 123, \"name\": \"James\"}')  # NOTE.\n",
    "print(m)\n",
    "# > id=123 signup_ts=None name='James'\n",
    "\n",
    "pickle_data = pickle.dumps(\n",
    "    {\"id\": 123, \"name\": \"James\", \"signup_ts\": datetime(2017, 7, 14)}\n",
    ")\n",
    "m = User.parse_raw(  # NOTE.\n",
    "    pickle_data, content_type=\"application/pickle\", allow_pickle=True\n",
    ")\n",
    "print(m)\n",
    "# > id=123 signup_ts=datetime.datetime(2017, 7, 14, 0, 0) name='James'\n",
    "\n",
    "path = Path(\"data.json\")\n",
    "path.write_text('{\"id\": 123, \"name\": \"James\"}')\n",
    "m = User.parse_file(path)  # NOTE.\n",
    "print(m)\n",
    "# > id=123 signup_ts=None name='James'"
   ]
  },
  {
   "attachments": {},
   "cell_type": "markdown",
   "metadata": {},
   "source": [
    "#### Creating models without validation\n",
    "\n",
    "`construct()` bypasses validation for speed (x30 faster). Only use when sure that data is already validated."
   ]
  },
  {
   "cell_type": "code",
   "execution_count": 21,
   "metadata": {},
   "outputs": [
    {
     "name": "stdout",
     "output_type": "stream",
     "text": [
      "{'id': 123, 'age': 32, 'name': 'John Doe'}\n",
      "{'age', 'id'}\n",
      "User(id=123, age=32, name='John Doe')\n",
      "{'age', 'id'}\n",
      "User(id='dog', name='John Doe')\n"
     ]
    }
   ],
   "source": [
    "from pydantic import BaseModel\n",
    "\n",
    "\n",
    "class User(BaseModel):\n",
    "    id: int\n",
    "    age: int\n",
    "    name: str = \"John Doe\"\n",
    "\n",
    "\n",
    "original_user = User(id=123, age=32)\n",
    "\n",
    "user_data = original_user.dict()\n",
    "print(user_data)\n",
    "# > {'id': 123, 'age': 32, 'name': 'John Doe'}\n",
    "fields_set = original_user.__fields_set__\n",
    "print(fields_set)\n",
    "# > {'id', 'age'}\n",
    "\n",
    "# ...\n",
    "# pass user_data and fields_set to RPC or save to the database etc.\n",
    "# ...\n",
    "\n",
    "# you can then create a new instance of User without\n",
    "# re-running validation which would be unnecessary at this point:\n",
    "new_user = User.construct(_fields_set=fields_set, **user_data)  # NOTE.\n",
    "print(repr(new_user))\n",
    "# > User(id=123, age=32, name='John Doe')\n",
    "print(new_user.__fields_set__)\n",
    "# > {'id', 'age'}\n",
    "\n",
    "# construct can be dangerous, only use it with validated data!:\n",
    "bad_user = User.construct(id=\"dog\")  # NOTE.\n",
    "print(repr(bad_user))\n",
    "# > User(id='dog', name='John Doe')"
   ]
  },
  {
   "attachments": {},
   "cell_type": "markdown",
   "metadata": {},
   "source": [
    "### Generic Models\n",
    "\n",
    "In order to declare a generic model, you perform the following steps:\n",
    "\n",
    "* Declare one or more `typing.TypeVar` instances to use to parameterize your model.\n",
    "* Declare a pydantic model that inherits from `pydantic.generics.GenericModel` and `typing.Generic`, where you pass the `TypeVar` instances as parameters to `typing.Generic`.\n",
    "* Use the `TypeVar` instances as annotations where you will want to replace them with other types or pydantic models.\n"
   ]
  },
  {
   "cell_type": "code",
   "execution_count": 22,
   "metadata": {},
   "outputs": [
    {
     "name": "stdout",
     "output_type": "stream",
     "text": [
      "data=1 error=None\n",
      "data='value' error=None\n",
      "{'data': 'value', 'error': None}\n",
      "{'data': {'numbers': [1, 2, 3], 'people': []}, 'error': None}\n",
      "{'data': None, 'error': {'code': 404, 'message': 'Not found'}}\n",
      "2 validation errors for Response[int]\n",
      "data\n",
      "  value is not a valid integer (type=type_error.integer)\n",
      "error\n",
      "  must provide data or error (type=value_error)\n"
     ]
    }
   ],
   "source": [
    "from typing import Generic, TypeVar, Optional, List\n",
    "\n",
    "from pydantic import BaseModel, validator, ValidationError\n",
    "from pydantic.generics import GenericModel\n",
    "\n",
    "DataT = TypeVar(\"DataT\")  # NOTE.\n",
    "\n",
    "\n",
    "class Error(BaseModel):\n",
    "    code: int\n",
    "    message: str\n",
    "\n",
    "\n",
    "class DataModel(BaseModel):\n",
    "    numbers: List[int]\n",
    "    people: List[str]\n",
    "\n",
    "\n",
    "class Response(GenericModel, Generic[DataT]):  # NOTE.\n",
    "    data: Optional[DataT]\n",
    "    error: Optional[Error]\n",
    "\n",
    "    @validator(\"error\", always=True)\n",
    "    def check_consistency(cls, v, values):\n",
    "        if v is not None and values[\"data\"] is not None:\n",
    "            raise ValueError(\"must not provide both data and error\")\n",
    "        if v is None and values.get(\"data\") is None:\n",
    "            raise ValueError(\"must provide data or error\")\n",
    "        return v\n",
    "\n",
    "\n",
    "data = DataModel(numbers=[1, 2, 3], people=[])\n",
    "error = Error(code=404, message=\"Not found\")\n",
    "\n",
    "print(Response[int](data=1))  # pyright: ignore\n",
    "# > data=1 error=None\n",
    "print(Response[str](data=\"value\"))  # pyright: ignore\n",
    "# > data='value' error=None\n",
    "print(Response[str](data=\"value\").dict())  # pyright: ignore\n",
    "# > {'data': 'value', 'error': None}\n",
    "print(Response[DataModel](data=data).dict())  # pyright: ignore\n",
    "\"\"\"\n",
    "{\n",
    "    'data': {'numbers': [1, 2, 3], 'people': []},\n",
    "    'error': None,\n",
    "}\n",
    "\"\"\"\n",
    "\n",
    "print(Response[DataModel](error=error).dict())  # pyright: ignore\n",
    "\"\"\"\n",
    "{\n",
    "    'data': None,\n",
    "    'error': {'code': 404, 'message': 'Not found'},\n",
    "}\n",
    "\"\"\"\n",
    "try:\n",
    "    Response[int](data=\"value\")  # pyright: ignore\n",
    "except ValidationError as e:\n",
    "    print(e)\n",
    "    \"\"\"\n",
    "    2 validation errors for Response[int]\n",
    "    data\n",
    "      value is not a valid integer (type=type_error.integer)\n",
    "    error\n",
    "      must provide data or error (type=value_error)\n",
    "    \"\"\""
   ]
  },
  {
   "attachments": {},
   "cell_type": "markdown",
   "metadata": {},
   "source": [
    "**Note**\n",
    "\n",
    "To inherit from a `GenericModel` without replacing the `TypeVar` instance, a class must also inherit from `typing.Generic`:"
   ]
  },
  {
   "cell_type": "code",
   "execution_count": 23,
   "metadata": {},
   "outputs": [
    {
     "name": "stdout",
     "output_type": "stream",
     "text": [
      "X=1\n"
     ]
    }
   ],
   "source": [
    "from typing import TypeVar, Generic\n",
    "from pydantic.generics import GenericModel\n",
    "\n",
    "TypeX = TypeVar(\"TypeX\")\n",
    "\n",
    "\n",
    "class BaseClass(GenericModel, Generic[TypeX]):\n",
    "    X: TypeX\n",
    "\n",
    "\n",
    "# ∧\n",
    "# |\n",
    "# |\n",
    "class ChildClass(BaseClass[TypeX], Generic[TypeX]):  # NOTE.\n",
    "    # Inherit from Generic[TypeX]\n",
    "    pass\n",
    "\n",
    "\n",
    "# Replace TypeX by int\n",
    "print(ChildClass[int](X=1))\n",
    "# > X=1"
   ]
  },
  {
   "attachments": {},
   "cell_type": "markdown",
   "metadata": {},
   "source": [
    "You can also create a generic subclass of a `GenericModel` that partially or fully replaces the type parameters in the superclass."
   ]
  },
  {
   "cell_type": "code",
   "execution_count": 24,
   "metadata": {},
   "outputs": [
    {
     "name": "stdout",
     "output_type": "stream",
     "text": [
      "x=1 y='y' z=3\n"
     ]
    }
   ],
   "source": [
    "from typing import TypeVar, Generic\n",
    "from pydantic.generics import GenericModel\n",
    "\n",
    "TypeX = TypeVar(\"TypeX\")\n",
    "TypeY = TypeVar(\"TypeY\")\n",
    "TypeZ = TypeVar(\"TypeZ\")\n",
    "\n",
    "\n",
    "class BaseClass(GenericModel, Generic[TypeX, TypeY]):\n",
    "    x: TypeX\n",
    "    y: TypeY\n",
    "\n",
    "\n",
    "# ∧\n",
    "# |\n",
    "# |\n",
    "class ChildClass(\n",
    "    BaseClass[int, TypeY], Generic[TypeY, TypeZ]\n",
    "):  # NOTE: Look at this line carefully!\n",
    "    z: TypeZ\n",
    "\n",
    "\n",
    "# Replace TypeY by str\n",
    "print(ChildClass[str, int](x=1, y=\"y\", z=3))\n",
    "# > x=1 y='y' z=3"
   ]
  },
  {
   "attachments": {},
   "cell_type": "markdown",
   "metadata": {},
   "source": [
    "If the name of the concrete subclasses is important, you can also override the default behavior:"
   ]
  },
  {
   "cell_type": "code",
   "execution_count": 25,
   "metadata": {},
   "outputs": [
    {
     "name": "stdout",
     "output_type": "stream",
     "text": [
      "IntResponse(data=1)\n",
      "StrResponse(data='a')\n"
     ]
    }
   ],
   "source": [
    "from typing import Generic, TypeVar, Type, Any, Tuple\n",
    "\n",
    "from pydantic.generics import GenericModel\n",
    "\n",
    "DataT = TypeVar(\"DataT\")\n",
    "\n",
    "\n",
    "class Response(GenericModel, Generic[DataT]):\n",
    "    data: DataT\n",
    "\n",
    "    @classmethod\n",
    "    def __concrete_name__(\n",
    "        cls: Type[Any], params: Tuple[Type[Any], ...]\n",
    "    ) -> str:  # NOTE.\n",
    "        return f\"{params[0].__name__.title()}Response\"\n",
    "\n",
    "\n",
    "print(repr(Response[int](data=1)))\n",
    "# > IntResponse(data=1)\n",
    "print(repr(Response[str](data=\"a\")))\n",
    "# > StrResponse(data='a')"
   ]
  },
  {
   "attachments": {},
   "cell_type": "markdown",
   "metadata": {},
   "source": [
    "Using the same `TypeVar` in nested models allows you to enforce typing relationships at different points in your model:"
   ]
  },
  {
   "cell_type": "code",
   "execution_count": 26,
   "metadata": {},
   "outputs": [
    {
     "name": "stdout",
     "output_type": "stream",
     "text": [
      "outer=1 nested=InnerT[int](inner=1)\n",
      "2 validation errors for OuterT[int]\n",
      "outer\n",
      "  value is not a valid integer (type=type_error.integer)\n",
      "nested -> inner\n",
      "  value is not a valid integer (type=type_error.integer)\n"
     ]
    }
   ],
   "source": [
    "from typing import Generic, TypeVar\n",
    "\n",
    "from pydantic import ValidationError\n",
    "from pydantic.generics import GenericModel\n",
    "\n",
    "T = TypeVar(\"T\")\n",
    "\n",
    "\n",
    "class InnerT(GenericModel, Generic[T]):\n",
    "    inner: T\n",
    "\n",
    "\n",
    "class OuterT(GenericModel, Generic[T]):\n",
    "    outer: T\n",
    "    nested: InnerT[T]\n",
    "\n",
    "\n",
    "nested = InnerT[int](inner=1)\n",
    "print(OuterT[int](outer=1, nested=nested))\n",
    "# > outer=1 nested=InnerT[int](inner=1)\n",
    "try:\n",
    "    nested = InnerT[str](inner=\"a\")\n",
    "    print(OuterT[int](outer=\"a\", nested=nested))  # NOTE here.\n",
    "except ValidationError as e:\n",
    "    print(e)\n",
    "    \"\"\"\n",
    "    2 validation errors for OuterT[int]\n",
    "    outer\n",
    "      value is not a valid integer (type=type_error.integer)\n",
    "    nested -> inner\n",
    "      value is not a valid integer (type=type_error.integer)\n",
    "    \"\"\""
   ]
  },
  {
   "cell_type": "code",
   "execution_count": 27,
   "metadata": {},
   "outputs": [
    {
     "name": "stdout",
     "output_type": "stream",
     "text": [
      "a='a' b='a'\n",
      "a=1 b=1\n",
      "2 validation errors for Model[int, IntT]\n",
      "a\n",
      "  value is not a valid integer (type=type_error.integer)\n",
      "b\n",
      "  value is not a valid integer (type=type_error.integer)\n",
      "a=1 b=1\n"
     ]
    }
   ],
   "source": [
    "# Bounds are supported.\n",
    "\n",
    "from typing import Generic, TypeVar\n",
    "\n",
    "from pydantic import ValidationError\n",
    "from pydantic.generics import GenericModel\n",
    "\n",
    "AT = TypeVar(\"AT\")\n",
    "BT = TypeVar(\"BT\")\n",
    "\n",
    "\n",
    "class Model(GenericModel, Generic[AT, BT]):\n",
    "    a: AT\n",
    "    b: BT\n",
    "\n",
    "\n",
    "print(Model(a=\"a\", b=\"a\"))\n",
    "# > a='a' b='a'\n",
    "\n",
    "IntT = TypeVar(\"IntT\", bound=int)\n",
    "typevar_model = Model[int, IntT]\n",
    "print(typevar_model(a=1, b=1))  # pyright: ignore\n",
    "# > a=1 b=1\n",
    "try:\n",
    "    typevar_model(a=\"a\", b=\"a\")\n",
    "except ValidationError as exc:\n",
    "    print(exc)\n",
    "    \"\"\"\n",
    "    2 validation errors for Model[int, IntT]\n",
    "    a\n",
    "      value is not a valid integer (type=type_error.integer)\n",
    "    b\n",
    "      value is not a valid integer (type=type_error.integer)\n",
    "    \"\"\"\n",
    "\n",
    "concrete_model = typevar_model[int]\n",
    "print(concrete_model(a=1, b=1))\n",
    "# > a=1 b=1"
   ]
  },
  {
   "attachments": {},
   "cell_type": "markdown",
   "metadata": {},
   "source": [
    "### Dynamic model creation"
   ]
  },
  {
   "cell_type": "code",
   "execution_count": 28,
   "metadata": {},
   "outputs": [],
   "source": [
    "# Here StaticFoobarModel and DynamicFoobarModel are identical.\n",
    "\n",
    "from pydantic import BaseModel, create_model\n",
    "\n",
    "DynamicFoobarModel = create_model(\n",
    "    \"DynamicFoobarModel\", foo=(str, ...), bar=123\n",
    ")  # NOTE the `...` default value.\n",
    "# ^ Fields are defined by either a tuple of the form (<type>, <default value>) or just a default value.\n",
    "\n",
    "\n",
    "class StaticFoobarModel(BaseModel):\n",
    "    foo: str\n",
    "    bar: int = 123"
   ]
  },
  {
   "cell_type": "code",
   "execution_count": 30,
   "metadata": {},
   "outputs": [
    {
     "ename": "ValidationError",
     "evalue": "1 validation error for DynamicFoobarModel\nfoo\n  field required (type=value_error.missing)",
     "output_type": "error",
     "traceback": [
      "\u001b[0;31m---------------------------------------------------------------------------\u001b[0m",
      "\u001b[0;31mValidationError\u001b[0m                           Traceback (most recent call last)",
      "Cell \u001b[0;32mIn[30], line 3\u001b[0m\n\u001b[1;32m      1\u001b[0m \u001b[39m# foo=(str, ...) above ensures that foo needs to be specified, hence below is an error.\u001b[39;00m\n\u001b[0;32m----> 3\u001b[0m d \u001b[39m=\u001b[39m DynamicFoobarModel()\n\u001b[1;32m      4\u001b[0m d\n",
      "File \u001b[0;32m/mnt/data-linux/miniconda3/envs/learn_py38_pydantic/lib/python3.8/site-packages/pydantic/main.py:342\u001b[0m, in \u001b[0;36mpydantic.main.BaseModel.__init__\u001b[0;34m()\u001b[0m\n",
      "\u001b[0;31mValidationError\u001b[0m: 1 validation error for DynamicFoobarModel\nfoo\n  field required (type=value_error.missing)"
     ]
    }
   ],
   "source": [
    "# foo=(str, ...) above ensures that foo needs to be specified, hence below is an error.\n",
    "\n",
    "d = DynamicFoobarModel()\n",
    "d"
   ]
  },
  {
   "cell_type": "code",
   "execution_count": 31,
   "metadata": {},
   "outputs": [
    {
     "name": "stdout",
     "output_type": "stream",
     "text": [
      "<class 'pydantic.main.BarModel'>\n",
      "dict_keys(['foo', 'bar', 'apple', 'banana'])\n"
     ]
    }
   ],
   "source": [
    "# The special key word arguments __config__ and __base__ can be used to customise the new model.\n",
    "# This includes extending a base model with extra fields.\n",
    "\n",
    "from pydantic import BaseModel, create_model\n",
    "\n",
    "\n",
    "class FooModel(BaseModel):\n",
    "    foo: str\n",
    "    bar: int = 123\n",
    "\n",
    "\n",
    "BarModel = create_model(\n",
    "    \"BarModel\",\n",
    "    apple=\"russet\",\n",
    "    banana=\"yellow\",\n",
    "    __base__=FooModel,\n",
    ")\n",
    "print(BarModel)\n",
    "# > <class 'pydantic.main.BarModel'>\n",
    "print(BarModel.__fields__.keys())\n",
    "# > dict_keys(['foo', 'bar', 'apple', 'banana'])"
   ]
  },
  {
   "cell_type": "code",
   "execution_count": 32,
   "metadata": {},
   "outputs": [
    {
     "name": "stdout",
     "output_type": "stream",
     "text": [
      "username='scolvin'\n",
      "1 validation error for UserModel\n",
      "username\n",
      "  must be alphanumeric (type=assertion_error)\n"
     ]
    }
   ],
   "source": [
    "# You can also add validators by passing a dict to the __validators__ argument.\n",
    "\n",
    "from pydantic import create_model, ValidationError, validator\n",
    "\n",
    "\n",
    "def username_alphanumeric(cls, v):\n",
    "    assert v.isalnum(), \"must be alphanumeric\"\n",
    "    return v\n",
    "\n",
    "\n",
    "validators = {\"username_validator\": validator(\"username\")(username_alphanumeric)}\n",
    "\n",
    "UserModel = create_model(\"UserModel\", username=(str, ...), __validators__=validators)\n",
    "\n",
    "user = UserModel(username=\"scolvin\")\n",
    "print(user)\n",
    "# > username='scolvin'\n",
    "\n",
    "try:\n",
    "    UserModel(username=\"scolvi%n\")\n",
    "except ValidationError as e:\n",
    "    print(e)\n",
    "    \"\"\"\n",
    "    1 validation error for UserModel\n",
    "    username\n",
    "      must be alphanumeric (type=assertion_error)\n",
    "    \"\"\""
   ]
  },
  {
   "attachments": {},
   "cell_type": "markdown",
   "metadata": {},
   "source": [
    "### Model creation from `NamedTuple` or `TypedDict`\n",
    "\n",
    "Sometimes you already use in your application classes that inherit from `NamedTuple` or `TypedDict`\n",
    "and you don't want to duplicate all your information to have a `BaseModel`.\n",
    "\n",
    "For this pydantic provides `create_model_from_namedtuple` and `create_model_from_typeddict` methods.\n",
    "Those methods have the exact same keyword arguments as `create_model`."
   ]
  },
  {
   "cell_type": "code",
   "execution_count": 33,
   "metadata": {},
   "outputs": [
    {
     "name": "stdout",
     "output_type": "stream",
     "text": [
      "User(name='123', id=3)\n",
      "1 validation error for User\n",
      "other\n",
      "  extra fields not permitted (type=value_error.extra)\n"
     ]
    }
   ],
   "source": [
    "from typing_extensions import TypedDict\n",
    "\n",
    "from pydantic import ValidationError, create_model_from_typeddict\n",
    "\n",
    "\n",
    "class User(TypedDict):\n",
    "    name: str\n",
    "    id: int\n",
    "\n",
    "\n",
    "class Config:\n",
    "    extra = \"forbid\"\n",
    "\n",
    "\n",
    "UserM = create_model_from_typeddict(User, __config__=Config)  # NOTE.\n",
    "print(repr(UserM(name=123, id=\"3\")))\n",
    "# > User(name='123', id=3)\n",
    "\n",
    "try:\n",
    "    UserM(name=123, id=\"3\", other=\"no\")\n",
    "except ValidationError as e:\n",
    "    print(e)\n",
    "    \"\"\"\n",
    "    1 validation error for User\n",
    "    other\n",
    "      extra fields not permitted (type=value_error.extra)\n",
    "    \"\"\""
   ]
  },
  {
   "attachments": {},
   "cell_type": "markdown",
   "metadata": {},
   "source": [
    "### Custom Root Types"
   ]
  },
  {
   "cell_type": "code",
   "execution_count": 2,
   "metadata": {},
   "outputs": [
    {
     "name": "stdout",
     "output_type": "stream",
     "text": [
      "__root__=['dog', 'cat']\n",
      "[\"dog\", \"cat\"]\n",
      "__root__=['dog', 'cat']\n",
      "{'title': 'Pets', 'type': 'array', 'items': {'type': 'string'}}\n",
      "{\n",
      "  \"definitions\": {\n",
      "    \"Pets\": {\n",
      "      \"title\": \"Pets\",\n",
      "      \"type\": \"array\",\n",
      "      \"items\": {\n",
      "        \"type\": \"string\"\n",
      "      }\n",
      "    }\n",
      "  }\n",
      "}\n"
     ]
    }
   ],
   "source": [
    "from typing import List\n",
    "import json\n",
    "from pydantic import BaseModel\n",
    "from pydantic.schema import schema\n",
    "\n",
    "\n",
    "class Pets(BaseModel):\n",
    "    __root__: List[str]  # NOTE.\n",
    "\n",
    "\n",
    "print(Pets(__root__=[\"dog\", \"cat\"]))\n",
    "# > __root__=['dog', 'cat']\n",
    "print(Pets(__root__=[\"dog\", \"cat\"]).json())\n",
    "# > [\"dog\", \"cat\"]\n",
    "print(Pets.parse_obj([\"dog\", \"cat\"]))\n",
    "# > __root__=['dog', 'cat']\n",
    "print(Pets.schema())\n",
    "\"\"\"\n",
    "{\n",
    "    'title': 'Pets',\n",
    "    'type': 'array',\n",
    "    'items': {'type': 'string'},\n",
    "}\n",
    "\"\"\"\n",
    "\n",
    "pets_schema = schema([Pets])\n",
    "print(json.dumps(pets_schema, indent=2))\n",
    "\"\"\"\n",
    "{\n",
    "  \"definitions\": {\n",
    "    \"Pets\": {\n",
    "      \"title\": \"Pets\",\n",
    "      \"type\": \"array\",\n",
    "      \"items\": {\n",
    "        \"type\": \"string\"\n",
    "      }\n",
    "    }\n",
    "  }\n",
    "}\n",
    "\"\"\";"
   ]
  },
  {
   "attachments": {},
   "cell_type": "markdown",
   "metadata": {},
   "source": [
    "* The rest of this section is too specific, skipped."
   ]
  },
  {
   "attachments": {},
   "cell_type": "markdown",
   "metadata": {},
   "source": [
    "### Faux Immutability\n",
    "\n",
    "Models can be configured to be immutable via `allow_mutation = False`.\n",
    "\n",
    "> Immutability in Python is never strict. If developers are determined/stupid they can always modify a so-called \"immutable\" object."
   ]
  },
  {
   "cell_type": "code",
   "execution_count": 3,
   "metadata": {},
   "outputs": [
    {
     "name": "stdout",
     "output_type": "stream",
     "text": [
      "\"FooBarModel\" is immutable and does not support item assignment\n",
      "hello\n",
      "{'apple': 'pear'}\n",
      "{'apple': 'grape'}\n"
     ]
    }
   ],
   "source": [
    "from pydantic import BaseModel\n",
    "\n",
    "\n",
    "class FooBarModel(BaseModel):\n",
    "    a: str\n",
    "    b: dict\n",
    "\n",
    "    class Config:\n",
    "        allow_mutation = False  # NOTE.\n",
    "\n",
    "\n",
    "foobar = FooBarModel(a=\"hello\", b={\"apple\": \"pear\"})\n",
    "\n",
    "try:\n",
    "    foobar.a = \"different\"\n",
    "except TypeError as e:\n",
    "    print(e)\n",
    "    # > \"FooBarModel\" is immutable and does not support item assignment\n",
    "\n",
    "print(foobar.a)\n",
    "# > hello\n",
    "print(foobar.b)\n",
    "# > {'apple': 'pear'}\n",
    "foobar.b[\"apple\"] = \"grape\"\n",
    "print(foobar.b)\n",
    "# > {'apple': 'grape'}"
   ]
  },
  {
   "attachments": {},
   "cell_type": "markdown",
   "metadata": {},
   "source": [
    "### Abstract Base Classes\n",
    "\n",
    "👍 Pydantic models can be used alongside Python's Abstract Base Classes (ABCs)."
   ]
  },
  {
   "cell_type": "code",
   "execution_count": 4,
   "metadata": {},
   "outputs": [],
   "source": [
    "import abc\n",
    "from pydantic import BaseModel\n",
    "\n",
    "\n",
    "class FooBarModel(BaseModel, abc.ABC):  # NOTE.\n",
    "    a: str\n",
    "    b: int\n",
    "\n",
    "    @abc.abstractmethod\n",
    "    def my_abstract_method(self):\n",
    "        pass"
   ]
  },
  {
   "attachments": {},
   "cell_type": "markdown",
   "metadata": {},
   "source": [
    "### Field Ordering\n",
    "\n",
    "Field order is important in models for the following reasons:\n",
    "* validation is performed in the order fields are defined; fields validators can access the values of earlier fields, but not later ones\n",
    "* field order is preserved in the model schema\n",
    "* field order is preserved in validation errors\n",
    "* field order is preserved by `.dict()` and `.json()` etc."
   ]
  },
  {
   "cell_type": "code",
   "execution_count": 5,
   "metadata": {},
   "outputs": [
    {
     "name": "stdout",
     "output_type": "stream",
     "text": [
      "dict_keys(['a', 'c', 'e', 'b', 'd'])\n",
      "{'a': 1, 'c': 1, 'e': 2.0, 'b': 2, 'd': 0}\n",
      "[('a',), ('c',), ('e',), ('b',), ('d',)]\n"
     ]
    }
   ],
   "source": [
    "from pydantic import BaseModel, ValidationError\n",
    "\n",
    "\n",
    "class Model(BaseModel):\n",
    "    a: int\n",
    "    b = 2  # NOTE: The non-annotated fields combined with annotated field(s) is NOT recommended.\n",
    "    c: int = 1\n",
    "    d = 0\n",
    "    e: float\n",
    "\n",
    "\n",
    "print(Model.__fields__.keys())\n",
    "# > dict_keys(['a', 'c', 'e', 'b', 'd'])\n",
    "m = Model(e=2, a=1)\n",
    "print(m.dict())\n",
    "# > {'a': 1, 'c': 1, 'e': 2.0, 'b': 2, 'd': 0}\n",
    "try:\n",
    "    Model(a=\"x\", b=\"x\", c=\"x\", d=\"x\", e=\"x\")  # pyright: ignore\n",
    "except ValidationError as e:\n",
    "    error_locations = [e[\"loc\"] for e in e.errors()]\n",
    "\n",
    "print(error_locations)  # pyright: ignore\n",
    "# > [('a',), ('c',), ('e',), ('b',), ('d',)]"
   ]
  },
  {
   "attachments": {},
   "cell_type": "markdown",
   "metadata": {},
   "source": [
    "> As demonstrated by the example above, combining the use of annotated and non-annotated fields in the same model \n",
    "> can result in surprising field orderings. (This is due to limitations of Python)\n",
    "> \n",
    "> Therefore, we recommend adding type annotations to all fields, even when a default value would determine\n",
    "> the type by itself to guarantee field order is preserved."
   ]
  },
  {
   "attachments": {},
   "cell_type": "markdown",
   "metadata": {},
   "source": [
    "### Required Fields"
   ]
  },
  {
   "cell_type": "code",
   "execution_count": 6,
   "metadata": {},
   "outputs": [],
   "source": [
    "from pydantic import BaseModel, Field\n",
    "\n",
    "\n",
    "class Model(BaseModel):\n",
    "    a: int\n",
    "    b: int = ...  # NOTE: Will not work with mypy and is NOT recommended.\n",
    "    c: int = Field(...)"
   ]
  },
  {
   "attachments": {},
   "cell_type": "markdown",
   "metadata": {},
   "source": [
    "#### Required Optional fields\n",
    "\n",
    "If you want to specify a field that can take a `None` value **while still being required**, you can use `Optional` with `...`:"
   ]
  },
  {
   "cell_type": "code",
   "execution_count": 10,
   "metadata": {},
   "outputs": [
    {
     "name": "stdout",
     "output_type": "stream",
     "text": [
      "a=None b=1 c=2\n",
      "1 validation error for Model\n",
      "c\n",
      "  field required (type=value_error.missing)\n"
     ]
    }
   ],
   "source": [
    "from typing import Optional\n",
    "from pydantic import BaseModel, Field, ValidationError\n",
    "\n",
    "\n",
    "class Model(BaseModel):\n",
    "    a: Optional[int]\n",
    "    b: Optional[int] = ...  # NOTE: Optional with `...`. Not recommended!\n",
    "    c: Optional[int] = Field(...)  # NOTE: Optional with `...`.\n",
    "\n",
    "\n",
    "print(Model(b=1, c=2))\n",
    "# > a=None b=1 c=2\n",
    "try:\n",
    "    Model(a=1, b=2)\n",
    "except ValidationError as e:\n",
    "    print(e)\n",
    "    \"\"\"\n",
    "    1 validation error for Model\n",
    "    c\n",
    "      field required (type=value_error.missing)\n",
    "    \"\"\""
   ]
  },
  {
   "attachments": {},
   "cell_type": "markdown",
   "metadata": {},
   "source": [
    "In this model, `a`, `b`, and `c` can take `None` as a value.\n",
    "\n",
    "But `a` is optional, while `b` and `c` are required. `b` and `c` require a value, even if the value is `None`."
   ]
  },
  {
   "attachments": {},
   "cell_type": "markdown",
   "metadata": {},
   "source": [
    "### Field with dynamic default value *[Beta]*\n",
    "\n",
    "When declaring a field with a default value, you may want it to be dynamic (i.e. different for each model).\n",
    "\n",
    "To do this, you may want to use a `default_factory`."
   ]
  },
  {
   "cell_type": "code",
   "execution_count": 11,
   "metadata": {},
   "outputs": [
    {
     "name": "stdout",
     "output_type": "stream",
     "text": [
      "17ec95e2-90b5-4906-93ec-5769d4791610 != 202ca745-e7e0-4e7e-ab9c-ba53cffa6c5e\n",
      "2022-12-18 15:53:32.721526 != 2022-12-18 15:53:32.721568\n"
     ]
    }
   ],
   "source": [
    "from datetime import datetime\n",
    "from uuid import UUID, uuid4\n",
    "from pydantic import BaseModel, Field\n",
    "\n",
    "\n",
    "class Model(BaseModel):\n",
    "    uid: UUID = Field(\n",
    "        default_factory=uuid4\n",
    "    )  # NOTE: Dynamic default value (generated every instance!).\n",
    "    updated: datetime = Field(\n",
    "        default_factory=datetime.utcnow\n",
    "    )  # NOTE: Dynamic default value (generated every instance!).\n",
    "\n",
    "\n",
    "m1 = Model()\n",
    "m2 = Model()\n",
    "print(f\"{m1.uid} != {m2.uid}\")\n",
    "# > aac7f12d-a774-445d-ac39-aba7ef127532 != f529cbec-ca6d-4313-a796-e2948c1ab6b7\n",
    "print(f\"{m1.updated} != {m2.updated}\")\n",
    "# > 2022-12-06 14:32:40.915017 != 2022-12-06 14:32:40.915025"
   ]
  },
  {
   "attachments": {},
   "cell_type": "markdown",
   "metadata": {},
   "source": [
    "### Automatically excluded attributes\n",
    "\n",
    "> Class variables which\n",
    ">    * begin with an underscore \n",
    ">    * and attributes annotated with `typing.ClassVar` \n",
    "> \n",
    "> will be automatically *excluded* from the model!\n"
   ]
  },
  {
   "attachments": {},
   "cell_type": "markdown",
   "metadata": {},
   "source": [
    "### Private model attributes\n",
    "\n",
    "> ❓ I don't understand how this is different from the previous section. Are these private but not excluded?\n",
    "\n",
    "\n",
    "If you need to vary or manipulate internal attributes on instances of the model,\n",
    "you can declare them using `PrivateAttr`:"
   ]
  },
  {
   "cell_type": "code",
   "execution_count": 12,
   "metadata": {},
   "outputs": [
    {
     "name": "stdout",
     "output_type": "stream",
     "text": [
      "2022-12-18 15:59:20.830937\n",
      "2\n"
     ]
    }
   ],
   "source": [
    "from datetime import datetime\n",
    "from random import randint\n",
    "\n",
    "from pydantic import BaseModel, PrivateAttr\n",
    "\n",
    "\n",
    "class TimeAwareModel(BaseModel):\n",
    "    _processed_at: datetime = PrivateAttr(default_factory=datetime.now)  # NOTE.\n",
    "    _secret_value: str = PrivateAttr()  # NOTE.\n",
    "\n",
    "    def __init__(self, **data):\n",
    "        super().__init__(**data)\n",
    "        # this could also be done with default_factory\n",
    "        self._secret_value = randint(1, 5)  # pyright: ignore\n",
    "\n",
    "\n",
    "m = TimeAwareModel()\n",
    "print(m._processed_at)\n",
    "# > 2022-12-06 14:32:41.180747\n",
    "print(m._secret_value)\n",
    "# > 3"
   ]
  },
  {
   "attachments": {},
   "cell_type": "markdown",
   "metadata": {},
   "source": [
    "Private attribute names must start with underscore to prevent conflicts with model fields:\n",
    "both `_attr` and `__attr__` are supported.\n",
    "\n",
    "If `Config.underscore_attrs_are_private` is `True`, any non-ClassVar underscore attribute will be treated as private:\n",
    "\n",
    "> Again I don't understand the difference here: \"class variable\" vs \"private attribute\"?"
   ]
  },
  {
   "cell_type": "code",
   "execution_count": 13,
   "metadata": {},
   "outputs": [
    {
     "name": "stdout",
     "output_type": "stream",
     "text": [
      "class var value\n",
      "<member '_private_attr' of 'Model' objects>\n",
      "private attr value\n"
     ]
    }
   ],
   "source": [
    "from typing import ClassVar\n",
    "\n",
    "from pydantic import BaseModel\n",
    "\n",
    "\n",
    "class Model(BaseModel):\n",
    "    _class_var: ClassVar[str] = \"class var value\"\n",
    "    _private_attr: str = \"private attr value\"\n",
    "\n",
    "    class Config:\n",
    "        underscore_attrs_are_private = True\n",
    "\n",
    "\n",
    "print(Model._class_var)\n",
    "# > class var value\n",
    "print(Model._private_attr)\n",
    "# > <member '_private_attr' of 'Model' objects>\n",
    "print(Model()._private_attr)\n",
    "# > private attr value"
   ]
  },
  {
   "attachments": {},
   "cell_type": "markdown",
   "metadata": {},
   "source": [
    "> Upon class creation pydantic constructs `__slots__` filled with private attributes."
   ]
  },
  {
   "attachments": {},
   "cell_type": "markdown",
   "metadata": {},
   "source": [
    "### Parsing data into a specified type\n",
    "\n",
    "Pydantic includes a standalone utility function `parse_obj_as` that can be used to apply the parsing logic used to\n",
    "populate pydantic models in a more ad-hoc way.\n",
    "\n",
    "This function behaves similarly to `BaseModel.parse_obj`, but works with arbitrary pydantic-compatible types.\n",
    "\n",
    "This is especially useful when you want to parse results into **a type that is not a direct subclass of `BaseModel`**.\n",
    "\n",
    "For example: "
   ]
  },
  {
   "cell_type": "code",
   "execution_count": 14,
   "metadata": {},
   "outputs": [
    {
     "name": "stdout",
     "output_type": "stream",
     "text": [
      "[Item(id=1, name='My Item')]\n"
     ]
    }
   ],
   "source": [
    "from typing import List\n",
    "\n",
    "from pydantic import BaseModel, parse_obj_as\n",
    "\n",
    "\n",
    "class Item(BaseModel):\n",
    "    id: int\n",
    "    name: str\n",
    "\n",
    "\n",
    "# `item_data` could come from an API call, eg., via something like:\n",
    "# item_data = requests.get('https://my-api.com/items').json()\n",
    "item_data = [{\"id\": 1, \"name\": \"My Item\"}]\n",
    "\n",
    "items = parse_obj_as(\n",
    "    List[Item], item_data\n",
    ")  # NOTE: Parsing into List[Item], NOT by itself a subclass of BaseModel.\n",
    "print(items)\n",
    "# > [Item(id=1, name='My Item')]"
   ]
  },
  {
   "attachments": {},
   "cell_type": "markdown",
   "metadata": {},
   "source": [
    "### Data Conversion\n",
    "\n",
    "> ⚠️ *pydantic* may cast input data to force it to conform to model field types,\n",
    "> and in some cases *this may result in a loss of information*.\n",
    "\n",
    "For example:"
   ]
  },
  {
   "cell_type": "code",
   "execution_count": 1,
   "metadata": {},
   "outputs": [
    {
     "name": "stdout",
     "output_type": "stream",
     "text": [
      "{'a': 3, 'b': 2.72, 'c': '123'}\n"
     ]
    }
   ],
   "source": [
    "from pydantic import BaseModel\n",
    "\n",
    "\n",
    "class Model(BaseModel):\n",
    "    a: int\n",
    "    b: float\n",
    "    c: str\n",
    "\n",
    "\n",
    "print(Model(a=3.1415, b=\" 2.72 \", c=123).dict())  # pyright: ignore\n",
    "# > {'a': 3, 'b': 2.72, 'c': '123'}"
   ]
  },
  {
   "attachments": {},
   "cell_type": "markdown",
   "metadata": {},
   "source": [
    "### Model signature"
   ]
  },
  {
   "cell_type": "code",
   "execution_count": 2,
   "metadata": {},
   "outputs": [
    {
     "name": "stdout",
     "output_type": "stream",
     "text": [
      "(*, id: int, name: str = None, description: str = 'Foo', pear: int) -> None\n"
     ]
    }
   ],
   "source": [
    "import inspect\n",
    "from pydantic import BaseModel, Field\n",
    "\n",
    "\n",
    "class FooModel(BaseModel):\n",
    "    id: int\n",
    "    name: str = None  # pyright: ignore\n",
    "    description: str = \"Foo\"\n",
    "    apple: int = Field(..., alias=\"pear\")\n",
    "\n",
    "\n",
    "print(inspect.signature(FooModel))  # NOTE.\n",
    "# > (*, id: int, name: str = None, description: str = 'Foo', pear: int) -> None"
   ]
  },
  {
   "cell_type": "code",
   "execution_count": 3,
   "metadata": {},
   "outputs": [
    {
     "name": "stdout",
     "output_type": "stream",
     "text": [
      "(id: int = 1, *, bar: str, info: str = 'Foo') -> None\n"
     ]
    }
   ],
   "source": [
    "# The generated signature will also respect custom __init__ functions:\n",
    "\n",
    "import inspect\n",
    "\n",
    "from pydantic import BaseModel\n",
    "\n",
    "\n",
    "class MyModel(BaseModel):\n",
    "    id: int\n",
    "    info: str = \"Foo\"\n",
    "\n",
    "    def __init__(self, id: int = 1, *, bar: str, **data) -> None:  # NOTE.\n",
    "        \"\"\"My custom init!\"\"\"\n",
    "        super().__init__(id=id, bar=bar, **data)\n",
    "\n",
    "\n",
    "print(inspect.signature(MyModel))  # NOTE.\n",
    "# > (id: int = 1, *, bar: str, info: str = 'Foo') -> None"
   ]
  },
  {
   "attachments": {},
   "cell_type": "markdown",
   "metadata": {},
   "source": [
    "### Structural pattern matching\n",
    "* Python 3.10 thing."
   ]
  }
 ],
 "metadata": {
  "kernelspec": {
   "display_name": "learn_py38_pydantic",
   "language": "python",
   "name": "python3"
  },
  "language_info": {
   "codemirror_mode": {
    "name": "ipython",
    "version": 3
   },
   "file_extension": ".py",
   "mimetype": "text/x-python",
   "name": "python",
   "nbconvert_exporter": "python",
   "pygments_lexer": "ipython3",
   "version": "3.8.15"
  },
  "orig_nbformat": 4,
  "vscode": {
   "interpreter": {
    "hash": "47cc98ae72e7f2ffbe83cf967e6c908a0834e3e404528dbd49b4a163340eeddd"
   }
  }
 },
 "nbformat": 4,
 "nbformat_minor": 2
}
