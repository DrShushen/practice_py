{
 "cells": [
  {
   "attachments": {},
   "cell_type": "markdown",
   "metadata": {},
   "source": [
    "Following [this](https://docs.pydantic.dev/usage/postponed_annotations/)\n",
    "\n",
    "**Read this first - what are postponed annotations and their problems: https://adamj.eu/tech/2021/05/15/python-type-hints-future-annotations/**\n",
    "\n",
    "### Postponed annotations\n",
    "\n",
    "> Both postponed annotations via the future import and `ForwardRef` require Python 3.7+.\n",
    "\n",
    "They sort of \"just works\" most of the time, with pydantic."
   ]
  },
  {
   "cell_type": "code",
   "execution_count": 1,
   "metadata": {},
   "outputs": [
    {
     "name": "stdout",
     "output_type": "stream",
     "text": [
      "a=[1, 2, 3] b='ok'\n"
     ]
    }
   ],
   "source": [
    "from __future__ import annotations  # NOTE: This is the \"opt in to postponed annotations\" request.\n",
    "\n",
    "from typing import Any, List\n",
    "from pydantic import BaseModel\n",
    "\n",
    "\n",
    "class Model(BaseModel):\n",
    "    a: List[int]\n",
    "    b: Any\n",
    "\n",
    "\n",
    "print(Model(a=('1', 2, 3), b='ok'))  # pyright: ignore\n",
    "#> a=[1, 2, 3] b='ok'\n"
   ]
  },
  {
   "attachments": {},
   "cell_type": "markdown",
   "metadata": {},
   "source": [
    "* Internally, pydantic will call a method similar to `typing.get_type_hints` to resolve annotations.\n",
    "\n",
    "In cases where the referenced type is not yet defined, `ForwardRef` can be used \n",
    "(although referencing the type directly or by its string is a simpler solution in the case of self-referencing models).\n",
    "\n",
    "In some cases, a ForwardRef won't be able to be resolved during model creation. For example, this happens whenever a model references itself as a field type. When this happens, you'll need to call update_forward_refs after the model has been created before it can be used:"
   ]
  },
  {
   "cell_type": "code",
   "execution_count": 4,
   "metadata": {},
   "outputs": [
    {
     "name": "stdout",
     "output_type": "stream",
     "text": [
      "a=123 b=None\n",
      "a=123 b=Foo(a=321, b=None)\n"
     ]
    }
   ],
   "source": [
    "from typing import ForwardRef  # NOTE.\n",
    "from pydantic import BaseModel\n",
    "\n",
    "Foo = ForwardRef('Foo')  # pyright: ignore\n",
    "\n",
    "\n",
    "class Foo(BaseModel):\n",
    "    a: int = 123\n",
    "    b: Foo = None  # pyright: ignore\n",
    "\n",
    "\n",
    "Foo.update_forward_refs()  # NOTE: /!\\ Big annoyance - this needs to be called...\n",
    "\n",
    "print(Foo())\n",
    "#> a=123 b=None\n",
    "print(Foo(b={'a': '321'}))  # pyright: ignore\n",
    "#> a=123 b=Foo(a=321, b=None)"
   ]
  },
  {
   "attachments": {},
   "cell_type": "markdown",
   "metadata": {},
   "source": [
    "To resolve strings (type names) into annotations (types), pydantic needs a namespace dict in which to perform the lookup.\n",
    "For this it uses `module.__dict__`, just like `get_type_hints`.\n",
    "\n",
    "⚠️ This means pydantic may not play well with types not defined in the global scope of a module."
   ]
  },
  {
   "cell_type": "code",
   "execution_count": 5,
   "metadata": {},
   "outputs": [
    {
     "name": "stdout",
     "output_type": "stream",
     "text": [
      "a=HttpUrl('https://example.com', )\n"
     ]
    }
   ],
   "source": [
    "# For example, this works fine:\n",
    "\n",
    "from __future__ import annotations\n",
    "from pydantic import BaseModel\n",
    "from pydantic import HttpUrl  # HttpUrl is defined in the module's global scope\n",
    "\n",
    "\n",
    "def this_works():\n",
    "    class Model(BaseModel):\n",
    "        a: HttpUrl\n",
    "\n",
    "    print(Model(a='https://example.com'))  # pyright: ignore\n",
    "    #> a=HttpUrl('https://example.com', )\n",
    "\n",
    "\n",
    "this_works()"
   ]
  },
  {
   "cell_type": "code",
   "execution_count": 7,
   "metadata": {},
   "outputs": [],
   "source": [
    "# While this will break:\n",
    "\n",
    "from __future__ import annotations\n",
    "from pydantic import BaseModel\n",
    "from pydantic.errors import ConfigError\n",
    "\n",
    "\n",
    "def this_is_broken():  # NOTE: /!\\ Scope not being module level difference causes this to break...\n",
    "\n",
    "    from pydantic import HttpUrl  # HttpUrl is defined in function local scope\n",
    "\n",
    "    class Model(BaseModel):\n",
    "        a: HttpUrl\n",
    "\n",
    "    try:\n",
    "        Model(a='https://example.com')  # pyright: ignore\n",
    "    except ConfigError as e:\n",
    "        print(e)\n",
    "        #> field \"a\" not yet prepared so type is still a ForwardRef, you might\n",
    "        #> need to call Model.update_forward_refs().\n",
    "\n",
    "    try:\n",
    "        Model.update_forward_refs()\n",
    "    except NameError as e:\n",
    "        print(e)\n",
    "        #> name 'HttpUrl' is not defined\n",
    "\n",
    "\n",
    "this_is_broken()"
   ]
  },
  {
   "attachments": {},
   "cell_type": "markdown",
   "metadata": {},
   "source": [
    "> ⚠️ Resolving this is beyond the call for pydantic: either remove the future import or declare the types globally."
   ]
  },
  {
   "attachments": {},
   "cell_type": "markdown",
   "metadata": {},
   "source": [
    "### Self-referencing Models\n",
    "\n",
    "Data structures with self-referencing models are also supported. Self-referencing fields will be automatically resolved after model creation.\n",
    "\n",
    "Within the model, you can refer to the not-yet-constructed model using a string:"
   ]
  },
  {
   "cell_type": "code",
   "execution_count": 8,
   "metadata": {},
   "outputs": [
    {
     "name": "stdout",
     "output_type": "stream",
     "text": [
      "a=123 sibling=None\n",
      "a=123 sibling=Foo(a=321, b=None)\n"
     ]
    }
   ],
   "source": [
    "from pydantic import BaseModel\n",
    "\n",
    "\n",
    "class Foo(BaseModel):\n",
    "    a: int = 123\n",
    "    #: The sibling of `Foo` is referenced by string\n",
    "    sibling: 'Foo' = None  # pyright: ignore  # NOTE: this line.\n",
    "\n",
    "\n",
    "print(Foo())\n",
    "#> a=123 sibling=None\n",
    "print(Foo(sibling={'a': '321'}))  # pyright: ignore\n",
    "#> a=123 sibling=Foo(a=321, sibling=None)"
   ]
  },
  {
   "attachments": {},
   "cell_type": "markdown",
   "metadata": {},
   "source": [
    "Since Python 3.7, you can also refer it by its type, provided you import `annotations`\n",
    "(see above for support depending on Python and pydantic versions)."
   ]
  },
  {
   "cell_type": "code",
   "execution_count": 9,
   "metadata": {},
   "outputs": [
    {
     "name": "stdout",
     "output_type": "stream",
     "text": [
      "a=123 sibling=None\n",
      "a=123 sibling=Foo(a=321, sibling=None)\n"
     ]
    }
   ],
   "source": [
    "from __future__ import annotations  # NOTE.\n",
    "from pydantic import BaseModel\n",
    "\n",
    "\n",
    "class Foo(BaseModel):\n",
    "    a: int = 123\n",
    "    #: The sibling of `Foo` is referenced directly by type\n",
    "    sibling: Foo = None  # pyright: ignore  # NOTE: this line.\n",
    "\n",
    "\n",
    "print(Foo())\n",
    "#> a=123 sibling=None\n",
    "print(Foo(sibling={'a': '321'}))  # pyright: ignore\n",
    "#> a=123 sibling=Foo(a=321, sibling=None)"
   ]
  }
 ],
 "metadata": {
  "kernelspec": {
   "display_name": "learn_py38_pydantic",
   "language": "python",
   "name": "python3"
  },
  "language_info": {
   "codemirror_mode": {
    "name": "ipython",
    "version": 3
   },
   "file_extension": ".py",
   "mimetype": "text/x-python",
   "name": "python",
   "nbconvert_exporter": "python",
   "pygments_lexer": "ipython3",
   "version": "3.8.15"
  },
  "orig_nbformat": 4,
  "vscode": {
   "interpreter": {
    "hash": "47cc98ae72e7f2ffbe83cf967e6c908a0834e3e404528dbd49b4a163340eeddd"
   }
  }
 },
 "nbformat": 4,
 "nbformat_minor": 2
}
