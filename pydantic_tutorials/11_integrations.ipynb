{
 "cells": [
  {
   "attachments": {},
   "cell_type": "markdown",
   "metadata": {},
   "source": [
    "# Integrations with other libraries and tools"
   ]
  },
  {
   "attachments": {},
   "cell_type": "markdown",
   "metadata": {},
   "source": [
    "### [MyPy](https://mypy.readthedocs.io/en/stable/)\n",
    "\n",
    "* Overview of compatibility with native mypy: https://docs.pydantic.dev/usage/mypy/\n",
    "* Additional capabilities provided by pydantic mypy plugin: https://docs.pydantic.dev/mypy_plugin/"
   ]
  },
  {
   "attachments": {},
   "cell_type": "markdown",
   "metadata": {},
   "source": [
    "### [devtools](https://python-devtools.helpmanual.io/)\n",
    "\n",
    "* Compatible, overview: https://docs.pydantic.dev/usage/devtools/"
   ]
  },
  {
   "attachments": {},
   "cell_type": "markdown",
   "metadata": {},
   "source": [
    "### [rich](https://rich.readthedocs.io/en/stable/introduction.html)\n",
    "\n",
    "* Compatible, overview: https://docs.pydantic.dev/usage/rich/"
   ]
  },
  {
   "attachments": {},
   "cell_type": "markdown",
   "metadata": {},
   "source": [
    "### VSCode / Py{Lance,Right}\n",
    "\n",
    "* Various compatibility issues explained: https://docs.pydantic.dev/visual_studio_code/\n",
    "\n",
    "Basically, if you want `strict` PyLance checking, going to need to use `pyright: ignore` quite a bit..."
   ]
  }
 ],
 "metadata": {
  "language_info": {
   "name": "python"
  },
  "orig_nbformat": 4
 },
 "nbformat": 4,
 "nbformat_minor": 2
}
