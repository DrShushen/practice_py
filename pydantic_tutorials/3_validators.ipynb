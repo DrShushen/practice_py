{
 "cells": [
  {
   "attachments": {},
   "cell_type": "markdown",
   "metadata": {},
   "source": [
    "Following [this](https://docs.pydantic.dev/usage/validators/)\n",
    "\n",
    "# Validators\n",
    "\n",
    "Custom validation and complex relationships between objects can be achieved using the `validator` decorator."
   ]
  },
  {
   "cell_type": "code",
   "execution_count": 1,
   "metadata": {},
   "outputs": [
    {
     "name": "stdout",
     "output_type": "stream",
     "text": [
      "name='Samuel Colvin' username='scolvin' password1='zxcvbn' password2='zxcvbn'\n",
      "2 validation errors for UserModel\n",
      "name\n",
      "  must contain a space (type=value_error)\n",
      "password2\n",
      "  passwords do not match (type=value_error)\n"
     ]
    }
   ],
   "source": [
    "from pydantic import BaseModel, ValidationError, validator\n",
    "\n",
    "\n",
    "class UserModel(BaseModel):\n",
    "    name: str\n",
    "    username: str\n",
    "    password1: str\n",
    "    password2: str\n",
    "\n",
    "    @validator(\"name\")\n",
    "    def name_must_contain_space(cls, v):\n",
    "        if \" \" not in v:\n",
    "            raise ValueError(\"must contain a space\")\n",
    "        return v.title()\n",
    "\n",
    "    @validator(\"password2\")\n",
    "    def passwords_match(cls, v, values, **kwargs):\n",
    "        if \"password1\" in values and v != values[\"password1\"]:\n",
    "            raise ValueError(\"passwords do not match\")\n",
    "        return v\n",
    "\n",
    "    @validator(\"username\")\n",
    "    def username_alphanumeric(cls, v):\n",
    "        assert v.isalnum(), \"must be alphanumeric\"\n",
    "        return v\n",
    "\n",
    "\n",
    "user = UserModel(\n",
    "    name=\"samuel colvin\",\n",
    "    username=\"scolvin\",\n",
    "    password1=\"zxcvbn\",\n",
    "    password2=\"zxcvbn\",\n",
    ")\n",
    "print(user)\n",
    "# > name='Samuel Colvin' username='scolvin' password1='zxcvbn' password2='zxcvbn'\n",
    "\n",
    "try:\n",
    "    UserModel(\n",
    "        name=\"samuel\",\n",
    "        username=\"scolvin\",\n",
    "        password1=\"zxcvbn\",\n",
    "        password2=\"zxcvbn2\",\n",
    "    )\n",
    "except ValidationError as e:\n",
    "    print(e)\n",
    "    \"\"\"\n",
    "    2 validation errors for UserModel\n",
    "    name\n",
    "      must contain a space (type=value_error)\n",
    "    password2\n",
    "      passwords do not match (type=value_error)\n",
    "    \"\"\""
   ]
  },
  {
   "attachments": {},
   "cell_type": "markdown",
   "metadata": {},
   "source": [
    "A few things to note on validators:\n",
    "\n",
    "* validators are \"class methods\", so the first argument value they receive is the `UserModel` class, not an instance of `UserModel`.\n",
    "* the second argument is always the field value to validate; it can be named as you please.\n",
    "* you can also add any subset of the following arguments to the signature (the names **must** match):\n",
    "    * `values`: a `dict` containing the name-to-value mapping of any previously-validated fields\n",
    "    * `config`: the model config\n",
    "    * `field`: the field being validated. Type of object is `pydantic.fields.ModelField`.\n",
    "    * `**kwargs`: if provided, this will include the arguments above not explicitly listed in the signature\n",
    "* validators should either return the parsed value or raise a `ValueError`, `TypeError`, or `AssertionError` (`assert` statements may be used).\n",
    "\n",
    "> If you make use of `assert` statements, keep in mind that running Python with the `-O` optimization flag disables `assert` statements, and validators will stop working!\n",
    "\n",
    "\n",
    "\n",
    "* where validators rely on other values, you should be aware that:\n",
    "    * Validation is done in the order fields are defined. E.g. in the example above, `password2` has access to `password1` (and name), but `password1` does not have access to `password2`. See [Field Ordering](https://docs.pydantic.dev/usage/models/#field-ordering) for more information on how fields are ordered.\n",
    "    * If validation fails on another field (or that field is missing) it will not be included in values, hence `if 'password1' in values and ...` in this example.\n"
   ]
  },
  {
   "attachments": {},
   "cell_type": "markdown",
   "metadata": {},
   "source": [
    "### Pre and per-item validators\n",
    "\n",
    "A few more things to note:\n",
    "\n",
    "* a single validator can be applied to multiple fields by passing it multiple field names\n",
    "* a single validator can also be called on all fields by passing the special value `'*'`\n",
    "* the keyword argument `pre` will cause the validator to be called prior to other validation\n",
    "* passing `each_item=True` will result in the validator being applied to individual values (e.g. of `List`, `Dict`, `Set`, etc.), rather than the whole object\n"
   ]
  },
  {
   "cell_type": "code",
   "execution_count": 2,
   "metadata": {},
   "outputs": [
    {
     "name": "stdout",
     "output_type": "stream",
     "text": [
      "square_numbers=[1, 4, 9] cube_numbers=[]\n",
      "square_numbers=[1, 4, 16] cube_numbers=[]\n",
      "square_numbers=[16] cube_numbers=[8, 27]\n",
      "1 validation error for DemoModel\n",
      "square_numbers -> 2\n",
      "  2 is not a square number (type=assertion_error)\n",
      "1 validation error for DemoModel\n",
      "cube_numbers\n",
      "  sum of numbers greater than 42 (type=value_error)\n"
     ]
    }
   ],
   "source": [
    "from typing import List\n",
    "from pydantic import BaseModel, ValidationError, validator\n",
    "\n",
    "\n",
    "class DemoModel(BaseModel):\n",
    "    square_numbers: List[int] = []\n",
    "    cube_numbers: List[int] = []\n",
    "\n",
    "    # '*' is the same as 'cube_numbers', 'square_numbers' here:\n",
    "    @validator(\"*\", pre=True)  # NOTE '*', NOTE pre=True.\n",
    "    def split_str(cls, v):\n",
    "        if isinstance(v, str):\n",
    "            return v.split(\"|\")\n",
    "        return v\n",
    "\n",
    "    @validator(\"cube_numbers\", \"square_numbers\")  # NOTE multiple.\n",
    "    def check_sum(cls, v):\n",
    "        if sum(v) > 42:\n",
    "            raise ValueError(\"sum of numbers greater than 42\")\n",
    "        return v\n",
    "\n",
    "    @validator(\"square_numbers\", each_item=True)  # NOTE each_item=True.\n",
    "    def check_squares(cls, v):\n",
    "        assert v**0.5 % 1 == 0, f\"{v} is not a square number\"\n",
    "        return v\n",
    "\n",
    "    @validator(\"cube_numbers\", each_item=True)  # NOTE each_item=True.\n",
    "    def check_cubes(cls, v):\n",
    "        # 64 ** (1 / 3) == 3.9999999999999996 (!)\n",
    "        # this is not a good way of checking cubes\n",
    "        assert v ** (1 / 3) % 1 == 0, f\"{v} is not a cubed number\"\n",
    "        return v\n",
    "\n",
    "\n",
    "print(DemoModel(square_numbers=[1, 4, 9]))\n",
    "# > square_numbers=[1, 4, 9] cube_numbers=[]\n",
    "print(DemoModel(square_numbers=\"1|4|16\"))  # pyright: ignore\n",
    "# > square_numbers=[1, 4, 16] cube_numbers=[]\n",
    "print(DemoModel(square_numbers=[16], cube_numbers=[8, 27]))\n",
    "# > square_numbers=[16] cube_numbers=[8, 27]\n",
    "try:\n",
    "    DemoModel(square_numbers=[1, 4, 2])\n",
    "except ValidationError as e:\n",
    "    print(e)\n",
    "    \"\"\"\n",
    "    1 validation error for DemoModel\n",
    "    square_numbers -> 2\n",
    "      2 is not a square number (type=assertion_error)\n",
    "    \"\"\"\n",
    "\n",
    "try:\n",
    "    DemoModel(cube_numbers=[27, 27])\n",
    "except ValidationError as e:\n",
    "    print(e)\n",
    "    \"\"\"\n",
    "    1 validation error for DemoModel\n",
    "    cube_numbers\n",
    "      sum of numbers greater than 42 (type=value_error)\n",
    "    \"\"\""
   ]
  },
  {
   "attachments": {},
   "cell_type": "markdown",
   "metadata": {},
   "source": [
    "### Subclass Validators and `each_item`\n",
    "\n",
    "⚠️ Annoyance.\n",
    "\n",
    "If using a validator with a subclass that references a `List` type field on a parent class,\n",
    "using `each_item=True` will cause the validator not to run;\n",
    "**instead, the list must be iterated over programmatically**.\n",
    "\n",
    "See below:"
   ]
  },
  {
   "cell_type": "code",
   "execution_count": 5,
   "metadata": {},
   "outputs": [
    {
     "name": "stdout",
     "output_type": "stream",
     "text": [
      ">>> No ValidationError caught. <<<\n",
      "\n",
      "1 validation error for ChildModel2\n",
      "names\n",
      "  Empty strings are not allowed. (type=assertion_error)\n"
     ]
    }
   ],
   "source": [
    "from typing import List\n",
    "from pydantic import BaseModel, ValidationError, validator\n",
    "\n",
    "\n",
    "class ParentModel(BaseModel):\n",
    "    names: List[str]  # NOTE: List[] in parent class.\n",
    "\n",
    "\n",
    "class ChildModel(ParentModel):\n",
    "    @validator(\"names\", each_item=True)  # NOTE: This will NOT work!\n",
    "    def check_names_not_empty(cls, v):\n",
    "        assert v != \"\", \"Empty strings are not allowed.\"\n",
    "        return v\n",
    "\n",
    "\n",
    "# This will NOT raise a ValidationError because the validator was not called\n",
    "try:\n",
    "    child = ChildModel(names=[\"Alice\", \"Bob\", \"Eve\", \"\"])\n",
    "except ValidationError as e:\n",
    "    print(e)\n",
    "else:\n",
    "    print(\">>> No ValidationError caught. <<<\\n\")\n",
    "    # > No ValidationError caught.\n",
    "\n",
    "\n",
    "class ChildModel2(ParentModel):\n",
    "    @validator(\"names\")\n",
    "    def check_names_not_empty(cls, v):\n",
    "        for name in v:  # NOTE: Have to do it manually as so.\n",
    "            assert name != \"\", \"Empty strings are not allowed.\"\n",
    "        return v\n",
    "\n",
    "\n",
    "try:\n",
    "    child = ChildModel2(names=[\"Alice\", \"Bob\", \"Eve\", \"\"])\n",
    "except ValidationError as e:\n",
    "    print(e)\n",
    "    \"\"\"\n",
    "    1 validation error for ChildModel2\n",
    "    names\n",
    "      Empty strings are not allowed. (type=assertion_error)\n",
    "    \"\"\""
   ]
  },
  {
   "attachments": {},
   "cell_type": "markdown",
   "metadata": {},
   "source": [
    "### Validate Always\n",
    "\n",
    "> For performance reasons, by default validators are *not called for fields when a value is not supplied*.\n",
    "\n",
    "However there are situations where it may be useful or required to always call the validator, e.g. to set a dynamic default value."
   ]
  },
  {
   "cell_type": "code",
   "execution_count": 6,
   "metadata": {},
   "outputs": [
    {
     "name": "stdout",
     "output_type": "stream",
     "text": [
      "ts=datetime.datetime(2022, 12, 23, 14, 20, 28, 630067)\n",
      "ts=datetime.datetime(2017, 11, 8, 14, 0)\n"
     ]
    }
   ],
   "source": [
    "from datetime import datetime\n",
    "\n",
    "from pydantic import BaseModel, validator\n",
    "\n",
    "\n",
    "class DemoModel(BaseModel):\n",
    "    ts: datetime = None  # pyright: ignore\n",
    "\n",
    "    @validator(\"ts\", pre=True, always=True)  # NOTE.\n",
    "    def set_ts_now(cls, v):\n",
    "        return v or datetime.now()\n",
    "\n",
    "\n",
    "print(DemoModel())\n",
    "# > ts=datetime.datetime(2022, 12, 6, 14, 32, 41, 726105)\n",
    "print(DemoModel(ts=\"2017-11-08T14:00\"))  # pyright: ignore\n",
    "# > ts=datetime.datetime(2017, 11, 8, 14, 0)"
   ]
  },
  {
   "attachments": {},
   "cell_type": "markdown",
   "metadata": {},
   "source": [
    "⚠️ You'll often want to use this together with `pre`, since otherwise with `always=True` pydantic would try to validate\n",
    "the default `None` which would cause an error."
   ]
  },
  {
   "attachments": {},
   "cell_type": "markdown",
   "metadata": {},
   "source": [
    "* [Reuse Validators](https://docs.pydantic.dev/usage/validators/#reuse-validators): `allow_reuse` is sometimes helpful for reusing the same validation code.\n",
    "\n",
    "> If you have a lot of fields that you want to validate, it usually makes sense to define a help function with which you will avoid setting allow_reuse=True over and over again."
   ]
  },
  {
   "attachments": {},
   "cell_type": "markdown",
   "metadata": {},
   "source": [
    "### Root Validators\n",
    "\n",
    "Validation can also be performed on the entire model's data."
   ]
  },
  {
   "cell_type": "code",
   "execution_count": 7,
   "metadata": {},
   "outputs": [
    {
     "name": "stdout",
     "output_type": "stream",
     "text": [
      "username='scolvin' password1='zxcvbn' password2='zxcvbn'\n",
      "1 validation error for UserModel\n",
      "__root__\n",
      "  passwords do not match (type=value_error)\n",
      "1 validation error for UserModel\n",
      "__root__\n",
      "  card_number should not be included (type=assertion_error)\n"
     ]
    }
   ],
   "source": [
    "from pydantic import BaseModel, ValidationError, root_validator\n",
    "\n",
    "\n",
    "class UserModel(BaseModel):\n",
    "    username: str\n",
    "    password1: str\n",
    "    password2: str\n",
    "\n",
    "    @root_validator(\n",
    "        pre=True\n",
    "    )  # NOTE: Runs before *field* validation, takes in raw input data.\n",
    "    def check_card_number_omitted(cls, values):\n",
    "        assert \"card_number\" not in values, \"card_number should not be included\"\n",
    "        return values\n",
    "\n",
    "    @root_validator\n",
    "    def check_passwords_match(cls, values):  # NOTE: Runs after *field* validation.\n",
    "        pw1, pw2 = values.get(\"password1\"), values.get(\"password2\")\n",
    "        if pw1 is not None and pw2 is not None and pw1 != pw2:\n",
    "            raise ValueError(\"passwords do not match\")\n",
    "        return values\n",
    "\n",
    "\n",
    "print(UserModel(username=\"scolvin\", password1=\"zxcvbn\", password2=\"zxcvbn\"))\n",
    "# > username='scolvin' password1='zxcvbn' password2='zxcvbn'\n",
    "try:\n",
    "    UserModel(username=\"scolvin\", password1=\"zxcvbn\", password2=\"zxcvbn2\")\n",
    "except ValidationError as e:\n",
    "    print(e)\n",
    "    \"\"\"\n",
    "    1 validation error for UserModel\n",
    "    __root__\n",
    "      passwords do not match (type=value_error)\n",
    "    \"\"\"\n",
    "\n",
    "try:\n",
    "    UserModel(\n",
    "        username=\"scolvin\",\n",
    "        password1=\"zxcvbn\",\n",
    "        password2=\"zxcvbn\",\n",
    "        card_number=\"1234\",\n",
    "    )\n",
    "except ValidationError as e:\n",
    "    print(e)\n",
    "    \"\"\"\n",
    "    1 validation error for UserModel\n",
    "    __root__\n",
    "      card_number should not be included (type=assertion_error)\n",
    "    \"\"\""
   ]
  },
  {
   "attachments": {},
   "cell_type": "markdown",
   "metadata": {},
   "source": [
    "As with field validators, root validators can have `pre=True`, in which case they're called before field validation occurs\n",
    "(and are provided with the raw input data), or `pre=False` (the default), in which case they're called after field validation.\n",
    "\n",
    "*Field validation* will **not** occur if `pre=True` root validators raise an error.\n",
    "\n",
    "As with field validators, \"post\" (i.e. `pre=False`) root validators by default will be called even if prior validators fail;\n",
    "this behaviour can be changed by setting the `skip_on_failure=True` keyword argument to the validator.\n",
    "The values argument will be a `dict` containing the values which passed field validation and field defaults where applicable."
   ]
  },
  {
   "attachments": {},
   "cell_type": "markdown",
   "metadata": {},
   "source": [
    "### Field Checks\n",
    "\n",
    "On class creation, validators are checked to confirm that the fields they specify actually exist on the model.\n",
    "\n",
    "Occasionally however this is undesirable: e.g. if you define a validator to validate fields on inheriting models.\n",
    "In this case you should set `check_fields=False` on the validator."
   ]
  },
  {
   "attachments": {},
   "cell_type": "markdown",
   "metadata": {},
   "source": [
    "### Dataclass Validators\n",
    "\n",
    "Validators also work with **pydantic dataclasses**."
   ]
  },
  {
   "cell_type": "code",
   "execution_count": 9,
   "metadata": {},
   "outputs": [
    {
     "name": "stdout",
     "output_type": "stream",
     "text": [
      "DemoDataclass(ts=datetime.datetime(2022, 12, 23, 14, 30, 10, 958278))\n",
      "DemoDataclass(ts=datetime.datetime(2017, 11, 8, 14, 0))\n"
     ]
    }
   ],
   "source": [
    "from datetime import datetime\n",
    "\n",
    "from pydantic import validator\n",
    "from pydantic.dataclasses import (\n",
    "    dataclass,\n",
    ")  # NOTE: This is a *pydantic* dataclass, not a Python dataclass!\n",
    "\n",
    "\n",
    "@dataclass\n",
    "class DemoDataclass:\n",
    "    ts: datetime = None  # pyright: ignore\n",
    "\n",
    "    @validator(\"ts\", pre=True, always=True)\n",
    "    def set_ts_now(cls, v):\n",
    "        return v or datetime.now()\n",
    "\n",
    "\n",
    "print(DemoDataclass())\n",
    "# > DemoDataclass(ts=datetime.datetime(2022, 12, 6, 14, 32, 41, 730846))\n",
    "print(DemoDataclass(ts=\"2017-11-08T14:00\"))  # pyright: ignore\n",
    "# > DemoDataclass(ts=datetime.datetime(2017, 11, 8, 14, 0))"
   ]
  }
 ],
 "metadata": {
  "kernelspec": {
   "display_name": "learn_py38_pydantic",
   "language": "python",
   "name": "python3"
  },
  "language_info": {
   "codemirror_mode": {
    "name": "ipython",
    "version": 3
   },
   "file_extension": ".py",
   "mimetype": "text/x-python",
   "name": "python",
   "nbconvert_exporter": "python",
   "pygments_lexer": "ipython3",
   "version": "3.8.15"
  },
  "orig_nbformat": 4,
  "vscode": {
   "interpreter": {
    "hash": "47cc98ae72e7f2ffbe83cf967e6c908a0834e3e404528dbd49b4a163340eeddd"
   }
  }
 },
 "nbformat": 4,
 "nbformat_minor": 2
}
