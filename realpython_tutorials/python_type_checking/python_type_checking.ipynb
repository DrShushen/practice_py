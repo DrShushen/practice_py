{
 "cells": [
  {
   "cell_type": "markdown",
   "id": "87a369ef-097b-4a98-950b-f48f696b7434",
   "metadata": {},
   "source": [
    "# Python Type Checking (Guide)\n",
    "* https://realpython.com/python-type-checking/"
   ]
  },
  {
   "cell_type": "code",
   "execution_count": 1,
   "id": "2bf2d743-b279-488f-9409-23196097b887",
   "metadata": {},
   "outputs": [],
   "source": [
    "# A little jupyter magic to allow continuing execution after exception (show exception). \n",
    "import traceback\n",
    "from IPython.core.magic import register_cell_magic\n",
    "\n",
    "@register_cell_magic('handle')\n",
    "def handle(line, cell):\n",
    "    try:\n",
    "        exec(cell)\n",
    "    except Exception:\n",
    "        print(traceback.format_exc())"
   ]
  },
  {
   "cell_type": "markdown",
   "id": "c0380cfa-4b18-4ca7-a3f5-dc91f4ab5b7a",
   "metadata": {},
   "source": [
    "## Type Systems\n",
    "### Dynamic Typing"
   ]
  },
  {
   "cell_type": "code",
   "execution_count": 2,
   "id": "42e80047-54d9-4f1e-b0c9-982bb72756f0",
   "metadata": {},
   "outputs": [],
   "source": [
    "if False:\n",
    "    1 + \"two\"  # This line never runs, so no TypeError is raised\n",
    "else:\n",
    "    1 + 2"
   ]
  },
  {
   "cell_type": "code",
   "execution_count": 3,
   "id": "8ae7c30d-062c-4bda-9208-1178f59a1722",
   "metadata": {},
   "outputs": [
    {
     "name": "stdout",
     "output_type": "stream",
     "text": [
      "Traceback (most recent call last):\n",
      "  File \"/tmp/ipykernel_261451/3202849731.py\", line 8, in handle\n",
      "    exec(cell)\n",
      "  File \"<string>\", line 1, in <module>\n",
      "TypeError: unsupported operand type(s) for +: 'int' and 'str'\n",
      "\n"
     ]
    }
   ],
   "source": [
    "%%handle\n",
    "1 + \"two\"  # Now this is type checked, and a TypeError is raised"
   ]
  },
  {
   "cell_type": "code",
   "execution_count": 4,
   "id": "94a34a7f-3ee2-4843-bfb6-1a2993637421",
   "metadata": {},
   "outputs": [
    {
     "data": {
      "text/plain": [
       "str"
      ]
     },
     "execution_count": 4,
     "metadata": {},
     "output_type": "execute_result"
    }
   ],
   "source": [
    "thing = \"Hello\"\n",
    "type(thing)"
   ]
  },
  {
   "cell_type": "code",
   "execution_count": 5,
   "id": "bc4001e5-d169-4fed-b876-179384e87207",
   "metadata": {},
   "outputs": [
    {
     "data": {
      "text/plain": [
       "float"
      ]
     },
     "execution_count": 5,
     "metadata": {},
     "output_type": "execute_result"
    }
   ],
   "source": [
    "thing = 28.1\n",
    "type(thing)"
   ]
  },
  {
   "cell_type": "markdown",
   "id": "ee726901-e7b8-48ec-afc0-d7230f77ebb7",
   "metadata": {},
   "source": [
    "### Static Typing\n",
    "\n",
    "The opposite of dynamic typing is static typing. Static type checks are performed without running the program. In most statically typed languages, for instance C and Java, this is done as your program is compiled.\n",
    "\n",
    "Python will always [remain a dynamically typed language](https://www.python.org/dev/peps/pep-0484/#non-goals). However, [PEP 484](https://www.python.org/dev/peps/pep-0484/) introduced type hints, which make it possible to also do static type checking of Python code."
   ]
  },
  {
   "cell_type": "markdown",
   "id": "f6c86b33-7628-4a41-bd7f-0400f5a4c89f",
   "metadata": {},
   "source": [
    "### Duck Typing\n",
    "\n",
    "Duck typing is a concept related to dynamic typing, where the type or the class of an object is less important than the methods it defines. Using duck typing you do not check types at all. Instead you check for the presence of a given method or attribute."
   ]
  },
  {
   "cell_type": "code",
   "execution_count": 6,
   "id": "c0b775ce-8ffd-4c25-8ac3-a868d87a9b30",
   "metadata": {},
   "outputs": [
    {
     "data": {
      "text/plain": [
       "95022"
      ]
     },
     "execution_count": 6,
     "metadata": {},
     "output_type": "execute_result"
    }
   ],
   "source": [
    "class TheHobbit:\n",
    "    def __len__(self):\n",
    "        return 95022\n",
    "\n",
    "the_hobbit = TheHobbit()\n",
    "len(the_hobbit)"
   ]
  },
  {
   "cell_type": "markdown",
   "id": "46c98c74-e646-4c08-9665-8de9405ce20a",
   "metadata": {},
   "source": [
    "## Hello Types"
   ]
  },
  {
   "cell_type": "code",
   "execution_count": 7,
   "id": "1a54351d-bbc2-4f28-a990-ff0dc6066bdc",
   "metadata": {},
   "outputs": [],
   "source": [
    "def headline(text, align=True):\n",
    "    if align:\n",
    "        return f\"{text.title()}\\n{'-' * len(text)}\"\n",
    "    else:\n",
    "        return f\" {text.title()} \".center(50, \"o\")"
   ]
  },
  {
   "cell_type": "code",
   "execution_count": 8,
   "id": "705ae7ec-9027-4ff2-bed6-110bd543355f",
   "metadata": {},
   "outputs": [
    {
     "name": "stdout",
     "output_type": "stream",
     "text": [
      "Python Type Checking\n",
      "--------------------\n"
     ]
    }
   ],
   "source": [
    "print(headline(\"python type checking\"))"
   ]
  },
  {
   "cell_type": "code",
   "execution_count": 9,
   "id": "467833c1-5647-4a95-9686-c02ba11085e4",
   "metadata": {},
   "outputs": [
    {
     "name": "stdout",
     "output_type": "stream",
     "text": [
      "oooooooooooooo Python Type Checking oooooooooooooo\n"
     ]
    }
   ],
   "source": [
    "print(headline(\"python type checking\", align=False))"
   ]
  },
  {
   "cell_type": "code",
   "execution_count": 10,
   "id": "aeefe2e7-10fc-44de-aea6-395fa85fa7ab",
   "metadata": {},
   "outputs": [],
   "source": [
    "def headline(text: str, align: bool = True) -> str:\n",
    "    if align:\n",
    "        return f\"{text.title()}\\n{'-' * len(text)}\"\n",
    "    else:\n",
    "        return f\" {text.title()} \".center(50, \"o\")"
   ]
  },
  {
   "cell_type": "markdown",
   "id": "546dbb63-abce-4775-8116-79ffa4c083c7",
   "metadata": {},
   "source": [
    "The most common tool for doing type checking is [Mypy](http://mypy-lang.org/)."
   ]
  },
  {
   "cell_type": "code",
   "execution_count": 11,
   "id": "483eb76f-6f22-4a98-be59-76a8d7a917ff",
   "metadata": {},
   "outputs": [
    {
     "name": "stdout",
     "output_type": "stream",
     "text": [
      "headlines.py:16: \u001b[1m\u001b[31merror:\u001b[m Argument \u001b[m\u001b[1m\"align\"\u001b[m to \u001b[m\u001b[1m\"headline\"\u001b[m has incompatible type \u001b[m\u001b[1m\"str\"\u001b[m; expected \u001b[m\u001b[1m\"bool\"\u001b[m\u001b[m\n",
      "\u001b[1m\u001b[31mFound 1 error in 1 file (checked 1 source file)\u001b[m\n"
     ]
    }
   ],
   "source": [
    "!mypy headlines.py"
   ]
  },
  {
   "cell_type": "code",
   "execution_count": 12,
   "id": "992a29a1-26c9-4e44-8f4b-a5313a7225c6",
   "metadata": {},
   "outputs": [
    {
     "name": "stdout",
     "output_type": "stream",
     "text": [
      "\u001b[1m\u001b[32mSuccess: no issues found in 1 source file\u001b[m\n"
     ]
    }
   ],
   "source": [
    "!mypy headlines_fixed.py"
   ]
  },
  {
   "cell_type": "markdown",
   "id": "fa62beb7-cf15-4c88-a514-4e4db7ccdc82",
   "metadata": {},
   "source": [
    "## Pros and Cons\n",
    "\n",
    "**Notable Cons**\n",
    "* Type hints take developer time and effort to add. Even though it probably pays off in spending less time debugging, you will spend more time entering code.\n",
    "* Type hints work best in modern Pythons. Annotations were introduced in Python 3.0, and it’s possible to use type comments in Python 2.7. Still, improvements like variable annotations and postponed evaluation of type hints mean that you’ll have a better experience doing type checks using Python 3.6 or even Python 3.7.\n",
    "* Type hints introduce a slight penalty in start-up time. If you need to use the typing module the import time may be significant, especially in short scripts."
   ]
  },
  {
   "cell_type": "markdown",
   "id": "73cabc15-58aa-41e8-8cb5-e92de9d00b33",
   "metadata": {},
   "source": [
    "---\n",
    "### Measuring Import Time"
   ]
  },
  {
   "cell_type": "code",
   "execution_count": 13,
   "id": "3826bce3-3302-4411-b5f5-059f3879d9ca",
   "metadata": {},
   "outputs": [
    {
     "name": "stdout",
     "output_type": "stream",
     "text": [
      "1 loop, best of 1: 1.22 msec per loop\n"
     ]
    }
   ],
   "source": [
    "# Python 3.7+ (faster startup)\n",
    "# Python 3.6  (slow startup)\n",
    "!python -m timeit -n 1 -r 1 \"import typing\""
   ]
  },
  {
   "cell_type": "markdown",
   "id": "cac0f982-2de5-4f4f-8bad-edfaea8bd730",
   "metadata": {},
   "source": [
    "<br/>\n",
    "\n",
    "Expect something like:\n",
    "```bash\n",
    "python3.6 -m timeit -n 1 -r 1 \"import typing\"\n",
    "```\n",
    "```\n",
    "1 loops, best of 1: 9.77 msec per loop\n",
    "```\n",
    "\n",
    "<br/>\n",
    "\n",
    "```bash\n",
    "python3.7 -m timeit -n 1 -r 1 \"import typing\"\n",
    "```\n",
    "```\n",
    "1 loop, best of 1: 1.97 msec per loop\n",
    "```"
   ]
  },
  {
   "cell_type": "markdown",
   "id": "4afe5a41-3a44-4733-9750-af6022a6a713",
   "metadata": {},
   "source": [
    "In Python 3.7 there is also a new command line option that can be used to figure out how much time imports take. Using `-X importtime` you’ll get a report about all imports that are made:"
   ]
  },
  {
   "cell_type": "code",
   "execution_count": 14,
   "id": "9d067818-5053-4fea-be16-0ae30746ecaa",
   "metadata": {},
   "outputs": [
    {
     "name": "stdout",
     "output_type": "stream",
     "text": [
      "import time: self [us] | cumulative | imported package\n",
      "import time:       238 |        238 |   _io\n",
      "import time:        43 |         43 |   marshal\n",
      "import time:       303 |        303 |   posix\n",
      "import time:       559 |       1142 | _frozen_importlib_external\n",
      "import time:        98 |         98 |   time\n",
      "import time:       279 |        376 | zipimport\n",
      "import time:        62 |         62 |     _codecs\n",
      "import time:       566 |        628 |   codecs\n",
      "import time:       429 |        429 |   encodings.aliases\n",
      "import time:       645 |       1700 | encodings\n",
      "import time:       231 |        231 | encodings.utf_8\n",
      "import time:       182 |        182 | _signal\n",
      "import time:       255 |        255 | encodings.latin_1\n",
      "import time:        49 |         49 |     _abc\n",
      "import time:       267 |        315 |   abc\n",
      "import time:       270 |        585 | io\n",
      "import time:        64 |         64 |       _stat\n",
      "import time:       272 |        336 |     stat\n",
      "import time:      1044 |       1044 |     _collections_abc\n",
      "import time:       160 |        160 |       genericpath\n",
      "import time:       224 |        383 |     posixpath\n",
      "import time:       581 |       2343 |   os\n",
      "import time:       194 |        194 |   _sitebuiltins\n",
      "import time:        79 |         79 |     _locale\n",
      "import time:       139 |        217 |   _bootlocale\n",
      "import time:       323 |        323 |   sitecustomize\n",
      "import time:        62 |         62 |   usercustomize\n",
      "import time:       861 |       3997 | site\n",
      "import time:        75 |         75 |       _operator\n",
      "import time:       400 |        475 |     operator\n",
      "import time:       147 |        147 |     keyword\n",
      "import time:       244 |        244 |       _heapq\n",
      "import time:       185 |        428 |     heapq\n",
      "import time:        92 |         92 |     itertools\n",
      "import time:       216 |        216 |     reprlib\n",
      "import time:        75 |         75 |     _collections\n",
      "import time:       858 |       2287 |   collections\n",
      "import time:       183 |        183 |   collections.abc\n",
      "import time:        60 |         60 |       _functools\n",
      "import time:       561 |        620 |     functools\n",
      "import time:       275 |        275 |     types\n",
      "import time:      1055 |       1949 |   contextlib\n",
      "import time:       798 |        798 |     enum\n",
      "import time:        69 |         69 |       _sre\n",
      "import time:       392 |        392 |         sre_constants\n",
      "import time:       374 |        766 |       sre_parse\n",
      "import time:       301 |       1135 |     sre_compile\n",
      "import time:       186 |        186 |     copyreg\n",
      "import time:       551 |       2668 |   re\n",
      "import time:      1765 |       8850 | typing\n"
     ]
    }
   ],
   "source": [
    "!python3 -X importtime import_typing.py"
   ]
  },
  {
   "cell_type": "markdown",
   "id": "fcbc48fd-5d71-4745-8dd3-bc4889742ef6",
   "metadata": {},
   "source": [
    "* If you’ll read the report closely you can notice that around half of this time is spent on importing the `collections.abc` and `re` modules which typing depends on."
   ]
  },
  {
   "cell_type": "markdown",
   "id": "cdd6b397-6b22-4651-8095-68d158e35c33",
   "metadata": {},
   "source": [
    "---"
   ]
  },
  {
   "cell_type": "markdown",
   "id": "ad520617-9d20-4a19-ba30-2cb3dabd50a0",
   "metadata": {},
   "source": [
    "A few rules of thumb on whether to add types to your project are:\n",
    "* If you are just beginning to learn Python, you can safely wait with type hints until you have more experience.\n",
    "* Type hints add little value in short throw-away scripts.\n",
    "* ⚠️ In libraries that will be used by others, especially ones published on PyPI, type hints add a lot of value. Other code using your libraries need these type hints to be properly type checked itself. For examples of projects using type hints see `cursive_re`, `black`, our own Real Python Reader, and Mypy itself.\n",
    "* ⚠️ In bigger projects, type hints help you understand how types flow through your code, and are highly recommended. Even more so in projects where you cooperate with others.\n",
    "\n",
    "In his excellent article [The State of Type Hints in Python](https://bernat.tech/posts/the-state-of-type-hints-in-python/) Bernát Gábor recommends that “type hints should be used whenever unit tests are worth writing.” Indeed, type hints play a similar role as tests in your code: they help you as a developer write better code."
   ]
  },
  {
   "cell_type": "markdown",
   "id": "9006d19e-081e-4cc8-8d9c-34f39adea359",
   "metadata": {},
   "source": [
    "## Annotations"
   ]
  },
  {
   "cell_type": "markdown",
   "id": "fd537ec4-c9dc-4b64-bdfa-303b60b8d493",
   "metadata": {},
   "source": [
    "### Function Annotations\n",
    "E.g.:\n",
    "```python\n",
    "def func(arg: arg_type, optarg: arg_type = default) -> return_type:\n",
    "    ...\n",
    "```"
   ]
  },
  {
   "cell_type": "code",
   "execution_count": 15,
   "id": "0b1f5e4f-f075-4e97-9676-db191b03683a",
   "metadata": {},
   "outputs": [],
   "source": [
    "import math\n",
    "\n",
    "def circumference(radius: float) -> float:\n",
    "    return 2 * math.pi * radius"
   ]
  },
  {
   "cell_type": "code",
   "execution_count": 16,
   "id": "19842dae-04b8-4404-a4c3-c0ecc5fb6f9a",
   "metadata": {},
   "outputs": [
    {
     "data": {
      "text/plain": [
       "7.728317927830891"
      ]
     },
     "execution_count": 16,
     "metadata": {},
     "output_type": "execute_result"
    }
   ],
   "source": [
    "circumference(1.23)"
   ]
  },
  {
   "cell_type": "code",
   "execution_count": 17,
   "id": "e0244c6b-e35a-4268-9c9c-c29023299699",
   "metadata": {},
   "outputs": [
    {
     "data": {
      "text/plain": [
       "{'radius': float, 'return': float}"
      ]
     },
     "execution_count": 17,
     "metadata": {},
     "output_type": "execute_result"
    }
   ],
   "source": [
    "circumference.__annotations__"
   ]
  },
  {
   "cell_type": "markdown",
   "id": "6a12fd7c-fb69-4070-8439-2919870d40c0",
   "metadata": {},
   "source": [
    "**MyPy**\n",
    "\n",
    "Sometimes you might be confused by how Mypy is interpreting your type hints. For those cases there are special Mypy expressions: `reveal_type()` and `reveal_locals()`. You can add these to your code before running Mypy, and Mypy will dutifully report which types it has inferred. As an example, save the following code to `reveal.py`:"
   ]
  },
  {
   "cell_type": "code",
   "execution_count": 18,
   "id": "059a842b-d2f3-4584-a677-364cb1570dce",
   "metadata": {},
   "outputs": [
    {
     "name": "stdout",
     "output_type": "stream",
     "text": [
      "reveal.py:5: \u001b[34mnote:\u001b[m Revealed type is \u001b[m\u001b[1m\"builtins.float\"\u001b[m\u001b[m\n",
      "reveal.py:11: \u001b[34mnote:\u001b[m Revealed local types are:\u001b[m\n",
      "reveal.py:11: \u001b[34mnote:\u001b[m     circumference: builtins.float\u001b[m\n",
      "reveal.py:11: \u001b[34mnote:\u001b[m     radius: builtins.int\u001b[m\n"
     ]
    }
   ],
   "source": [
    "!mypy reveal.py"
   ]
  },
  {
   "cell_type": "markdown",
   "id": "9a6a9480-4430-4616-9aed-642d9555c511",
   "metadata": {},
   "source": [
    "> **Note:** The reveal expressions are only meant as a tool helping you add types and debug your type hints. If you try to run the `reveal.py` file as a Python script it will crash with a `NameError` since `reveal_type()` is not a function known to the Python interpreter."
   ]
  },
  {
   "cell_type": "markdown",
   "id": "62cfc38a-049a-4bc7-9092-433b8b4add7b",
   "metadata": {},
   "source": [
    "### Variable Annotations\n",
    "\n",
    "Sometimes the type checker needs help in figuring out the types of variables as well. Variable annotations were defined in PEP 526 and introduced in Python 3.6."
   ]
  },
  {
   "cell_type": "code",
   "execution_count": 19,
   "id": "a24d332d-9db3-4420-8500-5580dfd7f986",
   "metadata": {},
   "outputs": [],
   "source": [
    "pi: float = 3.142\n",
    "\n",
    "def circumference(radius: float) -> float:\n",
    "    return 2 * pi * radius"
   ]
  },
  {
   "cell_type": "markdown",
   "id": "195da309-0ecf-47c6-9ea8-bfd2d0ca5dc1",
   "metadata": {},
   "source": [
    "> **Note:** Static type checkers are more than able to figure out that `3.142` is a `float`, so in this example the annotation of `pi` is not necessary. As you learn more about the Python type system, you’ll see more relevant examples of variable annotations."
   ]
  },
  {
   "cell_type": "code",
   "execution_count": 20,
   "id": "9c67c40e-9ed1-4224-b94c-d4f6d583017b",
   "metadata": {},
   "outputs": [
    {
     "data": {
      "text/plain": [
       "{'pi': float}"
      ]
     },
     "execution_count": 20,
     "metadata": {},
     "output_type": "execute_result"
    }
   ],
   "source": [
    "circumference(1)\n",
    "\n",
    "__annotations__  # Annotations of local variables."
   ]
  },
  {
   "cell_type": "markdown",
   "id": "80a26cfc-4ffa-46ed-9ee5-025e6b6b1173",
   "metadata": {},
   "source": [
    "You’re allowed to annotate a variable without giving it a value. This adds the annotation to the `__annotations__` dictionary, while the variable remains undefined:"
   ]
  },
  {
   "cell_type": "code",
   "execution_count": 21,
   "id": "f5361f2d-6119-4305-9f2e-4f19bdf8487b",
   "metadata": {},
   "outputs": [
    {
     "name": "stdout",
     "output_type": "stream",
     "text": [
      "Traceback (most recent call last):\n",
      "  File \"/tmp/ipykernel_261451/3202849731.py\", line 8, in handle\n",
      "    exec(cell)\n",
      "  File \"<string>\", line 2, in <module>\n",
      "NameError: name 'nothing' is not defined\n",
      "\n"
     ]
    }
   ],
   "source": [
    "%%handle\n",
    "nothing: str\n",
    "nothing"
   ]
  },
  {
   "cell_type": "code",
   "execution_count": 22,
   "id": "440aa5d0-99aa-4af6-8fda-155a8b3486f2",
   "metadata": {},
   "outputs": [
    {
     "data": {
      "text/plain": [
       "{'pi': float}"
      ]
     },
     "execution_count": 22,
     "metadata": {},
     "output_type": "execute_result"
    }
   ],
   "source": [
    "__annotations__"
   ]
  },
  {
   "cell_type": "markdown",
   "id": "7bebe4ca-3694-47e3-93b4-e8e21fe6b52b",
   "metadata": {},
   "source": [
    "### Type Comments\n",
    "\n",
    "Annotations were introduced in Python 3, and they’ve not been backported to Python 2. This means that if you’re writing code that needs to support legacy Python, you can’t use annotations."
   ]
  },
  {
   "cell_type": "code",
   "execution_count": 23,
   "id": "0ccea44a-58aa-44cb-8177-de2d041d68e7",
   "metadata": {},
   "outputs": [],
   "source": [
    "import math\n",
    "\n",
    "def circumference(radius):\n",
    "    # type: (float) -> float\n",
    "    return 2 * math.pi * radius"
   ]
  },
  {
   "cell_type": "markdown",
   "id": "3da937f7-012e-453d-9ea4-075b1e30fb47",
   "metadata": {},
   "source": [
    "Type comments are handled directly by the type checker, so these types are **not available** in the `__annotations__` dictionary:"
   ]
  },
  {
   "cell_type": "code",
   "execution_count": 24,
   "id": "a6d9ce54-77ca-4c45-98bb-10beea2501fe",
   "metadata": {},
   "outputs": [
    {
     "data": {
      "text/plain": [
       "{}"
      ]
     },
     "execution_count": 24,
     "metadata": {},
     "output_type": "execute_result"
    }
   ],
   "source": [
    "circumference.__annotations__"
   ]
  },
  {
   "cell_type": "code",
   "execution_count": 25,
   "id": "c26d4f6b-37a0-430b-a979-230dbd163dbe",
   "metadata": {},
   "outputs": [
    {
     "name": "stdout",
     "output_type": "stream",
     "text": [
      "---------- Type Comments Work ----------\n"
     ]
    }
   ],
   "source": [
    "def headline(text, width=80, fill_char=\"-\"):\n",
    "    # type: (str, int, str) -> str\n",
    "    return f\" {text.title()} \".center(width, fill_char)\n",
    "\n",
    "print(headline(\"type comments work\", width=40))"
   ]
  },
  {
   "cell_type": "markdown",
   "id": "405bb087-0d3c-410e-ad36-dba4e4cebf8a",
   "metadata": {},
   "source": [
    "<br/>\n",
    "\n",
    "See `headlines_comments.py`:\n",
    "```python\n",
    "# headlines.py\n",
    "\n",
    "def headline(\n",
    "    text,           # type: str\n",
    "    width=80,       # type: int\n",
    "    fill_char=\"-\",  # type: str\n",
    "):                  # type: (...) -> str\n",
    "\n",
    "    return f\" {text.title()} \".center(width, fill_char)\n",
    "\n",
    "\n",
    "print(headline(\"type comments work\", width=40))\n",
    "```"
   ]
  },
  {
   "cell_type": "code",
   "execution_count": 26,
   "id": "598013df-aad4-4525-8090-d5ad7613de44",
   "metadata": {},
   "outputs": [
    {
     "name": "stdout",
     "output_type": "stream",
     "text": [
      "---------- Type Comments Work ----------\n"
     ]
    }
   ],
   "source": [
    "!python headlines_comments.py"
   ]
  },
  {
   "cell_type": "code",
   "execution_count": 27,
   "id": "651288f1-cda0-4902-9ff7-db30a63b8451",
   "metadata": {},
   "outputs": [
    {
     "name": "stdout",
     "output_type": "stream",
     "text": [
      "\u001b[1m\u001b[32mSuccess: no issues found in 1 source file\u001b[m\n"
     ]
    }
   ],
   "source": [
    "!mypy headlines_comments.py"
   ]
  },
  {
   "cell_type": "code",
   "execution_count": 28,
   "id": "49243bea-5ac6-43ed-bdd4-50cf22dd1387",
   "metadata": {},
   "outputs": [],
   "source": [
    "# Type comments for variables:\n",
    "pi = 3.142  # type: float"
   ]
  },
  {
   "cell_type": "markdown",
   "id": "c91ed04f-3844-4a4b-a3cc-e69c299e2f59",
   "metadata": {},
   "source": [
    "### So, Type Annotations or Type Comments?\n",
    "In short: **Use annotations if you can, use type comments if you must.**\n",
    "\n",
    "\n",
    "There is also hidden option number three: **stub files**. You will learn about these later, when we discuss adding types to third party libraries."
   ]
  },
  {
   "cell_type": "markdown",
   "id": "ddfd9f11-ac32-49b8-bd07-a0a17af8772a",
   "metadata": {},
   "source": [
    "## Playing With Python Types, Part 1"
   ]
  },
  {
   "cell_type": "markdown",
   "id": "12a1cae9-0ecd-4f33-bb4d-801aa7aad496",
   "metadata": {},
   "source": [
    "### Example: A Deck of Cards\n",
    "See `game.py`."
   ]
  },
  {
   "cell_type": "code",
   "execution_count": 29,
   "id": "61559d3d-44a7-4346-aa37-43ce00bf8d00",
   "metadata": {},
   "outputs": [
    {
     "name": "stdout",
     "output_type": "stream",
     "text": [
      "P1: ♡Q ♢9 ♡3 ♠K ♠5 ♡J ♠3 ♠9 ♡A ♣J ♢2 ♡7 ♢Q\n",
      "P2: ♢A ♡K ♠8 ♡4 ♠4 ♣3 ♡9 ♣9 ♠A ♣A ♢7 ♢10 ♣10\n",
      "P3: ♣5 ♣Q ♠J ♢6 ♢3 ♣8 ♣2 ♣K ♣6 ♢5 ♠10 ♠6 ♡2\n",
      "P4: ♡10 ♢4 ♢K ♡6 ♠7 ♢8 ♢J ♣4 ♠Q ♠2 ♡5 ♣7 ♡8\n"
     ]
    }
   ],
   "source": [
    "!python game.py"
   ]
  },
  {
   "cell_type": "markdown",
   "id": "e0b3d34d-0057-4fd9-be87-a9c495daabba",
   "metadata": {},
   "source": [
    "You will see how to extend this example into a more interesting game as we move along."
   ]
  },
  {
   "cell_type": "markdown",
   "id": "19df1467-c1e3-4112-9832-f63fc689902d",
   "metadata": {},
   "source": [
    "### Sequences and Mappings"
   ]
  },
  {
   "cell_type": "code",
   "execution_count": 30,
   "id": "41cdec07-94e8-4259-bd4d-e3f7139f2969",
   "metadata": {},
   "outputs": [],
   "source": [
    "name: str = \"Guido\"\n",
    "pi: float = 3.142\n",
    "centered: bool = False"
   ]
  },
  {
   "cell_type": "code",
   "execution_count": 31,
   "id": "c29a79dc-4696-4bfe-ba2d-354cfb095609",
   "metadata": {},
   "outputs": [],
   "source": [
    "names: list = [\"Guido\", \"Jukka\", \"Ivan\"]\n",
    "version: tuple = (3, 7, 1)\n",
    "options: dict = {\"centered\": False, \"capitalize\": True}"
   ]
  },
  {
   "cell_type": "code",
   "execution_count": 32,
   "id": "8f7f28f6-47e9-43aa-80c0-be5f2a791762",
   "metadata": {},
   "outputs": [],
   "source": [
    "from typing import Dict, List, Tuple\n",
    "\n",
    "names: List[str] = [\"Guido\", \"Jukka\", \"Ivan\"]\n",
    "version: Tuple[int, int, int] = (3, 7, 1)\n",
    "options: Dict[str, bool] = {\"centered\": False, \"capitalize\": True}"
   ]
  },
  {
   "cell_type": "code",
   "execution_count": 33,
   "id": "9e12a629-60bf-411d-a7db-57de7f7f8293",
   "metadata": {},
   "outputs": [],
   "source": [
    "def create_deck(shuffle: bool = False) -> List[Tuple[str, str]]:\n",
    "    \"\"\"Create a new deck of 52 cards\"\"\"\n",
    "    deck = [(s, r) for r in RANKS for s in SUITS]\n",
    "\n",
    "    if shuffle:\n",
    "        random.shuffle(deck)\n",
    "\n",
    "    return deck"
   ]
  },
  {
   "cell_type": "markdown",
   "id": "f7078429-c190-49aa-a498-3852ecc49973",
   "metadata": {},
   "source": [
    "In many cases your functions will expect some kind of sequence, and not really care whether it is a `list` or a `tuple`. In these cases you should use `typing.Sequence` when annotating the function argument:"
   ]
  },
  {
   "cell_type": "code",
   "execution_count": 34,
   "id": "fe5fd184-be1e-4a2c-b07d-09b5c101a151",
   "metadata": {},
   "outputs": [],
   "source": [
    "from typing import List, Sequence\n",
    "\n",
    "def square(elems: Sequence[float]) -> List[float]:\n",
    "    return [x**2 for x in elems]"
   ]
  },
  {
   "cell_type": "markdown",
   "id": "049f8915-12bb-44cc-98ca-8ff457e53daa",
   "metadata": {},
   "source": [
    "⚠️ Using `Sequence` is an example of using **duck typing**. A `Sequence` is anything that supports `len()` and `.__getitem__()`, **independent of its actual type**."
   ]
  },
  {
   "cell_type": "markdown",
   "id": "e20a2649-6af7-48f8-9ca1-2754496cd6a7",
   "metadata": {},
   "source": [
    "### Type Aliases\n",
    "\n",
    "The type hints might become quite oblique when working with nested types like the deck of cards. You may need to stare at `List[Tuple[str, str]]` a bit before figuring out that it matches our representation of a deck of cards.\n",
    "\n",
    "Now consider how you would annotate `deal_hands()`:"
   ]
  },
  {
   "cell_type": "code",
   "execution_count": 35,
   "id": "57978227-e1bb-4d11-acfd-145ee4f7483b",
   "metadata": {},
   "outputs": [],
   "source": [
    "def deal_hands(\n",
    "    deck: List[Tuple[str, str]]\n",
    ") -> Tuple[\n",
    "    List[Tuple[str, str]],\n",
    "    List[Tuple[str, str]],\n",
    "    List[Tuple[str, str]],\n",
    "    List[Tuple[str, str]],\n",
    "]:\n",
    "    \"\"\"Deal the cards in the deck into four hands\"\"\"\n",
    "\n",
    "    return (deck[0::4], deck[1::4], deck[2::4], deck[3::4])"
   ]
  },
  {
   "cell_type": "markdown",
   "id": "944f77bd-a3fa-4c7e-8b56-2eb8a46afb9c",
   "metadata": {},
   "source": [
    "That’s just terrible!\n",
    "\n",
    "Recall that type annotations are regular Python expressions. That means that you can define your own type aliases by assigning them to new variables. You can for instance create `Card` and `Deck` type aliases:"
   ]
  },
  {
   "cell_type": "code",
   "execution_count": 36,
   "id": "ef9a7c06-060a-4a8d-a860-a7ecfa7d6efa",
   "metadata": {},
   "outputs": [],
   "source": [
    "from typing import List, Tuple\n",
    "\n",
    "Card = Tuple[str, str]\n",
    "Deck = List[Card]"
   ]
  },
  {
   "cell_type": "code",
   "execution_count": 37,
   "id": "71a7ed81-f4ba-47a0-ac5d-46f1eb794916",
   "metadata": {},
   "outputs": [],
   "source": [
    "def deal_hands(deck: Deck) -> Tuple[Deck, Deck, Deck, Deck]:\n",
    "    \"\"\"Deal the cards in the deck into four hands\"\"\"\n",
    "\n",
    "    return (deck[0::4], deck[1::4], deck[2::4], deck[3::4])"
   ]
  },
  {
   "cell_type": "code",
   "execution_count": 38,
   "id": "72b19b1d-228b-40df-a65a-d45f1e184bfd",
   "metadata": {},
   "outputs": [
    {
     "data": {
      "text/plain": [
       "typing.List[typing.Tuple[str, str]]"
      ]
     },
     "execution_count": 38,
     "metadata": {},
     "output_type": "execute_result"
    }
   ],
   "source": [
    "from typing import List, Tuple\n",
    "Card = Tuple[str, str]\n",
    "Deck = List[Card]\n",
    "\n",
    "# Inspect what `Deck` represents by printing it:\n",
    "Deck"
   ]
  },
  {
   "cell_type": "markdown",
   "id": "553349fa-c9bc-417f-8bdc-bb243b7b503f",
   "metadata": {},
   "source": [
    "### Functions Without Return Values"
   ]
  },
  {
   "cell_type": "code",
   "execution_count": 39,
   "id": "f31e17fb-45c0-490b-877b-1b8711cca0f0",
   "metadata": {},
   "outputs": [
    {
     "name": "stdout",
     "output_type": "stream",
     "text": [
      "Jacob plays\n"
     ]
    }
   ],
   "source": [
    "def play(player_name):\n",
    "    print(f\"{player_name} plays\")\n",
    "\n",
    "ret_val = play(\"Jacob\")"
   ]
  },
  {
   "cell_type": "code",
   "execution_count": 40,
   "id": "26285a47-5686-4a91-a224-d5e421eb53ec",
   "metadata": {},
   "outputs": [
    {
     "name": "stdout",
     "output_type": "stream",
     "text": [
      "None\n"
     ]
    }
   ],
   "source": [
    "print(ret_val)"
   ]
  },
  {
   "cell_type": "markdown",
   "id": "dcb7eaef-b0e3-4e7c-810b-2dfc31a69d3c",
   "metadata": {},
   "source": [
    "See `play.py`."
   ]
  },
  {
   "cell_type": "code",
   "execution_count": 41,
   "id": "b57c1be7-8432-49fa-8688-17bfd11c31a9",
   "metadata": {},
   "outputs": [
    {
     "name": "stdout",
     "output_type": "stream",
     "text": [
      "play.py:8: \u001b[1m\u001b[31merror:\u001b[m \u001b[m\u001b[1m\"play\"\u001b[m does not return a value\u001b[m\n",
      "\u001b[1m\u001b[31mFound 1 error in 1 file (checked 1 source file)\u001b[m\n"
     ]
    }
   ],
   "source": [
    "!mypy play.py"
   ]
  },
  {
   "cell_type": "markdown",
   "id": "56fa62f2-6c10-40da-90eb-9c2465d5b34c",
   "metadata": {},
   "source": [
    "Note that being explicit about a function not returning anything is different from not adding a type hint about the return value:"
   ]
  },
  {
   "cell_type": "code",
   "execution_count": 42,
   "id": "c5997d82-10f4-4285-8873-544fb6848e4a",
   "metadata": {},
   "outputs": [
    {
     "name": "stdout",
     "output_type": "stream",
     "text": [
      "\u001b[1m\u001b[32mSuccess: no issues found in 1 source file\u001b[m\n"
     ]
    }
   ],
   "source": [
    "!mypy play_not_annotated.py"
   ]
  },
  {
   "cell_type": "markdown",
   "id": "1710fa0f-012f-40fe-9d8c-10efba283cbb",
   "metadata": {},
   "source": [
    "As a more exotic case, note that you can also **annotate functions that are never expected to return normally (e.g. exceptions)**. \n",
    "\n",
    "This is done using `NoReturn`:"
   ]
  },
  {
   "cell_type": "code",
   "execution_count": 43,
   "id": "120d61d5-7ad3-4e33-9087-e480d394a503",
   "metadata": {},
   "outputs": [],
   "source": [
    "from typing import NoReturn\n",
    "\n",
    "def black_hole() -> NoReturn:\n",
    "    raise Exception(\"There is no going back ...\")"
   ]
  },
  {
   "cell_type": "markdown",
   "id": "f41a7e55-58cf-4c89-b3cb-58086209ffac",
   "metadata": {},
   "source": [
    "### Example: Play Some Cards\n",
    "\n",
    "See `game_v2.py`"
   ]
  },
  {
   "cell_type": "code",
   "execution_count": 44,
   "id": "b232a20e-5953-40b6-8576-acd473548ec1",
   "metadata": {},
   "outputs": [
    {
     "name": "stdout",
     "output_type": "stream",
     "text": [
      "P4: ♢2   P1: ♡3   P2: ♠7   P3: ♣5   \n",
      "P4: ♠A   P1: ♢6   P2: ♢8   P3: ♣A   \n",
      "P4: ♠9   P1: ♡10  P2: ♣J   P3: ♢3   \n",
      "P4: ♢9   P1: ♠4   P2: ♡2   P3: ♣9   \n",
      "P4: ♣4   P1: ♠K   P2: ♡5   P3: ♠3   \n",
      "P4: ♢10  P1: ♢4   P2: ♡A   P3: ♠10  \n",
      "P4: ♣10  P1: ♢5   P2: ♢J   P3: ♣8   \n",
      "P4: ♢7   P1: ♠5   P2: ♣7   P3: ♣K   \n",
      "P4: ♡9   P1: ♠2   P2: ♣3   P3: ♢K   \n",
      "P4: ♣6   P1: ♡J   P2: ♠8   P3: ♡K   \n",
      "P4: ♡7   P1: ♢A   P2: ♡4   P3: ♠6   \n",
      "P4: ♣Q   P1: ♠Q   P2: ♡6   P3: ♣2   \n",
      "P4: ♡8   P1: ♡Q   P2: ♢Q   P3: ♠J   \n"
     ]
    }
   ],
   "source": [
    "!python game_v2.py"
   ]
  },
  {
   "cell_type": "markdown",
   "id": "5d7aca55-6d54-4793-8664-6d4af0ff8ec0",
   "metadata": {},
   "source": [
    "### The Any Type"
   ]
  },
  {
   "cell_type": "markdown",
   "id": "1d83e7af-37d5-4d0a-acc2-bf0d9ab36dfa",
   "metadata": {},
   "source": [
    "`choose()` works for both lists of names and lists of cards (and any other sequence for that matter). One way to add type hints for this would be the following:"
   ]
  },
  {
   "cell_type": "code",
   "execution_count": 45,
   "id": "42b7e1e9-8376-4fd5-b83b-6107d2ed3357",
   "metadata": {},
   "outputs": [],
   "source": [
    "import random\n",
    "from typing import Any, Sequence\n",
    "\n",
    "def choose(items: Sequence[Any]) -> Any:\n",
    "    return random.choice(items)"
   ]
  },
  {
   "cell_type": "markdown",
   "id": "e0b91478-a7f2-41a2-82f0-c609424e74b1",
   "metadata": {},
   "source": [
    "While Mypy will correctly infer that names is a list of strings, *that information is lost* after the call to `choose()` *because* of the use of the `Any` type:"
   ]
  },
  {
   "cell_type": "code",
   "execution_count": 46,
   "id": "f5c186b2-e4ee-4cd9-9175-ff12e10f8568",
   "metadata": {},
   "outputs": [
    {
     "name": "stdout",
     "output_type": "stream",
     "text": [
      "choose.py:13: \u001b[34mnote:\u001b[m Revealed type is \u001b[m\u001b[1m\"builtins.list[builtins.str*]\"\u001b[m\u001b[m\n",
      "choose.py:18: \u001b[34mnote:\u001b[m Revealed type is \u001b[m\u001b[1m\"Any\"\u001b[m\u001b[m\n"
     ]
    }
   ],
   "source": [
    "!mypy choose.py"
   ]
  },
  {
   "cell_type": "markdown",
   "id": "66e9df34-bb2e-4330-9c55-5f7a4cccd82d",
   "metadata": {},
   "source": [
    "## Type Theory\n",
    "\n",
    "See also: [PEP 483 \"The Theory of Type Hints\"](https://www.python.org/dev/peps/pep-0483/).\n",
    "\n",
    "Read the section: https://realpython.com/python-type-checking/#type-theory."
   ]
  },
  {
   "cell_type": "markdown",
   "id": "65dad7c7-f6db-4ab1-a61a-7fd6d804b255",
   "metadata": {},
   "source": [
    "### Subtypes\n",
    "\n",
    "Formally, we say that a type T is a subtype of U if the following two conditions hold:\n",
    "* Every value from T is also in the set of values of U type.\n",
    "* Every function from U type is also in the set of functions of T type."
   ]
  },
  {
   "cell_type": "code",
   "execution_count": 47,
   "id": "dbd89a17-131b-4d18-a98b-a38a0cb96512",
   "metadata": {},
   "outputs": [
    {
     "data": {
      "text/plain": [
       "0"
      ]
     },
     "execution_count": 47,
     "metadata": {},
     "output_type": "execute_result"
    }
   ],
   "source": [
    "int(False)"
   ]
  },
  {
   "cell_type": "code",
   "execution_count": 48,
   "id": "da9a9f9a-c6f6-4777-baa0-128659ddd337",
   "metadata": {},
   "outputs": [
    {
     "data": {
      "text/plain": [
       "1"
      ]
     },
     "execution_count": 48,
     "metadata": {},
     "output_type": "execute_result"
    }
   ],
   "source": [
    "int(True)"
   ]
  },
  {
   "cell_type": "code",
   "execution_count": 49,
   "id": "f3ca2c6e-71d3-4b0c-afe4-25d4b8860b82",
   "metadata": {},
   "outputs": [
    {
     "data": {
      "text/plain": [
       "2"
      ]
     },
     "execution_count": 49,
     "metadata": {},
     "output_type": "execute_result"
    }
   ],
   "source": [
    "True + True"
   ]
  },
  {
   "cell_type": "code",
   "execution_count": 50,
   "id": "a12076c8-078a-47e5-bdce-e22f5b7d83ae",
   "metadata": {},
   "outputs": [
    {
     "data": {
      "text/plain": [
       "True"
      ]
     },
     "execution_count": 50,
     "metadata": {},
     "output_type": "execute_result"
    }
   ],
   "source": [
    "issubclass(bool, int)"
   ]
  },
  {
   "cell_type": "code",
   "execution_count": 51,
   "id": "844ef368-0faf-4f86-93e3-dc4ab8873d5a",
   "metadata": {},
   "outputs": [
    {
     "name": "stdout",
     "output_type": "stream",
     "text": [
      "2\n"
     ]
    }
   ],
   "source": [
    "def double(number: int) -> int:\n",
    "    return number * 2\n",
    "\n",
    "print(double(True))  # Passing in bool instead of int"
   ]
  },
  {
   "cell_type": "markdown",
   "id": "ec3a2a4e-25b4-44e9-9026-41fd8b175624",
   "metadata": {},
   "source": [
    "> Subtypes are somewhat related to subclasses. In fact all *subclasses corresponds to subtypes*, and bool is a subtype of int because bool is a subclass of int. *However, there are also subtypes that do not correspond to subclasses*. For instance int is a subtype of float, but int is not a subclass of float."
   ]
  },
  {
   "cell_type": "markdown",
   "id": "06ce4d28-1b8b-4ee4-8df0-b0f65bd21ebf",
   "metadata": {},
   "source": [
    "### Covariant, Contravariant, and Invariant\n",
    "\n",
    "* Wikipedia is good on this: https://en.wikipedia.org/wiki/Covariance_and_contravariance_%28computer_science%29\n",
    "\n",
    "Some examples:\n",
    "\n",
    "* `Tuple` is **covariant**. This means that it preserves the type hierarchy of its item types: `Tuple[bool]` is a subtype of `Tuple[int]` because `bool` is a subtype of `int`.\n",
    "* `List` is **invariant**. Invariant types give no guarantee about subtypes. While all values of `List[bool]` are values of `List[int]`, you can append an int to `List[int]` and not to `List[bool]`. In other words, the second condition for subtypes does not hold, and `List[bool]` is not a subtype of `List[int]`.\n",
    "* `Callable` is **contravariant** in its arguments. This means that it reverses the type hierarchy. You will see how `Callable` works later, but for now think of `Callable[[T], ...]` as a function with its only argument being of type `T`. An example of a `Callable[[int], ...]` is the `double()` function defined above. Being contravariant means that if a function operating on a `bool` is expected, then a function operating on an `int` would be acceptable.\n"
   ]
  },
  {
   "cell_type": "markdown",
   "id": "dd8d3499-dcb1-419b-9923-89cb89b9d1ef",
   "metadata": {},
   "source": [
    "### Gradual Typing and Consistent Types\n",
    "\n",
    "Gradual typing is essentially made possible by the `Any` type.\n",
    "\n",
    "Somehow `Any` sits both at the top and at the bottom of the type hierarchy of subtypes. Any type behaves as if it is a subtype of `Any`, and `Any` behaves as if it is a subtype of any other type.\n",
    "\n",
    "Looking at the definition of subtypes above this is not really possible. Instead we talk about **consistent types**.\n",
    "\n",
    "The type `T` is consistent with the type `U` if: \n",
    "* `T` is a subtype of `U`, or \n",
    "* either `T` or `U` is `Any`."
   ]
  },
  {
   "cell_type": "markdown",
   "id": "f073a0ed-c8e6-40f8-b0f3-9fdf1030a735",
   "metadata": {},
   "source": [
    "## Playing With Python Types, Part 2\n",
    "\n",
    "Recall that you were trying to annotate the general `choose()` function. The problem with using Any is that you are needlessly losing type information. \n",
    "\n",
    "*You know that if you pass a list of strings to `choose()`, it will return a string*. Below you’ll see how to express this using **type variables**.\n"
   ]
  },
  {
   "cell_type": "markdown",
   "id": "e646ab6e-b110-4d7d-be2f-c298a9ce147d",
   "metadata": {},
   "source": [
    "### Type Variables\n",
    "\n",
    "A type variable is a special variable that can take on any type, depending on the situation.\n",
    "\n",
    "```python\n",
    "Choosable = TypeVar(\"Choosable\")\n",
    "```\n",
    "\n",
    "> A type variable must be defined using `TypeVar` from the `typing` module. When used, a type variable *ranges over all possible types and takes the most specific type possible*."
   ]
  },
  {
   "cell_type": "code",
   "execution_count": 52,
   "id": "67c1ec85-47c5-4eb3-baa7-1f60d3919b97",
   "metadata": {},
   "outputs": [
    {
     "name": "stdout",
     "output_type": "stream",
     "text": [
      "choose.py:13: \u001b[34mnote:\u001b[m Revealed type is \u001b[m\u001b[1m\"builtins.list[builtins.str*]\"\u001b[m\u001b[m\n",
      "choose.py:18: \u001b[34mnote:\u001b[m Revealed type is \u001b[m\u001b[1m\"Any\"\u001b[m\u001b[m\n"
     ]
    }
   ],
   "source": [
    "!mypy choose.py"
   ]
  },
  {
   "cell_type": "code",
   "execution_count": 53,
   "id": "9d3ce9d8-8bde-412c-9a51-73c61bdaf9ae",
   "metadata": {},
   "outputs": [
    {
     "name": "stdout",
     "output_type": "stream",
     "text": [
      "choose_with_typevar.py:14: \u001b[34mnote:\u001b[m Revealed type is \u001b[m\u001b[1m\"builtins.list[builtins.str*]\"\u001b[m\u001b[m\n",
      "choose_with_typevar.py:18: \u001b[34mnote:\u001b[m Revealed type is \u001b[m\u001b[1m\"builtins.str*\"\u001b[m\u001b[m\n"
     ]
    }
   ],
   "source": [
    "!mypy choose_with_typevar.py"
   ]
  },
  {
   "cell_type": "markdown",
   "id": "5c125488-6e01-4faf-9ed9-bfe870f0b871",
   "metadata": {},
   "source": [
    "Consider this example, especially the last two cases:\n",
    "```python\n",
    "# choose_examples.py\n",
    "\n",
    "from choose_with_typevar import choose\n",
    "\n",
    "reveal_type(choose([\"Guido\", \"Jukka\", \"Ivan\"]))\n",
    "reveal_type(choose([1, 2, 3]))\n",
    "reveal_type(choose([True, 42, 3.14]))\n",
    "reveal_type(choose([\"Python\", 3, 7]))\n",
    "```"
   ]
  },
  {
   "cell_type": "code",
   "execution_count": 54,
   "id": "a0171ddc-f442-41d3-8fdc-ff7daf67e14d",
   "metadata": {},
   "outputs": [
    {
     "name": "stdout",
     "output_type": "stream",
     "text": [
      "choose_with_typevar.py:14: \u001b[34mnote:\u001b[m Revealed type is \u001b[m\u001b[1m\"builtins.list[builtins.str*]\"\u001b[m\u001b[m\n",
      "choose_with_typevar.py:18: \u001b[34mnote:\u001b[m Revealed type is \u001b[m\u001b[1m\"builtins.str*\"\u001b[m\u001b[m\n",
      "choose_examples.py:5: \u001b[34mnote:\u001b[m Revealed type is \u001b[m\u001b[1m\"builtins.str*\"\u001b[m\u001b[m\n",
      "choose_examples.py:6: \u001b[34mnote:\u001b[m Revealed type is \u001b[m\u001b[1m\"builtins.int*\"\u001b[m\u001b[m\n",
      "choose_examples.py:7: \u001b[34mnote:\u001b[m Revealed type is \u001b[m\u001b[1m\"builtins.float*\"\u001b[m\u001b[m\n",
      "choose_examples.py:8: \u001b[34mnote:\u001b[m Revealed type is \u001b[m\u001b[1m\"builtins.object*\"\u001b[m\u001b[m\n"
     ]
    }
   ],
   "source": [
    "!mypy choose_examples.py"
   ]
  },
  {
   "cell_type": "markdown",
   "id": "61c7943a-cce2-49df-8e1f-8b26aecb39f8",
   "metadata": {},
   "source": [
    "Note that none of these examples raised a type error. Is there a way to tell the type checker that `choose()` should accept both strings and numbers, but not both at the same time?\n",
    "\n",
    "You can constrain type variables by listing the acceptable types:\n",
    "```python\n",
    "Choosable = TypeVar(\"Choosable\", str, float)\n",
    "```"
   ]
  },
  {
   "cell_type": "code",
   "execution_count": 55,
   "id": "7ef9307e-595b-4e89-af95-2dc48443ab36",
   "metadata": {},
   "outputs": [
    {
     "name": "stdout",
     "output_type": "stream",
     "text": [
      "choose_with_typevar_constrained.py:13: \u001b[34mnote:\u001b[m Revealed type is \u001b[m\u001b[1m\"builtins.str*\"\u001b[m\u001b[m\n",
      "choose_with_typevar_constrained.py:14: \u001b[34mnote:\u001b[m Revealed type is \u001b[m\u001b[1m\"builtins.float*\"\u001b[m\u001b[m\n",
      "choose_with_typevar_constrained.py:15: \u001b[34mnote:\u001b[m Revealed type is \u001b[m\u001b[1m\"builtins.float*\"\u001b[m\u001b[m\n",
      "choose_with_typevar_constrained.py:16: \u001b[1m\u001b[31merror:\u001b[m Value of type variable \u001b[m\u001b[1m\"Choosable\"\u001b[m of \u001b[m\u001b[1m\"choose\"\u001b[m cannot be \u001b[m\u001b[1m\"object\"\u001b[m\u001b[m\n",
      "choose_with_typevar_constrained.py:16: \u001b[34mnote:\u001b[m Revealed type is \u001b[m\u001b[1m\"builtins.object*\"\u001b[m\u001b[m\n",
      "\u001b[1m\u001b[31mFound 1 error in 1 file (checked 1 source file)\u001b[m\n"
     ]
    }
   ],
   "source": [
    "!mypy choose_with_typevar_constrained.py"
   ]
  },
  {
   "cell_type": "markdown",
   "id": "879688ac-b2fc-4cd9-8137-7cf9ed6dd05b",
   "metadata": {},
   "source": [
    "In our card game we want to restrict `choose()` to be used for `str` and `Card`:\n",
    "```python\n",
    "Choosable = TypeVar(\"Choosable\", str, Card)\n",
    "\n",
    "def choose(items: Sequence[Choosable]) -> Choosable:\n",
    "    ...\n",
    "```"
   ]
  },
  {
   "cell_type": "markdown",
   "id": "801c70c7-60fd-4eca-a2ad-c57c440f78c6",
   "metadata": {},
   "source": [
    "### Duck Types and Protocols\n",
    "\n",
    "One way to categorize type systems is by whether they are nominal or structural:\n",
    "* In a **nominal** system, comparisons between types are based on names and declarations. The Python type system is mostly nominal, where an int can be used in place of a float because of their subtype relationship.\n",
    "* In a **structural** system, comparisons between types are based on structure. You could define a structural type `Sized` that includes all instances that define `.__len__()`, irrespective of their nominal type.\n",
    "\n",
    "> There is ongoing work to bring a full-fledged structural type system to Python through [PEP 544](https://www.python.org/dev/peps/pep-0544/) which aims at adding a concept called **protocols**. Most of PEP 544 is already implemented in [Mypy](https://mypy.readthedocs.io/en/latest/protocols.html) though.\n",
    "\n",
    "A protocol specifies one or more methods that must be implemented. For example, all classes defining `.__len__()` fulfill the `typing.Sized` protocol. We can therefore annotate `len()` as follows:"
   ]
  },
  {
   "cell_type": "code",
   "execution_count": 56,
   "id": "fe86e9b9-0a90-4f56-867c-dc5d57465b6b",
   "metadata": {},
   "outputs": [],
   "source": [
    "from typing import Sized\n",
    "\n",
    "def len(obj: Sized) -> int:\n",
    "    return obj.__len__()"
   ]
  },
  {
   "cell_type": "markdown",
   "id": "cec1e930-4d68-4ee1-8d03-60b0e888536b",
   "metadata": {},
   "source": [
    "Other examples of protocols defined in the typing module include: \n",
    "* `Container`, \n",
    "* `Iterable`, \n",
    "* `Awaitable`, \n",
    "* `ContextManager`."
   ]
  },
  {
   "cell_type": "markdown",
   "id": "b3cf1a4f-b27e-45b2-9818-3d9928a13fab",
   "metadata": {},
   "source": [
    "You can also define your own protocols. \n",
    "\n",
    "This is done by inheriting from `Protocol` and defining the function signatures (with empty function bodies) that the protocol expects. The following example shows how `len()` and `Sized` could have been implemented:"
   ]
  },
  {
   "cell_type": "code",
   "execution_count": 57,
   "id": "e9b95208-f02f-4463-bd4c-7314d46aa0cc",
   "metadata": {},
   "outputs": [],
   "source": [
    "from typing_extensions import Protocol\n",
    "\n",
    "class Sized(Protocol):\n",
    "    def __len__(self) -> int: ...\n",
    "\n",
    "def len(obj: Sized) -> int:\n",
    "    return obj.__len__()"
   ]
  },
  {
   "cell_type": "markdown",
   "id": "48bb0f81-c02e-422a-a8b8-bb7f081a675d",
   "metadata": {},
   "source": [
    "⚠️ At the time of writing the support for self-defined protocols is still experimental and only available through the `typing_extensions` module. This module must be explicitly installed from PyPI by doing `pip install typing-extensions`.\n",
    "\n",
    "* Further reading: https://github.com/python/typing/tree/master/typing_extensions.\n",
    "* See also Python typing docs: https://typing.readthedocs.io/en/latest/.\n",
    "\n",
    "😊 From Python 3.8, available from `typing` directly! \n",
    "* https://docs.python.org/3.8/library/typing.html#typing.Protocol"
   ]
  },
  {
   "cell_type": "markdown",
   "id": "daed83b4-62db-4d65-84c7-5674657a4bb3",
   "metadata": {},
   "source": [
    "### The Optional Type"
   ]
  },
  {
   "cell_type": "code",
   "execution_count": 58,
   "id": "a5496b6d-dec1-433b-95a1-4734b7a4423d",
   "metadata": {},
   "outputs": [],
   "source": [
    "from typing import Sequence, Optional\n",
    "\n",
    "def player_order(\n",
    "    names: Sequence[str], start: Optional[str] = None\n",
    ") -> Sequence[str]:\n",
    "    ..."
   ]
  },
  {
   "cell_type": "markdown",
   "id": "dc534183-d444-4742-bf3d-a39d232aca41",
   "metadata": {},
   "source": [
    "See also `player_order.py`:"
   ]
  },
  {
   "cell_type": "code",
   "execution_count": 59,
   "id": "5beb3c66-44fe-4430-8663-d0a7041ef07d",
   "metadata": {},
   "outputs": [
    {
     "name": "stdout",
     "output_type": "stream",
     "text": [
      "player_order.py:10: \u001b[1m\u001b[31merror:\u001b[m Unsupported left operand type for + (\u001b[m\u001b[1m\"Sequence[str]\"\u001b[m)\u001b[m\n",
      "\u001b[1m\u001b[31mFound 1 error in 1 file (checked 1 source file)\u001b[m\n"
     ]
    }
   ],
   "source": [
    "!mypy player_order.py"
   ]
  },
  {
   "cell_type": "markdown",
   "id": "584d8d89-0ffe-4f0e-9f60-1f9c88558e18",
   "metadata": {},
   "source": [
    "**Note:** Not getting the same error as in the tutorial's example:\n",
    "```\n",
    "player_order.py:8: error: Argument 1 to \"index\" of \"list\" has incompatible\n",
    "                          type \"Optional[str]\"; expected \"str\"\n",
    "```"
   ]
  },
  {
   "cell_type": "markdown",
   "id": "5259100e-39e3-48ca-a091-fd4749848a3f",
   "metadata": {},
   "source": [
    "**Note:** The use of None for optional arguments is so common that Mypy handles it automatically. Mypy assumes that a default argument of None indicates an optional argument even if the type hint does not explicitly say so. You could have used the following:\n",
    "\n",
    "```python\n",
    "def player_order(names: Sequence[str], start: str = None) -> Sequence[str]:\n",
    "    ...\n",
    "```\n",
    "If you don’t want Mypy to make this assumption you can turn it off with the `--no-implicit-optional` command line option."
   ]
  },
  {
   "cell_type": "markdown",
   "id": "f6c643bd-9cd7-426b-a355-1127674e6e44",
   "metadata": {},
   "source": [
    "### Example: The Object(ive) of the Game\n",
    "\n",
    "See: `game_oo.py`."
   ]
  },
  {
   "cell_type": "markdown",
   "id": "28f4b4b0-aeef-481a-931e-c5b329b14e5b",
   "metadata": {},
   "source": [
    "### Type Hints for Methods"
   ]
  },
  {
   "cell_type": "code",
   "execution_count": 60,
   "id": "5bb712ab-4c4b-45a4-b9f1-508039bb3b5f",
   "metadata": {},
   "outputs": [],
   "source": [
    "class Card:\n",
    "    SUITS = \"♠ ♡ ♢ ♣\".split()\n",
    "    RANKS = \"2 3 4 5 6 7 8 9 10 J Q K A\".split()\n",
    "\n",
    "    def __init__(self, suit: str, rank: str) -> None:\n",
    "        self.suit = suit\n",
    "        self.rank = rank\n",
    "\n",
    "    def __repr__(self) -> str:\n",
    "        return f\"{self.suit}{self.rank}\""
   ]
  },
  {
   "cell_type": "markdown",
   "id": "a4aa5369-94df-4bf1-ba2e-7608af00cf0a",
   "metadata": {},
   "source": [
    "### Classes as Types\n",
    "\n",
    "There is a correspondence between classes and types. \n",
    "\n",
    "For example, **all instances of the `Card` class together form the `Card` type**. "
   ]
  },
  {
   "cell_type": "code",
   "execution_count": 61,
   "id": "035d055d-e6ac-4289-ac72-3a17bd49d317",
   "metadata": {},
   "outputs": [],
   "source": [
    "class Deck:\n",
    "    def __init__(self, cards: List[Card]) -> None:\n",
    "        self.cards = cards"
   ]
  },
  {
   "cell_type": "markdown",
   "id": "8ee4c0ac-448f-49ca-9a2b-40e61fce0595",
   "metadata": {},
   "source": [
    "⚠️ **Notable special situation**\n",
    "\n",
    "Mypy is able to connect your use of `Card` in the annotation with the definition of the `Card` class.\n",
    "\n",
    "**This doesn’t work as cleanly though when you need to refer to the class currently being defined**. For example, the `Deck.create()` class method returns an object with type `Deck`. However, you can’t simply add `-> Deck` as the `Deck` class is not yet fully defined.\n",
    "\n",
    "Instead, you are allowed to **use string literals** in annotations. These strings will only be evaluated by the type checker later, and can therefore contain self and forward references. The `.create()` method should use such string literals for its types:"
   ]
  },
  {
   "cell_type": "code",
   "execution_count": 62,
   "id": "ab641c41-e0cf-4637-9a11-0d794e5b67f0",
   "metadata": {},
   "outputs": [],
   "source": [
    "class Deck:\n",
    "    @classmethod\n",
    "    def create(cls, shuffle: bool = False) -> \"Deck\":\n",
    "        \"\"\"Create a new deck of 52 cards\"\"\"\n",
    "        cards = [Card(s, r) for r in Card.RANKS for s in Card.SUITS]\n",
    "        if shuffle:\n",
    "            random.shuffle(cards)\n",
    "        return cls(cards)"
   ]
  },
  {
   "cell_type": "markdown",
   "id": "cbab66bd-8e2e-4497-9930-f46c41df8d4f",
   "metadata": {},
   "source": [
    "Usually annotations are not used at runtime. This has given wings to the idea of postponing the evaluation of annotations. Instead of evaluating annotations as Python expressions and storing their value, the proposal is to store the string representation of the annotation and only evaluate it when needed.\n",
    "\n",
    "Such functionality is planned to become standard in the still mythical Python 4.0. However, in Python 3.7 and later, forward references are available through a `__future__` import:\n",
    "\n",
    "**Note:** This is standard from Python 3.10+."
   ]
  },
  {
   "cell_type": "code",
   "execution_count": 63,
   "id": "e4bb2b00-4c80-4ffd-b103-27d46f82d94c",
   "metadata": {},
   "outputs": [],
   "source": [
    "from __future__ import annotations\n",
    "\n",
    "class Deck:\n",
    "    @classmethod\n",
    "    def create(cls, shuffle: bool = False) -> Deck:\n",
    "        ..."
   ]
  },
  {
   "cell_type": "markdown",
   "id": "9f9850af-4eb5-457d-8e82-d9ee315bffcd",
   "metadata": {},
   "source": [
    "### Returning `self` or `cls`"
   ]
  },
  {
   "cell_type": "markdown",
   "id": "5a857023-7fc4-4254-833e-5f159a692fd1",
   "metadata": {},
   "source": [
    "There is one case where you might want to annotate `self` or `cls`, though. \n",
    "\n",
    "Consider what happens if you have a **superclass that other classes inherit from, and which has methods that return `self` or `cls`**:"
   ]
  },
  {
   "cell_type": "code",
   "execution_count": 64,
   "id": "4210ffe9-0f5b-4f40-a99f-ba04ea744d41",
   "metadata": {},
   "outputs": [
    {
     "name": "stdout",
     "output_type": "stream",
     "text": [
      "Fido says woof!\n",
      "Pluto says woof!\n"
     ]
    }
   ],
   "source": [
    "# dogs.py\n",
    "\n",
    "from datetime import date\n",
    "\n",
    "\n",
    "class Animal:\n",
    "    def __init__(self, name: str, birthday: date) -> None:\n",
    "        self.name = name\n",
    "        self.birthday = birthday\n",
    "\n",
    "    @classmethod\n",
    "    def newborn(cls, name: str) -> \"Animal\":\n",
    "        return cls(name, date.today())\n",
    "\n",
    "    def twin(self, name: str) -> \"Animal\":\n",
    "        cls = self.__class__\n",
    "        return cls(name, self.birthday)\n",
    "\n",
    "\n",
    "class Dog(Animal):\n",
    "    def bark(self) -> None:\n",
    "        print(f\"{self.name} says woof!\")\n",
    "\n",
    "\n",
    "fido = Dog.newborn(\"Fido\")\n",
    "pluto = fido.twin(\"Pluto\")\n",
    "fido.bark()\n",
    "pluto.bark()"
   ]
  },
  {
   "cell_type": "markdown",
   "id": "f2348862-b7b4-478e-b1a0-71a6f3638153",
   "metadata": {},
   "source": [
    "While the code runs without problems, Mypy will flag a problem:"
   ]
  },
  {
   "cell_type": "code",
   "execution_count": 65,
   "id": "fa9cf275-293d-401f-abe8-cad443a21fa4",
   "metadata": {},
   "outputs": [
    {
     "name": "stdout",
     "output_type": "stream",
     "text": [
      "dogs.py:27: \u001b[1m\u001b[31merror:\u001b[m \u001b[m\u001b[1m\"Animal\"\u001b[m has no attribute \u001b[m\u001b[1m\"bark\"\u001b[m\u001b[m\n",
      "dogs.py:28: \u001b[1m\u001b[31merror:\u001b[m \u001b[m\u001b[1m\"Animal\"\u001b[m has no attribute \u001b[m\u001b[1m\"bark\"\u001b[m\u001b[m\n",
      "\u001b[1m\u001b[31mFound 2 errors in 1 file (checked 1 source file)\u001b[m\n"
     ]
    }
   ],
   "source": [
    "!mypy dogs.py"
   ]
  },
  {
   "cell_type": "markdown",
   "id": "e62a8256-3b6d-48f3-b2bd-6cc5b6f374b3",
   "metadata": {},
   "source": [
    "The issue is that even though the inherited `Dog.newborn()` and `Dog.twin()` methods will return a `Dog` the annotation says that they return an `Animal`.\n",
    "\n",
    "In cases like this you want to be more careful to make sure the annotation is correct. The return type should match the type of `self` or the instance type of `cls`. This can be done **using type variables** that keep track of what is actually passed to `self` and `cls`:"
   ]
  },
  {
   "cell_type": "code",
   "execution_count": 66,
   "id": "e81e7a63-0d18-48ec-8ca6-d84244dae1dd",
   "metadata": {},
   "outputs": [
    {
     "name": "stdout",
     "output_type": "stream",
     "text": [
      "Fido says woof!\n",
      "Pluto says woof!\n"
     ]
    }
   ],
   "source": [
    "# dogs_fixed.py\n",
    "\n",
    "from datetime import date\n",
    "from typing import Type, TypeVar\n",
    "\n",
    "TAnimal = TypeVar(\"TAnimal\", bound=\"Animal\")  # Note `bound`.\n",
    "\n",
    "class Animal:\n",
    "    def __init__(self, name: str, birthday: date) -> None:\n",
    "        self.name = name\n",
    "        self.birthday = birthday\n",
    "\n",
    "    @classmethod\n",
    "    def newborn(cls: Type[TAnimal], name: str) -> TAnimal:  # Note Type[...] - typing's equivalent of type(...).\n",
    "        return cls(name, date.today())\n",
    "\n",
    "    def twin(self: TAnimal, name: str) -> TAnimal:\n",
    "        cls = self.__class__\n",
    "        return cls(name, self.birthday)\n",
    "\n",
    "class Dog(Animal):\n",
    "    def bark(self) -> None:\n",
    "        print(f\"{self.name} says woof!\")\n",
    "\n",
    "fido = Dog.newborn(\"Fido\")\n",
    "pluto = fido.twin(\"Pluto\")\n",
    "fido.bark()\n",
    "pluto.bark()"
   ]
  },
  {
   "cell_type": "code",
   "execution_count": 67,
   "id": "f0f698bc-e0d8-4c58-adc0-35459755c401",
   "metadata": {},
   "outputs": [
    {
     "name": "stdout",
     "output_type": "stream",
     "text": [
      "\u001b[1m\u001b[32mSuccess: no issues found in 1 source file\u001b[m\n"
     ]
    }
   ],
   "source": [
    "!mypy dogs_fixed.py"
   ]
  },
  {
   "cell_type": "markdown",
   "id": "29993049-57bd-4b94-ba6a-e5b99215ff2d",
   "metadata": {},
   "source": [
    "#### ‼️ There are a few things to note in this example:\n",
    "\n",
    "* The type variable `TAnimal` is used to denote that return values might be instances of subclasses of `Animal`.\n",
    "* ⚠️ We specify that `Animal` is an upper bound for `TAnimal`. Specifying bound means that `TAnimal` will only be `Animal` or one of its subclasses. This is needed to properly restrict the types that are allowed.\n",
    "* ⚠️ The `typing.Type[]` construct is the typing equivalent of `type()`. You need it to note that the class method expects a class and returns an instance of that class."
   ]
  },
  {
   "cell_type": "markdown",
   "id": "6b227d57-7f67-4fcd-8b7b-b05f521b3607",
   "metadata": {},
   "source": [
    "### Annotating `*args` and `**kwargs`\n",
    "\n",
    "In the object oriented version of the game, we added the option to name the players on the command line. This is done by listing player names after the name of the program.\n",
    "\n",
    "This is implemented by unpacking and passing in `sys.argv` to `Game()` when it’s instantiated. The `.__init__()` method uses `*names` to pack the given names into a tuple.\n",
    "\n",
    "⚠️ Regarding type annotations: even though `names` will be a tuple of strings, **you should only annotate the type of each `name`**. In other words, **you should use `str` and not `Tuple[str]`**:"
   ]
  },
  {
   "cell_type": "code",
   "execution_count": 68,
   "id": "738a6d9b-6f4f-4e52-9630-4655225413dd",
   "metadata": {},
   "outputs": [],
   "source": [
    "class Game:\n",
    "    def __init__(self, *names: str) -> None:\n",
    "        \"\"\"Set up the deck and deal cards to 4 players\"\"\"\n",
    "        deck = Deck.create(shuffle=True)\n",
    "        self.names = (list(names) + \"P1 P2 P3 P4\".split())[:4]\n",
    "        self.hands = {\n",
    "            n: Player(n, h) for n, h in zip(self.names, deck.deal(4))\n",
    "        }"
   ]
  },
  {
   "cell_type": "markdown",
   "id": "2afe6d1e-fa5f-48ce-9e50-4817ff8eb1d6",
   "metadata": {},
   "source": [
    "⚠️ Similarly, if you have a function or method accepting `**kwargs`, then you should only annotate the type of each possible keyword argument."
   ]
  },
  {
   "cell_type": "markdown",
   "id": "35efb345-275b-43d8-bc54-34350007af6e",
   "metadata": {},
   "source": [
    "### Callables\n",
    "\n",
    "Functions are [first-class objects](https://dbader.org/blog/python-first-class-functions) in Python. This means that you can use functions as arguments to other functions. That also means that you need to be able to add type hints representing functions."
   ]
  },
  {
   "cell_type": "code",
   "execution_count": 69,
   "id": "553bdbe7-1978-465f-bad6-7249cfc860e3",
   "metadata": {},
   "outputs": [
    {
     "name": "stdout",
     "output_type": "stream",
     "text": [
      "Hello Jekyll\n",
      "Hello Jekyll\n"
     ]
    }
   ],
   "source": [
    "# do_twice.py\n",
    "\n",
    "from typing import Callable\n",
    "\n",
    "\n",
    "def do_twice(func: Callable[[str], str], argument: str) -> None:\n",
    "    print(func(argument))\n",
    "    print(func(argument))\n",
    "\n",
    "    \n",
    "def create_greeting(name: str) -> str:\n",
    "    return f\"Hello {name}\"\n",
    "\n",
    "\n",
    "do_twice(create_greeting, \"Jekyll\")"
   ]
  },
  {
   "cell_type": "markdown",
   "id": "a4b1d91a-7988-43ea-a9a9-9ad29d7ab44d",
   "metadata": {},
   "source": [
    "#### ⚠️ If you need more flexibility, check out [callback protocols](https://mypy.readthedocs.io/en/latest/protocols.html#callback-protocols)."
   ]
  },
  {
   "cell_type": "markdown",
   "id": "5864b81a-a946-4153-802f-a243b30c3008",
   "metadata": {},
   "source": [
    "### Example: Hearts\n",
    "\n",
    "See `hearts.py`.\n",
    "\n",
    "Here are a few points to note in the code:\n",
    "* For type relationships that are hard to express using `Union` or type variables, you can use the `@overload` decorator. See `Deck.__getitem__()` for an example and **[the documentation](https://docs.python.org/3/library/typing.html#typing.overload)** for more information.\n",
    "* Subclasses correspond to subtypes, so that a `HumanPlayer` can be used wherever a `Player` is expected.\n",
    "* When a subclass reimplements a method from a superclass, the type annotations must match. See `HumanPlayer.play_card()` for an example.\n"
   ]
  },
  {
   "cell_type": "markdown",
   "id": "992fe302-bb74-4c1b-9d3a-fe11b3b075fb",
   "metadata": {},
   "source": [
    "When starting the game, you control the first player. Enter numbers to choose which cards to play. The following is an example of game play:\n",
    "\n",
    "```bash\n",
    "python hearts.py GeirArne Aldren Joanna Brad\n",
    "```\n",
    "\n",
    "```\n",
    "Starting new round:\n",
    "Brad -> ♣2\n",
    "  0: ♣5  1: ♣Q  2: ♣K  (Rest: ♢6 ♡10 ♡6 ♠J ♡3 ♡9 ♢10 ♠7 ♠K ♠4)\n",
    "  GeirArne, choose card: 2\n",
    "GeirArne => ♣K\n",
    "Aldren -> ♣10\n",
    "Joanna -> ♣9\n",
    "GeirArne wins the trick\n",
    "\n",
    "  0: ♠4  1: ♣5  2: ♢6  3: ♠7  4: ♢10  5: ♠J  6: ♣Q  7: ♠K  (Rest: ♡10 ♡6 ♡3 ♡9)\n",
    "  GeirArne, choose card: 0\n",
    "GeirArne => ♠4\n",
    "Aldren -> ♠5\n",
    "Joanna -> ♠3\n",
    "Brad -> ♠2\n",
    "Aldren wins the trick\n",
    "\n",
    "...\n",
    "\n",
    "Joanna -> ♡J\n",
    "Brad -> ♡2\n",
    "  0: ♡6  1: ♡9  (Rest: )\n",
    "  GeirArne, choose card: 1\n",
    "GeirArne => ♡9\n",
    "Aldren -> ♡A\n",
    "Aldren wins the trick\n",
    "\n",
    "Aldren -> ♣A\n",
    "Joanna -> ♡Q\n",
    "Brad -> ♣J\n",
    "  0: ♡6  (Rest: )\n",
    "  GeirArne, choose card: 0\n",
    "GeirArne => ♡6\n",
    "Aldren wins the trick\n",
    "\n",
    "Scores:\n",
    "Brad             14  14\n",
    "Aldren           10  10\n",
    "GeirArne          1   1\n",
    "Joanna            1   1\n",
    "```"
   ]
  },
  {
   "cell_type": "markdown",
   "id": "2f12868d-70b1-4ec5-bb4f-3be9ad6c1c2e",
   "metadata": {},
   "source": [
    "## Static Type Checking\n",
    "### Running MyPy"
   ]
  },
  {
   "cell_type": "code",
   "execution_count": 70,
   "id": "b562ff3d-3eee-4052-9866-ca434ce045bd",
   "metadata": {
    "scrolled": true,
    "tags": []
   },
   "outputs": [
    {
     "name": "stdout",
     "output_type": "stream",
     "text": [
      "usage: mypy [-h] [-v] [-V] [more options; see below]\n",
      "            [-m MODULE] [-p PACKAGE] [-c PROGRAM_TEXT] [files ...]\n",
      "\n",
      "Mypy is a program that will type check your Python code.\n",
      "\n",
      "Pass in any files or folders you want to type check. Mypy will\n",
      "recursively traverse any provided folders to find .py files:\n",
      "\n",
      "    $ mypy my_program.py my_src_folder\n",
      "\n",
      "For more information on getting started, see:\n",
      "\n",
      "- https://mypy.readthedocs.io/en/stable/getting_started.html\n",
      "\n",
      "For more details on both running mypy and using the flags below, see:\n",
      "\n",
      "- https://mypy.readthedocs.io/en/stable/running_mypy.html\n",
      "- https://mypy.readthedocs.io/en/stable/command_line.html\n",
      "\n",
      "You can also use a config file to configure mypy instead of using\n",
      "command line flags. For more details, see:\n",
      "\n",
      "- https://mypy.readthedocs.io/en/stable/config_file.html\n",
      "\n",
      "Optional arguments:\n",
      "  -h, --help                Show this help message and exit\n",
      "  -v, --verbose             More verbose messages\n",
      "  -V, --version             Show program's version number and exit\n",
      "\n",
      "Config file:\n",
      "  Use a config file instead of command line arguments. This is useful if you\n",
      "  are using many flags or want to set different options per each module.\n",
      "\n",
      "  --config-file CONFIG_FILE\n",
      "                            Configuration file, must have a [mypy] section\n",
      "                            (defaults to mypy.ini, .mypy.ini, pyproject.toml,\n",
      "                            setup.cfg, ~/.config/mypy/config, ~/.mypy.ini)\n",
      "  --warn-unused-configs     Warn about unused '[mypy-<pattern>]' or\n",
      "                            '[[tool.mypy.overrides]]' config sections\n",
      "                            (inverse: --no-warn-unused-configs)\n",
      "\n",
      "Import discovery:\n",
      "  Configure how imports are discovered and followed.\n",
      "\n",
      "  --namespace-packages      Support namespace packages (PEP 420, __init__.py-\n",
      "                            less) (inverse: --no-namespace-packages)\n",
      "  --ignore-missing-imports  Silently ignore imports of missing modules\n",
      "  --follow-imports {normal,silent,skip,error}\n",
      "                            How to treat imports (default normal)\n",
      "  --python-executable EXECUTABLE\n",
      "                            Python executable used for finding PEP 561\n",
      "                            compliant installed packages and stubs\n",
      "  --no-site-packages        Do not search for installed PEP 561 compliant\n",
      "                            packages\n",
      "  --no-silence-site-packages\n",
      "                            Do not silence errors in PEP 561 compliant\n",
      "                            installed packages\n",
      "\n",
      "Platform configuration:\n",
      "  Type check code assuming it will be run under certain runtime conditions.\n",
      "  By default, mypy assumes your code will be run using the same operating\n",
      "  system and Python version you are using to run mypy itself.\n",
      "\n",
      "  --python-version x.y      Type check code assuming it will be running on\n",
      "                            Python x.y\n",
      "  -2, --py2                 Use Python 2 mode (same as --python-version 2.7)\n",
      "  --platform PLATFORM       Type check special-cased code for the given OS\n",
      "                            platform (defaults to sys.platform)\n",
      "  --always-true NAME        Additional variable to be considered True (may be\n",
      "                            repeated)\n",
      "  --always-false NAME       Additional variable to be considered False (may be\n",
      "                            repeated)\n",
      "\n",
      "Disallow dynamic typing:\n",
      "  Disallow the use of the dynamic 'Any' type under certain conditions.\n",
      "\n",
      "  --disallow-any-unimported\n",
      "                            Disallow Any types resulting from unfollowed\n",
      "                            imports\n",
      "  --disallow-any-expr       Disallow all expressions that have type Any\n",
      "  --disallow-any-decorated  Disallow functions that have Any in their\n",
      "                            signature after decorator transformation\n",
      "  --disallow-any-explicit   Disallow explicit Any in type positions\n",
      "  --disallow-any-generics   Disallow usage of generic types that do not\n",
      "                            specify explicit type parameters (inverse:\n",
      "                            --allow-any-generics)\n",
      "  --disallow-subclassing-any\n",
      "                            Disallow subclassing values of type 'Any' when\n",
      "                            defining classes (inverse: --allow-subclassing-\n",
      "                            any)\n",
      "\n",
      "Untyped definitions and calls:\n",
      "  Configure how untyped definitions and calls are handled. Note: by default,\n",
      "  mypy ignores any untyped function definitions and assumes any calls to\n",
      "  such functions have a return type of 'Any'.\n",
      "\n",
      "  --disallow-untyped-calls  Disallow calling functions without type\n",
      "                            annotations from functions with type annotations\n",
      "                            (inverse: --allow-untyped-calls)\n",
      "  --disallow-untyped-defs   Disallow defining functions without type\n",
      "                            annotations or with incomplete type annotations\n",
      "                            (inverse: --allow-untyped-defs)\n",
      "  --disallow-incomplete-defs\n",
      "                            Disallow defining functions with incomplete type\n",
      "                            annotations (inverse: --allow-incomplete-defs)\n",
      "  --check-untyped-defs      Type check the interior of functions without type\n",
      "                            annotations (inverse: --no-check-untyped-defs)\n",
      "  --disallow-untyped-decorators\n",
      "                            Disallow decorating typed functions with untyped\n",
      "                            decorators (inverse: --allow-untyped-decorators)\n",
      "\n",
      "None and Optional handling:\n",
      "  Adjust how values of type 'None' are handled. For more context on how mypy\n",
      "  handles values of type 'None', see:\n",
      "  https://mypy.readthedocs.io/en/stable/kinds_of_types.html#no-strict-\n",
      "  optional\n",
      "\n",
      "  --no-implicit-optional    Don't assume arguments with default values of None\n",
      "                            are Optional (inverse: --implicit-optional)\n",
      "  --no-strict-optional      Disable strict Optional checks (inverse: --strict-\n",
      "                            optional)\n",
      "\n",
      "Configuring warnings:\n",
      "  Detect code that is sound but redundant or problematic.\n",
      "\n",
      "  --warn-redundant-casts    Warn about casting an expression to its inferred\n",
      "                            type (inverse: --no-warn-redundant-casts)\n",
      "  --warn-unused-ignores     Warn about unneeded '# type: ignore' comments\n",
      "                            (inverse: --no-warn-unused-ignores)\n",
      "  --no-warn-no-return       Do not warn about functions that end without\n",
      "                            returning (inverse: --warn-no-return)\n",
      "  --warn-return-any         Warn about returning values of type Any from non-\n",
      "                            Any typed functions (inverse: --no-warn-return-\n",
      "                            any)\n",
      "  --warn-unreachable        Warn about statements or expressions inferred to\n",
      "                            be unreachable (inverse: --no-warn-unreachable)\n",
      "\n",
      "Miscellaneous strictness flags:\n",
      "  --allow-untyped-globals   Suppress toplevel errors caused by missing\n",
      "                            annotations (inverse: --disallow-untyped-globals)\n",
      "  --allow-redefinition      Allow unconditional variable redefinition with a\n",
      "                            new type (inverse: --disallow-redefinition)\n",
      "  --no-implicit-reexport    Treat imports as private unless aliased (inverse:\n",
      "                            --implicit-reexport)\n",
      "  --strict-equality         Prohibit equality, identity, and container checks\n",
      "                            for non-overlapping types (inverse: --no-strict-\n",
      "                            equality)\n",
      "  --strict                  Strict mode; enables the following flags: --warn-\n",
      "                            unused-configs, --disallow-any-generics,\n",
      "                            --disallow-subclassing-any, --disallow-untyped-\n",
      "                            calls, --disallow-untyped-defs, --disallow-\n",
      "                            incomplete-defs, --check-untyped-defs, --disallow-\n",
      "                            untyped-decorators, --no-implicit-optional,\n",
      "                            --warn-redundant-casts, --warn-unused-ignores,\n",
      "                            --warn-return-any, --no-implicit-reexport,\n",
      "                            --strict-equality\n",
      "  --disable-error-code NAME\n",
      "                            Disable a specific error code\n",
      "  --enable-error-code NAME  Enable a specific error code\n",
      "\n",
      "Configuring error messages:\n",
      "  Adjust the amount of detail shown in error messages.\n",
      "\n",
      "  --show-error-context      Precede errors with \"note:\" messages explaining\n",
      "                            context (inverse: --hide-error-context)\n",
      "  --show-column-numbers     Show column numbers in error messages (inverse:\n",
      "                            --hide-column-numbers)\n",
      "  --show-error-codes        Show error codes in error messages (inverse:\n",
      "                            --hide-error-codes)\n",
      "  --pretty                  Use visually nicer output in error messages: Use\n",
      "                            soft word wrap, show source code snippets, and\n",
      "                            show error location markers (inverse: --no-pretty)\n",
      "  --no-color-output         Do not colorize error messages (inverse: --color-\n",
      "                            output)\n",
      "  --no-error-summary        Do not show error stats summary (inverse: --error-\n",
      "                            summary)\n",
      "  --show-absolute-path      Show absolute paths to files (inverse: --hide-\n",
      "                            absolute-path)\n",
      "\n",
      "Incremental mode:\n",
      "  Adjust how mypy incrementally type checks and caches modules. Mypy caches\n",
      "  type information about modules into a cache to let you speed up future\n",
      "  invocations of mypy. Also see mypy's daemon mode:\n",
      "  mypy.readthedocs.io/en/stable/mypy_daemon.html#mypy-daemon\n",
      "\n",
      "  --no-incremental          Disable module cache (inverse: --incremental)\n",
      "  --cache-dir DIR           Store module cache info in the given folder in\n",
      "                            incremental mode (defaults to '.mypy_cache')\n",
      "  --sqlite-cache            Use a sqlite database to store the cache (inverse:\n",
      "                            --no-sqlite-cache)\n",
      "  --cache-fine-grained      Include fine-grained dependency information in the\n",
      "                            cache for the mypy daemon\n",
      "  --skip-version-check      Allow using cache written by older mypy version\n",
      "  --skip-cache-mtime-checks\n",
      "                            Skip cache internal consistency checks based on\n",
      "                            mtime\n",
      "\n",
      "Advanced options:\n",
      "  Debug and customize mypy internals.\n",
      "\n",
      "  --pdb                     Invoke pdb on fatal error\n",
      "  --show-traceback, --tb    Show traceback on fatal error\n",
      "  --raise-exceptions        Raise exception on fatal error\n",
      "  --custom-typing-module MODULE\n",
      "                            Use a custom typing module\n",
      "  --custom-typeshed-dir DIR\n",
      "                            Use the custom typeshed in DIR\n",
      "  --warn-incomplete-stub    Warn if missing type annotation in typeshed, only\n",
      "                            relevant with --disallow-untyped-defs or\n",
      "                            --disallow-incomplete-defs enabled (inverse: --no-\n",
      "                            warn-incomplete-stub)\n",
      "  --shadow-file SOURCE_FILE SHADOW_FILE\n",
      "                            When encountering SOURCE_FILE, read and type check\n",
      "                            the contents of SHADOW_FILE instead.\n",
      "\n",
      "Report generation:\n",
      "  Generate a report in the specified format.\n",
      "\n",
      "  --any-exprs-report DIR\n",
      "  --cobertura-xml-report DIR\n",
      "  --html-report DIR\n",
      "  --linecount-report DIR\n",
      "  --linecoverage-report DIR\n",
      "  --lineprecision-report DIR\n",
      "  --txt-report DIR\n",
      "  --xml-report DIR\n",
      "  --xslt-html-report DIR\n",
      "  --xslt-txt-report DIR\n",
      "\n",
      "Miscellaneous:\n",
      "  --junit-xml JUNIT_XML     Write junit.xml to the given file\n",
      "  --find-occurrences CLASS.MEMBER\n",
      "                            Print out all usages of a class member\n",
      "                            (experimental)\n",
      "  --scripts-are-modules     Script x becomes module x instead of __main__\n",
      "  --install-types           Install detected missing library stub packages\n",
      "                            using pip (inverse: --no-install-types)\n",
      "  --non-interactive         Install stubs without asking for confirmation and\n",
      "                            hide errors, with --install-types (inverse:\n",
      "                            --interactive)\n",
      "\n",
      "Running code:\n",
      "  Specify the code you want to type check. For more details, see\n",
      "  mypy.readthedocs.io/en/stable/running_mypy.html#running-mypy\n",
      "\n",
      "  --explicit-package-bases  Use current directory and MYPYPATH to determine\n",
      "                            module names of files passed (inverse: --no-\n",
      "                            explicit-package-bases)\n",
      "  --exclude PATTERN         Regular expression to match file names, directory\n",
      "                            names or paths which mypy should ignore while\n",
      "                            recursively discovering files to check, e.g.\n",
      "                            --exclude '/setup\\.py$'\n",
      "  -m MODULE, --module MODULE\n",
      "                            Type-check module; can repeat for more modules\n",
      "  -p PACKAGE, --package PACKAGE\n",
      "                            Type-check package recursively; can be repeated\n",
      "  -c PROGRAM_TEXT, --command PROGRAM_TEXT\n",
      "                            Type-check program passed in as string\n",
      "  files                     Type-check given files or directories\n",
      "\n",
      "Environment variables:\n",
      "  Define MYPYPATH for additional module search path entries.\n",
      "  Define MYPY_CACHE_DIR to override configuration cache_dir path.\n"
     ]
    }
   ],
   "source": [
    "!mypy --help"
   ]
  },
  {
   "cell_type": "markdown",
   "id": "9ad272c9-99e5-48c3-a124-dad10b26ae46",
   "metadata": {},
   "source": [
    "Additionally, the [Mypy command line documentation online](https://mypy.readthedocs.io/en/stable/command_line.html#command-line) has a lot of information."
   ]
  },
  {
   "cell_type": "markdown",
   "id": "129ec801-ce64-49e4-b7b4-2d2e9fbec61a",
   "metadata": {},
   "source": [
    "#### Let’s look at some of the most common options. \n",
    "\n",
    "First of all, if you are using third-party packages without type hints, you may want to silence Mypy’s warnings about these. This can be done with the `--ignore-missing-imports` option."
   ]
  },
  {
   "cell_type": "code",
   "execution_count": 71,
   "id": "036f930f-9659-4c7d-9356-5e9d0c9abf81",
   "metadata": {},
   "outputs": [
    {
     "name": "stdout",
     "output_type": "stream",
     "text": [
      "[ 1.     0.707  0.    -0.707 -1.    -0.707 -0.     0.707  1.   ]\n"
     ]
    }
   ],
   "source": [
    "!python cosine.py"
   ]
  },
  {
   "cell_type": "code",
   "execution_count": 72,
   "id": "79867d5b-c390-4274-a14c-bae08d169e43",
   "metadata": {},
   "outputs": [
    {
     "name": "stdout",
     "output_type": "stream",
     "text": [
      "\u001b[1m\u001b[32mSuccess: no issues found in 1 source file\u001b[m\n"
     ]
    }
   ],
   "source": [
    "!mypy cosine.py "
   ]
  },
  {
   "cell_type": "markdown",
   "id": "d3eabe05-33e3-4f9e-86c3-ef9ef5fd1e7b",
   "metadata": {},
   "source": [
    "**Note:** It appears this error doesn't happen with newer NumPy (presumably it has stub files / typing now).\n",
    "\n",
    "Tutorial's case:\n",
    "```bash\n",
    "$ mypy cosine.py \n",
    "cosine.py:3: error: No library stub file for module 'numpy'\n",
    "cosine.py:3: note: (Stub files are from https://github.com/python/typeshed)\n",
    "```"
   ]
  },
  {
   "cell_type": "markdown",
   "id": "2e7384ea-61a2-4138-9a0e-50795efa911a",
   "metadata": {},
   "source": [
    "These warnings may not immediately make much sense to you, but you’ll learn about [stubs](https://realpython.com/python-type-checking/#adding-stubs) and [typeshed](https://realpython.com/python-type-checking/#typeshed) soon. You can essentially read the warnings as Mypy saying that the Numpy package does not contain type hints.\n",
    "\n",
    "If you use the `--ignore-missing-import` command line option, Mypy will not try to follow or warn about any missing imports. **This might be a bit heavy-handed though**, as it also ignores actual mistakes, like misspelling the name of a package.\n",
    "\n",
    "Two less intrusive ways of handling third-party packages are using **type comments** or **configuration files**.\n",
    "\n",
    "In a simple example as the one above, you can silence the numpy warning by adding a type comment to the line containing the import:"
   ]
  },
  {
   "cell_type": "code",
   "execution_count": 73,
   "id": "c0302b16-34ea-443d-b9b3-063ee223c3f2",
   "metadata": {},
   "outputs": [],
   "source": [
    "import numpy as np  # type: ignore"
   ]
  },
  {
   "cell_type": "markdown",
   "id": "1e4deedd-35ba-4be3-b6f7-464f855ab5d7",
   "metadata": {},
   "source": [
    "If you have several files, it might be easier to keep track of which imports to ignore in a configuration file. Mypy reads a file called `mypy.ini` in the current directory if it is present. This configuration file must contain a section called `[mypy]` and may contain module specific sections of the form `[mypy-module]`.\n",
    "\n",
    "The following configuration file will ignore that Numpy is missing type hints:\n",
    "\n",
    "```ini\n",
    "# mypy.ini\n",
    "\n",
    "[mypy]\n",
    "\n",
    "[mypy-numpy]\n",
    "ignore_missing_imports = True\n",
    "```\n",
    "\n",
    "There are many options that can be specified in the configuration file. It is also possible to specify a global configuration file. See the [documentation](https://mypy.readthedocs.io/en/stable/config_file.html) for more information."
   ]
  },
  {
   "cell_type": "markdown",
   "id": "5cf27e08-a189-44c2-b5e8-79362a500899",
   "metadata": {},
   "source": [
    "### Adding Stubs\n",
    "\n",
    "The following example uses the Parse package to do simple text parsing. To follow along you should first install Parse:\n",
    "\n",
    "```bash\n",
    "$ pip install parse\n",
    "```"
   ]
  },
  {
   "cell_type": "markdown",
   "id": "e105ba74-4d84-436b-8d39-914a0ea16953",
   "metadata": {},
   "source": [
    "See `parse_name.py`"
   ]
  },
  {
   "cell_type": "markdown",
   "id": "17ac1ea3-0f73-4ff6-aceb-dbfe042367a8",
   "metadata": {},
   "source": [
    "```bash\n",
    "$ python parse_name.py\n",
    "What is your name? I am Geir Arne\n",
    "Hi Geir Arne, nice to meet you!\n",
    "```"
   ]
  },
  {
   "cell_type": "code",
   "execution_count": 74,
   "id": "ae16192e-d367-4e6c-b63c-212c6b6b3566",
   "metadata": {},
   "outputs": [
    {
     "name": "stdout",
     "output_type": "stream",
     "text": [
      "parse_name_bug.py:3: \u001b[1m\u001b[31merror:\u001b[m Skipping analyzing \u001b[m\u001b[1m\"parse\"\u001b[m: found module but no type hints or library stubs\u001b[m\n",
      "parse_name_bug.py:3: \u001b[34mnote:\u001b[m See \u001b[4mhttps://mypy.readthedocs.io/en/stable/running_mypy.html#missing-imports\u001b[m\u001b[m\n",
      "\u001b[1m\u001b[31mFound 1 error in 1 file (checked 1 source file)\u001b[m\n"
     ]
    }
   ],
   "source": [
    "!mypy parse_name_bug.py"
   ]
  },
  {
   "cell_type": "markdown",
   "id": "4c960359-cf40-4469-90e5-c45168f0d8ce",
   "metadata": {},
   "source": [
    "Mypy prints a similar error to the one you saw in the previous section: It doesn’t know about the parse package. You could try to ignore the import:"
   ]
  },
  {
   "cell_type": "code",
   "execution_count": 75,
   "id": "fe0e480f-d5d4-4b48-89c9-f9ab81197b1e",
   "metadata": {},
   "outputs": [
    {
     "name": "stdout",
     "output_type": "stream",
     "text": [
      "\u001b[1m\u001b[32mSuccess: no issues found in 1 source file\u001b[m\n"
     ]
    }
   ],
   "source": [
    "!mypy parse_name_bug.py --ignore-missing-imports"
   ]
  },
  {
   "cell_type": "markdown",
   "id": "b002a76f-f622-4722-9c16-3423389fa577",
   "metadata": {},
   "source": [
    "**Unfortunately, ignoring the import means that Mypy has no way of discovering the bug in our program.** \n",
    "\n",
    "(A better solution would be to add type hints to the Parse package itself. As Parse is open source you can actually add types to the source code and send a pull request.)\n",
    "\n",
    "Alternatively, you can add the types in a [stub file](https://mypy.readthedocs.io/en/latest/stubs.html). A stub file is a text file that contains the signatures of methods and functions, but not their implementations. Their main function is to add type hints to code that you for some reason can’t change. To show how this works, we will add some stubs for the Parse package."
   ]
  },
  {
   "cell_type": "markdown",
   "id": "b5aaec11-b922-40dd-b67e-5af148d6a2a3",
   "metadata": {},
   "source": [
    "First of all, you should put all your stub files inside one common directory, and set the `MYPYPATH` environment variable to point to this directory. \n",
    "\n",
    "On Mac and Linux you can set MYPYPATH as follows:\n",
    "\n",
    "```bash\n",
    "export MYPYPATH=/home/gahjelle/python/stubs\n",
    "```"
   ]
  },
  {
   "cell_type": "code",
   "execution_count": 76,
   "id": "3a5ce335-0f2b-42aa-bea1-b904f088237f",
   "metadata": {},
   "outputs": [
    {
     "name": "stdout",
     "output_type": "stream",
     "text": [
      "env: MYPYPATH=/mnt/space/Dropbox/Programming/wsl_repos/practice_py/realpython_tutorials/python_type_checking/stubs\n"
     ]
    }
   ],
   "source": [
    "%env MYPYPATH=/mnt/space/Dropbox/Programming/wsl_repos/practice_py/realpython_tutorials/python_type_checking/stubs"
   ]
  },
  {
   "cell_type": "markdown",
   "id": "6017332e-7d68-4b4f-8c39-8d3689756fd0",
   "metadata": {},
   "source": [
    "Next, create a file inside your stubs directory that you call `parse.pyi`. \n",
    "\n",
    "It must be named for the package that you are adding type hints for, with a `.pyi` suffix. Leave this file empty for now. \n",
    "\n",
    "Then run Mypy again:"
   ]
  },
  {
   "cell_type": "code",
   "execution_count": 77,
   "id": "62dd453f-f43f-40ab-a752-1c2f9f95f4a6",
   "metadata": {},
   "outputs": [
    {
     "name": "stdout",
     "output_type": "stream",
     "text": [
      "\u001b[1m\u001b[32mSuccess: no issues found in 1 source file\u001b[m\n"
     ]
    }
   ],
   "source": [
    "!mypy parse_name.py"
   ]
  },
  {
   "cell_type": "markdown",
   "id": "02f38aca-ddab-47eb-9c41-a0d76784a12c",
   "metadata": {},
   "source": [
    "If you have set everything up correctly, you should see this new error message. \n",
    "\n",
    "Mypy uses the new `parse.pyi` file to figure out which functions are available in the parse package. Since the stub file is empty, Mypy assumes that `parse.parse()` does not exist, and then gives the error you see above."
   ]
  },
  {
   "cell_type": "markdown",
   "id": "9c214e6b-3283-4a07-9a29-7dbe232f0841",
   "metadata": {},
   "source": [
    "The following example does not add types for the whole parse package. Instead it shows the type hints you need to add in order for Mypy to type check your use of `parse.parse()`:"
   ]
  },
  {
   "cell_type": "code",
   "execution_count": 78,
   "id": "587f09b0-24e2-44c0-a08b-5d3938c91c0c",
   "metadata": {},
   "outputs": [],
   "source": [
    "# parse.pyi\n",
    "\n",
    "from typing import Mapping, Optional, Sequence, Tuple, Union\n",
    "\n",
    "\n",
    "class Result:\n",
    "    def __init__(\n",
    "        self,\n",
    "        fixed: Sequence[str],\n",
    "        named: Mapping[str, str],\n",
    "        spans: Mapping[int, Tuple[int, int]],\n",
    "    ) -> None: ...\n",
    "    def __getitem__(self, item: Union[int, str]) -> str: ...\n",
    "    def __repr__(self) -> str: ...\n",
    "\n",
    "\n",
    "def parse(\n",
    "    format: str,\n",
    "    string: str,\n",
    "    evaluate_result: bool = ...,\n",
    "    case_sensitive: bool = ...,\n",
    ") -> Optional[Result]: ...\n"
   ]
  },
  {
   "cell_type": "markdown",
   "id": "bad0fd3a-f2c4-4cee-b3bb-013b0c604d10",
   "metadata": {},
   "source": [
    "The ellipsis `...` are part of the file, and should be written exactly as above. The stub file should only contain type hints for variables, attributes, functions, and methods, so the implementations should be left out and replaced by `...` markers."
   ]
  },
  {
   "cell_type": "markdown",
   "id": "871b3b2e-2c6a-4368-a869-4a68b7fd66fd",
   "metadata": {},
   "source": [
    "Finally Mypy is able to spot the bug we introduced:"
   ]
  },
  {
   "cell_type": "code",
   "execution_count": 79,
   "id": "139d8865-97be-428b-8f22-c92668dc81bd",
   "metadata": {},
   "outputs": [
    {
     "name": "stdout",
     "output_type": "stream",
     "text": [
      "parse_name_bug.py:18: \u001b[1m\u001b[31merror:\u001b[m Incompatible return value type (got \u001b[m\u001b[1m\"Result\"\u001b[m, expected \u001b[m\u001b[1m\"str\"\u001b[m)\u001b[m\n",
      "\u001b[1m\u001b[31mFound 1 error in 1 file (checked 1 source file)\u001b[m\n"
     ]
    }
   ],
   "source": [
    "!mypy parse_name_bug.py"
   ]
  },
  {
   "cell_type": "markdown",
   "id": "a36185e5-4db6-4a54-bcad-297bba3f072f",
   "metadata": {},
   "source": [
    "😊 This points straight to line 16 and the fact that we return a Result object and not the name string. Change return result back to return `result[\"name\"]`, and run Mypy again to see that it’s happy:"
   ]
  },
  {
   "cell_type": "code",
   "execution_count": 81,
   "id": "3ca5f83c-5a12-4a0c-82e7-e23008d07570",
   "metadata": {},
   "outputs": [
    {
     "name": "stdout",
     "output_type": "stream",
     "text": [
      "\u001b[1m\u001b[32mSuccess: no issues found in 1 source file\u001b[m\n"
     ]
    }
   ],
   "source": [
    "!mypy parse_name.py"
   ]
  },
  {
   "cell_type": "markdown",
   "id": "99114d92-8f04-42a8-aa10-01d2329f12bd",
   "metadata": {},
   "source": [
    "### Typeshed\n",
    "\n",
    "[Typeshed](https://github.com/python/typeshed) is a Github repository that contains type hints for the Python standard library, as well as many third-party packages. Typeshed comes included with Mypy so if you are using a package that already has type hints defined in Typeshed, the type checking will just work.\n",
    "\n",
    "You can also [contribute type hints to Typeshed](https://github.com/python/typeshed/blob/master/CONTRIBUTING.md). Make sure to get the permission of the owner of the package first though, especially because they might be working on adding type hints into the source code itself—which is the [preferred approach](https://github.com/python/typeshed/blob/master/CONTRIBUTING.md#adding-a-new-library)."
   ]
  },
  {
   "cell_type": "markdown",
   "id": "3c12301f-04c9-4095-af3c-65a83f40d3dd",
   "metadata": {},
   "source": [
    "### Other Static Type Checkers\n",
    "\n",
    "* [Pyre](https://pyre-check.org/)\n",
    "* [Pytype](https://github.com/google/pytype)\n",
    "* See also: https://typing.readthedocs.io/en/latest/#type-checkers"
   ]
  },
  {
   "cell_type": "markdown",
   "id": "8208e1e3-e051-4acd-b7f9-4f47f7de507a",
   "metadata": {},
   "source": [
    "### Using Types at Runtime\n",
    "\n",
    "As a final note, it’s possible to use type hints also at runtime during execution of your Python program. **Runtime type checking will probably never be natively supported in Python.**\n",
    "\n",
    "Have a look at [Enforce](https://pypi.org/project/enforce/), [Pydantic](https://pypi.org/project/pydantic/), or [Pytypes](https://pypi.org/project/pytypes/) for some examples."
   ]
  },
  {
   "cell_type": "markdown",
   "id": "c15fe928-c539-43bd-abe2-36c7f334d3c6",
   "metadata": {},
   "source": [
    "## Conclusion\n",
    "\n",
    "Type hinting in Python is a very useful feature that you can happily live without. Type hints don’t make you capable of writing any code you can’t write without using type hints. Instead, using type hints makes it easier for you to reason about code, find subtle bugs, and maintain a clean architecture.\n",
    "\n",
    "Further reading:\n",
    "* https://www.python.org/dev/peps/pep-0483/\n",
    "* https://www.python.org/dev/peps/pep-0484/\n",
    "* https://mypy.readthedocs.io/"
   ]
  }
 ],
 "metadata": {
  "kernelspec": {
   "display_name": "Python 3 (ipykernel)",
   "language": "python",
   "name": "python3"
  },
  "language_info": {
   "codemirror_mode": {
    "name": "ipython",
    "version": 3
   },
   "file_extension": ".py",
   "mimetype": "text/x-python",
   "name": "python",
   "nbconvert_exporter": "python",
   "pygments_lexer": "ipython3",
   "version": "3.8.12"
  }
 },
 "nbformat": 4,
 "nbformat_minor": 5
}
