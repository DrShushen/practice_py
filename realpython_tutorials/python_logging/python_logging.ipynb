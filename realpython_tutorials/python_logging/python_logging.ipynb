{
 "cells": [
  {
   "attachments": {},
   "cell_type": "markdown",
   "metadata": {},
   "source": [
    "## Overview\n",
    "\n",
    "Python provides a logging system as a part of its *standard library*, so you can quickly add logging to your application. "
   ]
  },
  {
   "attachments": {},
   "cell_type": "markdown",
   "metadata": {},
   "source": [
    "## The Logging Module\n",
    "\n",
    "> The [logging module](https://realpython.com/python-logging-source-code/) in Python is a ready-to-use and powerful \n",
    "> module that is designed to meet the needs of *beginners as well as enterprise teams*.\n",
    "> \n",
    "> It is used by most of the third-party Python libraries, so you can integrate your log messages with the ones from\n",
    "> those libraries to produce a homogeneous log for your application.\n",
    "\n",
    "To import it:\n",
    "```python\n",
    "import logging\n",
    "```\n",
    "\n",
    "With the logging module imported, you can use something called a “logger” to log messages that you want to see.\n",
    "\n",
    "By default, there are **5 standard levels indicating the severity of events**.\n",
    "\n",
    "Each has a *corresponding method* that can be used to log events at that level of severity.\n",
    "\n",
    "The defined levels, in order of increasing severity, are the following:\n",
    "* `DEBUG`\n",
    "* `INFO`\n",
    "* `WARNING`\n",
    "* `ERROR`\n",
    "* `CRITICAL`\n",
    "\n",
    "The logging module provides you with a **default logger** that allows you to *get started without needing to do much configuration*.\n",
    "\n",
    "The corresponding *methods* for each level can be called as shown in the following example:"
   ]
  },
  {
   "cell_type": "code",
   "execution_count": 1,
   "metadata": {},
   "outputs": [
    {
     "name": "stderr",
     "output_type": "stream",
     "text": [
      "WARNING:root:This is a warning message\n",
      "ERROR:root:This is an error message\n",
      "CRITICAL:root:This is a critical message\n"
     ]
    }
   ],
   "source": [
    "import logging\n",
    "\n",
    "logging.debug(\"This is a debug message\")\n",
    "logging.info(\"This is an info message\")\n",
    "logging.warning(\"This is a warning message\")\n",
    "logging.error(\"This is an error message\")\n",
    "logging.critical(\"This is a critical message\")"
   ]
  },
  {
   "attachments": {},
   "cell_type": "markdown",
   "metadata": {},
   "source": [
    "The output shows the severity level before each message along with `root`, which is **the name the logging module gives to its default logger**.\n",
    "\n",
    "\n",
    "Notice that the `debug()` and `info()` messages didn’t get logged. This is because, *by default, the logging module logs the messages with a severity level of `WARNING` or above*.\n",
    "\n",
    "You can change that by configuring the logging module to log events of all levels if you want.\n",
    "\n",
    "You can also define your own severity levels by changing configurations, **but it is generally not recommended** as it can cause confusion with logs of some third-party libraries that you might be using."
   ]
  },
  {
   "attachments": {},
   "cell_type": "markdown",
   "metadata": {},
   "source": [
    "## Basic Configurations\n",
    "\n",
    "You can use the `basicConfig(**kwargs)` method to configure the logging:\n",
    "\n",
    "Fun fact:\n",
    "> You will notice that the logging module breaks PEP8 styleguide and uses camelCase naming conventions.\n",
    "> This is because it was adopted from `Log4j`, a logging utility in Java.\n",
    "> It is a known issue in the package but by the time it was decided to add it to the standard library,\n",
    "> it had already been adopted by users and changing it to meet PEP8 requirements would cause backwards compatibility issues.\n",
    "\n",
    "Some of the commonly used parameters for `basicConfig()` are the following:\n",
    "* `level`: The root logger will be set to the specified severity level.\n",
    "* `filename`: This specifies the file.\n",
    "* `filemode`: If filename is given, the file is opened in this mode. The default is `a`, which means append.\n",
    "* `format`: This is the format of the log message."
   ]
  },
  {
   "cell_type": "code",
   "execution_count": 1,
   "metadata": {},
   "outputs": [
    {
     "name": "stderr",
     "output_type": "stream",
     "text": [
      "DEBUG:root:This will get logged\n"
     ]
    }
   ],
   "source": [
    "# NOTE: Restart the notebook kernel before running this cell to see the effect!\n",
    "\n",
    "import logging\n",
    "\n",
    "logging.basicConfig(level=logging.DEBUG)\n",
    "logging.debug(\"This will get logged\")  # NOTE that debug level is now logged."
   ]
  },
  {
   "attachments": {},
   "cell_type": "markdown",
   "metadata": {},
   "source": [
    "For logging to a file rather than the console, filename and filemode can be used, and you can decide the format of the message using format.\n",
    "\n",
    "The following example shows the usage of all three:"
   ]
  },
  {
   "cell_type": "code",
   "execution_count": 1,
   "metadata": {},
   "outputs": [],
   "source": [
    "# NOTE: Restart the notebook kernel before running this cell to see the effect!\n",
    "\n",
    "import logging\n",
    "\n",
    "logging.basicConfig(\n",
    "    filename=\"app.log\", filemode=\"w\", format=\"%(name)s - %(levelname)s - %(message)s\"\n",
    ")\n",
    "logging.warning(\"This will get logged to a file\")"
   ]
  },
  {
   "attachments": {},
   "cell_type": "markdown",
   "metadata": {},
   "source": [
    "You can customize the root logger even further by using more parameters for `basicConfig()`,\n",
    "which can be found [here](https://docs.python.org/3/library/logging.html#logging.basicConfig)."
   ]
  },
  {
   "attachments": {},
   "cell_type": "markdown",
   "metadata": {},
   "source": [
    "> ⚠️\n",
    ">\n",
    "> It should be noted that calling `basicConfig()` to configure the root logger works only if the root logger has not been configured before.\n",
    ">\n",
    "> **Basically, this function can only be called once.**\n",
    "\n",
    "`debug()`, `info()`, `warning()`, `error()`, and `critical()` also call `basicConfig()` without arguments automatically if it has not been called before.\n",
    "\n",
    "⚠️ This means that after the first time one of the above functions is called, you can no longer configure the root logger because they would have called the `basicConfig()` function internally."
   ]
  },
  {
   "attachments": {},
   "cell_type": "markdown",
   "metadata": {},
   "source": [
    "### Formatting the Output"
   ]
  },
  {
   "cell_type": "code",
   "execution_count": 1,
   "metadata": {},
   "outputs": [
    {
     "name": "stderr",
     "output_type": "stream",
     "text": [
      "641943-WARNING-This is a Warning\n"
     ]
    }
   ],
   "source": [
    "# NOTE: Restart the notebook kernel before running this cell to see the effect!\n",
    "\n",
    "import logging\n",
    "\n",
    "logging.basicConfig(format=\"%(process)d-%(levelname)s-%(message)s\")  # NOTE.\n",
    "logging.warning(\"This is a Warning\")"
   ]
  },
  {
   "attachments": {},
   "cell_type": "markdown",
   "metadata": {},
   "source": [
    "`format` can take a string with `LogRecord` attributes in any arrangement you like.\n",
    "\n",
    "The entire list of available attributes can be found [here](https://docs.python.org/3/library/logging.html#logrecord-attributes)."
   ]
  },
  {
   "cell_type": "code",
   "execution_count": 1,
   "metadata": {},
   "outputs": [
    {
     "name": "stderr",
     "output_type": "stream",
     "text": [
      "2022-12-29 17:38:28,563 - Admin logged in\n"
     ]
    }
   ],
   "source": [
    "# NOTE: Restart the notebook kernel before running this cell to see the effect!\n",
    "\n",
    "import logging\n",
    "\n",
    "logging.basicConfig(format=\"%(asctime)s - %(message)s\", level=logging.INFO)\n",
    "logging.info(\"Admin logged in\")"
   ]
  },
  {
   "attachments": {},
   "cell_type": "markdown",
   "metadata": {},
   "source": [
    "`%(asctime)s` adds the time of creation of the `LogRecord`.\n",
    "\n",
    "The format can be changed using the `datefmt` attribute, which uses the same formatting language as the formatting functions in the `datetime` module, such as `time.strftime()`:\n",
    "\n",
    "You can find the guide [here](https://docs.python.org/3/library/datetime.html#strftime-and-strptime-behavior)."
   ]
  },
  {
   "cell_type": "code",
   "execution_count": 2,
   "metadata": {},
   "outputs": [
    {
     "name": "stderr",
     "output_type": "stream",
     "text": [
      "2022-12-29 17:39:18,023 - Admin logged out\n"
     ]
    }
   ],
   "source": [
    "# NOTE: Restart the notebook kernel before running this cell to see the effect!\n",
    "\n",
    "import logging\n",
    "\n",
    "logging.basicConfig(format=\"%(asctime)s - %(message)s\", datefmt=\"%d-%b-%y %H:%M:%S\")\n",
    "logging.warning(\"Admin logged out\")"
   ]
  },
  {
   "attachments": {},
   "cell_type": "markdown",
   "metadata": {},
   "source": [
    "### Logging Variable Data\n",
    "\n",
    "In most cases, you would want to include dynamic information from your application in the logs.\n",
    "\n",
    "You have seen that the logging methods take a string as an argument, and it might seem natural to\n",
    "format a string with variable data in a separate line and pass it to the log method.\n",
    "\n",
    "**But this can actually be done directly by using a format string for the message and appending the variable data as arguments.**\n",
    "\n",
    "Here’s an example:"
   ]
  },
  {
   "cell_type": "code",
   "execution_count": 3,
   "metadata": {},
   "outputs": [
    {
     "name": "stderr",
     "output_type": "stream",
     "text": [
      "2022-12-29 17:41:07,669 - John raised an error\n"
     ]
    }
   ],
   "source": [
    "# NOTE: Restart the notebook kernel before running this cell to see the effect!\n",
    "\n",
    "import logging\n",
    "\n",
    "name = \"John\"\n",
    "\n",
    "logging.error(\n",
    "    \"%s raised an error\", name\n",
    ")  # NOTE the formatting is NOT the typical f-string approach."
   ]
  },
  {
   "cell_type": "code",
   "execution_count": 1,
   "metadata": {},
   "outputs": [
    {
     "name": "stderr",
     "output_type": "stream",
     "text": [
      "ERROR:root:John raised an error\n"
     ]
    }
   ],
   "source": [
    "# NOTE: Restart the notebook kernel before running this cell to see the effect!\n",
    "\n",
    "# Can use f-strings if desired - but note potential performance impact.\n",
    "\n",
    "import logging\n",
    "\n",
    "name = \"John\"\n",
    "\n",
    "logging.error(f\"{name} raised an error\")"
   ]
  },
  {
   "attachments": {},
   "cell_type": "markdown",
   "metadata": {},
   "source": [
    "### Capturing Stack Traces\n",
    "\n",
    "The logging module also allows you to capture the *full stack traces in an application*.\n",
    "\n",
    "**Exception information can be captured if the `exc_info` parameter is passed as `True`, and the logging functions are called like this:**"
   ]
  },
  {
   "cell_type": "code",
   "execution_count": 2,
   "metadata": {},
   "outputs": [
    {
     "name": "stderr",
     "output_type": "stream",
     "text": [
      "ERROR:root:Exception occurred\n",
      "Traceback (most recent call last):\n",
      "  File \"/tmp/ipykernel_657246/1673112338.py\", line 7, in <module>\n",
      "    c = a / b\n",
      "ZeroDivisionError: division by zero\n"
     ]
    }
   ],
   "source": [
    "import logging\n",
    "\n",
    "a = 5\n",
    "b = 0\n",
    "\n",
    "try:\n",
    "    c = a / b\n",
    "except Exception as e:\n",
    "    logging.error(\"Exception occurred\", exc_info=True)  # NOTE, this is NECESSARY!"
   ]
  },
  {
   "attachments": {},
   "cell_type": "markdown",
   "metadata": {},
   "source": [
    "If `exc_info` is not set to `True`, the output of the above program would not tell us anything about the exception,\n",
    "which, in a real-world scenario, might not be as simple as a `ZeroDivisionError`.\n",
    "\n",
    "Imagine trying to debug an error in a complicated codebase with a log that shows only this:\n",
    "```\n",
    "ERROR:root:Exception occurred\n",
    "```\n",
    "\n",
    "Here’s a quick tip: if you’re logging from an exception handler, **use the `logging.exception()` method**, which logs a\n",
    "message with level `ERROR` and adds *exception information to the message*.\n",
    "\n",
    "To put it more simply, calling `logging.exception()` is like calling `logging.error(exc_info=True)`.\n",
    "\n",
    "But since this method always dumps exception information, it should only be called from an exception handler.\n",
    "\n",
    "Take a look at this example:"
   ]
  },
  {
   "cell_type": "code",
   "execution_count": 3,
   "metadata": {},
   "outputs": [
    {
     "name": "stderr",
     "output_type": "stream",
     "text": [
      "ERROR:root:Exception occurred\n",
      "Traceback (most recent call last):\n",
      "  File \"/tmp/ipykernel_657246/2953700927.py\", line 6, in <module>\n",
      "    c = a / b\n",
      "ZeroDivisionError: division by zero\n"
     ]
    }
   ],
   "source": [
    "import logging\n",
    "\n",
    "a = 5\n",
    "b = 0\n",
    "try:\n",
    "    c = a / b\n",
    "except Exception as e:\n",
    "    logging.exception(\n",
    "        \"Exception occurred\"\n",
    "    )  # NOTE. With .exception(\"...\") we're always good!"
   ]
  },
  {
   "attachments": {},
   "cell_type": "markdown",
   "metadata": {},
   "source": [
    "## Classes and Functions\n",
    "\n",
    "So far, we have seen the default logger named `root`, which is used by the logging module whenever its functions are called directly like this: `logging.debug()`.\n",
    "\n",
    "> You can (**and should**) define your *own logger* by creating an object of the `Logger` class,\n",
    "> especially if your application has multiple modules\\*.\n",
    "\n",
    "\\* i.e. if your application has more than one file, basically!\n",
    "\n",
    "Let’s have a look at some of the classes and functions in the module.\n",
    "\n",
    "The most commonly used classes defined in the logging module are the following:\n",
    "* `Logger`: This is the class whose objects will be used in the application code directly to call the functions.\n",
    "* `LogRecord`: Loggers automatically create `LogRecord` objects that have **all the information related to the event being logged**, like the name of the logger, the function, the line number, the message, and more.\n",
    "* `Handler`: Handlers send the `LogRecord` *to the required output destination*, like the console or a file. Handler is a base for subclasses like `StreamHandler`, `FileHandler`, `SMTPHandler`, `HTTPHandler`, and more. These subclasses send the logging outputs to corresponding destinations, like `sys.stdout` or a disk file.\n",
    "* `Formatter`: This is where you specify the format of the output by specifying a string format that lists out the attributes that the output should contain.\n",
    "\n",
    "Out of these, we mostly deal with the objects of the `Logger` class,\n",
    "> which are instantiated using the module-level function `logging.getLogger(name)`.\n",
    "\n",
    "Multiple calls to `getLogger()` with the same name will return **a reference to the same `Logger` object**,\n",
    "which saves us from passing the logger objects to every part where it’s needed.\n",
    "\n",
    "Here’s an example:"
   ]
  },
  {
   "cell_type": "code",
   "execution_count": 4,
   "metadata": {},
   "outputs": [
    {
     "name": "stderr",
     "output_type": "stream",
     "text": [
      "WARNING:example_logger:This is a warning\n"
     ]
    }
   ],
   "source": [
    "import logging\n",
    "\n",
    "logger = logging.getLogger(\"example_logger\")\n",
    "logger.warning(\"This is a warning\")"
   ]
  },
  {
   "attachments": {},
   "cell_type": "markdown",
   "metadata": {},
   "source": [
    "> [❗] Unlike the `root` logger, a custom logger **can’t be configured using `basicConfig()`**.\n",
    ">\n",
    "> You have to configure it using `Handlers` and `Formatters`.\n",
    "\n",
    "Also note this recommendation:\n",
    "> It is recommended that we use module-level loggers by passing `__name__` as the name parameter to `getLogger()`\n",
    "> to create a logger object as the *name of the logger itself would tell us from where the events are being logged*.\n",
    ">\n",
    "> `__name__` is a special built-in variable in Python which evaluates to the name of the current module.\n",
    ">\n",
    "> [Source](https://docs.python.org/3/library/logging.html#logger-objects)\n"
   ]
  },
  {
   "attachments": {},
   "cell_type": "markdown",
   "metadata": {},
   "source": [
    "## Using Handlers\n",
    "\n",
    "Handlers come into the picture when you want to configure your own loggers and send the logs to multiple places when they are generated.\n",
    "\n",
    "> A logger that you create **can have more than one handler**, which means you can set it up to be saved to a log file\n",
    "> and also send it over email, ...\n",
    "\n",
    "Like loggers, **you can also set the severity level in handlers**!\n",
    "This is useful if you want to set multiple handlers for the same logger *but want different severity levels for each of them*."
   ]
  },
  {
   "cell_type": "code",
   "execution_count": 5,
   "metadata": {},
   "outputs": [
    {
     "name": "stderr",
     "output_type": "stream",
     "text": [
      "__main__ - WARNING - This is a warning\n",
      "WARNING:__main__:This is a warning\n",
      "__main__ - ERROR - This is an error\n",
      "ERROR:__main__:This is an error\n"
     ]
    }
   ],
   "source": [
    "# NOTE this whole recipe.\n",
    "# Check file.log.\n",
    "\n",
    "import logging\n",
    "\n",
    "# Create a custom logger\n",
    "logger = logging.getLogger(__name__)\n",
    "\n",
    "# Create handlers\n",
    "c_handler = logging.StreamHandler()\n",
    "f_handler = logging.FileHandler(\"file.log\")\n",
    "c_handler.setLevel(logging.WARNING)\n",
    "f_handler.setLevel(logging.ERROR)\n",
    "\n",
    "# Create formatters and add it to handlers\n",
    "c_format = logging.Formatter(\"%(name)s - %(levelname)s - %(message)s\")\n",
    "f_format = logging.Formatter(\"%(asctime)s - %(name)s - %(levelname)s - %(message)s\")\n",
    "c_handler.setFormatter(c_format)\n",
    "f_handler.setFormatter(f_format)\n",
    "\n",
    "# Add handlers to the logger\n",
    "logger.addHandler(c_handler)\n",
    "logger.addHandler(f_handler)\n",
    "\n",
    "logger.warning(\"This is a warning\")\n",
    "logger.error(\"This is an error\")"
   ]
  },
  {
   "attachments": {},
   "cell_type": "markdown",
   "metadata": {},
   "source": [
    "### Other Configuration Methods\n",
    "\n",
    "You can configure logging\n",
    "* as shown above using the module and class functions\n",
    "* or by creating a config *file* or a *dictionary* and loading it using `fileConfig()` or `dictConfig()` respectively.\n",
    "\n",
    "These are useful in case you want to change your logging configuration in a running application.\n",
    "\n",
    "Here’s an example file configuration:\n",
    "\n",
    "```toml\n",
    "[loggers]\n",
    "keys=root,sampleLogger\n",
    "\n",
    "[handlers]\n",
    "keys=consoleHandler\n",
    "\n",
    "[formatters]\n",
    "keys=sampleFormatter\n",
    "\n",
    "[logger_root]\n",
    "level=DEBUG\n",
    "handlers=consoleHandler\n",
    "\n",
    "[logger_sampleLogger]\n",
    "level=DEBUG\n",
    "handlers=consoleHandler\n",
    "qualname=sampleLogger\n",
    "propagate=0\n",
    "\n",
    "[handler_consoleHandler]\n",
    "class=StreamHandler\n",
    "level=DEBUG\n",
    "formatter=sampleFormatter\n",
    "args=(sys.stdout,)\n",
    "\n",
    "[formatter_sampleFormatter]\n",
    "format=%(asctime)s - %(name)s - %(levelname)s - %(message)s\n",
    "```\n",
    "\n",
    "> In the above file, there are two loggers, one handler, and one formatter.\n",
    ">\n",
    "> [❗] **After their names are defined**, they are configured by adding the words `logger`, `handler`, and `formatter` before their names separated by an **underscore** (`_`).\n",
    "\n",
    "To load this config file, you have to use `fileConfig()`:"
   ]
  },
  {
   "cell_type": "code",
   "execution_count": 6,
   "metadata": {},
   "outputs": [
    {
     "name": "stdout",
     "output_type": "stream",
     "text": [
      "2022-12-29 18:01:09,012 - __main__ - DEBUG - This is a debug message\n"
     ]
    }
   ],
   "source": [
    "import logging\n",
    "import logging.config\n",
    "\n",
    "logging.config.fileConfig(fname=\"file.conf\", disable_existing_loggers=False)  # NOTE.\n",
    "\n",
    "# Get the logger specified in the file\n",
    "logger = logging.getLogger(__name__)\n",
    "\n",
    "logger.debug(\"This is a debug message\")"
   ]
  },
  {
   "attachments": {},
   "cell_type": "markdown",
   "metadata": {},
   "source": [
    "* The path of the config file is passed as a parameter to the `fileConfig()` method,\n",
    "* and the `disable_existing_loggers` parameter is used to keep or disable the loggers that are present when the function is called.\n",
    "    * ⚠️ It defaults to `True` if not mentioned."
   ]
  },
  {
   "attachments": {},
   "cell_type": "markdown",
   "metadata": {},
   "source": [
    "Here’s the same configuration in a YAML format for the dictionary approach:\n",
    "\n",
    "```yaml\n",
    "version: 1\n",
    "formatters:\n",
    "  simple:\n",
    "    format: '%(asctime)s - %(name)s - %(levelname)s - %(message)s'\n",
    "handlers:\n",
    "  console:\n",
    "    class: logging.StreamHandler\n",
    "    level: DEBUG\n",
    "    formatter: simple\n",
    "    stream: ext://sys.stdout\n",
    "loggers:\n",
    "  sampleLogger:\n",
    "    level: DEBUG\n",
    "    handlers: [console]\n",
    "    propagate: no\n",
    "root:\n",
    "  level: DEBUG\n",
    "  handlers: [console]\n",
    "```\n",
    "\n",
    "**Note how formatters, handlers and the logger are interconnected in the above config.**\n",
    "\n",
    "Here’s an example that shows how to load config from a `yaml` file:"
   ]
  },
  {
   "cell_type": "code",
   "execution_count": 1,
   "metadata": {},
   "outputs": [
    {
     "name": "stdout",
     "output_type": "stream",
     "text": [
      "2022-12-29 18:13:09,264 - __main__ - DEBUG - This is a debug message\n"
     ]
    }
   ],
   "source": [
    "# NOTE: Restart the notebook kernel before running this cell to see the effect!\n",
    "\n",
    "import logging\n",
    "import logging.config\n",
    "import yaml  # NOTE.\n",
    "\n",
    "with open(\"config.yaml\", \"r\") as f:\n",
    "    config = yaml.safe_load(f.read())  # NOTE. This will load it in as a dict.\n",
    "    logging.config.dictConfig(config)  # NOTE.\n",
    "\n",
    "logger = logging.getLogger(__name__)\n",
    "\n",
    "logger.debug(\"This is a debug message\")"
   ]
  }
 ],
 "metadata": {
  "kernelspec": {
   "display_name": "learn_py38_real-python-python-logging",
   "language": "python",
   "name": "python3"
  },
  "language_info": {
   "codemirror_mode": {
    "name": "ipython",
    "version": 3
   },
   "file_extension": ".py",
   "mimetype": "text/x-python",
   "name": "python",
   "nbconvert_exporter": "python",
   "pygments_lexer": "ipython3",
   "version": "3.8.15"
  },
  "orig_nbformat": 4,
  "vscode": {
   "interpreter": {
    "hash": "97c80861514c9c95da4d0449911d07cac9c4adf71ed77d3a4d56e2f9e2828de4"
   }
  }
 },
 "nbformat": 4,
 "nbformat_minor": 2
}
