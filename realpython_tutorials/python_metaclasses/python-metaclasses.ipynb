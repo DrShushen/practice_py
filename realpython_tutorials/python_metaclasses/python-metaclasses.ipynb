{
 "cells": [
  {
   "attachments": {},
   "cell_type": "markdown",
   "metadata": {},
   "source": [
    "## Introduction\n",
    "\n",
    "**Key point**\n",
    "> It is probably true that custom metaclasses mostly aren’t necessary.\n",
    ">\n",
    "> If it isn’t pretty obvious that a problem calls for them,\n",
    "> then it will probably be cleaner and more readable if solved in a simpler way."
   ]
  },
  {
   "attachments": {},
   "cell_type": "markdown",
   "metadata": {},
   "source": [
    "### Old-Style vs. New-Style Classes\n",
    "\n",
    "In the Python realm, a class can be [one of two varieties](https://wiki.python.org/moin/NewClassVsClassicClass).\n",
    "\n",
    "No official terminology has been decided on, so they are informally referred to as **old-style** and **new-style** classes.\n",
    "\n",
    "> In `Python 3`, **all classes are new-style classes**.\n",
    "> Thus, in Python 3 it is reasonable to refer to an object’s type and its class interchangeably."
   ]
  },
  {
   "attachments": {},
   "cell_type": "markdown",
   "metadata": {},
   "source": [
    "#### Old-Style Classes (Python 2)\n",
    "\n",
    "With old-style classes, class and type are not quite the same thing.\n",
    "\n",
    "An instance of an old-style class is always implemented from a single built-in type called `instance`.\n",
    "\n",
    "If `obj` is an instance of an old-style class, `obj.__class__` designates the class, \n",
    "but `type(obj)` is always `instance`. \n",
    "\n",
    "The following example is taken from Python 2.7:\n",
    "\n",
    "```python\n",
    ">>> class Foo:\n",
    "...     pass\n",
    "...\n",
    ">>> x = Foo()\n",
    ">>> x.__class__\n",
    "<class __main__.Foo at 0x000000000535CC48>\n",
    ">>> type(x)\n",
    "<type 'instance'>\n",
    "```"
   ]
  },
  {
   "attachments": {},
   "cell_type": "markdown",
   "metadata": {},
   "source": [
    "#### New-Style Classes (Python 2 and 3)\n",
    "\n",
    "New-style classes **unify the concepts of class and type**.\n",
    "\n",
    "If `obj` is an instance of a new-style class, `type(obj)` is the same as `obj.__class__`:"
   ]
  },
  {
   "cell_type": "code",
   "execution_count": 1,
   "metadata": {},
   "outputs": [],
   "source": [
    "class Foo:\n",
    "    pass\n",
    "\n",
    "obj = Foo()"
   ]
  },
  {
   "cell_type": "code",
   "execution_count": 2,
   "metadata": {},
   "outputs": [
    {
     "data": {
      "text/plain": [
       "__main__.Foo"
      ]
     },
     "execution_count": 2,
     "metadata": {},
     "output_type": "execute_result"
    }
   ],
   "source": [
    "obj.__class__"
   ]
  },
  {
   "cell_type": "code",
   "execution_count": 3,
   "metadata": {},
   "outputs": [
    {
     "data": {
      "text/plain": [
       "__main__.Foo"
      ]
     },
     "execution_count": 3,
     "metadata": {},
     "output_type": "execute_result"
    }
   ],
   "source": [
    "type(obj)"
   ]
  },
  {
   "cell_type": "code",
   "execution_count": 5,
   "metadata": {},
   "outputs": [
    {
     "data": {
      "text/plain": [
       "True"
      ]
     },
     "execution_count": 5,
     "metadata": {},
     "output_type": "execute_result"
    }
   ],
   "source": [
    "obj.__class__ is type(obj)  # NOTE."
   ]
  },
  {
   "cell_type": "code",
   "execution_count": 6,
   "metadata": {},
   "outputs": [],
   "source": [
    "n = 5"
   ]
  },
  {
   "cell_type": "code",
   "execution_count": 7,
   "metadata": {},
   "outputs": [],
   "source": [
    "d = { 'x' : 1, 'y' : 2 }"
   ]
  },
  {
   "cell_type": "code",
   "execution_count": 8,
   "metadata": {},
   "outputs": [],
   "source": [
    "class Foo:\n",
    "    pass"
   ]
  },
  {
   "cell_type": "code",
   "execution_count": 9,
   "metadata": {},
   "outputs": [],
   "source": [
    "x = Foo()"
   ]
  },
  {
   "cell_type": "code",
   "execution_count": 10,
   "metadata": {},
   "outputs": [
    {
     "name": "stdout",
     "output_type": "stream",
     "text": [
      "True\n",
      "True\n",
      "True\n"
     ]
    }
   ],
   "source": [
    "# Always true.\n",
    "\n",
    "for obj in (n, d, x):\n",
    "    print(type(obj) is obj.__class__)"
   ]
  },
  {
   "attachments": {},
   "cell_type": "markdown",
   "metadata": {},
   "source": [
    "## Type and Class\n",
    "\n",
    "> In Python 3, all classes are new-style classes. \n",
    "> Thus, in Python 3 it is reasonable to refer to an object’s type and its class interchangeably.\n",
    "\n",
    "(Not so in Python 2, but I don't need Python 2.)\n",
    "\n",
    "---\n",
    "\n",
    "In Python, **everything is an object**.\n",
    "\n",
    "> Classes are objects as well.\n",
    "\n",
    "As a result, a *class* must have a *type*. \n",
    "\n",
    "What is the *type* of a *class*?\n",
    "\n",
    "(It's `type`.)"
   ]
  },
  {
   "cell_type": "code",
   "execution_count": 11,
   "metadata": {},
   "outputs": [],
   "source": [
    "class Foo:\n",
    "    pass"
   ]
  },
  {
   "cell_type": "code",
   "execution_count": 12,
   "metadata": {},
   "outputs": [],
   "source": [
    "x = Foo()"
   ]
  },
  {
   "cell_type": "code",
   "execution_count": 13,
   "metadata": {},
   "outputs": [
    {
     "data": {
      "text/plain": [
       "__main__.Foo"
      ]
     },
     "execution_count": 13,
     "metadata": {},
     "output_type": "execute_result"
    }
   ],
   "source": [
    "type(x)"
   ]
  },
  {
   "cell_type": "code",
   "execution_count": 14,
   "metadata": {},
   "outputs": [
    {
     "data": {
      "text/plain": [
       "type"
      ]
     },
     "execution_count": 14,
     "metadata": {},
     "output_type": "execute_result"
    }
   ],
   "source": [
    "type(Foo)  # Here."
   ]
  },
  {
   "cell_type": "code",
   "execution_count": 15,
   "metadata": {},
   "outputs": [
    {
     "name": "stdout",
     "output_type": "stream",
     "text": [
      "<class 'type'>\n",
      "<class 'type'>\n",
      "<class 'type'>\n",
      "<class 'type'>\n",
      "<class 'type'>\n"
     ]
    }
   ],
   "source": [
    "# The type of the built-in classes you are familiar with is also type:\n",
    "\n",
    "for t in int, float, dict, list, tuple:\n",
    "    print(type(t))"
   ]
  },
  {
   "cell_type": "code",
   "execution_count": 16,
   "metadata": {},
   "outputs": [
    {
     "data": {
      "text/plain": [
       "type"
      ]
     },
     "execution_count": 16,
     "metadata": {},
     "output_type": "execute_result"
    }
   ],
   "source": [
    "# For that matter, the type of type is type as well (yes, really):\n",
    "\n",
    "type(type)"
   ]
  },
  {
   "attachments": {},
   "cell_type": "markdown",
   "metadata": {},
   "source": [
    "> `type` is a **metaclass**, of which *classes* are *instances*.\n",
    "\n",
    "Just as an ordinary object is an instance of a class, **any class in Python 3 is an instance of the type metaclass**.\n",
    "\n",
    "In the above case:\n",
    "* `x` is an instance of *class* `Foo`.\n",
    "* `Foo` is an instance of the *type* metaclass.\n",
    "* `type` is also an instance of the `type` *metaclass*, so **it is an instance of itself** 🤯.\n",
    "\n",
    "![img](./class-chain.webp)"
   ]
  },
  {
   "attachments": {},
   "cell_type": "markdown",
   "metadata": {},
   "source": [
    "## Defining a Class Dynamically\n",
    "\n",
    "The built-in `type()` function, when passed one argument, returns the type of an object.\n",
    "\n",
    "For new-style classes, that is generally the same as the object’s `__class__` attribute:"
   ]
  },
  {
   "cell_type": "code",
   "execution_count": 17,
   "metadata": {},
   "outputs": [
    {
     "data": {
      "text/plain": [
       "int"
      ]
     },
     "execution_count": 17,
     "metadata": {},
     "output_type": "execute_result"
    }
   ],
   "source": [
    "type(3)"
   ]
  },
  {
   "cell_type": "code",
   "execution_count": 18,
   "metadata": {},
   "outputs": [
    {
     "data": {
      "text/plain": [
       "list"
      ]
     },
     "execution_count": 18,
     "metadata": {},
     "output_type": "execute_result"
    }
   ],
   "source": [
    "type(['foo', 'bar', 'baz'])"
   ]
  },
  {
   "cell_type": "code",
   "execution_count": 19,
   "metadata": {},
   "outputs": [
    {
     "data": {
      "text/plain": [
       "tuple"
      ]
     },
     "execution_count": 19,
     "metadata": {},
     "output_type": "execute_result"
    }
   ],
   "source": [
    "t = (1, 2, 3, 4, 5)\n",
    "type(t)"
   ]
  },
  {
   "cell_type": "code",
   "execution_count": 21,
   "metadata": {},
   "outputs": [
    {
     "data": {
      "text/plain": [
       "__main__.Foo"
      ]
     },
     "execution_count": 21,
     "metadata": {},
     "output_type": "execute_result"
    }
   ],
   "source": [
    "class Foo:\n",
    "    pass\n",
    "\n",
    "type(Foo())"
   ]
  },
  {
   "attachments": {},
   "cell_type": "markdown",
   "metadata": {},
   "source": [
    "❗ You can also call `type()` with three arguments - `type(<name>, <bases>, <dct>)`:\n",
    "\n",
    "* \\<name\\> specifies the class name. This becomes the `__name__` attribute of the class.\n",
    "* \\<bases\\> specifies a tuple of the base classes from which the class inherits. This becomes the `__bases__` attribute of the class.\n",
    "* \\<dct\\> specifies a namespace dictionary containing definitions for the class body. This becomes the `__dict__` attribute of the class.\n",
    "\n",
    "> Calling `type()` in this manner **creates a new instance of the type metaclass**. \n",
    ">\n",
    "> In other words, it **dynamically creates a new class**.\n",
    "\n",
    "---\n",
    "\n",
    "In each of the following examples, the top snippet defines a class dynamically with `type()`,\n",
    "while the snippet below it defines the class the usual way, with the `class` statement.\n",
    "\n",
    "In each case, the two snippets are functionally equivalent."
   ]
  },
  {
   "attachments": {},
   "cell_type": "markdown",
   "metadata": {},
   "source": [
    "#### Example 1\n",
    "\n",
    "In this first example, the `<bases>` and `<dct>` arguments passed to `type()` are both empty.\n",
    "\n",
    "No inheritance from any parent class is specified, and nothing is initially placed in the namespace dictionary. \n",
    "\n",
    "This is the simplest class definition possible:"
   ]
  },
  {
   "cell_type": "code",
   "execution_count": 22,
   "metadata": {},
   "outputs": [
    {
     "data": {
      "text/plain": [
       "<__main__.Foo at 0x7f07b17d1a60>"
      ]
     },
     "execution_count": 22,
     "metadata": {},
     "output_type": "execute_result"
    }
   ],
   "source": [
    "Foo = type('Foo', (), {})\n",
    "\n",
    "x = Foo()\n",
    "x"
   ]
  },
  {
   "cell_type": "code",
   "execution_count": 23,
   "metadata": {},
   "outputs": [
    {
     "data": {
      "text/plain": [
       "<__main__.Foo at 0x7f07b17d1670>"
      ]
     },
     "execution_count": 23,
     "metadata": {},
     "output_type": "execute_result"
    }
   ],
   "source": [
    "# Equivalently...\n",
    "\n",
    "class Foo:\n",
    "    pass\n",
    "\n",
    "x = Foo()\n",
    "x"
   ]
  },
  {
   "attachments": {},
   "cell_type": "markdown",
   "metadata": {},
   "source": [
    "#### Example 2\n",
    "\n",
    "Here, `<bases>` is a tuple with a single element `Foo`, specifying the parent class that `Bar` inherits from.\n",
    "\n",
    "An attribute, `attr`, is initially placed into the namespace dictionary:"
   ]
  },
  {
   "cell_type": "code",
   "execution_count": 25,
   "metadata": {},
   "outputs": [
    {
     "data": {
      "text/plain": [
       "100"
      ]
     },
     "execution_count": 25,
     "metadata": {},
     "output_type": "execute_result"
    }
   ],
   "source": [
    "Bar = type('Bar', (Foo,), dict(attr=100))\n",
    "\n",
    "x = Bar()\n",
    "x.attr  # type: ignore"
   ]
  },
  {
   "cell_type": "code",
   "execution_count": 26,
   "metadata": {},
   "outputs": [
    {
     "data": {
      "text/plain": [
       "__main__.Bar"
      ]
     },
     "execution_count": 26,
     "metadata": {},
     "output_type": "execute_result"
    }
   ],
   "source": [
    "x.__class__"
   ]
  },
  {
   "cell_type": "code",
   "execution_count": 27,
   "metadata": {},
   "outputs": [
    {
     "data": {
      "text/plain": [
       "(__main__.Foo,)"
      ]
     },
     "execution_count": 27,
     "metadata": {},
     "output_type": "execute_result"
    }
   ],
   "source": [
    "x.__class__.__bases__"
   ]
  },
  {
   "cell_type": "code",
   "execution_count": 28,
   "metadata": {},
   "outputs": [
    {
     "data": {
      "text/plain": [
       "100"
      ]
     },
     "execution_count": 28,
     "metadata": {},
     "output_type": "execute_result"
    }
   ],
   "source": [
    "# Equivalently...\n",
    "\n",
    "class Bar(Foo):\n",
    "    attr = 100\n",
    "\n",
    "x = Bar()\n",
    "x.attr"
   ]
  },
  {
   "cell_type": "code",
   "execution_count": 29,
   "metadata": {},
   "outputs": [
    {
     "data": {
      "text/plain": [
       "__main__.Bar"
      ]
     },
     "execution_count": 29,
     "metadata": {},
     "output_type": "execute_result"
    }
   ],
   "source": [
    "x.__class__"
   ]
  },
  {
   "cell_type": "code",
   "execution_count": 30,
   "metadata": {},
   "outputs": [
    {
     "data": {
      "text/plain": [
       "(__main__.Foo,)"
      ]
     },
     "execution_count": 30,
     "metadata": {},
     "output_type": "execute_result"
    }
   ],
   "source": [
    "x.__class__.__bases__"
   ]
  },
  {
   "attachments": {},
   "cell_type": "markdown",
   "metadata": {},
   "source": [
    "#### Example 3\n",
    "\n",
    "This time, `<bases>` is again empty.\n",
    "\n",
    "Two objects are placed into the namespace dictionary via the `<dct>` argument. \n",
    "\n",
    "The first is an attribute named `attr` and the second a *function* named `attr_val`, which becomes a method of the defined class:"
   ]
  },
  {
   "cell_type": "code",
   "execution_count": 31,
   "metadata": {},
   "outputs": [],
   "source": [
    "Foo = type(\n",
    "    'Foo',\n",
    "    (),\n",
    "    {\n",
    "        'attr': 100,\n",
    "        'attr_val': lambda x : x.attr\n",
    "    }\n",
    ")\n",
    "\n",
    "x = Foo()"
   ]
  },
  {
   "cell_type": "code",
   "execution_count": 33,
   "metadata": {},
   "outputs": [
    {
     "data": {
      "text/plain": [
       "100"
      ]
     },
     "execution_count": 33,
     "metadata": {},
     "output_type": "execute_result"
    }
   ],
   "source": [
    "x.attr # type: ignore"
   ]
  },
  {
   "cell_type": "code",
   "execution_count": 35,
   "metadata": {},
   "outputs": [
    {
     "data": {
      "text/plain": [
       "100"
      ]
     },
     "execution_count": 35,
     "metadata": {},
     "output_type": "execute_result"
    }
   ],
   "source": [
    "x.attr_val()  # type: ignore  # Our method."
   ]
  },
  {
   "cell_type": "code",
   "execution_count": 36,
   "metadata": {},
   "outputs": [],
   "source": [
    "# Equivalently...\n",
    "\n",
    "class Foo:\n",
    "    attr = 100\n",
    "    def attr_val(self):\n",
    "        return self.attr\n",
    "\n",
    "x = Foo()"
   ]
  },
  {
   "cell_type": "code",
   "execution_count": 37,
   "metadata": {},
   "outputs": [
    {
     "data": {
      "text/plain": [
       "100"
      ]
     },
     "execution_count": 37,
     "metadata": {},
     "output_type": "execute_result"
    }
   ],
   "source": [
    "x.attr"
   ]
  },
  {
   "cell_type": "code",
   "execution_count": 38,
   "metadata": {},
   "outputs": [
    {
     "data": {
      "text/plain": [
       "100"
      ]
     },
     "execution_count": 38,
     "metadata": {},
     "output_type": "execute_result"
    }
   ],
   "source": [
    "x.attr_val()"
   ]
  },
  {
   "attachments": {},
   "cell_type": "markdown",
   "metadata": {},
   "source": [
    "#### Example 4\n",
    "\n",
    "Only very simple functions can be defined with `lambda` in Python.\n",
    "\n",
    "In the following example, a slightly more complex function is defined externally\n",
    "then assigned to `attr_val` in the namespace dictionary via the name `f`:"
   ]
  },
  {
   "cell_type": "code",
   "execution_count": 39,
   "metadata": {},
   "outputs": [],
   "source": [
    "def f(obj):  # NOTE: `obj` here is `self`. \n",
    "    print('attr =', obj.attr)\n",
    "\n",
    "Foo = type(\n",
    "    'Foo',\n",
    "    (),\n",
    "    {\n",
    "        'attr': 100,\n",
    "        'attr_val': f\n",
    "    }\n",
    ")\n",
    "\n",
    "x = Foo()"
   ]
  },
  {
   "cell_type": "code",
   "execution_count": 40,
   "metadata": {},
   "outputs": [
    {
     "data": {
      "text/plain": [
       "100"
      ]
     },
     "execution_count": 40,
     "metadata": {},
     "output_type": "execute_result"
    }
   ],
   "source": [
    "x.attr  # type: ignore"
   ]
  },
  {
   "cell_type": "code",
   "execution_count": 41,
   "metadata": {},
   "outputs": [
    {
     "name": "stdout",
     "output_type": "stream",
     "text": [
      "attr = 100\n"
     ]
    }
   ],
   "source": [
    "x.attr_val()  # type: ignore"
   ]
  },
  {
   "cell_type": "code",
   "execution_count": 43,
   "metadata": {},
   "outputs": [],
   "source": [
    "# Equivalently...\n",
    "\n",
    "def f(obj):\n",
    "    print('attr =', obj.attr)\n",
    "\n",
    "class Foo:\n",
    "    attr = 100\n",
    "    attr_val = f\n",
    "\n",
    "x = Foo()"
   ]
  },
  {
   "cell_type": "code",
   "execution_count": 44,
   "metadata": {},
   "outputs": [
    {
     "data": {
      "text/plain": [
       "100"
      ]
     },
     "execution_count": 44,
     "metadata": {},
     "output_type": "execute_result"
    }
   ],
   "source": [
    "x.attr"
   ]
  },
  {
   "cell_type": "code",
   "execution_count": 45,
   "metadata": {},
   "outputs": [
    {
     "name": "stdout",
     "output_type": "stream",
     "text": [
      "attr = 100\n"
     ]
    }
   ],
   "source": [
    "x.attr_val()"
   ]
  },
  {
   "attachments": {},
   "cell_type": "markdown",
   "metadata": {},
   "source": [
    "## Custom Metaclasses\n",
    "\n",
    "**The instance-creation workflow**\n",
    "\n",
    "Consider\n",
    "```python\n",
    "class Foo:\n",
    "    pass\n",
    "\n",
    "f = Foo()\n",
    "```\n",
    "\n",
    "The expression `Foo()` creates a new *instance* of *class* `Foo`.\n",
    "\n",
    "When the interpreter encounters `Foo()`, the following occurs:\n",
    "* The `__call__()` method of `Foo`'s **parent class** is called. Since `Foo` is a standard new-style class, \n",
    "its parent class is the **type metaclass**, so `type`'s `__call__()` method is invoked.\n",
    "* [❗] That `__call__()` method in turn invokes the following*:\n",
    "    * `__new__()`\n",
    "    * `__init__()`\n",
    "\n",
    "\\* If `Foo` does not define `__new__()` and `__init__()`, default methods are inherited from `Foo`'s ancestry.\n",
    "But if `Foo` does define these methods, they override those from the ancestry,\n",
    "which *allows for customized behavior when instantiating `Foo`*.\n",
    "\n",
    "---\n",
    "\n",
    "In the following, a custom method called `new()` is defined and assigned as the `__new__()` method for `Foo`:\n",
    "\n",
    "This modifies the instantiation behavior of class `Foo`:\n",
    "each time an instance of `Foo` is created, by default it is initialized with an attribute called `attr`,\n",
    "which has a value of `100`. \n",
    "\n",
    "Code like this would more usually appear in the `__init__()` method and not typically in `__new__()`. \n",
    "This example is contrived for demonstration purposes."
   ]
  },
  {
   "cell_type": "code",
   "execution_count": 46,
   "metadata": {},
   "outputs": [],
   "source": [
    "def new(cls):\n",
    "    x = object.__new__(cls)  \n",
    "    # ^ NOTE this line. Not really explained in the tutorial. \n",
    "    # Calling the __new__ method of the object base class (object is base of everything).\n",
    "    x.attr = 100\n",
    "    return x\n",
    "\n",
    "Foo.__new__ = new"
   ]
  },
  {
   "cell_type": "code",
   "execution_count": 47,
   "metadata": {},
   "outputs": [
    {
     "data": {
      "text/plain": [
       "100"
      ]
     },
     "execution_count": 47,
     "metadata": {},
     "output_type": "execute_result"
    }
   ],
   "source": [
    "f = Foo()\n",
    "f.attr"
   ]
  },
  {
   "cell_type": "code",
   "execution_count": 48,
   "metadata": {},
   "outputs": [
    {
     "data": {
      "text/plain": [
       "100"
      ]
     },
     "execution_count": 48,
     "metadata": {},
     "output_type": "execute_result"
    }
   ],
   "source": [
    "g = Foo()\n",
    "g.attr"
   ]
  },
  {
   "attachments": {},
   "cell_type": "markdown",
   "metadata": {},
   "source": [
    "Now, as has already been reiterated, classes are objects too.\n",
    "\n",
    "Suppose you wanted to similarly customize instantiation behavior when creating a class like `Foo`.\n",
    "\n",
    "If you were to follow the pattern above, you’d again define a custom method and assign it as the `__new__()` method for\n",
    "the class of which `Foo` is an instance.\n",
    "\n",
    "`Foo` is an instance of the `type` metaclass, so the code looks something like this:"
   ]
  },
  {
   "cell_type": "code",
   "execution_count": 49,
   "metadata": {},
   "outputs": [
    {
     "ename": "TypeError",
     "evalue": "can't set attributes of built-in/extension type 'type'",
     "output_type": "error",
     "traceback": [
      "\u001b[0;31m---------------------------------------------------------------------------\u001b[0m",
      "\u001b[0;31mTypeError\u001b[0m                                 Traceback (most recent call last)",
      "Cell \u001b[0;32mIn[49], line 8\u001b[0m\n\u001b[1;32m      5\u001b[0m     x\u001b[39m.\u001b[39mattr \u001b[39m=\u001b[39m \u001b[39m100\u001b[39m\n\u001b[1;32m      6\u001b[0m     \u001b[39mreturn\u001b[39;00m x\n\u001b[0;32m----> 8\u001b[0m \u001b[39mtype\u001b[39m\u001b[39m.\u001b[39m\u001b[39m__new__\u001b[39m \u001b[39m=\u001b[39m new\n",
      "\u001b[0;31mTypeError\u001b[0m: can't set attributes of built-in/extension type 'type'"
     ]
    }
   ],
   "source": [
    "# Spoiler alert:  This doesn't work!\n",
    "\n",
    "def new(cls):\n",
    "    x = type.__new__(cls)\n",
    "    x.attr = 100\n",
    "    return x\n",
    "\n",
    "type.__new__ = new"
   ]
  },
  {
   "attachments": {},
   "cell_type": "markdown",
   "metadata": {},
   "source": [
    "Except, as you can see, you can’t reassign the `__new__()` method of the `type` metaclass. Python doesn’t allow it.\n",
    "\n",
    "This is probably just as well. type is the metaclass from which all new-style classes are derived.\n",
    "You really shouldn’t be mucking around with it anyway.\n",
    "But then what recourse is there, if you want to customize instantiation of a class?\n",
    "\n",
    "[❗] One possible solution is a **custom metaclass** [❗]\n",
    "\n",
    "Essentially, instead of mucking around with the `type` metaclass,\n",
    "you can *define your own metaclass, which derives from `type`*, and then you can muck around with that instead.\n",
    "\n",
    "The first step is to define a metaclass that derives from `type`, as follows:"
   ]
  },
  {
   "cell_type": "code",
   "execution_count": 50,
   "metadata": {},
   "outputs": [],
   "source": [
    "class Meta(type):  # Custom metaclass Meta that inherits the metaclass type.\n",
    "    def __new__(cls, name, bases, dct):  # NOTE the full signature of __new__() here.\n",
    "        x = super().__new__(cls, name, bases, dct)\n",
    "        x.attr = 100  # type: ignore\n",
    "        return x"
   ]
  },
  {
   "attachments": {},
   "cell_type": "markdown",
   "metadata": {},
   "source": [
    "The definition header class `Meta(type)`: specifies that `Meta` derives from `type`.\n",
    "Since `type` is a metaclass, that makes `Meta` a metaclass as well.\n",
    "\n",
    "Note that a custom `__new__()` method has been defined for `Meta`.\n",
    "It wasn’t possible to do that to the type metaclass directly. The `__new__()` method does the following:\n",
    "* Delegates via `super()` to the `__new__()` method of the parent metaclass (`type`) to actually create a new class\n",
    "* Assigns the custom attribute `attr` to the class, with a value of `100`\n",
    "* Returns the newly created class\n",
    "\n",
    "Now the other half of the voodoo: Define a new class `Foo` and **specify that its metaclass is the custom metaclass `Meta`**,\n",
    "rather than the standard metaclass type.\n",
    "\n",
    "This is done using the **`metaclass` keyword** in the class definition as follows:"
   ]
  },
  {
   "cell_type": "code",
   "execution_count": 52,
   "metadata": {},
   "outputs": [
    {
     "data": {
      "text/plain": [
       "100"
      ]
     },
     "execution_count": 52,
     "metadata": {},
     "output_type": "execute_result"
    }
   ],
   "source": [
    "class Foo(metaclass=Meta):\n",
    "    pass\n",
    "\n",
    "Foo.attr  # type: ignore"
   ]
  },
  {
   "attachments": {},
   "cell_type": "markdown",
   "metadata": {},
   "source": [
    "Voila!\n",
    "\n",
    "`Foo` has picked up the `attr` attribute automatically from the `Meta` metaclass.\n",
    "\n",
    "Of course, any other classes you define similarly will do likewise:"
   ]
  },
  {
   "cell_type": "code",
   "execution_count": 54,
   "metadata": {},
   "outputs": [
    {
     "data": {
      "text/plain": [
       "(100, 100)"
      ]
     },
     "execution_count": 54,
     "metadata": {},
     "output_type": "execute_result"
    }
   ],
   "source": [
    "class Bar(metaclass=Meta):\n",
    "    pass\n",
    "\n",
    "class Qux(metaclass=Meta):\n",
    "    pass\n",
    "\n",
    "Bar.attr, Qux.attr  # type: ignore"
   ]
  },
  {
   "attachments": {},
   "cell_type": "markdown",
   "metadata": {},
   "source": [
    "> In the same way that a class functions as a template for the creation of objects, a metaclass functions as a template for the creation of classes. \n",
    ">\n",
    "> Metaclasses are sometimes referred to as *class factories*.\n",
    "\n",
    "Compare the following two examples:\n",
    "\n",
    "**Object factory (class)**"
   ]
  },
  {
   "cell_type": "code",
   "execution_count": 55,
   "metadata": {},
   "outputs": [
    {
     "data": {
      "text/plain": [
       "100"
      ]
     },
     "execution_count": 55,
     "metadata": {},
     "output_type": "execute_result"
    }
   ],
   "source": [
    "class Foo:\n",
    "    def __init__(self):\n",
    "        self.attr = 100\n",
    "\n",
    "x = Foo()\n",
    "x.attr"
   ]
  },
  {
   "cell_type": "code",
   "execution_count": 56,
   "metadata": {},
   "outputs": [
    {
     "data": {
      "text/plain": [
       "100"
      ]
     },
     "execution_count": 56,
     "metadata": {},
     "output_type": "execute_result"
    }
   ],
   "source": [
    "y = Foo()\n",
    "y.attr"
   ]
  },
  {
   "cell_type": "code",
   "execution_count": 57,
   "metadata": {},
   "outputs": [
    {
     "data": {
      "text/plain": [
       "100"
      ]
     },
     "execution_count": 57,
     "metadata": {},
     "output_type": "execute_result"
    }
   ],
   "source": [
    "z = Foo()\n",
    "z.attr"
   ]
  },
  {
   "attachments": {},
   "cell_type": "markdown",
   "metadata": {},
   "source": [
    "**Class factory (metaclass)**\n",
    "\n",
    "⚠️ A very good example for understanding."
   ]
  },
  {
   "cell_type": "code",
   "execution_count": 58,
   "metadata": {},
   "outputs": [
    {
     "data": {
      "text/plain": [
       "100"
      ]
     },
     "execution_count": 58,
     "metadata": {},
     "output_type": "execute_result"
    }
   ],
   "source": [
    "class Meta(type):\n",
    "    def __init__(\n",
    "        cls, name, bases, dct\n",
    "    ):\n",
    "        cls.attr = 100\n",
    "\n",
    "class X(metaclass=Meta):\n",
    "    pass\n",
    "\n",
    "X.attr"
   ]
  },
  {
   "cell_type": "code",
   "execution_count": 59,
   "metadata": {},
   "outputs": [
    {
     "data": {
      "text/plain": [
       "100"
      ]
     },
     "execution_count": 59,
     "metadata": {},
     "output_type": "execute_result"
    }
   ],
   "source": [
    "class Y(metaclass=Meta):\n",
    "    pass\n",
    "\n",
    "Y.attr"
   ]
  },
  {
   "cell_type": "code",
   "execution_count": 60,
   "metadata": {},
   "outputs": [
    {
     "data": {
      "text/plain": [
       "100"
      ]
     },
     "execution_count": 60,
     "metadata": {},
     "output_type": "execute_result"
    }
   ],
   "source": [
    "class Z(metaclass=Meta):\n",
    "    pass\n",
    "\n",
    "Z.attr"
   ]
  },
  {
   "attachments": {},
   "cell_type": "markdown",
   "metadata": {},
   "source": [
    "## Is This Really Necessary?\n",
    "\n",
    "As simple as the above class factory example is, it is the essence of how metaclasses work. They allow customization of class instantiation.\n",
    "\n",
    "Still, this is a lot of fuss just to bestow the custom attribute attr on each newly created class. Do you really need a metaclass just for that?\n",
    "\n",
    "In Python, there are at least a couple other ways in which effectively the same thing can be accomplished.\n",
    "\n",
    "**Simple Inheritance:**"
   ]
  },
  {
   "cell_type": "code",
   "execution_count": 61,
   "metadata": {},
   "outputs": [],
   "source": [
    "class Base:\n",
    "    attr = 100\n",
    "\n",
    "\n",
    "class X(Base):\n",
    "    pass\n",
    "\n",
    "\n",
    "class Y(Base):\n",
    "    pass\n",
    "\n",
    "\n",
    "class Z(Base):\n",
    "    pass"
   ]
  },
  {
   "cell_type": "code",
   "execution_count": 62,
   "metadata": {},
   "outputs": [
    {
     "data": {
      "text/plain": [
       "100"
      ]
     },
     "execution_count": 62,
     "metadata": {},
     "output_type": "execute_result"
    }
   ],
   "source": [
    "X.attr"
   ]
  },
  {
   "cell_type": "code",
   "execution_count": 63,
   "metadata": {},
   "outputs": [
    {
     "data": {
      "text/plain": [
       "100"
      ]
     },
     "execution_count": 63,
     "metadata": {},
     "output_type": "execute_result"
    }
   ],
   "source": [
    "Y.attr"
   ]
  },
  {
   "cell_type": "code",
   "execution_count": 64,
   "metadata": {},
   "outputs": [
    {
     "data": {
      "text/plain": [
       "100"
      ]
     },
     "execution_count": 64,
     "metadata": {},
     "output_type": "execute_result"
    }
   ],
   "source": [
    "Z.attr"
   ]
  },
  {
   "attachments": {},
   "cell_type": "markdown",
   "metadata": {},
   "source": [
    "**Class Decorator:**"
   ]
  },
  {
   "cell_type": "code",
   "execution_count": 65,
   "metadata": {},
   "outputs": [],
   "source": [
    "def decorator(cls):\n",
    "    class NewClass(cls):\n",
    "        attr = 100\n",
    "    return NewClass\n",
    "\n",
    "@decorator\n",
    "class X:\n",
    "    pass\n",
    "\n",
    "@decorator\n",
    "class Y:\n",
    "    pass\n",
    "\n",
    "@decorator\n",
    "class Z:\n",
    "    pass"
   ]
  },
  {
   "cell_type": "code",
   "execution_count": 66,
   "metadata": {},
   "outputs": [
    {
     "data": {
      "text/plain": [
       "100"
      ]
     },
     "execution_count": 66,
     "metadata": {},
     "output_type": "execute_result"
    }
   ],
   "source": [
    "X.attr"
   ]
  },
  {
   "cell_type": "code",
   "execution_count": 67,
   "metadata": {},
   "outputs": [
    {
     "data": {
      "text/plain": [
       "100"
      ]
     },
     "execution_count": 67,
     "metadata": {},
     "output_type": "execute_result"
    }
   ],
   "source": [
    "Y.attr"
   ]
  },
  {
   "cell_type": "code",
   "execution_count": 68,
   "metadata": {},
   "outputs": [
    {
     "data": {
      "text/plain": [
       "100"
      ]
     },
     "execution_count": 68,
     "metadata": {},
     "output_type": "execute_result"
    }
   ],
   "source": [
    "Z.attr"
   ]
  },
  {
   "cell_type": "code",
   "execution_count": null,
   "metadata": {},
   "outputs": [],
   "source": []
  }
 ],
 "metadata": {
  "kernelspec": {
   "display_name": "learn_py38_python-simplified-parameters-arguments",
   "language": "python",
   "name": "python3"
  },
  "language_info": {
   "codemirror_mode": {
    "name": "ipython",
    "version": 3
   },
   "file_extension": ".py",
   "mimetype": "text/x-python",
   "name": "python",
   "nbconvert_exporter": "python",
   "pygments_lexer": "ipython3",
   "version": "3.8.15"
  },
  "orig_nbformat": 4,
  "vscode": {
   "interpreter": {
    "hash": "05220fd3af6455d2a9aed59db8db54e7c3d2f4fe6d2e5ad27219afa1a16ae45d"
   }
  }
 },
 "nbformat": 4,
 "nbformat_minor": 2
}
