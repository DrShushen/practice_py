{
 "cells": [
  {
   "attachments": {},
   "cell_type": "markdown",
   "metadata": {},
   "source": [
    "## Informal Interfaces"
   ]
  },
  {
   "attachments": {},
   "cell_type": "markdown",
   "metadata": {},
   "source": [
    "### Introduction"
   ]
  },
  {
   "cell_type": "code",
   "execution_count": 1,
   "metadata": {},
   "outputs": [],
   "source": [
    "# Example of an *informal* interface\n",
    "\n",
    "# Interface:\n",
    "class InformalParserInterface:\n",
    "    def load_data_source(self, path: str, file_name: str) -> str:\n",
    "        \"\"\"Load in the file for extracting text.\"\"\"\n",
    "        ...\n",
    "\n",
    "    def extract_text(self, full_file_name: str) -> dict:\n",
    "        \"\"\"Extract text from the currently loaded file.\"\"\"\n",
    "        ...\n",
    "\n",
    "\n",
    "# Concrete implementations:\n",
    "class PdfParser(InformalParserInterface):\n",
    "    \"\"\"Extract text from a PDF\"\"\"\n",
    "\n",
    "    def load_data_source(self, path: str, file_name: str) -> str:\n",
    "        \"\"\"Overrides InformalParserInterface.load_data_source()\"\"\"\n",
    "        return \"PdfParser.load_data_source\"\n",
    "\n",
    "    def extract_text(self, full_file_path: str) -> dict:\n",
    "        \"\"\"Overrides InformalParserInterface.extract_text()\"\"\"\n",
    "        return {\"PdfParser.extract_text\": 0}\n",
    "\n",
    "\n",
    "class EmlParser(InformalParserInterface):\n",
    "    \"\"\"Extract text from an email\"\"\"\n",
    "\n",
    "    def load_data_source(self, path: str, file_name: str) -> str:\n",
    "        \"\"\"Overrides InformalParserInterface.load_data_source()\"\"\"\n",
    "        return \"EmlParser.load_data_source\"\n",
    "\n",
    "    def extract_text_from_email(self, full_file_path: str) -> dict:\n",
    "        \"\"\"A method defined only in EmlParser.\n",
    "        Does not override InformalParserInterface.extract_text()\n",
    "        \"\"\"\n",
    "        return {\"EmlParser.extract_text_from_email\": 0}\n",
    "\n",
    "    # NOTE: doesn't implement `extract_text`, violates interface!"
   ]
  },
  {
   "cell_type": "code",
   "execution_count": 2,
   "metadata": {},
   "outputs": [
    {
     "name": "stdout",
     "output_type": "stream",
     "text": [
      "True\n",
      "True\n"
     ]
    }
   ],
   "source": [
    "print(issubclass(PdfParser, InformalParserInterface))\n",
    "print(issubclass(EmlParser, InformalParserInterface))\n",
    "\n",
    "# Both true - this is a problem as EmlParser violates it.\n",
    "# Hence informal interfaces are usually a bad idea."
   ]
  },
  {
   "cell_type": "code",
   "execution_count": 3,
   "metadata": {},
   "outputs": [
    {
     "name": "stdout",
     "output_type": "stream",
     "text": [
      "(<class '__main__.PdfParser'>, <class '__main__.InformalParserInterface'>, <class 'object'>)\n",
      "(<class '__main__.EmlParser'>, <class '__main__.InformalParserInterface'>, <class 'object'>)\n"
     ]
    }
   ],
   "source": [
    "print(PdfParser.__mro__)\n",
    "print(EmlParser.__mro__)"
   ]
  },
  {
   "attachments": {},
   "cell_type": "markdown",
   "metadata": {},
   "source": [
    "### Using Metaclasses\n",
    "\n",
    "* Helps understand the idea behind ABC"
   ]
  },
  {
   "cell_type": "code",
   "execution_count": 4,
   "metadata": {},
   "outputs": [],
   "source": [
    "# Metaclass that defines __instancecheck__ and __subclasscheck__.\n",
    "class ParserMeta(type):\n",
    "    \"\"\"A Parser metaclass that will be used for parser class creation.\"\"\"\n",
    "\n",
    "    def __instancecheck__(cls, instance):\n",
    "        return cls.__subclasscheck__(type(instance))\n",
    "\n",
    "    def __subclasscheck__(cls, subclass):\n",
    "        return (\n",
    "            hasattr(subclass, \"load_data_source\")\n",
    "            and callable(subclass.load_data_source)\n",
    "            and hasattr(subclass, \"extract_text\")\n",
    "            and callable(subclass.extract_text)\n",
    "        )\n",
    "\n",
    "\n",
    "# Interface class that uses our metaclass.\n",
    "class UpdatedInformalParserInterface(metaclass=ParserMeta):\n",
    "    \"\"\"This interface is used for concrete classes to inherit from.\n",
    "    There is no need to define the ParserMeta methods as any class\n",
    "    as they are implicitly made available via .__subclasscheck__().\n",
    "    \"\"\"\n",
    "\n",
    "    pass\n",
    "\n",
    "\n",
    "# Concrete implementations:\n",
    "class PdfParserNew:\n",
    "    \"\"\"Extract text from a PDF.\"\"\"\n",
    "\n",
    "    def load_data_source(self, path: str, file_name: str) -> str:\n",
    "        \"\"\"Overrides UpdatedInformalParserInterface.load_data_source()\"\"\"\n",
    "        return \"PdfParserNew.load_data_source\"\n",
    "\n",
    "    def extract_text(self, full_file_path: str) -> dict:\n",
    "        \"\"\"Overrides UpdatedInformalParserInterface.extract_text()\"\"\"\n",
    "        return {\"PdfParserNew.extract_text\": 0}\n",
    "\n",
    "\n",
    "class EmlParserNew:\n",
    "    \"\"\"Extract text from an email.\"\"\"\n",
    "\n",
    "    def load_data_source(self, path: str, file_name: str) -> str:\n",
    "        \"\"\"Overrides UpdatedInformalParserInterface.load_data_source()\"\"\"\n",
    "        return \"EmlParserNew.load_data_source\"\n",
    "\n",
    "    def extract_text_from_email(self, full_file_path: str) -> dict:\n",
    "        \"\"\"A method defined only in EmlParser.\n",
    "        Does not override UpdatedInformalParserInterface.extract_text()\n",
    "        \"\"\"\n",
    "        return {\"EmlParserNew.extract_text_from_email\": 0}"
   ]
  },
  {
   "attachments": {},
   "cell_type": "markdown",
   "metadata": {},
   "source": [
    "By using a metaclass, you **don’t need to explicitly define the subclasses**.\n",
    "\n",
    "Instead, the subclass must define the required methods. If it doesn’t, then issubclass(EmlParserNew, UpdatedInformalParserInterface) will return False"
   ]
  },
  {
   "cell_type": "code",
   "execution_count": 5,
   "metadata": {},
   "outputs": [
    {
     "name": "stdout",
     "output_type": "stream",
     "text": [
      "True\n"
     ]
    },
    {
     "data": {
      "text/plain": [
       "False"
      ]
     },
     "execution_count": 5,
     "metadata": {},
     "output_type": "execute_result"
    }
   ],
   "source": [
    "print(issubclass(PdfParserNew, UpdatedInformalParserInterface))\n",
    "print(issubclass(EmlParserNew, UpdatedInformalParserInterface))"
   ]
  },
  {
   "cell_type": "code",
   "execution_count": 6,
   "metadata": {},
   "outputs": [
    {
     "name": "stdout",
     "output_type": "stream",
     "text": [
      "(<class '__main__.PdfParserNew'>, <class 'object'>)\n",
      "(<class '__main__.EmlParserNew'>, <class 'object'>)\n"
     ]
    }
   ],
   "source": [
    "print(PdfParserNew.__mro__)\n",
    "print(EmlParserNew.__mro__)"
   ]
  },
  {
   "attachments": {},
   "cell_type": "markdown",
   "metadata": {},
   "source": [
    "`UpdatedInformalParserInterface` is a superclass of `PdfParserNew`, but it doesn’t appear in the MRO.\n",
    "\n",
    "This unusual behavior is caused by the fact that `UpdatedInformalParserInterface` is a **virtual base class** of `PdfParserNew`."
   ]
  },
  {
   "attachments": {},
   "cell_type": "markdown",
   "metadata": {},
   "source": [
    "### Using Virtual Base Classes"
   ]
  },
  {
   "attachments": {},
   "cell_type": "markdown",
   "metadata": {},
   "source": [
    "#### Standard base class vs virtual base class:\n",
    "The key difference between virtual and standard subclasses is that virtual base classes use the .__subclasscheck__() dunder method to implicitly check if a class is a virtual subclass of the superclass. Additionally, virtual base classes don’t appear in the subclass MRO."
   ]
  },
  {
   "cell_type": "code",
   "execution_count": 8,
   "metadata": {},
   "outputs": [],
   "source": [
    "# Setup for creating your own virtual base classes.\n",
    "\n",
    "# 1. Metaclass.\n",
    "class PersonMeta(type):\n",
    "    \"\"\"A person metaclass\"\"\"\n",
    "\n",
    "    def __instancecheck__(cls, instance):\n",
    "        return cls.__subclasscheck__(type(instance))\n",
    "\n",
    "    def __subclasscheck__(cls, subclass):\n",
    "        return (\n",
    "            hasattr(subclass, \"name\")\n",
    "            and callable(subclass.name)\n",
    "            and hasattr(subclass, \"age\")\n",
    "            and callable(subclass.age)\n",
    "        )\n",
    "\n",
    "\n",
    "# 2. Superclass.\n",
    "class PersonSuper:\n",
    "    \"\"\"A person superclass\"\"\"\n",
    "\n",
    "    def name(self) -> str:\n",
    "        ...\n",
    "\n",
    "    def age(self) -> int:\n",
    "        ...\n",
    "\n",
    "\n",
    "# 3. Interface (which uses our metaclass).\n",
    "class Person(metaclass=PersonMeta):\n",
    "    \"\"\"Person interface built from PersonMeta metaclass.\"\"\"\n",
    "\n",
    "    pass"
   ]
  },
  {
   "cell_type": "code",
   "execution_count": 10,
   "metadata": {},
   "outputs": [],
   "source": [
    "# Inheriting subclasses\n",
    "class Employee(PersonSuper):\n",
    "    \"\"\"Inherits from PersonSuper\n",
    "    PersonSuper will appear in Employee.__mro__\n",
    "    \"\"\"\n",
    "\n",
    "    pass\n",
    "\n",
    "\n",
    "class Friend:\n",
    "    \"\"\"Built implicitly from Person\n",
    "    Friend is a virtual subclass of Person since\n",
    "    both required methods exist.\n",
    "    Person not in Friend.__mro__\n",
    "    \"\"\"\n",
    "\n",
    "    def name(self):\n",
    "        pass\n",
    "\n",
    "    def age(self):\n",
    "        pass"
   ]
  },
  {
   "attachments": {},
   "cell_type": "markdown",
   "metadata": {},
   "source": [
    "Although `Friend` does not explicitly inherit from `Person`, it implements `.name()` and `.age()`, so `Person` becomes a **virtual base class** of `Friend`. When you run `issubclass(Friend, Person)` it should return `True`, meaning that `Friend` is a subclass of `Person`.\n",
    "\n",
    "The following UML diagram shows what happens when you call `issubclass()` on the `Friend` class:\n",
    "\n",
    "![img](./virtual-base-class.webp)"
   ]
  },
  {
   "cell_type": "code",
   "execution_count": 13,
   "metadata": {},
   "outputs": [
    {
     "data": {
      "text/plain": [
       "True"
      ]
     },
     "execution_count": 13,
     "metadata": {},
     "output_type": "execute_result"
    }
   ],
   "source": [
    "# Use of __instancecheck__ shown below.\n",
    "\n",
    "employee = Employee()\n",
    "isinstance(employee, Person)"
   ]
  },
  {
   "cell_type": "code",
   "execution_count": 12,
   "metadata": {},
   "outputs": [
    {
     "data": {
      "text/plain": [
       "True"
      ]
     },
     "execution_count": 12,
     "metadata": {},
     "output_type": "execute_result"
    }
   ],
   "source": [
    "friend = Friend()\n",
    "isinstance(friend, Person)"
   ]
  },
  {
   "attachments": {},
   "cell_type": "markdown",
   "metadata": {},
   "source": [
    "## Formal Interfaces"
   ]
  },
  {
   "attachments": {},
   "cell_type": "markdown",
   "metadata": {},
   "source": [
    "### Using abc.ABCMeta"
   ]
  },
  {
   "attachments": {},
   "cell_type": "markdown",
   "metadata": {},
   "source": [
    "#### Approach 1: Using `Using .__subclasshook__()`\n",
    "\n",
    "Compared to the informal interface approach above:\n",
    "* Rather than create your own metaclass, you’ll use `abc.ABCMeta` as the metaclass.\n",
    "* Then, you’ll overwrite `.__subclasshook__()` in place of `.__instancecheck__()` and `.__subclasscheck__()`, as it creates a more reliable implementation of these dunder methods."
   ]
  },
  {
   "cell_type": "code",
   "execution_count": 14,
   "metadata": {},
   "outputs": [],
   "source": [
    "import abc\n",
    "\n",
    "\n",
    "class FormalParserInterface(metaclass=abc.ABCMeta):  # 1. Set abc.ABCMeta as the metaclass.\n",
    "    @classmethod  # Note that this needs @classmethod decorator.\n",
    "    def __subclasshook__(cls, subclass):  # 2. Override __subclasshook__ with your interface \"definition\".\n",
    "        return (\n",
    "            hasattr(subclass, \"load_data_source\")\n",
    "            and callable(subclass.load_data_source)\n",
    "            and hasattr(subclass, \"extract_text\")\n",
    "            and callable(subclass.extract_text)\n",
    "        )\n",
    "\n",
    "\n",
    "class PdfParserNew:\n",
    "    \"\"\"Extract text from a PDF.\"\"\"\n",
    "\n",
    "    def load_data_source(self, path: str, file_name: str) -> str:\n",
    "        \"\"\"Overrides FormalParserInterface.load_data_source()\"\"\"\n",
    "        return \"PdfParserNew.load_data_source\"\n",
    "\n",
    "    def extract_text(self, full_file_path: str) -> dict:\n",
    "        \"\"\"Overrides FormalParserInterface.extract_text()\"\"\"\n",
    "        return {\"PdfParserNew.extract_text\": 0}\n",
    "\n",
    "\n",
    "class EmlParserNew:\n",
    "    \"\"\"Extract text from an email.\"\"\"\n",
    "\n",
    "    def load_data_source(self, path: str, file_name: str) -> str:\n",
    "        \"\"\"Overrides FormalParserInterface.load_data_source()\"\"\"\n",
    "        return \"EmlParserNew.load_data_source\"\n",
    "\n",
    "    def extract_text_from_email(self, full_file_path: str) -> dict:\n",
    "        \"\"\"A method defined only in EmlParser.\n",
    "        Does not override FormalParserInterface.extract_text()\n",
    "        \"\"\"\n",
    "        return {\"EmlParserNew.extract_text_from_email\": 0}"
   ]
  },
  {
   "cell_type": "code",
   "execution_count": 16,
   "metadata": {},
   "outputs": [
    {
     "name": "stdout",
     "output_type": "stream",
     "text": [
      "True\n",
      "False\n"
     ]
    }
   ],
   "source": [
    "print(issubclass(PdfParserNew, FormalParserInterface))\n",
    "print(issubclass(EmlParserNew, FormalParserInterface))\n",
    "\n",
    "# Works as expected."
   ]
  },
  {
   "attachments": {},
   "cell_type": "markdown",
   "metadata": {},
   "source": [
    "#### Using `abc` to Register a Virtual Subclass\n",
    "\n",
    "Once you’ve imported the `abc` module, you can directly **register a virtual subclass** by using the `.register()` metamethod.\n",
    "\n",
    "In the next example, you register the interface `Double` as a virtual base class of the built-in `__float__` class:"
   ]
  },
  {
   "cell_type": "code",
   "execution_count": 20,
   "metadata": {},
   "outputs": [],
   "source": [
    "class Double(metaclass=abc.ABCMeta):  # 1. Set abc.ABCMeta as the metaclass.\n",
    "    \"\"\"Double precision floating point number.\"\"\"\n",
    "\n",
    "    pass\n",
    "\n",
    "\n",
    "Double.register(float);  # 2. Directly register.\n",
    "\n",
    "# NOTE:\n",
    "# So here, `Double` becomes a virtual base class of `float`.\n",
    "# `Double` --[virtual base class of]--> `float`\n",
    "# ⚠️ Don't be confused, it's NOT the other way round! ⚠️"
   ]
  },
  {
   "cell_type": "code",
   "execution_count": 21,
   "metadata": {},
   "outputs": [
    {
     "data": {
      "text/plain": [
       "True"
      ]
     },
     "execution_count": 21,
     "metadata": {},
     "output_type": "execute_result"
    }
   ],
   "source": [
    "issubclass(float, Double)"
   ]
  },
  {
   "cell_type": "code",
   "execution_count": 22,
   "metadata": {},
   "outputs": [
    {
     "data": {
      "text/plain": [
       "True"
      ]
     },
     "execution_count": 22,
     "metadata": {},
     "output_type": "execute_result"
    }
   ],
   "source": [
    "isinstance(1.2345, Double)"
   ]
  },
  {
   "cell_type": "code",
   "execution_count": 23,
   "metadata": {},
   "outputs": [
    {
     "data": {
      "text/plain": [
       "False"
      ]
     },
     "execution_count": 23,
     "metadata": {},
     "output_type": "execute_result"
    }
   ],
   "source": [
    "# But not:\n",
    "issubclass(Double, float)"
   ]
  },
  {
   "attachments": {},
   "cell_type": "markdown",
   "metadata": {},
   "source": [
    "You can also **use it as class decorator** to set the decorated class as a virtual subclass:"
   ]
  },
  {
   "cell_type": "code",
   "execution_count": 24,
   "metadata": {},
   "outputs": [
    {
     "name": "stdout",
     "output_type": "stream",
     "text": [
      "True\n"
     ]
    }
   ],
   "source": [
    "@Double.register  # This decorator here. Can use ONCE RE\n",
    "class Double64:\n",
    "    \"\"\"A 64-bit double-precision floating-point number.\"\"\"\n",
    "\n",
    "    pass\n",
    "\n",
    "\n",
    "print(issubclass(Double64, Double))  # True"
   ]
  },
  {
   "attachments": {},
   "cell_type": "markdown",
   "metadata": {},
   "source": [
    "#### Using Subclass Detection With Registration\n",
    "\n",
    "⚠️ You must be careful when you’re combining `.__subclasshook__()` with `.register()`, as `.__subclasshook__()` takes precedence over virtual subclass registration. \n",
    "\n",
    "To ensure that the registered virtual subclasses are taken into consideration, **you must add `NotImplemented` to the `.__subclasshook__()` dunder method**. \n",
    "\n",
    "The `FormalParserInterface` would be updated to the following:"
   ]
  },
  {
   "cell_type": "code",
   "execution_count": 27,
   "metadata": {},
   "outputs": [
    {
     "name": "stdout",
     "output_type": "stream",
     "text": [
      "True\n",
      "True\n"
     ]
    }
   ],
   "source": [
    "class FormalParserInterface(metaclass=abc.ABCMeta):\n",
    "    @classmethod\n",
    "    def __subclasshook__(cls, subclass):\n",
    "        return (\n",
    "            hasattr(subclass, \"load_data_source\")\n",
    "            and callable(subclass.load_data_source)\n",
    "            and hasattr(subclass, \"extract_text\")\n",
    "            and callable(subclass.extract_text)\n",
    "            or NotImplemented  # For the `.register()` approach to work, must include `or NotImplemented`.\n",
    "        )\n",
    "\n",
    "\n",
    "class PdfParserNew:\n",
    "    def load_data_source(self, path: str, file_name: str) -> str:\n",
    "        \"\"\"Overrides FormalParserInterface.load_data_source()\"\"\"\n",
    "        return \"PdfParserNew.load_data_source\"\n",
    "\n",
    "    def extract_text(self, full_file_path: str) -> dict:\n",
    "        \"\"\"Overrides FormalParserInterface.extract_text()\"\"\"\n",
    "        return {\"PdfParserNew.extract_text\": 0}\n",
    "\n",
    "\n",
    "@FormalParserInterface.register  # Using the `.register()` approach here.\n",
    "class EmlParserNew:\n",
    "    \"\"\"Extract text from an email.\"\"\"\n",
    "\n",
    "    def load_data_source(self, path: str, file_name: str) -> str:\n",
    "        \"\"\"Overrides FormalParserInterface.load_data_source()\"\"\"\n",
    "        return \"EmlParserNew.load_data_source\"\n",
    "\n",
    "    def extract_text_from_email(self, full_file_path: str) -> dict:\n",
    "        \"\"\"A method defined only in EmlParser.\n",
    "        Does not override FormalParserInterface.extract_text()\n",
    "        \"\"\"\n",
    "        return {\"EmlParserNew.extract_text_from_email\": 0}\n",
    "\n",
    "\n",
    "print(issubclass(PdfParserNew, FormalParserInterface))  # True\n",
    "\n",
    "print(issubclass(EmlParserNew, FormalParserInterface))  # True\n",
    "# NOTE:\n",
    "# But this is a problem! EmlParserNew now conforms to FormalParserInterface (supposedly) even though it doesn't\n",
    "# implement the necessary method! This is because we used the `.register()` decorator on it, and this \"forced it\".\n",
    "# Hence, this approach can be dangerous and is best avoided!"
   ]
  },
  {
   "attachments": {},
   "cell_type": "markdown",
   "metadata": {},
   "source": [
    "#### Using Abstract Method Declaration"
   ]
  },
  {
   "cell_type": "code",
   "execution_count": 34,
   "metadata": {},
   "outputs": [],
   "source": [
    "class FormalParserInterface(metaclass=abc.ABCMeta):\n",
    "    @classmethod\n",
    "    def __subclasshook__(cls, subclass):\n",
    "        return (hasattr(subclass, 'load_data_source') and \n",
    "                callable(subclass.load_data_source) and \n",
    "                hasattr(subclass, 'extract_text') and \n",
    "                callable(subclass.extract_text) or \n",
    "                NotImplemented)\n",
    "\n",
    "    @abc.abstractmethod\n",
    "    def load_data_source(self, path: str, file_name: str):\n",
    "        \"\"\"Load in the data set\"\"\"\n",
    "        raise NotImplementedError\n",
    "\n",
    "    @abc.abstractmethod\n",
    "    def extract_text(self, full_file_path: str):\n",
    "        \"\"\"Extract text from the data set\"\"\"\n",
    "        raise NotImplementedError\n",
    "\n",
    "class PdfParserNew(FormalParserInterface):  # NOTE: Here, using inheritance, unlike other cases!\n",
    "    def load_data_source(self, path: str, file_name: str) -> str:\n",
    "        \"\"\"Overrides FormalParserInterface.load_data_source()\"\"\"\n",
    "        return \"PdfParserNew.load_data_source\"\n",
    "\n",
    "    def extract_text(self, full_file_path: str) -> dict:\n",
    "        \"\"\"Overrides FormalParserInterface.extract_text()\"\"\"\n",
    "        return {\"PdfParserNew.extract_text\": 0}\n",
    "\n",
    "class EmlParserNew(FormalParserInterface):  # NOTE: Here, using inheritance, unlike other cases!\n",
    "    \"\"\"Extract text from an email.\"\"\"\n",
    "\n",
    "    def load_data_source(self, path: str, file_name: str) -> str:\n",
    "        \"\"\"Overrides FormalParserInterface.load_data_source()\"\"\"\n",
    "        return \"EmlParserNew.load_data_source\"\n",
    "\n",
    "    def extract_text_from_email(self, full_file_path: str) -> dict:\n",
    "        \"\"\"A method defined only in EmlParser.\n",
    "        Does not override FormalParserInterface.extract_text()\n",
    "        \"\"\"\n",
    "        return {\"EmlParserNew.extract_text_from_email\": 0}\n"
   ]
  },
  {
   "cell_type": "code",
   "execution_count": 35,
   "metadata": {},
   "outputs": [],
   "source": [
    "pdf_parser = PdfParserNew()"
   ]
  },
  {
   "cell_type": "code",
   "execution_count": 36,
   "metadata": {},
   "outputs": [
    {
     "ename": "TypeError",
     "evalue": "Can't instantiate abstract class EmlParserNew with abstract methods extract_text",
     "output_type": "error",
     "traceback": [
      "\u001b[0;31m---------------------------------------------------------------------------\u001b[0m",
      "\u001b[0;31mTypeError\u001b[0m                                 Traceback (most recent call last)",
      "Cell \u001b[0;32mIn[36], line 1\u001b[0m\n\u001b[0;32m----> 1\u001b[0m eml_parser \u001b[39m=\u001b[39m EmlParserNew()\n",
      "\u001b[0;31mTypeError\u001b[0m: Can't instantiate abstract class EmlParserNew with abstract methods extract_text"
     ]
    }
   ],
   "source": [
    "eml_parser = EmlParserNew()"
   ]
  },
  {
   "cell_type": "code",
   "execution_count": 43,
   "metadata": {},
   "outputs": [],
   "source": [
    "# Q: Do you still need `__subclasshook__()`?\n",
    "# A: No, you don't need it in this approach. \n",
    "\n",
    "class FormalParserInterface(metaclass=abc.ABCMeta):\n",
    "    # No `__subclasshook__()`\n",
    "\n",
    "    @abc.abstractmethod\n",
    "    def load_data_source(self, path: str, file_name: str):\n",
    "        \"\"\"Load in the data set\"\"\"\n",
    "        ...  # BTW no need to explicitly raise NotImplementedError either.\n",
    "\n",
    "    @abc.abstractmethod\n",
    "    def extract_text(self, full_file_path: str):\n",
    "        \"\"\"Extract text from the data set\"\"\"\n",
    "        ...  # BTW no need to explicitly raise NotImplementedError either.\n",
    "\n",
    "class PdfParserNew(FormalParserInterface):  # NOTE: Here, using inheritance, unlike other cases!\n",
    "    def load_data_source(self, path: str, file_name: str) -> str:\n",
    "        \"\"\"Overrides FormalParserInterface.load_data_source()\"\"\"\n",
    "        return \"PdfParserNew.load_data_source\"\n",
    "\n",
    "    def extract_text(self, full_file_path: str) -> dict:\n",
    "        \"\"\"Overrides FormalParserInterface.extract_text()\"\"\"\n",
    "        return {\"PdfParserNew.extract_text\": 0}\n",
    "\n",
    "class EmlParserNew(FormalParserInterface):  # NOTE: Here, using inheritance, unlike other cases!\n",
    "    \"\"\"Extract text from an email.\"\"\"\n",
    "\n",
    "    def load_data_source(self, path: str, file_name: str) -> str:\n",
    "        \"\"\"Overrides FormalParserInterface.load_data_source()\"\"\"\n",
    "        return \"EmlParserNew.load_data_source\"\n",
    "\n",
    "    def extract_text_from_email(self, full_file_path: str) -> dict:\n",
    "        \"\"\"A method defined only in EmlParser.\n",
    "        Does not override FormalParserInterface.extract_text()\n",
    "        \"\"\"\n",
    "        return {\"EmlParserNew.extract_text_from_email\": 0}"
   ]
  },
  {
   "cell_type": "code",
   "execution_count": 44,
   "metadata": {},
   "outputs": [],
   "source": [
    "pdf_parser = PdfParserNew()"
   ]
  },
  {
   "cell_type": "code",
   "execution_count": 45,
   "metadata": {},
   "outputs": [
    {
     "ename": "TypeError",
     "evalue": "Can't instantiate abstract class EmlParserNew with abstract methods extract_text",
     "output_type": "error",
     "traceback": [
      "\u001b[0;31m---------------------------------------------------------------------------\u001b[0m",
      "\u001b[0;31mTypeError\u001b[0m                                 Traceback (most recent call last)",
      "Cell \u001b[0;32mIn[45], line 1\u001b[0m\n\u001b[0;32m----> 1\u001b[0m eml_parser \u001b[39m=\u001b[39m EmlParserNew()\n",
      "\u001b[0;31mTypeError\u001b[0m: Can't instantiate abstract class EmlParserNew with abstract methods extract_text"
     ]
    }
   ],
   "source": [
    "eml_parser = EmlParserNew()"
   ]
  },
  {
   "cell_type": "code",
   "execution_count": 40,
   "metadata": {},
   "outputs": [],
   "source": [
    "# NOTE: Also, now you can inherit directly from ABC: https://docs.python.org/3.8/library/abc.html\n",
    "from abc import ABC\n",
    "\n",
    "class FormalParserInterface(ABC):  # <-- No need to specify metaclass.\n",
    "    @abc.abstractmethod\n",
    "    def load_data_source(self, path: str, file_name: str):\n",
    "        \"\"\"Load in the data set\"\"\"\n",
    "        ...\n",
    "\n",
    "    @abc.abstractmethod\n",
    "    def extract_text(self, full_file_path: str):\n",
    "        \"\"\"Extract text from the data set\"\"\"\n",
    "        ...\n",
    "\n",
    "class PdfParserNew(FormalParserInterface):  # NOTE: Here, using inheritance, unlike other cases!\n",
    "    def load_data_source(self, path: str, file_name: str) -> str:\n",
    "        \"\"\"Overrides FormalParserInterface.load_data_source()\"\"\"\n",
    "        return \"PdfParserNew.load_data_source\"\n",
    "\n",
    "    def extract_text(self, full_file_path: str) -> dict:\n",
    "        \"\"\"Overrides FormalParserInterface.extract_text()\"\"\"\n",
    "        return {\"PdfParserNew.extract_text\": 0}\n",
    "\n",
    "class EmlParserNew(FormalParserInterface):  # NOTE: Here, using inheritance, unlike other cases!\n",
    "    \"\"\"Extract text from an email.\"\"\"\n",
    "\n",
    "    def load_data_source(self, path: str, file_name: str) -> str:\n",
    "        \"\"\"Overrides FormalParserInterface.load_data_source()\"\"\"\n",
    "        return \"EmlParserNew.load_data_source\"\n",
    "\n",
    "    def extract_text_from_email(self, full_file_path: str) -> dict:\n",
    "        \"\"\"A method defined only in EmlParser.\n",
    "        Does not override FormalParserInterface.extract_text()\n",
    "        \"\"\"\n",
    "        return {\"EmlParserNew.extract_text_from_email\": 0}\n"
   ]
  },
  {
   "cell_type": "code",
   "execution_count": 41,
   "metadata": {},
   "outputs": [],
   "source": [
    "pdf_parser = PdfParserNew()"
   ]
  },
  {
   "cell_type": "code",
   "execution_count": 42,
   "metadata": {},
   "outputs": [
    {
     "ename": "TypeError",
     "evalue": "Can't instantiate abstract class EmlParserNew with abstract methods extract_text",
     "output_type": "error",
     "traceback": [
      "\u001b[0;31m---------------------------------------------------------------------------\u001b[0m",
      "\u001b[0;31mTypeError\u001b[0m                                 Traceback (most recent call last)",
      "Cell \u001b[0;32mIn[42], line 1\u001b[0m\n\u001b[0;32m----> 1\u001b[0m eml_parser \u001b[39m=\u001b[39m EmlParserNew()\n",
      "\u001b[0;31mTypeError\u001b[0m: Can't instantiate abstract class EmlParserNew with abstract methods extract_text"
     ]
    }
   ],
   "source": [
    "eml_parser = EmlParserNew()"
   ]
  }
 ],
 "metadata": {
  "kernelspec": {
   "display_name": "learn_py38_real-python-python-interfaces",
   "language": "python",
   "name": "python3"
  },
  "language_info": {
   "codemirror_mode": {
    "name": "ipython",
    "version": 3
   },
   "file_extension": ".py",
   "mimetype": "text/x-python",
   "name": "python",
   "nbconvert_exporter": "python",
   "pygments_lexer": "ipython3",
   "version": "3.8.15 (default, Nov 24 2022, 15:19:38) \n[GCC 11.2.0]"
  },
  "orig_nbformat": 4,
  "vscode": {
   "interpreter": {
    "hash": "6c6d315e1a40db47bf6ffc8d7fdf8e32b074e349b19fc0e0f4904dc0bca01472"
   }
  }
 },
 "nbformat": 4,
 "nbformat_minor": 2
}
