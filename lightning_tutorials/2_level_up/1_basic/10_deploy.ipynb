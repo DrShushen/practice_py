{
 "cells": [
  {
   "attachments": {},
   "cell_type": "markdown",
   "metadata": {},
   "source": [
    "Following [this](https://pytorch-lightning.readthedocs.io/en/stable/deploy/production_basic.html)"
   ]
  },
  {
   "attachments": {},
   "cell_type": "markdown",
   "metadata": {},
   "source": [
    "### Load a checkpoint and predict\n",
    "\n",
    "The easiest way to use a model for predictions is to load the weights using `load_from_checkpoint` found in the\n",
    "`LightningModule`.\n",
    "\n",
    "```python\n",
    "model = LitModel.load_from_checkpoint(\"best_model.ckpt\")\n",
    "\n",
    "# Pure torch approach.\n",
    "\n",
    "model.eval()\n",
    "x = torch.randn(1, 64)\n",
    "\n",
    "with torch.no_grad():\n",
    "    y_hat = model(x)\n",
    "```"
   ]
  },
  {
   "attachments": {},
   "cell_type": "markdown",
   "metadata": {},
   "source": [
    "### Predict step with your LightningModule\n",
    "\n",
    "Loading a checkpoint and predicting still leaves you with a lot of boilerplate around the predict epoch.\n",
    "\n",
    "The **predict step** in the `LightningModule` removes this boilerplate.\n",
    "\n",
    "```python\n",
    "class MyModel(LightningModule):\n",
    "    def predict_step(self, batch, batch_idx, dataloader_idx=0):\n",
    "        return self(batch)\n",
    "```\n",
    "\n",
    "And pass in any dataloader to the Lightning Trainer:\n",
    "\n",
    "```python\n",
    "data_loader = DataLoader(...)\n",
    "model = MyModel()\n",
    "trainer = Trainer()\n",
    "predictions = trainer.predict(model, data_loader)  # NOTE.\n",
    "```"
   ]
  },
  {
   "attachments": {},
   "cell_type": "markdown",
   "metadata": {},
   "source": [
    "### Enable complicated predict logic\n",
    "\n",
    "When you need to add complicated pre-processing or post-processing logic to your data use the predict step.\n",
    "\n",
    "For example here we do *Monte Carlo Dropout* for predictions:\n",
    "\n",
    "```python\n",
    "class LitMCdropoutModel(pl.LightningModule):\n",
    "    def __init__(self, model, mc_iteration):\n",
    "        super().__init__()\n",
    "        self.model = model\n",
    "        self.dropout = nn.Dropout()\n",
    "        self.mc_iteration = mc_iteration\n",
    "\n",
    "    def predict_step(self, batch, batch_idx):\n",
    "        # enable Monte Carlo Dropout\n",
    "        self.dropout.train()\n",
    "\n",
    "        # take average of `self.mc_iteration` iterations\n",
    "        pred = [self.dropout(self.model(x)).unsqueeze(0) for _ in range(self.mc_iteration)]\n",
    "        pred = torch.vstack(pred).mean(dim=0)\n",
    "        return pred\n",
    "```"
   ]
  },
  {
   "attachments": {},
   "cell_type": "markdown",
   "metadata": {},
   "source": [
    "### Enable distributed inference\n",
    "\n",
    "Skipped.\n",
    "\n",
    "See: https://pytorch-lightning.readthedocs.io/en/stable/deploy/production_basic.html#enable-distributed-inference"
   ]
  }
 ],
 "metadata": {
  "language_info": {
   "name": "python"
  },
  "orig_nbformat": 4
 },
 "nbformat": 4,
 "nbformat_minor": 2
}
