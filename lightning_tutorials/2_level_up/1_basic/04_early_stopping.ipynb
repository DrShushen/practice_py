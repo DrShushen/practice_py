{
 "cells": [
  {
   "attachments": {},
   "cell_type": "markdown",
   "metadata": {},
   "source": [
    "Following [this](https://pytorch-lightning.readthedocs.io/en/stable/common/early_stopping.html)"
   ]
  },
  {
   "attachments": {},
   "cell_type": "markdown",
   "metadata": {},
   "source": [
    "### \\[Manual\\] Stopping an Epoch Early\n",
    "\n",
    "You can stop and skip the rest of the current epoch early by overriding `on_train_batch_start()` to return `-1`\n",
    "when some condition is met.\n",
    "\n",
    "If you do this repeatedly, for every epoch you had originally requested, then this will stop your entire training.\n",
    "\n",
    "```python\n",
    "class LitModel(LightningModule):\n",
    "    def on_train_batch_start():\n",
    "        if something_something:\n",
    "            return -1  # Skip!\n",
    "```"
   ]
  },
  {
   "attachments": {},
   "cell_type": "markdown",
   "metadata": {},
   "source": [
    "### EarlyStopping Callback\n",
    "\n",
    "The `EarlyStopping` callback can be used to *monitor a metric* and stop the training when no improvement is observed.\n",
    "\n",
    "To enable it:\n",
    "* Import `EarlyStopping` callback.\n",
    "* Log the metric you want to monitor using `log()` method.\n",
    "* Init the callback, and set monitor to the logged metric of your choice.\n",
    "* Set the `mode` based on the metric needs to be monitored.\n",
    "* Pass the `EarlyStopping` callback to the `Trainer` callbacks flag.\n",
    "\n",
    "```python\n",
    "from pytorch_lightning.callbacks.early_stopping import EarlyStopping\n",
    "\n",
    "\n",
    "class LitModel(LightningModule):\n",
    "    def validation_step(self, batch, batch_idx):\n",
    "        loss = ...\n",
    "        self.log(\"val_loss\", loss)  # NOTE.\n",
    "\n",
    "\n",
    "model = LitModel()\n",
    "trainer = Trainer(callbacks=[EarlyStopping(monitor=\"val_loss\", mode=\"min\")])  # NOTE.\n",
    "trainer.fit(model)\n",
    "```\n",
    "\n",
    "You can customize the callbacks behaviour by changing its parameters.\n",
    "```python\n",
    "early_stop_callback = EarlyStopping(\n",
    "    monitor=\"val_accuracy\",\n",
    "    min_delta=0.00,\n",
    "    patience=3,\n",
    "    verbose=False,\n",
    "    mode=\"max\"\n",
    ")\n",
    "trainer = Trainer(callbacks=[early_stop_callback])\n",
    "```"
   ]
  },
  {
   "attachments": {},
   "cell_type": "markdown",
   "metadata": {},
   "source": [
    "In case you need early stopping in a different part of training, subclass `EarlyStopping` and change where it is called:\n",
    "\n",
    "```python\n",
    "class MyEarlyStopping(EarlyStopping):  # NOTE.\n",
    "    def on_validation_end(self, trainer, pl_module):\n",
    "        # override this to disable early stopping at the end of val loop\n",
    "        pass\n",
    "\n",
    "    def on_train_end(self, trainer, pl_module):\n",
    "        # instead, do it at the end of training loop\n",
    "        self._run_early_stopping_check(trainer)  # NOTE: Like so.\n",
    "```\n",
    "\n",
    "**NOTE:**\n",
    "\n",
    "The `EarlyStopping` callback runs at the *end of every validation epoch* by default.\n",
    "\n",
    "However, the frequency of validation can be modified by setting various parameters in the `Trainer`, \n",
    "for example `check_val_every_n_epoch` and `val_check_interval`.\n",
    "\n",
    "⚠️ It must be noted that the **patience parameter counts the number of validation checks with no improvement**,\n",
    "and **not the number of training epochs**.\n",
    "\n",
    "Therefore, with parameters `check_val_every_n_epoch=10` and `patience=3`,\n",
    "the trainer will perform at least 40 training epochs before being stopped."
   ]
  }
 ],
 "metadata": {
  "kernelspec": {
   "display_name": "learn_py38_lightning",
   "language": "python",
   "name": "python3"
  },
  "language_info": {
   "name": "python",
   "version": "3.8.15"
  },
  "orig_nbformat": 4,
  "vscode": {
   "interpreter": {
    "hash": "3a117739a79adb8d3a3cb28cb225d24b95a2a8e6607bba35806671d6c7dba5eb"
   }
  }
 },
 "nbformat": 4,
 "nbformat_minor": 2
}
