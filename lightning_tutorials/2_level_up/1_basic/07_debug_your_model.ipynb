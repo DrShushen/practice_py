{
 "cells": [
  {
   "attachments": {},
   "cell_type": "markdown",
   "metadata": {},
   "source": [
    "Following [this](https://pytorch-lightning.readthedocs.io/en/stable/debug/debugging_basic.html)\n"
   ]
  },
  {
   "attachments": {},
   "cell_type": "markdown",
   "metadata": {},
   "source": [
    "### How does Lightning help me debug ?\n",
    "\n",
    "The Lightning `Trainer` has a lot of arguments devoted to maximizing your debugging productivity."
   ]
  },
  {
   "attachments": {},
   "cell_type": "markdown",
   "metadata": {},
   "source": [
    "### Set a breakpoint\n",
    "\n",
    "A breakpoint stops your code execution so you can inspect variables, etc… and allow your code to execute one line at a time.\n",
    "\n",
    "In this example, the code will stop before executing the `y = x**2` line."
   ]
  },
  {
   "cell_type": "code",
   "execution_count": 2,
   "metadata": {},
   "outputs": [
    {
     "name": "stdout",
     "output_type": "stream",
     "text": [
      "> \u001b[0;32m/tmp/ipykernel_15866/1252560061.py\u001b[0m(8)\u001b[0;36mfunction_to_debug\u001b[0;34m()\u001b[0m\n",
      "\u001b[0;32m      6 \u001b[0;31m\u001b[0;34m\u001b[0m\u001b[0m\n",
      "\u001b[0m\u001b[0;32m      7 \u001b[0;31m    \u001b[0mpdb\u001b[0m\u001b[0;34m.\u001b[0m\u001b[0mset_trace\u001b[0m\u001b[0;34m(\u001b[0m\u001b[0;34m)\u001b[0m\u001b[0;34m\u001b[0m\u001b[0;34m\u001b[0m\u001b[0m\n",
      "\u001b[0m\u001b[0;32m----> 8 \u001b[0;31m    \u001b[0my\u001b[0m \u001b[0;34m=\u001b[0m \u001b[0mx\u001b[0m \u001b[0;34m**\u001b[0m \u001b[0;36m2\u001b[0m\u001b[0;34m\u001b[0m\u001b[0;34m\u001b[0m\u001b[0m\n",
      "\u001b[0m\u001b[0;32m      9 \u001b[0;31m\u001b[0;34m\u001b[0m\u001b[0m\n",
      "\u001b[0m\u001b[0;32m     10 \u001b[0;31m\u001b[0mfunction_to_debug\u001b[0m\u001b[0;34m(\u001b[0m\u001b[0;34m)\u001b[0m\u001b[0;34m\u001b[0m\u001b[0;34m\u001b[0m\u001b[0m\n",
      "\u001b[0m\n",
      "*** NameError: name 'y' is not defined\n",
      "2\n"
     ]
    }
   ],
   "source": [
    "# Enter, when prompted by pdb:\n",
    "# print(y)\n",
    "# print(x)\n",
    "# continue\n",
    "# \n",
    "\n",
    "def function_to_debug():\n",
    "    x = 2\n",
    "\n",
    "    # set breakpoint\n",
    "    import pdb\n",
    "\n",
    "    pdb.set_trace()\n",
    "    y = x ** 2\n",
    "\n",
    "function_to_debug()"
   ]
  },
  {
   "attachments": {},
   "cell_type": "markdown",
   "metadata": {},
   "source": [
    "### Run all your model code once quickly\n",
    "\n",
    "If you’ve ever trained a model for days only to crash during validation or testing then this trainer argument is about to become your best friend.\n",
    "\n",
    "The `fast_dev_run` argument in the trainer **runs 5 batches of training, validation, test and prediction** data through your trainer to see if there are any bugs:\n",
    "\n",
    "```python\n",
    "Trainer(fast_dev_run=True)\n",
    "\n",
    "# Change to 7 batches:\n",
    "Trainer(fast_dev_run=7)\n",
    "```\n",
    "\n",
    "> ⚠️ This argument will disable tuner, checkpoint callbacks, early stopping callbacks, loggers and logger callbacks like\n",
    "> `LearningRateMonitor` and `DeviceStatsMonitor`."
   ]
  },
  {
   "attachments": {},
   "cell_type": "markdown",
   "metadata": {},
   "source": [
    "### Shorten the epoch length\n",
    "\n",
    "Sometimes it’s helpful to only use a fraction of your training, val, test, or predict data (or a set number of batches).\n",
    "For example, you can use 20% of the training set and 1% of the validation set.\n",
    "\n",
    "On larger datasets like Imagenet, this can help you debug or test a few things faster than waiting for a full epoch.\n",
    "\n",
    "```python\n",
    "# use only 10% of training data and 1% of val data\n",
    "trainer = Trainer(limit_train_batches=0.1, limit_val_batches=0.01)  # NOTE.\n",
    "\n",
    "# use 10 batches of train and 5 batches of val\n",
    "trainer = Trainer(limit_train_batches=10, limit_val_batches=5)\n",
    "```"
   ]
  },
  {
   "attachments": {},
   "cell_type": "markdown",
   "metadata": {},
   "source": [
    "### Run a Sanity Check\n",
    "\n",
    "Lightning runs 2 steps of **validation in the beginning of training**. This avoids crashing in the validation loop\n",
    "sometime deep into a lengthy training loop.\n",
    "\n",
    "(See: `num_sanity_val_steps` argument of `Trainer`)\n",
    "\n",
    "```python\n",
    "trainer = Trainer(num_sanity_val_steps=2)\n",
    "```"
   ]
  },
  {
   "attachments": {},
   "cell_type": "markdown",
   "metadata": {},
   "source": [
    "### Print LightningModule weights summary\n",
    "\n",
    "Whenever the `.fit()` function gets called, the Trainer will print the weights summary for the `LightningModule`.\n",
    "\n",
    "```python\n",
    "trainer.fit(...)\n",
    "```\n",
    "\n",
    "```text\n",
    "  | Name  | Type        | Params\n",
    "----------------------------------\n",
    "0 | net   | Sequential  | 132 K\n",
    "1 | net.0 | Linear      | 131 K\n",
    "2 | net.1 | BatchNorm1d | 1.0 K\n",
    "```\n",
    "\n",
    "[❗] To add the child modules to the summary add a `ModelSummary`:\n",
    "```python\n",
    "from pytorch_lightning.callbacks import ModelSummary\n",
    "\n",
    "trainer = Trainer(callbacks=[ModelSummary(max_depth=-1)])  # NOTE!\n",
    "```\n",
    "\n",
    "To print the model summary if `.fit()` is not called:\n",
    "```python\n",
    "from pytorch_lightning.utilities.model_summary import ModelSummary\n",
    "\n",
    "model = LitModel()\n",
    "summary = ModelSummary(model, max_depth=-1)\n",
    "print(summary)\n",
    "```\n",
    "\n",
    "To turn off the autosummary use:\n",
    "```python\n",
    "Trainer(enable_model_summary=False)\n",
    "```"
   ]
  },
  {
   "attachments": {},
   "cell_type": "markdown",
   "metadata": {},
   "source": [
    "### Print input output layer dimensions\n",
    "\n",
    "Another debugging tool is to display the intermediate input- and output sizes of all your layers **by setting the\n",
    "`example_input_array` attribute** in your `LightningModule`.\n",
    "\n",
    "```python\n",
    "class LitModel(LightningModule):\n",
    "    def __init__(self, *args, **kwargs):\n",
    "        self.example_input_array = torch.Tensor(32, 1, 28, 28)  # NOTE!\n",
    "```\n",
    "\n",
    "With the input array, the summary table will include the input and output layer dimensions when you call \n",
    "`.fit()` on the Trainer.\n",
    "\n",
    "```text\n",
    "  | Name  | Type        | Params | In sizes  | Out sizes\n",
    "--------------------------------------------------------------\n",
    "0 | net   | Sequential  | 132 K  | [10, 256] | [10, 512]\n",
    "1 | net.0 | Linear      | 131 K  | [10, 256] | [10, 512]\n",
    "2 | net.1 | BatchNorm1d | 1.0 K  | [10, 512] | [10, 512]\n",
    "```"
   ]
  }
 ],
 "metadata": {
  "kernelspec": {
   "display_name": "learn_py38_lightning",
   "language": "python",
   "name": "python3"
  },
  "language_info": {
   "codemirror_mode": {
    "name": "ipython",
    "version": 3
   },
   "file_extension": ".py",
   "mimetype": "text/x-python",
   "name": "python",
   "nbconvert_exporter": "python",
   "pygments_lexer": "ipython3",
   "version": "3.8.15"
  },
  "orig_nbformat": 4,
  "vscode": {
   "interpreter": {
    "hash": "3a117739a79adb8d3a3cb28cb225d24b95a2a8e6607bba35806671d6c7dba5eb"
   }
  }
 },
 "nbformat": 4,
 "nbformat_minor": 2
}
