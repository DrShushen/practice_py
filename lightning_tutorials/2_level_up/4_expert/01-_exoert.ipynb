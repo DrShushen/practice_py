{
 "cells": [
  {
   "attachments": {},
   "cell_type": "markdown",
   "metadata": {},
   "source": [
    "Skipped\n",
    "\n",
    "Content includes:\n",
    "* Extending Lightning CLI,\n",
    "* Custom cluster,\n",
    "* Fault tolerance in-depth,\n",
    "* Own profiler,\n",
    "* Custom accelerator strategy\n",
    "\n",
    "https://pytorch-lightning.readthedocs.io/en/stable/levels/expert.html"
   ]
  }
 ],
 "metadata": {
  "language_info": {
   "name": "python"
  },
  "orig_nbformat": 4
 },
 "nbformat": 4,
 "nbformat_minor": 2
}
