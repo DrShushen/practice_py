{
 "cells": [
  {
   "attachments": {},
   "cell_type": "markdown",
   "metadata": {},
   "source": [
    "This: https://pytorch-lightning.readthedocs.io/en/stable/clouds/session_basic.html\n",
    "\n",
    "\n",
    "Skipped."
   ]
  }
 ],
 "metadata": {
  "language_info": {
   "name": "python"
  },
  "orig_nbformat": 4
 },
 "nbformat": 4,
 "nbformat_minor": 2
}
