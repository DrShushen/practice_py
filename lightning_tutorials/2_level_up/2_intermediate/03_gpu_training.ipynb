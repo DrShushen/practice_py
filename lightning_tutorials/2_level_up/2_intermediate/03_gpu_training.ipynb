{
 "cells": [
  {
   "attachments": {},
   "cell_type": "markdown",
   "metadata": {},
   "source": [
    "Following [this](https://pytorch-lightning.readthedocs.io/en/stable/accelerators/gpu_basic.html)\n"
   ]
  },
  {
   "attachments": {},
   "cell_type": "markdown",
   "metadata": {},
   "source": [
    "### Train on 1 GPU\n",
    "\n",
    "Make sure you’re running on a machine with at least one GPU. There’s no need to specify any NVIDIA flags as Lightning will do it for you.\n",
    "\n",
    "```python\n",
    "trainer = Trainer(accelerator=\"gpu\", devices=1)\n",
    "```\n",
    "\n",
    "### Train on multiple GPUs\n",
    "\n",
    "To use multiple GPUs, set the number of devices in the Trainer or the index of the GPUs.\n",
    "\n",
    "```python\n",
    "trainer = Trainer(accelerator=\"gpu\", devices=4)\n",
    "```"
   ]
  },
  {
   "attachments": {},
   "cell_type": "markdown",
   "metadata": {},
   "source": [
    "### Choosing GPU devices\n",
    "\n",
    "You can select the GPU devices using ranges, a list of indices or a string containing a comma separated list of GPU ids:\n",
    "\n",
    "```python\n",
    "# DEFAULT (int) specifies how many GPUs to use per node\n",
    "Trainer(accelerator=\"gpu\", devices=k)\n",
    "\n",
    "# Above is equivalent to\n",
    "Trainer(accelerator=\"gpu\", devices=list(range(k)))\n",
    "\n",
    "# Specify which GPUs to use (don't use when running on cluster)\n",
    "Trainer(accelerator=\"gpu\", devices=[0, 1])\n",
    "\n",
    "# Equivalent using a string\n",
    "Trainer(accelerator=\"gpu\", devices=\"0, 1\")\n",
    "\n",
    "# To use all available GPUs put -1 or '-1'\n",
    "# equivalent to list(range(torch.cuda.device_count()))\n",
    "Trainer(accelerator=\"gpu\", devices=-1)\n",
    "```"
   ]
  },
  {
   "attachments": {},
   "cell_type": "markdown",
   "metadata": {},
   "source": [
    "### Possible inputs\n",
    "See table here for possible GPU-related inputs to `Trainer`:\n",
    "https://pytorch-lightning.readthedocs.io/en/stable/accelerators/gpu_basic.html"
   ]
  }
 ],
 "metadata": {
  "language_info": {
   "name": "python"
  },
  "orig_nbformat": 4
 },
 "nbformat": 4,
 "nbformat_minor": 2
}
