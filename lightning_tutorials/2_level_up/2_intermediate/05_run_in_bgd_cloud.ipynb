{
 "cells": [
  {
   "attachments": {},
   "cell_type": "markdown",
   "metadata": {},
   "source": [
    "Skipped:\n",
    "\n",
    "https://pytorch-lightning.readthedocs.io/en/stable/levels/intermediate_level_8.html"
   ]
  }
 ],
 "metadata": {
  "language_info": {
   "name": "python"
  },
  "orig_nbformat": 4
 },
 "nbformat": 4,
 "nbformat_minor": 2
}
