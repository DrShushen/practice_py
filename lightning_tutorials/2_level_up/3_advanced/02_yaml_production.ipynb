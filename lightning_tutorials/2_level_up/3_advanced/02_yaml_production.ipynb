{
 "cells": [
  {
   "attachments": {},
   "cell_type": "markdown",
   "metadata": {},
   "source": [
    "Skipped\n",
    "\n",
    "*May be useful, see:*\n",
    "\n",
    "https://pytorch-lightning.readthedocs.io/en/stable/cli/lightning_cli_advanced_2.html"
   ]
  }
 ],
 "metadata": {
  "language_info": {
   "name": "python"
  },
  "orig_nbformat": 4
 },
 "nbformat": 4,
 "nbformat_minor": 2
}
