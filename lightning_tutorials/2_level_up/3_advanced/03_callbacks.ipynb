{
 "cells": [
  {
   "attachments": {},
   "cell_type": "markdown",
   "metadata": {},
   "source": [
    "Following [this](https://pytorch-lightning.readthedocs.io/en/stable/extensions/callbacks.html)\n"
   ]
  },
  {
   "attachments": {},
   "cell_type": "markdown",
   "metadata": {},
   "source": [
    "# Callbacks\n",
    "\n",
    "A callback is a self-contained program that can be reused across projects.\n",
    "\n",
    "Lightning has a callback system to execute them when needed. Callbacks should capture **NON-ESSENTIAL** logic that is \n",
    "**NOT** required for your lightning module to run.\n",
    "\n",
    "Here’s the flow of how the callback hooks are executed:\n",
    "\n",
    "<img src=\"./assets/callback_overview.png\" width=\"1000\"/>\n",
    "\n",
    "**An overall Lightning system should have:**\n",
    "* `Trainer` for all engineering\n",
    "* `LightningModule` for all research code.\n",
    "* `Callbacks` for non-essential code.\n",
    "\n",
    "**Example:**\n",
    "\n",
    "```python\n",
    "from pytorch_lightning.callbacks import Callback\n",
    "\n",
    "\n",
    "class MyPrintingCallback(Callback):  # NOTE.\n",
    "    def on_train_start(self, trainer, pl_module):  # NOTE.\n",
    "        print(\"Training is starting\")\n",
    "\n",
    "    def on_train_end(self, trainer, pl_module):  # NOTE.\n",
    "        print(\"Training is ending\")\n",
    "\n",
    "\n",
    "trainer = Trainer(callbacks=[MyPrintingCallback()])  # NOTE.\n",
    "```\n",
    "\n",
    "We successfully extended functionality without polluting our super clean lightning module research code."
   ]
  },
  {
   "attachments": {},
   "cell_type": "markdown",
   "metadata": {},
   "source": [
    "### Examples\n",
    "\n",
    "Some random examples: https://pytorch-lightning.readthedocs.io/en/stable/extensions/callbacks.html#examples"
   ]
  },
  {
   "attachments": {},
   "cell_type": "markdown",
   "metadata": {},
   "source": [
    "### Built-in Callbacks\n",
    "\n",
    "Lightning has a few built-in callbacks.\n",
    "\n",
    "See list here:\n",
    "\n",
    "https://pytorch-lightning.readthedocs.io/en/stable/extensions/callbacks.html#built-in-callbacks\n",
    "\n",
    "Noteworthy:\n",
    "* [`EarlyStopping`](https://pytorch-lightning.readthedocs.io/en/stable/api/pytorch_lightning.callbacks.EarlyStopping.html#pytorch_lightning.callbacks.EarlyStopping)\n",
    "* [`RichModelSummary`](https://pytorch-lightning.readthedocs.io/en/stable/api/pytorch_lightning.callbacks.RichModelSummary.html#pytorch_lightning.callbacks.RichModelSummary)\n",
    "* [`Timer`](https://pytorch-lightning.readthedocs.io/en/stable/api/pytorch_lightning.callbacks.Timer.html#pytorch_lightning.callbacks.Timer)\n",
    "* [`TQDMProgressBar`](https://pytorch-lightning.readthedocs.io/en/stable/api/pytorch_lightning.callbacks.Timer.html#pytorch_lightning.callbacks.Timer)\n",
    "* ...\n",
    "\n",
    "> 🤔 Investigate further:\n",
    ">\n",
    "> For a richer collection of callbacks, check out our [bolts library](https://lightning-bolts.readthedocs.io/en/stable/index.html)."
   ]
  },
  {
   "attachments": {},
   "cell_type": "markdown",
   "metadata": {},
   "source": [
    "### Save Callback state\n",
    "\n",
    "Some callbacks require *internal state* in order to function properly.\n",
    "\n",
    "You can optionally choose to persist your callback’s state *as part of model checkpoint* files using `state_dict()` and `load_state_dict()`.\n",
    "\n",
    "> Note that the returned state **must be able to be pickled**.\n",
    "\n",
    "When your callback is meant to be used only as a *singleton* callback then implementing the above two hooks is enough to persist state effectively.\n",
    "\n",
    "However, if passing multiple instances of the callback to the `Trainer` is supported, then the callback must define a `state_key` property in order for Lightning to be able to distinguish the different states when loading the callback state.\n",
    "\n",
    "This concept is best illustrated by the following example."
   ]
  },
  {
   "cell_type": "code",
   "execution_count": 1,
   "metadata": {},
   "outputs": [
    {
     "name": "stderr",
     "output_type": "stream",
     "text": [
      "GPU available: True (cuda), used: False\n",
      "TPU available: False, using: 0 TPU cores\n",
      "IPU available: False, using: 0 IPUs\n",
      "HPU available: False, using: 0 HPUs\n",
      "/mnt/data-linux/miniconda3/envs/learn_py38_lightning/lib/python3.8/site-packages/pytorch_lightning/trainer/setup.py:175: PossibleUserWarning: GPU available but not used. Set `accelerator` and `devices` using `Trainer(accelerator='gpu', devices=1)`.\n",
      "  rank_zero_warn(\n"
     ]
    }
   ],
   "source": [
    "from pytorch_lightning import Trainer\n",
    "from pytorch_lightning.callbacks import Callback\n",
    "\n",
    "\n",
    "class Counter(Callback):\n",
    "    def __init__(self, what=\"epochs\", verbose=True):\n",
    "        self.what = what\n",
    "        self.verbose = verbose\n",
    "        self.state = {\"epochs\": 0, \"batches\": 0}\n",
    "\n",
    "    @property\n",
    "    def state_key(self):  # NOTE!\n",
    "        # note: we do not include `verbose` here on purpose\n",
    "        return self._generate_state_key(what=self.what)\n",
    "\n",
    "    def on_train_epoch_end(self, *args, **kwargs):\n",
    "        if self.what == \"epochs\":\n",
    "            self.state[\"epochs\"] += 1\n",
    "\n",
    "    def on_train_batch_end(self, *args, **kwargs):\n",
    "        if self.what == \"batches\":\n",
    "            self.state[\"batches\"] += 1\n",
    "\n",
    "    def load_state_dict(self, state_dict):\n",
    "        self.state.update(state_dict)\n",
    "\n",
    "    def state_dict(self):\n",
    "        return self.state.copy()\n",
    "\n",
    "\n",
    "# two callbacks of the same type are being used\n",
    "trainer = Trainer(callbacks=[Counter(what=\"epochs\"), Counter(what=\"batches\")])  # NOTE 2 same callbacks passed!"
   ]
  },
  {
   "attachments": {},
   "cell_type": "markdown",
   "metadata": {},
   "source": [
    "A Lightning checkpoint from this Trainer with the two stateful callbacks will include the following information:\n",
    "\n",
    "```python\n",
    "{\n",
    "    \"state_dict\": ...,\n",
    "    \"callbacks\": {\n",
    "        \"Counter{'what': 'batches'}\": {\"batches\": 32, \"epochs\": 0},\n",
    "        \"Counter{'what': 'epochs'}\": {\"batches\": 0, \"epochs\": 2},\n",
    "        ...\n",
    "    }\n",
    "}\n",
    "```\n",
    "\n",
    "The implementation of a `state_key` is essential here. If it were missing, Lightning would not be able to disambiguate\n",
    "the state for these two callbacks, and `state_key` by default only defines the class name as the key, e.g., here `Counter`."
   ]
  },
  {
   "attachments": {},
   "cell_type": "markdown",
   "metadata": {},
   "source": [
    "### Best Practices\n",
    "\n",
    "The following are best practices when using/designing callbacks.\n",
    "1. Callbacks should be isolated in their functionality.\n",
    "1. Your callback should not rely on the behavior of other callbacks in order to work properly.\n",
    "1. Do not manually call methods from the callback.\n",
    "1. Directly calling methods (eg. `on_validation_end`) is strongly discouraged.\n",
    "1. Whenever possible, your callbacks should not depend on the order in which they are executed.\n"
   ]
  },
  {
   "attachments": {},
   "cell_type": "markdown",
   "metadata": {},
   "source": [
    "### Entry Points\n",
    "\n",
    "See: https://pytorch-lightning.readthedocs.io/en/stable/extensions/callbacks.html#entry-points"
   ]
  },
  {
   "attachments": {},
   "cell_type": "markdown",
   "metadata": {},
   "source": [
    "### ℹ️ Callback API\n",
    "\n",
    "The `Callback` class is the base for all the callbacks in Lightning just like the\n",
    "`LightningModule` is the base for all models.\n",
    "\n",
    "It defines a public interface that each callback implementation must follow.\n",
    "\n",
    "For a summary of callback interface, see: https://pytorch-lightning.readthedocs.io/en/stable/extensions/callbacks.html#callback-api\n",
    "\n",
    "**Notable**\n",
    "* `on_fit_{start,end}`\n",
    "* `on_train_{start,end}`\n",
    "* `on_{train,test,validation,predict}_{epoch,batch}_{start,end}`\n",
    "* `on_predict_{start,end}`\n",
    "* `on_save_checkpoint`\n",
    "* ..."
   ]
  },
  {
   "cell_type": "markdown",
   "metadata": {},
   "source": []
  }
 ],
 "metadata": {
  "kernelspec": {
   "display_name": "learn_py38_lightning",
   "language": "python",
   "name": "python3"
  },
  "language_info": {
   "codemirror_mode": {
    "name": "ipython",
    "version": 3
   },
   "file_extension": ".py",
   "mimetype": "text/x-python",
   "name": "python",
   "nbconvert_exporter": "python",
   "pygments_lexer": "ipython3",
   "version": "3.8.15"
  },
  "orig_nbformat": 4,
  "vscode": {
   "interpreter": {
    "hash": "3a117739a79adb8d3a3cb28cb225d24b95a2a8e6607bba35806671d6c7dba5eb"
   }
  }
 },
 "nbformat": 4,
 "nbformat_minor": 2
}
