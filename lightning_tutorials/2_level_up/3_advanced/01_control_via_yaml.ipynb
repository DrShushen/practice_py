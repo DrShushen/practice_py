{
 "cells": [
  {
   "attachments": {},
   "cell_type": "markdown",
   "metadata": {},
   "source": [
    "Following [this](https://pytorch-lightning.readthedocs.io/en/stable/cli/lightning_cli_advanced.html)"
   ]
  },
  {
   "attachments": {},
   "cell_type": "markdown",
   "metadata": {},
   "source": [
    "### What is a yaml config file?\n",
    "\n",
    "A yaml is a standard configuration file that describes parameters for sections of a program. It is a common tool in engineering, and it has recently started to gain popularity in machine learning.\n",
    "\n",
    "```yaml\n",
    "# file.yaml\n",
    "car:\n",
    "    max_speed:100\n",
    "    max_passengers:2\n",
    "plane:\n",
    "    fuel_capacity: 50\n",
    "class_3:\n",
    "    option_1: 'x'\n",
    "    option_2: 'y'\n",
    "```"
   ]
  },
  {
   "attachments": {},
   "cell_type": "markdown",
   "metadata": {},
   "source": [
    "### Print the config used\n",
    "\n",
    "> I think this is all part of Lightning CLI, BTW.\n",
    "\n",
    "Before or after you run a training routine, you can print the full training spec in yaml format using `--print_config`:\n",
    "\n",
    "```sh\n",
    "python main.py fit --print_config\n",
    "```\n",
    "\n",
    "which generates the following config:\n",
    "\n",
    "```yaml\n",
    "seed_everything: null\n",
    "trainer:\n",
    "    logger: true\n",
    "    ...\n",
    "    terminate_on_nan: null\n",
    "model:\n",
    "    out_dim: 10\n",
    "    learning_rate: 0.02\n",
    "data:\n",
    "    data_dir: ./\n",
    "ckpt_path: null\n",
    "```"
   ]
  },
  {
   "attachments": {},
   "cell_type": "markdown",
   "metadata": {},
   "source": [
    "### Write a config yaml from the CLI\n",
    "\n",
    "To have a copy of the configuration that produced this model, save a yaml file from the `--print_config` outputs:\n",
    "\n",
    "```sh\n",
    "python main.py fit --model.learning_rate 0.001 --print_config > config.yaml\n",
    "```"
   ]
  },
  {
   "attachments": {},
   "cell_type": "markdown",
   "metadata": {},
   "source": [
    "### Run from a single yaml\n",
    "\n",
    "To run from a yaml, pass a yaml produced with `--print_config` to the `--config` argument:\n",
    "\n",
    "```sh\n",
    "python main.py fit --config config.yaml\n",
    "```\n",
    "\n",
    "when using a yaml to run, you can still pass in inline arguments\n",
    "\n",
    "```sh\n",
    "python main.py fit --config config.yaml --trainer.max_epochs 100\n",
    "```\n"
   ]
  },
  {
   "attachments": {},
   "cell_type": "markdown",
   "metadata": {},
   "source": [
    "### Compose yaml files\n",
    "\n",
    "For production or complex research projects it’s **advisable to have each object in its own config file**.\n",
    "\n",
    "To compose all the configs, pass them all inline:\n",
    "\n",
    "```sh\n",
    "$ python trainer.py fit\\\n",
    "    --config trainer.yaml\\\n",
    "    --config datamodules.yaml\\\n",
    "    --config models.yaml\\\n",
    "    ...\n",
    "```\n",
    "\n",
    "The configs will be parsed sequentially. Let’s say we have two configs with the same args:\n",
    "\n",
    "```yaml\n",
    "# trainer.yaml\n",
    "trainer:\n",
    "    num_epochs: 10\n",
    "\n",
    "\n",
    "# trainer_2.yaml\n",
    "trainer:\n",
    "    num_epochs: 20\n",
    "```\n",
    "\n",
    "the **ones from the last config will be used** (`num_epochs = 20`) in this case:\n",
    "\n",
    "```sh\n",
    "$ python trainer.py fit --config trainer.yaml --config trainer_2.yaml\n",
    "```"
   ]
  },
  {
   "cell_type": "markdown",
   "metadata": {},
   "source": []
  }
 ],
 "metadata": {
  "language_info": {
   "name": "python"
  },
  "orig_nbformat": 4
 },
 "nbformat": 4,
 "nbformat_minor": 2
}
