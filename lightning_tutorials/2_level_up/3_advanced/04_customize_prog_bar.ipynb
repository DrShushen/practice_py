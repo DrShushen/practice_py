{
 "cells": [
  {
   "cell_type": "markdown",
   "metadata": {},
   "source": [
    "Skipped\n",
    "\n",
    "https://pytorch-lightning.readthedocs.io/en/stable/common/progress_bar.html"
   ]
  }
 ],
 "metadata": {
  "language_info": {
   "name": "python"
  },
  "orig_nbformat": 4
 },
 "nbformat": 4,
 "nbformat_minor": 2
}
