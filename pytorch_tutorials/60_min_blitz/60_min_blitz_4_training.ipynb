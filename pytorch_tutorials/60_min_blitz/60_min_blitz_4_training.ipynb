{
 "cells": [
  {
   "cell_type": "markdown",
   "metadata": {},
   "source": [
    "# Training a Classifier "
   ]
  },
  {
   "cell_type": "markdown",
   "metadata": {},
   "source": [
    "https://pytorch.org/tutorials/beginner/blitz/cifar10_tutorial.html"
   ]
  },
  {
   "cell_type": "markdown",
   "metadata": {},
   "source": [
    "This is it. You have seen how to define neural networks, compute loss and make updates to the weights of the network.\n",
    "\n",
    "Now you might be thinking,"
   ]
  },
  {
   "cell_type": "markdown",
   "metadata": {},
   "source": [
    "## What about data?"
   ]
  },
  {
   "cell_type": "markdown",
   "metadata": {},
   "source": [
    "Generally, when you have to deal with image, text, audio or video data, you can use standard python packages that load data into a numpy array. \n",
    "Then you can convert this array into a `torch.Tensor`.\n",
    "\n",
    "* For images, packages such as **Pillow**, **OpenCV** are useful.\n",
    "* For audio, packages such as **scipy** and **librosa**.\n",
    "* For text, either **raw Python or Cython based loading**, or **NLTK** and **SpaCy** are useful.\n",
    "\n",
    "Specifically for vision, we have created a package called `torchvision`, that has data loaders for common datasets such as *Imagenet*, *CIFAR10*, *MNIST*, etc. and data transformers for images, viz., `torchvision.datasets` and `torch.utils.data.DataLoader`.\n",
    "\n",
    "This provides a huge convenience and avoids writing boilerplate code.\n",
    "\n",
    "For this tutorial, we will use the *CIFAR10* dataset. It has the classes: ‘airplane’, ‘automobile’, ‘bird’, ‘cat’, ‘deer’, ‘dog’, ‘frog’, ‘horse’, ‘ship’, ‘truck’. The images in *CIFAR-10* are of size 3x 32x32, i.e. 3-channel color images of 32x32 pixels in size."
   ]
  },
  {
   "cell_type": "markdown",
   "metadata": {},
   "source": [
    "![img](./content/60_min_blitz_4_train_img1.png)\n",
    "\n",
    "(cifar10)"
   ]
  },
  {
   "cell_type": "markdown",
   "metadata": {},
   "source": [
    "## Training an image classifier"
   ]
  },
  {
   "cell_type": "markdown",
   "metadata": {},
   "source": [
    "We will do the following steps in order:\n",
    "\n",
    "1. Load and normalizing the *CIFAR10* training and test datasets using `torchvision`\n",
    "1. Define a Convolutional Neural Network\n",
    "1. Define a loss function\n",
    "1. Train the network on the training data\n",
    "1. Test the network on the test data"
   ]
  },
  {
   "cell_type": "markdown",
   "metadata": {},
   "source": [
    "## 1. Loading and normalizing CIFAR10 "
   ]
  },
  {
   "cell_type": "markdown",
   "metadata": {},
   "source": [
    "#### Using `torchvision`, it’s extremely easy to load *CIFAR10*."
   ]
  },
  {
   "cell_type": "code",
   "execution_count": 1,
   "metadata": {},
   "outputs": [],
   "source": [
    "import torch\n",
    "import torchvision\n",
    "import torchvision.transforms as transforms"
   ]
  },
  {
   "cell_type": "markdown",
   "metadata": {},
   "source": [
    "#### The output of `torchvision` datasets are [PILImage](https://pillow.readthedocs.io/en/stable/reference/Image.html) images of range \\[0, 1\\]. We transform them to Tensors of normalized range \\[-1, 1\\]:"
   ]
  },
  {
   "cell_type": "code",
   "execution_count": 3,
   "metadata": {},
   "outputs": [],
   "source": [
    "transform = transforms.Compose(\n",
    "    [\n",
    "        transforms.ToTensor(),\n",
    "        transforms.Normalize((0.5, 0.5, 0.5), (0.5, 0.5, 0.5))  # The parameters are the mean and std ((0., 0., 0.,), (1., 1., 1.)) OF THE EXISTING DATA, not what we want it to be!\n",
    "    ]\n",
    ")"
   ]
  },
  {
   "cell_type": "markdown",
   "metadata": {},
   "source": [
    "Torchvision transforms documentation [here](https://pytorch.org/docs/stable/torchvision/transforms.html)\n",
    "* `.Componse()` composes several transforms together - [ref](https://pytorch.org/docs/stable/torchvision/transforms.html#torchvision.transforms.Compose).\n",
    "* `.ToTensor()` converts a PIL Image or numpy.ndarray to tensor - [ref](https://pytorch.org/docs/stable/torchvision/transforms.html#torchvision.transforms.ToTensor).\n",
    "* `.Normalize()` provide it a tuple of meand and std's per channel to normalise image - [ref](https://pytorch.org/docs/stable/torchvision/transforms.html#torchvision.transforms.Normalize)"
   ]
  },
  {
   "cell_type": "markdown",
   "metadata": {},
   "source": [
    "#### Fetch the train and test sets of CIFAR10:"
   ]
  },
  {
   "cell_type": "code",
   "execution_count": 4,
   "metadata": {},
   "outputs": [
    {
     "name": "stdout",
     "output_type": "stream",
     "text": [
      "Downloading https://www.cs.toronto.edu/~kriz/cifar-10-python.tar.gz to ./data/cifar-10-python.tar.gz\n"
     ]
    },
    {
     "name": "stderr",
     "output_type": "stream",
     "text": [
      "100.0%"
     ]
    },
    {
     "name": "stdout",
     "output_type": "stream",
     "text": [
      "Extracting ./data/cifar-10-python.tar.gz to ./data\n",
      "<class 'torchvision.datasets.cifar.CIFAR10'>\n",
      "<class 'torch.utils.data.dataloader.DataLoader'>\n"
     ]
    }
   ],
   "source": [
    "trainset = torchvision.datasets.CIFAR10(root=\"./data\", train=True, download=True, transform=transform)    # Note: train=True/False will fetch DIFFERENT PARTS OF THE DATASET.\n",
    "# ^ See https://pytorch.org/docs/stable/torchvision/datasets.html#torchvision.datasets.CIFAR10\n",
    "print(type(trainset))\n",
    "\n",
    "trainloader = torch.utils.data.DataLoader(trainset, batch_size=4, shuffle=True, num_workers=2)  \n",
    "# ^ See https://pytorch.org/docs/stable/data.html\n",
    "print(type(trainloader))"
   ]
  },
  {
   "cell_type": "markdown",
   "metadata": {},
   "source": [
    "##### Note: definitely worth reading re. data utilities in PyTorch: [DataLoader docs](https://pytorch.org/docs/stable/data.html)\n",
    "* Key use - **batching** ([docs](https://pytorch.org/docs/stable/data.html#loading-batched-and-non-batched-data))"
   ]
  },
  {
   "cell_type": "code",
   "execution_count": 5,
   "metadata": {},
   "outputs": [
    {
     "name": "stdout",
     "output_type": "stream",
     "text": [
      "Files already downloaded and verified\n"
     ]
    }
   ],
   "source": [
    "testset = torchvision.datasets.CIFAR10(root='./data', train=False, download=True, transform=transform)\n",
    "testloader = torch.utils.data.DataLoader(testset, batch_size=4, shuffle=False, num_workers=2)"
   ]
  },
  {
   "cell_type": "code",
   "execution_count": 7,
   "metadata": {},
   "outputs": [
    {
     "data": {
      "text/plain": [
       "Dataset CIFAR10\n",
       "    Number of datapoints: 50000\n",
       "    Root location: ./data\n",
       "    Split: Train\n",
       "    StandardTransform\n",
       "Transform: Compose(\n",
       "               ToTensor()\n",
       "               Normalize(mean=(0.5, 0.5, 0.5), std=(0.5, 0.5, 0.5))\n",
       "           )"
      ]
     },
     "metadata": {},
     "output_type": "display_data"
    },
    {
     "name": "stdout",
     "output_type": "stream",
     "text": [
      "-----\n"
     ]
    },
    {
     "data": {
      "text/plain": [
       "<torch.utils.data.dataloader.DataLoader at 0x7f7aacdfa1d0>"
      ]
     },
     "metadata": {},
     "output_type": "display_data"
    }
   ],
   "source": [
    "display(trainset)\n",
    "print(\"-----\")\n",
    "display(trainloader)"
   ]
  },
  {
   "cell_type": "code",
   "execution_count": 21,
   "metadata": {},
   "outputs": [
    {
     "data": {
      "text/plain": [
       "(tensor([[[-0.7804, -0.7098, -0.7020,  ..., -0.4039, -0.3647, -0.3333],\n",
       "          [-0.7412, -0.7333, -0.7490,  ..., -0.2549, -0.2471, -0.3333],\n",
       "          [-0.6941, -0.6863, -0.5529,  ..., -0.2706, -0.1608, -0.2549],\n",
       "          ...,\n",
       "          [-0.3490, -0.3176, -0.3412,  ..., -0.2235, -0.2941, -0.3647],\n",
       "          [-0.3098, -0.2941, -0.2706,  ..., -0.3725, -0.4039, -0.3569],\n",
       "          [-0.2392, -0.2627, -0.2706,  ..., -0.5765, -0.5059, -0.4353]],\n",
       " \n",
       "         [[-0.8039, -0.7333, -0.7255,  ..., -0.4745, -0.4353, -0.4039],\n",
       "          [-0.7804, -0.7647, -0.7882,  ..., -0.3569, -0.3569, -0.4353],\n",
       "          [-0.7490, -0.7412, -0.6078,  ..., -0.4039, -0.3020, -0.3961],\n",
       "          ...,\n",
       "          [-0.4275, -0.3961, -0.4196,  ..., -0.2706, -0.3412, -0.4118],\n",
       "          [-0.4353, -0.4196, -0.3961,  ..., -0.4196, -0.4510, -0.4039],\n",
       "          [-0.3882, -0.4118, -0.4118,  ..., -0.6314, -0.5608, -0.4902]],\n",
       " \n",
       "         [[-0.9216, -0.8510, -0.8431,  ..., -0.6941, -0.6627, -0.6314],\n",
       "          [-0.8980, -0.8902, -0.9059,  ..., -0.5686, -0.5608, -0.6471],\n",
       "          [-0.8824, -0.8667, -0.7412,  ..., -0.5922, -0.4824, -0.5765],\n",
       "          ...,\n",
       "          [-0.5922, -0.5608, -0.5922,  ..., -0.4510, -0.5216, -0.5922],\n",
       "          [-0.6000, -0.5922, -0.5608,  ..., -0.5843, -0.6157, -0.5686],\n",
       "          [-0.5608, -0.5843, -0.5843,  ..., -0.7804, -0.7098, -0.6392]]]), 4)"
      ]
     },
     "metadata": {},
     "output_type": "display_data"
    },
    {
     "name": "stdout",
     "output_type": "stream",
     "text": [
      "torch.Size([3, 32, 32]) \n",
      " 4\n",
      "----\n",
      "50000\n",
      "10000\n"
     ]
    }
   ],
   "source": [
    "# Dataset\n",
    "# See: https://pytorch.org/docs/stable/data.html#torch.utils.data.Dataset\n",
    "\n",
    "# Can just get data item like so:\n",
    "display(trainset[3])\n",
    "print(trainset[3][0].size(), \"\\n\", trainset[3][1])\n",
    "# trainset[idx] returns a tuple: (image [torch.Tensor in our case], label)\n",
    "# That is, one image, NOT a batch of 4.\n",
    "\n",
    "print(\"----\")\n",
    "print(len(trainset))\n",
    "print(len(testset))"
   ]
  },
  {
   "cell_type": "code",
   "execution_count": 10,
   "metadata": {},
   "outputs": [],
   "source": [
    "# We manually defining the classes?\n",
    "classes = ('plane', 'car', 'bird', 'cat', 'deer', 'dog', 'frog', 'horse', 'ship', 'truck')"
   ]
  },
  {
   "cell_type": "markdown",
   "metadata": {},
   "source": [
    "#### Let us show some of the training images, for fun:"
   ]
  },
  {
   "cell_type": "code",
   "execution_count": 11,
   "metadata": {},
   "outputs": [],
   "source": [
    "import matplotlib.pyplot as plt\n",
    "import numpy as np"
   ]
  },
  {
   "cell_type": "code",
   "execution_count": 12,
   "metadata": {},
   "outputs": [],
   "source": [
    "# Function to show an image\n",
    "def imshow(img, verbose=False):\n",
    "    img = img / 2 + 0.5  # Unnormalize\n",
    "    if verbose:\n",
    "        print(\"type before .numpy() call: {}\".format(type(img)))\n",
    "    npimg = img.numpy()\n",
    "    if verbose:\n",
    "        print(\"type after .numpy() call: {}\".format(type(img)))\n",
    "    plt.imshow(np.transpose(npimg, (1, 2, 0)))\n",
    "    plt.show()"
   ]
  },
  {
   "cell_type": "code",
   "execution_count": 13,
   "metadata": {},
   "outputs": [],
   "source": [
    "# Get some images - use an iterator (on the DataLoader!).\n",
    "dataiter = iter(trainloader)"
   ]
  },
  {
   "cell_type": "code",
   "execution_count": 23,
   "metadata": {},
   "outputs": [
    {
     "name": "stdout",
     "output_type": "stream",
     "text": [
      "<class 'torch.Tensor'> <class 'torch.Tensor'>\n",
      "torch.Size([4, 3, 32, 32])\n",
      "tensor([4, 1, 3, 5])\n"
     ]
    }
   ],
   "source": [
    "images, labels = dataiter.next()\n",
    "print(type(images), type(labels))\n",
    "print(images.size())  # We get a BATCH of 4 images, each 3 channels and 32x32.\n",
    "print(labels)"
   ]
  },
  {
   "cell_type": "markdown",
   "metadata": {},
   "source": [
    "##### **Why is it called image_s_ and label_s_?**\n",
    "Because automatic batching of size 4 has already been applied, so `images` has `torch.Size([4, 3, 32, 32])` (note the `4`)."
   ]
  },
  {
   "cell_type": "code",
   "execution_count": 26,
   "metadata": {},
   "outputs": [
    {
     "name": "stdout",
     "output_type": "stream",
     "text": [
      "<class 'torch.Tensor'> \n",
      "---\n",
      " tensor([[[ 0.0000,  0.0000,  0.0000,  ...,  0.0000,  0.0000,  0.0000],\n",
      "         [ 0.0000,  0.0000,  0.0000,  ...,  0.0000,  0.0000,  0.0000],\n",
      "         [ 0.0000,  0.0000, -0.6314,  ..., -0.4196,  0.0000,  0.0000],\n",
      "         ...,\n",
      "         [ 0.0000,  0.0000,  0.2392,  ...,  0.1922,  0.0000,  0.0000],\n",
      "         [ 0.0000,  0.0000,  0.0000,  ...,  0.0000,  0.0000,  0.0000],\n",
      "         [ 0.0000,  0.0000,  0.0000,  ...,  0.0000,  0.0000,  0.0000]],\n",
      "\n",
      "        [[ 0.0000,  0.0000,  0.0000,  ...,  0.0000,  0.0000,  0.0000],\n",
      "         [ 0.0000,  0.0000,  0.0000,  ...,  0.0000,  0.0000,  0.0000],\n",
      "         [ 0.0000,  0.0000, -0.5843,  ..., -0.5608,  0.0000,  0.0000],\n",
      "         ...,\n",
      "         [ 0.0000,  0.0000,  0.3882,  ...,  0.1216,  0.0000,  0.0000],\n",
      "         [ 0.0000,  0.0000,  0.0000,  ...,  0.0000,  0.0000,  0.0000],\n",
      "         [ 0.0000,  0.0000,  0.0000,  ...,  0.0000,  0.0000,  0.0000]],\n",
      "\n",
      "        [[ 0.0000,  0.0000,  0.0000,  ...,  0.0000,  0.0000,  0.0000],\n",
      "         [ 0.0000,  0.0000,  0.0000,  ...,  0.0000,  0.0000,  0.0000],\n",
      "         [ 0.0000,  0.0000, -0.7098,  ..., -0.8588,  0.0000,  0.0000],\n",
      "         ...,\n",
      "         [ 0.0000,  0.0000, -0.3176,  ...,  0.0039,  0.0000,  0.0000],\n",
      "         [ 0.0000,  0.0000,  0.0000,  ...,  0.0000,  0.0000,  0.0000],\n",
      "         [ 0.0000,  0.0000,  0.0000,  ...,  0.0000,  0.0000,  0.0000]]]) \n",
      "---\n",
      " torch.Size([3, 36, 138])\n"
     ]
    }
   ],
   "source": [
    "# Show images.\n",
    "\n",
    "grid = torchvision.utils.make_grid(images)\n",
    "# ^ ref: https://pytorch.org/docs/stable/torchvision/utils.html#torchvision.utils.make_grid\n",
    "# It makes a grid with padding (output here 3 channels x 32+padding height x 32*4+padding length).\n",
    "\n",
    "print(type(grid), \"\\n---\\n\", grid, \"\\n---\\n\", grid.size())"
   ]
  },
  {
   "cell_type": "code",
   "execution_count": 27,
   "metadata": {},
   "outputs": [
    {
     "data": {
      "image/png": "[encoded data removed]",
      "text/plain": [
       "<Figure size 432x288 with 1 Axes>"
      ]
     },
     "metadata": {
      "needs_background": "light"
     },
     "output_type": "display_data"
    }
   ],
   "source": [
    "imshow(grid)"
   ]
  },
  {
   "cell_type": "code",
   "execution_count": 28,
   "metadata": {},
   "outputs": [
    {
     "name": "stdout",
     "output_type": "stream",
     "text": [
      "deer  car   cat   dog  \n"
     ]
    }
   ],
   "source": [
    "# Print labels:\n",
    "print(' '.join('{:5s}'.format(classes[labels[j]]) for j in range(4)))"
   ]
  },
  {
   "cell_type": "markdown",
   "metadata": {},
   "source": [
    "## 2. Define a Convolutional Neural Network"
   ]
  },
  {
   "cell_type": "markdown",
   "metadata": {},
   "source": [
    "#### Copy the neural network from the Neural Networks section before and modify it to take 3-channel images (instead of 1-channel images as it was defined). "
   ]
  },
  {
   "cell_type": "code",
   "execution_count": 29,
   "metadata": {},
   "outputs": [],
   "source": [
    "import torch.nn as nn\n",
    "import torch.nn.functional as F"
   ]
  },
  {
   "cell_type": "code",
   "execution_count": 30,
   "metadata": {},
   "outputs": [],
   "source": [
    "class Net(nn.Module):\n",
    "    def __init__(self):\n",
    "        super(Net, self).__init__()\n",
    "        self.conv1 = nn.Conv2d(3, 6, 5)\n",
    "        self.pool = nn.MaxPool2d(2, 2)\n",
    "        self.conv2 = nn.Conv2d(6, 16, 5)\n",
    "        self.fc1 = nn.Linear(16 * 5 * 5, 120)\n",
    "        self.fc2 = nn.Linear(120, 84)\n",
    "        self.fc3 = nn.Linear(84, 10)\n",
    "\n",
    "    def forward(self, x):\n",
    "        x = self.pool(F.relu(self.conv1(x)))  # BTW, don't seem to explicitly define batch size here or in __init__() - the input `x` IS EPECTED TO BE BATCH-ISED already, should handle any batch size.\n",
    "        x = self.pool(F.relu(self.conv2(x)))\n",
    "        x = x.view(-1, 16 * 5 * 5)\n",
    "        x = F.relu(self.fc1(x))\n",
    "        x = F.relu(self.fc2(x))\n",
    "        x = self.fc3(x)\n",
    "        return x"
   ]
  },
  {
   "cell_type": "code",
   "execution_count": 31,
   "metadata": {},
   "outputs": [],
   "source": [
    "net = Net()"
   ]
  },
  {
   "cell_type": "markdown",
   "metadata": {},
   "source": [
    "## 3. Define a Loss function and optimizer"
   ]
  },
  {
   "cell_type": "markdown",
   "metadata": {},
   "source": [
    "##### Let’s use a **Classification Cross-Entropy** loss and **SGD with momentum**. "
   ]
  },
  {
   "cell_type": "code",
   "execution_count": 32,
   "metadata": {},
   "outputs": [],
   "source": [
    "import torch.optim as optim"
   ]
  },
  {
   "cell_type": "code",
   "execution_count": 34,
   "metadata": {},
   "outputs": [],
   "source": [
    "criterion = nn.CrossEntropyLoss()\n",
    "optimiser = optim.SGD(net.parameters(), lr=0.001, momentum=0.9)"
   ]
  },
  {
   "cell_type": "markdown",
   "metadata": {},
   "source": [
    "## 4. Train the network"
   ]
  },
  {
   "cell_type": "markdown",
   "metadata": {},
   "source": [
    "##### This is when things start to get interesting. We simply have to loop over our data iterator, and feed the inputs to the network and optimize. "
   ]
  },
  {
   "cell_type": "code",
   "execution_count": 38,
   "metadata": {},
   "outputs": [
    {
     "name": "stdout",
     "output_type": "stream",
     "text": [
      "[1,  2000] loss: 2.224\n",
      "[1,  4000] loss: 1.899\n",
      "[1,  6000] loss: 1.705\n",
      "[1,  8000] loss: 1.602\n",
      "[1, 10000] loss: 1.537\n",
      "[1, 12000] loss: 1.473\n",
      "[2,  2000] loss: 1.427\n",
      "[2,  4000] loss: 1.383\n",
      "[2,  6000] loss: 1.355\n",
      "[2,  8000] loss: 1.355\n",
      "[2, 10000] loss: 1.351\n",
      "[2, 12000] loss: 1.309\n",
      "[3,  2000] loss: 1.265\n",
      "[3,  4000] loss: 1.225\n",
      "[3,  6000] loss: 1.237\n",
      "[3,  8000] loss: 1.233\n",
      "[3, 10000] loss: 1.203\n",
      "[3, 12000] loss: 1.204\n",
      "Finished training.\n"
     ]
    }
   ],
   "source": [
    "for epoch in range(3):  # loop over the dataset multiple times.\n",
    "    \n",
    "    running_loss = 0.0\n",
    "    \n",
    "    for idx, data in enumerate(trainloader, 0):  # Iterate through training dat: will be in BATCHES (of 4), technically, \"mini-batches\"!\n",
    "        \n",
    "        # Get the inputs; data is a list of [inputs, labels].\n",
    "        inputs, labels = data  # Open up the tuple.\n",
    "        \n",
    "        # Zero the parameter gradients.\n",
    "        optimiser.zero_grad()  # Apparently can call `.zero_grad()` **through** the optimiser.\n",
    "        \n",
    "        # Main step: forward + backward + optimise (update weights).\n",
    "        outputs = net(inputs)\n",
    "        loss = criterion(outputs, labels)\n",
    "        loss.backward()\n",
    "        optimiser.step()\n",
    "        \n",
    "        # Print statistics.\n",
    "        running_loss += loss.item()  # `.item()` just gets scalar value.\n",
    "        if idx % 2000 == 1999:  # Print every 2000 mini-batches.\n",
    "            print(\"[{epoch:d}, {batches:5d}] loss: {loss:.3f}\".format(epoch=epoch+1, batches=idx+1, loss=running_loss/2000))  # `runnig_loss` is for keeping track of the batch's (mean) loss.\n",
    "            running_loss = 0.0\n",
    "\n",
    "print(\"Finished training.\")"
   ]
  },
  {
   "cell_type": "markdown",
   "metadata": {},
   "source": [
    "## 5. Test the network on the test data"
   ]
  },
  {
   "cell_type": "markdown",
   "metadata": {},
   "source": [
    "We have trained the network for 3 passes over the training dataset. But we need to check if the network has learnt anything at all.\n",
    "\n",
    "We will check this by predicting the class label that the neural network outputs, and checking it against the ground-truth. \n",
    "If the prediction is correct, we add the sample to the list of correct predictions."
   ]
  },
  {
   "cell_type": "markdown",
   "metadata": {},
   "source": [
    "#### Okay, first step. Let us display an image from the test set to get familiar. "
   ]
  },
  {
   "cell_type": "code",
   "execution_count": 39,
   "metadata": {},
   "outputs": [],
   "source": [
    "dataiter = iter(testloader)  # Grab data from the **test** sample now.\n",
    "images, labels = dataiter.next()"
   ]
  },
  {
   "cell_type": "code",
   "execution_count": 41,
   "metadata": {},
   "outputs": [
    {
     "data": {
      "image/png": "[encoded data removed]",
      "text/plain": [
       "<Figure size 432x288 with 1 Axes>"
      ]
     },
     "metadata": {
      "needs_background": "light"
     },
     "output_type": "display_data"
    },
    {
     "name": "stdout",
     "output_type": "stream",
     "text": [
      "cat   ship  ship  plane\n"
     ]
    }
   ],
   "source": [
    "# Print images.\n",
    "grid = torchvision.utils.make_grid(images)\n",
    "imshow(grid)\n",
    "print(' '.join('{:5s}'.format(classes[labels[j]]) for j in range(4)))"
   ]
  },
  {
   "cell_type": "markdown",
   "metadata": {},
   "source": [
    "#### Okay, now let us see what the neural network thinks these examples above are:"
   ]
  },
  {
   "cell_type": "code",
   "execution_count": 42,
   "metadata": {},
   "outputs": [
    {
     "data": {
      "text/plain": [
       "tensor([[-1.2878, -0.9623, -0.1424,  4.1226, -0.9855,  3.3889, -2.1245,  1.3772,\n",
       "          2.3053, -1.7221],\n",
       "        [ 5.3849,  7.9187, -2.3839, -2.5407, -5.1791, -5.6475, -5.7884, -2.8265,\n",
       "          6.0672,  5.0593],\n",
       "        [ 2.2604,  4.0723, -0.9689, -1.2213, -2.3490, -2.9686, -2.6740, -2.0063,\n",
       "          3.8347,  2.4865],\n",
       "        [ 3.3260,  2.7925, -0.2791, -1.2800, -2.1023, -3.5005, -2.9844, -1.6432,\n",
       "          4.0963,  2.7930]], grad_fn=<AddmmBackward>)"
      ]
     },
     "metadata": {},
     "output_type": "display_data"
    }
   ],
   "source": [
    "outputs = net(images)\n",
    "display(outputs)"
   ]
  },
  {
   "cell_type": "markdown",
   "metadata": {},
   "source": [
    "The outputs are energies for the 10 classes. \n",
    "\n",
    "The higher the energy for a class, the more the network thinks that the image is of the particular class. \n",
    "\n",
    "So, let’s get the index of the highest energy: "
   ]
  },
  {
   "cell_type": "code",
   "execution_count": 44,
   "metadata": {},
   "outputs": [
    {
     "data": {
      "text/plain": [
       "tensor([3, 1, 1, 8])"
      ]
     },
     "metadata": {},
     "output_type": "display_data"
    }
   ],
   "source": [
    "_, predicted = torch.max(outputs, 1)\n",
    "display(predicted)"
   ]
  },
  {
   "cell_type": "code",
   "execution_count": 54,
   "metadata": {},
   "outputs": [
    {
     "name": "stdout",
     "output_type": "stream",
     "text": [
      "Predicted:  frog  deer  horse bird \n"
     ]
    }
   ],
   "source": [
    "print(\"Predicted: \", \" \".join(\"{:5s}\".format(classes[predicted[j]]) for j in range(4)))"
   ]
  },
  {
   "cell_type": "markdown",
   "metadata": {},
   "source": [
    "The results seem pretty good (nope).\n",
    "\n",
    "Let us look at how the network performs on the whole dataset."
   ]
  },
  {
   "cell_type": "code",
   "execution_count": 55,
   "metadata": {},
   "outputs": [],
   "source": [
    "correct = 0\n",
    "total = 0"
   ]
  },
  {
   "cell_type": "code",
   "execution_count": 56,
   "metadata": {},
   "outputs": [],
   "source": [
    "with torch.no_grad():  # Halt gradient tracking.\n",
    "    for data in testloader: # Iterate over test batches.\n",
    "        images, labels = data\n",
    "        outputs = net(images)\n",
    "        _, predicted = torch.max(outputs.data, 1)\n",
    "        total += labels.size(0)\n",
    "        correct += (predicted == labels).sum().item()"
   ]
  },
  {
   "cell_type": "code",
   "execution_count": 58,
   "metadata": {},
   "outputs": [
    {
     "name": "stdout",
     "output_type": "stream",
     "text": [
      "Accuracy of the network on the 10000 test images: 57.580%\n"
     ]
    }
   ],
   "source": [
    "print(\"Accuracy of the network on the 10000 test images: {:.3f}%\".format(100 * correct / total))"
   ]
  },
  {
   "cell_type": "markdown",
   "metadata": {},
   "source": [
    "That looks way better than chance, which is 10% accuracy (randomly picking a class out of 10 classes). Seems like the network learnt something."
   ]
  },
  {
   "cell_type": "markdown",
   "metadata": {},
   "source": [
    "#### Hmmm, what are the classes that performed well, and the classes that did not perform well: "
   ]
  },
  {
   "cell_type": "code",
   "execution_count": 59,
   "metadata": {},
   "outputs": [],
   "source": [
    "class_correct = list(0. for i in range(10))\n",
    "class_total = list(0. for i in range(10))\n",
    "\n",
    "# Just keep tallies for class_correct and class_total for each class.\n",
    "with torch.no_grad():\n",
    "    for data in testloader:\n",
    "        images, labels = data\n",
    "        outputs = net(images)\n",
    "        _, predicted = torch.max(outputs, 1)\n",
    "        c = (predicted == labels).squeeze()\n",
    "        for i in range(4):\n",
    "            label = labels[i]\n",
    "            class_correct[label] += c[i].item()\n",
    "            class_total[label] += 1"
   ]
  },
  {
   "cell_type": "code",
   "execution_count": 60,
   "metadata": {},
   "outputs": [
    {
     "name": "stdout",
     "output_type": "stream",
     "text": [
      "Accuracy of plane : 58.00%\n",
      "Accuracy of car   : 70.30%\n",
      "Accuracy of bird  : 39.20%\n",
      "Accuracy of cat   : 31.90%\n",
      "Accuracy of deer  : 51.80%\n",
      "Accuracy of dog   : 53.80%\n",
      "Accuracy of frog  : 64.00%\n",
      "Accuracy of horse : 65.70%\n",
      "Accuracy of ship  : 73.60%\n",
      "Accuracy of truck : 67.50%\n"
     ]
    }
   ],
   "source": [
    "for i in range(10):\n",
    "    print(\"Accuracy of {:5s} : {:.2f}%\".format(classes[i], 100 * class_correct[i] / class_total[i]))"
   ]
  },
  {
   "cell_type": "markdown",
   "metadata": {},
   "source": [
    "Okay, so what next?\n",
    "\n",
    "How do we run these neural networks on the GPU?"
   ]
  },
  {
   "cell_type": "markdown",
   "metadata": {},
   "source": [
    "## Training on GPU"
   ]
  },
  {
   "cell_type": "markdown",
   "metadata": {},
   "source": [
    "Just like how you transfer a Tensor onto the GPU, you **transfer the neural net onto the GPU**."
   ]
  },
  {
   "cell_type": "markdown",
   "metadata": {},
   "source": [
    "#### Let’s first define our device as the first visible cuda device if we have CUDA available: "
   ]
  },
  {
   "cell_type": "code",
   "execution_count": 61,
   "metadata": {},
   "outputs": [],
   "source": [
    "device = torch.device(\"cuda:0\" if torch.cuda.is_available() else \"cpu\")"
   ]
  },
  {
   "cell_type": "code",
   "execution_count": 62,
   "metadata": {},
   "outputs": [
    {
     "data": {
      "text/plain": [
       "device(type='cuda', index=0)"
      ]
     },
     "metadata": {},
     "output_type": "display_data"
    }
   ],
   "source": [
    "# Assuming that we are on a CUDA machine, this should print a CUDA device:\n",
    "display(device)"
   ]
  },
  {
   "cell_type": "markdown",
   "metadata": {},
   "source": [
    "The rest of this section assumes that `device` is a CUDA device.\n",
    "\n",
    "Then these methods will recursively go over all modules and convert their parameters and buffers to CUDA tensors:"
   ]
  },
  {
   "cell_type": "code",
   "execution_count": 63,
   "metadata": {},
   "outputs": [
    {
     "data": {
      "text/plain": [
       "Net(\n",
       "  (conv1): Conv2d(3, 6, kernel_size=(5, 5), stride=(1, 1))\n",
       "  (pool): MaxPool2d(kernel_size=2, stride=2, padding=0, dilation=1, ceil_mode=False)\n",
       "  (conv2): Conv2d(6, 16, kernel_size=(5, 5), stride=(1, 1))\n",
       "  (fc1): Linear(in_features=400, out_features=120, bias=True)\n",
       "  (fc2): Linear(in_features=120, out_features=84, bias=True)\n",
       "  (fc3): Linear(in_features=84, out_features=10, bias=True)\n",
       ")"
      ]
     },
     "execution_count": 63,
     "metadata": {},
     "output_type": "execute_result"
    }
   ],
   "source": [
    "# Transfer the net to CUDA!\n",
    "# net.to(device)  # `.to(<device>)`"
   ]
  },
  {
   "cell_type": "markdown",
   "metadata": {},
   "source": [
    "##### Remember that you will have to **send the inputs and targets at every step to the GPU** too: "
   ]
  },
  {
   "cell_type": "code",
   "execution_count": 66,
   "metadata": {},
   "outputs": [],
   "source": [
    "# Like so: inputs, labels = data[0].to(device), data[1].to(device)"
   ]
  },
  {
   "cell_type": "markdown",
   "metadata": {},
   "source": [
    "#### Actually train on GPU "
   ]
  },
  {
   "cell_type": "code",
   "execution_count": 67,
   "metadata": {},
   "outputs": [],
   "source": [
    "net = net.to(device)"
   ]
  },
  {
   "cell_type": "code",
   "execution_count": 69,
   "metadata": {},
   "outputs": [],
   "source": [
    "optimiser = optim.SGD(net.parameters(), lr=0.001, momentum=0.9)"
   ]
  },
  {
   "cell_type": "code",
   "execution_count": 70,
   "metadata": {},
   "outputs": [
    {
     "name": "stdout",
     "output_type": "stream",
     "text": [
      "[1,  2000] loss: 1.116\n",
      "[1,  4000] loss: 1.144\n",
      "[1,  6000] loss: 1.140\n",
      "[1,  8000] loss: 1.147\n",
      "[1, 10000] loss: 1.141\n",
      "[1, 12000] loss: 1.141\n",
      "[2,  2000] loss: 1.050\n",
      "[2,  4000] loss: 1.061\n",
      "[2,  6000] loss: 1.099\n",
      "[2,  8000] loss: 1.045\n",
      "[2, 10000] loss: 1.088\n",
      "[2, 12000] loss: 1.063\n",
      "[3,  2000] loss: 1.001\n",
      "[3,  4000] loss: 1.012\n",
      "[3,  6000] loss: 1.017\n",
      "[3,  8000] loss: 1.039\n",
      "[3, 10000] loss: 1.010\n",
      "[3, 12000] loss: 1.039\n",
      "Finished training.\n"
     ]
    }
   ],
   "source": [
    "for epoch in range(3):  # loop over the dataset multiple times.\n",
    "    \n",
    "    running_loss = 0.0\n",
    "    \n",
    "    for idx, data in enumerate(trainloader, 0):  # Iterate through training dat: will be in BATCHES (of 4), technically, \"mini-batches\"!\n",
    "        \n",
    "        # Get the inputs; data is a list of [inputs, labels].\n",
    "        inputs, labels = data[0].to(device), data[1].to(device)  # Open up the tuple.\n",
    "        \n",
    "        # Zero the parameter gradients.\n",
    "        optimiser.zero_grad()  # Apparently can call `.zero_grad()` **through** the optimiser.\n",
    "        \n",
    "        # Main step: forward + backward + optimise (update weights).\n",
    "        outputs = net(inputs)\n",
    "        loss = criterion(outputs, labels)\n",
    "        loss.backward()\n",
    "        optimiser.step()\n",
    "        \n",
    "        # Print statistics.\n",
    "        running_loss += loss.item()  # `.item()` just gets scalar value.\n",
    "        if idx % 2000 == 1999:  # Print every 2000 mini-batches.\n",
    "            print(\"[{epoch:d}, {batches:5d}] loss: {loss:.3f}\".format(epoch=epoch+1, batches=idx+1, loss=running_loss/2000))  # `runnig_loss` is for keeping track of the batch's (mean) loss.\n",
    "            running_loss = 0.0\n",
    "\n",
    "print(\"Finished training.\")"
   ]
  },
  {
   "cell_type": "markdown",
   "metadata": {},
   "source": [
    "Why dont I notice MASSIVE speedup compared to CPU? Because your network is really small."
   ]
  },
  {
   "cell_type": "markdown",
   "metadata": {},
   "source": [
    "##### **Exercise:**\n",
    "Try increasing the width of your network (argument 2 of the first nn.Conv2d, and argument 1 of the second nn.Conv2d – they need to be the same number), see what kind of speedup you get."
   ]
  },
  {
   "cell_type": "code",
   "execution_count": 71,
   "metadata": {},
   "outputs": [],
   "source": [
    "# I'm willing to believe that the speedup will be significant in this case."
   ]
  },
  {
   "cell_type": "markdown",
   "metadata": {},
   "source": [
    "#### **Goals achieved:**\n",
    "* Understanding PyTorch’s Tensor library and neural networks at a high level.\n",
    "* Train a small neural network to classify images"
   ]
  },
  {
   "cell_type": "markdown",
   "metadata": {},
   "source": [
    "#### **Further reading**\n",
    "* [Train neural nets to play video games](https://pytorch.org/tutorials/intermediate/reinforcement_q_learning.html)\n",
    "* [Train a state-of-the-art ResNet network on imagenet](https://github.com/pytorch/examples/tree/master/imagenet)\n",
    "* [Train a face generator using Generative Adversarial Networks](https://github.com/pytorch/examples/tree/master/dcgan)\n",
    "* [Train a word-level language model using Recurrent LSTM networks](https://github.com/pytorch/examples/tree/master/word_language_model)\n",
    "* [More examples](https://github.com/pytorch/examples)\n",
    "* [More tutorials](https://github.com/pytorch/tutorials)"
   ]
  }
 ],
 "metadata": {
  "kernelspec": {
   "display_name": "Python [conda env:py37_pytorch_tutorials] *",
   "language": "python",
   "name": "conda-env-py37_pytorch_tutorials-py"
  },
  "language_info": {
   "codemirror_mode": {
    "name": "ipython",
    "version": 3
   },
   "file_extension": ".py",
   "mimetype": "text/x-python",
   "name": "python",
   "nbconvert_exporter": "python",
   "pygments_lexer": "ipython3",
   "version": "3.7.5"
  }
 },
 "nbformat": 4,
 "nbformat_minor": 4
}
