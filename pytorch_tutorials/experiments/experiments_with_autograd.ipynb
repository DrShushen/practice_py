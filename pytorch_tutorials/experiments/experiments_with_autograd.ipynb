{
 "cells": [
  {
   "cell_type": "code",
   "execution_count": 153,
   "metadata": {},
   "outputs": [],
   "source": [
    "import torch\n",
    "from torch import nn\n",
    "import torch.autograd\n",
    "\n",
    "from torchviz import make_dot  # https://github.com/szagoruyko/pytorchviz\n",
    "\n",
    "import numpy as np\n",
    "import matplotlib.pyplot as plt\n",
    "import pandas as pd\n",
    "\n",
    "import IPython.display as disp\n",
    "\n",
    "import pprint"
   ]
  },
  {
   "cell_type": "markdown",
   "metadata": {},
   "source": [
    "### Initialise things"
   ]
  },
  {
   "cell_type": "code",
   "execution_count": 2,
   "metadata": {},
   "outputs": [],
   "source": [
    "device = torch.device(\"cuda:0\")\n",
    "pp = pprint.PrettyPrinter(indent=4)"
   ]
  },
  {
   "cell_type": "markdown",
   "metadata": {},
   "source": [
    "### Display functions "
   ]
  },
  {
   "cell_type": "code",
   "execution_count": 3,
   "metadata": {},
   "outputs": [],
   "source": [
    "def tinfo(tensor, name=None):\n",
    "    if name is not None:\n",
    "        print(\"{}:\".format(name))\n",
    "        print(\"------------------\")\n",
    "    disp.display(tensor.shape)\n",
    "    disp.display(tensor.dtype)\n",
    "    disp.display(tensor.device)\n",
    "    print(\"------------------\")\n",
    "    disp.display(tensor)\n",
    "    print()"
   ]
  },
  {
   "cell_type": "markdown",
   "metadata": {},
   "source": [
    "# Simple computation graph example "
   ]
  },
  {
   "cell_type": "code",
   "execution_count": 4,
   "metadata": {},
   "outputs": [
    {
     "name": "stdout",
     "output_type": "stream",
     "text": [
      "x:\n",
      "------------------\n"
     ]
    },
    {
     "data": {
      "text/plain": [
       "torch.Size([1, 5])"
      ]
     },
     "metadata": {},
     "output_type": "display_data"
    },
    {
     "data": {
      "text/plain": [
       "torch.float64"
      ]
     },
     "metadata": {},
     "output_type": "display_data"
    },
    {
     "data": {
      "text/plain": [
       "device(type='cpu')"
      ]
     },
     "metadata": {},
     "output_type": "display_data"
    },
    {
     "name": "stdout",
     "output_type": "stream",
     "text": [
      "------------------\n"
     ]
    },
    {
     "data": {
      "text/plain": [
       "Parameter containing:\n",
       "tensor([[1., 2., 3., 4., 5.]], dtype=torch.float64, requires_grad=True)"
      ]
     },
     "metadata": {},
     "output_type": "display_data"
    },
    {
     "name": "stdout",
     "output_type": "stream",
     "text": [
      "\n",
      "W:\n",
      "------------------\n"
     ]
    },
    {
     "data": {
      "text/plain": [
       "torch.Size([5, 2])"
      ]
     },
     "metadata": {},
     "output_type": "display_data"
    },
    {
     "data": {
      "text/plain": [
       "torch.float64"
      ]
     },
     "metadata": {},
     "output_type": "display_data"
    },
    {
     "data": {
      "text/plain": [
       "device(type='cpu')"
      ]
     },
     "metadata": {},
     "output_type": "display_data"
    },
    {
     "name": "stdout",
     "output_type": "stream",
     "text": [
      "------------------\n"
     ]
    },
    {
     "data": {
      "text/plain": [
       "Parameter containing:\n",
       "tensor([[10., 10.],\n",
       "        [20., 20.],\n",
       "        [30., 30.],\n",
       "        [40., 40.],\n",
       "        [50., 50.]], dtype=torch.float64, requires_grad=True)"
      ]
     },
     "metadata": {},
     "output_type": "display_data"
    },
    {
     "name": "stdout",
     "output_type": "stream",
     "text": [
      "\n",
      "b:\n",
      "------------------\n"
     ]
    },
    {
     "data": {
      "text/plain": [
       "torch.Size([2])"
      ]
     },
     "metadata": {},
     "output_type": "display_data"
    },
    {
     "data": {
      "text/plain": [
       "torch.float64"
      ]
     },
     "metadata": {},
     "output_type": "display_data"
    },
    {
     "data": {
      "text/plain": [
       "device(type='cpu')"
      ]
     },
     "metadata": {},
     "output_type": "display_data"
    },
    {
     "name": "stdout",
     "output_type": "stream",
     "text": [
      "------------------\n"
     ]
    },
    {
     "data": {
      "text/plain": [
       "Parameter containing:\n",
       "tensor([1.2000, 1.2000], dtype=torch.float64, requires_grad=True)"
      ]
     },
     "metadata": {},
     "output_type": "display_data"
    },
    {
     "name": "stdout",
     "output_type": "stream",
     "text": [
      "\n",
      "xW = torch.mm(x, W):\n",
      "------------------\n"
     ]
    },
    {
     "data": {
      "text/plain": [
       "torch.Size([1, 2])"
      ]
     },
     "metadata": {},
     "output_type": "display_data"
    },
    {
     "data": {
      "text/plain": [
       "torch.float64"
      ]
     },
     "metadata": {},
     "output_type": "display_data"
    },
    {
     "data": {
      "text/plain": [
       "device(type='cpu')"
      ]
     },
     "metadata": {},
     "output_type": "display_data"
    },
    {
     "name": "stdout",
     "output_type": "stream",
     "text": [
      "------------------\n"
     ]
    },
    {
     "data": {
      "text/plain": [
       "tensor([[550., 550.]], dtype=torch.float64, grad_fn=<MmBackward>)"
      ]
     },
     "metadata": {},
     "output_type": "display_data"
    },
    {
     "name": "stdout",
     "output_type": "stream",
     "text": [
      "\n",
      "z = xW + b:\n",
      "------------------\n"
     ]
    },
    {
     "data": {
      "text/plain": [
       "torch.Size([1, 2])"
      ]
     },
     "metadata": {},
     "output_type": "display_data"
    },
    {
     "data": {
      "text/plain": [
       "torch.float64"
      ]
     },
     "metadata": {},
     "output_type": "display_data"
    },
    {
     "data": {
      "text/plain": [
       "device(type='cpu')"
      ]
     },
     "metadata": {},
     "output_type": "display_data"
    },
    {
     "name": "stdout",
     "output_type": "stream",
     "text": [
      "------------------\n"
     ]
    },
    {
     "data": {
      "text/plain": [
       "tensor([[551.2000, 551.2000]], dtype=torch.float64, grad_fn=<AddBackward0>)"
      ]
     },
     "metadata": {},
     "output_type": "display_data"
    },
    {
     "name": "stdout",
     "output_type": "stream",
     "text": [
      "\n",
      "o = torch.log(z):\n",
      "------------------\n"
     ]
    },
    {
     "data": {
      "text/plain": [
       "torch.Size([1, 2])"
      ]
     },
     "metadata": {},
     "output_type": "display_data"
    },
    {
     "data": {
      "text/plain": [
       "torch.float64"
      ]
     },
     "metadata": {},
     "output_type": "display_data"
    },
    {
     "data": {
      "text/plain": [
       "device(type='cpu')"
      ]
     },
     "metadata": {},
     "output_type": "display_data"
    },
    {
     "name": "stdout",
     "output_type": "stream",
     "text": [
      "------------------\n"
     ]
    },
    {
     "data": {
      "text/plain": [
       "tensor([[6.3121, 6.3121]], dtype=torch.float64, grad_fn=<LogBackward>)"
      ]
     },
     "metadata": {},
     "output_type": "display_data"
    },
    {
     "name": "stdout",
     "output_type": "stream",
     "text": [
      "\n"
     ]
    }
   ],
   "source": [
    "# Tensors:\n",
    "# Note: wrapped in nn.Parameter(...) only because that allows printing the paramter name on the computational graph, not necessary for computation.\n",
    "x = nn.Parameter(torch.tensor([[1, 2, 3, 4, 5]], dtype=float, requires_grad=True))\n",
    "W = nn.Parameter(torch.tensor(np.array([[10, 10], [20, 20], [30, 30], [40, 40], [50, 50]]), dtype=float, requires_grad=True))\n",
    "b = nn.Parameter(torch.tensor([1.2, 1.2], dtype=float, requires_grad=True))\n",
    "\n",
    "tinfo(x, \"x\")\n",
    "tinfo(W, \"W\")\n",
    "tinfo(b, \"b\")\n",
    "\n",
    "# Define computations:\n",
    "xW = torch.mm(x, W)\n",
    "z = xW + b\n",
    "o = torch.log(z)\n",
    "\n",
    "tinfo(xW, \"xW = torch.mm(x, W)\")\n",
    "tinfo(z, \"z = xW + b\")\n",
    "tinfo(o, \"o = torch.log(z)\")"
   ]
  },
  {
   "cell_type": "code",
   "execution_count": 5,
   "metadata": {},
   "outputs": [],
   "source": [
    "# Name the parameters\n",
    "params = {\"x\": x, \"W\": W, \"b\": b}"
   ]
  },
  {
   "cell_type": "code",
   "execution_count": 6,
   "metadata": {},
   "outputs": [
    {
     "data": {
      "image/svg+xml": [
       "<?xml version=\"1.0\" encoding=\"UTF-8\" standalone=\"no\"?>\n",
       "<!DOCTYPE svg PUBLIC \"-//W3C//DTD SVG 1.1//EN\"\n",
       " \"http://www.w3.org/Graphics/SVG/1.1/DTD/svg11.dtd\">\n",
       "<!-- Generated by graphviz version 2.40.1 (20161225.0304)\n",
       " -->\n",
       "<!-- Title: %3 Pages: 1 -->\n",
       "<svg width=\"186pt\" height=\"226pt\"\n",
       " viewBox=\"0.00 0.00 186.00 226.00\" xmlns=\"http://www.w3.org/2000/svg\" xmlns:xlink=\"http://www.w3.org/1999/xlink\">\n",
       "<g id=\"graph0\" class=\"graph\" transform=\"scale(1 1) rotate(0) translate(4 222)\">\n",
       "<title>%3</title>\n",
       "<polygon fill=\"#ffffff\" stroke=\"transparent\" points=\"-4,4 -4,-222 182,-222 182,4 -4,4\"/>\n",
       "<!-- 140520602568848 -->\n",
       "<g id=\"node1\" class=\"node\">\n",
       "<title>140520602568848</title>\n",
       "<polygon fill=\"#caff70\" stroke=\"#000000\" points=\"149.5,-21 64.5,-21 64.5,0 149.5,0 149.5,-21\"/>\n",
       "<text text-anchor=\"middle\" x=\"107\" y=\"-7.4\" font-family=\"Times,serif\" font-size=\"12.00\" fill=\"#000000\">LogBackward</text>\n",
       "</g>\n",
       "<!-- 140520601669456 -->\n",
       "<g id=\"node2\" class=\"node\">\n",
       "<title>140520601669456</title>\n",
       "<polygon fill=\"#d3d3d3\" stroke=\"#000000\" points=\"153,-78 61,-78 61,-57 153,-57 153,-78\"/>\n",
       "<text text-anchor=\"middle\" x=\"107\" y=\"-64.4\" font-family=\"Times,serif\" font-size=\"12.00\" fill=\"#000000\">AddBackward0</text>\n",
       "</g>\n",
       "<!-- 140520601669456&#45;&gt;140520602568848 -->\n",
       "<g id=\"edge1\" class=\"edge\">\n",
       "<title>140520601669456&#45;&gt;140520602568848</title>\n",
       "<path fill=\"none\" stroke=\"#000000\" d=\"M107,-56.7787C107,-49.6134 107,-39.9517 107,-31.3097\"/>\n",
       "<polygon fill=\"#000000\" stroke=\"#000000\" points=\"110.5001,-31.1732 107,-21.1732 103.5001,-31.1732 110.5001,-31.1732\"/>\n",
       "</g>\n",
       "<!-- 140518633809424 -->\n",
       "<g id=\"node3\" class=\"node\">\n",
       "<title>140518633809424</title>\n",
       "<polygon fill=\"#d3d3d3\" stroke=\"#000000\" points=\"105.5,-141.5 20.5,-141.5 20.5,-120.5 105.5,-120.5 105.5,-141.5\"/>\n",
       "<text text-anchor=\"middle\" x=\"63\" y=\"-127.9\" font-family=\"Times,serif\" font-size=\"12.00\" fill=\"#000000\">MmBackward</text>\n",
       "</g>\n",
       "<!-- 140518633809424&#45;&gt;140520601669456 -->\n",
       "<g id=\"edge2\" class=\"edge\">\n",
       "<title>140518633809424&#45;&gt;140520601669456</title>\n",
       "<path fill=\"none\" stroke=\"#000000\" d=\"M70.464,-120.2281C76.8234,-111.0503 86.116,-97.6394 93.7379,-86.6396\"/>\n",
       "<polygon fill=\"#000000\" stroke=\"#000000\" points=\"96.8276,-88.3259 99.6462,-78.1128 91.0739,-84.339 96.8276,-88.3259\"/>\n",
       "</g>\n",
       "<!-- 140518613646672 -->\n",
       "<g id=\"node4\" class=\"node\">\n",
       "<title>140518613646672</title>\n",
       "<polygon fill=\"#add8e6\" stroke=\"#000000\" points=\"54,-218 0,-218 0,-184 54,-184 54,-218\"/>\n",
       "<text text-anchor=\"middle\" x=\"27\" y=\"-204.4\" font-family=\"Times,serif\" font-size=\"12.00\" fill=\"#000000\">x</text>\n",
       "<text text-anchor=\"middle\" x=\"27\" y=\"-191.4\" font-family=\"Times,serif\" font-size=\"12.00\" fill=\"#000000\"> (1, 5)</text>\n",
       "</g>\n",
       "<!-- 140518613646672&#45;&gt;140518633809424 -->\n",
       "<g id=\"edge3\" class=\"edge\">\n",
       "<title>140518613646672&#45;&gt;140518633809424</title>\n",
       "<path fill=\"none\" stroke=\"#000000\" d=\"M35.8989,-183.6966C41.0112,-173.756 47.4528,-161.2307 52.773,-150.8859\"/>\n",
       "<polygon fill=\"#000000\" stroke=\"#000000\" points=\"55.9892,-152.2849 57.4502,-141.7913 49.7642,-149.0834 55.9892,-152.2849\"/>\n",
       "</g>\n",
       "<!-- 140518613646864 -->\n",
       "<g id=\"node5\" class=\"node\">\n",
       "<title>140518613646864</title>\n",
       "<polygon fill=\"#add8e6\" stroke=\"#000000\" points=\"126,-218 72,-218 72,-184 126,-184 126,-218\"/>\n",
       "<text text-anchor=\"middle\" x=\"99\" y=\"-204.4\" font-family=\"Times,serif\" font-size=\"12.00\" fill=\"#000000\">W</text>\n",
       "<text text-anchor=\"middle\" x=\"99\" y=\"-191.4\" font-family=\"Times,serif\" font-size=\"12.00\" fill=\"#000000\"> (5, 2)</text>\n",
       "</g>\n",
       "<!-- 140518613646864&#45;&gt;140518633809424 -->\n",
       "<g id=\"edge4\" class=\"edge\">\n",
       "<title>140518613646864&#45;&gt;140518633809424</title>\n",
       "<path fill=\"none\" stroke=\"#000000\" d=\"M90.1011,-183.6966C84.9888,-173.756 78.5472,-161.2307 73.227,-150.8859\"/>\n",
       "<polygon fill=\"#000000\" stroke=\"#000000\" points=\"76.2358,-149.0834 68.5498,-141.7913 70.0108,-152.2849 76.2358,-149.0834\"/>\n",
       "</g>\n",
       "<!-- 140518613646736 -->\n",
       "<g id=\"node6\" class=\"node\">\n",
       "<title>140518613646736</title>\n",
       "<polygon fill=\"#add8e6\" stroke=\"#000000\" points=\"178,-148 124,-148 124,-114 178,-114 178,-148\"/>\n",
       "<text text-anchor=\"middle\" x=\"151\" y=\"-134.4\" font-family=\"Times,serif\" font-size=\"12.00\" fill=\"#000000\">b</text>\n",
       "<text text-anchor=\"middle\" x=\"151\" y=\"-121.4\" font-family=\"Times,serif\" font-size=\"12.00\" fill=\"#000000\"> (2)</text>\n",
       "</g>\n",
       "<!-- 140518613646736&#45;&gt;140520601669456 -->\n",
       "<g id=\"edge5\" class=\"edge\">\n",
       "<title>140518613646736&#45;&gt;140520601669456</title>\n",
       "<path fill=\"none\" stroke=\"#000000\" d=\"M139.2088,-113.9832C133.3898,-105.5853 126.3464,-95.4204 120.3319,-86.7404\"/>\n",
       "<polygon fill=\"#000000\" stroke=\"#000000\" points=\"123.1034,-84.5949 114.531,-78.3687 117.3497,-88.5817 123.1034,-84.5949\"/>\n",
       "</g>\n",
       "</g>\n",
       "</svg>\n"
      ],
      "text/plain": [
       "<graphviz.dot.Digraph at 0x7fcd0a0cfb90>"
      ]
     },
     "execution_count": 6,
     "metadata": {},
     "output_type": "execute_result"
    }
   ],
   "source": [
    "# Display graph:\n",
    "make_dot(o, params=params)"
   ]
  },
  {
   "cell_type": "markdown",
   "metadata": {},
   "source": [
    "# Model Example\n",
    "* From https://github.com/szagoruyko/pytorchviz/blob/master/examples.ipynb"
   ]
  },
  {
   "cell_type": "code",
   "execution_count": 7,
   "metadata": {},
   "outputs": [
    {
     "name": "stdout",
     "output_type": "stream",
     "text": [
      "{   'W0.bias': Parameter containing:\n",
      "tensor([ 0.1590, -0.2175, -0.2235, -0.0259,  0.2931,  0.2557,  0.0117,  0.1236,\n",
      "        -0.0382,  0.1289,  0.0328,  0.1226,  0.1176, -0.3261,  0.1358, -0.1046],\n",
      "       requires_grad=True),\n",
      "    'W0.weight': Parameter containing:\n",
      "tensor([[-0.0913, -0.2071, -0.2630, -0.3367,  0.1246,  0.1604,  0.0104,  0.0788],\n",
      "        [ 0.0900,  0.2517, -0.0817, -0.2698,  0.0956, -0.0077, -0.1466, -0.0769],\n",
      "        [ 0.1123, -0.2928, -0.0593,  0.3368, -0.1117, -0.2846, -0.2119, -0.1710],\n",
      "        [ 0.2522,  0.2577, -0.3194, -0.2036, -0.0273, -0.0390, -0.0449,  0.1456],\n",
      "        [-0.0310,  0.2189, -0.0847,  0.2254, -0.1610,  0.1431, -0.1149, -0.1830],\n",
      "        [-0.2147, -0.2264, -0.1298, -0.1995,  0.1776, -0.0268, -0.2895, -0.2390],\n",
      "        [-0.0563,  0.0498, -0.3320, -0.2807,  0.0546,  0.0796,  0.3066, -0.3208],\n",
      "        [-0.3176,  0.0409,  0.0227, -0.2556,  0.2151, -0.1925, -0.2343,  0.1027],\n",
      "        [ 0.0056, -0.2371,  0.0369, -0.1777, -0.0077,  0.1312,  0.0972, -0.1054],\n",
      "        [ 0.0618, -0.2691, -0.2667,  0.1497,  0.1002,  0.0957,  0.1444,  0.0897],\n",
      "        [ 0.2951,  0.1805,  0.0824, -0.0226,  0.2926, -0.2605, -0.0923, -0.2569],\n",
      "        [ 0.2974,  0.2665,  0.1577, -0.0723, -0.0752, -0.2320,  0.2373,  0.0296],\n",
      "        [ 0.0519,  0.3360, -0.0166, -0.2050, -0.0855, -0.1539,  0.1747, -0.1500],\n",
      "        [ 0.1514,  0.2217,  0.2846, -0.1945,  0.0134, -0.3132,  0.1149,  0.1647],\n",
      "        [-0.2760,  0.1458, -0.0741,  0.0546,  0.2764, -0.0616,  0.2567,  0.0173],\n",
      "        [ 0.1596,  0.2946,  0.2796, -0.1749, -0.0236,  0.2525,  0.2701, -0.1764]],\n",
      "       requires_grad=True),\n",
      "    'W1.bias': Parameter containing:\n",
      "tensor([0.1884], requires_grad=True),\n",
      "    'W1.weight': Parameter containing:\n",
      "tensor([[-0.2275,  0.2292,  0.1237,  0.0017, -0.2363,  0.1929, -0.1855, -0.1529,\n",
      "         -0.0543,  0.1597, -0.1940,  0.1358, -0.1258, -0.0507, -0.2045,  0.0223]],\n",
      "       requires_grad=True)}\n"
     ]
    },
    {
     "data": {
      "image/svg+xml": [
       "<?xml version=\"1.0\" encoding=\"UTF-8\" standalone=\"no\"?>\n",
       "<!DOCTYPE svg PUBLIC \"-//W3C//DTD SVG 1.1//EN\"\n",
       " \"http://www.w3.org/Graphics/SVG/1.1/DTD/svg11.dtd\">\n",
       "<!-- Generated by graphviz version 2.40.1 (20161225.0304)\n",
       " -->\n",
       "<!-- Title: %3 Pages: 1 -->\n",
       "<svg width=\"266pt\" height=\"309pt\"\n",
       " viewBox=\"0.00 0.00 265.50 309.00\" xmlns=\"http://www.w3.org/2000/svg\" xmlns:xlink=\"http://www.w3.org/1999/xlink\">\n",
       "<g id=\"graph0\" class=\"graph\" transform=\"scale(1 1) rotate(0) translate(4 305)\">\n",
       "<title>%3</title>\n",
       "<polygon fill=\"#ffffff\" stroke=\"transparent\" points=\"-4,4 -4,-305 261.5,-305 261.5,4 -4,4\"/>\n",
       "<!-- 140518613646992 -->\n",
       "<g id=\"node1\" class=\"node\">\n",
       "<title>140518613646992</title>\n",
       "<polygon fill=\"#caff70\" stroke=\"#000000\" points=\"171,-21 67,-21 67,0 171,0 171,-21\"/>\n",
       "<text text-anchor=\"middle\" x=\"119\" y=\"-7.4\" font-family=\"Times,serif\" font-size=\"12.00\" fill=\"#000000\">AddmmBackward</text>\n",
       "</g>\n",
       "<!-- 140518613646672 -->\n",
       "<g id=\"node2\" class=\"node\">\n",
       "<title>140518613646672</title>\n",
       "<polygon fill=\"#add8e6\" stroke=\"#000000\" points=\"56,-91 0,-91 0,-57 56,-57 56,-91\"/>\n",
       "<text text-anchor=\"middle\" x=\"28\" y=\"-77.4\" font-family=\"Times,serif\" font-size=\"12.00\" fill=\"#000000\">W1.bias</text>\n",
       "<text text-anchor=\"middle\" x=\"28\" y=\"-64.4\" font-family=\"Times,serif\" font-size=\"12.00\" fill=\"#000000\"> (1)</text>\n",
       "</g>\n",
       "<!-- 140518613646672&#45;&gt;140518613646992 -->\n",
       "<g id=\"edge1\" class=\"edge\">\n",
       "<title>140518613646672&#45;&gt;140518613646992</title>\n",
       "<path fill=\"none\" stroke=\"#000000\" d=\"M52.3863,-56.9832C65.6468,-47.73 81.9815,-36.3316 95.1567,-27.1379\"/>\n",
       "<polygon fill=\"#000000\" stroke=\"#000000\" points=\"97.4986,-29.7717 103.6965,-21.1788 93.4928,-24.0311 97.4986,-29.7717\"/>\n",
       "</g>\n",
       "<!-- 140518613646160 -->\n",
       "<g id=\"node3\" class=\"node\">\n",
       "<title>140518613646160</title>\n",
       "<polygon fill=\"#d3d3d3\" stroke=\"#000000\" points=\"164,-84.5 74,-84.5 74,-63.5 164,-63.5 164,-84.5\"/>\n",
       "<text text-anchor=\"middle\" x=\"119\" y=\"-70.9\" font-family=\"Times,serif\" font-size=\"12.00\" fill=\"#000000\">TanhBackward</text>\n",
       "</g>\n",
       "<!-- 140518613646160&#45;&gt;140518613646992 -->\n",
       "<g id=\"edge2\" class=\"edge\">\n",
       "<title>140518613646160&#45;&gt;140518613646992</title>\n",
       "<path fill=\"none\" stroke=\"#000000\" d=\"M119,-63.2281C119,-54.5091 119,-41.9699 119,-31.3068\"/>\n",
       "<polygon fill=\"#000000\" stroke=\"#000000\" points=\"122.5001,-31.1128 119,-21.1128 115.5001,-31.1129 122.5001,-31.1128\"/>\n",
       "</g>\n",
       "<!-- 140518613644048 -->\n",
       "<g id=\"node4\" class=\"node\">\n",
       "<title>140518613644048</title>\n",
       "<polygon fill=\"#d3d3d3\" stroke=\"#000000\" points=\"169,-154.5 65,-154.5 65,-133.5 169,-133.5 169,-154.5\"/>\n",
       "<text text-anchor=\"middle\" x=\"117\" y=\"-140.9\" font-family=\"Times,serif\" font-size=\"12.00\" fill=\"#000000\">AddmmBackward</text>\n",
       "</g>\n",
       "<!-- 140518613644048&#45;&gt;140518613646160 -->\n",
       "<g id=\"edge3\" class=\"edge\">\n",
       "<title>140518613644048&#45;&gt;140518613646160</title>\n",
       "<path fill=\"none\" stroke=\"#000000\" d=\"M117.3038,-133.3685C117.5945,-123.1925 118.0411,-107.5606 118.4031,-94.8912\"/>\n",
       "<polygon fill=\"#000000\" stroke=\"#000000\" points=\"121.9063,-94.8275 118.6934,-84.7315 114.9091,-94.6275 121.9063,-94.8275\"/>\n",
       "</g>\n",
       "<!-- 140518613644240 -->\n",
       "<g id=\"node5\" class=\"node\">\n",
       "<title>140518613644240</title>\n",
       "<polygon fill=\"#add8e6\" stroke=\"#000000\" points=\"104,-231 48,-231 48,-197 104,-197 104,-231\"/>\n",
       "<text text-anchor=\"middle\" x=\"76\" y=\"-217.4\" font-family=\"Times,serif\" font-size=\"12.00\" fill=\"#000000\">W0.bias</text>\n",
       "<text text-anchor=\"middle\" x=\"76\" y=\"-204.4\" font-family=\"Times,serif\" font-size=\"12.00\" fill=\"#000000\"> (16)</text>\n",
       "</g>\n",
       "<!-- 140518613644240&#45;&gt;140518613644048 -->\n",
       "<g id=\"edge4\" class=\"edge\">\n",
       "<title>140518613644240&#45;&gt;140518613644048</title>\n",
       "<path fill=\"none\" stroke=\"#000000\" d=\"M86.1348,-196.6966C92.0172,-186.6535 99.4448,-173.9722 105.5395,-163.5667\"/>\n",
       "<polygon fill=\"#000000\" stroke=\"#000000\" points=\"108.6454,-165.189 110.6794,-154.7913 102.6052,-161.6512 108.6454,-165.189\"/>\n",
       "</g>\n",
       "<!-- 140518613643856 -->\n",
       "<g id=\"node6\" class=\"node\">\n",
       "<title>140518613643856</title>\n",
       "<polygon fill=\"#d3d3d3\" stroke=\"#000000\" points=\"195.5,-224.5 122.5,-224.5 122.5,-203.5 195.5,-203.5 195.5,-224.5\"/>\n",
       "<text text-anchor=\"middle\" x=\"159\" y=\"-210.9\" font-family=\"Times,serif\" font-size=\"12.00\" fill=\"#000000\">TBackward</text>\n",
       "</g>\n",
       "<!-- 140518613643856&#45;&gt;140518613644048 -->\n",
       "<g id=\"edge5\" class=\"edge\">\n",
       "<title>140518613643856&#45;&gt;140518613644048</title>\n",
       "<path fill=\"none\" stroke=\"#000000\" d=\"M152.6211,-203.3685C146.2688,-192.7814 136.3731,-176.2886 128.6223,-163.3705\"/>\n",
       "<polygon fill=\"#000000\" stroke=\"#000000\" points=\"131.5852,-161.5057 123.4389,-154.7315 125.5827,-165.1072 131.5852,-161.5057\"/>\n",
       "</g>\n",
       "<!-- 140520124145872 -->\n",
       "<g id=\"node7\" class=\"node\">\n",
       "<title>140520124145872</title>\n",
       "<polygon fill=\"#add8e6\" stroke=\"#000000\" points=\"193.5,-301 124.5,-301 124.5,-267 193.5,-267 193.5,-301\"/>\n",
       "<text text-anchor=\"middle\" x=\"159\" y=\"-287.4\" font-family=\"Times,serif\" font-size=\"12.00\" fill=\"#000000\">W0.weight</text>\n",
       "<text text-anchor=\"middle\" x=\"159\" y=\"-274.4\" font-family=\"Times,serif\" font-size=\"12.00\" fill=\"#000000\"> (16, 8)</text>\n",
       "</g>\n",
       "<!-- 140520124145872&#45;&gt;140518613643856 -->\n",
       "<g id=\"edge6\" class=\"edge\">\n",
       "<title>140520124145872&#45;&gt;140518613643856</title>\n",
       "<path fill=\"none\" stroke=\"#000000\" d=\"M159,-266.6966C159,-257.0634 159,-245.003 159,-234.8518\"/>\n",
       "<polygon fill=\"#000000\" stroke=\"#000000\" points=\"162.5001,-234.7912 159,-224.7913 155.5001,-234.7913 162.5001,-234.7912\"/>\n",
       "</g>\n",
       "<!-- 140518613643344 -->\n",
       "<g id=\"node8\" class=\"node\">\n",
       "<title>140518613643344</title>\n",
       "<polygon fill=\"#d3d3d3\" stroke=\"#000000\" points=\"257.5,-84.5 184.5,-84.5 184.5,-63.5 257.5,-63.5 257.5,-84.5\"/>\n",
       "<text text-anchor=\"middle\" x=\"221\" y=\"-70.9\" font-family=\"Times,serif\" font-size=\"12.00\" fill=\"#000000\">TBackward</text>\n",
       "</g>\n",
       "<!-- 140518613643344&#45;&gt;140518613646992 -->\n",
       "<g id=\"edge7\" class=\"edge\">\n",
       "<title>140518613643344&#45;&gt;140518613646992</title>\n",
       "<path fill=\"none\" stroke=\"#000000\" d=\"M203.6971,-63.2281C187.4805,-53.1325 163.0365,-37.9149 144.5702,-26.4187\"/>\n",
       "<polygon fill=\"#000000\" stroke=\"#000000\" points=\"146.3865,-23.4266 136.0474,-21.1128 142.6869,-29.3692 146.3865,-23.4266\"/>\n",
       "</g>\n",
       "<!-- 140518613643664 -->\n",
       "<g id=\"node9\" class=\"node\">\n",
       "<title>140518613643664</title>\n",
       "<polygon fill=\"#add8e6\" stroke=\"#000000\" points=\"256.5,-161 187.5,-161 187.5,-127 256.5,-127 256.5,-161\"/>\n",
       "<text text-anchor=\"middle\" x=\"222\" y=\"-147.4\" font-family=\"Times,serif\" font-size=\"12.00\" fill=\"#000000\">W1.weight</text>\n",
       "<text text-anchor=\"middle\" x=\"222\" y=\"-134.4\" font-family=\"Times,serif\" font-size=\"12.00\" fill=\"#000000\"> (1, 16)</text>\n",
       "</g>\n",
       "<!-- 140518613643664&#45;&gt;140518613643344 -->\n",
       "<g id=\"edge8\" class=\"edge\">\n",
       "<title>140518613643664&#45;&gt;140518613643344</title>\n",
       "<path fill=\"none\" stroke=\"#000000\" d=\"M221.7528,-126.6966C221.6152,-117.0634 221.4429,-105.003 221.2979,-94.8518\"/>\n",
       "<polygon fill=\"#000000\" stroke=\"#000000\" points=\"224.7967,-94.7402 221.1542,-84.7913 217.7975,-94.8403 224.7967,-94.7402\"/>\n",
       "</g>\n",
       "</g>\n",
       "</svg>\n"
      ],
      "text/plain": [
       "<graphviz.dot.Digraph at 0x7fcd0a0cfc90>"
      ]
     },
     "execution_count": 7,
     "metadata": {},
     "output_type": "execute_result"
    }
   ],
   "source": [
    "model = nn.Sequential()\n",
    "model.add_module('W0', nn.Linear(8, 16))\n",
    "model.add_module('tanh', nn.Tanh())\n",
    "model.add_module('W1', nn.Linear(16, 1))\n",
    "\n",
    "x = torch.randn(1,8)\n",
    "\n",
    "params_dict = dict(model.named_parameters())\n",
    "pp.pprint(params_dict)\n",
    "\n",
    "make_dot(model(x), params=params_dict)"
   ]
  },
  {
   "cell_type": "markdown",
   "metadata": {},
   "source": [
    "# Implement gradient descent"
   ]
  },
  {
   "cell_type": "code",
   "execution_count": 171,
   "metadata": {},
   "outputs": [
    {
     "data": {
      "text/plain": [
       "array([0.        , 0.6981317 , 1.3962634 , 2.0943951 , 2.7925268 ,\n",
       "       3.4906585 , 4.1887902 , 4.88692191, 5.58505361, 6.28318531])"
      ]
     },
     "metadata": {},
     "output_type": "display_data"
    },
    {
     "data": {
      "text/plain": [
       "array([ 0.00000000e+00,  6.42787610e-01,  9.84807753e-01,  8.66025404e-01,\n",
       "        3.42020143e-01, -3.42020143e-01, -8.66025404e-01, -9.84807753e-01,\n",
       "       -6.42787610e-01, -2.44929360e-16])"
      ]
     },
     "metadata": {},
     "output_type": "display_data"
    },
    {
     "data": {
      "text/plain": [
       "<matplotlib.collections.PathCollection at 0x7fcce6012bd0>"
      ]
     },
     "execution_count": 171,
     "metadata": {},
     "output_type": "execute_result"
    },
    {
     "data": {
      "image/png": "[encoded data removed]",
      "text/plain": [
       "<Figure size 432x288 with 1 Axes>"
      ]
     },
     "metadata": {
      "needs_background": "light"
     },
     "output_type": "display_data"
    }
   ],
   "source": [
    "# Data:\n",
    "x_np = np.linspace(0, 2 * np.pi, 10)\n",
    "y_np = np.sin(x_np)\n",
    "disp.display(x_np, y_np)\n",
    "plt.scatter(x_np, y_np)"
   ]
  },
  {
   "cell_type": "code",
   "execution_count": 172,
   "metadata": {},
   "outputs": [],
   "source": [
    "# Model.\n",
    "\n",
    "class Model(nn.Module):\n",
    "    \n",
    "    def __init__(self):\n",
    "        super(Model, self).__init__()\n",
    "        self.W1 = nn.Linear(10, 10)\n",
    "        self.b = nn.Parameter(torch.tensor([[1, 1, 1, 1, 1, 1, 1, 1, 1, 1]], dtype=torch.float32, requires_grad=True))\n",
    "    \n",
    "    def forward(self, x):\n",
    "        return self.W1(x) + self.b"
   ]
  },
  {
   "cell_type": "code",
   "execution_count": 173,
   "metadata": {},
   "outputs": [],
   "source": [
    "# Loss.\n",
    "def mse(y, t):\n",
    "    return torch.mean((y - t)**2)\n",
    "def mse_np(y, t):\n",
    "    return np.mean((y - t)**2)"
   ]
  },
  {
   "cell_type": "code",
   "execution_count": 174,
   "metadata": {},
   "outputs": [
    {
     "name": "stdout",
     "output_type": "stream",
     "text": [
      "{   'W1.bias': Parameter containing:\n",
      "tensor([ 0.1024,  0.2973, -0.1000,  0.0311, -0.1932,  0.0698,  0.0526, -0.1425,\n",
      "         0.2366, -0.0184], requires_grad=True),\n",
      "    'W1.weight': Parameter containing:\n",
      "tensor([[ 0.0985, -0.1252, -0.0127,  0.1754,  0.2643,  0.2726, -0.1516,  0.2868,\n",
      "         -0.0756, -0.0566],\n",
      "        [ 0.2853,  0.0434, -0.2289, -0.1854,  0.0088, -0.0095,  0.0122, -0.0969,\n",
      "         -0.0331,  0.0832],\n",
      "        [ 0.1232,  0.2033,  0.2600,  0.1464, -0.0337, -0.2704,  0.2654,  0.1793,\n",
      "          0.2982,  0.0610],\n",
      "        [ 0.0800,  0.1068,  0.2465,  0.2010,  0.1430, -0.0591, -0.1603,  0.0520,\n",
      "          0.2033, -0.0085],\n",
      "        [ 0.2771, -0.2118,  0.1747,  0.0674, -0.2107,  0.1451, -0.1827,  0.2180,\n",
      "          0.1735, -0.2823],\n",
      "        [ 0.1628,  0.0504,  0.1518,  0.1526, -0.0462, -0.1234, -0.0647, -0.1117,\n",
      "         -0.2831,  0.1207],\n",
      "        [-0.1376,  0.0781, -0.0803,  0.2259,  0.0231, -0.2933, -0.0008, -0.0472,\n",
      "         -0.1659,  0.2709],\n",
      "        [ 0.0573, -0.0979, -0.3118,  0.2879, -0.2409,  0.0295,  0.1941, -0.2689,\n",
      "          0.1043,  0.3023],\n",
      "        [-0.1280, -0.1066, -0.2858, -0.3139, -0.0877,  0.2406,  0.0014, -0.2376,\n",
      "          0.2052,  0.0330],\n",
      "        [ 0.2933, -0.3081, -0.2880,  0.0329, -0.2508, -0.2714,  0.2221, -0.2602,\n",
      "         -0.2527,  0.0917]], requires_grad=True),\n",
      "    'b': Parameter containing:\n",
      "tensor([[1., 1., 1., 1., 1., 1., 1., 1., 1., 1.]], requires_grad=True),\n",
      "    'x': tensor([[0.0000, 0.6981, 1.3963, 2.0944, 2.7925, 3.4907, 4.1888, 4.8869, 5.5851,\n",
      "         6.2832]])}\n"
     ]
    },
    {
     "data": {
      "image/svg+xml": [
       "<?xml version=\"1.0\" encoding=\"UTF-8\" standalone=\"no\"?>\n",
       "<!DOCTYPE svg PUBLIC \"-//W3C//DTD SVG 1.1//EN\"\n",
       " \"http://www.w3.org/Graphics/SVG/1.1/DTD/svg11.dtd\">\n",
       "<!-- Generated by graphviz version 2.40.1 (20161225.0304)\n",
       " -->\n",
       "<!-- Title: %3 Pages: 1 -->\n",
       "<svg width=\"201pt\" height=\"239pt\"\n",
       " viewBox=\"0.00 0.00 201.00 239.00\" xmlns=\"http://www.w3.org/2000/svg\" xmlns:xlink=\"http://www.w3.org/1999/xlink\">\n",
       "<g id=\"graph0\" class=\"graph\" transform=\"scale(1 1) rotate(0) translate(4 235)\">\n",
       "<title>%3</title>\n",
       "<polygon fill=\"#ffffff\" stroke=\"transparent\" points=\"-4,4 -4,-235 197,-235 197,4 -4,4\"/>\n",
       "<!-- 140518029612176 -->\n",
       "<g id=\"node1\" class=\"node\">\n",
       "<title>140518029612176</title>\n",
       "<polygon fill=\"#caff70\" stroke=\"#000000\" points=\"163,-21 71,-21 71,0 163,0 163,-21\"/>\n",
       "<text text-anchor=\"middle\" x=\"117\" y=\"-7.4\" font-family=\"Times,serif\" font-size=\"12.00\" fill=\"#000000\">AddBackward0</text>\n",
       "</g>\n",
       "<!-- 140518023079504 -->\n",
       "<g id=\"node2\" class=\"node\">\n",
       "<title>140518023079504</title>\n",
       "<polygon fill=\"#d3d3d3\" stroke=\"#000000\" points=\"121,-84.5 17,-84.5 17,-63.5 121,-63.5 121,-84.5\"/>\n",
       "<text text-anchor=\"middle\" x=\"69\" y=\"-70.9\" font-family=\"Times,serif\" font-size=\"12.00\" fill=\"#000000\">AddmmBackward</text>\n",
       "</g>\n",
       "<!-- 140518023079504&#45;&gt;140518029612176 -->\n",
       "<g id=\"edge1\" class=\"edge\">\n",
       "<title>140518023079504&#45;&gt;140518029612176</title>\n",
       "<path fill=\"none\" stroke=\"#000000\" d=\"M77.1425,-63.2281C84.1495,-53.9585 94.4206,-40.3707 102.7811,-29.3104\"/>\n",
       "<polygon fill=\"#000000\" stroke=\"#000000\" points=\"105.7396,-31.2007 108.9777,-21.1128 100.1555,-26.9796 105.7396,-31.2007\"/>\n",
       "</g>\n",
       "<!-- 140518023078160 -->\n",
       "<g id=\"node3\" class=\"node\">\n",
       "<title>140518023078160</title>\n",
       "<polygon fill=\"#add8e6\" stroke=\"#000000\" points=\"56,-161 0,-161 0,-127 56,-127 56,-161\"/>\n",
       "<text text-anchor=\"middle\" x=\"28\" y=\"-147.4\" font-family=\"Times,serif\" font-size=\"12.00\" fill=\"#000000\">W1.bias</text>\n",
       "<text text-anchor=\"middle\" x=\"28\" y=\"-134.4\" font-family=\"Times,serif\" font-size=\"12.00\" fill=\"#000000\"> (10)</text>\n",
       "</g>\n",
       "<!-- 140518023078160&#45;&gt;140518023079504 -->\n",
       "<g id=\"edge2\" class=\"edge\">\n",
       "<title>140518023078160&#45;&gt;140518023079504</title>\n",
       "<path fill=\"none\" stroke=\"#000000\" d=\"M38.1348,-126.6966C44.0172,-116.6535 51.4448,-103.9722 57.5395,-93.5667\"/>\n",
       "<polygon fill=\"#000000\" stroke=\"#000000\" points=\"60.6454,-95.189 62.6794,-84.7913 54.6052,-91.6512 60.6454,-95.189\"/>\n",
       "</g>\n",
       "<!-- 140518023078224 -->\n",
       "<g id=\"node4\" class=\"node\">\n",
       "<title>140518023078224</title>\n",
       "<polygon fill=\"#d3d3d3\" stroke=\"#000000\" points=\"147.5,-154.5 74.5,-154.5 74.5,-133.5 147.5,-133.5 147.5,-154.5\"/>\n",
       "<text text-anchor=\"middle\" x=\"111\" y=\"-140.9\" font-family=\"Times,serif\" font-size=\"12.00\" fill=\"#000000\">TBackward</text>\n",
       "</g>\n",
       "<!-- 140518023078224&#45;&gt;140518023079504 -->\n",
       "<g id=\"edge3\" class=\"edge\">\n",
       "<title>140518023078224&#45;&gt;140518023079504</title>\n",
       "<path fill=\"none\" stroke=\"#000000\" d=\"M104.6211,-133.3685C98.2688,-122.7814 88.3731,-106.2886 80.6223,-93.3705\"/>\n",
       "<polygon fill=\"#000000\" stroke=\"#000000\" points=\"83.5852,-91.5057 75.4389,-84.7315 77.5827,-95.1072 83.5852,-91.5057\"/>\n",
       "</g>\n",
       "<!-- 140518029625616 -->\n",
       "<g id=\"node5\" class=\"node\">\n",
       "<title>140518029625616</title>\n",
       "<polygon fill=\"#add8e6\" stroke=\"#000000\" points=\"145.5,-231 76.5,-231 76.5,-197 145.5,-197 145.5,-231\"/>\n",
       "<text text-anchor=\"middle\" x=\"111\" y=\"-217.4\" font-family=\"Times,serif\" font-size=\"12.00\" fill=\"#000000\">W1.weight</text>\n",
       "<text text-anchor=\"middle\" x=\"111\" y=\"-204.4\" font-family=\"Times,serif\" font-size=\"12.00\" fill=\"#000000\"> (10, 10)</text>\n",
       "</g>\n",
       "<!-- 140518029625616&#45;&gt;140518023078224 -->\n",
       "<g id=\"edge4\" class=\"edge\">\n",
       "<title>140518029625616&#45;&gt;140518023078224</title>\n",
       "<path fill=\"none\" stroke=\"#000000\" d=\"M111,-196.6966C111,-187.0634 111,-175.003 111,-164.8518\"/>\n",
       "<polygon fill=\"#000000\" stroke=\"#000000\" points=\"114.5001,-164.7912 111,-154.7913 107.5001,-164.7913 114.5001,-164.7912\"/>\n",
       "</g>\n",
       "<!-- 140518023079248 -->\n",
       "<g id=\"node6\" class=\"node\">\n",
       "<title>140518023079248</title>\n",
       "<polygon fill=\"#add8e6\" stroke=\"#000000\" points=\"193,-91 139,-91 139,-57 193,-57 193,-91\"/>\n",
       "<text text-anchor=\"middle\" x=\"166\" y=\"-77.4\" font-family=\"Times,serif\" font-size=\"12.00\" fill=\"#000000\">b</text>\n",
       "<text text-anchor=\"middle\" x=\"166\" y=\"-64.4\" font-family=\"Times,serif\" font-size=\"12.00\" fill=\"#000000\"> (1, 10)</text>\n",
       "</g>\n",
       "<!-- 140518023079248&#45;&gt;140518029612176 -->\n",
       "<g id=\"edge5\" class=\"edge\">\n",
       "<title>140518023079248&#45;&gt;140518029612176</title>\n",
       "<path fill=\"none\" stroke=\"#000000\" d=\"M152.8689,-56.9832C146.3204,-48.4969 138.3796,-38.2062 131.6358,-29.4668\"/>\n",
       "<polygon fill=\"#000000\" stroke=\"#000000\" points=\"134.267,-27.1474 125.3868,-21.3687 128.7251,-31.4239 134.267,-27.1474\"/>\n",
       "</g>\n",
       "</g>\n",
       "</svg>\n"
      ],
      "text/plain": [
       "<graphviz.dot.Digraph at 0x7fcce5affe50>"
      ]
     },
     "execution_count": 174,
     "metadata": {},
     "output_type": "execute_result"
    }
   ],
   "source": [
    "# Show computation graph.\n",
    "\n",
    "x = torch.tensor([list(x_np)], dtype=torch.float32, requires_grad=False)  # requires_grad=True not needed?\n",
    "y = torch.tensor([list(y_np)], dtype=torch.float32, requires_grad=False)\n",
    "\n",
    "torch.manual_seed(9)\n",
    "model = Model()\n",
    "\n",
    "params_dict = dict(list(model.named_parameters()) + [(\"x\", x)])\n",
    "pp.pprint(params_dict)\n",
    "\n",
    "make_dot(model(x), params=params_dict)"
   ]
  },
  {
   "cell_type": "code",
   "execution_count": 175,
   "metadata": {},
   "outputs": [
    {
     "name": "stdout",
     "output_type": "stream",
     "text": [
      "MSE = 4.968679167095369\n"
     ]
    },
    {
     "data": {
      "image/png": "[encoded data removed]",
      "text/plain": [
       "<Figure size 432x288 with 1 Axes>"
      ]
     },
     "metadata": {
      "needs_background": "light"
     },
     "output_type": "display_data"
    }
   ],
   "source": [
    "# Initial \"prediction\".\n",
    "\n",
    "y_pred = model(x).squeeze().detach().numpy()\n",
    "\n",
    "def show_plot(x, y, y_pred, ylim=(-1., 1.), print_mse=True):\n",
    "    # print(y, y_pred)\n",
    "    plt.cla()\n",
    "    plt.scatter(x, y, color=\"red\")\n",
    "    plt.scatter(x, y_pred, color=\"blue\")\n",
    "    plt.ylim(ylim)\n",
    "    if print_mse:\n",
    "        print(\"MSE = {}\".format(mse_np(y_pred, y)))\n",
    "\n",
    "show_plot(x_np, y_np, y_pred, ylim=None)"
   ]
  },
  {
   "cell_type": "code",
   "execution_count": 176,
   "metadata": {},
   "outputs": [
    {
     "data": {
      "image/png": "[encoded data removed]",
      "text/plain": [
       "<Figure size 432x288 with 1 Axes>"
      ]
     },
     "metadata": {},
     "output_type": "display_data"
    },
    {
     "name": "stdout",
     "output_type": "stream",
     "text": [
      "------------------------------\n",
      "it 20:\n",
      "------------------------------\n",
      "\n",
      ">>> y_pred:\n",
      "tensor([[ 0.0056,  0.6426,  0.9917,  0.8695,  0.3422, -0.3424, -0.8625, -0.9786,\n",
      "         -0.6399, -0.0044]], grad_fn=<AddBackward0>)\n",
      ">>> y:\n",
      "tensor([[ 0.0000e+00,  6.4279e-01,  9.8481e-01,  8.6603e-01,  3.4202e-01,\n",
      "         -3.4202e-01, -8.6603e-01, -9.8481e-01, -6.4279e-01, -2.4493e-16]])\n",
      ">>> mse = 1.7112246496253647e-05\n"
     ]
    }
   ],
   "source": [
    "# Implement GD.\n",
    "\n",
    "VERB = False\n",
    "use_manual_gd = True\n",
    "\n",
    "torch.manual_seed(9)\n",
    "model = Model()\n",
    "\n",
    "iters = 20\n",
    "lr = 0.01\n",
    "\n",
    "opt = torch.optim.SGD(model.parameters(), lr=lr, momentum=0)\n",
    "\n",
    "for it in range(iters):\n",
    "    \n",
    "    print(\"------------------------------\\nit {}:\\n------------------------------\\n\".format(it + 1))\n",
    "    \n",
    "    # Zero the gradients.\n",
    "    with torch.no_grad():\n",
    "        for name, parameter in model.named_parameters():\n",
    "            if parameter.grad is not None:\n",
    "                parameter.grad.data.zero_()\n",
    "    \n",
    "    for name, parameter in model.named_parameters():\n",
    "        if VERB:\n",
    "            if name == \"b\":\n",
    "                print(\"\\n{}:\\n---\\n\".format(name))\n",
    "                print(\"AT THE START\")\n",
    "                print(parameter)\n",
    "                print()\n",
    "    \n",
    "    # Compute loss.\n",
    "    y_pred = model(x)\n",
    "    \n",
    "    print(\">>> y_pred:\")\n",
    "    print(y_pred)\n",
    "    \n",
    "    print(\">>> y:\")\n",
    "    print(y)\n",
    "    \n",
    "    mse_loss = mse(y_pred, y)\n",
    "    \n",
    "    print(\">>> mse = {}\".format(mse_loss))\n",
    "    \n",
    "    # Backprop.\n",
    "    mse_loss.backward(torch.tensor(1.))\n",
    "    \n",
    "    # Gradient descent.\n",
    "    if use_manual_gd is False:\n",
    "        for name, parameter in model.named_parameters():\n",
    "            if VERB:\n",
    "                if name == \"b\":\n",
    "                    print(\"\\n{}:\\n---\\n\".format(name))\n",
    "                    print(\"BEFORE\")\n",
    "                    print(parameter)\n",
    "                    print(\"GRAD\")\n",
    "                    print(parameter.grad)\n",
    "        opt.step()\n",
    "        for name, parameter in model.named_parameters():\n",
    "            if VERB:\n",
    "                if name == \"b\":\n",
    "                    print(\"\\n{}:\\n---\\n\".format(name))\n",
    "                    print(\"AFTER\")\n",
    "                    print(parameter)\n",
    "    \n",
    "    if use_manual_gd is True:\n",
    "        with torch.no_grad():  # Do not track.\n",
    "            for name, parameter in model.named_parameters():\n",
    "                if VERB:\n",
    "                    if name == \"b\":\n",
    "                        print(\"\\n{}:\\n---\\n\".format(name))\n",
    "                        print(\"BEFORE\")\n",
    "                        print(parameter)\n",
    "                        print(\"GRAD\")\n",
    "                        print(parameter.grad)\n",
    "                parameter.data -= lr * parameter.grad.data\n",
    "                if VERB:\n",
    "                    if name == \"b\":\n",
    "                        print(\"AFTER\")\n",
    "                        print(parameter)\n",
    "    \n",
    "    # Display.\n",
    "    show_plot(x_np, y_np, y_pred.squeeze().detach().numpy(), ylim=(-4., 4.), print_mse=False)\n",
    "    if it < iters-1:\n",
    "        disp.clear_output(wait=True)\n",
    "        disp.display(plt.gcf())\n",
    "\n",
    "plt.close()"
   ]
  },
  {
   "cell_type": "markdown",
   "metadata": {},
   "source": [
    "# Investigate graph node state "
   ]
  },
  {
   "cell_type": "code",
   "execution_count": 177,
   "metadata": {},
   "outputs": [],
   "source": [
    "def show_state(vars_tuple_list):\n",
    "    df = pd.DataFrame(columns=(\"name\", \"requires_grad\", \"is_leaf\", \"requires_grad & is_leaf\", \"grad\", \"grad_fn\"), index=list(range(len(vars_tuple_list))))\n",
    "    for idx, (name, var) in enumerate(vars_tuple_list):\n",
    "        df.loc[idx, \"name\"] = name\n",
    "        df.loc[idx, \"requires_grad\"] = var.requires_grad\n",
    "        df.loc[idx, \"is_leaf\"] = var.is_leaf\n",
    "        df.loc[idx, \"requires_grad & is_leaf\"] = var.requires_grad & var.is_leaf\n",
    "        df.loc[idx, \"grad\"] = str(var.grad)\n",
    "        df.loc[idx, \"grad_fn\"] = str(var.grad_fn)\n",
    "    return df"
   ]
  },
  {
   "cell_type": "code",
   "execution_count": 178,
   "metadata": {},
   "outputs": [
    {
     "name": "stdout",
     "output_type": "stream",
     "text": [
      "\n",
      "Calculation Graph, all the way to the loss:\n"
     ]
    },
    {
     "data": {
      "image/svg+xml": [
       "<?xml version=\"1.0\" encoding=\"UTF-8\" standalone=\"no\"?>\n",
       "<!DOCTYPE svg PUBLIC \"-//W3C//DTD SVG 1.1//EN\"\n",
       " \"http://www.w3.org/Graphics/SVG/1.1/DTD/svg11.dtd\">\n",
       "<!-- Generated by graphviz version 2.40.1 (20161225.0304)\n",
       " -->\n",
       "<!-- Title: %3 Pages: 1 -->\n",
       "<svg width=\"201pt\" height=\"410pt\"\n",
       " viewBox=\"0.00 0.00 201.00 410.00\" xmlns=\"http://www.w3.org/2000/svg\" xmlns:xlink=\"http://www.w3.org/1999/xlink\">\n",
       "<g id=\"graph0\" class=\"graph\" transform=\"scale(1 1) rotate(0) translate(4 406)\">\n",
       "<title>%3</title>\n",
       "<polygon fill=\"#ffffff\" stroke=\"transparent\" points=\"-4,4 -4,-406 197,-406 197,4 -4,4\"/>\n",
       "<!-- 140518029623888 -->\n",
       "<g id=\"node1\" class=\"node\">\n",
       "<title>140518029623888</title>\n",
       "<polygon fill=\"#caff70\" stroke=\"#000000\" points=\"166,-21 68,-21 68,0 166,0 166,-21\"/>\n",
       "<text text-anchor=\"middle\" x=\"117\" y=\"-7.4\" font-family=\"Times,serif\" font-size=\"12.00\" fill=\"#000000\">MeanBackward0</text>\n",
       "</g>\n",
       "<!-- 140518000950352 -->\n",
       "<g id=\"node2\" class=\"node\">\n",
       "<title>140518000950352</title>\n",
       "<polygon fill=\"#d3d3d3\" stroke=\"#000000\" points=\"163.5,-78 70.5,-78 70.5,-57 163.5,-57 163.5,-78\"/>\n",
       "<text text-anchor=\"middle\" x=\"117\" y=\"-64.4\" font-family=\"Times,serif\" font-size=\"12.00\" fill=\"#000000\">PowBackward0</text>\n",
       "</g>\n",
       "<!-- 140518000950352&#45;&gt;140518029623888 -->\n",
       "<g id=\"edge1\" class=\"edge\">\n",
       "<title>140518000950352&#45;&gt;140518029623888</title>\n",
       "<path fill=\"none\" stroke=\"#000000\" d=\"M117,-56.7787C117,-49.6134 117,-39.9517 117,-31.3097\"/>\n",
       "<polygon fill=\"#000000\" stroke=\"#000000\" points=\"120.5001,-31.1732 117,-21.1732 113.5001,-31.1732 120.5001,-31.1732\"/>\n",
       "</g>\n",
       "<!-- 140518000949520 -->\n",
       "<g id=\"node3\" class=\"node\">\n",
       "<title>140518000949520</title>\n",
       "<polygon fill=\"#d3d3d3\" stroke=\"#000000\" points=\"162,-135 72,-135 72,-114 162,-114 162,-135\"/>\n",
       "<text text-anchor=\"middle\" x=\"117\" y=\"-121.4\" font-family=\"Times,serif\" font-size=\"12.00\" fill=\"#000000\">SubBackward0</text>\n",
       "</g>\n",
       "<!-- 140518000949520&#45;&gt;140518000950352 -->\n",
       "<g id=\"edge2\" class=\"edge\">\n",
       "<title>140518000949520&#45;&gt;140518000950352</title>\n",
       "<path fill=\"none\" stroke=\"#000000\" d=\"M117,-113.7787C117,-106.6134 117,-96.9517 117,-88.3097\"/>\n",
       "<polygon fill=\"#000000\" stroke=\"#000000\" points=\"120.5001,-88.1732 117,-78.1732 113.5001,-88.1732 120.5001,-88.1732\"/>\n",
       "</g>\n",
       "<!-- 140518000949136 -->\n",
       "<g id=\"node4\" class=\"node\">\n",
       "<title>140518000949136</title>\n",
       "<polygon fill=\"#d3d3d3\" stroke=\"#000000\" points=\"163,-192 71,-192 71,-171 163,-171 163,-192\"/>\n",
       "<text text-anchor=\"middle\" x=\"117\" y=\"-178.4\" font-family=\"Times,serif\" font-size=\"12.00\" fill=\"#000000\">AddBackward0</text>\n",
       "</g>\n",
       "<!-- 140518000949136&#45;&gt;140518000949520 -->\n",
       "<g id=\"edge3\" class=\"edge\">\n",
       "<title>140518000949136&#45;&gt;140518000949520</title>\n",
       "<path fill=\"none\" stroke=\"#000000\" d=\"M117,-170.7787C117,-163.6134 117,-153.9517 117,-145.3097\"/>\n",
       "<polygon fill=\"#000000\" stroke=\"#000000\" points=\"120.5001,-145.1732 117,-135.1732 113.5001,-145.1732 120.5001,-145.1732\"/>\n",
       "</g>\n",
       "<!-- 140518000948944 -->\n",
       "<g id=\"node5\" class=\"node\">\n",
       "<title>140518000948944</title>\n",
       "<polygon fill=\"#d3d3d3\" stroke=\"#000000\" points=\"121,-255.5 17,-255.5 17,-234.5 121,-234.5 121,-255.5\"/>\n",
       "<text text-anchor=\"middle\" x=\"69\" y=\"-241.9\" font-family=\"Times,serif\" font-size=\"12.00\" fill=\"#000000\">AddmmBackward</text>\n",
       "</g>\n",
       "<!-- 140518000948944&#45;&gt;140518000949136 -->\n",
       "<g id=\"edge4\" class=\"edge\">\n",
       "<title>140518000948944&#45;&gt;140518000949136</title>\n",
       "<path fill=\"none\" stroke=\"#000000\" d=\"M77.1425,-234.2281C84.1495,-224.9585 94.4206,-211.3707 102.7811,-200.3104\"/>\n",
       "<polygon fill=\"#000000\" stroke=\"#000000\" points=\"105.7396,-202.2007 108.9777,-192.1128 100.1555,-197.9796 105.7396,-202.2007\"/>\n",
       "</g>\n",
       "<!-- 140518013957456 -->\n",
       "<g id=\"node6\" class=\"node\">\n",
       "<title>140518013957456</title>\n",
       "<polygon fill=\"#add8e6\" stroke=\"#000000\" points=\"56,-332 0,-332 0,-298 56,-298 56,-332\"/>\n",
       "<text text-anchor=\"middle\" x=\"28\" y=\"-318.4\" font-family=\"Times,serif\" font-size=\"12.00\" fill=\"#000000\">W1.bias</text>\n",
       "<text text-anchor=\"middle\" x=\"28\" y=\"-305.4\" font-family=\"Times,serif\" font-size=\"12.00\" fill=\"#000000\"> (10)</text>\n",
       "</g>\n",
       "<!-- 140518013957456&#45;&gt;140518000948944 -->\n",
       "<g id=\"edge5\" class=\"edge\">\n",
       "<title>140518013957456&#45;&gt;140518000948944</title>\n",
       "<path fill=\"none\" stroke=\"#000000\" d=\"M38.1348,-297.6966C44.0172,-287.6535 51.4448,-274.9722 57.5395,-264.5667\"/>\n",
       "<polygon fill=\"#000000\" stroke=\"#000000\" points=\"60.6454,-266.189 62.6794,-255.7913 54.6052,-262.6512 60.6454,-266.189\"/>\n",
       "</g>\n",
       "<!-- 140518007106064 -->\n",
       "<g id=\"node7\" class=\"node\">\n",
       "<title>140518007106064</title>\n",
       "<polygon fill=\"#d3d3d3\" stroke=\"#000000\" points=\"147.5,-325.5 74.5,-325.5 74.5,-304.5 147.5,-304.5 147.5,-325.5\"/>\n",
       "<text text-anchor=\"middle\" x=\"111\" y=\"-311.9\" font-family=\"Times,serif\" font-size=\"12.00\" fill=\"#000000\">TBackward</text>\n",
       "</g>\n",
       "<!-- 140518007106064&#45;&gt;140518000948944 -->\n",
       "<g id=\"edge6\" class=\"edge\">\n",
       "<title>140518007106064&#45;&gt;140518000948944</title>\n",
       "<path fill=\"none\" stroke=\"#000000\" d=\"M104.6211,-304.3685C98.2688,-293.7814 88.3731,-277.2886 80.6223,-264.3705\"/>\n",
       "<polygon fill=\"#000000\" stroke=\"#000000\" points=\"83.5852,-262.5057 75.4389,-255.7315 77.5827,-266.1072 83.5852,-262.5057\"/>\n",
       "</g>\n",
       "<!-- 140518024239056 -->\n",
       "<g id=\"node8\" class=\"node\">\n",
       "<title>140518024239056</title>\n",
       "<polygon fill=\"#add8e6\" stroke=\"#000000\" points=\"145.5,-402 76.5,-402 76.5,-368 145.5,-368 145.5,-402\"/>\n",
       "<text text-anchor=\"middle\" x=\"111\" y=\"-388.4\" font-family=\"Times,serif\" font-size=\"12.00\" fill=\"#000000\">W1.weight</text>\n",
       "<text text-anchor=\"middle\" x=\"111\" y=\"-375.4\" font-family=\"Times,serif\" font-size=\"12.00\" fill=\"#000000\"> (10, 10)</text>\n",
       "</g>\n",
       "<!-- 140518024239056&#45;&gt;140518007106064 -->\n",
       "<g id=\"edge7\" class=\"edge\">\n",
       "<title>140518024239056&#45;&gt;140518007106064</title>\n",
       "<path fill=\"none\" stroke=\"#000000\" d=\"M111,-367.6966C111,-358.0634 111,-346.003 111,-335.8518\"/>\n",
       "<polygon fill=\"#000000\" stroke=\"#000000\" points=\"114.5001,-335.7912 111,-325.7913 107.5001,-335.7913 114.5001,-335.7912\"/>\n",
       "</g>\n",
       "<!-- 140518000950672 -->\n",
       "<g id=\"node9\" class=\"node\">\n",
       "<title>140518000950672</title>\n",
       "<polygon fill=\"#add8e6\" stroke=\"#000000\" points=\"193,-262 139,-262 139,-228 193,-228 193,-262\"/>\n",
       "<text text-anchor=\"middle\" x=\"166\" y=\"-248.4\" font-family=\"Times,serif\" font-size=\"12.00\" fill=\"#000000\">b</text>\n",
       "<text text-anchor=\"middle\" x=\"166\" y=\"-235.4\" font-family=\"Times,serif\" font-size=\"12.00\" fill=\"#000000\"> (1, 10)</text>\n",
       "</g>\n",
       "<!-- 140518000950672&#45;&gt;140518000949136 -->\n",
       "<g id=\"edge8\" class=\"edge\">\n",
       "<title>140518000950672&#45;&gt;140518000949136</title>\n",
       "<path fill=\"none\" stroke=\"#000000\" d=\"M152.8689,-227.9832C146.3204,-219.4969 138.3796,-209.2062 131.6358,-200.4668\"/>\n",
       "<polygon fill=\"#000000\" stroke=\"#000000\" points=\"134.267,-198.1474 125.3868,-192.3687 128.7251,-202.4239 134.267,-198.1474\"/>\n",
       "</g>\n",
       "</g>\n",
       "</svg>\n"
      ],
      "text/plain": [
       "<graphviz.dot.Digraph at 0x7fcce587fd50>"
      ]
     },
     "metadata": {},
     "output_type": "display_data"
    },
    {
     "name": "stdout",
     "output_type": "stream",
     "text": [
      "\n",
      "Graph nodes (BEFORE backprop):\n"
     ]
    },
    {
     "data": {
      "text/html": [
       "<div>\n",
       "<style scoped>\n",
       "    .dataframe tbody tr th:only-of-type {\n",
       "        vertical-align: middle;\n",
       "    }\n",
       "\n",
       "    .dataframe tbody tr th {\n",
       "        vertical-align: top;\n",
       "    }\n",
       "\n",
       "    .dataframe thead th {\n",
       "        text-align: right;\n",
       "    }\n",
       "</style>\n",
       "<table border=\"1\" class=\"dataframe\">\n",
       "  <thead>\n",
       "    <tr style=\"text-align: right;\">\n",
       "      <th></th>\n",
       "      <th>name</th>\n",
       "      <th>requires_grad</th>\n",
       "      <th>is_leaf</th>\n",
       "      <th>requires_grad &amp; is_leaf</th>\n",
       "      <th>grad</th>\n",
       "      <th>grad_fn</th>\n",
       "    </tr>\n",
       "  </thead>\n",
       "  <tbody>\n",
       "    <tr>\n",
       "      <th>0</th>\n",
       "      <td>x</td>\n",
       "      <td>False</td>\n",
       "      <td>True</td>\n",
       "      <td>False</td>\n",
       "      <td>None</td>\n",
       "      <td>None</td>\n",
       "    </tr>\n",
       "    <tr>\n",
       "      <th>1</th>\n",
       "      <td>b</td>\n",
       "      <td>True</td>\n",
       "      <td>True</td>\n",
       "      <td>True</td>\n",
       "      <td>None</td>\n",
       "      <td>None</td>\n",
       "    </tr>\n",
       "    <tr>\n",
       "      <th>2</th>\n",
       "      <td>W1.weight</td>\n",
       "      <td>True</td>\n",
       "      <td>True</td>\n",
       "      <td>True</td>\n",
       "      <td>None</td>\n",
       "      <td>None</td>\n",
       "    </tr>\n",
       "    <tr>\n",
       "      <th>3</th>\n",
       "      <td>W1.bias</td>\n",
       "      <td>True</td>\n",
       "      <td>True</td>\n",
       "      <td>True</td>\n",
       "      <td>None</td>\n",
       "      <td>None</td>\n",
       "    </tr>\n",
       "    <tr>\n",
       "      <th>4</th>\n",
       "      <td>y_pred</td>\n",
       "      <td>True</td>\n",
       "      <td>False</td>\n",
       "      <td>False</td>\n",
       "      <td>None</td>\n",
       "      <td>&lt;AddBackward0 object at 0x7fcce587f790&gt;</td>\n",
       "    </tr>\n",
       "    <tr>\n",
       "      <th>5</th>\n",
       "      <td>y</td>\n",
       "      <td>False</td>\n",
       "      <td>True</td>\n",
       "      <td>False</td>\n",
       "      <td>None</td>\n",
       "      <td>None</td>\n",
       "    </tr>\n",
       "    <tr>\n",
       "      <th>6</th>\n",
       "      <td>mse_loss</td>\n",
       "      <td>True</td>\n",
       "      <td>False</td>\n",
       "      <td>False</td>\n",
       "      <td>None</td>\n",
       "      <td>&lt;MeanBackward0 object at 0x7fcce73d8250&gt;</td>\n",
       "    </tr>\n",
       "  </tbody>\n",
       "</table>\n",
       "</div>"
      ],
      "text/plain": [
       "        name requires_grad is_leaf requires_grad & is_leaf  grad  \\\n",
       "0          x         False    True                   False  None   \n",
       "1          b          True    True                    True  None   \n",
       "2  W1.weight          True    True                    True  None   \n",
       "3    W1.bias          True    True                    True  None   \n",
       "4     y_pred          True   False                   False  None   \n",
       "5          y         False    True                   False  None   \n",
       "6   mse_loss          True   False                   False  None   \n",
       "\n",
       "                                    grad_fn  \n",
       "0                                      None  \n",
       "1                                      None  \n",
       "2                                      None  \n",
       "3                                      None  \n",
       "4   <AddBackward0 object at 0x7fcce587f790>  \n",
       "5                                      None  \n",
       "6  <MeanBackward0 object at 0x7fcce73d8250>  "
      ]
     },
     "metadata": {},
     "output_type": "display_data"
    },
    {
     "name": "stdout",
     "output_type": "stream",
     "text": [
      "\n",
      "Graph nodes (AFTER backprop):\n"
     ]
    },
    {
     "data": {
      "text/html": [
       "<div>\n",
       "<style scoped>\n",
       "    .dataframe tbody tr th:only-of-type {\n",
       "        vertical-align: middle;\n",
       "    }\n",
       "\n",
       "    .dataframe tbody tr th {\n",
       "        vertical-align: top;\n",
       "    }\n",
       "\n",
       "    .dataframe thead th {\n",
       "        text-align: right;\n",
       "    }\n",
       "</style>\n",
       "<table border=\"1\" class=\"dataframe\">\n",
       "  <thead>\n",
       "    <tr style=\"text-align: right;\">\n",
       "      <th></th>\n",
       "      <th>name</th>\n",
       "      <th>requires_grad</th>\n",
       "      <th>is_leaf</th>\n",
       "      <th>requires_grad &amp; is_leaf</th>\n",
       "      <th>grad</th>\n",
       "      <th>grad_fn</th>\n",
       "    </tr>\n",
       "  </thead>\n",
       "  <tbody>\n",
       "    <tr>\n",
       "      <th>0</th>\n",
       "      <td>x</td>\n",
       "      <td>False</td>\n",
       "      <td>True</td>\n",
       "      <td>False</td>\n",
       "      <td>None</td>\n",
       "      <td>None</td>\n",
       "    </tr>\n",
       "    <tr>\n",
       "      <th>1</th>\n",
       "      <td>b</td>\n",
       "      <td>True</td>\n",
       "      <td>True</td>\n",
       "      <td>True</td>\n",
       "      <td>tensor([[ 0.6085, -0.0233,  0.7450,  0.3725,  ...</td>\n",
       "      <td>None</td>\n",
       "    </tr>\n",
       "    <tr>\n",
       "      <th>2</th>\n",
       "      <td>W1.weight</td>\n",
       "      <td>True</td>\n",
       "      <td>True</td>\n",
       "      <td>True</td>\n",
       "      <td>tensor([[ 0.0000,  0.4248,  0.8497,  1.2745,  ...</td>\n",
       "      <td>None</td>\n",
       "    </tr>\n",
       "    <tr>\n",
       "      <th>3</th>\n",
       "      <td>W1.bias</td>\n",
       "      <td>True</td>\n",
       "      <td>True</td>\n",
       "      <td>True</td>\n",
       "      <td>tensor([ 0.6085, -0.0233,  0.7450,  0.3725,  0...</td>\n",
       "      <td>None</td>\n",
       "    </tr>\n",
       "    <tr>\n",
       "      <th>4</th>\n",
       "      <td>y_pred</td>\n",
       "      <td>True</td>\n",
       "      <td>False</td>\n",
       "      <td>False</td>\n",
       "      <td>None</td>\n",
       "      <td>&lt;AddBackward0 object at 0x7fcce587f790&gt;</td>\n",
       "    </tr>\n",
       "    <tr>\n",
       "      <th>5</th>\n",
       "      <td>y</td>\n",
       "      <td>False</td>\n",
       "      <td>True</td>\n",
       "      <td>False</td>\n",
       "      <td>None</td>\n",
       "      <td>None</td>\n",
       "    </tr>\n",
       "    <tr>\n",
       "      <th>6</th>\n",
       "      <td>mse_loss</td>\n",
       "      <td>True</td>\n",
       "      <td>False</td>\n",
       "      <td>False</td>\n",
       "      <td>None</td>\n",
       "      <td>&lt;MeanBackward0 object at 0x7fcce73d8250&gt;</td>\n",
       "    </tr>\n",
       "  </tbody>\n",
       "</table>\n",
       "</div>"
      ],
      "text/plain": [
       "        name requires_grad is_leaf requires_grad & is_leaf  \\\n",
       "0          x         False    True                   False   \n",
       "1          b          True    True                    True   \n",
       "2  W1.weight          True    True                    True   \n",
       "3    W1.bias          True    True                    True   \n",
       "4     y_pred          True   False                   False   \n",
       "5          y         False    True                   False   \n",
       "6   mse_loss          True   False                   False   \n",
       "\n",
       "                                                grad  \\\n",
       "0                                               None   \n",
       "1  tensor([[ 0.6085, -0.0233,  0.7450,  0.3725,  ...   \n",
       "2  tensor([[ 0.0000,  0.4248,  0.8497,  1.2745,  ...   \n",
       "3  tensor([ 0.6085, -0.0233,  0.7450,  0.3725,  0...   \n",
       "4                                               None   \n",
       "5                                               None   \n",
       "6                                               None   \n",
       "\n",
       "                                    grad_fn  \n",
       "0                                      None  \n",
       "1                                      None  \n",
       "2                                      None  \n",
       "3                                      None  \n",
       "4   <AddBackward0 object at 0x7fcce587f790>  \n",
       "5                                      None  \n",
       "6  <MeanBackward0 object at 0x7fcce73d8250>  "
      ]
     },
     "metadata": {},
     "output_type": "display_data"
    }
   ],
   "source": [
    "torch.manual_seed(9)\n",
    "model = Model()\n",
    "\n",
    "y_pred = model(x)\n",
    "mse_loss = mse(y_pred, y)\n",
    "\n",
    "params_list = [(\"x\", x)] + list(model.named_parameters()) + [(\"y_pred\", y_pred), (\"y\", y), (\"mse_loss\", mse_loss)]\n",
    "\n",
    "# Graph.\n",
    "print(\"\\nCalculation Graph, all the way to the loss:\")\n",
    "chart = make_dot(mse_loss, params=dict(params_list))\n",
    "disp.display(chart)\n",
    "\n",
    "# Graph node info.\n",
    "print(\"\\nGraph nodes (BEFORE backprop):\")\n",
    "df = show_state(params_list)\n",
    "disp.display(df)\n",
    "\n",
    "# --------------------------\n",
    "# Do one run of backprop.\n",
    "mse_loss.backward()\n",
    "\n",
    "# Graph node info.\n",
    "print(\"\\nGraph nodes (AFTER backprop):\")\n",
    "df = show_state(params_list)\n",
    "disp.display(df)"
   ]
  },
  {
   "cell_type": "code",
   "execution_count": 179,
   "metadata": {},
   "outputs": [
    {
     "name": "stdout",
     "output_type": "stream",
     "text": [
      "\n",
      "Graph nodes (BEFORE backprop):\n"
     ]
    },
    {
     "data": {
      "text/html": [
       "<div>\n",
       "<style scoped>\n",
       "    .dataframe tbody tr th:only-of-type {\n",
       "        vertical-align: middle;\n",
       "    }\n",
       "\n",
       "    .dataframe tbody tr th {\n",
       "        vertical-align: top;\n",
       "    }\n",
       "\n",
       "    .dataframe thead th {\n",
       "        text-align: right;\n",
       "    }\n",
       "</style>\n",
       "<table border=\"1\" class=\"dataframe\">\n",
       "  <thead>\n",
       "    <tr style=\"text-align: right;\">\n",
       "      <th></th>\n",
       "      <th>name</th>\n",
       "      <th>requires_grad</th>\n",
       "      <th>is_leaf</th>\n",
       "      <th>requires_grad &amp; is_leaf</th>\n",
       "      <th>grad</th>\n",
       "      <th>grad_fn</th>\n",
       "    </tr>\n",
       "  </thead>\n",
       "  <tbody>\n",
       "    <tr>\n",
       "      <th>0</th>\n",
       "      <td>x</td>\n",
       "      <td>False</td>\n",
       "      <td>True</td>\n",
       "      <td>False</td>\n",
       "      <td>None</td>\n",
       "      <td>None</td>\n",
       "    </tr>\n",
       "    <tr>\n",
       "      <th>1</th>\n",
       "      <td>b</td>\n",
       "      <td>True</td>\n",
       "      <td>True</td>\n",
       "      <td>True</td>\n",
       "      <td>None</td>\n",
       "      <td>None</td>\n",
       "    </tr>\n",
       "    <tr>\n",
       "      <th>2</th>\n",
       "      <td>W1.weight</td>\n",
       "      <td>True</td>\n",
       "      <td>True</td>\n",
       "      <td>True</td>\n",
       "      <td>None</td>\n",
       "      <td>None</td>\n",
       "    </tr>\n",
       "    <tr>\n",
       "      <th>3</th>\n",
       "      <td>W1.bias</td>\n",
       "      <td>True</td>\n",
       "      <td>True</td>\n",
       "      <td>True</td>\n",
       "      <td>None</td>\n",
       "      <td>None</td>\n",
       "    </tr>\n",
       "    <tr>\n",
       "      <th>4</th>\n",
       "      <td>y_pred</td>\n",
       "      <td>True</td>\n",
       "      <td>False</td>\n",
       "      <td>False</td>\n",
       "      <td>None</td>\n",
       "      <td>&lt;AddBackward0 object at 0x7fcce5e19a10&gt;</td>\n",
       "    </tr>\n",
       "    <tr>\n",
       "      <th>5</th>\n",
       "      <td>y</td>\n",
       "      <td>False</td>\n",
       "      <td>True</td>\n",
       "      <td>False</td>\n",
       "      <td>None</td>\n",
       "      <td>None</td>\n",
       "    </tr>\n",
       "    <tr>\n",
       "      <th>6</th>\n",
       "      <td>mse_loss</td>\n",
       "      <td>True</td>\n",
       "      <td>False</td>\n",
       "      <td>False</td>\n",
       "      <td>None</td>\n",
       "      <td>&lt;MeanBackward0 object at 0x7fcce5e19b50&gt;</td>\n",
       "    </tr>\n",
       "  </tbody>\n",
       "</table>\n",
       "</div>"
      ],
      "text/plain": [
       "        name requires_grad is_leaf requires_grad & is_leaf  grad  \\\n",
       "0          x         False    True                   False  None   \n",
       "1          b          True    True                    True  None   \n",
       "2  W1.weight          True    True                    True  None   \n",
       "3    W1.bias          True    True                    True  None   \n",
       "4     y_pred          True   False                   False  None   \n",
       "5          y         False    True                   False  None   \n",
       "6   mse_loss          True   False                   False  None   \n",
       "\n",
       "                                    grad_fn  \n",
       "0                                      None  \n",
       "1                                      None  \n",
       "2                                      None  \n",
       "3                                      None  \n",
       "4   <AddBackward0 object at 0x7fcce5e19a10>  \n",
       "5                                      None  \n",
       "6  <MeanBackward0 object at 0x7fcce5e19b50>  "
      ]
     },
     "metadata": {},
     "output_type": "display_data"
    },
    {
     "name": "stdout",
     "output_type": "stream",
     "text": [
      "\n",
      "Graph nodes (AFTER backprop):\n"
     ]
    },
    {
     "data": {
      "text/html": [
       "<div>\n",
       "<style scoped>\n",
       "    .dataframe tbody tr th:only-of-type {\n",
       "        vertical-align: middle;\n",
       "    }\n",
       "\n",
       "    .dataframe tbody tr th {\n",
       "        vertical-align: top;\n",
       "    }\n",
       "\n",
       "    .dataframe thead th {\n",
       "        text-align: right;\n",
       "    }\n",
       "</style>\n",
       "<table border=\"1\" class=\"dataframe\">\n",
       "  <thead>\n",
       "    <tr style=\"text-align: right;\">\n",
       "      <th></th>\n",
       "      <th>name</th>\n",
       "      <th>requires_grad</th>\n",
       "      <th>is_leaf</th>\n",
       "      <th>requires_grad &amp; is_leaf</th>\n",
       "      <th>grad</th>\n",
       "      <th>grad_fn</th>\n",
       "    </tr>\n",
       "  </thead>\n",
       "  <tbody>\n",
       "    <tr>\n",
       "      <th>0</th>\n",
       "      <td>x</td>\n",
       "      <td>False</td>\n",
       "      <td>True</td>\n",
       "      <td>False</td>\n",
       "      <td>None</td>\n",
       "      <td>None</td>\n",
       "    </tr>\n",
       "    <tr>\n",
       "      <th>1</th>\n",
       "      <td>b</td>\n",
       "      <td>True</td>\n",
       "      <td>True</td>\n",
       "      <td>True</td>\n",
       "      <td>tensor([[ 1.2171, -0.0465,  1.4900,  0.7451,  ...</td>\n",
       "      <td>None</td>\n",
       "    </tr>\n",
       "    <tr>\n",
       "      <th>2</th>\n",
       "      <td>W1.weight</td>\n",
       "      <td>True</td>\n",
       "      <td>True</td>\n",
       "      <td>True</td>\n",
       "      <td>tensor([[ 0.0000,  0.8497,  1.6994,  2.5491,  ...</td>\n",
       "      <td>None</td>\n",
       "    </tr>\n",
       "    <tr>\n",
       "      <th>3</th>\n",
       "      <td>W1.bias</td>\n",
       "      <td>True</td>\n",
       "      <td>True</td>\n",
       "      <td>True</td>\n",
       "      <td>tensor([ 1.2171, -0.0465,  1.4900,  0.7451,  0...</td>\n",
       "      <td>None</td>\n",
       "    </tr>\n",
       "    <tr>\n",
       "      <th>4</th>\n",
       "      <td>y_pred</td>\n",
       "      <td>True</td>\n",
       "      <td>False</td>\n",
       "      <td>False</td>\n",
       "      <td>None</td>\n",
       "      <td>&lt;AddBackward0 object at 0x7fcce6a18cd0&gt;</td>\n",
       "    </tr>\n",
       "    <tr>\n",
       "      <th>5</th>\n",
       "      <td>y</td>\n",
       "      <td>False</td>\n",
       "      <td>True</td>\n",
       "      <td>False</td>\n",
       "      <td>None</td>\n",
       "      <td>None</td>\n",
       "    </tr>\n",
       "    <tr>\n",
       "      <th>6</th>\n",
       "      <td>mse_loss</td>\n",
       "      <td>True</td>\n",
       "      <td>False</td>\n",
       "      <td>False</td>\n",
       "      <td>None</td>\n",
       "      <td>&lt;MeanBackward0 object at 0x7fcce71c5090&gt;</td>\n",
       "    </tr>\n",
       "  </tbody>\n",
       "</table>\n",
       "</div>"
      ],
      "text/plain": [
       "        name requires_grad is_leaf requires_grad & is_leaf  \\\n",
       "0          x         False    True                   False   \n",
       "1          b          True    True                    True   \n",
       "2  W1.weight          True    True                    True   \n",
       "3    W1.bias          True    True                    True   \n",
       "4     y_pred          True   False                   False   \n",
       "5          y         False    True                   False   \n",
       "6   mse_loss          True   False                   False   \n",
       "\n",
       "                                                grad  \\\n",
       "0                                               None   \n",
       "1  tensor([[ 1.2171, -0.0465,  1.4900,  0.7451,  ...   \n",
       "2  tensor([[ 0.0000,  0.8497,  1.6994,  2.5491,  ...   \n",
       "3  tensor([ 1.2171, -0.0465,  1.4900,  0.7451,  0...   \n",
       "4                                               None   \n",
       "5                                               None   \n",
       "6                                               None   \n",
       "\n",
       "                                    grad_fn  \n",
       "0                                      None  \n",
       "1                                      None  \n",
       "2                                      None  \n",
       "3                                      None  \n",
       "4   <AddBackward0 object at 0x7fcce6a18cd0>  \n",
       "5                                      None  \n",
       "6  <MeanBackward0 object at 0x7fcce71c5090>  "
      ]
     },
     "metadata": {},
     "output_type": "display_data"
    }
   ],
   "source": [
    "# Investigate `retain_graph`\n",
    "\n",
    "torch.manual_seed(9)\n",
    "model = Model()\n",
    "\n",
    "y_pred = model(x)\n",
    "mse_loss = mse(y_pred, y)\n",
    "\n",
    "params_list = [(\"x\", x)] + list(model.named_parameters()) + [(\"y_pred\", y_pred), (\"y\", y), (\"mse_loss\", mse_loss)]\n",
    "\n",
    "# Graph node info.\n",
    "print(\"\\nGraph nodes (BEFORE backprop):\")\n",
    "df = show_state(params_list)\n",
    "disp.display(df)\n",
    "\n",
    "# --------------------------\n",
    "# Do TWO RUNS of backprop.\n",
    "mse_loss.backward(retain_graph=True)\n",
    "mse_loss.backward()\n",
    "\n",
    "# The below causes an exception:\n",
    "# mse_loss.backward()\n",
    "# mse_loss.backward()\n",
    "\n",
    "# All the above does is compute 1st order derivative twice and accumulate.\n",
    "# NOT 2nd order derivatives.\n",
    "\n",
    "# Graph node info.\n",
    "print(\"\\nGraph nodes (AFTER backprop):\")\n",
    "df = show_state(params_list)\n",
    "disp.display(df)"
   ]
  },
  {
   "cell_type": "code",
   "execution_count": 180,
   "metadata": {},
   "outputs": [
    {
     "name": "stdout",
     "output_type": "stream",
     "text": [
      "\n",
      "`mse_loss` graph:\n"
     ]
    },
    {
     "data": {
      "image/svg+xml": [
       "<?xml version=\"1.0\" encoding=\"UTF-8\" standalone=\"no\"?>\n",
       "<!DOCTYPE svg PUBLIC \"-//W3C//DTD SVG 1.1//EN\"\n",
       " \"http://www.w3.org/Graphics/SVG/1.1/DTD/svg11.dtd\">\n",
       "<!-- Generated by graphviz version 2.40.1 (20161225.0304)\n",
       " -->\n",
       "<!-- Title: %3 Pages: 1 -->\n",
       "<svg width=\"201pt\" height=\"410pt\"\n",
       " viewBox=\"0.00 0.00 201.00 410.00\" xmlns=\"http://www.w3.org/2000/svg\" xmlns:xlink=\"http://www.w3.org/1999/xlink\">\n",
       "<g id=\"graph0\" class=\"graph\" transform=\"scale(1 1) rotate(0) translate(4 406)\">\n",
       "<title>%3</title>\n",
       "<polygon fill=\"#ffffff\" stroke=\"transparent\" points=\"-4,4 -4,-406 197,-406 197,4 -4,4\"/>\n",
       "<!-- 140518024237584 -->\n",
       "<g id=\"node1\" class=\"node\">\n",
       "<title>140518024237584</title>\n",
       "<polygon fill=\"#caff70\" stroke=\"#000000\" points=\"166,-21 68,-21 68,0 166,0 166,-21\"/>\n",
       "<text text-anchor=\"middle\" x=\"117\" y=\"-7.4\" font-family=\"Times,serif\" font-size=\"12.00\" fill=\"#000000\">MeanBackward0</text>\n",
       "</g>\n",
       "<!-- 140518024239056 -->\n",
       "<g id=\"node2\" class=\"node\">\n",
       "<title>140518024239056</title>\n",
       "<polygon fill=\"#d3d3d3\" stroke=\"#000000\" points=\"163.5,-78 70.5,-78 70.5,-57 163.5,-57 163.5,-78\"/>\n",
       "<text text-anchor=\"middle\" x=\"117\" y=\"-64.4\" font-family=\"Times,serif\" font-size=\"12.00\" fill=\"#000000\">PowBackward0</text>\n",
       "</g>\n",
       "<!-- 140518024239056&#45;&gt;140518024237584 -->\n",
       "<g id=\"edge1\" class=\"edge\">\n",
       "<title>140518024239056&#45;&gt;140518024237584</title>\n",
       "<path fill=\"none\" stroke=\"#000000\" d=\"M117,-56.7787C117,-49.6134 117,-39.9517 117,-31.3097\"/>\n",
       "<polygon fill=\"#000000\" stroke=\"#000000\" points=\"120.5001,-31.1732 117,-21.1732 113.5001,-31.1732 120.5001,-31.1732\"/>\n",
       "</g>\n",
       "<!-- 140518031805648 -->\n",
       "<g id=\"node3\" class=\"node\">\n",
       "<title>140518031805648</title>\n",
       "<polygon fill=\"#d3d3d3\" stroke=\"#000000\" points=\"162,-135 72,-135 72,-114 162,-114 162,-135\"/>\n",
       "<text text-anchor=\"middle\" x=\"117\" y=\"-121.4\" font-family=\"Times,serif\" font-size=\"12.00\" fill=\"#000000\">SubBackward0</text>\n",
       "</g>\n",
       "<!-- 140518031805648&#45;&gt;140518024239056 -->\n",
       "<g id=\"edge2\" class=\"edge\">\n",
       "<title>140518031805648&#45;&gt;140518024239056</title>\n",
       "<path fill=\"none\" stroke=\"#000000\" d=\"M117,-113.7787C117,-106.6134 117,-96.9517 117,-88.3097\"/>\n",
       "<polygon fill=\"#000000\" stroke=\"#000000\" points=\"120.5001,-88.1732 117,-78.1732 113.5001,-88.1732 120.5001,-88.1732\"/>\n",
       "</g>\n",
       "<!-- 140518031803216 -->\n",
       "<g id=\"node4\" class=\"node\">\n",
       "<title>140518031803216</title>\n",
       "<polygon fill=\"#d3d3d3\" stroke=\"#000000\" points=\"163,-192 71,-192 71,-171 163,-171 163,-192\"/>\n",
       "<text text-anchor=\"middle\" x=\"117\" y=\"-178.4\" font-family=\"Times,serif\" font-size=\"12.00\" fill=\"#000000\">AddBackward0</text>\n",
       "</g>\n",
       "<!-- 140518031803216&#45;&gt;140518031805648 -->\n",
       "<g id=\"edge3\" class=\"edge\">\n",
       "<title>140518031803216&#45;&gt;140518031805648</title>\n",
       "<path fill=\"none\" stroke=\"#000000\" d=\"M117,-170.7787C117,-163.6134 117,-153.9517 117,-145.3097\"/>\n",
       "<polygon fill=\"#000000\" stroke=\"#000000\" points=\"120.5001,-145.1732 117,-135.1732 113.5001,-145.1732 120.5001,-145.1732\"/>\n",
       "</g>\n",
       "<!-- 140518007131600 -->\n",
       "<g id=\"node5\" class=\"node\">\n",
       "<title>140518007131600</title>\n",
       "<polygon fill=\"#d3d3d3\" stroke=\"#000000\" points=\"121,-255.5 17,-255.5 17,-234.5 121,-234.5 121,-255.5\"/>\n",
       "<text text-anchor=\"middle\" x=\"69\" y=\"-241.9\" font-family=\"Times,serif\" font-size=\"12.00\" fill=\"#000000\">AddmmBackward</text>\n",
       "</g>\n",
       "<!-- 140518007131600&#45;&gt;140518031803216 -->\n",
       "<g id=\"edge4\" class=\"edge\">\n",
       "<title>140518007131600&#45;&gt;140518031803216</title>\n",
       "<path fill=\"none\" stroke=\"#000000\" d=\"M77.1425,-234.2281C84.1495,-224.9585 94.4206,-211.3707 102.7811,-200.3104\"/>\n",
       "<polygon fill=\"#000000\" stroke=\"#000000\" points=\"105.7396,-202.2007 108.9777,-192.1128 100.1555,-197.9796 105.7396,-202.2007\"/>\n",
       "</g>\n",
       "<!-- 140518007129808 -->\n",
       "<g id=\"node6\" class=\"node\">\n",
       "<title>140518007129808</title>\n",
       "<polygon fill=\"#add8e6\" stroke=\"#000000\" points=\"56,-332 0,-332 0,-298 56,-298 56,-332\"/>\n",
       "<text text-anchor=\"middle\" x=\"28\" y=\"-318.4\" font-family=\"Times,serif\" font-size=\"12.00\" fill=\"#000000\">W1.bias</text>\n",
       "<text text-anchor=\"middle\" x=\"28\" y=\"-305.4\" font-family=\"Times,serif\" font-size=\"12.00\" fill=\"#000000\"> (10)</text>\n",
       "</g>\n",
       "<!-- 140518007129808&#45;&gt;140518007131600 -->\n",
       "<g id=\"edge5\" class=\"edge\">\n",
       "<title>140518007129808&#45;&gt;140518007131600</title>\n",
       "<path fill=\"none\" stroke=\"#000000\" d=\"M38.1348,-297.6966C44.0172,-287.6535 51.4448,-274.9722 57.5395,-264.5667\"/>\n",
       "<polygon fill=\"#000000\" stroke=\"#000000\" points=\"60.6454,-266.189 62.6794,-255.7913 54.6052,-262.6512 60.6454,-266.189\"/>\n",
       "</g>\n",
       "<!-- 140518007132112 -->\n",
       "<g id=\"node7\" class=\"node\">\n",
       "<title>140518007132112</title>\n",
       "<polygon fill=\"#d3d3d3\" stroke=\"#000000\" points=\"147.5,-325.5 74.5,-325.5 74.5,-304.5 147.5,-304.5 147.5,-325.5\"/>\n",
       "<text text-anchor=\"middle\" x=\"111\" y=\"-311.9\" font-family=\"Times,serif\" font-size=\"12.00\" fill=\"#000000\">TBackward</text>\n",
       "</g>\n",
       "<!-- 140518007132112&#45;&gt;140518007131600 -->\n",
       "<g id=\"edge6\" class=\"edge\">\n",
       "<title>140518007132112&#45;&gt;140518007131600</title>\n",
       "<path fill=\"none\" stroke=\"#000000\" d=\"M104.6211,-304.3685C98.2688,-293.7814 88.3731,-277.2886 80.6223,-264.3705\"/>\n",
       "<polygon fill=\"#000000\" stroke=\"#000000\" points=\"83.5852,-262.5057 75.4389,-255.7315 77.5827,-266.1072 83.5852,-262.5057\"/>\n",
       "</g>\n",
       "<!-- 140518007130192 -->\n",
       "<g id=\"node8\" class=\"node\">\n",
       "<title>140518007130192</title>\n",
       "<polygon fill=\"#add8e6\" stroke=\"#000000\" points=\"145.5,-402 76.5,-402 76.5,-368 145.5,-368 145.5,-402\"/>\n",
       "<text text-anchor=\"middle\" x=\"111\" y=\"-388.4\" font-family=\"Times,serif\" font-size=\"12.00\" fill=\"#000000\">W1.weight</text>\n",
       "<text text-anchor=\"middle\" x=\"111\" y=\"-375.4\" font-family=\"Times,serif\" font-size=\"12.00\" fill=\"#000000\"> (10, 10)</text>\n",
       "</g>\n",
       "<!-- 140518007130192&#45;&gt;140518007132112 -->\n",
       "<g id=\"edge7\" class=\"edge\">\n",
       "<title>140518007130192&#45;&gt;140518007132112</title>\n",
       "<path fill=\"none\" stroke=\"#000000\" d=\"M111,-367.6966C111,-358.0634 111,-346.003 111,-335.8518\"/>\n",
       "<polygon fill=\"#000000\" stroke=\"#000000\" points=\"114.5001,-335.7912 111,-325.7913 107.5001,-335.7913 114.5001,-335.7912\"/>\n",
       "</g>\n",
       "<!-- 140518007130448 -->\n",
       "<g id=\"node9\" class=\"node\">\n",
       "<title>140518007130448</title>\n",
       "<polygon fill=\"#add8e6\" stroke=\"#000000\" points=\"193,-262 139,-262 139,-228 193,-228 193,-262\"/>\n",
       "<text text-anchor=\"middle\" x=\"166\" y=\"-248.4\" font-family=\"Times,serif\" font-size=\"12.00\" fill=\"#000000\">b</text>\n",
       "<text text-anchor=\"middle\" x=\"166\" y=\"-235.4\" font-family=\"Times,serif\" font-size=\"12.00\" fill=\"#000000\"> (1, 10)</text>\n",
       "</g>\n",
       "<!-- 140518007130448&#45;&gt;140518031803216 -->\n",
       "<g id=\"edge8\" class=\"edge\">\n",
       "<title>140518007130448&#45;&gt;140518031803216</title>\n",
       "<path fill=\"none\" stroke=\"#000000\" d=\"M152.8689,-227.9832C146.3204,-219.4969 138.3796,-209.2062 131.6358,-200.4668\"/>\n",
       "<polygon fill=\"#000000\" stroke=\"#000000\" points=\"134.267,-198.1474 125.3868,-192.3687 128.7251,-202.4239 134.267,-198.1474\"/>\n",
       "</g>\n",
       "</g>\n",
       "</svg>\n"
      ],
      "text/plain": [
       "<graphviz.dot.Digraph at 0x7fcce6eb5550>"
      ]
     },
     "metadata": {},
     "output_type": "display_data"
    },
    {
     "name": "stdout",
     "output_type": "stream",
     "text": [
      "\n",
      "`model.W1.weight.grad` graph (after `backward()` with `create_graph=True`):\n"
     ]
    },
    {
     "data": {
      "image/svg+xml": [
       "<?xml version=\"1.0\" encoding=\"UTF-8\" standalone=\"no\"?>\n",
       "<!DOCTYPE svg PUBLIC \"-//W3C//DTD SVG 1.1//EN\"\n",
       " \"http://www.w3.org/Graphics/SVG/1.1/DTD/svg11.dtd\">\n",
       "<!-- Generated by graphviz version 2.40.1 (20161225.0304)\n",
       " -->\n",
       "<!-- Title: %3 Pages: 1 -->\n",
       "<svg width=\"200pt\" height=\"698pt\"\n",
       " viewBox=\"0.00 0.00 200.00 698.00\" xmlns=\"http://www.w3.org/2000/svg\" xmlns:xlink=\"http://www.w3.org/1999/xlink\">\n",
       "<g id=\"graph0\" class=\"graph\" transform=\"scale(1 1) rotate(0) translate(4 694)\">\n",
       "<title>%3</title>\n",
       "<polygon fill=\"#ffffff\" stroke=\"transparent\" points=\"-4,4 -4,-694 196,-694 196,4 -4,4\"/>\n",
       "<!-- 140518007128592 -->\n",
       "<g id=\"node1\" class=\"node\">\n",
       "<title>140518007128592</title>\n",
       "<polygon fill=\"#caff70\" stroke=\"#000000\" points=\"163,-21 69,-21 69,0 163,0 163,-21\"/>\n",
       "<text text-anchor=\"middle\" x=\"116\" y=\"-7.4\" font-family=\"Times,serif\" font-size=\"12.00\" fill=\"#000000\">CloneBackward</text>\n",
       "</g>\n",
       "<!-- 140518007131536 -->\n",
       "<g id=\"node2\" class=\"node\">\n",
       "<title>140518007131536</title>\n",
       "<polygon fill=\"#d3d3d3\" stroke=\"#000000\" points=\"152.5,-78 79.5,-78 79.5,-57 152.5,-57 152.5,-78\"/>\n",
       "<text text-anchor=\"middle\" x=\"116\" y=\"-64.4\" font-family=\"Times,serif\" font-size=\"12.00\" fill=\"#000000\">TBackward</text>\n",
       "</g>\n",
       "<!-- 140518007131536&#45;&gt;140518007128592 -->\n",
       "<g id=\"edge1\" class=\"edge\">\n",
       "<title>140518007131536&#45;&gt;140518007128592</title>\n",
       "<path fill=\"none\" stroke=\"#000000\" d=\"M116,-56.7787C116,-49.6134 116,-39.9517 116,-31.3097\"/>\n",
       "<polygon fill=\"#000000\" stroke=\"#000000\" points=\"119.5001,-31.1732 116,-21.1732 112.5001,-31.1732 119.5001,-31.1732\"/>\n",
       "</g>\n",
       "<!-- 140518007130256 -->\n",
       "<g id=\"node3\" class=\"node\">\n",
       "<title>140518007130256</title>\n",
       "<polygon fill=\"#d3d3d3\" stroke=\"#000000\" points=\"152.5,-135 79.5,-135 79.5,-114 152.5,-114 152.5,-135\"/>\n",
       "<text text-anchor=\"middle\" x=\"116\" y=\"-121.4\" font-family=\"Times,serif\" font-size=\"12.00\" fill=\"#000000\">TBackward</text>\n",
       "</g>\n",
       "<!-- 140518007130256&#45;&gt;140518007131536 -->\n",
       "<g id=\"edge2\" class=\"edge\">\n",
       "<title>140518007130256&#45;&gt;140518007131536</title>\n",
       "<path fill=\"none\" stroke=\"#000000\" d=\"M116,-113.7787C116,-106.6134 116,-96.9517 116,-88.3097\"/>\n",
       "<polygon fill=\"#000000\" stroke=\"#000000\" points=\"119.5001,-88.1732 116,-78.1732 112.5001,-88.1732 119.5001,-88.1732\"/>\n",
       "</g>\n",
       "<!-- 140518000950608 -->\n",
       "<g id=\"node4\" class=\"node\">\n",
       "<title>140518000950608</title>\n",
       "<polygon fill=\"#d3d3d3\" stroke=\"#000000\" points=\"158.5,-192 73.5,-192 73.5,-171 158.5,-171 158.5,-192\"/>\n",
       "<text text-anchor=\"middle\" x=\"116\" y=\"-178.4\" font-family=\"Times,serif\" font-size=\"12.00\" fill=\"#000000\">MmBackward</text>\n",
       "</g>\n",
       "<!-- 140518000950608&#45;&gt;140518007130256 -->\n",
       "<g id=\"edge3\" class=\"edge\">\n",
       "<title>140518000950608&#45;&gt;140518007130256</title>\n",
       "<path fill=\"none\" stroke=\"#000000\" d=\"M116,-170.7787C116,-163.6134 116,-153.9517 116,-145.3097\"/>\n",
       "<polygon fill=\"#000000\" stroke=\"#000000\" points=\"119.5001,-145.1732 116,-135.1732 112.5001,-145.1732 119.5001,-145.1732\"/>\n",
       "</g>\n",
       "<!-- 140518000951120 -->\n",
       "<g id=\"node5\" class=\"node\">\n",
       "<title>140518000951120</title>\n",
       "<polygon fill=\"#d3d3d3\" stroke=\"#000000\" points=\"152.5,-249 79.5,-249 79.5,-228 152.5,-228 152.5,-249\"/>\n",
       "<text text-anchor=\"middle\" x=\"116\" y=\"-235.4\" font-family=\"Times,serif\" font-size=\"12.00\" fill=\"#000000\">TBackward</text>\n",
       "</g>\n",
       "<!-- 140518000951120&#45;&gt;140518000950608 -->\n",
       "<g id=\"edge4\" class=\"edge\">\n",
       "<title>140518000951120&#45;&gt;140518000950608</title>\n",
       "<path fill=\"none\" stroke=\"#000000\" d=\"M116,-227.7787C116,-220.6134 116,-210.9517 116,-202.3097\"/>\n",
       "<polygon fill=\"#000000\" stroke=\"#000000\" points=\"119.5001,-202.1732 116,-192.1732 112.5001,-202.1732 119.5001,-202.1732\"/>\n",
       "</g>\n",
       "<!-- 140518000948816 -->\n",
       "<g id=\"node6\" class=\"node\">\n",
       "<title>140518000948816</title>\n",
       "<polygon fill=\"#d3d3d3\" stroke=\"#000000\" points=\"161.5,-306 70.5,-306 70.5,-285 161.5,-285 161.5,-306\"/>\n",
       "<text text-anchor=\"middle\" x=\"116\" y=\"-292.4\" font-family=\"Times,serif\" font-size=\"12.00\" fill=\"#000000\">MulBackward0</text>\n",
       "</g>\n",
       "<!-- 140518000948816&#45;&gt;140518000951120 -->\n",
       "<g id=\"edge5\" class=\"edge\">\n",
       "<title>140518000948816&#45;&gt;140518000951120</title>\n",
       "<path fill=\"none\" stroke=\"#000000\" d=\"M116,-284.7787C116,-277.6134 116,-267.9517 116,-259.3097\"/>\n",
       "<polygon fill=\"#000000\" stroke=\"#000000\" points=\"119.5001,-259.1732 116,-249.1732 112.5001,-259.1732 119.5001,-259.1732\"/>\n",
       "</g>\n",
       "<!-- 140518000950672 -->\n",
       "<g id=\"node7\" class=\"node\">\n",
       "<title>140518000950672</title>\n",
       "<polygon fill=\"#d3d3d3\" stroke=\"#000000\" points=\"162.5,-363 69.5,-363 69.5,-342 162.5,-342 162.5,-363\"/>\n",
       "<text text-anchor=\"middle\" x=\"116\" y=\"-349.4\" font-family=\"Times,serif\" font-size=\"12.00\" fill=\"#000000\">PowBackward0</text>\n",
       "</g>\n",
       "<!-- 140518000950672&#45;&gt;140518000948816 -->\n",
       "<g id=\"edge6\" class=\"edge\">\n",
       "<title>140518000950672&#45;&gt;140518000948816</title>\n",
       "<path fill=\"none\" stroke=\"#000000\" d=\"M116,-341.7787C116,-334.6134 116,-324.9517 116,-316.3097\"/>\n",
       "<polygon fill=\"#000000\" stroke=\"#000000\" points=\"119.5001,-316.1732 116,-306.1732 112.5001,-316.1732 119.5001,-316.1732\"/>\n",
       "</g>\n",
       "<!-- 140518031805648 -->\n",
       "<g id=\"node8\" class=\"node\">\n",
       "<title>140518031805648</title>\n",
       "<polygon fill=\"#d3d3d3\" stroke=\"#000000\" points=\"161,-420 71,-420 71,-399 161,-399 161,-420\"/>\n",
       "<text text-anchor=\"middle\" x=\"116\" y=\"-406.4\" font-family=\"Times,serif\" font-size=\"12.00\" fill=\"#000000\">SubBackward0</text>\n",
       "</g>\n",
       "<!-- 140518031805648&#45;&gt;140518000950672 -->\n",
       "<g id=\"edge7\" class=\"edge\">\n",
       "<title>140518031805648&#45;&gt;140518000950672</title>\n",
       "<path fill=\"none\" stroke=\"#000000\" d=\"M116,-398.7787C116,-391.6134 116,-381.9517 116,-373.3097\"/>\n",
       "<polygon fill=\"#000000\" stroke=\"#000000\" points=\"119.5001,-373.1732 116,-363.1732 112.5001,-373.1732 119.5001,-373.1732\"/>\n",
       "</g>\n",
       "<!-- 140518031803216 -->\n",
       "<g id=\"node9\" class=\"node\">\n",
       "<title>140518031803216</title>\n",
       "<polygon fill=\"#d3d3d3\" stroke=\"#000000\" points=\"162,-477 70,-477 70,-456 162,-456 162,-477\"/>\n",
       "<text text-anchor=\"middle\" x=\"116\" y=\"-463.4\" font-family=\"Times,serif\" font-size=\"12.00\" fill=\"#000000\">AddBackward0</text>\n",
       "</g>\n",
       "<!-- 140518031803216&#45;&gt;140518031805648 -->\n",
       "<g id=\"edge8\" class=\"edge\">\n",
       "<title>140518031803216&#45;&gt;140518031805648</title>\n",
       "<path fill=\"none\" stroke=\"#000000\" d=\"M116,-455.7787C116,-448.6134 116,-438.9517 116,-430.3097\"/>\n",
       "<polygon fill=\"#000000\" stroke=\"#000000\" points=\"119.5001,-430.1732 116,-420.1732 112.5001,-430.1732 119.5001,-430.1732\"/>\n",
       "</g>\n",
       "<!-- 140518007131600 -->\n",
       "<g id=\"node10\" class=\"node\">\n",
       "<title>140518007131600</title>\n",
       "<polygon fill=\"#d3d3d3\" stroke=\"#000000\" points=\"120,-541 16,-541 16,-520 120,-520 120,-541\"/>\n",
       "<text text-anchor=\"middle\" x=\"68\" y=\"-527.4\" font-family=\"Times,serif\" font-size=\"12.00\" fill=\"#000000\">AddmmBackward</text>\n",
       "</g>\n",
       "<!-- 140518007131600&#45;&gt;140518031803216 -->\n",
       "<g id=\"edge9\" class=\"edge\">\n",
       "<title>140518007131600&#45;&gt;140518031803216</title>\n",
       "<path fill=\"none\" stroke=\"#000000\" d=\"M75.9262,-519.9317C82.9018,-510.6309 93.2303,-496.8597 101.6543,-485.6276\"/>\n",
       "<polygon fill=\"#000000\" stroke=\"#000000\" points=\"104.7015,-487.3979 107.9016,-477.2979 99.1015,-483.1979 104.7015,-487.3979\"/>\n",
       "</g>\n",
       "<!-- 140518007129808 -->\n",
       "<g id=\"node11\" class=\"node\">\n",
       "<title>140518007129808</title>\n",
       "<polygon fill=\"#add8e6\" stroke=\"#000000\" points=\"54,-619 0,-619 0,-584 54,-584 54,-619\"/>\n",
       "<text text-anchor=\"middle\" x=\"27\" y=\"-591.4\" font-family=\"Times,serif\" font-size=\"12.00\" fill=\"#000000\"> (10)</text>\n",
       "</g>\n",
       "<!-- 140518007129808&#45;&gt;140518007131600 -->\n",
       "<g id=\"edge10\" class=\"edge\">\n",
       "<title>140518007129808&#45;&gt;140518007131600</title>\n",
       "<path fill=\"none\" stroke=\"#000000\" d=\"M37.1348,-583.9494C43.0899,-573.6371 50.6285,-560.5824 56.7646,-549.9563\"/>\n",
       "<polygon fill=\"#000000\" stroke=\"#000000\" points=\"59.9501,-551.439 61.92,-541.0288 53.8882,-547.9384 59.9501,-551.439\"/>\n",
       "</g>\n",
       "<!-- 140518007132112 -->\n",
       "<g id=\"node12\" class=\"node\">\n",
       "<title>140518007132112</title>\n",
       "<polygon fill=\"#d3d3d3\" stroke=\"#000000\" points=\"145.5,-612 72.5,-612 72.5,-591 145.5,-591 145.5,-612\"/>\n",
       "<text text-anchor=\"middle\" x=\"109\" y=\"-598.4\" font-family=\"Times,serif\" font-size=\"12.00\" fill=\"#000000\">TBackward</text>\n",
       "</g>\n",
       "<!-- 140518007132112&#45;&gt;140518007131600 -->\n",
       "<g id=\"edge11\" class=\"edge\">\n",
       "<title>140518007132112&#45;&gt;140518007131600</title>\n",
       "<path fill=\"none\" stroke=\"#000000\" d=\"M102.773,-590.7166C96.5719,-579.9782 86.9119,-563.2498 79.3456,-550.1472\"/>\n",
       "<polygon fill=\"#000000\" stroke=\"#000000\" points=\"82.3174,-548.2944 74.2856,-541.3849 76.2555,-551.795 82.3174,-548.2944\"/>\n",
       "</g>\n",
       "<!-- 140518007130192 -->\n",
       "<g id=\"node13\" class=\"node\">\n",
       "<title>140518007130192</title>\n",
       "<polygon fill=\"#add8e6\" stroke=\"#000000\" points=\"137.5,-690 80.5,-690 80.5,-655 137.5,-655 137.5,-690\"/>\n",
       "<text text-anchor=\"middle\" x=\"109\" y=\"-662.4\" font-family=\"Times,serif\" font-size=\"12.00\" fill=\"#000000\"> (10, 10)</text>\n",
       "</g>\n",
       "<!-- 140518007130192&#45;&gt;140518007132112 -->\n",
       "<g id=\"edge12\" class=\"edge\">\n",
       "<title>140518007130192&#45;&gt;140518007132112</title>\n",
       "<path fill=\"none\" stroke=\"#000000\" d=\"M109,-654.9494C109,-645.058 109,-632.6435 109,-622.2693\"/>\n",
       "<polygon fill=\"#000000\" stroke=\"#000000\" points=\"112.5001,-622.0288 109,-612.0288 105.5001,-622.0289 112.5001,-622.0288\"/>\n",
       "</g>\n",
       "<!-- 140518007130448 -->\n",
       "<g id=\"node14\" class=\"node\">\n",
       "<title>140518007130448</title>\n",
       "<polygon fill=\"#add8e6\" stroke=\"#000000\" points=\"192,-548 138,-548 138,-513 192,-513 192,-548\"/>\n",
       "<text text-anchor=\"middle\" x=\"165\" y=\"-520.4\" font-family=\"Times,serif\" font-size=\"12.00\" fill=\"#000000\"> (1, 10)</text>\n",
       "</g>\n",
       "<!-- 140518007130448&#45;&gt;140518031803216 -->\n",
       "<g id=\"edge13\" class=\"edge\">\n",
       "<title>140518007130448&#45;&gt;140518031803216</title>\n",
       "<path fill=\"none\" stroke=\"#000000\" d=\"M151.3508,-512.6724C144.8094,-504.1286 136.9747,-493.8955 130.3453,-485.2367\"/>\n",
       "<polygon fill=\"#000000\" stroke=\"#000000\" points=\"133.0683,-483.0358 124.2101,-477.2234 127.5102,-487.2912 133.0683,-483.0358\"/>\n",
       "</g>\n",
       "</g>\n",
       "</svg>\n"
      ],
      "text/plain": [
       "<graphviz.dot.Digraph at 0x7fcce5e64750>"
      ]
     },
     "metadata": {},
     "output_type": "display_data"
    }
   ],
   "source": [
    "# Investigate `create_graph`\n",
    "\n",
    "torch.manual_seed(9)\n",
    "model = Model()\n",
    "\n",
    "y_pred = model(x)\n",
    "mse_loss = mse(y_pred, y)\n",
    "\n",
    "params_list = [(\"x\", x)] + list(model.named_parameters()) + [(\"y_pred\", y_pred), (\"y\", y), (\"mse_loss\", mse_loss)]\n",
    "\n",
    "# Graph.\n",
    "print(\"\\n`mse_loss` graph:\")\n",
    "chart = make_dot(mse_loss, params=dict(params_list))\n",
    "disp.display(chart)\n",
    "\n",
    "# --------------------------\n",
    "# Do one run of backprop.\n",
    "mse_loss.backward(retain_graph=True, create_graph=True)\n",
    "\n",
    "# Can see that there's now a grath for model.W1.weight.**grad**\n",
    "# Without create_graph=True, there is no graph there.\n",
    "print(\"\\n`model.W1.weight.grad` graph (after `backward()` with `create_graph=True`):\")\n",
    "W1w_grad = model.W1.weight.grad\n",
    "chart = make_dot(W1w_grad)\n",
    "disp.display(chart)"
   ]
  },
  {
   "cell_type": "markdown",
   "metadata": {},
   "source": [
    "# Using `torch.autograd.grad()` "
   ]
  },
  {
   "cell_type": "code",
   "execution_count": 181,
   "metadata": {},
   "outputs": [
    {
     "data": {
      "image/png": "[encoded data removed]",
      "text/plain": [
       "<Figure size 432x288 with 1 Axes>"
      ]
     },
     "metadata": {},
     "output_type": "display_data"
    },
    {
     "name": "stdout",
     "output_type": "stream",
     "text": [
      "------------------------------\n",
      "it 20:\n",
      "------------------------------\n",
      "\n",
      ">>> y_pred:\n",
      "tensor([[ 0.0056,  0.6426,  0.9917,  0.8695,  0.3422, -0.3424, -0.8625, -0.9786,\n",
      "         -0.6399, -0.0044]], grad_fn=<AddBackward0>)\n",
      ">>> y:\n",
      "tensor([[ 0.0000e+00,  6.4279e-01,  9.8481e-01,  8.6603e-01,  3.4202e-01,\n",
      "         -3.4202e-01, -8.6603e-01, -9.8481e-01, -6.4279e-01, -2.4493e-16]])\n",
      ">>> mse = 1.7112246496253647e-05\n"
     ]
    }
   ],
   "source": [
    "# Manually calculate and update gradients using autograd.\n",
    "\n",
    "# Use `torch.autograd.grad()`.\n",
    "# `torch.autograd.backward()` can be used as equivalent to calling `.backward()` on the loss.\n",
    "\n",
    "VERB = False\n",
    "\n",
    "torch.manual_seed(9)\n",
    "model = Model()\n",
    "\n",
    "x.requires_grad_(True)\n",
    "\n",
    "iters = 20\n",
    "lr = 0.01\n",
    "\n",
    "for it in range(iters):\n",
    "    \n",
    "    print(\"------------------------------\\nit {}:\\n------------------------------\\n\".format(it + 1))\n",
    "    \n",
    "    # Zero the gradients.\n",
    "    with torch.no_grad():\n",
    "        for name, parameter in model.named_parameters():\n",
    "            if parameter.grad is not None:\n",
    "                parameter.grad.data.zero_()\n",
    "    \n",
    "    # Compute loss.\n",
    "    y_pred = model(x)\n",
    "    \n",
    "    print(\">>> y_pred:\")\n",
    "    print(y_pred)\n",
    "    \n",
    "    print(\">>> y:\")\n",
    "    print(y)\n",
    "    \n",
    "    mse_loss = mse(y_pred, y)\n",
    "    \n",
    "    print(\">>> mse = {}\".format(mse_loss))\n",
    "    \n",
    "    # --- --- --- --- --- --- --- --- --- --- --- --- --- --- --- \n",
    "    # Backprop.\n",
    "    if VERB:\n",
    "        print(\"-------------------\")\n",
    "        print(\"BEFORE UPDATE:\")\n",
    "        for p in model.parameters():\n",
    "            print(\"parameter:\")\n",
    "            print(p)\n",
    "            print(\"parameter.grad:\")\n",
    "            print(p.grad)\n",
    "            print(\"----\")\n",
    "    \n",
    "    params_list = list(model.parameters())\n",
    "    # MANUALLY update the gradients (note that `only_inputs=True` no longer works in new PyTorch versions):\n",
    "    grads = torch.autograd.grad(outputs=mse_loss, inputs=params_list, grad_outputs=torch.tensor(1.), retain_graph=False, create_graph=False)\n",
    "    for idx, parameter in enumerate(params_list):\n",
    "        if parameter.grad is None:  # Only relevant to the 0th iteration.\n",
    "            parameter.grad = grads[idx]\n",
    "        else:\n",
    "            parameter.grad.data = grads[idx]\n",
    "    \n",
    "    if VERB:\n",
    "        print(\"-------------------\")\n",
    "        print(\"AFTER UPDATE:\")\n",
    "        for p in model.parameters():\n",
    "            print(\"parameter:\")\n",
    "            print(p)\n",
    "            print(\"parameter.grad:\")\n",
    "            print(p.grad)\n",
    "            print(\"----\")\n",
    "    # --- --- --- --- --- --- --- --- --- --- --- --- --- --- --- \n",
    "        \n",
    "    with torch.no_grad():  # Do not track.\n",
    "        for name, parameter in model.named_parameters():\n",
    "            parameter.data -= lr * parameter.grad.data\n",
    "    \n",
    "    # Display.\n",
    "    show_plot(x_np, y_np, y_pred.squeeze().detach().numpy(), ylim=(-4., 4.), print_mse=False)\n",
    "    if it < iters-1:\n",
    "        disp.clear_output(wait=True)\n",
    "        disp.display(plt.gcf())\n",
    "\n",
    "plt.close()"
   ]
  },
  {
   "cell_type": "markdown",
   "metadata": {},
   "source": [
    "# Higher order derivatives "
   ]
  },
  {
   "cell_type": "code",
   "execution_count": 218,
   "metadata": {},
   "outputs": [
    {
     "data": {
      "image/svg+xml": [
       "<?xml version=\"1.0\" encoding=\"UTF-8\" standalone=\"no\"?>\n",
       "<!DOCTYPE svg PUBLIC \"-//W3C//DTD SVG 1.1//EN\"\n",
       " \"http://www.w3.org/Graphics/SVG/1.1/DTD/svg11.dtd\">\n",
       "<!-- Generated by graphviz version 2.40.1 (20161225.0304)\n",
       " -->\n",
       "<!-- Title: %3 Pages: 1 -->\n",
       "<svg width=\"202pt\" height=\"213pt\"\n",
       " viewBox=\"0.00 0.00 202.00 213.00\" xmlns=\"http://www.w3.org/2000/svg\" xmlns:xlink=\"http://www.w3.org/1999/xlink\">\n",
       "<g id=\"graph0\" class=\"graph\" transform=\"scale(1 1) rotate(0) translate(4 209)\">\n",
       "<title>%3</title>\n",
       "<polygon fill=\"#ffffff\" stroke=\"transparent\" points=\"-4,4 -4,-209 198,-209 198,4 -4,4\"/>\n",
       "<!-- 140518003376400 -->\n",
       "<g id=\"node1\" class=\"node\">\n",
       "<title>140518003376400</title>\n",
       "<polygon fill=\"#caff70\" stroke=\"#000000\" points=\"141.5,-21 49.5,-21 49.5,0 141.5,0 141.5,-21\"/>\n",
       "<text text-anchor=\"middle\" x=\"95.5\" y=\"-7.4\" font-family=\"Times,serif\" font-size=\"12.00\" fill=\"#000000\">AddBackward0</text>\n",
       "</g>\n",
       "<!-- 140518003376848 -->\n",
       "<g id=\"node2\" class=\"node\">\n",
       "<title>140518003376848</title>\n",
       "<polygon fill=\"#d3d3d3\" stroke=\"#000000\" points=\"85,-78 0,-78 0,-57 85,-57 85,-78\"/>\n",
       "<text text-anchor=\"middle\" x=\"42.5\" y=\"-64.4\" font-family=\"Times,serif\" font-size=\"12.00\" fill=\"#000000\">ExpBackward</text>\n",
       "</g>\n",
       "<!-- 140518003376848&#45;&gt;140518003376400 -->\n",
       "<g id=\"edge1\" class=\"edge\">\n",
       "<title>140518003376848&#45;&gt;140518003376400</title>\n",
       "<path fill=\"none\" stroke=\"#000000\" d=\"M52.4689,-56.7787C59.7976,-48.8969 69.935,-37.9944 78.5295,-28.7512\"/>\n",
       "<polygon fill=\"#000000\" stroke=\"#000000\" points=\"81.3295,-30.8799 85.5758,-21.1732 76.2032,-26.1133 81.3295,-30.8799\"/>\n",
       "</g>\n",
       "<!-- 140518006182864 -->\n",
       "<g id=\"node3\" class=\"node\">\n",
       "<title>140518006182864</title>\n",
       "<polygon fill=\"#add8e6\" stroke=\"#000000\" points=\"121.5,-205 67.5,-205 67.5,-171 121.5,-171 121.5,-205\"/>\n",
       "<text text-anchor=\"middle\" x=\"94.5\" y=\"-191.4\" font-family=\"Times,serif\" font-size=\"12.00\" fill=\"#000000\">x</text>\n",
       "<text text-anchor=\"middle\" x=\"94.5\" y=\"-178.4\" font-family=\"Times,serif\" font-size=\"12.00\" fill=\"#000000\"> (1)</text>\n",
       "</g>\n",
       "<!-- 140518006182864&#45;&gt;140518003376848 -->\n",
       "<g id=\"edge2\" class=\"edge\">\n",
       "<title>140518006182864&#45;&gt;140518003376848</title>\n",
       "<path fill=\"none\" stroke=\"#000000\" d=\"M87.16,-170.9909C77.6491,-148.9512 61.0972,-110.5955 51.0355,-87.2795\"/>\n",
       "<polygon fill=\"#000000\" stroke=\"#000000\" points=\"54.2147,-85.8129 47.0389,-78.0181 47.7876,-88.5864 54.2147,-85.8129\"/>\n",
       "</g>\n",
       "<!-- 140518006182608 -->\n",
       "<g id=\"node5\" class=\"node\">\n",
       "<title>140518006182608</title>\n",
       "<polygon fill=\"#d3d3d3\" stroke=\"#000000\" points=\"182,-135 97,-135 97,-114 182,-114 182,-135\"/>\n",
       "<text text-anchor=\"middle\" x=\"139.5\" y=\"-121.4\" font-family=\"Times,serif\" font-size=\"12.00\" fill=\"#000000\">LogBackward</text>\n",
       "</g>\n",
       "<!-- 140518006182864&#45;&gt;140518006182608 -->\n",
       "<g id=\"edge5\" class=\"edge\">\n",
       "<title>140518006182864&#45;&gt;140518006182608</title>\n",
       "<path fill=\"none\" stroke=\"#000000\" d=\"M106.5592,-170.9832C112.5104,-162.5853 119.7139,-152.4204 125.8651,-143.7404\"/>\n",
       "<polygon fill=\"#000000\" stroke=\"#000000\" points=\"128.8714,-145.5514 131.7978,-135.3687 123.1601,-141.504 128.8714,-145.5514\"/>\n",
       "</g>\n",
       "<!-- 140518006158928 -->\n",
       "<g id=\"node4\" class=\"node\">\n",
       "<title>140518006158928</title>\n",
       "<polygon fill=\"#d3d3d3\" stroke=\"#000000\" points=\"194,-78 103,-78 103,-57 194,-57 194,-78\"/>\n",
       "<text text-anchor=\"middle\" x=\"148.5\" y=\"-64.4\" font-family=\"Times,serif\" font-size=\"12.00\" fill=\"#000000\">MulBackward0</text>\n",
       "</g>\n",
       "<!-- 140518006158928&#45;&gt;140518003376400 -->\n",
       "<g id=\"edge3\" class=\"edge\">\n",
       "<title>140518006158928&#45;&gt;140518003376400</title>\n",
       "<path fill=\"none\" stroke=\"#000000\" d=\"M138.5311,-56.7787C131.2024,-48.8969 121.065,-37.9944 112.4705,-28.7512\"/>\n",
       "<polygon fill=\"#000000\" stroke=\"#000000\" points=\"114.7968,-26.1133 105.4242,-21.1732 109.6705,-30.8799 114.7968,-26.1133\"/>\n",
       "</g>\n",
       "<!-- 140518006182608&#45;&gt;140518006158928 -->\n",
       "<g id=\"edge4\" class=\"edge\">\n",
       "<title>140518006182608&#45;&gt;140518006158928</title>\n",
       "<path fill=\"none\" stroke=\"#000000\" d=\"M141.1928,-113.7787C142.3242,-106.6134 143.8497,-96.9517 145.2143,-88.3097\"/>\n",
       "<polygon fill=\"#000000\" stroke=\"#000000\" points=\"148.7122,-88.5967 146.8148,-78.1732 141.7979,-87.5049 148.7122,-88.5967\"/>\n",
       "</g>\n",
       "</g>\n",
       "</svg>\n"
      ],
      "text/plain": [
       "<graphviz.dot.Digraph at 0x7fcce5d61b50>"
      ]
     },
     "metadata": {},
     "output_type": "display_data"
    },
    {
     "name": "stdout",
     "output_type": "stream",
     "text": [
      "\n",
      " f = 42.05778503417969. Expected: 42.05778...\n",
      "\n",
      " df_dx = 26.7522029876709. Expected: 26.75220...\n",
      "\n",
      " d2f_dx2 = 17.86331558227539. Expected: 17.8633...\n"
     ]
    }
   ],
   "source": [
    "# Simple 1D function:\n",
    "x = torch.tensor([3.], requires_grad=True)\n",
    "f = torch.exp(x) + 20 * torch.log(x)\n",
    "\n",
    "# Show graph:\n",
    "disp.display(make_dot(f, params={\"x\": x}))\n",
    "\n",
    "print(\"\\n f = {}. Expected: 42.05778...\".format(f.item()))\n",
    "\n",
    "# First order derivative wrt x: df/dx.\n",
    "df_dx = torch.autograd.grad(outputs=f, inputs=x, grad_outputs=None, retain_graph=True, create_graph=True)[0]\n",
    "print(\"\\n df_dx = {}. Expected: 26.75220...\".format(df_dx.item()))\n",
    "\n",
    "# Second order derivative wrt x: d2f/dx2.\n",
    "d2f_dx2 = torch.autograd.grad(outputs=df_dx, inputs=x, grad_outputs=None, retain_graph=False, create_graph=False)[0]\n",
    "print(\"\\n d2f_dx2 = {}. Expected: 17.8633...\".format(d2f_dx2.item()))"
   ]
  }
 ],
 "metadata": {
  "kernelspec": {
   "display_name": "Python [conda env:py37_pytorch_tutorials] *",
   "language": "python",
   "name": "conda-env-py37_pytorch_tutorials-py"
  },
  "language_info": {
   "codemirror_mode": {
    "name": "ipython",
    "version": 3
   },
   "file_extension": ".py",
   "mimetype": "text/x-python",
   "name": "python",
   "nbconvert_exporter": "python",
   "pygments_lexer": "ipython3",
   "version": "3.7.5"
  }
 },
 "nbformat": 4,
 "nbformat_minor": 4
}
