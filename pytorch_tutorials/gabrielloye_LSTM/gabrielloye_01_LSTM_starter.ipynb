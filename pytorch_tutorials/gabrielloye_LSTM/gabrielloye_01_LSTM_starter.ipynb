{
 "cells": [
  {
   "cell_type": "markdown",
   "metadata": {},
   "source": [
    "## URLs:\n",
    "GitHub: [https://github.com/gabrielloye/LSTM_Sentiment-Analysis/blob/master/LSTM_starter.ipynb](https://github.com/gabrielloye/LSTM_Sentiment-Analysis/blob/master/LSTM_starter.ipynb)\n",
    "\n",
    "Article: [https://blog.floydhub.com/long-short-term-memory-from-zero-to-hero-with-pytorch/](https://blog.floydhub.com/long-short-term-memory-from-zero-to-hero-with-pytorch/)"
   ]
  },
  {
   "cell_type": "code",
   "execution_count": 1,
   "metadata": {},
   "outputs": [],
   "source": [
    "import torch\n",
    "import torch.nn as nn"
   ]
  },
  {
   "cell_type": "code",
   "execution_count": 2,
   "metadata": {},
   "outputs": [],
   "source": [
    "input_dim = 5\n",
    "hidden_dim = 10\n",
    "n_layers = 1  # Output shapes will * n_layers if > 1. \n",
    "\n",
    "lstm_layer = nn.LSTM(input_dim, hidden_dim, n_layers, batch_first=True)"
   ]
  },
  {
   "cell_type": "code",
   "execution_count": 3,
   "metadata": {},
   "outputs": [
    {
     "name": "stdout",
     "output_type": "stream",
     "text": [
      "Input shape: torch.Size([1, 1, 5])\n",
      "Hidden shape: (torch.Size([1, 1, 10]), torch.Size([1, 1, 10]))\n"
     ]
    }
   ],
   "source": [
    "batch_size = 1\n",
    "seq_len = 1\n",
    "\n",
    "inp = torch.randn(batch_size, seq_len, input_dim)\n",
    "hidden_state = torch.randn(n_layers, batch_size, hidden_dim)\n",
    "cell_state = torch.randn(n_layers, batch_size, hidden_dim)\n",
    "hidden = (hidden_state, cell_state)\n",
    "print(\"Input shape: {}\".format(inp.shape))\n",
    "print(\"Hidden shape: ({}, {})\".format(hidden[0].shape, hidden[1].shape))"
   ]
  },
  {
   "cell_type": "code",
   "execution_count": 4,
   "metadata": {},
   "outputs": [
    {
     "name": "stdout",
     "output_type": "stream",
     "text": [
      "Output shape:  torch.Size([1, 1, 10]) \n",
      "\n",
      "Hidden:\n",
      " tensor([[[ 0.0955, -0.2894, -0.0251,  0.0543,  0.3613, -0.5282,  0.0031,\n",
      "          -0.1859, -0.1644, -0.1628]]], grad_fn=<StackBackward>) \n",
      "Shape:  torch.Size([1, 1, 10]) \n",
      "\n",
      "Cell:\n",
      " tensor([[[ 0.2759, -0.3867, -0.0431,  0.1646,  1.0879, -1.3404,  0.0095,\n",
      "          -0.4426, -0.2365, -0.3460]]], grad_fn=<StackBackward>) \n",
      "Shape:  torch.Size([1, 1, 10]) \n",
      "\n"
     ]
    }
   ],
   "source": [
    "out, (hidden_n, cell_n) = lstm_layer(inp, hidden)\n",
    "print(\"Output shape: \", out.shape, \"\\n\")\n",
    "print(\"Hidden:\\n\", hidden_n, \"\\nShape: \", hidden_n.shape, \"\\n\")\n",
    "print(\"Cell:\\n\", cell_n, \"\\nShape: \", cell_n.shape, \"\\n\")"
   ]
  },
  {
   "cell_type": "code",
   "execution_count": 7,
   "metadata": {},
   "outputs": [
    {
     "name": "stdout",
     "output_type": "stream",
     "text": [
      "Output shape:  torch.Size([1, 3, 10]) \n",
      "\n",
      "Output:\n",
      " tensor([[[-0.1305, -0.0601, -0.0701,  0.1518,  0.1705, -0.1332,  0.0758,\n",
      "          -0.0055, -0.3079,  0.2000],\n",
      "         [-0.0990, -0.0169, -0.0804,  0.2670,  0.1299, -0.0750,  0.0852,\n",
      "           0.1195,  0.0369,  0.1179],\n",
      "         [-0.2027,  0.0528,  0.0823,  0.0515,  0.0428, -0.0816,  0.1754,\n",
      "           0.0373, -0.1753,  0.2618]]], grad_fn=<TransposeBackward0>)\n"
     ]
    }
   ],
   "source": [
    "seq_len = 3  # Longer sequence length, can use same LSTM.\n",
    "inp = torch.randn(batch_size, seq_len, input_dim)\n",
    "out, (hidden_n, cell_n) = lstm_layer(inp, (hidden_n, cell_n))\n",
    "print(\"Output shape: \", out.shape, \"\\n\")\n",
    "print(\"Output:\\n\", out)"
   ]
  },
  {
   "cell_type": "code",
   "execution_count": 8,
   "metadata": {},
   "outputs": [
    {
     "name": "stdout",
     "output_type": "stream",
     "text": [
      "Output shape:  torch.Size([10]) \n",
      "\n",
      "Output:\n",
      " tensor([-0.0990, -0.0169, -0.0804,  0.2670,  0.1299, -0.0750,  0.0852,  0.1195,\n",
      "         0.0369,  0.1179], grad_fn=<SliceBackward>)\n"
     ]
    }
   ],
   "source": [
    "# Obtaining the last output in the sequence\n",
    "out = out.squeeze()[-1, :]  # Note -1 is used to take last, this is not .view()! \n",
    "print(\"Output shape: \", out.shape, \"\\n\")\n",
    "print(\"Output:\\n\", out)"
   ]
  }
 ],
 "metadata": {
  "kernelspec": {
   "display_name": "Python [conda env:py37_pytorch_tutorials]",
   "language": "python",
   "name": "conda-env-py37_pytorch_tutorials-py"
  },
  "language_info": {
   "codemirror_mode": {
    "name": "ipython",
    "version": 3
   },
   "file_extension": ".py",
   "mimetype": "text/x-python",
   "name": "python",
   "nbconvert_exporter": "python",
   "pygments_lexer": "ipython3",
   "version": "3.7.5"
  }
 },
 "nbformat": 4,
 "nbformat_minor": 4
}
