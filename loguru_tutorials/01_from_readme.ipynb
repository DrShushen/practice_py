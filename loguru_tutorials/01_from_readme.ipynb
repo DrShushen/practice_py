{
 "cells": [
  {
   "cell_type": "code",
   "execution_count": 1,
   "metadata": {},
   "outputs": [],
   "source": [
    "%load_ext autoreload\n",
    "\n",
    "# This is just in case logging configuration needs each cell to \"refresh\".\n",
    "\n",
    "# NOTE: I don't think this was actually necessary."
   ]
  },
  {
   "attachments": {},
   "cell_type": "markdown",
   "metadata": {},
   "source": [
    "Following [README](https://github.com/Delgan/loguru#readme)\n",
    "\n",
    "## Summary\n",
    "`Loguru` is a library which aims to bring enjoyable logging in Python.\n",
    "\n",
    "Did you ever feel lazy about configuring a logger and used `print()` instead?...\n",
    "\n",
    "I did, yet logging is fundamental to every application and eases the process of debugging.\n",
    "\n",
    "Using `Loguru` you have no excuse not to use logging from the start, this is as simple as `from loguru import logger`."
   ]
  },
  {
   "attachments": {},
   "cell_type": "markdown",
   "metadata": {},
   "source": [
    "## Take the tour\n",
    "\n",
    "### Ready to use out of the box without boilerplate\n",
    "\n",
    "> The main concept of Loguru is that there is one and only one `logger`.\n",
    "\n",
    "For convenience, it is pre-configured and outputs to `stderr` to begin with (but that's entirely configurable).\n",
    "\n",
    "The [`logger`](https://loguru.readthedocs.io/en/stable/api/logger.html#loguru._logger.Logger)\n",
    "is just an interface which dispatches log messages to configured handlers. Simple, right?"
   ]
  },
  {
   "cell_type": "code",
   "execution_count": 2,
   "metadata": {},
   "outputs": [
    {
     "name": "stderr",
     "output_type": "stream",
     "text": [
      "2022-12-29 22:17:06.443 | DEBUG    | __main__:<module>:3 - That's it, beautiful and simple logging!\n"
     ]
    }
   ],
   "source": [
    "from loguru import logger\n",
    "\n",
    "logger.debug(\"That's it, beautiful and simple logging!\")"
   ]
  },
  {
   "attachments": {},
   "cell_type": "markdown",
   "metadata": {},
   "source": [
    "### No `Handler`, no `Formatter`, no `Filter`: *one function to rule them all*\n",
    "\n",
    "How to add a handler? How to set up logs formatting? How to filter messages? How to set level?\n",
    "\n",
    "One answer: the [`add()`](https://loguru.readthedocs.io/en/stable/api/logger.html#loguru._logger.Logger.add) function."
   ]
  },
  {
   "cell_type": "code",
   "execution_count": 3,
   "metadata": {},
   "outputs": [
    {
     "name": "stderr",
     "output_type": "stream",
     "text": [
      "2022-12-29 22:17:06.522 | INFO     | __main__:<module>:7 - That's it, beautiful and simple logging!\n",
      ">>> 2022-12-29T22:17:06.522543+0000 INFO That's it, beautiful and simple logging!\n"
     ]
    }
   ],
   "source": [
    "%autoreload\n",
    "\n",
    "import sys\n",
    "\n",
    "l2 = logger.add(\n",
    "    sys.stderr, format=\">>> {time} {level} {message}\", filter=\"__main__\", level=\"INFO\"\n",
    ")\n",
    "\n",
    "logger.info(\"That's it, beautiful and simple logging!\")"
   ]
  },
  {
   "attachments": {},
   "cell_type": "markdown",
   "metadata": {},
   "source": [
    "This function should be used to register [**sinks**](https://loguru.readthedocs.io/en/stable/api/logger.html#sink) which\n",
    "are responsible for managing [**log messages**](https://loguru.readthedocs.io/en/stable/api/logger.html#message)\n",
    "contextualized with a [**record dict**](https://loguru.readthedocs.io/en/stable/api/logger.html#record).\n",
    "\n",
    "A sink can take many forms:\n",
    "* a simple function,\n",
    "* a string path,\n",
    "* a file-like object,\n",
    "* a coroutine function\n",
    "* or a built-in Handler."
   ]
  },
  {
   "attachments": {},
   "cell_type": "markdown",
   "metadata": {},
   "source": [
    "Note that you may also [`remove()`](https://loguru.readthedocs.io/en/stable/api/logger.html#loguru._logger.Logger.remove)\n",
    "a previously added handler by using the identifier returned while adding it.\n",
    "\n",
    "This is particularly useful if you *want to supersede the default stderr handler*:\n",
    "* just call `logger.remove()` to make a fresh start."
   ]
  },
  {
   "cell_type": "code",
   "execution_count": 4,
   "metadata": {},
   "outputs": [],
   "source": [
    "logger.remove(l2)"
   ]
  },
  {
   "attachments": {},
   "cell_type": "markdown",
   "metadata": {},
   "source": [
    "### Easier file logging with rotation / retention / compression\n",
    "\n",
    "If you want to send logged messages to a file, you just have to use a string path as the sink.\n",
    "\n",
    "It can be automatically timed too for convenience:"
   ]
  },
  {
   "cell_type": "code",
   "execution_count": 5,
   "metadata": {},
   "outputs": [
    {
     "name": "stderr",
     "output_type": "stream",
     "text": [
      "2022-12-29 22:17:06.692 | DEBUG    | __main__:<module>:7 - That's it, beautiful and simple logging!\n"
     ]
    }
   ],
   "source": [
    "%autoreload\n",
    "\n",
    "from loguru import logger\n",
    "\n",
    "l3 = logger.add(\"file_{time}.log\")  # NOTE the automatically handled {time} macro here.\n",
    "\n",
    "logger.debug(\"That's it, beautiful and simple logging!\")\n",
    "\n",
    "logger.remove(l3)"
   ]
  },
  {
   "attachments": {},
   "cell_type": "markdown",
   "metadata": {},
   "source": [
    "It is also [easily configurable](https://loguru.readthedocs.io/en/stable/api/logger.html#file) if you need rotating logger,\n",
    "if you want to remove older logs, or if you wish to compress your files at closure.\n",
    "\n",
    "```python\n",
    "logger.add(\"file_1.log\", rotation=\"500 MB\")    # Automatically rotate too big file\n",
    "logger.add(\"file_2.log\", rotation=\"12:00\")     # New file is created each day at noon\n",
    "logger.add(\"file_3.log\", rotation=\"1 week\")    # Once the file is too old, it's rotated\n",
    "\n",
    "logger.add(\"file_X.log\", retention=\"10 days\")  # Cleanup after some time\n",
    "\n",
    "logger.add(\"file_Y.log\", compression=\"zip\")    # Save some loved space\n",
    "```"
   ]
  },
  {
   "attachments": {},
   "cell_type": "markdown",
   "metadata": {},
   "source": [
    "### Modern string formatting using braces style\n",
    "\n",
    "Loguru favors the much more elegant and powerful `{}` formatting over `%`,\n",
    "**logging functions are actually equivalent to `str.format()`**.\n",
    "\n",
    "* If using python 3.6+, use f-strings."
   ]
  },
  {
   "cell_type": "code",
   "execution_count": 6,
   "metadata": {},
   "outputs": [
    {
     "name": "stderr",
     "output_type": "stream",
     "text": [
      "2022-12-29 22:17:06.769 | INFO     | __main__:<module>:1 - If you're using Python 3.6, prefer f-strings of course!\n"
     ]
    }
   ],
   "source": [
    "logger.info(\n",
    "    \"If you're using Python {}, prefer {feature} of course!\", 3.6, feature=\"f-strings\"\n",
    ")"
   ]
  },
  {
   "attachments": {},
   "cell_type": "markdown",
   "metadata": {},
   "source": [
    "### Exceptions catching within threads or main\n",
    "\n",
    "⚠️ Tricky\n",
    "\n",
    "* Have you ever seen your program crashing unexpectedly without seeing anything in the log file?\n",
    "* Did you ever notice that exceptions occurring in threads were not logged?\n",
    "\n",
    "This can be solved using the [`catch()`](https://loguru.readthedocs.io/en/stable/api/logger.html#loguru._logger.Logger.catch)\n",
    "decorator / context manager which ensures that any error is correctly propagated to the logger."
   ]
  },
  {
   "cell_type": "code",
   "execution_count": 7,
   "metadata": {},
   "outputs": [
    {
     "name": "stderr",
     "output_type": "stream",
     "text": [
      "2022-12-29 22:17:06.850 | ERROR    | __main__:<module>:6 - An error has been caught in function '<module>', process 'MainProcess' (1505681), thread 'MainThread' (140272710476864):\n",
      "Traceback (most recent call last):\n",
      "\n",
      "  File \"/mnt/data-linux/miniconda3/envs/learn_py38_loguru/lib/python3.8/runpy.py\", line 194, in _run_module_as_main\n",
      "    return _run_code(code, main_globals, None,\n",
      "           │         │     └ {'__name__': '__main__', '__doc__': 'Entry point for launching an IPython kernel.\\n\\nThis is separate from the ipykernel pack...\n",
      "           │         └ <code object <module> at 0x7f93c8a4d9d0, file \"/mnt/data-linux/miniconda3/envs/learn_py38_loguru/lib/python3.8/site-packages/...\n",
      "           └ <function _run_code at 0x7f93c8a51280>\n",
      "  File \"/mnt/data-linux/miniconda3/envs/learn_py38_loguru/lib/python3.8/runpy.py\", line 87, in _run_code\n",
      "    exec(code, run_globals)\n",
      "         │     └ {'__name__': '__main__', '__doc__': 'Entry point for launching an IPython kernel.\\n\\nThis is separate from the ipykernel pack...\n",
      "         └ <code object <module> at 0x7f93c8a4d9d0, file \"/mnt/data-linux/miniconda3/envs/learn_py38_loguru/lib/python3.8/site-packages/...\n",
      "  File \"/mnt/data-linux/miniconda3/envs/learn_py38_loguru/lib/python3.8/site-packages/ipykernel_launcher.py\", line 17, in <module>\n",
      "    app.launch_new_instance()\n",
      "    │   └ <bound method Application.launch_instance of <class 'ipykernel.kernelapp.IPKernelApp'>>\n",
      "    └ <module 'ipykernel.kernelapp' from '/mnt/data-linux/miniconda3/envs/learn_py38_loguru/lib/python3.8/site-packages/ipykernel/k...\n",
      "  File \"/mnt/data-linux/miniconda3/envs/learn_py38_loguru/lib/python3.8/site-packages/traitlets/config/application.py\", line 992, in launch_instance\n",
      "    app.start()\n",
      "    │   └ <function IPKernelApp.start at 0x7f93c5dbf700>\n",
      "    └ <ipykernel.kernelapp.IPKernelApp object at 0x7f93c8aec2b0>\n",
      "  File \"/mnt/data-linux/miniconda3/envs/learn_py38_loguru/lib/python3.8/site-packages/ipykernel/kernelapp.py\", line 712, in start\n",
      "    self.io_loop.start()\n",
      "    │    │       └ <function BaseAsyncIOLoop.start at 0x7f93c7a07ca0>\n",
      "    │    └ <tornado.platform.asyncio.AsyncIOMainLoop object at 0x7f93c5d4f850>\n",
      "    └ <ipykernel.kernelapp.IPKernelApp object at 0x7f93c8aec2b0>\n",
      "  File \"/mnt/data-linux/miniconda3/envs/learn_py38_loguru/lib/python3.8/site-packages/tornado/platform/asyncio.py\", line 215, in start\n",
      "    self.asyncio_loop.run_forever()\n",
      "    │    │            └ <function BaseEventLoop.run_forever at 0x7f93c8221ca0>\n",
      "    │    └ <_UnixSelectorEventLoop running=True closed=False debug=False>\n",
      "    └ <tornado.platform.asyncio.AsyncIOMainLoop object at 0x7f93c5d4f850>\n",
      "  File \"/mnt/data-linux/miniconda3/envs/learn_py38_loguru/lib/python3.8/asyncio/base_events.py\", line 570, in run_forever\n",
      "    self._run_once()\n",
      "    │    └ <function BaseEventLoop._run_once at 0x7f93c8224820>\n",
      "    └ <_UnixSelectorEventLoop running=True closed=False debug=False>\n",
      "  File \"/mnt/data-linux/miniconda3/envs/learn_py38_loguru/lib/python3.8/asyncio/base_events.py\", line 1859, in _run_once\n",
      "    handle._run()\n",
      "    │      └ <function Handle._run at 0x7f93c826a0d0>\n",
      "    └ <Handle <TaskWakeupMethWrapper object at 0x7f93c44c4f40>(<Future finis...040>, ...],))>)>\n",
      "  File \"/mnt/data-linux/miniconda3/envs/learn_py38_loguru/lib/python3.8/asyncio/events.py\", line 81, in _run\n",
      "    self._context.run(self._callback, *self._args)\n",
      "    │    │            │    │           │    └ <member '_args' of 'Handle' objects>\n",
      "    │    │            │    │           └ <Handle <TaskWakeupMethWrapper object at 0x7f93c44c4f40>(<Future finis...040>, ...],))>)>\n",
      "    │    │            │    └ <member '_callback' of 'Handle' objects>\n",
      "    │    │            └ <Handle <TaskWakeupMethWrapper object at 0x7f93c44c4f40>(<Future finis...040>, ...],))>)>\n",
      "    │    └ <member '_context' of 'Handle' objects>\n",
      "    └ <Handle <TaskWakeupMethWrapper object at 0x7f93c44c4f40>(<Future finis...040>, ...],))>)>\n",
      "  File \"/mnt/data-linux/miniconda3/envs/learn_py38_loguru/lib/python3.8/site-packages/ipykernel/kernelbase.py\", line 510, in dispatch_queue\n",
      "    await self.process_one()\n",
      "          │    └ <function Kernel.process_one at 0x7f93c668cd30>\n",
      "          └ <ipykernel.ipkernel.IPythonKernel object at 0x7f93c5d4feb0>\n",
      "  File \"/mnt/data-linux/miniconda3/envs/learn_py38_loguru/lib/python3.8/site-packages/ipykernel/kernelbase.py\", line 499, in process_one\n",
      "    await dispatch(*args)\n",
      "          │         └ ([<zmq.sugar.frame.Frame object at 0x7f93c44cce00>, <zmq.sugar.frame.Frame object at 0x7f93c44ccca0>, <zmq.sugar.frame.Frame ...\n",
      "          └ <bound method Kernel.dispatch_shell of <ipykernel.ipkernel.IPythonKernel object at 0x7f93c5d4feb0>>\n",
      "  File \"/mnt/data-linux/miniconda3/envs/learn_py38_loguru/lib/python3.8/site-packages/ipykernel/kernelbase.py\", line 406, in dispatch_shell\n",
      "    await result\n",
      "          └ <coroutine object Kernel.execute_request at 0x7f93c5db9d40>\n",
      "  File \"/mnt/data-linux/miniconda3/envs/learn_py38_loguru/lib/python3.8/site-packages/ipykernel/kernelbase.py\", line 730, in execute_request\n",
      "    reply_content = await reply_content\n",
      "                          └ <coroutine object IPythonKernel.do_execute at 0x7f93c5db99c0>\n",
      "  File \"/mnt/data-linux/miniconda3/envs/learn_py38_loguru/lib/python3.8/site-packages/ipykernel/ipkernel.py\", line 383, in do_execute\n",
      "    res = shell.run_cell(\n",
      "          │     └ <function ZMQInteractiveShell.run_cell at 0x7f93c5dae0d0>\n",
      "          └ <ipykernel.zmqshell.ZMQInteractiveShell object at 0x7f93c450f460>\n",
      "  File \"/mnt/data-linux/miniconda3/envs/learn_py38_loguru/lib/python3.8/site-packages/ipykernel/zmqshell.py\", line 528, in run_cell\n",
      "    return super().run_cell(*args, **kwargs)\n",
      "                             │       └ {'store_history': True, 'silent': False, 'cell_id': 'vscode-notebook-cell:/mnt/data-fourtb/Dropbox/Programming/wsl_repos/prac...\n",
      "                             └ (\"@logger.catch\\ndef my_function(x, y, z):\\n    # An error? It's caught anyway!\\n    return 1 / (x + y + z)\\n\\nmy_function(0,...\n",
      "  File \"/mnt/data-linux/miniconda3/envs/learn_py38_loguru/lib/python3.8/site-packages/IPython/core/interactiveshell.py\", line 2940, in run_cell\n",
      "    result = self._run_cell(\n",
      "             │    └ <function InteractiveShell._run_cell at 0x7f93c7060430>\n",
      "             └ <ipykernel.zmqshell.ZMQInteractiveShell object at 0x7f93c450f460>\n",
      "  File \"/mnt/data-linux/miniconda3/envs/learn_py38_loguru/lib/python3.8/site-packages/IPython/core/interactiveshell.py\", line 2995, in _run_cell\n",
      "    return runner(coro)\n",
      "           │      └ <coroutine object InteractiveShell.run_cell_async at 0x7f93c5db9640>\n",
      "           └ <function _pseudo_sync_runner at 0x7f93c7233d30>\n",
      "  File \"/mnt/data-linux/miniconda3/envs/learn_py38_loguru/lib/python3.8/site-packages/IPython/core/async_helpers.py\", line 129, in _pseudo_sync_runner\n",
      "    coro.send(None)\n",
      "    │    └ <method 'send' of 'coroutine' objects>\n",
      "    └ <coroutine object InteractiveShell.run_cell_async at 0x7f93c5db9640>\n",
      "  File \"/mnt/data-linux/miniconda3/envs/learn_py38_loguru/lib/python3.8/site-packages/IPython/core/interactiveshell.py\", line 3194, in run_cell_async\n",
      "    has_raised = await self.run_ast_nodes(code_ast.body, cell_name,\n",
      "                       │    │             │        │     └ '/tmp/ipykernel_1505681/3007913342.py'\n",
      "                       │    │             │        └ [<_ast.FunctionDef object at 0x7f93c44cb250>, <_ast.Expr object at 0x7f93c44cbb80>]\n",
      "                       │    │             └ <_ast.Module object at 0x7f93c44cb070>\n",
      "                       │    └ <function InteractiveShell.run_ast_nodes at 0x7f93c7060700>\n",
      "                       └ <ipykernel.zmqshell.ZMQInteractiveShell object at 0x7f93c450f460>\n",
      "  File \"/mnt/data-linux/miniconda3/envs/learn_py38_loguru/lib/python3.8/site-packages/IPython/core/interactiveshell.py\", line 3373, in run_ast_nodes\n",
      "    if await self.run_code(code, result, async_=asy):\n",
      "             │    │        │     │              └ False\n",
      "             │    │        │     └ <ExecutionResult object at 7f93c453f280, execution_count=7 error_before_exec=None error_in_exec=None info=<ExecutionInfo obje...\n",
      "             │    │        └ <code object <module> at 0x7f93c4405660, file \"/tmp/ipykernel_1505681/3007913342.py\", line 6>\n",
      "             │    └ <function InteractiveShell.run_code at 0x7f93c7060790>\n",
      "             └ <ipykernel.zmqshell.ZMQInteractiveShell object at 0x7f93c450f460>\n",
      "  File \"/mnt/data-linux/miniconda3/envs/learn_py38_loguru/lib/python3.8/site-packages/IPython/core/interactiveshell.py\", line 3433, in run_code\n",
      "    exec(code_obj, self.user_global_ns, self.user_ns)\n",
      "         │         │    │               │    └ {'__name__': '__main__', '__doc__': 'Automatically created module for IPython interactive environment', '__package__': None, ...\n",
      "         │         │    │               └ <ipykernel.zmqshell.ZMQInteractiveShell object at 0x7f93c450f460>\n",
      "         │         │    └ <property object at 0x7f93c7234e50>\n",
      "         │         └ <ipykernel.zmqshell.ZMQInteractiveShell object at 0x7f93c450f460>\n",
      "         └ <code object <module> at 0x7f93c4405660, file \"/tmp/ipykernel_1505681/3007913342.py\", line 6>\n",
      "\n",
      "> File \"/tmp/ipykernel_1505681/3007913342.py\", line 6, in <module>\n",
      "    my_function(0, 0, 0)\n",
      "    └ <function my_function at 0x7f93c440b430>\n",
      "\n",
      "  File \"/tmp/ipykernel_1505681/3007913342.py\", line 4, in my_function\n",
      "    return 1 / (x + y + z)\n",
      "                │   │   └ 0\n",
      "                │   └ 0\n",
      "                └ 0\n",
      "\n",
      "ZeroDivisionError: division by zero\n"
     ]
    }
   ],
   "source": [
    "@logger.catch\n",
    "def my_function(x, y, z):\n",
    "    # An error? It's caught anyway!\n",
    "    return 1 / (x + y + z)\n",
    "\n",
    "\n",
    "my_function(0, 0, 0)"
   ]
  },
  {
   "attachments": {},
   "cell_type": "markdown",
   "metadata": {},
   "source": [
    "### Pretty logging with colors\n",
    "\n",
    "Loguru automatically adds colors to your logs if your terminal is compatible.\n",
    "\n",
    "You can define your favorite style by using markup tags in the sink format.\n",
    "\n",
    "* Markup tags: https://loguru.readthedocs.io/en/stable/api/logger.html#color"
   ]
  },
  {
   "cell_type": "code",
   "execution_count": 8,
   "metadata": {},
   "outputs": [
    {
     "name": "stderr",
     "output_type": "stream",
     "text": [
      "2022-12-29 22:17:06.932 | DEBUG    | __main__:<module>:7 - That's it, beautiful and simple logging!\n"
     ]
    },
    {
     "name": "stdout",
     "output_type": "stream",
     "text": [
      "\u001b[32m2022-12-29T22:17:06.932908+0000\u001b[0m \u001b[34m\u001b[1mThat's it, beautiful and simple logging!\u001b[0m\n"
     ]
    }
   ],
   "source": [
    "%autoreload\n",
    "\n",
    "from loguru import logger\n",
    "\n",
    "l4 = logger.add(\n",
    "    sys.stdout, colorize=True, format=\"<green>{time}</green> <level>{message}</level>\"\n",
    ")\n",
    "\n",
    "logger.debug(\"That's it, beautiful and simple logging!\")\n",
    "\n",
    "logger.remove(l4)"
   ]
  },
  {
   "attachments": {},
   "cell_type": "markdown",
   "metadata": {},
   "source": [
    "### Asynchronous, Thread-safe, Multiprocess-safe\n",
    "\n",
    "All sinks added to the logger are thread-safe by default.\n",
    "\n",
    "They are not multiprocess-safe, but you can `enqueue` the messages to ensure logs integrity.\n",
    "\n",
    "This same argument can also be used if you want async logging.\n",
    "\n",
    "```python\n",
    "# Like so:\n",
    "logger.add(\"somefile.log\", enqueue=True)\n",
    "```\n",
    "\n",
    "Coroutine functions used as sinks are also supported and should be awaited with\n",
    "[`complete()`](https://loguru.readthedocs.io/en/stable/api/logger.html#loguru._logger.Logger.complete)."
   ]
  },
  {
   "attachments": {},
   "cell_type": "markdown",
   "metadata": {},
   "source": [
    "### Fully descriptive exceptions\n",
    "\n",
    "Logging exceptions that occur in your code is important to track bugs, but it's quite useless if you don't know why it failed.\n",
    "\n",
    "Loguru helps you identify problems by *allowing the entire stack trace to be displayed*, including **values of variables**\n",
    "(thanks [`better_exceptions`](https://github.com/Qix-/better-exceptions) for this!).\n",
    "\n",
    "> Note that this feature won't work on default Python REPL due to unavailable frame data.\n",
    "\n",
    "The code:"
   ]
  },
  {
   "cell_type": "code",
   "execution_count": 9,
   "metadata": {},
   "outputs": [
    {
     "name": "stderr",
     "output_type": "stream",
     "text": [
      "2022-12-29 22:17:07.010 | ERROR    | __main__:nested:14 - What?!\n",
      "Traceback (most recent call last):\n",
      "\n",
      "  File \"/mnt/data-linux/miniconda3/envs/learn_py38_loguru/lib/python3.8/runpy.py\", line 194, in _run_module_as_main\n",
      "    return _run_code(code, main_globals, None,\n",
      "           │         │     └ {'__name__': '__main__', '__doc__': 'Entry point for launching an IPython kernel.\\n\\nThis is separate from the ipykernel pack...\n",
      "           │         └ <code object <module> at 0x7f93c8a4d9d0, file \"/mnt/data-linux/miniconda3/envs/learn_py38_loguru/lib/python3.8/site-packages/...\n",
      "           └ <function _run_code at 0x7f93c8a51280>\n",
      "  File \"/mnt/data-linux/miniconda3/envs/learn_py38_loguru/lib/python3.8/runpy.py\", line 87, in _run_code\n",
      "    exec(code, run_globals)\n",
      "         │     └ {'__name__': '__main__', '__doc__': 'Entry point for launching an IPython kernel.\\n\\nThis is separate from the ipykernel pack...\n",
      "         └ <code object <module> at 0x7f93c8a4d9d0, file \"/mnt/data-linux/miniconda3/envs/learn_py38_loguru/lib/python3.8/site-packages/...\n",
      "  File \"/mnt/data-linux/miniconda3/envs/learn_py38_loguru/lib/python3.8/site-packages/ipykernel_launcher.py\", line 17, in <module>\n",
      "    app.launch_new_instance()\n",
      "    │   └ <bound method Application.launch_instance of <class 'ipykernel.kernelapp.IPKernelApp'>>\n",
      "    └ <module 'ipykernel.kernelapp' from '/mnt/data-linux/miniconda3/envs/learn_py38_loguru/lib/python3.8/site-packages/ipykernel/k...\n",
      "  File \"/mnt/data-linux/miniconda3/envs/learn_py38_loguru/lib/python3.8/site-packages/traitlets/config/application.py\", line 992, in launch_instance\n",
      "    app.start()\n",
      "    │   └ <function IPKernelApp.start at 0x7f93c5dbf700>\n",
      "    └ <ipykernel.kernelapp.IPKernelApp object at 0x7f93c8aec2b0>\n",
      "  File \"/mnt/data-linux/miniconda3/envs/learn_py38_loguru/lib/python3.8/site-packages/ipykernel/kernelapp.py\", line 712, in start\n",
      "    self.io_loop.start()\n",
      "    │    │       └ <function BaseAsyncIOLoop.start at 0x7f93c7a07ca0>\n",
      "    │    └ <tornado.platform.asyncio.AsyncIOMainLoop object at 0x7f93c5d4f850>\n",
      "    └ <ipykernel.kernelapp.IPKernelApp object at 0x7f93c8aec2b0>\n",
      "  File \"/mnt/data-linux/miniconda3/envs/learn_py38_loguru/lib/python3.8/site-packages/tornado/platform/asyncio.py\", line 215, in start\n",
      "    self.asyncio_loop.run_forever()\n",
      "    │    │            └ <function BaseEventLoop.run_forever at 0x7f93c8221ca0>\n",
      "    │    └ <_UnixSelectorEventLoop running=True closed=False debug=False>\n",
      "    └ <tornado.platform.asyncio.AsyncIOMainLoop object at 0x7f93c5d4f850>\n",
      "  File \"/mnt/data-linux/miniconda3/envs/learn_py38_loguru/lib/python3.8/asyncio/base_events.py\", line 570, in run_forever\n",
      "    self._run_once()\n",
      "    │    └ <function BaseEventLoop._run_once at 0x7f93c8224820>\n",
      "    └ <_UnixSelectorEventLoop running=True closed=False debug=False>\n",
      "  File \"/mnt/data-linux/miniconda3/envs/learn_py38_loguru/lib/python3.8/asyncio/base_events.py\", line 1859, in _run_once\n",
      "    handle._run()\n",
      "    │      └ <function Handle._run at 0x7f93c826a0d0>\n",
      "    └ <Handle <TaskWakeupMethWrapper object at 0x7f93c453fa60>(<Future finis...040>, ...],))>)>\n",
      "  File \"/mnt/data-linux/miniconda3/envs/learn_py38_loguru/lib/python3.8/asyncio/events.py\", line 81, in _run\n",
      "    self._context.run(self._callback, *self._args)\n",
      "    │    │            │    │           │    └ <member '_args' of 'Handle' objects>\n",
      "    │    │            │    │           └ <Handle <TaskWakeupMethWrapper object at 0x7f93c453fa60>(<Future finis...040>, ...],))>)>\n",
      "    │    │            │    └ <member '_callback' of 'Handle' objects>\n",
      "    │    │            └ <Handle <TaskWakeupMethWrapper object at 0x7f93c453fa60>(<Future finis...040>, ...],))>)>\n",
      "    │    └ <member '_context' of 'Handle' objects>\n",
      "    └ <Handle <TaskWakeupMethWrapper object at 0x7f93c453fa60>(<Future finis...040>, ...],))>)>\n",
      "  File \"/mnt/data-linux/miniconda3/envs/learn_py38_loguru/lib/python3.8/site-packages/ipykernel/kernelbase.py\", line 510, in dispatch_queue\n",
      "    await self.process_one()\n",
      "          │    └ <function Kernel.process_one at 0x7f93c668cd30>\n",
      "          └ <ipykernel.ipkernel.IPythonKernel object at 0x7f93c5d4feb0>\n",
      "  File \"/mnt/data-linux/miniconda3/envs/learn_py38_loguru/lib/python3.8/site-packages/ipykernel/kernelbase.py\", line 499, in process_one\n",
      "    await dispatch(*args)\n",
      "          │         └ ([<zmq.sugar.frame.Frame object at 0x7f93c44cce00>, <zmq.sugar.frame.Frame object at 0x7f93c44ccca0>, <zmq.sugar.frame.Frame ...\n",
      "          └ <bound method Kernel.dispatch_shell of <ipykernel.ipkernel.IPythonKernel object at 0x7f93c5d4feb0>>\n",
      "  File \"/mnt/data-linux/miniconda3/envs/learn_py38_loguru/lib/python3.8/site-packages/ipykernel/kernelbase.py\", line 406, in dispatch_shell\n",
      "    await result\n",
      "          └ <coroutine object Kernel.execute_request at 0x7f93c5db9ac0>\n",
      "  File \"/mnt/data-linux/miniconda3/envs/learn_py38_loguru/lib/python3.8/site-packages/ipykernel/kernelbase.py\", line 730, in execute_request\n",
      "    reply_content = await reply_content\n",
      "                          └ <coroutine object IPythonKernel.do_execute at 0x7f93c5db9b40>\n",
      "  File \"/mnt/data-linux/miniconda3/envs/learn_py38_loguru/lib/python3.8/site-packages/ipykernel/ipkernel.py\", line 383, in do_execute\n",
      "    res = shell.run_cell(\n",
      "          │     └ <function ZMQInteractiveShell.run_cell at 0x7f93c5dae0d0>\n",
      "          └ <ipykernel.zmqshell.ZMQInteractiveShell object at 0x7f93c450f460>\n",
      "  File \"/mnt/data-linux/miniconda3/envs/learn_py38_loguru/lib/python3.8/site-packages/ipykernel/zmqshell.py\", line 528, in run_cell\n",
      "    return super().run_cell(*args, **kwargs)\n",
      "                             │       └ {'store_history': True, 'silent': False, 'cell_id': 'vscode-notebook-cell:/mnt/data-fourtb/Dropbox/Programming/wsl_repos/prac...\n",
      "                             └ ('%autoreload\\n\\nfrom loguru import logger\\n\\nl5 = logger.add(\"out.log\", backtrace=True, diagnose=True)  # Caution, may leak ...\n",
      "  File \"/mnt/data-linux/miniconda3/envs/learn_py38_loguru/lib/python3.8/site-packages/IPython/core/interactiveshell.py\", line 2940, in run_cell\n",
      "    result = self._run_cell(\n",
      "             │    └ <function InteractiveShell._run_cell at 0x7f93c7060430>\n",
      "             └ <ipykernel.zmqshell.ZMQInteractiveShell object at 0x7f93c450f460>\n",
      "  File \"/mnt/data-linux/miniconda3/envs/learn_py38_loguru/lib/python3.8/site-packages/IPython/core/interactiveshell.py\", line 2995, in _run_cell\n",
      "    return runner(coro)\n",
      "           │      └ <coroutine object InteractiveShell.run_cell_async at 0x7f93c5db98c0>\n",
      "           └ <function _pseudo_sync_runner at 0x7f93c7233d30>\n",
      "  File \"/mnt/data-linux/miniconda3/envs/learn_py38_loguru/lib/python3.8/site-packages/IPython/core/async_helpers.py\", line 129, in _pseudo_sync_runner\n",
      "    coro.send(None)\n",
      "    │    └ <method 'send' of 'coroutine' objects>\n",
      "    └ <coroutine object InteractiveShell.run_cell_async at 0x7f93c5db98c0>\n",
      "  File \"/mnt/data-linux/miniconda3/envs/learn_py38_loguru/lib/python3.8/site-packages/IPython/core/interactiveshell.py\", line 3194, in run_cell_async\n",
      "    has_raised = await self.run_ast_nodes(code_ast.body, cell_name,\n",
      "                       │    │             │        │     └ '/tmp/ipykernel_1505681/1496607901.py'\n",
      "                       │    │             │        └ [<_ast.Expr object at 0x7f93c44d3e50>, <_ast.ImportFrom object at 0x7f93c44d3670>, <_ast.Assign object at 0x7f93c452dbe0>, <_...\n",
      "                       │    │             └ <_ast.Module object at 0x7f93c44d3e80>\n",
      "                       │    └ <function InteractiveShell.run_ast_nodes at 0x7f93c7060700>\n",
      "                       └ <ipykernel.zmqshell.ZMQInteractiveShell object at 0x7f93c450f460>\n",
      "  File \"/mnt/data-linux/miniconda3/envs/learn_py38_loguru/lib/python3.8/site-packages/IPython/core/interactiveshell.py\", line 3373, in run_ast_nodes\n",
      "    if await self.run_code(code, result, async_=asy):\n",
      "             │    │        │     │              └ False\n",
      "             │    │        │     └ <ExecutionResult object at 7f93c44cb040, execution_count=9 error_before_exec=None error_in_exec=None info=<ExecutionInfo obje...\n",
      "             │    │        └ <code object <module> at 0x7f93c4405920, file \"/tmp/ipykernel_1505681/1496607901.py\", line 16>\n",
      "             │    └ <function InteractiveShell.run_code at 0x7f93c7060790>\n",
      "             └ <ipykernel.zmqshell.ZMQInteractiveShell object at 0x7f93c450f460>\n",
      "  File \"/mnt/data-linux/miniconda3/envs/learn_py38_loguru/lib/python3.8/site-packages/IPython/core/interactiveshell.py\", line 3433, in run_code\n",
      "    exec(code_obj, self.user_global_ns, self.user_ns)\n",
      "         │         │    │               │    └ {'__name__': '__main__', '__doc__': 'Automatically created module for IPython interactive environment', '__package__': None, ...\n",
      "         │         │    │               └ <ipykernel.zmqshell.ZMQInteractiveShell object at 0x7f93c450f460>\n",
      "         │         │    └ <property object at 0x7f93c7234e50>\n",
      "         │         └ <ipykernel.zmqshell.ZMQInteractiveShell object at 0x7f93c450f460>\n",
      "         └ <code object <module> at 0x7f93c4405920, file \"/tmp/ipykernel_1505681/1496607901.py\", line 16>\n",
      "\n",
      "  File \"/tmp/ipykernel_1505681/1496607901.py\", line 16, in <module>\n",
      "    nested(0)\n",
      "    └ <function nested at 0x7f93c43083a0>\n",
      "\n",
      "> File \"/tmp/ipykernel_1505681/1496607901.py\", line 12, in nested\n",
      "    func(5, c)\n",
      "    │       └ 0\n",
      "    └ <function func at 0x7f93c440b700>\n",
      "\n",
      "  File \"/tmp/ipykernel_1505681/1496607901.py\", line 8, in func\n",
      "    return a / b\n",
      "           │   └ 0\n",
      "           └ 5\n",
      "\n",
      "ZeroDivisionError: division by zero\n"
     ]
    }
   ],
   "source": [
    "%autoreload\n",
    "\n",
    "from loguru import logger\n",
    "\n",
    "l5 = logger.add(\n",
    "    \"out.log\", backtrace=True, diagnose=True\n",
    ")  # Caution, may leak sensitive data in prod\n",
    "\n",
    "\n",
    "def func(a, b):\n",
    "    return a / b\n",
    "\n",
    "\n",
    "def nested(c):\n",
    "    try:\n",
    "        func(5, c)\n",
    "    except ZeroDivisionError:\n",
    "        logger.exception(\"What?!\")\n",
    "\n",
    "\n",
    "nested(0)\n",
    "\n",
    "logger.remove(l5)\n",
    "\n",
    "# NOTE: See also out.log"
   ]
  },
  {
   "attachments": {},
   "cell_type": "markdown",
   "metadata": {},
   "source": [
    "### Structured logging as needed\n",
    "\n",
    "Want your logs to be serialized for easier parsing or to pass them around?\n",
    "\n",
    "Using the `serialize` argument, each log message *will be converted to a JSON string* before being sent to the configured sink.\n"
   ]
  },
  {
   "cell_type": "code",
   "execution_count": 12,
   "metadata": {},
   "outputs": [
    {
     "name": "stderr",
     "output_type": "stream",
     "text": [
      "2022-12-29 22:17:22.185 | INFO     | __main__:<module>:7 - my message\n"
     ]
    },
    {
     "data": {
      "text/plain": [
       "loguru._handler.Message"
      ]
     },
     "metadata": {},
     "output_type": "display_data"
    },
    {
     "name": "stdout",
     "output_type": "stream",
     "text": [
      "{\"text\": \"2022-12-29 22:17:22.185 | INFO     | __main__:<module>:7 - my message\\n\", \"record\": {\"elapsed\": {\"repr\": \"0:00:15.743776\", \"seconds\": 15.743776}, \"exception\": null, \"extra\": {}, \"file\": {\"name\": \"3367625739.py\", \"path\": \"/tmp/ipykernel_1505681/3367625739.py\"}, \"function\": \"<module>\", \"level\": {\"icon\": \"ℹ️\", \"name\": \"INFO\", \"no\": 20}, \"line\": 7, \"message\": \"my message\", \"module\": \"3367625739\", \"name\": \"__main__\", \"process\": {\"id\": 1505681, \"name\": \"MainProcess\"}, \"thread\": {\"id\": 140272710476864, \"name\": \"MainThread\"}, \"time\": {\"repr\": \"2022-12-29 22:17:22.185390+00:00\", \"timestamp\": 1672352242.18539}}}\n",
      "\n"
     ]
    }
   ],
   "source": [
    "def custom_sink_function(x):\n",
    "    display(type(x))\n",
    "    print(x)\n",
    "\n",
    "\n",
    "l6 = logger.add(custom_sink_function, serialize=True)\n",
    "\n",
    "logger.info(\"my message\")\n",
    "\n",
    "logger.remove(l6)"
   ]
  },
  {
   "attachments": {},
   "cell_type": "markdown",
   "metadata": {},
   "source": [
    "Using [`bind()`](https://loguru.readthedocs.io/en/stable/api/logger.html#loguru._logger.Logger.bind) you can\n",
    "contextualize your logger messages *by modifying the extra record attribute*."
   ]
  },
  {
   "cell_type": "code",
   "execution_count": 13,
   "metadata": {},
   "outputs": [
    {
     "name": "stderr",
     "output_type": "stream",
     "text": [
      "2022-12-29 22:18:43.005 | INFO     | __main__:<module>:4 - Contextualize your logger easily\n",
      "2022-12-29 22:18:43.005 | INFO     | __main__:<module>:5 - Inline binding of extra attribute\n",
      "2022-12-29 22:18:43.006 | INFO     | __main__:<module>:6 - Use kwargs to add context during formatting: anybody\n"
     ]
    }
   ],
   "source": [
    "l7 = logger.add(\"file.log\", format=\"{extra[ip]} {extra[user]} {message}\")\n",
    "\n",
    "context_logger = logger.bind(ip=\"192.168.0.1\", user=\"someone\")\n",
    "context_logger.info(\"Contextualize your logger easily\")\n",
    "context_logger.bind(user=\"someone_else\").info(\"Inline binding of extra attribute\")\n",
    "context_logger.info(\n",
    "    \"Use kwargs to add context during formatting: {user}\", user=\"anybody\"\n",
    ")\n",
    "\n",
    "# NOTE: See file.log for output with contextualization.\n",
    "\n",
    "logger.remove(l7)"
   ]
  },
  {
   "attachments": {},
   "cell_type": "markdown",
   "metadata": {},
   "source": [
    "It is possible to modify a context-local state temporarily with `contextualize()`:\n",
    "```python\n",
    "with logger.contextualize(task=task_id):\n",
    "    do_something()\n",
    "    logger.info(\"End of task\")\n",
    "```\n",
    "\n",
    "You can also have more fine-grained control over your logs by combining `bind()` and `filter`:\n",
    "```python\n",
    "logger.add(\"special.log\", filter=lambda record: \"special\" in record[\"extra\"])\n",
    "logger.debug(\"This message is not logged to the file\")\n",
    "logger.bind(special=True).info(\"This message, though, is logged to the file!\")\n",
    "```\n",
    "\n",
    "Finally, the [`patch()`](https://loguru.readthedocs.io/en/stable/api/logger.html#loguru._logger.Logger.patch)\n",
    "method allows dynamic values to be attached to the record dict of each new message:\n",
    "```python\n",
    "logger.add(sys.stderr, format=\"{extra[utc]} {message}\")\n",
    "logger = logger.patch(lambda record: record[\"extra\"].update(utc=datetime.utcnow()))\n",
    "```"
   ]
  },
  {
   "attachments": {},
   "cell_type": "markdown",
   "metadata": {},
   "source": [
    "### Lazy evaluation of expensive functions and `opt()`\n",
    "\n",
    "Sometime you would like to log verbose information without performance penalty in production, you can use the `opt()` method to achieve this.\n",
    "\n",
    "```python\n",
    "logger.opt(lazy=True).debug(\"If sink level <= DEBUG: {x}\", x=lambda: expensive_function(2**64))\n",
    "\n",
    "# By the way, \"opt()\" serves many usages\n",
    "logger.opt(exception=True).info(\"Error stacktrace added to the log message (tuple accepted too)\")\n",
    "logger.opt(colors=True).info(\"Per message <blue>colors</blue>\")\n",
    "logger.opt(record=True).info(\"Display values from the record (eg. {record[thread]})\")\n",
    "logger.opt(raw=True).info(\"Bypass sink formatting\\n\")\n",
    "logger.opt(depth=1).info(\"Use parent stack context (useful within wrapped functions)\")\n",
    "logger.opt(capture=False).info(\"Keyword arguments not added to {dest} dict\", dest=\"extra\")\n",
    "```"
   ]
  },
  {
   "attachments": {},
   "cell_type": "markdown",
   "metadata": {},
   "source": [
    "### Customizable levels\n",
    "\n",
    "Loguru comes with all standard [logging levels](https://loguru.readthedocs.io/en/stable/api/logger.html#levels)\n",
    "to which \n",
    "* [`trace()`](https://loguru.readthedocs.io/en/stable/api/logger.html#loguru._logger.Logger.trace) and \n",
    "* [`success()`](https://loguru.readthedocs.io/en/stable/api/logger.html#loguru._logger.Logger.success)\n",
    "\n",
    "are added.\n",
    "\n",
    "Do you need more? Then, just create it by using the [`level()`](https://loguru.readthedocs.io/en/stable/api/logger.html#loguru._logger.Logger.level) function."
   ]
  },
  {
   "attachments": {},
   "cell_type": "markdown",
   "metadata": {},
   "source": [
    "### Better datetime handling\n",
    "\n",
    "The standard logging is bloated with arguments like `datefmt` or `msecs`, `%(asctime)s` and `%(created)s`,\n",
    "naive datetimes without timezone information, not intuitive formatting, etc.\n",
    "\n",
    "Loguru fixes it:"
   ]
  },
  {
   "cell_type": "code",
   "execution_count": 15,
   "metadata": {},
   "outputs": [
    {
     "name": "stderr",
     "output_type": "stream",
     "text": [
      "2022-12-29 22:27:12.539 | INFO     | __main__:<module>:3 - Something\n"
     ]
    }
   ],
   "source": [
    "l8 = logger.add(\n",
    "    \"file2.log\", format=\"{time:YYYY-MM-DD at HH:mm:ss} | {level} | {message}\"\n",
    ")  # pyright: ignore\n",
    "\n",
    "context_logger.info(\"Something\")\n",
    "\n",
    "# NOTE: See file2.log for output with contextualization.\n",
    "\n",
    "logger.remove(l8)"
   ]
  },
  {
   "attachments": {},
   "cell_type": "markdown",
   "metadata": {},
   "source": [
    "### Suitable for scripts and libraries\n",
    "\n",
    "Using the logger in your scripts is easy, and you can [`configure()`](https://loguru.readthedocs.io/en/stable/api/logger.html#loguru._logger.Logger.configure) it at start.\n",
    "\n",
    "To use Loguru from **inside a library**, remember to never call [`add()`](https://loguru.readthedocs.io/en/stable/api/logger.html#loguru._logger.Logger.add) \n",
    "but use [`disable()`](https://loguru.readthedocs.io/en/stable/api/logger.html#loguru._logger.Logger.disable) instead so logging\n",
    "functions become no-op.\n",
    "\n",
    "If a developer wishes to see your library's logs, he can [`enable()`](https://loguru.readthedocs.io/en/stable/api/logger.html#loguru._logger.Logger.enable) it again.\n",
    "\n",
    "> [❗] So in Loguru's opinion, you should not have your library showing logs by default!\n",
    "\n",
    "Illustration:\n",
    "```python\n",
    "# For scripts\n",
    "config = {\n",
    "    \"handlers\": [\n",
    "        {\"sink\": sys.stdout, \"format\": \"{time} - {message}\"},\n",
    "        {\"sink\": \"file.log\", \"serialize\": True},\n",
    "    ],\n",
    "    \"extra\": {\"user\": \"someone\"}\n",
    "}\n",
    "logger.configure(**config)\n",
    "\n",
    "# For libraries\n",
    "logger.disable(\"my_library\")\n",
    "logger.info(\"No matter added sinks, this message is not displayed\")\n",
    "logger.enable(\"my_library\")\n",
    "logger.info(\"This message however is propagated to the sinks\")\n",
    "```"
   ]
  },
  {
   "attachments": {},
   "cell_type": "markdown",
   "metadata": {},
   "source": [
    "### Entirely compatible with standard logging\n",
    "\n",
    "Wish to use built-in logging `Handler` as a Loguru sink?\n",
    "\n",
    "```python\n",
    "# Like so:\n",
    "handler = logging.handlers.SysLogHandler(address=('localhost', 514))\n",
    "logger.add(handler)\n",
    "```\n",
    "\n",
    "> ⚠️ Very advanced - probably needs understanding of the advanced aspects of the Python logging ecosystem. \n",
    "\n",
    "Need to propagate Loguru messages to standard logging?\n",
    "```python\n",
    "# Like so:\n",
    "class PropagateHandler(logging.Handler):\n",
    "    def emit(self, record):\n",
    "        logging.getLogger(record.name).handle(record)\n",
    "\n",
    "logger.add(PropagateHandler(), format=\"{message}\")\n",
    "```\n",
    "\n",
    "Want to intercept standard logging messages toward your Loguru sinks?\n",
    "```python\n",
    "# Like so:\n",
    "\n",
    "class InterceptHandler(logging.Handler):\n",
    "    def emit(self, record):\n",
    "        # Get corresponding Loguru level if it exists.\n",
    "        try:\n",
    "            level = logger.level(record.levelname).name\n",
    "        except ValueError:\n",
    "            level = record.levelno\n",
    "\n",
    "        # Find caller from where originated the logged message.\n",
    "        frame, depth = sys._getframe(6), 6\n",
    "        while frame and frame.f_code.co_filename == logging.__file__:\n",
    "            frame = frame.f_back\n",
    "            depth += 1\n",
    "\n",
    "        logger.opt(depth=depth, exception=record.exc_info).log(level, record.getMessage())\n",
    "\n",
    "logging.basicConfig(handlers=[InterceptHandler()], level=0, force=True)\n",
    "```"
   ]
  },
  {
   "attachments": {},
   "cell_type": "markdown",
   "metadata": {},
   "source": [
    "### Personalizable defaults through environment variables\n",
    "\n",
    "Don't like the default logger formatting? Would prefer another `DEBUG` color?\n",
    "\n",
    "No problem:\n",
    "```sh\n",
    "# Linux / OSX\n",
    "export LOGURU_FORMAT=\"{time} | <lvl>{message}</lvl>\"\n",
    "\n",
    "# Windows\n",
    "setx LOGURU_DEBUG_COLOR \"<green>\"\n",
    "```\n",
    "\n",
    "* Info on env var configuration here: https://loguru.readthedocs.io/en/stable/api/logger.html#env"
   ]
  },
  {
   "attachments": {},
   "cell_type": "markdown",
   "metadata": {},
   "source": [
    "### Convenient parser\n",
    "\n",
    "It is often useful to extract specific information from generated logs, this is why Loguru provides a\n",
    "[`parse()`](https://loguru.readthedocs.io/en/stable/api/logger.html#loguru._logger.Logger.parse) method which helps\n",
    "to deal with logs and regexes.\n",
    "\n",
    "```python\n",
    "# Example.\n",
    "\n",
    "pattern = r\"(?P<time>.*) - (?P<level>[0-9]+) - (?P<message>.*)\"  # Regex with named groups\n",
    "caster_dict = dict(time=dateutil.parser.parse, level=int)        # Transform matching groups\n",
    "\n",
    "for groups in logger.parse(\"file.log\", pattern, cast=caster_dict):\n",
    "    print(\"Parsed:\", groups)\n",
    "    # {\"level\": 30, \"message\": \"Log example\", \"time\": datetime(2018, 12, 09, 11, 23, 55)}\n",
    "```"
   ]
  },
  {
   "attachments": {},
   "cell_type": "markdown",
   "metadata": {},
   "source": [
    "### Exhaustive notifier\n",
    "\n",
    "Loguru can easily be combined with the great [notifiers](https://github.com/notifiers/notifiers) library."
   ]
  }
 ],
 "metadata": {
  "kernelspec": {
   "display_name": "learn_py38_loguru",
   "language": "python",
   "name": "python3"
  },
  "language_info": {
   "codemirror_mode": {
    "name": "ipython",
    "version": 3
   },
   "file_extension": ".py",
   "mimetype": "text/x-python",
   "name": "python",
   "nbconvert_exporter": "python",
   "pygments_lexer": "ipython3",
   "version": "3.8.15"
  },
  "orig_nbformat": 4,
  "vscode": {
   "interpreter": {
    "hash": "16b70a8da62aa6393b5940e70e7ad5d61f6269a493eaf34d2195b51db27d246f"
   }
  }
 },
 "nbformat": 4,
 "nbformat_minor": 2
}
