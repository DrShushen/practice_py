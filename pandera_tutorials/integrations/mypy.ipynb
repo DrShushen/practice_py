{
 "cells": [
  {
   "cell_type": "markdown",
   "metadata": {},
   "source": [
    "Following [this](https://pandera.readthedocs.io/en/stable/mypy_integration.html#)"
   ]
  },
  {
   "attachments": {},
   "cell_type": "markdown",
   "metadata": {},
   "source": [
    "# Mypy\n",
    "\n",
    "*new in 0.8.0*\n",
    "\n",
    "Pandera integrates with `mypy` to provide static type-linting of dataframes, relying on [`pandas-stubs`](https://github.com/VirtusLab/pandas-stubs) for typing information.\n",
    "\n",
    "> Yes, *that* `pandas-stubs` library: https://github.com/VirtusLab/pandas-stubs\n",
    "\n",
    "```sh\n",
    "pip install pandera[mypy]\n",
    "```\n",
    "\n",
    "Then enable the plugin in your `mypy.ini` or `setup.cfg` file:\n",
    "```toml\n",
    "[mypy]\n",
    "plugins = pandera.mypy\n",
    "```\n",
    "\n",
    "> **Note:** Mypy static type-linting is supported for only pandas dataframes.\n",
    "\n",
    "> **⚠️ Warning**\n",
    ">\n",
    "> **This functionality is experimental 🧪**.\n",
    ">\n",
    "> Since the `pandas-stubs` type stub annotations *don’t always [match the official pandas effort to support type annotations](https://github.com/pandas-dev/pandas/issues/28142#issuecomment-991967009)*),\n",
    "> installing the `pandera[mypy]` extra may yield **false positives** in your pandas code, many of which are are documented in `tests/mypy/modules`.\n",
    ">\n",
    "> We encourage beta users to [file an issue](https://github.com/pandera-dev/pandera/issues/new?assignees=&labels=bug,mypy&template=bug_report.md&title=)\n",
    "> if they find any false positives or negatives being reported by `mypy`.\n",
    "> \n",
    "> A list of such issues can be found [here](https://github.com/pandera-dev/pandera/labels/mypy).\n",
    "\n",
    "In the example below, we define a few schemas to see how type-linting with pandera works."
   ]
  },
  {
   "cell_type": "code",
   "execution_count": 3,
   "metadata": {},
   "outputs": [],
   "source": [
    "from typing import cast\n",
    "\n",
    "import pandas as pd\n",
    "\n",
    "import pandera as pa\n",
    "from pandera.typing import DataFrame, Series\n",
    "\n",
    "\n",
    "class Schema(pa.SchemaModel):\n",
    "    id: Series[int]\n",
    "    name: Series[str]\n",
    "\n",
    "\n",
    "class SchemaOut(pa.SchemaModel):\n",
    "    age: Series[int]\n",
    "\n",
    "\n",
    "class AnotherSchema(pa.SchemaModel):\n",
    "    id: Series[int]\n",
    "    first_name: Series[str]"
   ]
  },
  {
   "attachments": {},
   "cell_type": "markdown",
   "metadata": {},
   "source": [
    "The `mypy` linter will complain if the output type of the function body doesn’t match the function’s return signature."
   ]
  },
  {
   "cell_type": "code",
   "execution_count": 4,
   "metadata": {},
   "outputs": [],
   "source": [
    "def fn(df: DataFrame[Schema]) -> DataFrame[SchemaOut]:\n",
    "    return df.assign(age=30).pipe(DataFrame[SchemaOut])  # mypy okay\n",
    "\n",
    "\n",
    "def fn_pipe_incorrect_type(df: DataFrame[Schema]) -> DataFrame[SchemaOut]:\n",
    "    return df.assign(age=30).pipe(DataFrame[AnotherSchema])  # mypy error\n",
    "    # error: Argument 1 to \"pipe\" of \"NDFrame\" has incompatible type \"Type[DataFrame[Any]]\";  # noqa\n",
    "    # expected \"Union[Callable[..., DataFrame[SchemaOut]], Tuple[Callable[..., DataFrame[SchemaOut]], str]]\"  [arg-type]  # noqa\n",
    "\n",
    "\n",
    "def fn_assign_copy(df: DataFrame[Schema]) -> DataFrame[SchemaOut]:\n",
    "    return df.assign(age=30)  # mypy error\n",
    "    # error: Incompatible return value type (got \"pandas.core.frame.DataFrame\",\n",
    "    # expected \"pandera.typing.pandas.DataFrame[SchemaOut]\")  [return-value]"
   ]
  },
  {
   "attachments": {},
   "cell_type": "markdown",
   "metadata": {},
   "source": [
    "It’ll also complain if the input type doesn’t match the expected input type.\n",
    "\n",
    "Note that we’re using the `pandera.typing.pandas.DataFrame` generic type to define dataframes that are validated\n",
    "against the `SchemaModel` type variable on initialization."
   ]
  },
  {
   "cell_type": "code",
   "execution_count": 5,
   "metadata": {},
   "outputs": [
    {
     "data": {
      "text/html": [
       "<div>\n",
       "<style scoped>\n",
       "    .dataframe tbody tr th:only-of-type {\n",
       "        vertical-align: middle;\n",
       "    }\n",
       "\n",
       "    .dataframe tbody tr th {\n",
       "        vertical-align: top;\n",
       "    }\n",
       "\n",
       "    .dataframe thead th {\n",
       "        text-align: right;\n",
       "    }\n",
       "</style>\n",
       "<table border=\"1\" class=\"dataframe\">\n",
       "  <thead>\n",
       "    <tr style=\"text-align: right;\">\n",
       "      <th></th>\n",
       "      <th>id</th>\n",
       "      <th>first_name</th>\n",
       "      <th>age</th>\n",
       "    </tr>\n",
       "  </thead>\n",
       "  <tbody>\n",
       "    <tr>\n",
       "      <th>0</th>\n",
       "      <td>1</td>\n",
       "      <td>foo</td>\n",
       "      <td>30</td>\n",
       "    </tr>\n",
       "  </tbody>\n",
       "</table>\n",
       "</div>"
      ],
      "text/plain": [
       "   id first_name  age\n",
       "0   1        foo   30"
      ]
     },
     "execution_count": 5,
     "metadata": {},
     "output_type": "execute_result"
    }
   ],
   "source": [
    "schema_df = DataFrame[Schema]({\"id\": [1], \"name\": [\"foo\"]})\n",
    "pandas_df = pd.DataFrame({\"id\": [1], \"name\": [\"foo\"]})\n",
    "another_df = DataFrame[AnotherSchema]({\"id\": [1], \"first_name\": [\"foo\"]})\n",
    "\n",
    "\n",
    "fn(schema_df)  # mypy okay\n",
    "\n",
    "fn(pandas_df)  # mypy error\n",
    "# error: Argument 1 to \"fn\" has incompatible type \"pandas.core.frame.DataFrame\";  # noqa\n",
    "# expected \"pandera.typing.pandas.DataFrame[Schema]\"  [arg-type]\n",
    "\n",
    "fn(another_df)  # mypy error\n",
    "# error: Argument 1 to \"fn\" has incompatible type \"DataFrame[AnotherSchema]\";\n",
    "# expected \"DataFrame[Schema]\"  [arg-type]"
   ]
  },
  {
   "attachments": {},
   "cell_type": "markdown",
   "metadata": {},
   "source": [
    "To make `mypy` happy with respect to the return type, you can either initialize a dataframe of the expected type:"
   ]
  },
  {
   "cell_type": "code",
   "execution_count": 6,
   "metadata": {},
   "outputs": [],
   "source": [
    "def fn_pipe_dataframe(df: DataFrame[Schema]) -> DataFrame[SchemaOut]:\n",
    "    return df.assign(age=30).pipe(DataFrame[SchemaOut])  # mypy okay"
   ]
  },
  {
   "attachments": {},
   "cell_type": "markdown",
   "metadata": {},
   "source": [
    "> If you use the approach above with the `check_types()` decorator,\n",
    "> pandera will do its best to not to validate the dataframe twice if it’s already been initialized with the\n",
    "> `DataFrame[Schema](**data)` syntax.\n",
    "\n",
    "... or use [`typing.cast()`](https://docs.python.org/3/library/typing.html#typing.cast) to indicate to `mypy` that the return value of the function is of the correct type."
   ]
  },
  {
   "cell_type": "code",
   "execution_count": 7,
   "metadata": {},
   "outputs": [],
   "source": [
    "def fn_cast_dataframe(df: DataFrame[Schema]) -> DataFrame[SchemaOut]:\n",
    "    return cast(DataFrame[SchemaOut], df.assign(age=30))  # mypy okay"
   ]
  },
  {
   "attachments": {},
   "cell_type": "markdown",
   "metadata": {},
   "source": [
    "## Limitations\n",
    "\n",
    "An important caveat to static type-linting with pandera dataframe types is that, \n",
    "*since `pandas` dataframes are mutable objects*, there’s no way for `mypy` to know whether a **mutated instance** of a\n",
    "`SchemaModel`-typed dataframe has the correct contents.\n",
    "\n",
    "Fortunately, we can simply rely on the `check_types()` decorator to verify that the output dataframe is valid.\n",
    "\n",
    "Consider the examples below:"
   ]
  },
  {
   "cell_type": "code",
   "execution_count": 8,
   "metadata": {},
   "outputs": [],
   "source": [
    "def fn_pipe_dataframe(df: DataFrame[Schema]) -> DataFrame[SchemaOut]:\n",
    "    return df.assign(age=30).pipe(DataFrame[SchemaOut])  # mypy okay\n",
    "\n",
    "\n",
    "def fn_cast_dataframe(df: DataFrame[Schema]) -> DataFrame[SchemaOut]:\n",
    "    return cast(DataFrame[SchemaOut], df.assign(age=30))  # mypy okay\n",
    "\n",
    "\n",
    "@pa.check_types\n",
    "def fn_mutate_inplace(df: DataFrame[Schema]) -> DataFrame[SchemaOut]:\n",
    "    out = df.assign(age=30).pipe(DataFrame[SchemaOut])\n",
    "    out.drop([\"age\"], axis=1, inplace=True)\n",
    "    return out  # okay for mypy, pandera raises error\n",
    "\n",
    "\n",
    "@pa.check_types\n",
    "def fn_assign_and_get_index(df: DataFrame[Schema]) -> DataFrame[SchemaOut]:\n",
    "    return df.assign(foo=30).iloc[:3]  # okay for mypy, pandera raises error"
   ]
  },
  {
   "attachments": {},
   "cell_type": "markdown",
   "metadata": {},
   "source": [
    "Even though the outputs of these functions are incorrect, `mypy` doesn’t catch the error during static type-linting but\n",
    "pandera will raise a `SchemaError` or `SchemaErrors` exception **at runtime**, depending on whether you’re doing lazy validation or not."
   ]
  },
  {
   "cell_type": "code",
   "execution_count": null,
   "metadata": {},
   "outputs": [],
   "source": [
    "@pa.check_types\n",
    "def fn_cast_dataframe_invalid(df: DataFrame[Schema]) -> DataFrame[SchemaOut]:\n",
    "    return cast(DataFrame[SchemaOut], df)  # okay for mypy, pandera raises error"
   ]
  }
 ],
 "metadata": {
  "kernelspec": {
   "display_name": "learn_py38_pandera",
   "language": "python",
   "name": "python3"
  },
  "language_info": {
   "codemirror_mode": {
    "name": "ipython",
    "version": 3
   },
   "file_extension": ".py",
   "mimetype": "text/x-python",
   "name": "python",
   "nbconvert_exporter": "python",
   "pygments_lexer": "ipython3",
   "version": "3.8.15"
  },
  "orig_nbformat": 4,
  "vscode": {
   "interpreter": {
    "hash": "d04adb6128c0e7f0210d38b3bb730109356ca8c5dadd5211bc2bc571a84fe032"
   }
  }
 },
 "nbformat": 4,
 "nbformat_minor": 2
}
