{
 "cells": [
  {
   "attachments": {},
   "cell_type": "markdown",
   "metadata": {},
   "source": [
    "Following [this](https://pandera.readthedocs.io/en/stable/pydantic_integration.html)"
   ]
  },
  {
   "attachments": {},
   "cell_type": "markdown",
   "metadata": {},
   "source": [
    "# Pydantic\n",
    "\n",
    "*new in 0.8.0*"
   ]
  },
  {
   "attachments": {},
   "cell_type": "markdown",
   "metadata": {},
   "source": [
    "## Using Pandera Schemas in Pydantic Models\n",
    "\n",
    "> ℹ️ `SchemaModel` is fully compatible with `pydantic`.\n",
    "\n",
    "You can specify a `SchemaModel` in a pydantic `BaseModel` as you would any other field:"
   ]
  },
  {
   "cell_type": "code",
   "execution_count": 1,
   "metadata": {},
   "outputs": [
    {
     "name": "stdout",
     "output_type": "stream",
     "text": [
      "1 validation error for PydanticModel\n",
      "df\n",
      "  series 'str_col' contains duplicate values:\n",
      "0    hello\n",
      "1    hello\n",
      "Name: str_col, dtype: object (type=value_error)\n"
     ]
    }
   ],
   "source": [
    "import pandas as pd\n",
    "import pandera as pa\n",
    "from pandera.typing import DataFrame, Series\n",
    "import pydantic\n",
    "\n",
    "\n",
    "class SimpleSchema(pa.SchemaModel):\n",
    "    str_col: Series[str] = pa.Field(unique=True)\n",
    "\n",
    "\n",
    "class PydanticModel(pydantic.BaseModel):\n",
    "    x: int\n",
    "    df: DataFrame[SimpleSchema]  # NOTE.\n",
    "\n",
    "\n",
    "valid_df = pd.DataFrame({\"str_col\": [\"hello\", \"world\"]})\n",
    "PydanticModel(x=1, df=valid_df)  # pyright: ignore\n",
    "\n",
    "invalid_df = pd.DataFrame({\"str_col\": [\"hello\", \"hello\"]})\n",
    "try:\n",
    "    PydanticModel(x=1, df=invalid_df)  # pyright: ignore\n",
    "except Exception as e:\n",
    "    print(e)"
   ]
  },
  {
   "attachments": {},
   "cell_type": "markdown",
   "metadata": {},
   "source": [
    "Other pandera components are also compatible with pydantic:\n",
    "\n",
    "> The `SeriesSchema`, `DataFrameSchema` and `schema_components` types validates the type of a schema object, e.g.\n",
    "> if your pydantic `BaseModel` contained a schema object, not a pandas object.\n",
    "\n",
    "* SchemaModel\n",
    "* DataFrameSchema\n",
    "* SeriesSchema\n",
    "* MultiIndex\n",
    "* Column\n",
    "* Index\n"
   ]
  },
  {
   "attachments": {},
   "cell_type": "markdown",
   "metadata": {},
   "source": [
    "## Using Pydantic Models in Pandera Schemas\n",
    "\n",
    "*new in 0.10.0*\n",
    "\n",
    "You can also use a pydantic `BaseModel` in a pandera schema. Suppose you had a `Record` model:"
   ]
  },
  {
   "cell_type": "code",
   "execution_count": 2,
   "metadata": {},
   "outputs": [],
   "source": [
    "from pydantic import BaseModel\n",
    "\n",
    "import pandera as pa\n",
    "\n",
    "\n",
    "class Record(BaseModel):\n",
    "    name: str\n",
    "    xcoord: str\n",
    "    ycoord: int"
   ]
  },
  {
   "attachments": {},
   "cell_type": "markdown",
   "metadata": {},
   "source": [
    "The `PydanticModel` datatype enables you to specify the `Record` model as a *row-wise type*."
   ]
  },
  {
   "cell_type": "code",
   "execution_count": 3,
   "metadata": {},
   "outputs": [],
   "source": [
    "import pandas as pd\n",
    "from pandera.engines.pandas_engine import PydanticModel  # NOTE.\n",
    "\n",
    "\n",
    "class PydanticSchema(pa.SchemaModel):\n",
    "    \"\"\"Pandera schema using the pydantic model.\"\"\"\n",
    "\n",
    "    class Config:\n",
    "        \"\"\"Config with dataframe-level data type.\"\"\"\n",
    "\n",
    "        dtype = PydanticModel(Record)\n",
    "        coerce = True  # ⚠️ NOTE: this is required, otherwise a SchemaInitError is raised"
   ]
  },
  {
   "attachments": {},
   "cell_type": "markdown",
   "metadata": {},
   "source": [
    "> ⚠️ Note\n",
    ">\n",
    "> By combining `dtype=PydanticModel(...)` and `coerce=True`, pandera will apply the pydantic model validation process\n",
    "> to each row of the dataframe, converting the model back to a dictionary with the `BaseModel.dict()` method.\n",
    "\n",
    "The equivalent pandera schema would look like this:"
   ]
  },
  {
   "cell_type": "code",
   "execution_count": 4,
   "metadata": {},
   "outputs": [],
   "source": [
    "class PanderaSchema(pa.SchemaModel):\n",
    "    \"\"\"Pandera schema that's equivalent to PydanticSchema.\"\"\"\n",
    "\n",
    "    name: pa.typing.Series[str]\n",
    "    xcoord: pa.typing.Series[int]\n",
    "    ycoord: pa.typing.Series[int]"
   ]
  },
  {
   "attachments": {},
   "cell_type": "markdown",
   "metadata": {},
   "source": [
    "> ⚠️ Since the `PydanticModel` datatype applies the `BaseModel` constructor to each row of the dataframe,\n",
    "> using `PydanticModel` might not scale well with larger datasets!"
   ]
  }
 ],
 "metadata": {
  "kernelspec": {
   "display_name": "learn_py38_pandera",
   "language": "python",
   "name": "python3"
  },
  "language_info": {
   "codemirror_mode": {
    "name": "ipython",
    "version": 3
   },
   "file_extension": ".py",
   "mimetype": "text/x-python",
   "name": "python",
   "nbconvert_exporter": "python",
   "pygments_lexer": "ipython3",
   "version": "3.8.15"
  },
  "orig_nbformat": 4,
  "vscode": {
   "interpreter": {
    "hash": "d04adb6128c0e7f0210d38b3bb730109356ca8c5dadd5211bc2bc571a84fe032"
   }
  }
 },
 "nbformat": 4,
 "nbformat_minor": 2
}
