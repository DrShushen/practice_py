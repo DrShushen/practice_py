{
 "cells": [
  {
   "attachments": {},
   "cell_type": "markdown",
   "metadata": {},
   "source": [
    "Following [this](https://pandera.readthedocs.io/en/stable/extensions.html)"
   ]
  },
  {
   "attachments": {},
   "cell_type": "markdown",
   "metadata": {},
   "source": [
    "# Extensions\n",
    "\n",
    "*new in 0.6.0*"
   ]
  },
  {
   "attachments": {},
   "cell_type": "markdown",
   "metadata": {},
   "source": [
    "## Registering Custom Check Methods\n",
    "\n",
    "One of the strengths of `pandera` is its flexibility in enabling you to defining in-line custom checks on the fly:"
   ]
  },
  {
   "cell_type": "code",
   "execution_count": 1,
   "metadata": {},
   "outputs": [],
   "source": [
    "import pandera as pa\n",
    "\n",
    "# checks elements in a column/dataframe\n",
    "element_wise_check = pa.Check(lambda x: x < 0, element_wise=True)\n",
    "\n",
    "# applies the check function to a dataframe/series\n",
    "vectorized_check = pa.Check(lambda series_or_df: series_or_df < 0)"
   ]
  },
  {
   "attachments": {},
   "cell_type": "markdown",
   "metadata": {},
   "source": [
    "However, there are **two main disadvantages** of schemas with inline custom checks:\n",
    "* they are **not serializable** with the [IO interface](https://pandera.readthedocs.io/en/stable/schema_inference.html#schema-persistence).\n",
    "* you can’t use them to [synthesize data](https://pandera.readthedocs.io/en/stable/data_synthesis_strategies.html#data-synthesis-strategies)\n",
    "because the checks are not associated with a hypothesis strategy.\n",
    "\n",
    "`pandera` now offers a way to **register custom checks** so that they’re **available in the `Check` class as a `check` method**.\n",
    "\n",
    "Here, let’s define a custom method that checks whether a pandas object contains elements that lie within two values."
   ]
  },
  {
   "cell_type": "code",
   "execution_count": 2,
   "metadata": {},
   "outputs": [
    {
     "name": "stdout",
     "output_type": "stream",
     "text": [
      "   col\n",
      "0    1\n",
      "1    5\n",
      "2   10\n"
     ]
    }
   ],
   "source": [
    "import pandera as pa\n",
    "import pandera.extensions as extensions\n",
    "import pandas as pd\n",
    "\n",
    "\n",
    "@extensions.register_check_method(statistics=[\"min_value\", \"max_value\"])  # pyright: ignore  # NOTE.\n",
    "def is_between(pandas_obj, *, min_value, max_value):\n",
    "    return (min_value <= pandas_obj) & (pandas_obj <= max_value)\n",
    "\n",
    "\n",
    "schema = pa.DataFrameSchema({\"col\": pa.Column(int, pa.Check.is_between(min_value=1, max_value=10))})\n",
    "\n",
    "data = pd.DataFrame({\"col\": [1, 5, 10]})\n",
    "print(schema(data))"
   ]
  },
  {
   "attachments": {},
   "cell_type": "markdown",
   "metadata": {},
   "source": [
    "As you can see, a custom check’s first argument is *a pandas series or dataframe by default* (more on that later),\n",
    "followed by keyword-only arguments, specified with the `*` syntax.\n",
    "\n",
    "The `register_check_method()` requires you to explicitly name the check `statistics` via the keyword argument,\n",
    "which are essentially the constraints placed by the check on the pandas data structure."
   ]
  },
  {
   "attachments": {},
   "cell_type": "markdown",
   "metadata": {},
   "source": [
    "## Specifying a Check Strategy\n",
    "\n",
    "> ⚠️ Tricky! \n",
    "\n",
    "To specify a check strategy with your custom check, you’ll need to install the [strategies extension](https://pandera.readthedocs.io/en/stable/index.html#installation).\n",
    "\n",
    "First let’s look at a trivially simple example, where the check verifies whether a column is equal to a certain value:"
   ]
  },
  {
   "cell_type": "code",
   "execution_count": 3,
   "metadata": {},
   "outputs": [],
   "source": [
    "def custom_equals(pandas_obj, *, value):\n",
    "    return pandas_obj == value"
   ]
  },
  {
   "attachments": {},
   "cell_type": "markdown",
   "metadata": {},
   "source": [
    "The corresponding strategy for this check would be:"
   ]
  },
  {
   "cell_type": "code",
   "execution_count": 3,
   "metadata": {},
   "outputs": [],
   "source": [
    "from typing import Optional\n",
    "import hypothesis\n",
    "import pandera.strategies as st\n",
    "\n",
    "\n",
    "def equals_strategy(\n",
    "    pandera_dtype: pa.DataType,\n",
    "    strategy: Optional[st.SearchStrategy] = None,  # pyright: ignore\n",
    "    *,\n",
    "    value,\n",
    "):\n",
    "    if strategy is None:\n",
    "        return st.pandas_dtype_strategy(\n",
    "            pandera_dtype,\n",
    "            strategy=hypothesis.strategies.just(value),  # pyright: ignore\n",
    "        )\n",
    "    return strategy.filter(lambda x: x == value)  # pyright: ignore"
   ]
  },
  {
   "attachments": {},
   "cell_type": "markdown",
   "metadata": {},
   "source": [
    "As you may notice, the pandera strategy interface has two arguments followed by keyword-only arguments\n",
    "**that match the check function keyword-only check statistics**.\n",
    "\n",
    "The `pandera_dtype` positional argument is useful for ensuring the correct data type.\n",
    "\n",
    "In the above example, we’re using the [`pandas_dtype_strategy()`](https://pandera.readthedocs.io/en/stable/reference/generated/pandera.strategies.html#pandera.strategies.pandas_dtype_strategy)\n",
    "strategy to make sure the generated `value` is of the correct data type.\n",
    "\n",
    "The optional `strategy` argument allows us to use the check strategy *as a base strategy or a chained strategy*.\n",
    "\n",
    "There’s a detail that we’re responsible for implementing in the strategy function body:\n",
    "**we need to handle two cases to account for strategy chaining**:\n",
    "1. when the strategy function is being used as a *base strategy*, i.e. when strategy is `None`\n",
    "1. when the strategy function is *being chained from a previously-defined strategy*, i.e. when `strategy` is **not** `None`.\n",
    "\n",
    "Finally, to register the custom check with the strategy, use the [`register_check_method()`](https://pandera.readthedocs.io/en/stable/reference/generated/pandera.extensions.html#pandera.extensions.register_check_method) decorator:"
   ]
  },
  {
   "cell_type": "code",
   "execution_count": 4,
   "metadata": {},
   "outputs": [],
   "source": [
    "@extensions.register_check_method(  # pyright: ignore\n",
    "    statistics=[\"value\"],\n",
    "    strategy=equals_strategy,  # NOTE: This references the strategy function defined previously.\n",
    ")\n",
    "def custom_equals(pandas_obj, *, value):\n",
    "    return pandas_obj == value"
   ]
  },
  {
   "attachments": {},
   "cell_type": "markdown",
   "metadata": {},
   "source": [
    "Let’s unpack what’s going in here.\n",
    "\n",
    "The `custom_equals` function only has a single statistic, which is the `value` argument,\n",
    "which we’ve *also specified in `register_check_method()`*.\n",
    "\n",
    "This means that the associated check strategy must match its keyword-only arguments.\n",
    "\n",
    "Going back to our `is_between` function example, here’s what the strategy would look like:"
   ]
  },
  {
   "cell_type": "code",
   "execution_count": 5,
   "metadata": {},
   "outputs": [],
   "source": [
    "# NOTE: ⚠️ Tricky recipe.\n",
    "\n",
    "\n",
    "def in_between_strategy(\n",
    "    pandera_dtype: pa.DataType, strategy: Optional[st.SearchStrategy] = None, *, min_value, max_value  # pyright: ignore\n",
    "):\n",
    "    if strategy is None:\n",
    "        return st.pandas_dtype_strategy(\n",
    "            pandera_dtype,\n",
    "            min_value=min_value,\n",
    "            max_value=max_value,\n",
    "            exclude_min=False,\n",
    "            exclude_max=False,\n",
    "        )\n",
    "    return strategy.filter(lambda x: min_value <= x <= max_value)  # pyright: ignore\n",
    "\n",
    "\n",
    "@extensions.register_check_method(  # pyright: ignore\n",
    "    statistics=[\"min_value\", \"max_value\"],\n",
    "    strategy=in_between_strategy,\n",
    ")\n",
    "def is_between_with_strat(pandas_obj, *, min_value, max_value):\n",
    "    return (min_value <= pandas_obj) & (pandas_obj <= max_value)"
   ]
  },
  {
   "attachments": {},
   "cell_type": "markdown",
   "metadata": {},
   "source": [
    "## Check Types\n",
    "\n",
    "The extensions module also supports registering **element-wise** and **groupby** checks."
   ]
  },
  {
   "attachments": {},
   "cell_type": "markdown",
   "metadata": {},
   "source": [
    "### Element-wise Checks"
   ]
  },
  {
   "cell_type": "code",
   "execution_count": 6,
   "metadata": {},
   "outputs": [],
   "source": [
    "# NOTE: Recipe.\n",
    "\n",
    "\n",
    "@extensions.register_check_method(  # pyright: ignore\n",
    "    statistics=[\"val\"],\n",
    "    check_type=\"element_wise\",\n",
    ")\n",
    "def element_wise_equal_check(element, *, val):\n",
    "    return element == val"
   ]
  },
  {
   "attachments": {},
   "cell_type": "markdown",
   "metadata": {},
   "source": [
    "Note that the first argument of `element_wise_equal_check` is a single element in the column or dataframe."
   ]
  },
  {
   "attachments": {},
   "cell_type": "markdown",
   "metadata": {},
   "source": [
    "### Groupby Checks\n",
    "\n",
    "In this `groupby` check, we’re verifying that the values of one column for `group_a` are, on average, greater than those of `group_b`:"
   ]
  },
  {
   "cell_type": "code",
   "execution_count": 7,
   "metadata": {},
   "outputs": [
    {
     "name": "stdout",
     "output_type": "stream",
     "text": [
      "   values groups\n",
      "0      20      x\n",
      "1      10      x\n",
      "2       1      y\n",
      "3      15      y\n"
     ]
    }
   ],
   "source": [
    "# NOTE: Recipe.\n",
    "\n",
    "from typing import Dict\n",
    "\n",
    "\n",
    "@extensions.register_check_method(  # pyright: ignore\n",
    "    statistics=[\"group_a\", \"group_b\"],\n",
    "    check_type=\"groupby\",\n",
    ")\n",
    "def groupby_check(dict_groups: Dict[str, pd.Series], *, group_a, group_b):\n",
    "    return dict_groups[group_a].mean() > dict_groups[group_b].mean()\n",
    "\n",
    "\n",
    "data = pd.DataFrame(\n",
    "    {\n",
    "        \"values\": [20, 10, 1, 15],\n",
    "        \"groups\": list(\"xxyy\"),\n",
    "    }\n",
    ")\n",
    "\n",
    "schema = pa.DataFrameSchema(\n",
    "    {\n",
    "        \"values\": pa.Column(\n",
    "            int,\n",
    "            pa.Check.groupby_check(group_a=\"x\", group_b=\"y\", groupby=\"groups\"),  # OUR groupby_check extension used.\n",
    "        ),\n",
    "        \"groups\": pa.Column(str),\n",
    "    }\n",
    ")\n",
    "\n",
    "print(schema(data))"
   ]
  },
  {
   "attachments": {},
   "cell_type": "markdown",
   "metadata": {},
   "source": [
    "## Registered Custom Checks with the Class-based API\n",
    "\n",
    "Since registered checks are part of the `Check` namespace, you can also use custom checks with the\n",
    "[class-based API](https://pandera.readthedocs.io/en/stable/schema_models.html#schema-models):"
   ]
  },
  {
   "cell_type": "code",
   "execution_count": 8,
   "metadata": {},
   "outputs": [
    {
     "name": "stdout",
     "output_type": "stream",
     "text": [
      "    col1  col2\n",
      "0  value     0\n",
      "1  value     1\n",
      "2  value     2\n",
      "3  value     3\n",
      "4  value     4\n"
     ]
    }
   ],
   "source": [
    "from pandera.typing import Series\n",
    "\n",
    "\n",
    "class Schema(pa.SchemaModel):\n",
    "    col1: Series[str] = pa.Field(custom_equals=\"value\")\n",
    "    col2: Series[int] = pa.Field(is_between={\"min_value\": 0, \"max_value\": 10})\n",
    "\n",
    "\n",
    "data = pd.DataFrame({\"col1\": [\"value\"] * 5, \"col2\": range(5)})\n",
    "\n",
    "print(Schema.validate(data))"
   ]
  },
  {
   "attachments": {},
   "cell_type": "markdown",
   "metadata": {},
   "source": [
    "* `DataFrame` checks can be attached by using the `Config` class.\n",
    "* Any field names that do not conflict with existing fields of `BaseConfig` and do not start with an underscore (`_`)\n",
    "are interpreted as the name of registered checks.\n",
    "* If the value is a `tuple` or `dict`, it is interpreted as the positional or keyword arguments of the check,\n",
    "and as the first argument otherwise.\n",
    "\n",
    "For example, to register zero, one, and two statistic dataframe checks one could do the following:"
   ]
  },
  {
   "cell_type": "code",
   "execution_count": 9,
   "metadata": {},
   "outputs": [
    {
     "name": "stdout",
     "output_type": "stream",
     "text": [
      "   col1  col2\n",
      "0   NaN   0.0\n",
      "1   NaN   1.0\n",
      "2   NaN   2.0\n",
      "3   0.5   3.0\n",
      "4   0.3   4.0\n",
      "5   0.1   5.0\n"
     ]
    }
   ],
   "source": [
    "# NOTE: Recipe.\n",
    "\n",
    "import pandera as pa\n",
    "import pandera.extensions as extensions\n",
    "import numpy as np\n",
    "import pandas as pd\n",
    "\n",
    "\n",
    "@extensions.register_check_method()  # pyright: ignore\n",
    "def is_small(df):\n",
    "    return sum(df.shape) < 1000\n",
    "\n",
    "\n",
    "@extensions.register_check_method(statistics=[\"fraction\"])  # pyright: ignore\n",
    "def total_missing_fraction_less_than(df, *, fraction: float):\n",
    "    return (1 - df.count().sum().item() / df.apply(len).sum().item()) < fraction\n",
    "\n",
    "\n",
    "@extensions.register_check_method(statistics=[\"col_a\", \"col_b\"])  # pyright: ignore\n",
    "def col_mean_a_greater_than_b(df, *, col_a: str, col_b: str):\n",
    "    return df[col_a].mean() > df[col_b].mean()\n",
    "\n",
    "\n",
    "from pandera.typing import Series\n",
    "\n",
    "\n",
    "class Schema(pa.SchemaModel):\n",
    "    col1: Series[float] = pa.Field(nullable=True, ignore_na=False)\n",
    "    col2: Series[float] = pa.Field(nullable=True, ignore_na=False)\n",
    "\n",
    "    class Config:\n",
    "        is_small = ()\n",
    "        total_missing_fraction_less_than = 0.6\n",
    "        col_mean_a_greater_than_b = {\"col_a\": \"col2\", \"col_b\": \"col1\"}\n",
    "\n",
    "\n",
    "data = pd.DataFrame(\n",
    "    {\n",
    "        \"col1\": [float(\"nan\")] * 3 + [0.5, 0.3, 0.1],\n",
    "        \"col2\": np.arange(6.0),\n",
    "    }\n",
    ")\n",
    "\n",
    "print(Schema.validate(data))"
   ]
  }
 ],
 "metadata": {
  "kernelspec": {
   "display_name": "learn_py38_pandera",
   "language": "python",
   "name": "python3"
  },
  "language_info": {
   "codemirror_mode": {
    "name": "ipython",
    "version": 3
   },
   "file_extension": ".py",
   "mimetype": "text/x-python",
   "name": "python",
   "nbconvert_exporter": "python",
   "pygments_lexer": "ipython3",
   "version": "3.8.15"
  },
  "orig_nbformat": 4,
  "vscode": {
   "interpreter": {
    "hash": "d04adb6128c0e7f0210d38b3bb730109356ca8c5dadd5211bc2bc571a84fe032"
   }
  }
 },
 "nbformat": 4,
 "nbformat_minor": 2
}
