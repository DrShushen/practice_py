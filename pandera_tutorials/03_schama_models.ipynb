{
 "cells": [
  {
   "attachments": {},
   "cell_type": "markdown",
   "metadata": {},
   "source": [
    "Following [this](https://pandera.readthedocs.io/en/stable/schema_models.html#)"
   ]
  },
  {
   "attachments": {},
   "cell_type": "markdown",
   "metadata": {},
   "source": [
    "# Schema Models\n",
    "\n",
    "*new in v0.5.0*\n",
    "\n",
    "`pandera` provides a class-based API that’s heavily inspired by `pydantic`.\n",
    "\n",
    "In contrast to the [object-based API](https://pandera.readthedocs.io/en/stable/dataframe_schemas.html#dataframeschemas),\n",
    "you can define schema models in much the same way you’d define `pydantic` models.\n",
    "\n",
    "Schema Models are annotated with the [`pandera.typing`](https://pandera.readthedocs.io/en/stable/reference/generated/pandera.typing.html#module-pandera.typing)\n",
    "module using the standard *typing syntax*.\n",
    "\n",
    "> Models can be explicitly converted to a `DataFrameSchema` or used to validate a `DataFrame` directly.\n",
    "\n",
    "> ⚠️ **NOTE**\n",
    ">\n",
    "> Due to current limitations in the `pandas` library (see discussion [here](https://github.com/pandera-dev/pandera/issues/253#issuecomment-665338337)),\n",
    "> `pandera` annotations are only used for **run-time validation** and *cannot be leveraged by static-type checkers like `mypy`*.\n",
    ">\n",
    "> See the discussion [here](https://github.com/pandera-dev/pandera/issues/253#issuecomment-665338337) for more details."
   ]
  },
  {
   "attachments": {},
   "cell_type": "markdown",
   "metadata": {},
   "source": [
    "## Basic Usage"
   ]
  },
  {
   "cell_type": "code",
   "execution_count": 1,
   "metadata": {},
   "outputs": [
    {
     "name": "stdout",
     "output_type": "stream",
     "text": [
      "error in check_types decorator of function 'transform': <Schema Column(name=year, type=DataType(int64))> failed element-wise validator 0:\n",
      "<Check greater_than: greater_than(2000)>\n",
      "failure cases:\n",
      "   index  failure_case\n",
      "0      2          1999\n"
     ]
    }
   ],
   "source": [
    "import pandas as pd\n",
    "import pandera as pa\n",
    "from pandera.typing import Index, DataFrame, Series  # NOTE.\n",
    "\n",
    "\n",
    "class InputSchema(pa.SchemaModel):  # NOTE.\n",
    "    year: Series[int] = pa.Field(gt=2000, coerce=True)\n",
    "    month: Series[int] = pa.Field(ge=1, le=12, coerce=True)\n",
    "    day: Series[int] = pa.Field(ge=0, le=365, coerce=True)\n",
    "\n",
    "\n",
    "class OutputSchema(InputSchema):  # NOTE.\n",
    "    revenue: Series[float]\n",
    "\n",
    "\n",
    "@pa.check_types  # NOTE.\n",
    "def transform(df: DataFrame[InputSchema]) -> DataFrame[OutputSchema]:\n",
    "    return df.assign(revenue=100.0)  # pyright: ignore\n",
    "\n",
    "\n",
    "df = pd.DataFrame(\n",
    "    {\n",
    "        \"year\": [\"2001\", \"2002\", \"2003\"],\n",
    "        \"month\": [\"3\", \"6\", \"12\"],\n",
    "        \"day\": [\"200\", \"156\", \"365\"],\n",
    "    }\n",
    ")\n",
    "\n",
    "transform(df)  # pyright: ignore\n",
    "\n",
    "invalid_df = pd.DataFrame(\n",
    "    {\n",
    "        \"year\": [\"2001\", \"2002\", \"1999\"],\n",
    "        \"month\": [\"3\", \"6\", \"12\"],\n",
    "        \"day\": [\"200\", \"156\", \"365\"],\n",
    "    }\n",
    ")\n",
    "\n",
    "try:\n",
    "    transform(invalid_df)  # pyright: ignore\n",
    "except Exception as e:\n",
    "    print(e)"
   ]
  },
  {
   "attachments": {},
   "cell_type": "markdown",
   "metadata": {},
   "source": [
    "> NOTE: `pyright` has issues in terms of compatibility with this.\n",
    ">\n",
    "> It doesn't like the equivalence of `pd.DataFrame` with `pandera.typing.DataFrame` "
   ]
  },
  {
   "attachments": {},
   "cell_type": "markdown",
   "metadata": {},
   "source": [
    "As you can see in the example above, you can define a schema by sub-classing `SchemaModel` and defining\n",
    "column/index *fields* as class attributes.\n",
    "\n",
    "The `check_types()` decorator is required to perform validation of the dataframe **at run-time**.\n",
    "\n",
    "> Note that `Field` s apply to both `Column` and `Index` objects, exposing the built-in `Check` s via key-word arguments.\n",
    "\n",
    "*(New in 0.6.2)* When you access a class attribute defined on the schema,\n",
    "it will return the name of the column used in the validated `pd.DataFrame`.\n",
    "In the example above, this will simply be the string `\"year\"`."
   ]
  },
  {
   "cell_type": "code",
   "execution_count": 2,
   "metadata": {},
   "outputs": [
    {
     "name": "stdout",
     "output_type": "stream",
     "text": [
      "Column name for 'year' is year\n",
      "\n",
      "   year  day\n",
      "0  2001  200\n",
      "1  2002  156\n",
      "2  2003  365\n"
     ]
    }
   ],
   "source": [
    "print(f\"Column name for 'year' is {InputSchema.year}\\n\")\n",
    "print(df.loc[:, [InputSchema.year, \"day\"]])"
   ]
  },
  {
   "attachments": {},
   "cell_type": "markdown",
   "metadata": {},
   "source": [
    "## Validate on Initialization\n",
    "\n",
    "*new in 0.8.0*\n",
    "\n",
    "Pandera provides an interface for validating dataframes on initialization.\n",
    "\n",
    "This API uses the `pandera.typing.pandas.DataFrame` *generic type* to validated against the `SchemaModel` type variable on initialization:"
   ]
  },
  {
   "cell_type": "code",
   "execution_count": 3,
   "metadata": {},
   "outputs": [
    {
     "name": "stdout",
     "output_type": "stream",
     "text": [
      "  state           city  price\n",
      "0    NY       New York      8\n",
      "1    FL          Miami     12\n",
      "2    GA        Atlanta     10\n",
      "3    CA  San Francisco     16\n"
     ]
    }
   ],
   "source": [
    "import pandas as pd\n",
    "import pandera as pa\n",
    "\n",
    "from pandera.typing import DataFrame, Series\n",
    "\n",
    "\n",
    "class Schema(pa.SchemaModel):\n",
    "    state: Series[str]\n",
    "    city: Series[str]\n",
    "    price: Series[int] = pa.Field(in_range={\"min_value\": 5, \"max_value\": 20})\n",
    "\n",
    "\n",
    "# NOTE the below initialization DIRECTLY FROM pandera.typing.DataFrame!\n",
    "df = DataFrame[Schema](\n",
    "    {\n",
    "        \"state\": [\"NY\", \"FL\", \"GA\", \"CA\"],\n",
    "        \"city\": [\"New York\", \"Miami\", \"Atlanta\", \"San Francisco\"],\n",
    "        \"price\": [8, 12, 10, 16],\n",
    "    }\n",
    ")\n",
    "\n",
    "print(df)"
   ]
  },
  {
   "attachments": {},
   "cell_type": "markdown",
   "metadata": {},
   "source": [
    "Refer to [Supported DataFrame Libraries](https://pandera.readthedocs.io/en/stable/supported_libraries.html#supported-dataframe-libraries)\n",
    "to see how this syntax applies to other supported dataframe types."
   ]
  },
  {
   "attachments": {},
   "cell_type": "markdown",
   "metadata": {},
   "source": [
    "## Converting to `DataFrameSchema`\n",
    "\n",
    "You can easily convert a `SchemaModel` class into a `DataFrameSchema`:"
   ]
  },
  {
   "cell_type": "code",
   "execution_count": 6,
   "metadata": {},
   "outputs": [
    {
     "name": "stdout",
     "output_type": "stream",
     "text": [
      "<Schema DataFrameSchema(\n",
      "    columns={\n",
      "        'year': <Schema Column(name=year, type=DataType(int64))>\n",
      "        'month': <Schema Column(name=month, type=DataType(int64))>\n",
      "        'day': <Schema Column(name=day, type=DataType(int64))>\n",
      "    },\n",
      "    checks=[],\n",
      "    coerce=False,\n",
      "    dtype=None,\n",
      "    index=None,\n",
      "    strict=False\n",
      "    name=InputSchema,\n",
      "    ordered=False,\n",
      "    unique_column_names=False\n",
      ")>\n"
     ]
    }
   ],
   "source": [
    "print(InputSchema.to_schema())\n",
    "\n",
    "\"\"\"\n",
    "<Schema DataFrameSchema(\n",
    "    columns={\n",
    "        'year': <Schema Column(name=year, type=DataType(int64))>\n",
    "        'month': <Schema Column(name=month, type=DataType(int64))>\n",
    "        'day': <Schema Column(name=day, type=DataType(int64))>\n",
    "    },\n",
    "    checks=[],\n",
    "    coerce=False,\n",
    "    dtype=None,\n",
    "    index=None,\n",
    "    strict=False\n",
    "    name=InputSchema,\n",
    "    ordered=False,\n",
    "    unique_column_names=False\n",
    ")>\n",
    "\"\"\";"
   ]
  },
  {
   "attachments": {},
   "cell_type": "markdown",
   "metadata": {},
   "source": [
    "You can also use the `validate()` method to validate dataframes:"
   ]
  },
  {
   "cell_type": "code",
   "execution_count": 8,
   "metadata": {},
   "outputs": [
    {
     "name": "stdout",
     "output_type": "stream",
     "text": [
      "  state           city  price\n",
      "0    NY       New York      8\n",
      "1    FL          Miami     12\n",
      "2    GA        Atlanta     10\n",
      "3    CA  San Francisco     16\n"
     ]
    }
   ],
   "source": [
    "print(Schema.validate(df))"
   ]
  },
  {
   "attachments": {},
   "cell_type": "markdown",
   "metadata": {},
   "source": [
    "Or you can use the `SchemaModel()` class *directly* to validate dataframes, which is *syntactic sugar* that simply delegates to the `validate()` method."
   ]
  },
  {
   "cell_type": "code",
   "execution_count": 9,
   "metadata": {},
   "outputs": [
    {
     "name": "stdout",
     "output_type": "stream",
     "text": [
      "  state           city  price\n",
      "0    NY       New York      8\n",
      "1    FL          Miami     12\n",
      "2    GA        Atlanta     10\n",
      "3    CA  San Francisco     16\n"
     ]
    }
   ],
   "source": [
    "print(Schema(df))"
   ]
  },
  {
   "attachments": {},
   "cell_type": "markdown",
   "metadata": {},
   "source": [
    "## Excluded attributes\n",
    "\n",
    "Class variables which begin with an *underscore* (`_`) will be automatically **excluded** from the model.\n",
    "\n",
    "[`Config`](https://pandera.readthedocs.io/en/stable/schema_models.html#schema-model-config) is also a reserved name.\n",
    "\n",
    "However, [`aliases`](https://pandera.readthedocs.io/en/stable/schema_models.html#schema-model-alias)\n",
    "can be used to circumvent these limitations."
   ]
  },
  {
   "attachments": {},
   "cell_type": "markdown",
   "metadata": {},
   "source": [
    "## Supported dtypes\n",
    "\n",
    "Any `dtype`s supported by `pandera` can be used as type parameters for `Series` and `Index`.\n",
    "\n",
    "⚠️ There are, however, a couple of gotchas."
   ]
  },
  {
   "attachments": {},
   "cell_type": "markdown",
   "metadata": {},
   "source": [
    "### Dtype aliases"
   ]
  },
  {
   "cell_type": "code",
   "execution_count": 10,
   "metadata": {},
   "outputs": [],
   "source": [
    "import pandera as pa\n",
    "from pandera.typing import Series, String  # pyright: ignore\n",
    "\n",
    "# NOTE: The above String is a \"Dtype alias\"\n",
    "\n",
    "\n",
    "class Schema(pa.SchemaModel):\n",
    "    a: Series[String]  # NOTE."
   ]
  },
  {
   "attachments": {},
   "cell_type": "markdown",
   "metadata": {},
   "source": [
    "### Type Vs instance\n",
    "\n",
    "You must give a **type**, not an **instance**.\n",
    "\n",
    "✔ Good:"
   ]
  },
  {
   "cell_type": "code",
   "execution_count": 11,
   "metadata": {},
   "outputs": [],
   "source": [
    "import pandas as pd\n",
    "\n",
    "\n",
    "class Schema(pa.SchemaModel):\n",
    "    a: Series[pd.StringDtype]"
   ]
  },
  {
   "attachments": {},
   "cell_type": "markdown",
   "metadata": {},
   "source": [
    "✘ Bad:"
   ]
  },
  {
   "cell_type": "code",
   "execution_count": 14,
   "metadata": {},
   "outputs": [
    {
     "data": {
      "text/plain": [
       "TypeError"
      ]
     },
     "metadata": {},
     "output_type": "display_data"
    },
    {
     "name": "stdout",
     "output_type": "stream",
     "text": [
      "Parameters to generic types must be types. Got string[python].\n"
     ]
    }
   ],
   "source": [
    "try:\n",
    "\n",
    "    class Schema(pa.SchemaModel):\n",
    "        a: Series[pd.StringDtype()]  # NOTE!\n",
    "\n",
    "except Exception as e:\n",
    "    display(type(e))\n",
    "    print(e)"
   ]
  },
  {
   "attachments": {},
   "cell_type": "markdown",
   "metadata": {},
   "source": [
    "### Parametrized dtypes\n",
    "\n",
    "Pandas supports a couple of **parametrized dtypes**.\n",
    "\n",
    "As of pandas 1.2.0:\n",
    "\n",
    "\n",
    "Kind of Data | Data Type | Parameters\n",
    "--- | --- | ---\n",
    "tz-aware datetime| `DatetimeTZDtype` | `unit`, `tz`\n",
    "Categorical | `CategoricalDtype` | `categories`, `ordered`\n",
    "period | `PeriodDtype` | `freq` \n",
    "sparse | `SparseDtype` | `dtype`, `fill_value`\n",
    "intervals | `IntervalDtype` | `subtype`\n",
    "\n",
    "#### Annotated\n",
    "\n",
    "Parameters can be given via `typing.Annotated`.\n",
    "\n",
    "It requires `python >= 3.9` or `typing_extensions`, *which is already a requirement of Pandera*.\n",
    "\n",
    "> Unfortunately `typing.Annotated` has not been backported to python 3.6.\n",
    "\n",
    "✔ Good:"
   ]
  },
  {
   "cell_type": "code",
   "execution_count": 15,
   "metadata": {},
   "outputs": [],
   "source": [
    "try:\n",
    "    from typing import Annotated  # pyright: ignore # python 3.9+\n",
    "except ImportError:\n",
    "    from typing_extensions import Annotated\n",
    "\n",
    "\n",
    "class Schema(pa.SchemaModel):\n",
    "    col: Series[Annotated[pd.DatetimeTZDtype, \"ns\", \"est\"]]  # NOTE!"
   ]
  },
  {
   "attachments": {},
   "cell_type": "markdown",
   "metadata": {},
   "source": [
    "⚠️ Furthermore, you must pass all parameters **in the order defined in the dtype’s constructor**\n",
    "(see [table](https://pandera.readthedocs.io/en/stable/schema_models.html#parameterized-dtypes)).\n",
    "\n",
    "✘ Bad:"
   ]
  },
  {
   "cell_type": "code",
   "execution_count": 17,
   "metadata": {},
   "outputs": [
    {
     "data": {
      "text/plain": [
       "TypeError"
      ]
     },
     "metadata": {},
     "output_type": "display_data"
    },
    {
     "name": "stdout",
     "output_type": "stream",
     "text": [
      "Annotation 'DatetimeTZDtype' requires all positional arguments ['unit', 'tz'].\n"
     ]
    }
   ],
   "source": [
    "class Schema(pa.SchemaModel):\n",
    "    col: Series[Annotated[pd.DatetimeTZDtype, \"utc\"]]\n",
    "\n",
    "\n",
    "try:\n",
    "    Schema.to_schema()\n",
    "except Exception as e:\n",
    "    display(type(e))\n",
    "    print(e)"
   ]
  },
  {
   "attachments": {},
   "cell_type": "markdown",
   "metadata": {},
   "source": [
    "#### Field\n",
    "\n",
    "✔ Good:"
   ]
  },
  {
   "cell_type": "code",
   "execution_count": 18,
   "metadata": {},
   "outputs": [],
   "source": [
    "class SchemaFieldDatetimeTZDtype(pa.SchemaModel):\n",
    "    col: Series[pd.DatetimeTZDtype] = pa.Field(dtype_kwargs={\"unit\": \"ns\", \"tz\": \"EST\"})"
   ]
  },
  {
   "attachments": {},
   "cell_type": "markdown",
   "metadata": {},
   "source": [
    "You **cannot** use both `typing.Annotated` and `dtype_kwargs`.\n",
    "\n",
    "✘ Bad:"
   ]
  },
  {
   "cell_type": "code",
   "execution_count": 19,
   "metadata": {},
   "outputs": [
    {
     "data": {
      "text/plain": [
       "TypeError"
      ]
     },
     "metadata": {},
     "output_type": "display_data"
    },
    {
     "name": "stdout",
     "output_type": "stream",
     "text": [
      "Annotation 'DatetimeTZDtype' requires all positional arguments ['unit', 'tz'].\n"
     ]
    }
   ],
   "source": [
    "class SchemaFieldDatetimeTZDtype(pa.SchemaModel):\n",
    "    col: Series[Annotated[pd.DatetimeTZDtype, \"ns\", \"est\"]] = pa.Field(dtype_kwargs={\"unit\": \"ns\", \"tz\": \"EST\"})\n",
    "\n",
    "\n",
    "try:\n",
    "    Schema.to_schema()\n",
    "except Exception as e:\n",
    "    display(type(e))\n",
    "    print(e)"
   ]
  },
  {
   "attachments": {},
   "cell_type": "markdown",
   "metadata": {},
   "source": [
    "## Required Columns\n",
    "\n",
    "By default all columns specified in the schema are **required**,\n",
    "meaning that if a column is missing in the input `DataFrame` an exception will be thrown.\n",
    "\n",
    "If you want to make a column optional, annotate it with `typing.Optional`."
   ]
  },
  {
   "cell_type": "code",
   "execution_count": 20,
   "metadata": {},
   "outputs": [
    {
     "data": {
      "text/html": [
       "<div>\n",
       "<style scoped>\n",
       "    .dataframe tbody tr th:only-of-type {\n",
       "        vertical-align: middle;\n",
       "    }\n",
       "\n",
       "    .dataframe tbody tr th {\n",
       "        vertical-align: top;\n",
       "    }\n",
       "\n",
       "    .dataframe thead th {\n",
       "        text-align: right;\n",
       "    }\n",
       "</style>\n",
       "<table border=\"1\" class=\"dataframe\">\n",
       "  <thead>\n",
       "    <tr style=\"text-align: right;\">\n",
       "      <th></th>\n",
       "      <th>a</th>\n",
       "    </tr>\n",
       "  </thead>\n",
       "  <tbody>\n",
       "    <tr>\n",
       "      <th>0</th>\n",
       "      <td>2001</td>\n",
       "    </tr>\n",
       "    <tr>\n",
       "      <th>1</th>\n",
       "      <td>2002</td>\n",
       "    </tr>\n",
       "    <tr>\n",
       "      <th>2</th>\n",
       "      <td>2003</td>\n",
       "    </tr>\n",
       "  </tbody>\n",
       "</table>\n",
       "</div>"
      ],
      "text/plain": [
       "      a\n",
       "0  2001\n",
       "1  2002\n",
       "2  2003"
      ]
     },
     "execution_count": 20,
     "metadata": {},
     "output_type": "execute_result"
    }
   ],
   "source": [
    "from typing import Optional\n",
    "\n",
    "import pandas as pd\n",
    "import pandera as pa\n",
    "from pandera.typing import Series\n",
    "\n",
    "\n",
    "class Schema(pa.SchemaModel):\n",
    "    a: Series[str]\n",
    "    b: Optional[Series[int]]  # NOTE.\n",
    "\n",
    "\n",
    "df = pd.DataFrame({\"a\": [\"2001\", \"2002\", \"2003\"]})\n",
    "Schema.validate(df)"
   ]
  },
  {
   "attachments": {},
   "cell_type": "markdown",
   "metadata": {},
   "source": [
    "## Schema Inheritance\n",
    "\n",
    "You can also use inheritance to build schemas on top of a base schema."
   ]
  },
  {
   "cell_type": "code",
   "execution_count": 21,
   "metadata": {},
   "outputs": [
    {
     "name": "stdout",
     "output_type": "stream",
     "text": [
      "   year  passengers\n",
      "1  2000       61000\n",
      "2  2001       50000\n",
      "3  2002       45000\n"
     ]
    }
   ],
   "source": [
    "class BaseSchema(pa.SchemaModel):\n",
    "    year: Series[str]\n",
    "\n",
    "\n",
    "class FinalSchema(BaseSchema):  # NOTE inheritance.\n",
    "    year: Series[int] = pa.Field(ge=2000, coerce=True)  # overwrite the base type\n",
    "    passengers: Series[int]\n",
    "    idx: Index[int] = pa.Field(ge=0)\n",
    "\n",
    "\n",
    "df = pd.DataFrame(\n",
    "    {\n",
    "        \"year\": [\"2000\", \"2001\", \"2002\"],\n",
    "    }\n",
    ")\n",
    "\n",
    "\n",
    "@pa.check_types\n",
    "def transform(df: DataFrame[BaseSchema]) -> DataFrame[FinalSchema]:\n",
    "    return (\n",
    "        df.assign(passengers=[61000, 50000, 45000]).set_index(pd.Index([1, 2, 3])).astype({\"year\": int})\n",
    "    )  # pyright: ignore\n",
    "\n",
    "\n",
    "print(transform(df))  # pyright: ignore"
   ]
  },
  {
   "attachments": {},
   "cell_type": "markdown",
   "metadata": {},
   "source": [
    "## Config\n",
    "\n",
    "Schema-wide options can be controlled via the `Config` class on the `SchemaModel` subclass.\n",
    "\n",
    "The full set of options can be found in the [`BaseConfig`](https://pandera.readthedocs.io/en/stable/reference/generated/pandera.model.BaseConfig.html#pandera.model.BaseConfig) class."
   ]
  },
  {
   "cell_type": "code",
   "execution_count": 22,
   "metadata": {},
   "outputs": [],
   "source": [
    "class Schema(pa.SchemaModel):\n",
    "\n",
    "    year: Series[int] = pa.Field(gt=2000, coerce=True)\n",
    "    month: Series[int] = pa.Field(ge=1, le=12, coerce=True)\n",
    "    day: Series[int] = pa.Field(ge=0, le=365, coerce=True)\n",
    "\n",
    "    # NOTE:\n",
    "    class Config:\n",
    "        name = \"BaseSchema\"\n",
    "        strict = True\n",
    "        coerce = True\n",
    "        foo = \"bar\"  # Interpreted as dataframe check"
   ]
  },
  {
   "attachments": {},
   "cell_type": "markdown",
   "metadata": {},
   "source": [
    "It is not required for the `Config` to subclass `BaseConfig` but it must be named \"`Config`\".\n",
    "\n",
    "See [Registered Custom Checks with the Class-based API](https://pandera.readthedocs.io/en/stable/extensions.html#class-based-api-dataframe-checks)\n",
    "for details on using registered dataframe checks."
   ]
  },
  {
   "attachments": {},
   "cell_type": "markdown",
   "metadata": {},
   "source": [
    "## MultiIndex\n",
    "\n",
    "The `MultiIndex` capabilities are also supported with the class-based API:"
   ]
  },
  {
   "cell_type": "code",
   "execution_count": 24,
   "metadata": {},
   "outputs": [
    {
     "name": "stdout",
     "output_type": "stream",
     "text": [
      "<Schema MultiIndex(\n",
      "    indexes=[\n",
      "        <Schema Index(name=year, type=DataType(int64))>\n",
      "        <Schema Index(name=month, type=DataType(int64))>\n",
      "    ]\n",
      "    coerce=True,\n",
      "    strict=True,\n",
      "    name=time,\n",
      "    ordered=True\n",
      ")>\n"
     ]
    }
   ],
   "source": [
    "import pandera as pa\n",
    "from pandera.typing import Index, Series\n",
    "\n",
    "\n",
    "class MultiIndexSchema(pa.SchemaModel):\n",
    "\n",
    "    year: Index[int] = pa.Field(gt=2000, coerce=True)\n",
    "    month: Index[int] = pa.Field(ge=1, le=12, coerce=True)\n",
    "    passengers: Series[int]\n",
    "\n",
    "    class Config:\n",
    "        # provide multi index options in the config\n",
    "        multiindex_name = \"time\"\n",
    "        multiindex_strict = True\n",
    "        multiindex_coerce = True\n",
    "\n",
    "\n",
    "index = MultiIndexSchema.to_schema().index\n",
    "print(index)\n",
    "\n",
    "\"\"\"\n",
    "<Schema MultiIndex(\n",
    "    indexes=[\n",
    "        <Schema Index(name=year, type=DataType(int64))>\n",
    "        <Schema Index(name=month, type=DataType(int64))>\n",
    "    ]\n",
    "    coerce=True,\n",
    "    strict=True,\n",
    "    name=time,\n",
    "    ordered=True\n",
    ")>\n",
    "\"\"\";"
   ]
  },
  {
   "cell_type": "code",
   "execution_count": 26,
   "metadata": {},
   "outputs": [
    {
     "name": "stdout",
     "output_type": "stream",
     "text": [
      "{'month': [<Check greater_than_or_equal_to: greater_than_or_equal_to(1)>,\n",
      "           <Check less_than_or_equal_to: less_than_or_equal_to(12)>],\n",
      " 'year': [<Check greater_than: greater_than(2000)>]}\n"
     ]
    }
   ],
   "source": [
    "from pprint import pprint\n",
    "\n",
    "pprint({name: col.checks for name, col in index.columns.items()})\n",
    "\n",
    "\"\"\"\n",
    "{'month': [<Check greater_than_or_equal_to: greater_than_or_equal_to(1)>,\n",
    "        <Check less_than_or_equal_to: less_than_or_equal_to(12)>],\n",
    "'year': [<Check greater_than: greater_than(2000)>]}\n",
    "\"\"\";"
   ]
  },
  {
   "attachments": {},
   "cell_type": "markdown",
   "metadata": {},
   "source": [
    "Multiple Index annotations are **automatically converted** into a [`MultiIndex`](https://pandera.readthedocs.io/en/stable/reference/generated/pandera.schema_components.MultiIndex.html#pandera.schema_components.MultiIndex).\n",
    "\n",
    "`MultiIndex` options are given in the [`Config`](https://pandera.readthedocs.io/en/stable/schema_models.html#schema-model-config)."
   ]
  },
  {
   "attachments": {},
   "cell_type": "markdown",
   "metadata": {},
   "source": [
    "## Index Name\n",
    "\n",
    "Use `check_name` to validate the index name of a single-index dataframe:"
   ]
  },
  {
   "cell_type": "code",
   "execution_count": 27,
   "metadata": {},
   "outputs": [
    {
     "data": {
      "text/plain": [
       "pandera.errors.SchemaError"
      ]
     },
     "metadata": {},
     "output_type": "display_data"
    },
    {
     "name": "stdout",
     "output_type": "stream",
     "text": [
      "Expected <class 'pandera.schema_components.Index'> to have name 'idx', found 'None'\n"
     ]
    }
   ],
   "source": [
    "import pandas as pd\n",
    "import pandera as pa\n",
    "from pandera.typing import Index, Series\n",
    "\n",
    "\n",
    "class Schema(pa.SchemaModel):\n",
    "    year: Series[int] = pa.Field(gt=2000, coerce=True)\n",
    "    passengers: Series[int]\n",
    "    idx: Index[int] = pa.Field(ge=0, check_name=True)  # NOTE: check_name\n",
    "\n",
    "\n",
    "df = pd.DataFrame(\n",
    "    {\n",
    "        \"year\": [2001, 2002, 2003],\n",
    "        \"passengers\": [61000, 50000, 45000],\n",
    "    }\n",
    ")\n",
    "\n",
    "try:\n",
    "    Schema.validate(df)\n",
    "except Exception as e:\n",
    "    display(type(e))\n",
    "    print(e)"
   ]
  },
  {
   "attachments": {},
   "cell_type": "markdown",
   "metadata": {},
   "source": [
    "`check_name` default value of `None` translates to `True` for columns and multi-index."
   ]
  },
  {
   "attachments": {},
   "cell_type": "markdown",
   "metadata": {},
   "source": [
    "## Custom Checks\n",
    "\n",
    "Unlike the object-based API, custom checks can be specified *as class methods*.\n",
    "\n",
    "### Column/Index checks"
   ]
  },
  {
   "cell_type": "code",
   "execution_count": 28,
   "metadata": {},
   "outputs": [],
   "source": [
    "import pandera as pa\n",
    "from pandera.typing import Index, Series\n",
    "\n",
    "\n",
    "class CustomCheckSchema(pa.SchemaModel):\n",
    "\n",
    "    a: Series[int] = pa.Field(gt=0, coerce=True)\n",
    "    abc: Series[int]\n",
    "    idx: Index[str]\n",
    "\n",
    "    # NOTE all these custom check methods below.\n",
    "    @pa.check(\"a\", name=\"foobar\")\n",
    "    def custom_check(cls, a: Series[int]) -> Series[bool]:\n",
    "        return a < 100  # pyright: ignore\n",
    "\n",
    "    @pa.check(\"^a\", regex=True, name=\"foobar\")\n",
    "    def custom_check_regex(cls, a: Series[int]) -> Series[bool]:\n",
    "        return a > 0  # pyright: ignore\n",
    "\n",
    "    @pa.check(\"idx\")\n",
    "    def check_idx(cls, idx: Index[int]) -> Series[bool]:\n",
    "        return idx.str.contains(\"dog\")  # pyright: ignore"
   ]
  },
  {
   "attachments": {},
   "cell_type": "markdown",
   "metadata": {},
   "source": [
    "ℹ️ **NOTE**\n",
    "\n",
    "* You can supply the key-word arguments of the [`Check`](https://pandera.readthedocs.io/en/stable/reference/generated/pandera.checks.Check.html#pandera.checks.Check)\n",
    "class initializer to get the flexibility of [groupby checks](https://pandera.readthedocs.io/en/stable/checks.html#column-check-groups)\n",
    "* Similarly to pydantic, [`classmethod()`](https://docs.python.org/3/library/functions.html#classmethod) decorator is added behind the scenes if omitted.\n",
    "* You still may need to add the `@classmethod` decorator after the `check()` decorator if your static-type checker or linter complains.\n",
    "* Since `checks` are class methods, the first argument value they receive is a SchemaModel subclass, not an instance of a model."
   ]
  },
  {
   "cell_type": "code",
   "execution_count": 30,
   "metadata": {},
   "outputs": [
    {
     "data": {
      "text/plain": [
       "pandera.errors.SchemaError"
      ]
     },
     "metadata": {},
     "output_type": "display_data"
    },
    {
     "name": "stdout",
     "output_type": "stream",
     "text": [
      "<Schema Column(name=value, type=DataType(int64))> failed series or dataframe validator 1:\n",
      "<Check check_means>\n"
     ]
    }
   ],
   "source": [
    "from typing import Dict\n",
    "\n",
    "\n",
    "class GroupbyCheckSchema(pa.SchemaModel):\n",
    "\n",
    "    value: Series[int] = pa.Field(gt=0, coerce=True)\n",
    "    group: Series[str] = pa.Field(isin=[\"A\", \"B\"])\n",
    "\n",
    "    @pa.check(\"value\", groupby=\"group\", regex=True, name=\"check_means\")\n",
    "    def check_groupby(cls, grouped_value: Dict[str, Series[int]]) -> bool:\n",
    "        return grouped_value[\"A\"].mean() < grouped_value[\"B\"].mean()\n",
    "\n",
    "\n",
    "df = pd.DataFrame(\n",
    "    {\n",
    "        \"value\": [100, 110, 120, 10, 11, 12],\n",
    "        \"group\": list(\"AAABBB\"),\n",
    "    }\n",
    ")\n",
    "\n",
    "try:\n",
    "    print(GroupbyCheckSchema.validate(df))\n",
    "except Exception as e:\n",
    "    display(type(e))\n",
    "    print(e)"
   ]
  },
  {
   "attachments": {},
   "cell_type": "markdown",
   "metadata": {},
   "source": [
    "### DataFrame Checks\n",
    "\n",
    "You can also define dataframe-level checks, similar to the object-based API, using the `dataframe_check()` decorator:"
   ]
  },
  {
   "cell_type": "code",
   "execution_count": 31,
   "metadata": {},
   "outputs": [
    {
     "data": {
      "text/html": [
       "<div>\n",
       "<style scoped>\n",
       "    .dataframe tbody tr th:only-of-type {\n",
       "        vertical-align: middle;\n",
       "    }\n",
       "\n",
       "    .dataframe tbody tr th {\n",
       "        vertical-align: top;\n",
       "    }\n",
       "\n",
       "    .dataframe thead th {\n",
       "        text-align: right;\n",
       "    }\n",
       "</style>\n",
       "<table border=\"1\" class=\"dataframe\">\n",
       "  <thead>\n",
       "    <tr style=\"text-align: right;\">\n",
       "      <th></th>\n",
       "      <th>col1</th>\n",
       "      <th>col2</th>\n",
       "      <th>col3</th>\n",
       "    </tr>\n",
       "  </thead>\n",
       "  <tbody>\n",
       "    <tr>\n",
       "      <th>0</th>\n",
       "      <td>1</td>\n",
       "      <td>5.0</td>\n",
       "      <td>-1.0</td>\n",
       "    </tr>\n",
       "    <tr>\n",
       "      <th>1</th>\n",
       "      <td>2</td>\n",
       "      <td>6.0</td>\n",
       "      <td>-2.0</td>\n",
       "    </tr>\n",
       "    <tr>\n",
       "      <th>2</th>\n",
       "      <td>3</td>\n",
       "      <td>7.0</td>\n",
       "      <td>-3.0</td>\n",
       "    </tr>\n",
       "  </tbody>\n",
       "</table>\n",
       "</div>"
      ],
      "text/plain": [
       "   col1  col2  col3\n",
       "0     1   5.0  -1.0\n",
       "1     2   6.0  -2.0\n",
       "2     3   7.0  -3.0"
      ]
     },
     "execution_count": 31,
     "metadata": {},
     "output_type": "execute_result"
    }
   ],
   "source": [
    "import pandas as pd\n",
    "import pandera as pa\n",
    "from pandera.typing import Index, Series\n",
    "\n",
    "\n",
    "class DataFrameCheckSchema(pa.SchemaModel):\n",
    "\n",
    "    col1: Series[int] = pa.Field(gt=0, coerce=True)\n",
    "    col2: Series[float] = pa.Field(gt=0, coerce=True)\n",
    "    col3: Series[float] = pa.Field(lt=0, coerce=True)\n",
    "\n",
    "    @pa.dataframe_check  # NOTE.\n",
    "    def product_is_negative(cls, df: pd.DataFrame) -> Series[bool]:\n",
    "        return df[\"col1\"] * df[\"col2\"] * df[\"col3\"] < 0  # pyright: ignore\n",
    "\n",
    "\n",
    "df = pd.DataFrame(\n",
    "    {\n",
    "        \"col1\": [1, 2, 3],\n",
    "        \"col2\": [5, 6, 7],\n",
    "        \"col3\": [-1, -2, -3],\n",
    "    }\n",
    ")\n",
    "\n",
    "DataFrameCheckSchema.validate(df)"
   ]
  },
  {
   "attachments": {},
   "cell_type": "markdown",
   "metadata": {},
   "source": [
    "### Inheritance\n",
    "\n",
    "The custom checks *are inherited* and therefore can be overwritten by the subclass.\n"
   ]
  },
  {
   "cell_type": "code",
   "execution_count": 32,
   "metadata": {},
   "outputs": [
    {
     "name": "stdout",
     "output_type": "stream",
     "text": [
      "coerce: False\n"
     ]
    }
   ],
   "source": [
    "import pandas as pd\n",
    "import pandera as pa\n",
    "from pandera.typing import Index, Series\n",
    "\n",
    "\n",
    "class Parent(pa.SchemaModel):\n",
    "\n",
    "    a: Series[int] = pa.Field(coerce=True)\n",
    "\n",
    "    @pa.check(\"a\", name=\"foobar\")\n",
    "    def check_a(cls, a: Series[int]) -> Series[bool]:\n",
    "        return a < 100  # pyright: ignore\n",
    "\n",
    "\n",
    "class Child(Parent):\n",
    "\n",
    "    a: Series[int] = pa.Field(coerce=False)\n",
    "\n",
    "    @pa.check(\"a\", name=\"foobar\")\n",
    "    def check_a(cls, a: Series[int]) -> Series[bool]:\n",
    "        return a > 100  # pyright: ignore\n",
    "\n",
    "\n",
    "is_a_coerce = Child.to_schema().columns[\"a\"].coerce\n",
    "print(f\"coerce: {is_a_coerce}\")"
   ]
  },
  {
   "cell_type": "code",
   "execution_count": 33,
   "metadata": {},
   "outputs": [
    {
     "data": {
      "text/plain": [
       "pandera.errors.SchemaError"
      ]
     },
     "metadata": {},
     "output_type": "display_data"
    },
    {
     "name": "stdout",
     "output_type": "stream",
     "text": [
      "<Schema Column(name=a, type=DataType(int64))> failed element-wise validator 0:\n",
      "<Check foobar>\n",
      "failure cases:\n",
      "   index  failure_case\n",
      "0      0             1\n",
      "1      1             2\n",
      "2      2             3\n"
     ]
    }
   ],
   "source": [
    "df = pd.DataFrame({\"a\": [1, 2, 3]})\n",
    "\n",
    "try:\n",
    "    Child.validate(df)\n",
    "except Exception as e:\n",
    "    display(type(e))\n",
    "    print(e)"
   ]
  },
  {
   "attachments": {},
   "cell_type": "markdown",
   "metadata": {},
   "source": [
    "## Aliases\n",
    "\n",
    "`SchemaModel` supports columns which are *not valid python variable names* via the argument `alias` of [`Field`](https://pandera.readthedocs.io/en/stable/reference/generated/pandera.model_components.Field.html#pandera.model_components.Field).\n",
    "\n",
    "Checks must reference the aliased names."
   ]
  },
  {
   "cell_type": "code",
   "execution_count": 34,
   "metadata": {},
   "outputs": [
    {
     "name": "stdout",
     "output_type": "stream",
     "text": [
      "      2020\n",
      "_idx      \n",
      "0       99\n"
     ]
    }
   ],
   "source": [
    "import pandera as pa\n",
    "import pandas as pd\n",
    "\n",
    "\n",
    "class Schema(pa.SchemaModel):\n",
    "    col_2020: pa.typing.Series[int] = pa.Field(alias=2020)\n",
    "    idx: pa.typing.Index[int] = pa.Field(alias=\"_idx\", check_name=True)  # NOTE!\n",
    "\n",
    "    @pa.check(2020)\n",
    "    def int_column_lt_100(cls, series):\n",
    "        return series < 100\n",
    "\n",
    "\n",
    "df = pd.DataFrame({2020: [99]}, index=[0])\n",
    "df.index.name = \"_idx\"  # NOTE!\n",
    "\n",
    "print(Schema.validate(df))"
   ]
  },
  {
   "attachments": {},
   "cell_type": "markdown",
   "metadata": {},
   "source": [
    "*(New in 0.6.2)* The alias is respected when using the class attribute to get the underlying `pd.DataFrame` column name or index level name."
   ]
  },
  {
   "cell_type": "code",
   "execution_count": 36,
   "metadata": {},
   "outputs": [
    {
     "name": "stdout",
     "output_type": "stream",
     "text": [
      "2020\n"
     ]
    }
   ],
   "source": [
    "print(Schema.col_2020)\n",
    "\n",
    "# Will show the alias: 2020"
   ]
  },
  {
   "attachments": {},
   "cell_type": "markdown",
   "metadata": {},
   "source": [
    "Very similar to the example above, you can also use the variable name directly within the class scope, and it will respect the alias.\n",
    "\n",
    "ℹ️ Note. To access a variable from the class scope, you need to make it a class attribute, and therefore assign it a default `Field`."
   ]
  },
  {
   "cell_type": "code",
   "execution_count": 37,
   "metadata": {},
   "outputs": [
    {
     "name": "stdout",
     "output_type": "stream",
     "text": [
      "   2020    a\n",
      "0    99  101\n"
     ]
    }
   ],
   "source": [
    "import pandera as pa\n",
    "import pandas as pd\n",
    "\n",
    "\n",
    "class Schema(pa.SchemaModel):\n",
    "    a: pa.typing.Series[int] = pa.Field()\n",
    "    col_2020: pa.typing.Series[int] = pa.Field(alias=2020)\n",
    "\n",
    "    @pa.check(col_2020)\n",
    "    def int_column_lt_100(cls, series):\n",
    "        return series < 100\n",
    "\n",
    "    @pa.check(a)\n",
    "    def int_column_gt_100(cls, series):\n",
    "        return series > 100\n",
    "\n",
    "\n",
    "df = pd.DataFrame({2020: [99], \"a\": [101]})\n",
    "print(Schema.validate(df))"
   ]
  }
 ],
 "metadata": {
  "kernelspec": {
   "display_name": "learn_py38_pandera",
   "language": "python",
   "name": "python3"
  },
  "language_info": {
   "codemirror_mode": {
    "name": "ipython",
    "version": 3
   },
   "file_extension": ".py",
   "mimetype": "text/x-python",
   "name": "python",
   "nbconvert_exporter": "python",
   "pygments_lexer": "ipython3",
   "version": "3.8.15"
  },
  "orig_nbformat": 4,
  "vscode": {
   "interpreter": {
    "hash": "d04adb6128c0e7f0210d38b3bb730109356ca8c5dadd5211bc2bc571a84fe032"
   }
  }
 },
 "nbformat": 4,
 "nbformat_minor": 2
}
