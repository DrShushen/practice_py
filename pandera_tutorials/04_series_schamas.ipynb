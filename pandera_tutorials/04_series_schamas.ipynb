{
 "cells": [
  {
   "attachments": {},
   "cell_type": "markdown",
   "metadata": {},
   "source": [
    "Following [this](https://pandera.readthedocs.io/en/stable/series_schemas.html)"
   ]
  },
  {
   "attachments": {},
   "cell_type": "markdown",
   "metadata": {},
   "source": [
    "## Series Schemas\n",
    "\n",
    "The [`SeriesSchema`](https://pandera.readthedocs.io/en/stable/reference/generated/pandera.schemas.SeriesSchema.html#pandera.schemas.SeriesSchema)\n",
    "class allows for the **validation of pandas `Series` objects**, \n",
    "and are **very similar to [columns](https://pandera.readthedocs.io/en/stable/dataframe_schemas.html#column) and [indexes](https://pandera.readthedocs.io/en/stable/dataframe_schemas.html#index) described in [`DataFrameSchemas`](https://pandera.readthedocs.io/en/stable/dataframe_schemas.html#dataframeschemas)**."
   ]
  },
  {
   "cell_type": "code",
   "execution_count": 1,
   "metadata": {},
   "outputs": [
    {
     "name": "stdout",
     "output_type": "stream",
     "text": [
      "0    foobar\n",
      "1    foobar\n",
      "2    foobar\n",
      "Name: my_series, dtype: object\n"
     ]
    }
   ],
   "source": [
    "import pandas as pd\n",
    "import pandera as pa\n",
    "\n",
    "\n",
    "# specify multiple validators\n",
    "schema = pa.SeriesSchema(  # NOTE.\n",
    "    str,\n",
    "    checks=[\n",
    "        pa.Check(lambda s: s.str.startswith(\"foo\")),\n",
    "        pa.Check(lambda s: s.str.endswith(\"bar\")),\n",
    "        pa.Check(lambda x: len(x) > 3, element_wise=True),\n",
    "    ],\n",
    "    nullable=False,\n",
    "    unique=False,\n",
    "    name=\"my_series\",\n",
    ")\n",
    "\n",
    "validated_series = schema.validate(pd.Series([\"foobar\", \"foobar\", \"foobar\"], name=\"my_series\"))\n",
    "print(validated_series)"
   ]
  }
 ],
 "metadata": {
  "kernelspec": {
   "display_name": "learn_py38_pandera",
   "language": "python",
   "name": "python3"
  },
  "language_info": {
   "codemirror_mode": {
    "name": "ipython",
    "version": 3
   },
   "file_extension": ".py",
   "mimetype": "text/x-python",
   "name": "python",
   "nbconvert_exporter": "python",
   "pygments_lexer": "ipython3",
   "version": "3.8.15"
  },
  "orig_nbformat": 4,
  "vscode": {
   "interpreter": {
    "hash": "d04adb6128c0e7f0210d38b3bb730109356ca8c5dadd5211bc2bc571a84fe032"
   }
  }
 },
 "nbformat": 4,
 "nbformat_minor": 2
}
