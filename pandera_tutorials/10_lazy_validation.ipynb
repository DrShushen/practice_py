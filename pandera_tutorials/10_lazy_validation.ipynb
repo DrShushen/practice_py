{
 "cells": [
  {
   "attachments": {},
   "cell_type": "markdown",
   "metadata": {},
   "source": [
    "Following [this](https://pandera.readthedocs.io/en/stable/lazy_validation.html)"
   ]
  },
  {
   "attachments": {},
   "cell_type": "markdown",
   "metadata": {},
   "source": [
    "# Lazy Validation\n",
    "\n",
    "*New in version 0.4.0*\n",
    "\n",
    "By default, when you call the validate method on schema or schema component objects, a `SchemaError` is raised\n",
    "as soon as *one* of the assumptions specified in the schema is falsified.\n",
    "\n",
    "For example, for a `DataFrameSchema` object, the following situations will raise an exception:\n",
    "* a column specified in the schema is not present in the dataframe.\n",
    "* if `strict=True`, a column in the dataframe is not specified in the schema.\n",
    "* the data type does not match.\n",
    "* if `coerce=True`, the dataframe column cannot be coerced into the specified data type.\n",
    "* the `Check` specified in one of the columns returns `False` or a boolean series containing at least one `False` value.\n",
    "\n",
    "For example:"
   ]
  },
  {
   "cell_type": "code",
   "execution_count": 1,
   "metadata": {},
   "outputs": [
    {
     "name": "stdout",
     "output_type": "stream",
     "text": [
      "SchemaError\n",
      "expected series 'column' to have type int64, got object\n"
     ]
    }
   ],
   "source": [
    "import pandas as pd\n",
    "import pandera as pa\n",
    "\n",
    "from pandera import Check, Column, DataFrameSchema\n",
    "\n",
    "df = pd.DataFrame({\"column\": [\"a\", \"b\", \"c\"]})\n",
    "\n",
    "schema = pa.DataFrameSchema({\"column\": Column(int)})\n",
    "\n",
    "try:\n",
    "    schema.validate(df)\n",
    "except pa.errors.SchemaError as e:\n",
    "    print(e.__class__.__name__)\n",
    "    print(e)"
   ]
  },
  {
   "attachments": {},
   "cell_type": "markdown",
   "metadata": {},
   "source": [
    "For more complex cases, *it is useful to see all of the errors raised during the validate call* so that you can\n",
    "debug the causes of errors on different columns and checks.\n",
    "\n",
    "The `lazy` keyword argument in the `validate` method of all schemas and schema components gives you the option of doing just this:"
   ]
  },
  {
   "cell_type": "code",
   "execution_count": 3,
   "metadata": {},
   "outputs": [
    {
     "name": "stdout",
     "output_type": "stream",
     "text": [
      "SchemaErrors\n",
      "Schema None: A total of 6 schema errors were found.\n",
      "\n",
      "Error Counts\n",
      "------------\n",
      "- column_not_in_schema: 1\n",
      "- column_not_in_dataframe: 1\n",
      "- schema_component_check: 4\n",
      "\n",
      "Schema Error Summary\n",
      "--------------------\n",
      "                                                     failure_cases  n_failure_cases\n",
      "schema_context  column       check                                                 \n",
      "DataFrameSchema <NA>         column_in_dataframe     [date_column]                1\n",
      "                             column_in_schema     [unknown_column]                1\n",
      "Column          float_column dtype('float64')              [int64]                1\n",
      "                             greater_than(0)                   [0]                1\n",
      "                int_column   dtype('int64')               [object]                1\n",
      "                str_column   equal_to(a)                    [b, d]                2\n",
      "\n",
      "Usage Tip\n",
      "---------\n",
      "\n",
      "Directly inspect all errors by catching the exception:\n",
      "\n",
      "```\n",
      "try:\n",
      "    schema.validate(dataframe, lazy=True)\n",
      "except SchemaErrors as err:\n",
      "    err.failure_cases  # dataframe of schema errors\n",
      "    err.data  # invalid dataframe\n",
      "```\n",
      "\n"
     ]
    }
   ],
   "source": [
    "import pandas as pd\n",
    "import pandera as pa\n",
    "\n",
    "from pandera import Check, Column, DataFrameSchema\n",
    "\n",
    "schema = pa.DataFrameSchema(\n",
    "    columns={\n",
    "        \"int_column\": Column(int),\n",
    "        \"float_column\": Column(float, Check.greater_than(0)),\n",
    "        \"str_column\": Column(str, Check.equal_to(\"a\")),\n",
    "        \"date_column\": Column(pa.DateTime),\n",
    "    },\n",
    "    strict=True,\n",
    ")\n",
    "\n",
    "df = pd.DataFrame(\n",
    "    {\n",
    "        \"int_column\": [\"a\", \"b\", \"c\"],\n",
    "        \"float_column\": [0, 1, 2],\n",
    "        \"str_column\": [\"a\", \"b\", \"d\"],\n",
    "        \"unknown_column\": None,\n",
    "    }\n",
    ")\n",
    "\n",
    "try:\n",
    "    schema.validate(df, lazy=True)  # NOTE: lazy=True [🤔 IMO, shouldn't this be False? Anyway...]\n",
    "except pa.errors.SchemaErrors as e:  # NOTE: SchemaError*s*\n",
    "    print(e.__class__.__name__)\n",
    "    print(e)"
   ]
  },
  {
   "attachments": {},
   "cell_type": "markdown",
   "metadata": {},
   "source": [
    "As you can see from the output above, a [`SchemaErrors`](https://pandera.readthedocs.io/en/stable/reference/generated/pandera.errors.SchemaErrors.html#pandera.errors.SchemaErrors)\n",
    "exception is raised with a summary of the error counts and failure cases caught by the schema.\n",
    "\n",
    "You can also see from the Usage Tip that you can catch these errors and inspect the failure cases in a more granular form:"
   ]
  },
  {
   "cell_type": "code",
   "execution_count": 4,
   "metadata": {},
   "outputs": [
    {
     "name": "stdout",
     "output_type": "stream",
     "text": [
      "Schema errors and failure cases:\n",
      "    schema_context        column                check check_number  \\\n",
      "0  DataFrameSchema          None     column_in_schema         None   \n",
      "1  DataFrameSchema          None  column_in_dataframe         None   \n",
      "2           Column    int_column       dtype('int64')         None   \n",
      "3           Column  float_column     dtype('float64')         None   \n",
      "4           Column  float_column      greater_than(0)            0   \n",
      "5           Column    str_column          equal_to(a)            0   \n",
      "6           Column    str_column          equal_to(a)            0   \n",
      "\n",
      "     failure_case index  \n",
      "0  unknown_column  None  \n",
      "1     date_column  None  \n",
      "2          object  None  \n",
      "3           int64  None  \n",
      "4               0     0  \n",
      "5               b     1  \n",
      "6               d     2  \n",
      "\n",
      "DataFrame object that failed validation:\n",
      "  int_column  float_column str_column unknown_column\n",
      "0          a             0          a           None\n",
      "1          b             1          b           None\n",
      "2          c             2          d           None\n"
     ]
    }
   ],
   "source": [
    "try:\n",
    "    schema.validate(df, lazy=True)\n",
    "except pa.errors.SchemaErrors as err:\n",
    "    print(\"Schema errors and failure cases:\")\n",
    "    print(err.failure_cases)\n",
    "    print(\"\\nDataFrame object that failed validation:\")\n",
    "    print(err.data)"
   ]
  }
 ],
 "metadata": {
  "kernelspec": {
   "display_name": "learn_py38_pandera",
   "language": "python",
   "name": "python3"
  },
  "language_info": {
   "codemirror_mode": {
    "name": "ipython",
    "version": 3
   },
   "file_extension": ".py",
   "mimetype": "text/x-python",
   "name": "python",
   "nbconvert_exporter": "python",
   "pygments_lexer": "ipython3",
   "version": "3.8.15"
  },
  "orig_nbformat": 4,
  "vscode": {
   "interpreter": {
    "hash": "d04adb6128c0e7f0210d38b3bb730109356ca8c5dadd5211bc2bc571a84fe032"
   }
  }
 },
 "nbformat": 4,
 "nbformat_minor": 2
}
