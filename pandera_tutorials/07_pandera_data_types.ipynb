{
 "cells": [
  {
   "attachments": {},
   "cell_type": "markdown",
   "metadata": {},
   "source": [
    "Following [this](https://pandera.readthedocs.io/en/stable/dtypes.html)"
   ]
  },
  {
   "attachments": {},
   "cell_type": "markdown",
   "metadata": {},
   "source": [
    "# Pandera Data Types\n",
    "\n",
    "*new in 0.7.0*\n",
    "\n",
    "> ⚠️ Tricky"
   ]
  },
  {
   "attachments": {},
   "cell_type": "markdown",
   "metadata": {},
   "source": [
    "## Motivations\n",
    "\n",
    "ℹ️ Pandera **defines its own interface for data types** in order to abstract the specifics of dataframe-like data\n",
    "structures in the python ecosystem, such as Apache Spark, Apache Arrow and xarray.\n",
    "\n",
    "**❗ Terminology:**\n",
    "\n",
    "In the following section:\n",
    "* *Pandera Data Type* refers to a `pandera.dtypes.DataType` object\n",
    "* whereas *native data type* refers to data types used by third-party libraries that Pandera supports (e.g. `pandas`).\n",
    "\n",
    "Most of the time, it is transparent to end users since pandera columns and indexes accept native data types.\n",
    "\n",
    "However, it is possible to *extend* the pandera interface by:\n",
    "* modifying the **data type check** performed during schema validation.\n",
    "* modifying the behavior of the `coerce` argument for `DataFrameSchema`.\n",
    "* adding your **own custom data types**.\n"
   ]
  },
  {
   "attachments": {},
   "cell_type": "markdown",
   "metadata": {},
   "source": [
    "## DataType basics\n",
    "\n",
    "All pandera data types inherit from [`pandera.dtypes.DataType`](https://pandera.readthedocs.io/en/stable/reference/generated/pandera.dtypes.DataType.html#pandera.dtypes.DataType)\n",
    "and **must be hashable**.\n",
    "\n",
    "A data type implements *three* key methods:\n",
    "* [`pandera.dtypes.DataType.check()`](https://pandera.readthedocs.io/en/stable/reference/generated/methods/pandera.dtypes.DataType.check.html#pandera.dtypes.DataType.check)\n",
    "which validates that data types are equivalent.\n",
    "* [`pandera.dtypes.DataType.coerce()`](https://pandera.readthedocs.io/en/stable/reference/generated/methods/pandera.dtypes.DataType.coerce.html#pandera.dtypes.DataType.coerce)\n",
    "which coerces a data container (e.g. `pandas.Series`) to the data type.\n",
    "* The dunder method `__str__()` which should output the native alias. For example `str(pandera.Float64) == \"float64\"`\n",
    "\n",
    "For pandera’s validation methods to be aware of a data type, it has to be **registered** with the *targeted engine* via\n",
    "[`pandera.engines.engine.Engine.register_dtype()`](https://pandera.readthedocs.io/en/stable/reference/generated/methods/pandera.engines.engine.Engine.register_dtype.html#pandera.engines.engine.Engine.register_dtype).\n",
    "\n",
    "An engine is in charge of mapping a pandera [`DataType`](https://pandera.readthedocs.io/en/stable/reference/generated/pandera.dtypes.DataType.html#pandera.dtypes.DataType)\n",
    "with a native data type counterpart belonging to a third-party library.\n",
    "\n",
    "The mapping can be queried with [`pandera.engines.engine.Engine.dtype()`](https://pandera.readthedocs.io/en/stable/reference/generated/methods/pandera.engines.engine.Engine.dtype.html#pandera.engines.engine.Engine.dtype).\n",
    "\n",
    "> As of pandera *0.7.0*, only the pandas `Engine` is supported."
   ]
  },
  {
   "attachments": {},
   "cell_type": "markdown",
   "metadata": {},
   "source": [
    "### Example\n",
    "\n",
    "> ℹ️ Potentially very useful for my use cases!\n",
    "\n",
    "Let’s extend `pandas.BooleanDtype` coercion to handle the string literals `\"True\"` and `\"False\"`.\n"
   ]
  },
  {
   "cell_type": "code",
   "execution_count": 4,
   "metadata": {},
   "outputs": [
    {
     "name": "stdout",
     "output_type": "stream",
     "text": [
      "0     True\n",
      "1    False\n",
      "Name: literal_bools, dtype: object\n",
      "\n",
      "boolean\n"
     ]
    }
   ],
   "source": [
    "import pandas as pd\n",
    "import pandera as pa\n",
    "from pandera import dtypes\n",
    "from pandera.engines import pandas_engine\n",
    "\n",
    "\n",
    "@pandas_engine.Engine.register_dtype  # NOTE: step 1\n",
    "@dtypes.immutable  # NOTE: step 2\n",
    "class LiteralBool(pandas_engine.BOOL):  # NOTE: step 3\n",
    "    def coerce(self, series: pd.Series) -> pd.Series:  # NOTE: Here we're setting up `coerce`.\n",
    "        \"\"\"Coerce a pandas.Series to boolean types.\"\"\"\n",
    "        if pd.api.types.is_string_dtype(series):\n",
    "            series = series.replace({\"True\": 1, \"False\": 0})\n",
    "        return series.astype(\"boolean\")\n",
    "\n",
    "\n",
    "data = pd.Series([\"True\", \"False\"], name=\"literal_bools\")\n",
    "print(data)\n",
    "print()\n",
    "\n",
    "# step 4\n",
    "print(pa.SeriesSchema(LiteralBool(), coerce=True, name=\"literal_bools\").validate(data).dtype)"
   ]
  },
  {
   "attachments": {},
   "cell_type": "markdown",
   "metadata": {},
   "source": [
    "> [❗] Note the below very carefully!\n",
    "\n",
    "The example above performs the following steps:\n",
    "* Register the data type with the pandas engine.\n",
    "* [❗] [`pandera.dtypes.immutable()`](https://pandera.readthedocs.io/en/stable/reference/generated/pandera.dtypes.immutable.html#pandera.dtypes.immutable)\n",
    "creates an **immutable** (and **hashable**) `dataclass()`.\n",
    "* [❗] Inherit `pandera.engines.pandas_engine.BOOL`, which is **the `pandera` representation of `pandas.BooleanDtype`**.\n",
    "This is not mandatory **but it makes our life easier by having already implemented *all the required methods***.\n",
    "* Check that our new data type can coerce the string literals.\n",
    "\n",
    "So far we did not override the default behavior:"
   ]
  },
  {
   "cell_type": "code",
   "execution_count": 5,
   "metadata": {},
   "outputs": [
    {
     "name": "stdout",
     "output_type": "stream",
     "text": [
      "0     True\n",
      "1    False\n",
      "Name: literal_bools, dtype: object\n",
      "\n",
      "Error while coercing 'None' to type boolean: Could not coerce <class 'pandas.core.series.Series'> data_container into type boolean:\n",
      "   index failure_case\n",
      "0      0         True\n",
      "1      1        False\n"
     ]
    }
   ],
   "source": [
    "import pandera as pa\n",
    "\n",
    "print(data)\n",
    "print()\n",
    "\n",
    "try:\n",
    "    pa.SeriesSchema(\"boolean\", coerce=True).validate(data)\n",
    "except Exception as e:\n",
    "    print(e)"
   ]
  },
  {
   "attachments": {},
   "cell_type": "markdown",
   "metadata": {},
   "source": [
    "⚠️ To **completely replace the default `BOOL`**, we need to supply all the **`equivalent` representations** to `register_dtype()`.\n",
    "\n",
    "How does it work?:\n",
    "\n",
    "Behind the scenes, when `pa.SeriesSchema(\"boolean\")` is called the corresponding pandera data type is looked up using `pandera.engines.engine.Engine.dtype()`."
   ]
  },
  {
   "cell_type": "code",
   "execution_count": 12,
   "metadata": {},
   "outputs": [
    {
     "name": "stdout",
     "output_type": "stream",
     "text": [
      "before: <class '__main__.LiteralBool'>\n",
      "after: <class '__main__.LiteralBool'>\n",
      "\n",
      "0     True\n",
      "1    False\n",
      "Name: literal_bools, dtype: object\n"
     ]
    }
   ],
   "source": [
    "print(f\"before: {pandas_engine.Engine.dtype('boolean').__class__}\")\n",
    "\n",
    "\n",
    "@pandas_engine.Engine.register_dtype(\n",
    "    equivalents=[\"boolean\", pd.BooleanDtype, pd.BooleanDtype()],  # NOTE equivalents\n",
    ")\n",
    "@dtypes.immutable\n",
    "class LiteralBool(pandas_engine.BOOL):  # As before...\n",
    "    def coerce(self, series: pd.Series) -> pd.Series:\n",
    "        \"\"\"Coerce a pandas.Series to boolean types.\"\"\"\n",
    "        if pd.api.types.is_string_dtype(series):\n",
    "            series = series.replace({\"True\": 1, \"False\": 0})\n",
    "        return series.astype(\"boolean\")\n",
    "\n",
    "\n",
    "print(f\"after: {pandas_engine.Engine.dtype('boolean').__class__}\")\n",
    "\n",
    "print()\n",
    "print(data)\n",
    "\n",
    "for dtype in [\"boolean\", pd.BooleanDtype, pd.BooleanDtype()]:\n",
    "    pa.SeriesSchema(dtype, coerce=True).validate(data)\n",
    "\n",
    "\"\"\"\n",
    "before: <class 'pandera.engines.pandas_engine.BOOL'>\n",
    "after: <class 'LiteralBool'>\n",
    "\"\"\";\n",
    "\n",
    "\n",
    "# NOTE:\n",
    "# So what now happens in this example is that a the data represented with \"True\" \"False\" strings is successfully\n",
    "# COERCED to the standard bool representation!"
   ]
  },
  {
   "attachments": {},
   "cell_type": "markdown",
   "metadata": {},
   "source": [
    "> ℹ️ For convenience, we specified both `pd.BooleanDtype` and `pd.BooleanDtype()` as equivalents.\n",
    ">\n",
    "> That gives us more flexibility in what pandera schemas can recognize (see last for-loop above)."
   ]
  },
  {
   "attachments": {},
   "cell_type": "markdown",
   "metadata": {},
   "source": [
    "### Parametrized data types\n",
    "\n",
    "> ⚠️ Tricky\n",
    "\n",
    "Some data types can be **parametrized**. One common example is `pandas.CategoricalDtype`.\n",
    "\n",
    "The `equivalents` argument of `register_dtype()` does not handle this situation but will automatically register\n",
    "a `classmethod()` with signature `from_parametrized_dtype(cls, equivalent:...)` if the decorated `DataType` defines it.\n",
    "\n",
    "The `equivalent` argument **must be type-annotated** because it is leveraged to dispatch the input of dtype to the\n",
    "appropriate `from_parametrized_dtype` class method.\n",
    "\n",
    "For example, here is a snippet from `pandera.engines.pandas_engine.Category`:\n"
   ]
  },
  {
   "cell_type": "code",
   "execution_count": 13,
   "metadata": {},
   "outputs": [],
   "source": [
    "from typing import Union\n",
    "\n",
    "import pandas as pd\n",
    "from pandera import dtypes\n",
    "\n",
    "\n",
    "@classmethod\n",
    "def from_parametrized_dtype(cls, cat: Union[dtypes.Category, pd.CategoricalDtype]):\n",
    "    \"\"\"Convert a categorical to\n",
    "    a Pandera :class:`pandera.dtypes.pandas_engine.Category`.\"\"\"\n",
    "    return cls(categories=cat.categories, ordered=cat.ordered)  # type: ignore"
   ]
  },
  {
   "attachments": {},
   "cell_type": "markdown",
   "metadata": {},
   "source": [
    "> **Note**\n",
    ">\n",
    "> The dispatch mechanism relies on `functools.singledispatch()`.\n",
    "> \n",
    "> Unlike the built-in implementation, `typing.Union` is recognized."
   ]
  },
  {
   "attachments": {},
   "cell_type": "markdown",
   "metadata": {},
   "source": [
    "### Defining the `coerce_value` method\n",
    "\n",
    "For pandera datatypes to understand how to correctly report coercion errors, it needs to know how to coerce an individual value into the specified type.\n",
    "\n",
    "All `pandas` data types are supported: `numpy` -based datatypes use the *underlying numpy `dtype`* to coerce an individual value.\n",
    "\n",
    "The `pandas`-native datatypes like `CategoricalDtype` and `BooleanDtype` are also supported.\n",
    "\n",
    "As an example of a special-cased `coerce_value` implementation, see the source code for\n",
    "[`pandera.engines.pandas_engine.Category.coerce_value()`](https://pandera.readthedocs.io/en/stable/reference/generated/methods/pandera.engines.pandas_engine.Category.coerce_value.html#pandera.engines.pandas_engine.Category.coerce_value):"
   ]
  },
  {
   "cell_type": "code",
   "execution_count": 15,
   "metadata": {},
   "outputs": [],
   "source": [
    "from typing import Any\n",
    "\n",
    "\n",
    "def coerce_value(self, value: Any) -> Any:\n",
    "    \"\"\"Coerce an value to a particular type.\"\"\"\n",
    "    if value not in self.categories:  # type: ignore\n",
    "        raise TypeError(f\"value {value} cannot be coerced to type {self.type}\")\n",
    "    return value"
   ]
  },
  {
   "attachments": {},
   "cell_type": "markdown",
   "metadata": {},
   "source": [
    "### Logical data types\n",
    "\n",
    "Taking inspiration from the [visions project](https://dylan-profiler.github.io/visions/visions/background/data_type_view.html#decoupling-physical-and-logical-types),\n",
    "pandera provides an interface for defining **logical data types**.\n",
    "\n",
    "Physical types represent the actual, underlying representation of the data. e.g.: `Int8`, `Float32`, `String`, etc.,\n",
    "whereas *logical* types represent the **abstracted understanding of that data**. e.g.: `IPs`, `URLs`, `paths`, etc.\n",
    "\n",
    "Validating a *logical* data type consists of:\n",
    "* validating the supporting physical data type (see [Motivations](https://pandera.readthedocs.io/en/stable/dtypes.html#dtypes-intro)) and\n",
    "* a check on actual values.\n",
    "\n",
    "For example, an IP address data type would validate that:\n",
    "* The data container type is a `String`.\n",
    "* The actual values are well-formed addresses.\n",
    "\n",
    "💡 Non-native Pandas dtype can also be wrapped in a `numpy.object_` and verified using the data, since the `object`\n",
    "dtype alone is *not enough to verify the correctness*. \n",
    "An example would be the standard [`decimal.Decimal`](https://docs.python.org/3/library/decimal.html#decimal.Decimal)\n",
    "class that can be validated via the pandera `DataType` [`Decimal`](https://pandera.readthedocs.io/en/stable/reference/generated/pandera.dtypes.Decimal.html#pandera.dtypes.Decimal).\n",
    "\n",
    "To implement a logical data type, you just need to:\n",
    "* implement the method [`pandera.dtypes.DataType.check()`](https://pandera.readthedocs.io/en/stable/reference/generated/methods/pandera.dtypes.DataType.check.html#pandera.dtypes.DataType.check) and\n",
    "* make use of the `data_container` argument to perform checks on the values of the data.\n",
    "\n",
    "**For example**, you can create an `IPAddress` datatype that inherits from the numpy `string` physical type,\n",
    "thereby storing the values as strings, and checks whether the values actually match an IP address regular expression."
   ]
  },
  {
   "cell_type": "code",
   "execution_count": 17,
   "metadata": {},
   "outputs": [
    {
     "data": {
      "text/html": [
       "<div>\n",
       "<style scoped>\n",
       "    .dataframe tbody tr th:only-of-type {\n",
       "        vertical-align: middle;\n",
       "    }\n",
       "\n",
       "    .dataframe tbody tr th {\n",
       "        vertical-align: top;\n",
       "    }\n",
       "\n",
       "    .dataframe thead th {\n",
       "        text-align: right;\n",
       "    }\n",
       "</style>\n",
       "<table border=\"1\" class=\"dataframe\">\n",
       "  <thead>\n",
       "    <tr style=\"text-align: right;\">\n",
       "      <th></th>\n",
       "      <th>ips</th>\n",
       "    </tr>\n",
       "  </thead>\n",
       "  <tbody>\n",
       "    <tr>\n",
       "      <th>0</th>\n",
       "      <td>0.0.0.0</td>\n",
       "    </tr>\n",
       "    <tr>\n",
       "      <th>1</th>\n",
       "      <td>0.0.0.1</td>\n",
       "    </tr>\n",
       "    <tr>\n",
       "      <th>2</th>\n",
       "      <td>0.0.0.a</td>\n",
       "    </tr>\n",
       "  </tbody>\n",
       "</table>\n",
       "</div>"
      ],
      "text/plain": [
       "       ips\n",
       "0  0.0.0.0\n",
       "1  0.0.0.1\n",
       "2  0.0.0.a"
      ]
     },
     "metadata": {},
     "output_type": "display_data"
    },
    {
     "name": "stdout",
     "output_type": "stream",
     "text": [
      "expected series 'ips' to have type IPAddress:\n",
      "failure cases:\n",
      "   index failure_case\n",
      "0      2      0.0.0.a\n"
     ]
    }
   ],
   "source": [
    "import re\n",
    "from typing import Optional, Iterable, Union\n",
    "\n",
    "\n",
    "@pandas_engine.Engine.register_dtype\n",
    "@dtypes.immutable\n",
    "class IPAddress(pandas_engine.NpString):\n",
    "\n",
    "    # NOTE: This implementation.\n",
    "    def check(\n",
    "        self,\n",
    "        pandera_dtype: dtypes.DataType,\n",
    "        data_container: Optional[pd.Series] = None,\n",
    "    ) -> Union[bool, Iterable[bool]]:\n",
    "\n",
    "        # ensure that the data container's data type is a string,\n",
    "        # using the parent class's check implementation\n",
    "        correct_type = super().check(pandera_dtype)\n",
    "        if not correct_type:\n",
    "            return correct_type\n",
    "\n",
    "        # ensure the filepaths actually exist locally\n",
    "        exp = re.compile(r\"(\\d{1,3}\\.\\d{1,3}\\.\\d{1,3}\\.\\d{1,3})\")\n",
    "        return data_container.map(lambda x: exp.match(x) is not None)  # pyright: ignore\n",
    "\n",
    "    def __str__(self) -> str:\n",
    "        return str(self.__class__.__name__)\n",
    "\n",
    "    def __repr__(self) -> str:\n",
    "        return f\"DataType({self})\"\n",
    "\n",
    "\n",
    "schema = pa.DataFrameSchema(columns={\"ips\": pa.Column(IPAddress)})\n",
    "\n",
    "df = pd.DataFrame({\"ips\": [\"0.0.0.0\", \"0.0.0.1\", \"0.0.0.a\"]})\n",
    "display(df)\n",
    "\n",
    "try:\n",
    "    schema.validate(df)\n",
    "except Exception as e:\n",
    "    print(e)"
   ]
  },
  {
   "cell_type": "code",
   "execution_count": null,
   "metadata": {},
   "outputs": [],
   "source": []
  }
 ],
 "metadata": {
  "kernelspec": {
   "display_name": "learn_py38_pandera",
   "language": "python",
   "name": "python3"
  },
  "language_info": {
   "codemirror_mode": {
    "name": "ipython",
    "version": 3
   },
   "file_extension": ".py",
   "mimetype": "text/x-python",
   "name": "python",
   "nbconvert_exporter": "python",
   "pygments_lexer": "ipython3",
   "version": "3.8.15"
  },
  "orig_nbformat": 4,
  "vscode": {
   "interpreter": {
    "hash": "d04adb6128c0e7f0210d38b3bb730109356ca8c5dadd5211bc2bc571a84fe032"
   }
  }
 },
 "nbformat": 4,
 "nbformat_minor": 2
}
