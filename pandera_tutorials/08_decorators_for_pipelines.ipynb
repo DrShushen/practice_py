{
 "cells": [
  {
   "attachments": {},
   "cell_type": "markdown",
   "metadata": {},
   "source": [
    "Following [this](https://pandera.readthedocs.io/en/stable/decorators.html)"
   ]
  },
  {
   "attachments": {},
   "cell_type": "markdown",
   "metadata": {},
   "source": [
    "# Decorators for Pipeline Integration\n",
    "\n",
    "If you have an existing data pipeline that uses `pandas` data structures,\n",
    "you can use the `check_input()` and `check_output()` decorators to easily check function arguments or returned variables\n",
    "from existing functions."
   ]
  },
  {
   "attachments": {},
   "cell_type": "markdown",
   "metadata": {},
   "source": [
    "### Check Input\n",
    "\n",
    "Validates input `pandas` DataFrame/Series before entering the wrapped function."
   ]
  },
  {
   "cell_type": "code",
   "execution_count": 1,
   "metadata": {},
   "outputs": [
    {
     "name": "stdout",
     "output_type": "stream",
     "text": [
      "   column1  column2  column3\n",
      "0        1     -1.3     -0.3\n",
      "1        4     -1.4      2.6\n",
      "2        0     -2.9     -2.9\n",
      "3       10    -10.1     -0.1\n",
      "4        9    -20.4    -11.4\n"
     ]
    }
   ],
   "source": [
    "import pandas as pd\n",
    "import pandera as pa\n",
    "\n",
    "from pandera import DataFrameSchema, Column, Check, check_input  # NOTE.\n",
    "\n",
    "\n",
    "df = pd.DataFrame(\n",
    "    {\n",
    "        \"column1\": [1, 4, 0, 10, 9],\n",
    "        \"column2\": [-1.3, -1.4, -2.9, -10.1, -20.4],\n",
    "    }\n",
    ")\n",
    "\n",
    "in_schema = DataFrameSchema(\n",
    "    {\n",
    "        \"column1\": Column(int, Check(lambda x: 0 <= x <= 10, element_wise=True)),\n",
    "        \"column2\": Column(float, Check(lambda x: x < -1.2)),\n",
    "    }\n",
    ")\n",
    "\n",
    "# NOTE:\n",
    "# by default, check_input assumes that the *first argument* is\n",
    "# dataframe/series.\n",
    "@check_input(in_schema)\n",
    "def preprocessor(dataframe):\n",
    "    dataframe[\"column3\"] = dataframe[\"column1\"] + dataframe[\"column2\"]\n",
    "    return dataframe\n",
    "\n",
    "\n",
    "preprocessed_df = preprocessor(df)\n",
    "\n",
    "print(preprocessed_df)"
   ]
  },
  {
   "attachments": {},
   "cell_type": "markdown",
   "metadata": {},
   "source": [
    "You can also provide the *argument name as a string*\n",
    "```python\n",
    "@check_input(in_schema, \"dataframe\")\n",
    "def preprocessor(dataframe):\n",
    "    ...\n",
    "```\n",
    "\n",
    "Or an *integer representing the index in the positional arguments*.\n",
    "```python\n",
    "@check_input(in_schema, 1)\n",
    "def preprocessor(foo, dataframe):\n",
    "    ...\n",
    "```"
   ]
  },
  {
   "attachments": {},
   "cell_type": "markdown",
   "metadata": {},
   "source": [
    "### Check Output\n",
    "\n",
    "The same as `check_input`, but this decorator checks the output DataFrame/Series of the decorated function."
   ]
  },
  {
   "cell_type": "code",
   "execution_count": 2,
   "metadata": {},
   "outputs": [
    {
     "data": {
      "text/plain": [
       "('foobar',\n",
       " {'out_df':    column1\n",
       "  0        0\n",
       "  1        0\n",
       "  2        0\n",
       "  3        0\n",
       "  4        0})"
      ]
     },
     "execution_count": 2,
     "metadata": {},
     "output_type": "execute_result"
    }
   ],
   "source": [
    "import pandas as pd\n",
    "import pandera as pa\n",
    "\n",
    "from pandera import DataFrameSchema, Column, Check, check_output\n",
    "\n",
    "\n",
    "preprocessed_df = pd.DataFrame(\n",
    "    {\n",
    "        \"column1\": [1, 4, 0, 10, 9],\n",
    "    }\n",
    ")\n",
    "\n",
    "# assert that all elements in \"column1\" are zero\n",
    "out_schema = DataFrameSchema({\"column1\": Column(int, Check(lambda x: x == 0))})\n",
    "\n",
    "\n",
    "# by default assumes that the pandas DataFrame/Schema is the *only output*\n",
    "@check_output(out_schema)\n",
    "def zero_column_1(df):\n",
    "    df[\"column1\"] = 0\n",
    "    return df\n",
    "\n",
    "\n",
    "# Or...\n",
    "# you can also specify in the index of the argument if the output is list-like\n",
    "@check_output(out_schema, 1)\n",
    "def zero_column_1_arg(df):\n",
    "    df[\"column1\"] = 0\n",
    "    return \"foobar\", df\n",
    "\n",
    "\n",
    "# Or...\n",
    "# or the key containing the data structure to verify if the output is dict-like\n",
    "@check_output(out_schema, \"out_df\")\n",
    "def zero_column_1_dict(df):\n",
    "    df[\"column1\"] = 0\n",
    "    return {\"out_df\": df, \"out_str\": \"foobar\"}\n",
    "\n",
    "\n",
    "# Or...\n",
    "# for more complex outputs, you can specify a function\n",
    "@check_output(out_schema, lambda x: x[1][\"out_df\"])\n",
    "def zero_column_1_custom(df):\n",
    "    df[\"column1\"] = 0\n",
    "    return (\"foobar\", {\"out_df\": df})\n",
    "\n",
    "\n",
    "zero_column_1(preprocessed_df)\n",
    "zero_column_1_arg(preprocessed_df)\n",
    "zero_column_1_dict(preprocessed_df)\n",
    "zero_column_1_custom(preprocessed_df)"
   ]
  },
  {
   "attachments": {},
   "cell_type": "markdown",
   "metadata": {},
   "source": [
    "## Check IO\n",
    "\n",
    "> As in, both combined.\n",
    "\n",
    "For convenience, you can also use the `check_io()` decorator where you can specify input and output schemas more concisely:"
   ]
  },
  {
   "cell_type": "code",
   "execution_count": 3,
   "metadata": {},
   "outputs": [
    {
     "name": "stdout",
     "output_type": "stream",
     "text": [
      "   column1  column2  column3\n",
      "0        2     -2.6     -0.6\n",
      "1        8     -2.8      5.2\n",
      "2        0     -5.8     -5.8\n",
      "3       20    -20.2     -0.2\n",
      "4       18    -40.8    -22.8\n"
     ]
    }
   ],
   "source": [
    "import pandas as pd\n",
    "import pandera as pa\n",
    "\n",
    "from pandera import DataFrameSchema, Column, Check, check_input\n",
    "\n",
    "\n",
    "df = pd.DataFrame(\n",
    "    {\n",
    "        \"column1\": [1, 4, 0, 10, 9],\n",
    "        \"column2\": [-1.3, -1.4, -2.9, -10.1, -20.4],\n",
    "    }\n",
    ")\n",
    "\n",
    "in_schema = DataFrameSchema(\n",
    "    {\n",
    "        \"column1\": Column(int),\n",
    "        \"column2\": Column(float),\n",
    "    }\n",
    ")\n",
    "\n",
    "out_schema = in_schema.add_columns({\"column3\": Column(float)})\n",
    "\n",
    "# NOTE: See the pattern here.\n",
    "@pa.check_io(df1=in_schema, df2=in_schema, out=out_schema)  # pyright: ignore\n",
    "def preprocessor(df1, df2):\n",
    "    return (df1 + df2).assign(column3=lambda x: x.column1 + x.column2)\n",
    "\n",
    "\n",
    "preprocessed_df = preprocessor(df, df)\n",
    "\n",
    "print(preprocessed_df)"
   ]
  },
  {
   "attachments": {},
   "cell_type": "markdown",
   "metadata": {},
   "source": [
    "### Decorate Functions and Coroutines\n",
    "\n",
    "> ⚠️ Tricky\n",
    "\n",
    "All pandera decorators work on *synchronous* as well as *asynchronous* code,\n",
    "on *both* bound and *unbound* functions/coroutines.\n",
    "\n",
    "\n",
    "For example, one can use the same decorators on:\n",
    "* sync/async functions\n",
    "* sync/async methods\n",
    "* sync/async class methods\n",
    "* sync/async static methods\n",
    "\n",
    "All decorators work on sync/async regular/class/static methods of metaclasses as well."
   ]
  },
  {
   "cell_type": "code",
   "execution_count": null,
   "metadata": {},
   "outputs": [],
   "source": [
    "import pandera as pa\n",
    "from pandera.typing import DataFrame, Series\n",
    "\n",
    "\n",
    "class Schema(pa.SchemaModel):\n",
    "    col1: Series[int]\n",
    "\n",
    "    class Config:\n",
    "        strict = True\n",
    "\n",
    "\n",
    "@pa.check_types\n",
    "async def coroutine(df: DataFrame[Schema]) -> DataFrame[Schema]:  # NOTE async.\n",
    "    return df\n",
    "\n",
    "\n",
    "@pa.check_types\n",
    "async def function(df: DataFrame[Schema]) -> DataFrame[Schema]:  # NOTE async.\n",
    "    return df\n",
    "\n",
    "\n",
    "class SomeClass:\n",
    "    @pa.check_output(Schema.to_schema())\n",
    "    async def regular_coroutine(self, df) -> DataFrame[Schema]:\n",
    "        return df\n",
    "\n",
    "    @classmethod\n",
    "    @pa.check_input(Schema.to_schema(), \"df\")\n",
    "    async def class_coroutine(cls, df):\n",
    "        return Schema.validate(df)\n",
    "\n",
    "    @staticmethod\n",
    "    @pa.check_io(df=Schema.to_schema(), out=Schema.to_schema())\n",
    "    def static_method(df):\n",
    "        return df"
   ]
  }
 ],
 "metadata": {
  "kernelspec": {
   "display_name": "learn_py38_pandera",
   "language": "python",
   "name": "python3"
  },
  "language_info": {
   "codemirror_mode": {
    "name": "ipython",
    "version": 3
   },
   "file_extension": ".py",
   "mimetype": "text/x-python",
   "name": "python",
   "nbconvert_exporter": "python",
   "pygments_lexer": "ipython3",
   "version": "3.8.15"
  },
  "orig_nbformat": 4,
  "vscode": {
   "interpreter": {
    "hash": "d04adb6128c0e7f0210d38b3bb730109356ca8c5dadd5211bc2bc571a84fe032"
   }
  }
 },
 "nbformat": 4,
 "nbformat_minor": 2
}
