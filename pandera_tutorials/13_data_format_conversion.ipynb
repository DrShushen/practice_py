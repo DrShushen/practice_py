{
 "cells": [
  {
   "cell_type": "markdown",
   "metadata": {},
   "source": [
    "Skipped\n",
    "\n",
    "https://pandera.readthedocs.io/en/stable/data_format_conversion.html"
   ]
  },
  {
   "attachments": {},
   "cell_type": "markdown",
   "metadata": {},
   "source": [
    "### Takeaway\n",
    "\n",
    "Data Format Conversion using the `{to/from}_format` configuration option can modify the behavior of\n",
    "`check_types()`-decorated functions to *convert input data from a particular serialization format into a dataframe*.\n",
    "\n",
    "Additionally, you can convert the output data from a dataframe to potentially another format."
   ]
  }
 ],
 "metadata": {
  "language_info": {
   "name": "python"
  },
  "orig_nbformat": 4
 },
 "nbformat": 4,
 "nbformat_minor": 2
}
