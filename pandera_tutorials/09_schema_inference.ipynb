{
 "cells": [
  {
   "attachments": {},
   "cell_type": "markdown",
   "metadata": {},
   "source": [
    "Following [this](https://pandera.readthedocs.io/en/stable/schema_inference.html)"
   ]
  },
  {
   "attachments": {},
   "cell_type": "markdown",
   "metadata": {},
   "source": [
    "### Schema Inference\n",
    "\n",
    "*New in version 0.4.0*\n",
    "\n",
    "With simple use cases, writing a schema definition manually is pretty straight-forward with pandera. However, it can get tedious to do this with dataframes that have many columns of various data types.\n",
    "\n",
    "To help you handle these cases, the `infer_schema()` function enables you to quickly infer a draft schema from a pandas dataframe or series. Below is a simple example:"
   ]
  },
  {
   "cell_type": "code",
   "execution_count": 1,
   "metadata": {},
   "outputs": [
    {
     "name": "stdout",
     "output_type": "stream",
     "text": [
      "   column1 column2    column3\n",
      "0        5       a 2010-01-01\n",
      "1       10       b 2011-01-01\n",
      "2       20       c 2012-01-01\n",
      "\n",
      "<Schema DataFrameSchema(\n",
      "    columns={\n",
      "        'column1': <Schema Column(name=column1, type=DataType(int64))>\n",
      "        'column2': <Schema Column(name=column2, type=DataType(object))>\n",
      "        'column3': <Schema Column(name=column3, type=DataType(datetime64[ns]))>\n",
      "    },\n",
      "    checks=[],\n",
      "    coerce=True,\n",
      "    dtype=None,\n",
      "    index=<Schema Index(name=None, type=DataType(int64))>,\n",
      "    strict=False\n",
      "    name=None,\n",
      "    ordered=False,\n",
      "    unique_column_names=False\n",
      ")>\n"
     ]
    }
   ],
   "source": [
    "import pandas as pd\n",
    "import pandera as pa\n",
    "\n",
    "from pandera import Check, Column, DataFrameSchema\n",
    "\n",
    "df = pd.DataFrame(\n",
    "    {\n",
    "        \"column1\": [5, 10, 20],\n",
    "        \"column2\": [\"a\", \"b\", \"c\"],\n",
    "        \"column3\": pd.to_datetime([\"2010\", \"2011\", \"2012\"]),\n",
    "    }\n",
    ")\n",
    "print(df)\n",
    "print()\n",
    "\n",
    "schema = pa.infer_schema(df)  # NOTE.\n",
    "print(schema)\n",
    "\n",
    "\"\"\"\n",
    " <Schema DataFrameSchema(\n",
    "     columns={\n",
    "         'column1': <Schema Column(name=column1, type=DataType(int64))>\n",
    "         'column2': <Schema Column(name=column2, type=DataType(object))>\n",
    "         'column3': <Schema Column(name=column3, type=DataType(datetime64[ns]))>\n",
    "     },\n",
    "     checks=[],\n",
    "     coerce=True,\n",
    "     dtype=None,\n",
    "     index=<Schema Index(name=None, type=DataType(int64))>,\n",
    "     strict=False\n",
    "     name=None,\n",
    "     ordered=False,\n",
    "     unique_column_names=False\n",
    " )>\n",
    "\"\"\";"
   ]
  },
  {
   "attachments": {},
   "cell_type": "markdown",
   "metadata": {},
   "source": [
    "> These inferred schemas are **rough drafts** that *shouldn’t be used for validation without modification*!\n",
    "\n",
    "You can modify the inferred schema to obtain the schema definition that you’re satisfied with.\n",
    "\n",
    "For `DataFrameSchema` objects, the following methods create modified copies of the schema:\n",
    "* add_columns()\n",
    "* remove_columns()\n",
    "* update_column()\n",
    "\n",
    "For `SeriesSchema` objects:\n",
    "* `set_checks()`\n",
    "\n",
    "The section below describes two workflows for persisting and modifying an inferred schema."
   ]
  },
  {
   "attachments": {},
   "cell_type": "markdown",
   "metadata": {},
   "source": [
    "## Schema Persistence\n",
    "\n",
    "The schema persistence feature requires a pandera installation with the `io` extension.\n",
    "\n",
    "See the [installation](https://pandera.readthedocs.io/en/stable/index.html#installation) instructions for more details.\n",
    "\n",
    "There are two ways of persisting schemas, inferred or otherwise."
   ]
  },
  {
   "attachments": {},
   "cell_type": "markdown",
   "metadata": {},
   "source": [
    "### Write to a Python script\n",
    "\n",
    "You can also write your schema to a python script with `to_script()`:"
   ]
  },
  {
   "cell_type": "code",
   "execution_count": 2,
   "metadata": {},
   "outputs": [
    {
     "name": "stdout",
     "output_type": "stream",
     "text": [
      "from pandas import Timestamp\n",
      "from pandera import DataFrameSchema, Column, Check, Index, MultiIndex\n",
      "\n",
      "schema = DataFrameSchema(\n",
      "    columns={\n",
      "        \"column1\": Column(\n",
      "            dtype=\"int64\",\n",
      "            checks=[\n",
      "                Check.greater_than_or_equal_to(min_value=5.0),\n",
      "                Check.less_than_or_equal_to(max_value=20.0),\n",
      "            ],\n",
      "            nullable=False,\n",
      "            unique=False,\n",
      "            coerce=False,\n",
      "            required=True,\n",
      "            regex=False,\n",
      "            description=None,\n",
      "            title=None,\n",
      "        ),\n",
      "        \"column2\": Column(\n",
      "            dtype=\"object\",\n",
      "            checks=None,\n",
      "            nullable=False,\n",
      "            unique=False,\n",
      "            coerce=False,\n",
      "            required=True,\n",
      "            regex=False,\n",
      "            description=None,\n",
      "            title=None,\n",
      "        ),\n",
      "        \"column3\": Column(\n",
      "            dtype=\"datetime64[ns]\",\n",
      "            checks=[\n",
      "                Check.greater_than_or_equal_to(\n",
      "                    min_value=Timestamp(\"2010-01-01 00:00:00\")\n",
      "                ),\n",
      "                Check.less_than_or_equal_to(\n",
      "                    max_value=Timestamp(\"2012-01-01 00:00:00\")\n",
      "                ),\n",
      "            ],\n",
      "            nullable=False,\n",
      "            unique=False,\n",
      "            coerce=False,\n",
      "            required=True,\n",
      "            regex=False,\n",
      "            description=None,\n",
      "            title=None,\n",
      "        ),\n",
      "    },\n",
      "    checks=None,\n",
      "    index=Index(\n",
      "        dtype=\"int64\",\n",
      "        checks=[\n",
      "            Check.greater_than_or_equal_to(min_value=0.0),\n",
      "            Check.less_than_or_equal_to(max_value=2.0),\n",
      "        ],\n",
      "        nullable=False,\n",
      "        coerce=False,\n",
      "        name=None,\n",
      "        description=None,\n",
      "        title=None,\n",
      "    ),\n",
      "    dtype=None,\n",
      "    coerce=True,\n",
      "    strict=False,\n",
      "    name=None,\n",
      "    ordered=False,\n",
      "    unique=None,\n",
      "    report_duplicates=\"all\",\n",
      "    unique_column_names=False,\n",
      "    title=None,\n",
      "    description=None,\n",
      ")\n",
      "\n"
     ]
    }
   ],
   "source": [
    "# supply a file-like object, Path, or str to write to a file. If not\n",
    "# specified, to_script will output the code as a string.\n",
    "schema_script = schema.to_script()\n",
    "print(schema_script)"
   ]
  },
  {
   "attachments": {},
   "cell_type": "markdown",
   "metadata": {},
   "source": [
    "As a python script, you can iterate on an inferred schema and use it to validate data once you are satisfied with your schema definition."
   ]
  },
  {
   "attachments": {},
   "cell_type": "markdown",
   "metadata": {},
   "source": [
    "Other options (see links):\n",
    "* [Write to YAML](https://pandera.readthedocs.io/en/stable/schema_inference.html#write-to-yaml)\n",
    "* [Write to JSON](https://pandera.readthedocs.io/en/stable/schema_inference.html#write-to-json)"
   ]
  }
 ],
 "metadata": {
  "kernelspec": {
   "display_name": "learn_py38_pandera",
   "language": "python",
   "name": "python3"
  },
  "language_info": {
   "codemirror_mode": {
    "name": "ipython",
    "version": 3
   },
   "file_extension": ".py",
   "mimetype": "text/x-python",
   "name": "python",
   "nbconvert_exporter": "python",
   "pygments_lexer": "ipython3",
   "version": "3.8.15"
  },
  "orig_nbformat": 4,
  "vscode": {
   "interpreter": {
    "hash": "d04adb6128c0e7f0210d38b3bb730109356ca8c5dadd5211bc2bc571a84fe032"
   }
  }
 },
 "nbformat": 4,
 "nbformat_minor": 2
}
