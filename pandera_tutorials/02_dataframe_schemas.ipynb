{
 "cells": [
  {
   "attachments": {},
   "cell_type": "markdown",
   "metadata": {},
   "source": [
    "Following [this](https://pandera.readthedocs.io/en/stable/dataframe_schemas.html)"
   ]
  },
  {
   "attachments": {},
   "cell_type": "markdown",
   "metadata": {},
   "source": [
    "# DataFrame Schemas\n",
    "\n",
    "The `DataFrameSchema` class enables the specification of a schema that verifies the columns and index of a pandas `DataFrame` object.\n",
    "\n",
    "The `DataFrameSchema` object consists of\n",
    "* `Columns` and\n",
    "* an `Index`.\n",
    "\n",
    "> You can refer to [Schema Models](https://pandera.readthedocs.io/en/stable/schema_models.html#schema-models) to see\n",
    "how to define dataframe schemas using the *alternative* pydantic/dataclass-style syntax."
   ]
  },
  {
   "cell_type": "code",
   "execution_count": 1,
   "metadata": {},
   "outputs": [],
   "source": [
    "import pandera as pa\n",
    "\n",
    "from pandera import Column, DataFrameSchema, Check, Index\n",
    "\n",
    "schema = DataFrameSchema(\n",
    "    {\n",
    "        \"column1\": Column(int),\n",
    "        \"column2\": Column(float, Check(lambda s: s < -1.2)),\n",
    "        # you can provide a list of validators\n",
    "        \"column3\": Column(\n",
    "            str,\n",
    "            [Check(lambda s: s.str.startswith(\"value\")), Check(lambda s: s.str.split(\"_\", expand=True).shape[1] == 2)],\n",
    "        ),\n",
    "    },\n",
    "    index=Index(int),\n",
    "    strict=True,\n",
    "    coerce=True,\n",
    ")"
   ]
  },
  {
   "attachments": {},
   "cell_type": "markdown",
   "metadata": {},
   "source": [
    "## Column Validation\n",
    "\n",
    "A `Column` must specify the properties of a column in a dataframe object.\n",
    "\n",
    "It can be *optionally* verified for\n",
    "* its data type,\n",
    "* null values\n",
    "* or duplicate values.\n",
    "\n",
    "Also:\n",
    "* The column can be *coerced* into the specified type,\n",
    "* and the `required` parameter allows control over whether or not the column is allowed to be missing.\n",
    "\n",
    "Similarly to pandas, the data type can be specified as:\n",
    "* a string alias, as long as it is recognized by pandas.\n",
    "* a python type: `int`, `float`, `double`, `bool`, `str`\n",
    "* a `numpy` data type\n",
    "* a [pandas extension type](https://pandas.pydata.org/pandas-docs/stable/user_guide/basics.html#dtypes):\n",
    "it can be an instance (e.g `pd.CategoricalDtype([“a”, “b”])`) or a class (e.g `pandas.CategoricalDtype`) if it can be\n",
    "initialized with default values.\n",
    "* a pandera [`DataType`](https://pandera.readthedocs.io/en/stable/reference/generated/pandera.dtypes.DataType.html#pandera.dtypes.DataType):\n",
    "it can also be an instance or a class.\n",
    "\n",
    "[Column checks](https://pandera.readthedocs.io/en/stable/checks.html#checks) allow for the `DataFrame`'s values to be\n",
    "checked against a *user-provided function*. `Check` objects also support [grouping](https://pandera.readthedocs.io/en/stable/checks.html#grouping)\n",
    "by a different column so that the user can make assertions about subsets of the column of interest.\n",
    "\n",
    "Column Hypotheses enable you to perform statistical hypothesis tests on a DataFrame in either wide or tidy format.\n",
    "See [Hypothesis Testing](https://pandera.readthedocs.io/en/stable/hypothesis.html#hypothesis) for more details."
   ]
  },
  {
   "attachments": {},
   "cell_type": "markdown",
   "metadata": {},
   "source": [
    "### Null Values in Columns\n",
    "\n",
    "By default, `SeriesSchema`/`Column` objects assume that values are ***not* nullable**.\n",
    "\n",
    "In order to accept null values, you need to *explicitly specify `nullable=True`*, or else you’ll get an error."
   ]
  },
  {
   "cell_type": "code",
   "execution_count": 2,
   "metadata": {},
   "outputs": [
    {
     "name": "stdout",
     "output_type": "stream",
     "text": [
      "non-nullable series 'column1' contains null values:\n",
      "2   NaN\n",
      "Name: column1, dtype: float64\n"
     ]
    }
   ],
   "source": [
    "import numpy as np\n",
    "import pandas as pd\n",
    "import pandera as pa\n",
    "\n",
    "from pandera import Check, Column, DataFrameSchema\n",
    "\n",
    "df = pd.DataFrame({\"column1\": [5, 1, np.nan]})\n",
    "\n",
    "non_null_schema = DataFrameSchema({\"column1\": Column(float, Check(lambda x: x > 0))})\n",
    "\n",
    "try:\n",
    "    non_null_schema.validate(df)\n",
    "except pa.errors.SchemaError as e:\n",
    "    print(e)"
   ]
  },
  {
   "cell_type": "code",
   "execution_count": 3,
   "metadata": {},
   "outputs": [
    {
     "name": "stdout",
     "output_type": "stream",
     "text": [
      "   column1\n",
      "0      5.0\n",
      "1      1.0\n",
      "2      NaN\n"
     ]
    }
   ],
   "source": [
    "null_schema = DataFrameSchema(\n",
    "    {\"column1\": Column(float, Check(lambda x: x > 0), nullable=True)}  # NOTE: `nullable=True`\n",
    ")\n",
    "\n",
    "print(null_schema.validate(df))  # Good now."
   ]
  },
  {
   "attachments": {},
   "cell_type": "markdown",
   "metadata": {},
   "source": [
    "### Coercing Types on Columns\n",
    "\n",
    "If you specify `Column(dtype, ..., coerce=True)` as part of the `DataFrameSchema` definition,\n",
    "calling `schema.validate` will **first coerce the column into the specified dtype** before applying validation checks.\n"
   ]
  },
  {
   "cell_type": "code",
   "execution_count": 4,
   "metadata": {},
   "outputs": [
    {
     "name": "stdout",
     "output_type": "stream",
     "text": [
      "<class 'pandas.core.frame.DataFrame'>\n",
      "RangeIndex: 3 entries, 0 to 2\n",
      "Data columns (total 1 columns):\n",
      " #   Column   Non-Null Count  Dtype \n",
      "---  ------   --------------  ----- \n",
      " 0   column1  3 non-null      object\n",
      "dtypes: object(1)\n",
      "memory usage: 152.0+ bytes\n"
     ]
    }
   ],
   "source": [
    "import pandas as pd\n",
    "import pandera as pa\n",
    "\n",
    "from pandera import Column, DataFrameSchema\n",
    "\n",
    "df = pd.DataFrame({\"column1\": [1, 2, 3]})\n",
    "schema = DataFrameSchema({\"column1\": Column(str, coerce=True)})  # NOTE.\n",
    "\n",
    "validated_df = schema.validate(df)\n",
    "\n",
    "validated_df.info()\n",
    "\n",
    "assert isinstance(validated_df.column1.iloc[0], str)"
   ]
  },
  {
   "attachments": {},
   "cell_type": "markdown",
   "metadata": {},
   "source": [
    "> Note the special case of *integers* columns not supporting `nan` values.\n",
    ">\n",
    ">In this case, `schema.validate` will complain if `coerce == True` **and** *null values are allowed* in the column."
   ]
  },
  {
   "cell_type": "code",
   "execution_count": 5,
   "metadata": {},
   "outputs": [
    {
     "name": "stdout",
     "output_type": "stream",
     "text": [
      "Error while coercing 'column1' to type int64: Could not coerce <class 'pandas.core.series.Series'> data_container into type int64:\n",
      "   index  failure_case\n",
      "0      3           NaN\n"
     ]
    }
   ],
   "source": [
    "df = pd.DataFrame({\"column1\": [1.0, 2.0, 3, np.nan]})  # NOTE: Integer values with a NaN.\n",
    "\n",
    "schema = DataFrameSchema(\n",
    "    {\"column1\": Column(int, coerce=True, nullable=True)}  # NOTE: Now try to coerce this and allow null...\n",
    ")\n",
    "\n",
    "try:\n",
    "    validated_df = schema.validate(df)\n",
    "except Exception as e:\n",
    "    print(e)"
   ]
  },
  {
   "attachments": {},
   "cell_type": "markdown",
   "metadata": {},
   "source": [
    "> The best way to handle this case is to simply specify the column as a `Float` or `Object`.\n",
    "\n",
    "🤔 Note the above... The weird int/nan case is still tricky."
   ]
  },
  {
   "cell_type": "code",
   "execution_count": 6,
   "metadata": {},
   "outputs": [
    {
     "name": "stdout",
     "output_type": "stream",
     "text": [
      "column1    object\n",
      "dtype: object\n",
      "column1    float64\n",
      "dtype: object\n"
     ]
    }
   ],
   "source": [
    "schema_object = DataFrameSchema({\"column1\": Column(object, coerce=True, nullable=True)})  # Treat as object.\n",
    "schema_float = DataFrameSchema({\"column1\": Column(float, coerce=True, nullable=True)})  # Treat as float.\n",
    "\n",
    "# NOTE: 🤔 But again, then they're not strictly integer, are they?!\n",
    "\n",
    "print(schema_object.validate(df).dtypes)\n",
    "print(schema_float.validate(df).dtypes)"
   ]
  },
  {
   "attachments": {},
   "cell_type": "markdown",
   "metadata": {},
   "source": [
    "If you want to coerce *all of the columns specified in the `DataFrameSchema`*,\n",
    "you can specify the `coerce` argument with `DataFrameSchema(..., coerce=True)`."
   ]
  },
  {
   "attachments": {},
   "cell_type": "markdown",
   "metadata": {},
   "source": [
    "### Required Columns\n",
    "\n",
    "By default all columns specified in the schema are required, meaning that if a column is missing in the input `DataFrame`\n",
    "an exception will be thrown.\n",
    "\n",
    "If you want to make a column *optional*, specify `required=False` in the column constructor:"
   ]
  },
  {
   "cell_type": "code",
   "execution_count": 7,
   "metadata": {},
   "outputs": [
    {
     "data": {
      "text/html": [
       "<div>\n",
       "<style scoped>\n",
       "    .dataframe tbody tr th:only-of-type {\n",
       "        vertical-align: middle;\n",
       "    }\n",
       "\n",
       "    .dataframe tbody tr th {\n",
       "        vertical-align: top;\n",
       "    }\n",
       "\n",
       "    .dataframe thead th {\n",
       "        text-align: right;\n",
       "    }\n",
       "</style>\n",
       "<table border=\"1\" class=\"dataframe\">\n",
       "  <thead>\n",
       "    <tr style=\"text-align: right;\">\n",
       "      <th></th>\n",
       "      <th>column2</th>\n",
       "    </tr>\n",
       "  </thead>\n",
       "  <tbody>\n",
       "    <tr>\n",
       "      <th>0</th>\n",
       "      <td>hello</td>\n",
       "    </tr>\n",
       "    <tr>\n",
       "      <th>1</th>\n",
       "      <td>pandera</td>\n",
       "    </tr>\n",
       "  </tbody>\n",
       "</table>\n",
       "</div>"
      ],
      "text/plain": [
       "   column2\n",
       "0    hello\n",
       "1  pandera"
      ]
     },
     "metadata": {},
     "output_type": "display_data"
    }
   ],
   "source": [
    "import pandas as pd\n",
    "import pandera as pa\n",
    "\n",
    "from pandera import Column, DataFrameSchema\n",
    "\n",
    "df = pd.DataFrame({\"column2\": [\"hello\", \"pandera\"]})\n",
    "\n",
    "schema = DataFrameSchema({\"column1\": Column(int, required=False), \"column2\": Column(str)})  # NOTE>\n",
    "\n",
    "validated_df = schema.validate(df)\n",
    "display(validated_df)"
   ]
  },
  {
   "attachments": {},
   "cell_type": "markdown",
   "metadata": {},
   "source": [
    "### Ordered Columns\n",
    "\n",
    "**I'm guessing that's a future feature?**"
   ]
  },
  {
   "attachments": {},
   "cell_type": "markdown",
   "metadata": {},
   "source": [
    "### Stand-alone Column Validation\n",
    "\n",
    "In addition to being used in the context of a `DataFrameSchema`, `Column` objects\n",
    "**can also be used to validate columns in a dataframe on its own**:"
   ]
  },
  {
   "cell_type": "code",
   "execution_count": 8,
   "metadata": {},
   "outputs": [],
   "source": [
    "import pandas as pd\n",
    "import pandera as pa\n",
    "\n",
    "df = pd.DataFrame(\n",
    "    {\n",
    "        \"column1\": [1, 2, 3],\n",
    "        \"column2\": [\"a\", \"b\", \"c\"],\n",
    "    }\n",
    ")\n",
    "\n",
    "column1_schema = pa.Column(int, name=\"column1\")  # NOTE.\n",
    "column2_schema = pa.Column(str, name=\"column2\")  # NOTE.\n",
    "\n",
    "# pass the dataframe as an argument to the Column object callable\n",
    "df = column1_schema(df)  # NOTE.\n",
    "validated_df = column2_schema(df)  # NOTE.\n",
    "\n",
    "# or explicitly use the validate method\n",
    "df = column1_schema.validate(df)  # pyright: ignore  # NOTE.\n",
    "validated_df = column2_schema.validate(df)  # NOTE.\n",
    "\n",
    "# use the DataFrame.pipe method to validate two columns\n",
    "validated_df = df.pipe(column1_schema).pipe(column2_schema)  # NOTE."
   ]
  },
  {
   "attachments": {},
   "cell_type": "markdown",
   "metadata": {},
   "source": [
    "For multi-column use cases, the `DataFrameSchema` *is still recommended*,\n",
    "but if you have one or a small number of columns to verify, using Column objects by themselves is appropriate."
   ]
  },
  {
   "attachments": {},
   "cell_type": "markdown",
   "metadata": {},
   "source": [
    "### Column Regex Pattern Matching\n",
    "\n",
    "In the case that your dataframe has multiple columns that share common statistical properties,\n",
    "you might want to *specify a regex pattern* that matches a set of meaningfully grouped columns that have `str` names.\n"
   ]
  },
  {
   "cell_type": "code",
   "execution_count": 9,
   "metadata": {},
   "outputs": [
    {
     "data": {
      "text/html": [
       "<div>\n",
       "<style scoped>\n",
       "    .dataframe tbody tr th:only-of-type {\n",
       "        vertical-align: middle;\n",
       "    }\n",
       "\n",
       "    .dataframe tbody tr th {\n",
       "        vertical-align: top;\n",
       "    }\n",
       "\n",
       "    .dataframe thead th {\n",
       "        text-align: right;\n",
       "    }\n",
       "</style>\n",
       "<table border=\"1\" class=\"dataframe\">\n",
       "  <thead>\n",
       "    <tr style=\"text-align: right;\">\n",
       "      <th></th>\n",
       "      <th>cat_var_1</th>\n",
       "      <th>cat_var_2</th>\n",
       "      <th>num_var_1</th>\n",
       "      <th>num_var_2</th>\n",
       "    </tr>\n",
       "  </thead>\n",
       "  <tbody>\n",
       "    <tr>\n",
       "      <th>0</th>\n",
       "      <td>A</td>\n",
       "      <td>A</td>\n",
       "      <td>6.804147</td>\n",
       "      <td>24.743304</td>\n",
       "    </tr>\n",
       "    <tr>\n",
       "      <th>1</th>\n",
       "      <td>A</td>\n",
       "      <td>C</td>\n",
       "      <td>3.684308</td>\n",
       "      <td>22.774633</td>\n",
       "    </tr>\n",
       "    <tr>\n",
       "      <th>2</th>\n",
       "      <td>A</td>\n",
       "      <td>C</td>\n",
       "      <td>5.911288</td>\n",
       "      <td>28.416588</td>\n",
       "    </tr>\n",
       "    <tr>\n",
       "      <th>3</th>\n",
       "      <td>C</td>\n",
       "      <td>A</td>\n",
       "      <td>4.790627</td>\n",
       "      <td>21.951250</td>\n",
       "    </tr>\n",
       "    <tr>\n",
       "      <th>4</th>\n",
       "      <td>C</td>\n",
       "      <td>B</td>\n",
       "      <td>4.504166</td>\n",
       "      <td>28.563142</td>\n",
       "    </tr>\n",
       "  </tbody>\n",
       "</table>\n",
       "</div>"
      ],
      "text/plain": [
       "  cat_var_1 cat_var_2  num_var_1  num_var_2\n",
       "0         A         A   6.804147  24.743304\n",
       "1         A         C   3.684308  22.774633\n",
       "2         A         C   5.911288  28.416588\n",
       "3         C         A   4.790627  21.951250\n",
       "4         C         B   4.504166  28.563142"
      ]
     },
     "metadata": {},
     "output_type": "display_data"
    }
   ],
   "source": [
    "import numpy as np\n",
    "import pandas as pd\n",
    "import pandera as pa\n",
    "\n",
    "categories = [\"A\", \"B\", \"C\"]\n",
    "\n",
    "np.random.seed(100)\n",
    "\n",
    "dataframe = pd.DataFrame(\n",
    "    {\n",
    "        \"cat_var_1\": np.random.choice(categories, size=100),\n",
    "        \"cat_var_2\": np.random.choice(categories, size=100),\n",
    "        \"num_var_1\": np.random.uniform(0, 10, size=100),\n",
    "        \"num_var_2\": np.random.uniform(20, 30, size=100),\n",
    "    }\n",
    ")\n",
    "\n",
    "schema = pa.DataFrameSchema(\n",
    "    {\n",
    "        # NOTE:\n",
    "        \"num_var_.+\": pa.Column(\n",
    "            float,\n",
    "            checks=pa.Check.greater_than_or_equal_to(0),\n",
    "            regex=True,\n",
    "        ),\n",
    "        # NOTE:\n",
    "        \"cat_var_.+\": pa.Column(\n",
    "            pa.Category,\n",
    "            checks=pa.Check.isin(categories),\n",
    "            coerce=True,\n",
    "            regex=True,\n",
    "        ),\n",
    "    }\n",
    ")\n",
    "\n",
    "display(schema.validate(dataframe).head())"
   ]
  },
  {
   "attachments": {},
   "cell_type": "markdown",
   "metadata": {},
   "source": [
    "You can also regex pattern match on `pd.MultiIndex` columns:"
   ]
  },
  {
   "cell_type": "code",
   "execution_count": 10,
   "metadata": {},
   "outputs": [
    {
     "data": {
      "text/html": [
       "<div>\n",
       "<style scoped>\n",
       "    .dataframe tbody tr th:only-of-type {\n",
       "        vertical-align: middle;\n",
       "    }\n",
       "\n",
       "    .dataframe tbody tr th {\n",
       "        vertical-align: top;\n",
       "    }\n",
       "\n",
       "    .dataframe thead tr th {\n",
       "        text-align: left;\n",
       "    }\n",
       "</style>\n",
       "<table border=\"1\" class=\"dataframe\">\n",
       "  <thead>\n",
       "    <tr>\n",
       "      <th></th>\n",
       "      <th>cat_var_1</th>\n",
       "      <th>cat_var_2</th>\n",
       "      <th>num_var_1</th>\n",
       "      <th>num_var_2</th>\n",
       "    </tr>\n",
       "    <tr>\n",
       "      <th></th>\n",
       "      <th>y1</th>\n",
       "      <th>y2</th>\n",
       "      <th>x1</th>\n",
       "      <th>x2</th>\n",
       "    </tr>\n",
       "  </thead>\n",
       "  <tbody>\n",
       "    <tr>\n",
       "      <th>0</th>\n",
       "      <td>A</td>\n",
       "      <td>A</td>\n",
       "      <td>6.804147</td>\n",
       "      <td>4.743304</td>\n",
       "    </tr>\n",
       "    <tr>\n",
       "      <th>1</th>\n",
       "      <td>A</td>\n",
       "      <td>C</td>\n",
       "      <td>3.684308</td>\n",
       "      <td>2.774633</td>\n",
       "    </tr>\n",
       "    <tr>\n",
       "      <th>2</th>\n",
       "      <td>A</td>\n",
       "      <td>C</td>\n",
       "      <td>5.911288</td>\n",
       "      <td>8.416588</td>\n",
       "    </tr>\n",
       "    <tr>\n",
       "      <th>3</th>\n",
       "      <td>C</td>\n",
       "      <td>A</td>\n",
       "      <td>4.790627</td>\n",
       "      <td>1.951250</td>\n",
       "    </tr>\n",
       "    <tr>\n",
       "      <th>4</th>\n",
       "      <td>C</td>\n",
       "      <td>B</td>\n",
       "      <td>4.504166</td>\n",
       "      <td>8.563142</td>\n",
       "    </tr>\n",
       "  </tbody>\n",
       "</table>\n",
       "</div>"
      ],
      "text/plain": [
       "  cat_var_1 cat_var_2 num_var_1 num_var_2\n",
       "         y1        y2        x1        x2\n",
       "0         A         A  6.804147  4.743304\n",
       "1         A         C  3.684308  2.774633\n",
       "2         A         C  5.911288  8.416588\n",
       "3         C         A  4.790627  1.951250\n",
       "4         C         B  4.504166  8.563142"
      ]
     },
     "metadata": {},
     "output_type": "display_data"
    }
   ],
   "source": [
    "np.random.seed(100)\n",
    "\n",
    "# NOTE: Multi level columns.\n",
    "dataframe = pd.DataFrame(\n",
    "    {\n",
    "        (\"cat_var_1\", \"y1\"): np.random.choice(categories, size=100),\n",
    "        (\"cat_var_2\", \"y2\"): np.random.choice(categories, size=100),\n",
    "        (\"num_var_1\", \"x1\"): np.random.uniform(0, 10, size=100),\n",
    "        (\"num_var_2\", \"x2\"): np.random.uniform(0, 10, size=100),\n",
    "    }\n",
    ")\n",
    "\n",
    "schema = pa.DataFrameSchema(\n",
    "    {\n",
    "        (\"num_var_.+\", \"x.+\"): pa.Column(  # NOTE.\n",
    "            float,\n",
    "            checks=pa.Check.greater_than_or_equal_to(0),\n",
    "            regex=True,\n",
    "        ),\n",
    "        (\"cat_var_.+\", \"y.+\"): pa.Column(  # NOTE.\n",
    "            pa.Category,\n",
    "            checks=pa.Check.isin(categories),\n",
    "            coerce=True,\n",
    "            regex=True,\n",
    "        ),\n",
    "    }\n",
    ")\n",
    "\n",
    "display(schema.validate(dataframe).head())"
   ]
  },
  {
   "attachments": {},
   "cell_type": "markdown",
   "metadata": {},
   "source": [
    "### Handling Dataframe Columns *not in the Schema*\n",
    "\n",
    "By default, columns that *aren’t specified in the schema aren’t checked*.\n",
    "\n",
    "If you want to check that the `DataFrame` only contains columns in the schema, specify `strict=True`:"
   ]
  },
  {
   "cell_type": "code",
   "execution_count": 11,
   "metadata": {},
   "outputs": [
    {
     "data": {
      "text/plain": [
       "pandera.errors.SchemaError"
      ]
     },
     "metadata": {},
     "output_type": "display_data"
    },
    {
     "name": "stdout",
     "output_type": "stream",
     "text": [
      "column 'column2' not in DataFrameSchema {'column1': <Schema Column(name=column1, type=DataType(int64))>}\n"
     ]
    }
   ],
   "source": [
    "import pandas as pd\n",
    "import pandera as pa\n",
    "\n",
    "from pandera import Column, DataFrameSchema\n",
    "\n",
    "schema = DataFrameSchema({\"column1\": Column(int)}, strict=True)  # NOTE strict=True\n",
    "\n",
    "df = pd.DataFrame({\"column2\": [1, 2, 3]})\n",
    "\n",
    "try:\n",
    "    schema.validate(df)\n",
    "except Exception as e:\n",
    "    display(type(e))\n",
    "    print(e)"
   ]
  },
  {
   "attachments": {},
   "cell_type": "markdown",
   "metadata": {},
   "source": [
    "Alternatively, if your `DataFrame` contains columns that are not in the schema,\n",
    "and you would like these **to be dropped** on validation, you can specify `strict='filter'`."
   ]
  },
  {
   "cell_type": "code",
   "execution_count": 12,
   "metadata": {},
   "outputs": [
    {
     "data": {
      "text/html": [
       "<div>\n",
       "<style scoped>\n",
       "    .dataframe tbody tr th:only-of-type {\n",
       "        vertical-align: middle;\n",
       "    }\n",
       "\n",
       "    .dataframe tbody tr th {\n",
       "        vertical-align: top;\n",
       "    }\n",
       "\n",
       "    .dataframe thead th {\n",
       "        text-align: right;\n",
       "    }\n",
       "</style>\n",
       "<table border=\"1\" class=\"dataframe\">\n",
       "  <thead>\n",
       "    <tr style=\"text-align: right;\">\n",
       "      <th></th>\n",
       "      <th>column1</th>\n",
       "      <th>column2</th>\n",
       "    </tr>\n",
       "  </thead>\n",
       "  <tbody>\n",
       "    <tr>\n",
       "      <th>0</th>\n",
       "      <td>drop</td>\n",
       "      <td>keep</td>\n",
       "    </tr>\n",
       "    <tr>\n",
       "      <th>1</th>\n",
       "      <td>me</td>\n",
       "      <td>me</td>\n",
       "    </tr>\n",
       "  </tbody>\n",
       "</table>\n",
       "</div>"
      ],
      "text/plain": [
       "  column1 column2\n",
       "0    drop    keep\n",
       "1      me      me"
      ]
     },
     "metadata": {},
     "output_type": "display_data"
    },
    {
     "data": {
      "text/html": [
       "<div>\n",
       "<style scoped>\n",
       "    .dataframe tbody tr th:only-of-type {\n",
       "        vertical-align: middle;\n",
       "    }\n",
       "\n",
       "    .dataframe tbody tr th {\n",
       "        vertical-align: top;\n",
       "    }\n",
       "\n",
       "    .dataframe thead th {\n",
       "        text-align: right;\n",
       "    }\n",
       "</style>\n",
       "<table border=\"1\" class=\"dataframe\">\n",
       "  <thead>\n",
       "    <tr style=\"text-align: right;\">\n",
       "      <th></th>\n",
       "      <th>column2</th>\n",
       "    </tr>\n",
       "  </thead>\n",
       "  <tbody>\n",
       "    <tr>\n",
       "      <th>0</th>\n",
       "      <td>keep</td>\n",
       "    </tr>\n",
       "    <tr>\n",
       "      <th>1</th>\n",
       "      <td>me</td>\n",
       "    </tr>\n",
       "  </tbody>\n",
       "</table>\n",
       "</div>"
      ],
      "text/plain": [
       "  column2\n",
       "0    keep\n",
       "1      me"
      ]
     },
     "metadata": {},
     "output_type": "display_data"
    }
   ],
   "source": [
    "import pandas as pd\n",
    "import pandera as pa\n",
    "\n",
    "from pandera import Column, DataFrameSchema\n",
    "\n",
    "df = pd.DataFrame({\"column1\": [\"drop\", \"me\"], \"column2\": [\"keep\", \"me\"]})\n",
    "schema = DataFrameSchema({\"column2\": Column(str)}, strict=\"filter\")  # NOTE: strict='filter'\n",
    "\n",
    "validated_df = schema.validate(df)\n",
    "\n",
    "display(df)\n",
    "display(validated_df)"
   ]
  },
  {
   "attachments": {},
   "cell_type": "markdown",
   "metadata": {},
   "source": [
    "### Validating the order of the columns\n",
    "\n",
    "For some applications **the order of the columns** is important. For example:\n",
    "* If you want to use selection by position instead of the more common selection by label.\n",
    "* ℹ️ **Machine learning**: Many ML libraries will cast a Dataframe to `numpy` arrays, for which order becomes crucial.\n",
    "\n",
    "To validate the order of the Dataframe columns, specify `ordered=True`:"
   ]
  },
  {
   "cell_type": "code",
   "execution_count": 13,
   "metadata": {},
   "outputs": [
    {
     "data": {
      "text/plain": [
       "pandera.errors.SchemaError"
      ]
     },
     "metadata": {},
     "output_type": "display_data"
    },
    {
     "name": "stdout",
     "output_type": "stream",
     "text": [
      "column 'b' out-of-order\n"
     ]
    }
   ],
   "source": [
    "import pandas as pd\n",
    "import pandera as pa\n",
    "\n",
    "schema = pa.DataFrameSchema(columns={\"a\": pa.Column(int), \"b\": pa.Column(int)}, ordered=True)  # NOTE ordered=True\n",
    "\n",
    "df = pd.DataFrame({\"b\": [1], \"a\": [1]})  # Order is \"wrong\"!\n",
    "\n",
    "try:\n",
    "    schema.validate(df)\n",
    "except Exception as e:\n",
    "    display(type(e))\n",
    "    print(e)"
   ]
  },
  {
   "attachments": {},
   "cell_type": "markdown",
   "metadata": {},
   "source": [
    "### Validating the joint uniqueness of columns\n",
    "\n",
    "In some cases you might want to ensure that *a group of columns are unique*:\n",
    "\n",
    "> That is, they must be unique in terms of their joint contents (values)"
   ]
  },
  {
   "cell_type": "code",
   "execution_count": 14,
   "metadata": {},
   "outputs": [
    {
     "data": {
      "text/plain": [
       "pandera.errors.SchemaError"
      ]
     },
     "metadata": {},
     "output_type": "display_data"
    },
    {
     "name": "stdout",
     "output_type": "stream",
     "text": [
      "columns '('a', 'c')' not unique:\n",
      "  column  index  failure_case\n",
      "0      a      0             1\n",
      "1      a      1             1\n",
      "2      c      0             3\n",
      "3      c      1             3\n"
     ]
    }
   ],
   "source": [
    "import pandas as pd\n",
    "import pandera as pa\n",
    "\n",
    "schema = pa.DataFrameSchema(\n",
    "    columns={col: pa.Column(int) for col in [\"a\", \"b\", \"c\"]},\n",
    "    unique=[\"a\", \"c\"],\n",
    ")\n",
    "df = pd.DataFrame.from_records(\n",
    "    [\n",
    "        {\"a\": 1, \"b\": 2, \"c\": 3},\n",
    "        {\"a\": 1, \"b\": 2, \"c\": 3},\n",
    "    ]\n",
    ")\n",
    "\n",
    "try:\n",
    "    schema.validate(df)\n",
    "except Exception as e:\n",
    "    display(type(e))\n",
    "    print(e)"
   ]
  },
  {
   "attachments": {},
   "cell_type": "markdown",
   "metadata": {},
   "source": [
    "To control how unique errors are *reported*, the `report_duplicates` argument accepts:\n",
    "* `exclude_first`: (default) report all duplicates except first occurrence\n",
    "* `exclude_last`: report all duplicates except last occurrence\n",
    "* `all`: report all duplicates"
   ]
  },
  {
   "cell_type": "code",
   "execution_count": 15,
   "metadata": {},
   "outputs": [
    {
     "data": {
      "text/plain": [
       "pandera.errors.SchemaError"
      ]
     },
     "metadata": {},
     "output_type": "display_data"
    },
    {
     "name": "stdout",
     "output_type": "stream",
     "text": [
      "columns '('a', 'c')' not unique:\n",
      "  column  index  failure_case\n",
      "0      a      1             1\n",
      "1      c      1             3\n"
     ]
    }
   ],
   "source": [
    "import pandas as pd\n",
    "import pandera as pa\n",
    "\n",
    "schema = pa.DataFrameSchema(\n",
    "    columns={col: pa.Column(int) for col in [\"a\", \"b\", \"c\"]},\n",
    "    unique=[\"a\", \"c\"],\n",
    "    report_duplicates=\"exclude_first\",  # NOTE.\n",
    ")\n",
    "df = pd.DataFrame.from_records(\n",
    "    [\n",
    "        {\"a\": 1, \"b\": 2, \"c\": 3},\n",
    "        {\"a\": 1, \"b\": 2, \"c\": 3},\n",
    "    ]\n",
    ")\n",
    "\n",
    "try:\n",
    "    schema.validate(df)\n",
    "except Exception as e:\n",
    "    display(type(e))\n",
    "    print(e)"
   ]
  },
  {
   "attachments": {},
   "cell_type": "markdown",
   "metadata": {},
   "source": [
    "## Index Validation\n",
    "\n",
    "You can also specify an `Index` in the `DataFrameSchema`.\n"
   ]
  },
  {
   "cell_type": "code",
   "execution_count": 16,
   "metadata": {},
   "outputs": [
    {
     "name": "stdout",
     "output_type": "stream",
     "text": [
      "         a\n",
      "index_1  1\n",
      "index_2  2\n",
      "index_3  3\n"
     ]
    }
   ],
   "source": [
    "import pandas as pd\n",
    "import pandera as pa\n",
    "\n",
    "from pandera import Column, DataFrameSchema, Index, Check\n",
    "\n",
    "schema = DataFrameSchema(\n",
    "    columns={\"a\": Column(int)},\n",
    "    index=Index(str, Check(lambda x: x.str.startswith(\"index_\"))),  # NOTE: Index check.\n",
    ")\n",
    "\n",
    "df = pd.DataFrame(data={\"a\": [1, 2, 3]}, index=[\"index_1\", \"index_2\", \"index_3\"])\n",
    "\n",
    "print(schema.validate(df))"
   ]
  },
  {
   "attachments": {},
   "cell_type": "markdown",
   "metadata": {},
   "source": [
    "In the case that the `DataFrame` index doesn’t pass the `Check`:"
   ]
  },
  {
   "cell_type": "code",
   "execution_count": 17,
   "metadata": {},
   "outputs": [
    {
     "data": {
      "text/plain": [
       "pandera.errors.SchemaError"
      ]
     },
     "metadata": {},
     "output_type": "display_data"
    },
    {
     "name": "stdout",
     "output_type": "stream",
     "text": [
      "<Schema Index(name=None, type=DataType(str))> failed element-wise validator 0:\n",
      "<Check <lambda>>\n",
      "failure cases:\n",
      "   index failure_case\n",
      "0      0         foo1\n",
      "1      1         foo2\n",
      "2      2         foo3\n"
     ]
    }
   ],
   "source": [
    "df = pd.DataFrame(data={\"a\": [1, 2, 3]}, index=[\"foo1\", \"foo2\", \"foo3\"])\n",
    "\n",
    "try:\n",
    "    schema.validate(df)\n",
    "except Exception as e:\n",
    "    display(type(e))\n",
    "    print(e)"
   ]
  },
  {
   "attachments": {},
   "cell_type": "markdown",
   "metadata": {},
   "source": [
    "## MultiIndex Validation\n",
    "\n",
    "`pandera` also supports **multi-index *column* and *index* validation**.\n",
    "\n",
    "### MultiIndex Columns\n",
    "\n",
    "Specifying multi-index columns follows the `pandas` syntax of\n",
    "**specifying tuples for each level in the index hierarchy**:"
   ]
  },
  {
   "cell_type": "code",
   "execution_count": 18,
   "metadata": {},
   "outputs": [
    {
     "data": {
      "text/html": [
       "<div>\n",
       "<style scoped>\n",
       "    .dataframe tbody tr th:only-of-type {\n",
       "        vertical-align: middle;\n",
       "    }\n",
       "\n",
       "    .dataframe tbody tr th {\n",
       "        vertical-align: top;\n",
       "    }\n",
       "\n",
       "    .dataframe thead tr th {\n",
       "        text-align: left;\n",
       "    }\n",
       "</style>\n",
       "<table border=\"1\" class=\"dataframe\">\n",
       "  <thead>\n",
       "    <tr>\n",
       "      <th></th>\n",
       "      <th colspan=\"2\" halign=\"left\">foo</th>\n",
       "    </tr>\n",
       "    <tr>\n",
       "      <th></th>\n",
       "      <th>bar</th>\n",
       "      <th>baz</th>\n",
       "    </tr>\n",
       "  </thead>\n",
       "  <tbody>\n",
       "    <tr>\n",
       "      <th>0</th>\n",
       "      <td>1</td>\n",
       "      <td>a</td>\n",
       "    </tr>\n",
       "    <tr>\n",
       "      <th>1</th>\n",
       "      <td>2</td>\n",
       "      <td>b</td>\n",
       "    </tr>\n",
       "    <tr>\n",
       "      <th>2</th>\n",
       "      <td>3</td>\n",
       "      <td>c</td>\n",
       "    </tr>\n",
       "  </tbody>\n",
       "</table>\n",
       "</div>"
      ],
      "text/plain": [
       "  foo    \n",
       "  bar baz\n",
       "0   1   a\n",
       "1   2   b\n",
       "2   3   c"
      ]
     },
     "metadata": {},
     "output_type": "display_data"
    }
   ],
   "source": [
    "import pandas as pd\n",
    "import pandera as pa\n",
    "\n",
    "from pandera import Column, DataFrameSchema, Index\n",
    "\n",
    "schema = DataFrameSchema({(\"foo\", \"bar\"): Column(int), (\"foo\", \"baz\"): Column(str)})\n",
    "\n",
    "df = pd.DataFrame(\n",
    "    {\n",
    "        (\"foo\", \"bar\"): [1, 2, 3],\n",
    "        (\"foo\", \"baz\"): [\"a\", \"b\", \"c\"],\n",
    "    }\n",
    ")\n",
    "\n",
    "display(schema.validate(df))"
   ]
  },
  {
   "attachments": {},
   "cell_type": "markdown",
   "metadata": {},
   "source": [
    "### MultiIndex Indexes\n",
    "\n",
    "The `MultiIndex` class allows you to define multi-index indexes by *composing a list of `pandera.Index` objects*."
   ]
  },
  {
   "cell_type": "code",
   "execution_count": 19,
   "metadata": {},
   "outputs": [
    {
     "data": {
      "text/html": [
       "<div>\n",
       "<style scoped>\n",
       "    .dataframe tbody tr th:only-of-type {\n",
       "        vertical-align: middle;\n",
       "    }\n",
       "\n",
       "    .dataframe tbody tr th {\n",
       "        vertical-align: top;\n",
       "    }\n",
       "\n",
       "    .dataframe thead th {\n",
       "        text-align: right;\n",
       "    }\n",
       "</style>\n",
       "<table border=\"1\" class=\"dataframe\">\n",
       "  <thead>\n",
       "    <tr style=\"text-align: right;\">\n",
       "      <th></th>\n",
       "      <th></th>\n",
       "      <th>column1</th>\n",
       "    </tr>\n",
       "    <tr>\n",
       "      <th>index0</th>\n",
       "      <th>index1</th>\n",
       "      <th></th>\n",
       "    </tr>\n",
       "  </thead>\n",
       "  <tbody>\n",
       "    <tr>\n",
       "      <th>foo</th>\n",
       "      <th>0</th>\n",
       "      <td>1</td>\n",
       "    </tr>\n",
       "    <tr>\n",
       "      <th>bar</th>\n",
       "      <th>1</th>\n",
       "      <td>2</td>\n",
       "    </tr>\n",
       "    <tr>\n",
       "      <th>foo</th>\n",
       "      <th>2</th>\n",
       "      <td>3</td>\n",
       "    </tr>\n",
       "  </tbody>\n",
       "</table>\n",
       "</div>"
      ],
      "text/plain": [
       "               column1\n",
       "index0 index1         \n",
       "foo    0             1\n",
       "bar    1             2\n",
       "foo    2             3"
      ]
     },
     "metadata": {},
     "output_type": "display_data"
    }
   ],
   "source": [
    "import pandas as pd\n",
    "import pandera as pa\n",
    "\n",
    "from pandera import Column, DataFrameSchema, Index, MultiIndex, Check  # NOTE: MultiIndex here.\n",
    "\n",
    "schema = DataFrameSchema(\n",
    "    columns={\"column1\": Column(int)},\n",
    "    # NOTE:\n",
    "    index=MultiIndex(\n",
    "        [\n",
    "            Index(str, Check(lambda s: s.isin([\"foo\", \"bar\"])), name=\"index0\"),\n",
    "            Index(int, name=\"index1\"),\n",
    "        ]\n",
    "    ),\n",
    ")\n",
    "\n",
    "df = pd.DataFrame(\n",
    "    data={\"column1\": [1, 2, 3]},\n",
    "    index=pd.MultiIndex.from_arrays(\n",
    "        [[\"foo\", \"bar\", \"foo\"], [0, 1, 2]],\n",
    "        names=[\"index0\", \"index1\"],\n",
    "    ),\n",
    ")\n",
    "\n",
    "display(schema.validate(df))"
   ]
  },
  {
   "attachments": {},
   "cell_type": "markdown",
   "metadata": {},
   "source": [
    "## Get Pandas Data Types\n",
    "\n",
    "Pandas provides a `dtype` parameter for *casting a dataframe to a specific **dtype schema***.\n",
    "\n",
    "`DataFrameSchema` provides a `dtypes` property which returns a dictionary whose keys are column names and values are `DataType`.\n",
    "\n",
    "Some examples of where this can be provided to pandas are:\n",
    "* https://pandas.pydata.org/pandas-docs/stable/reference/api/pandas.read_csv.html\n",
    "* https://pandas.pydata.org/pandas-docs/stable/reference/api/pandas.DataFrame.astype.html\n"
   ]
  },
  {
   "cell_type": "code",
   "execution_count": 20,
   "metadata": {},
   "outputs": [
    {
     "name": "stdout",
     "output_type": "stream",
     "text": [
      "{'column1': DataType(int64), 'column2': DataType(category), 'column3': DataType(bool)}\n"
     ]
    },
    {
     "data": {
      "text/html": [
       "<div>\n",
       "<style scoped>\n",
       "    .dataframe tbody tr th:only-of-type {\n",
       "        vertical-align: middle;\n",
       "    }\n",
       "\n",
       "    .dataframe tbody tr th {\n",
       "        vertical-align: top;\n",
       "    }\n",
       "\n",
       "    .dataframe thead th {\n",
       "        text-align: right;\n",
       "    }\n",
       "</style>\n",
       "<table border=\"1\" class=\"dataframe\">\n",
       "  <thead>\n",
       "    <tr style=\"text-align: right;\">\n",
       "      <th></th>\n",
       "      <th>column1</th>\n",
       "      <th>column2</th>\n",
       "      <th>column3</th>\n",
       "    </tr>\n",
       "  </thead>\n",
       "  <tbody>\n",
       "    <tr>\n",
       "      <th>a</th>\n",
       "      <td>1</td>\n",
       "      <td>valueA</td>\n",
       "      <td>True</td>\n",
       "    </tr>\n",
       "    <tr>\n",
       "      <th>b</th>\n",
       "      <td>1</td>\n",
       "      <td>valueB</td>\n",
       "      <td>True</td>\n",
       "    </tr>\n",
       "  </tbody>\n",
       "</table>\n",
       "</div>"
      ],
      "text/plain": [
       "   column1 column2  column3\n",
       "a        1  valueA     True\n",
       "b        1  valueB     True"
      ]
     },
     "metadata": {},
     "output_type": "display_data"
    }
   ],
   "source": [
    "import pandas as pd\n",
    "import pandera as pa\n",
    "\n",
    "schema = pa.DataFrameSchema(\n",
    "    columns={\n",
    "        \"column1\": pa.Column(int),\n",
    "        \"column2\": pa.Column(pa.Category),\n",
    "        \"column3\": pa.Column(bool),\n",
    "    },\n",
    ")\n",
    "\n",
    "df = (\n",
    "    pd.DataFrame.from_dict(\n",
    "        {\n",
    "            \"a\": {\"column1\": 1, \"column2\": \"valueA\", \"column3\": True},\n",
    "            \"b\": {\"column1\": 1, \"column2\": \"valueB\", \"column3\": True},\n",
    "        },\n",
    "        orient=\"index\",\n",
    "    )\n",
    "    .astype({col: str(dtype) for col, dtype in schema.dtypes.items()})  # NOTE: schema.dtypes\n",
    "    .sort_index(axis=1)\n",
    ")\n",
    "\n",
    "print(schema.dtypes)\n",
    "\n",
    "display(schema.validate(df))"
   ]
  },
  {
   "attachments": {},
   "cell_type": "markdown",
   "metadata": {},
   "source": [
    "## `DataFrameSchema` *Transformations*\n",
    "\n",
    "ℹ️ Once you’ve defined a schema, **you can then make modifications to it**,\n",
    "* both on the *schema level* - such as *adding or removing columns* and *setting or resetting the index*;\n",
    "* or on the *column level* - such as changing the data type or checks.\n",
    "\n",
    "> This is useful for re-using schema objects in a data pipeline when additional computation has been done on a dataframe,\n",
    "> where the column objects may have changed or perhaps where additional checks may be required."
   ]
  },
  {
   "cell_type": "code",
   "execution_count": 21,
   "metadata": {},
   "outputs": [
    {
     "name": "stdout",
     "output_type": "stream",
     "text": [
      "data\n"
     ]
    },
    {
     "data": {
      "text/html": [
       "<div>\n",
       "<style scoped>\n",
       "    .dataframe tbody tr th:only-of-type {\n",
       "        vertical-align: middle;\n",
       "    }\n",
       "\n",
       "    .dataframe tbody tr th {\n",
       "        vertical-align: top;\n",
       "    }\n",
       "\n",
       "    .dataframe thead th {\n",
       "        text-align: right;\n",
       "    }\n",
       "</style>\n",
       "<table border=\"1\" class=\"dataframe\">\n",
       "  <thead>\n",
       "    <tr style=\"text-align: right;\">\n",
       "      <th></th>\n",
       "      <th>col1</th>\n",
       "    </tr>\n",
       "  </thead>\n",
       "  <tbody>\n",
       "    <tr>\n",
       "      <th>0</th>\n",
       "      <td>1</td>\n",
       "    </tr>\n",
       "    <tr>\n",
       "      <th>1</th>\n",
       "      <td>2</td>\n",
       "    </tr>\n",
       "    <tr>\n",
       "      <th>2</th>\n",
       "      <td>3</td>\n",
       "    </tr>\n",
       "    <tr>\n",
       "      <th>3</th>\n",
       "      <td>4</td>\n",
       "    </tr>\n",
       "    <tr>\n",
       "      <th>4</th>\n",
       "      <td>5</td>\n",
       "    </tr>\n",
       "  </tbody>\n",
       "</table>\n",
       "</div>"
      ],
      "text/plain": [
       "   col1\n",
       "0     1\n",
       "1     2\n",
       "2     3\n",
       "3     4\n",
       "4     5"
      ]
     },
     "metadata": {},
     "output_type": "display_data"
    },
    {
     "name": "stdout",
     "output_type": "stream",
     "text": [
      "transformed_data\n"
     ]
    },
    {
     "data": {
      "text/html": [
       "<div>\n",
       "<style scoped>\n",
       "    .dataframe tbody tr th:only-of-type {\n",
       "        vertical-align: middle;\n",
       "    }\n",
       "\n",
       "    .dataframe tbody tr th {\n",
       "        vertical-align: top;\n",
       "    }\n",
       "\n",
       "    .dataframe thead th {\n",
       "        text-align: right;\n",
       "    }\n",
       "</style>\n",
       "<table border=\"1\" class=\"dataframe\">\n",
       "  <thead>\n",
       "    <tr style=\"text-align: right;\">\n",
       "      <th></th>\n",
       "      <th>col1</th>\n",
       "      <th>col2</th>\n",
       "      <th>col3</th>\n",
       "    </tr>\n",
       "  </thead>\n",
       "  <tbody>\n",
       "    <tr>\n",
       "      <th>0</th>\n",
       "      <td>1</td>\n",
       "      <td>value</td>\n",
       "      <td>0.0</td>\n",
       "    </tr>\n",
       "    <tr>\n",
       "      <th>1</th>\n",
       "      <td>2</td>\n",
       "      <td>value</td>\n",
       "      <td>0.0</td>\n",
       "    </tr>\n",
       "    <tr>\n",
       "      <th>2</th>\n",
       "      <td>3</td>\n",
       "      <td>value</td>\n",
       "      <td>0.0</td>\n",
       "    </tr>\n",
       "    <tr>\n",
       "      <th>3</th>\n",
       "      <td>4</td>\n",
       "      <td>value</td>\n",
       "      <td>0.0</td>\n",
       "    </tr>\n",
       "    <tr>\n",
       "      <th>4</th>\n",
       "      <td>5</td>\n",
       "      <td>value</td>\n",
       "      <td>0.0</td>\n",
       "    </tr>\n",
       "  </tbody>\n",
       "</table>\n",
       "</div>"
      ],
      "text/plain": [
       "   col1   col2  col3\n",
       "0     1  value   0.0\n",
       "1     2  value   0.0\n",
       "2     3  value   0.0\n",
       "3     4  value   0.0\n",
       "4     5  value   0.0"
      ]
     },
     "metadata": {},
     "output_type": "display_data"
    },
    {
     "name": "stdout",
     "output_type": "stream",
     "text": [
      "Validating...\n"
     ]
    },
    {
     "data": {
      "text/html": [
       "<div>\n",
       "<style scoped>\n",
       "    .dataframe tbody tr th:only-of-type {\n",
       "        vertical-align: middle;\n",
       "    }\n",
       "\n",
       "    .dataframe tbody tr th {\n",
       "        vertical-align: top;\n",
       "    }\n",
       "\n",
       "    .dataframe thead th {\n",
       "        text-align: right;\n",
       "    }\n",
       "</style>\n",
       "<table border=\"1\" class=\"dataframe\">\n",
       "  <thead>\n",
       "    <tr style=\"text-align: right;\">\n",
       "      <th></th>\n",
       "      <th>col1</th>\n",
       "      <th>col2</th>\n",
       "      <th>col3</th>\n",
       "    </tr>\n",
       "  </thead>\n",
       "  <tbody>\n",
       "    <tr>\n",
       "      <th>0</th>\n",
       "      <td>1</td>\n",
       "      <td>value</td>\n",
       "      <td>0.0</td>\n",
       "    </tr>\n",
       "    <tr>\n",
       "      <th>1</th>\n",
       "      <td>2</td>\n",
       "      <td>value</td>\n",
       "      <td>0.0</td>\n",
       "    </tr>\n",
       "    <tr>\n",
       "      <th>2</th>\n",
       "      <td>3</td>\n",
       "      <td>value</td>\n",
       "      <td>0.0</td>\n",
       "    </tr>\n",
       "    <tr>\n",
       "      <th>3</th>\n",
       "      <td>4</td>\n",
       "      <td>value</td>\n",
       "      <td>0.0</td>\n",
       "    </tr>\n",
       "    <tr>\n",
       "      <th>4</th>\n",
       "      <td>5</td>\n",
       "      <td>value</td>\n",
       "      <td>0.0</td>\n",
       "    </tr>\n",
       "  </tbody>\n",
       "</table>\n",
       "</div>"
      ],
      "text/plain": [
       "   col1   col2  col3\n",
       "0     1  value   0.0\n",
       "1     2  value   0.0\n",
       "2     3  value   0.0\n",
       "3     4  value   0.0\n",
       "4     5  value   0.0"
      ]
     },
     "metadata": {},
     "output_type": "display_data"
    }
   ],
   "source": [
    "import pandas as pd\n",
    "import pandera as pa\n",
    "\n",
    "data = pd.DataFrame({\"col1\": range(1, 6)})\n",
    "\n",
    "schema = pa.DataFrameSchema(\n",
    "    columns={\"col1\": pa.Column(int, pa.Check(lambda s: s >= 0))},\n",
    "    strict=True,\n",
    ")\n",
    "\n",
    "# NOTE: .add_columns():\n",
    "transformed_schema = schema.add_columns(\n",
    "    {\n",
    "        \"col2\": pa.Column(str, pa.Check(lambda s: s == \"value\")),\n",
    "        \"col3\": pa.Column(float, pa.Check(lambda x: x == 0.0)),\n",
    "    }\n",
    ")\n",
    "assert isinstance(transformed_schema, pa.DataFrameSchema)  # For static type checker's sake.\n",
    "\n",
    "# validate original data\n",
    "data = schema.validate(data)\n",
    "print(\"data\")\n",
    "display(data)\n",
    "\n",
    "# transformation\n",
    "transformed_data = data.assign(col2=\"value\", col3=0.0)\n",
    "print(\"transformed_data\")\n",
    "display(transformed_data)\n",
    "\n",
    "# validate transformed data\n",
    "print(\"Validating...\")\n",
    "display(transformed_schema.validate(transformed_data))"
   ]
  },
  {
   "attachments": {},
   "cell_type": "markdown",
   "metadata": {},
   "source": [
    "Similarly, if you want *dropped columns* to be explicitly validated in a data pipeline:"
   ]
  },
  {
   "cell_type": "code",
   "execution_count": 4,
   "metadata": {},
   "outputs": [
    {
     "data": {
      "text/plain": [
       "<Schema DataFrameSchema(columns={'col1': <Schema Column(name=col1, type=DataType(int64))>}, checks=[], index=None, coerce=False, dtype=None, strict=True, name=None, ordered=False, unique_column_names=False)>"
      ]
     },
     "metadata": {},
     "output_type": "display_data"
    }
   ],
   "source": [
    "import pandera as pa\n",
    "\n",
    "schema = pa.DataFrameSchema(\n",
    "    columns={\n",
    "        \"col1\": pa.Column(int, pa.Check(lambda s: s >= 0)),\n",
    "        \"col2\": pa.Column(str, pa.Check(lambda x: x <= 0)),\n",
    "        \"col3\": pa.Column(object, pa.Check(lambda x: x == 0)),\n",
    "    },\n",
    "    strict=True,\n",
    ")\n",
    "\n",
    "new_schema = schema.remove_columns([\"col2\", \"col3\"])\n",
    "display(new_schema)\n",
    "\n",
    "\"\"\"\n",
    "<Schema DataFrameSchema(\n",
    "    columns={\n",
    "        'col1': <Schema Column(name=col1, type=DataType(int64))>\n",
    "    },\n",
    "    checks=[],\n",
    "    coerce=False,\n",
    "    dtype=None,\n",
    "    index=None,\n",
    "    strict=True\n",
    "    name=None,\n",
    "    ordered=False,\n",
    "    unique_column_names=False\n",
    ")>\n",
    "\"\"\";"
   ]
  },
  {
   "attachments": {},
   "cell_type": "markdown",
   "metadata": {},
   "source": [
    "If during the course of a data pipeline *one of your columns is moved into the index*,\n",
    "you can simply *update the initial input schema using the `set_index()` method* to create a schema for the pipeline output."
   ]
  },
  {
   "cell_type": "code",
   "execution_count": 6,
   "metadata": {},
   "outputs": [
    {
     "name": "stdout",
     "output_type": "stream",
     "text": [
      "<Schema DataFrameSchema(\n",
      "    columns={\n",
      "        'column2': <Schema Column(name=column2, type=DataType(float64))>\n",
      "    },\n",
      "    checks=[],\n",
      "    coerce=True,\n",
      "    dtype=None,\n",
      "    index=<Schema MultiIndex(\n",
      "        indexes=[\n",
      "            <Schema Index(name=column3, type=DataType(int64))>\n",
      "            <Schema Index(name=column1, type=DataType(int64))>\n",
      "        ]\n",
      "        coerce=False,\n",
      "        strict=False,\n",
      "        name=None,\n",
      "        ordered=True\n",
      "    )>,\n",
      "    strict=True\n",
      "    name=None,\n",
      "    ordered=False,\n",
      "    unique_column_names=False\n",
      ")>\n"
     ]
    }
   ],
   "source": [
    "import pandera as pa\n",
    "\n",
    "from pandera import Column, DataFrameSchema, Check, Index\n",
    "\n",
    "schema = DataFrameSchema(\n",
    "    {\"column1\": Column(int), \"column2\": Column(float)},\n",
    "    index=Index(int, name=\"column3\"),\n",
    "    strict=True,\n",
    "    coerce=True,\n",
    ")\n",
    "\n",
    "print(schema.set_index([\"column1\"], append=True))  # NOTE schema.set_index\n",
    "\n",
    "\"\"\"\n",
    "<Schema DataFrameSchema(\n",
    "    columns={\n",
    "        'column2': <Schema Column(name=column2, type=DataType(float64))>\n",
    "    },\n",
    "    checks=[],\n",
    "    coerce=True,\n",
    "    dtype=None,\n",
    "    index=<Schema MultiIndex(\n",
    "        indexes=[\n",
    "            <Schema Index(name=column3, type=DataType(int64))>\n",
    "            <Schema Index(name=column1, type=DataType(int64))>\n",
    "        ]\n",
    "        coerce=False,\n",
    "        strict=False,\n",
    "        name=None,\n",
    "        ordered=True\n",
    "    )>,\n",
    "    strict=True\n",
    "    name=None,\n",
    "    ordered=False,\n",
    "    unique_column_names=False\n",
    ")>\n",
    "\"\"\";"
   ]
  },
  {
   "attachments": {},
   "cell_type": "markdown",
   "metadata": {},
   "source": [
    "ℹ️ The available methods for altering the schema are:\n",
    "* `add_columns()`,\n",
    "* `remove_columns()`,\n",
    "* `update_columns()`,\n",
    "* `rename_columns()`,\n",
    "* `set_index()`,\n",
    "* and `reset_index()`."
   ]
  }
 ],
 "metadata": {
  "kernelspec": {
   "display_name": "learn_py38_pandera",
   "language": "python",
   "name": "python3"
  },
  "language_info": {
   "codemirror_mode": {
    "name": "ipython",
    "version": 3
   },
   "file_extension": ".py",
   "mimetype": "text/x-python",
   "name": "python",
   "nbconvert_exporter": "python",
   "pygments_lexer": "ipython3",
   "version": "3.8.15"
  },
  "orig_nbformat": 4,
  "vscode": {
   "interpreter": {
    "hash": "d04adb6128c0e7f0210d38b3bb730109356ca8c5dadd5211bc2bc571a84fe032"
   }
  }
 },
 "nbformat": 4,
 "nbformat_minor": 2
}
