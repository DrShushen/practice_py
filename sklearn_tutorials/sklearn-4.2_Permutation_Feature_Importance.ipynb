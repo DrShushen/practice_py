{
 "cells": [
  {
   "cell_type": "markdown",
   "id": "dd9bb359-08c2-4861-878f-d6b76b1bd9a1",
   "metadata": {},
   "source": [
    "# Permutation Feature Imporance\n",
    "\n",
    "From this guide: https://scikit-learn.org/stable/modules/permutation_importance.html"
   ]
  },
  {
   "cell_type": "markdown",
   "id": "160bad24-ad1b-4234-8ac2-361cbb3e3dfd",
   "metadata": {},
   "source": [
    "## Overview\n",
    "\n",
    "Permutation feature importance is a model inspection technique that can be used for **any fitted estimator** when the *data is tabular*. This is especially useful for *non-linear or opaque estimators*.\n",
    "\n",
    "The permutation feature importance is defined to be:\n",
    "> the decrease in a model score when a single feature value is randomly shuffled.\n",
    "\n",
    "* This procedure **breaks the relationship between the feature and the target**, thus the drop in the model score is indicative of **how much the model depends on the feature**.\n",
    "* This technique benefits from being model agnostic and can be calculated many times with different permutations of the feature.\n",
    "\n",
    "The `permutation_importance` *function* calculates the feature importance of *estimators* for a given *dataset*. The `n_repeats` parameter sets the number of times a feature is randomly shuffled and returns *a sample of feature importances*.\n",
    "\n",
    "Let’s consider the following trained regression model:"
   ]
  },
  {
   "cell_type": "code",
   "execution_count": 1,
   "id": "7364f2ff-6f8b-4259-841f-2e5aad105f87",
   "metadata": {},
   "outputs": [],
   "source": [
    "from IPython.display import display\n",
    "from sklearn.datasets import load_diabetes\n",
    "from sklearn.model_selection import train_test_split\n",
    "from sklearn.linear_model import Ridge"
   ]
  },
  {
   "cell_type": "code",
   "execution_count": 12,
   "id": "caa7e739-5b51-45f1-88b7-ae0716ffc192",
   "metadata": {},
   "outputs": [],
   "source": [
    "diabetes = load_diabetes()\n",
    "X_train, X_val, y_train, y_val = train_test_split(\n",
    "    diabetes.data, \n",
    "    diabetes.target, \n",
    "    random_state=0\n",
    ")"
   ]
  },
  {
   "cell_type": "code",
   "execution_count": 13,
   "id": "2e290d82-4d1f-4193-8d2a-e8cec9acb317",
   "metadata": {},
   "outputs": [
    {
     "data": {
      "text/plain": [
       "(331, 10)"
      ]
     },
     "execution_count": 13,
     "metadata": {},
     "output_type": "execute_result"
    }
   ],
   "source": [
    "X_train.shape"
   ]
  },
  {
   "cell_type": "code",
   "execution_count": 3,
   "id": "eb783831-32c1-4d19-8f2f-c0e476027abb",
   "metadata": {},
   "outputs": [
    {
     "data": {
      "text/plain": [
       "0.3566606238695452"
      ]
     },
     "execution_count": 3,
     "metadata": {},
     "output_type": "execute_result"
    }
   ],
   "source": [
    "model = Ridge(alpha=1e-2).fit(X_train, y_train)\n",
    "model.score(X_val, y_val)"
   ]
  },
  {
   "cell_type": "markdown",
   "id": "0dd0becf-2ca4-40ea-98fe-f8873e169a8d",
   "metadata": {},
   "source": [
    "Its validation performance, measured via the $R^2$ **score**, is significantly larger than the chance level. This makes it possible to use the `permutation_importance` function to probe which features are most predictive:"
   ]
  },
  {
   "cell_type": "code",
   "execution_count": 4,
   "id": "96cdb770-7880-45d2-a9be-8834315b7121",
   "metadata": {},
   "outputs": [],
   "source": [
    "from sklearn.inspection import permutation_importance"
   ]
  },
  {
   "cell_type": "code",
   "execution_count": 7,
   "id": "bd844e18-4574-49b3-9297-4e7ed8bc6a3f",
   "metadata": {},
   "outputs": [
    {
     "name": "stdout",
     "output_type": "stream",
     "text": [
      "<class 'sklearn.utils.Bunch'>\n"
     ]
    }
   ],
   "source": [
    "r = permutation_importance(\n",
    "    model, \n",
    "    X_val, \n",
    "    y_val,\n",
    "    n_repeats=30,\n",
    "    random_state=0\n",
    ")\n",
    "\n",
    "print(type(r))"
   ]
  },
  {
   "cell_type": "code",
   "execution_count": 9,
   "id": "ad7eff7f-db30-41fb-87a8-c645e79449f8",
   "metadata": {},
   "outputs": [
    {
     "data": {
      "text/plain": [
       "(sklearn.utils.Bunch, dict, object)"
      ]
     },
     "execution_count": 9,
     "metadata": {},
     "output_type": "execute_result"
    }
   ],
   "source": [
    "# 💡 Side note: see here what the object returned by `permutation_importance()` is...\n",
    "# It is NOT an estimator, it is basically a dictionary.\n",
    "import inspect\n",
    "inspect.getmro(type(r))"
   ]
  },
  {
   "cell_type": "code",
   "execution_count": 15,
   "id": "12f40f88-6e3a-434f-91eb-645df4584b9b",
   "metadata": {},
   "outputs": [
    {
     "name": "stdout",
     "output_type": "stream",
     "text": [
      "(10,)\n"
     ]
    },
    {
     "data": {
      "text/plain": [
       "array([-0.00199267,  0.05587407,  0.17579   ,  0.08836513,  0.04221134,\n",
       "        0.00203626,  0.00203754,  0.00318695,  0.20423412,  0.00278683])"
      ]
     },
     "execution_count": 15,
     "metadata": {},
     "output_type": "execute_result"
    }
   ],
   "source": [
    "print(r.importances_mean.shape)  # Note: the shape is 10, for 10 features!\n",
    "r.importances_mean  # A (mean) importance value for each feature."
   ]
  },
  {
   "cell_type": "code",
   "execution_count": 16,
   "id": "dca91e34-286b-4a60-9d74-140f16cedc83",
   "metadata": {},
   "outputs": [
    {
     "name": "stdout",
     "output_type": "stream",
     "text": [
      "s5      0.204 +/- 0.050\n",
      "bmi     0.176 +/- 0.048\n",
      "bp      0.088 +/- 0.033\n",
      "sex     0.056 +/- 0.023\n"
     ]
    }
   ],
   "source": [
    "for i in r.importances_mean.argsort()[::-1]:\n",
    "    if r.importances_mean[i] - 2 * r.importances_std[i] > 0:\n",
    "        # ^ NOTE: \n",
    "        # Choose only those featurese where mean_importance - 2 * std_of_imporance > 0...\n",
    "        print(f\"{diabetes.feature_names[i]:<8}\"\n",
    "              f\"{r.importances_mean[i]:.3f}\"\n",
    "              f\" +/- {r.importances_std[i]:.3f}\")"
   ]
  },
  {
   "cell_type": "markdown",
   "id": "92809ba3-46a6-462b-9151-29a25d06118f",
   "metadata": {},
   "source": [
    "Note that the importance values for the top features *represent a large fraction of the reference score* of `0.356`.\n",
    "\n",
    "⚠️ Permutation importances **can be computed either on the training set or on a held-out testing or validation set**. Using a held-out set makes it possible to highlight which features contribute the most to the generalization power of the inspected model. Features that are important on the training set but not on the held-out set might cause the model to overfit.\n",
    "\n",
    "---\n",
    "\n",
    "**⚠️ Warning:**\n",
    "\n",
    "Features that are deemed of **low importance for a *bad model*** (low cross-validation score) could be **very important for a *good model***. \n",
    "\n",
    "‼️ Therefore it is **always important to evaluate the `predictive power of the *model*` using a *held-out set* (or better with *cross-validation*)** *prior to computing importances*. \n",
    "\n",
    "Permutation importance does not reflect to the intrinsic predictive value of a feature by itself but how important this feature is for a particular model. \n",
    "\n",
    "---"
   ]
  },
  {
   "cell_type": "markdown",
   "id": "b8494614-2b53-481d-93df-e0cc8fb54b1e",
   "metadata": {},
   "source": [
    "## [Outline of the permutation importance algorithm](https://scikit-learn.org/stable/modules/permutation_importance.html#outline-of-the-permutation-importance-algorithm)\n",
    "\n",
    "📚🎓 See the [section](https://scikit-learn.org/stable/modules/permutation_importance.html#outline-of-the-permutation-importance-algorithm)"
   ]
  },
  {
   "cell_type": "markdown",
   "id": "139c2a22-0d9d-4992-81af-94a886ce4725",
   "metadata": {},
   "source": [
    "## [Relation to impurity-based importance in trees](https://scikit-learn.org/stable/modules/permutation_importance.html#relation-to-impurity-based-importance-in-trees)\n",
    "\n",
    "Tree-based models provide an **alternative measure of feature importances** based on the [mean decrease in impurity (MDI)](https://scikit-learn.org/stable/modules/ensemble.html#random-forest-feature-importance).\n",
    "\n",
    "Impurity is quantified by the **splitting criterion of the decision trees** (`Gini`, `Entropy` or `Mean Squared Error`). However, this method can give high importance to features that may not be predictive on unseen data *when the model is overfitting*. Permutation-based feature importance, on the other hand, *avoids this issue, since it can be computed on unseen data*.\n",
    "\n",
    "Furthermore, impurity-based feature importance for trees are **strongly biased** and **favor high cardinality features** (typically numerical features) over low cardinality features such as binary features or categorical variables with a small number of possible categories. Permutation-based feature importances *do not exhibit such a bias*. \n",
    "\n",
    "The following example highlights the limitations of impurity-based feature importance in contrast to permutation-based feature importance: [📚 Permutation Importance vs Random Forest Feature Importance (MDI)](https://scikit-learn.org/stable/auto_examples/inspection/plot_permutation_importance.html#sphx-glr-auto-examples-inspection-plot-permutation-importance-py)."
   ]
  },
  {
   "cell_type": "markdown",
   "id": "da008feb-08c0-46cb-875c-dc2bc45880fc",
   "metadata": {},
   "source": [
    "## [Misleading values *on strongly correlated features*](https://scikit-learn.org/stable/modules/permutation_importance.html#misleading-values-on-strongly-correlated-features)\n",
    "\n",
    "**⚠️‼️ When two features are correlated and one of the features is permuted, the model will still have access to the feature through its correlated feature.** This will result in a **lower importance value for both features**, where **they might actually be important**.\n",
    "\n",
    "One way to handle this is to *cluster features that are correlated and only keep one feature from each cluster*. This strategy is explored in the following example: [📚 Permutation Importance with Multicollinear or Correlated Features](https://scikit-learn.org/stable/auto_examples/inspection/plot_permutation_importance_multicollinear.html#sphx-glr-auto-examples-inspection-plot-permutation-importance-multicollinear-py)."
   ]
  },
  {
   "cell_type": "markdown",
   "id": "3c2a13ec-9cec-4cc4-b847-5eb002847110",
   "metadata": {},
   "source": [
    "**📚 Examples:**\n",
    "* [Permutation Importance vs Random Forest Feature Importance (MDI)](https://scikit-learn.org/stable/auto_examples/inspection/plot_permutation_importance.html#sphx-glr-auto-examples-inspection-plot-permutation-importance-py)\n",
    "* [Permutation Importance with Multicollinear or Correlated Features](https://scikit-learn.org/stable/auto_examples/inspection/plot_permutation_importance_multicollinear.html#sphx-glr-auto-examples-inspection-plot-permutation-importance-multicollinear-py)"
   ]
  }
 ],
 "metadata": {
  "kernelspec": {
   "display_name": "Python 3",
   "language": "python",
   "name": "python3"
  },
  "language_info": {
   "codemirror_mode": {
    "name": "ipython",
    "version": 3
   },
   "file_extension": ".py",
   "mimetype": "text/x-python",
   "name": "python",
   "nbconvert_exporter": "python",
   "pygments_lexer": "ipython3",
   "version": "3.8.10"
  }
 },
 "nbformat": 4,
 "nbformat_minor": 5
}
