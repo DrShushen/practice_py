{
 "cells": [
  {
   "cell_type": "markdown",
   "id": "9e4ca15d-6e6b-490d-b100-c8697ed785ca",
   "metadata": {},
   "source": [
    "# Pipelines and composite estimators\n",
    "\n",
    "From this guide: https://scikit-learn.org/stable/modules/compose.html"
   ]
  },
  {
   "cell_type": "markdown",
   "id": "c9ef6b9f-cc1e-4288-8ba3-9e51004653c1",
   "metadata": {},
   "source": [
    "## Overview\n",
    "\n",
    "Transformers are usually combined with classifiers, regressors or other estimators to build a **composite estimator**. \n",
    "\n",
    "The most common tool is a [`Pipeline`](https://scikit-learn.org/stable/modules/compose.html#pipeline). `Pipeline` is often used in combination with `FeatureUnion` which *concatenates the output of transformers into a composite feature space*. \n",
    "\n",
    "`TransformedTargetRegressor` deals with transforming the target (e.g. log-transform `y`). In contrast, `Pipeline`s only transform the observed data (`X`)."
   ]
  },
  {
   "cell_type": "markdown",
   "id": "484dac60-9db0-4ccb-a0fe-d5b11deeeb9f",
   "metadata": {},
   "source": [
    "## [Pipeline: chaining estimators](https://scikit-learn.org/stable/modules/compose.html#pipeline-chaining-estimators)\n",
    "\n",
    "`Pipeline` can be used to *chain multiple estimators into one*. This is useful as there is often a fixed sequence of steps in processing the data, for example feature selection, normalization and classification. \n",
    "\n",
    "Pipeline serves multiple purposes here:\n",
    "\n",
    "**Convenience and encapsulation**\n",
    "* You only have to call `fit` and `predict` *once* on your data to fit a whole sequence of estimators.\n",
    "\n",
    "**Joint parameter selection**\n",
    "* You can grid *search over parameters* of **all estimators** in the pipeline **at once**.\n",
    "\n",
    "**Safety**\n",
    "* `Pipeline`s help avoid *leaking* statistics from your test data into the trained model in cross-validation, by ensuring that the same samples are used to train the transformers and predictors.\n",
    "\n",
    "⚠️ All estimators in a pipeline, except the last one, must be transformers (i.e. must have a `transform` method). The *last estimator may be any type* (transformer, classifier, etc.)."
   ]
  },
  {
   "cell_type": "markdown",
   "id": "3310e696-24cc-454a-b547-26b39ce39dea",
   "metadata": {},
   "source": [
    "### Construction\n",
    "\n",
    "The `Pipeline` is built using a list of `(key, value)` pairs, where the key is a string containing the name you want to give this step and value is an estimator object:"
   ]
  },
  {
   "cell_type": "code",
   "execution_count": 1,
   "id": "c28e0a7e-40a4-4475-83cb-ceaf0f90f667",
   "metadata": {},
   "outputs": [
    {
     "name": "stdout",
     "output_type": "stream",
     "text": [
      "Pipeline(steps=[('reduce_dim', PCA()), ('clf', SVC())])\n"
     ]
    }
   ],
   "source": [
    "from sklearn.pipeline import Pipeline\n",
    "from sklearn.svm import SVC\n",
    "from sklearn.decomposition import PCA\n",
    "from IPython.display import display\n",
    "\n",
    "estimators = [\n",
    "    # string --> object\n",
    "    ('reduce_dim', PCA()), \n",
    "    ('clf', SVC())\n",
    "]\n",
    "\n",
    "pipe = Pipeline(estimators)\n",
    "print(pipe)"
   ]
  },
  {
   "cell_type": "markdown",
   "id": "dadc3671-67a4-4b70-b90d-53d0038ab15b",
   "metadata": {},
   "source": [
    "The **utility function `make_pipeline`** is a shorthand for constructing pipelines. \n",
    "\n",
    "It takes a variable number of estimators and returns a pipeline, *filling in the names automatically*:"
   ]
  },
  {
   "cell_type": "code",
   "execution_count": 2,
   "id": "5b287aea-3982-4333-b6b9-fa0dce3a4817",
   "metadata": {},
   "outputs": [
    {
     "name": "stdout",
     "output_type": "stream",
     "text": [
      "Pipeline(steps=[('binarizer', Binarizer()), ('multinomialnb', MultinomialNB())])\n"
     ]
    }
   ],
   "source": [
    "from sklearn.pipeline import make_pipeline\n",
    "from sklearn.naive_bayes import MultinomialNB\n",
    "from sklearn.preprocessing import Binarizer\n",
    "\n",
    "pipe2 = make_pipeline(Binarizer(), MultinomialNB())\n",
    "print(pipe2)"
   ]
  },
  {
   "cell_type": "markdown",
   "id": "5132865a-9d1e-4790-a697-eb3a741e5d87",
   "metadata": {},
   "source": [
    "### Accessing steps\n",
    "\n",
    "The estimators of a pipeline are stored as a list in the **`steps` attribute**, but can be accessed by index or name by indexing (with `[idx]`) the `Pipeline`:"
   ]
  },
  {
   "cell_type": "code",
   "execution_count": 6,
   "id": "525fe82d-d90b-4ed8-9a0b-ae367b227d9e",
   "metadata": {},
   "outputs": [
    {
     "data": {
      "text/plain": [
       "[('reduce_dim', PCA()), ('clf', SVC())]"
      ]
     },
     "execution_count": 6,
     "metadata": {},
     "output_type": "execute_result"
    }
   ],
   "source": [
    "pipe.steps"
   ]
  },
  {
   "cell_type": "code",
   "execution_count": 7,
   "id": "50d5d8d5-c8d4-4809-95bc-6056d3533713",
   "metadata": {},
   "outputs": [
    {
     "data": {
      "text/plain": [
       "('reduce_dim', PCA())"
      ]
     },
     "execution_count": 7,
     "metadata": {},
     "output_type": "execute_result"
    }
   ],
   "source": [
    "pipe.steps[0]  # Returns the (name, obj) tuple."
   ]
  },
  {
   "cell_type": "code",
   "execution_count": 8,
   "id": "8ac9082b-c756-4108-af4e-7a70c68aac7e",
   "metadata": {},
   "outputs": [
    {
     "data": {
      "text/plain": [
       "PCA()"
      ]
     },
     "execution_count": 8,
     "metadata": {},
     "output_type": "execute_result"
    }
   ],
   "source": [
    "pipe[0]  # Returns only obj."
   ]
  },
  {
   "cell_type": "code",
   "execution_count": 9,
   "id": "1285ac3b-0a59-4634-86e1-43d18cb556c7",
   "metadata": {},
   "outputs": [
    {
     "data": {
      "text/plain": [
       "PCA()"
      ]
     },
     "execution_count": 9,
     "metadata": {},
     "output_type": "execute_result"
    }
   ],
   "source": [
    "pipe[\"reduce_dim\"]"
   ]
  },
  {
   "cell_type": "markdown",
   "id": "6450fdc1-5e2f-407f-aaaf-23ada27279ba",
   "metadata": {},
   "source": [
    "Pipeline’s `named_steps` attribute allows accessing steps by name with tab completion in interactive environments:"
   ]
  },
  {
   "cell_type": "code",
   "execution_count": 10,
   "id": "5cea114c-538a-4f33-9313-4be64034553a",
   "metadata": {},
   "outputs": [
    {
     "data": {
      "text/plain": [
       "True"
      ]
     },
     "execution_count": 10,
     "metadata": {},
     "output_type": "execute_result"
    }
   ],
   "source": [
    "pipe.named_steps.reduce_dim is pipe['reduce_dim']"
   ]
  },
  {
   "cell_type": "markdown",
   "id": "119786c6-a3b2-47a0-acd4-136685993972",
   "metadata": {},
   "source": [
    "A *sub-pipeline* can also be extracted using the slicing notation commonly used for Python Sequences such as lists or strings (although only a step of 1 is permitted). This is convenient for performing only some of the transformations (or their inverse):"
   ]
  },
  {
   "cell_type": "code",
   "execution_count": 11,
   "id": "f790a1fe-4017-450e-a395-f32bf2e6c823",
   "metadata": {},
   "outputs": [
    {
     "data": {
      "text/plain": [
       "Pipeline(steps=[('reduce_dim', PCA())])"
      ]
     },
     "execution_count": 11,
     "metadata": {},
     "output_type": "execute_result"
    }
   ],
   "source": [
    "pipe[:1]"
   ]
  },
  {
   "cell_type": "code",
   "execution_count": 13,
   "id": "53a3d5fd-fae2-48e9-b893-d7a55cac4f44",
   "metadata": {},
   "outputs": [
    {
     "data": {
      "text/plain": [
       "Pipeline(steps=[('clf', SVC())])"
      ]
     },
     "execution_count": 13,
     "metadata": {},
     "output_type": "execute_result"
    }
   ],
   "source": [
    "pipe[-1:]"
   ]
  },
  {
   "cell_type": "markdown",
   "id": "4688fdc8-df79-453f-8235-c1d8bd6bf9f1",
   "metadata": {},
   "source": [
    "## Nested parameters\n",
    "\n",
    "Parameters of the estimators in the pipeline can be accessed using the `<estimator>__<parameter>` syntax:"
   ]
  },
  {
   "cell_type": "code",
   "execution_count": 16,
   "id": "e87013eb-c61f-4a91-811b-3b6faaa3c6d7",
   "metadata": {},
   "outputs": [
    {
     "data": {
      "text/plain": [
       "{'reduce_dim__copy': True,\n",
       " 'reduce_dim__iterated_power': 'auto',\n",
       " 'reduce_dim__n_components': None,\n",
       " 'reduce_dim__random_state': None,\n",
       " 'reduce_dim__svd_solver': 'auto',\n",
       " 'reduce_dim__tol': 0.0,\n",
       " 'reduce_dim__whiten': False,\n",
       " 'clf__C': 1.0,\n",
       " 'clf__break_ties': False,\n",
       " 'clf__cache_size': 200,\n",
       " 'clf__class_weight': None,\n",
       " 'clf__coef0': 0.0,\n",
       " 'clf__decision_function_shape': 'ovr',\n",
       " 'clf__degree': 3,\n",
       " 'clf__gamma': 'scale',\n",
       " 'clf__kernel': 'rbf',\n",
       " 'clf__max_iter': -1,\n",
       " 'clf__probability': False,\n",
       " 'clf__random_state': None,\n",
       " 'clf__shrinking': True,\n",
       " 'clf__tol': 0.001,\n",
       " 'clf__verbose': False}"
      ]
     },
     "execution_count": 16,
     "metadata": {},
     "output_type": "execute_result"
    }
   ],
   "source": [
    "{k: v for k, v in pipe.get_params().items() if \"__\" in k}"
   ]
  },
  {
   "cell_type": "code",
   "execution_count": 19,
   "id": "112da25c-e21b-45ed-b8fd-cd31c2721ff9",
   "metadata": {},
   "outputs": [
    {
     "data": {
      "text/plain": [
       "10"
      ]
     },
     "execution_count": 19,
     "metadata": {},
     "output_type": "execute_result"
    }
   ],
   "source": [
    "pipe.set_params(clf__C=10)\n",
    "pipe.get_params()[\"clf__C\"]"
   ]
  },
  {
   "cell_type": "markdown",
   "id": "1605cfb7-d102-4b50-8ac2-08c0b4135027",
   "metadata": {},
   "source": [
    "This is particularly important for doing **grid searches**:"
   ]
  },
  {
   "cell_type": "code",
   "execution_count": 21,
   "id": "189af880-6e1d-423d-8db1-bc980b855069",
   "metadata": {},
   "outputs": [],
   "source": [
    "from sklearn.model_selection import GridSearchCV\n",
    "\n",
    "# ‼️ Define your parameter grid using the <estimator>__<parameter> notation!\n",
    "param_grid = dict(\n",
    "    reduce_dim__n_components=[2, 5, 10],\n",
    "    clf__C=[0.1, 10, 100]\n",
    ")"
   ]
  },
  {
   "cell_type": "code",
   "execution_count": 22,
   "id": "54bbd880-e795-43bc-8c71-34e13cb63a2b",
   "metadata": {},
   "outputs": [],
   "source": [
    "grid_search = GridSearchCV(pipe, param_grid=param_grid, verbose=2)"
   ]
  },
  {
   "cell_type": "markdown",
   "id": "f46793c2-0f33-4a0f-ad1d-2007c9d56da1",
   "metadata": {},
   "source": [
    "### Notes\n",
    "\n",
    "Calling `.fit()` on the pipeline is the same as: \n",
    "* calling `.fit()` on each estimator in turn, \n",
    "* transform the input and pass it on to the next step. \n",
    "\n",
    "The pipeline *has all the methods that the last estimator in the pipeline has*, i.e. if the last estimator is a classifier, the `Pipeline` can be used as a classifier. If the last estimator is a transformer, again, so is the pipeline."
   ]
  },
  {
   "cell_type": "markdown",
   "id": "b8626fc2-9fad-45a5-b2db-8d01835d2a95",
   "metadata": {},
   "source": [
    "### ⚠️ Caching transformers: avoid repeated computation\n",
    "\n",
    "Fitting transformers may be computationally expensive. With its **`memory` parameter** set, `Pipeline` **will cache each transformer after calling fit**. \n",
    "\n",
    "This feature is used to avoid computing the fit transformers within a pipeline **if the parameters and input data are identical**. \n",
    "\n",
    "A typical example is the case of a grid search in which the transformers can be fitted only once and reused for each configuration.\n",
    "\n",
    "The parameter `memory` is needed in order to cache the transformers. `memory` can be either a *string containing the directory where to cache the transformers* or a `joblib.Memory` object:"
   ]
  },
  {
   "cell_type": "code",
   "execution_count": 27,
   "id": "e6fab24f-050d-48ad-aa10-e417675fd6ca",
   "metadata": {},
   "outputs": [
    {
     "name": "stdout",
     "output_type": "stream",
     "text": [
      "cachedir: /tmp/tmp05otwxvq\n",
      "\n",
      "Pipeline(memory='/tmp/tmp05otwxvq',\n",
      "         steps=[('reduce_dim', PCA()), ('clf', SVC())])\n"
     ]
    }
   ],
   "source": [
    "from tempfile import mkdtemp\n",
    "from shutil import rmtree\n",
    "from sklearn.decomposition import PCA\n",
    "from sklearn.svm import SVC\n",
    "from sklearn.pipeline import Pipeline\n",
    "\n",
    "estimators = [\n",
    "    ('reduce_dim', PCA()), \n",
    "    ('clf', SVC())\n",
    "]\n",
    "\n",
    "cachedir = mkdtemp()\n",
    "print(\"cachedir:\", cachedir, end=\"\\n\\n\")\n",
    "\n",
    "pipe = Pipeline(estimators, memory=cachedir)\n",
    "print(pipe)\n",
    "\n",
    "# Clear the cache directory when you don't need it anymore\n",
    "rmtree(cachedir)"
   ]
  },
  {
   "cell_type": "markdown",
   "id": "415489a7-a093-43fe-9007-808515920098",
   "metadata": {},
   "source": [
    "**‼️⚠️ Warning: Side effect of caching transformers:**\n",
    "\n",
    "Using a `Pipeline` *without cache enabled*, it is **possible to inspect the original instance** such as:"
   ]
  },
  {
   "cell_type": "code",
   "execution_count": 34,
   "id": "27348658-42c2-4613-808a-9560acf60a68",
   "metadata": {},
   "outputs": [
    {
     "name": "stdout",
     "output_type": "stream",
     "text": [
      "[-1.77484909e-19 -1.73094651e-02 -2.23428835e-01 -1.35913304e-01]\n"
     ]
    }
   ],
   "source": [
    "from sklearn.datasets import load_digits\n",
    "\n",
    "X_digits, y_digits = load_digits(return_X_y=True)\n",
    "\n",
    "# Create our object instances:\n",
    "pca1 = PCA()\n",
    "svm1 = SVC()\n",
    "\n",
    "pipe = Pipeline(\n",
    "    [\n",
    "        ('reduce_dim', pca1), \n",
    "        ('clf', svm1)\n",
    "    ]\n",
    ")\n",
    "\n",
    "pipe.fit(X_digits, y_digits)\n",
    "\n",
    "# ⚠️ The pca instance can be inspected directly:\n",
    "print(pca1.components_[0, :4])"
   ]
  },
  {
   "cell_type": "markdown",
   "id": "e0616ad1-75be-4061-95a8-4fc2e957e1ec",
   "metadata": {},
   "source": [
    "Enabling **caching triggers a *clone* of the transformers before fitting**. \n",
    "\n",
    "Therefore, the transformer instance given to the pipeline **cannot be inspected directly**. \n",
    "\n",
    "In following example, accessing the PCA instance `pca2` will raise an `AttributeError` since `pca2` will be an unfitted transformer. Instead, use the attribute `named_steps` to inspect estimators within the pipeline:"
   ]
  },
  {
   "cell_type": "code",
   "execution_count": 35,
   "id": "91e9a8b8-c9e5-4a1d-885e-f0cbc65d626e",
   "metadata": {},
   "outputs": [
    {
     "data": {
      "text/plain": [
       "Pipeline(memory='/tmp/tmpav6n0ff5',\n",
       "         steps=[('reduce_dim', PCA()), ('clf', SVC())])"
      ]
     },
     "execution_count": 35,
     "metadata": {},
     "output_type": "execute_result"
    }
   ],
   "source": [
    "cachedir = mkdtemp()\n",
    "\n",
    "# Again, create our object instances:\n",
    "pca2 = PCA()\n",
    "svm2 = SVC()\n",
    "\n",
    "cached_pipe = Pipeline(\n",
    "    [\n",
    "        ('reduce_dim', pca2), \n",
    "        ('clf', svm2)\n",
    "    ],\n",
    "    memory=cachedir  # <-- Note!\n",
    ")\n",
    "cached_pipe.fit(X_digits, y_digits)"
   ]
  },
  {
   "cell_type": "code",
   "execution_count": 38,
   "id": "75bd2215-ecea-4aec-bcd1-d24fd39d456f",
   "metadata": {},
   "outputs": [
    {
     "name": "stdout",
     "output_type": "stream",
     "text": [
      "AttributeError 'PCA' object has no attribute 'components_'\n"
     ]
    }
   ],
   "source": [
    "try:\n",
    "    pca2.components_\n",
    "except AttributeError as e:\n",
    "    print(f\"AttributeError {e}\")"
   ]
  },
  {
   "cell_type": "code",
   "execution_count": 40,
   "id": "92f2d2eb-e604-4cd2-ad24-c401355ddaac",
   "metadata": {},
   "outputs": [
    {
     "name": "stdout",
     "output_type": "stream",
     "text": [
      "[-1.77484909e-19 -1.73094651e-02 -2.23428835e-01 -1.35913304e-01]\n"
     ]
    }
   ],
   "source": [
    "print(cached_pipe.named_steps['reduce_dim'].components_[0, :4])"
   ]
  },
  {
   "cell_type": "code",
   "execution_count": 41,
   "id": "045f23dd-0908-4a33-9884-2504cd1378e9",
   "metadata": {},
   "outputs": [],
   "source": [
    "# Remove the cache directory\n",
    "rmtree(cachedir)"
   ]
  },
  {
   "cell_type": "markdown",
   "id": "cce2016a-0e94-4f25-9de1-7320abd331c0",
   "metadata": {},
   "source": [
    "## [Transforming target in regression](https://scikit-learn.org/stable/modules/compose.html#transforming-target-in-regression)\n",
    "\n",
    "**`TransformedTargetRegressor` transforms the targets `y` before fitting a regression model.**\n",
    "* The predictions are mapped back to the original space via an inverse transform. \n",
    "* It takes as an argument *the regressor that will be used for prediction*, and *the transformer that will be applied to the target variable*:"
   ]
  },
  {
   "cell_type": "code",
   "execution_count": 42,
   "id": "dc4b671e-87ed-4837-8702-4a2bd21e4bfe",
   "metadata": {},
   "outputs": [],
   "source": [
    "import numpy as np\n",
    "from sklearn.datasets import fetch_california_housing\n",
    "from sklearn.compose import TransformedTargetRegressor  # <-- This.\n",
    "from sklearn.preprocessing import QuantileTransformer\n",
    "from sklearn.linear_model import LinearRegression\n",
    "from sklearn.model_selection import train_test_split"
   ]
  },
  {
   "cell_type": "code",
   "execution_count": 43,
   "id": "0d43f446-4008-4b75-8187-116442390fcd",
   "metadata": {},
   "outputs": [],
   "source": [
    "X, y = fetch_california_housing(return_X_y=True)\n",
    "X, y = X[:2000, :], y[:2000]  # select a subset of data"
   ]
  },
  {
   "cell_type": "code",
   "execution_count": 44,
   "id": "ee15068b-988e-4338-aad8-baedbc40d555",
   "metadata": {},
   "outputs": [],
   "source": [
    "transformer = QuantileTransformer(output_distribution='normal')\n",
    "regressor = LinearRegression()"
   ]
  },
  {
   "cell_type": "code",
   "execution_count": 45,
   "id": "d2d914a8-727f-4004-b2af-f9e14c97b756",
   "metadata": {},
   "outputs": [],
   "source": [
    "# Define the `TransformedTargetRegressor`:\n",
    "regr = TransformedTargetRegressor(\n",
    "    regressor=regressor,\n",
    "    transformer=transformer\n",
    ")"
   ]
  },
  {
   "cell_type": "code",
   "execution_count": 46,
   "id": "0dba8b07-1bc3-470b-83db-5b84f3e6a3c3",
   "metadata": {},
   "outputs": [],
   "source": [
    "X_train, X_test, y_train, y_test = train_test_split(X, y, random_state=0)"
   ]
  },
  {
   "cell_type": "code",
   "execution_count": 47,
   "id": "32c79be5-0e0e-4dba-861b-3715f93484ac",
   "metadata": {},
   "outputs": [
    {
     "data": {
      "text/plain": [
       "TransformedTargetRegressor(regressor=LinearRegression(),\n",
       "                           transformer=QuantileTransformer(output_distribution='normal'))"
      ]
     },
     "execution_count": 47,
     "metadata": {},
     "output_type": "execute_result"
    }
   ],
   "source": [
    "regr.fit(X_train, y_train)"
   ]
  },
  {
   "cell_type": "code",
   "execution_count": 48,
   "id": "39c2e632-c4c5-43d9-91a6-f2bac6c4f4ae",
   "metadata": {},
   "outputs": [
    {
     "name": "stdout",
     "output_type": "stream",
     "text": [
      "R2 score: 0.61\n"
     ]
    }
   ],
   "source": [
    "print('R2 score: {0:.2f}'.format(regr.score(X_test, y_test)))"
   ]
  },
  {
   "cell_type": "code",
   "execution_count": 49,
   "id": "faa04409-8360-4b5f-8f83-d945b47e3606",
   "metadata": {},
   "outputs": [
    {
     "name": "stdout",
     "output_type": "stream",
     "text": [
      "R2 score: 0.59\n"
     ]
    }
   ],
   "source": [
    "# For comparison, \"untransformed\" regressor:\n",
    "raw_target_regr = LinearRegression().fit(X_train, y_train)\n",
    "print('R2 score: {0:.2f}'.format(raw_target_regr.score(X_test, y_test)))"
   ]
  },
  {
   "cell_type": "markdown",
   "id": "2d42fbac-6e12-4d12-92cb-865f7e093005",
   "metadata": {},
   "source": [
    "For simple transformations, instead of a `Transformer` object, a pair of functions can be passed, defining the transformation and its inverse mapping:"
   ]
  },
  {
   "cell_type": "code",
   "execution_count": 50,
   "id": "ad037524-afd1-4635-85ae-f2807792f409",
   "metadata": {},
   "outputs": [],
   "source": [
    "def func(x):\n",
    "    return np.log(x)\n",
    "def inverse_func(x):\n",
    "    return np.exp(x)\n",
    "\n",
    "regr = TransformedTargetRegressor(\n",
    "    regressor=regressor,\n",
    "    # This time, pass `func` and `inverse_func` arguments:\n",
    "    func=func,\n",
    "    inverse_func=inverse_func\n",
    ")"
   ]
  },
  {
   "cell_type": "code",
   "execution_count": 51,
   "id": "d1056b67-e889-4648-b4f2-97722e95853a",
   "metadata": {},
   "outputs": [
    {
     "name": "stdout",
     "output_type": "stream",
     "text": [
      "R2 score: 0.51\n"
     ]
    }
   ],
   "source": [
    "regr.fit(X_train, y_train)\n",
    "print('R2 score: {0:.2f}'.format(regr.score(X_test, y_test)))"
   ]
  },
  {
   "cell_type": "markdown",
   "id": "99433155-b467-474d-a582-7b0493b5dc00",
   "metadata": {},
   "source": [
    "By default, **the provided functions are checked at each fit to be the inverse of each other**. \n",
    "\n",
    "However, it is possible to bypass this checking by setting `check_inverse` to `False`:"
   ]
  },
  {
   "cell_type": "code",
   "execution_count": 52,
   "id": "3249a1b6-b15f-48ea-9ded-7316fb0aae5f",
   "metadata": {},
   "outputs": [
    {
     "name": "stdout",
     "output_type": "stream",
     "text": [
      "R2 score: -1.57\n"
     ]
    }
   ],
   "source": [
    "def inverse_func(x):\n",
    "    return x\n",
    "\n",
    "regr = TransformedTargetRegressor(\n",
    "    regressor=regressor,\n",
    "    func=func,\n",
    "    inverse_func=inverse_func,\n",
    "    check_inverse=False  # Here.\n",
    ")\n",
    "\n",
    "regr.fit(X_train, y_train)\n",
    "\n",
    "print('R2 score: {0:.2f}'.format(regr.score(X_test, y_test)))"
   ]
  },
  {
   "cell_type": "markdown",
   "id": "2f1153c8-8cf0-4150-ab1f-4e580bed7d09",
   "metadata": {},
   "source": [
    "**📚 An example covering transformation of targets is [here](https://scikit-learn.org/stable/auto_examples/compose/plot_transformed_target.html#sphx-glr-auto-examples-compose-plot-transformed-target-py).**"
   ]
  },
  {
   "cell_type": "markdown",
   "id": "f1bc9dee-f68d-4431-a480-d91875ce5168",
   "metadata": {},
   "source": [
    "## [`FeatureUnion`: composite feature spaces](https://scikit-learn.org/stable/modules/compose.html#featureunion-composite-feature-spaces)\n",
    "\n",
    "`FeatureUnion` combines several transformer objects into a new transformer that combines their output. \n",
    "* A `FeatureUnion` takes *a list of transformer objects*. \n",
    "* During fitting, each of these is fit to the data independently.\n",
    "* The transformers are applied in parallel, and the feature matrices they output are concatenated side-by-side into a larger matrix.\n",
    "\n",
    "When you want to apply *different transformations* to *each field of the data*, see the related class `ColumnTransformer`.\n",
    "\n",
    "`FeatureUnion` serves the same purposes as Pipeline - *convenience and joint parameter estimation and validation*.\n",
    "\n",
    "`FeatureUnion` and `Pipeline` **can be combined to create complex models**.\n",
    "\n",
    "(A `FeatureUnion` has no way of checking whether two transformers might produce identical features. It only produces a union when the feature sets are disjoint, and making sure they are is the caller’s responsibility.)\n",
    "\n",
    "### Usage\n",
    "\n",
    "A `FeatureUnion` is built using a list of `(key, value)` pairs, where the key is the name you want to give to a given transformation (an arbitrary string; it only serves as an identifier) and value is an estimator object:"
   ]
  },
  {
   "cell_type": "code",
   "execution_count": 53,
   "id": "b5642133-5edb-4186-a781-85557b8b7cc1",
   "metadata": {},
   "outputs": [
    {
     "name": "stdout",
     "output_type": "stream",
     "text": [
      "FeatureUnion(transformer_list=[('linear_pca', PCA()),\n",
      "                               ('kernel_pca', KernelPCA())])\n"
     ]
    }
   ],
   "source": [
    "from sklearn.pipeline import FeatureUnion\n",
    "from sklearn.decomposition import PCA\n",
    "from sklearn.decomposition import KernelPCA\n",
    "\n",
    "estimators = [\n",
    "    ('linear_pca', PCA()), \n",
    "    ('kernel_pca', KernelPCA())\n",
    "]\n",
    "\n",
    "combined = FeatureUnion(estimators)\n",
    "print(combined)"
   ]
  },
  {
   "cell_type": "markdown",
   "id": "b1b0d75a-79ff-42d2-a05e-a7d6074dc15d",
   "metadata": {},
   "source": [
    "Like pipelines, feature unions have a shorthand constructor called `make_union` that does not require explicit naming of the components.\n",
    "\n",
    "*‼️ The below point hasn't been covered in this guide's `Pipeline` section ‼️*\n",
    "\n",
    "Like `Pipeline`, individual steps may be replaced using `set_params`, and ignored by setting to `'drop'`:"
   ]
  },
  {
   "cell_type": "code",
   "execution_count": 54,
   "id": "5347c09f-a9e7-4f4d-b1cf-bf0262b7db82",
   "metadata": {},
   "outputs": [
    {
     "data": {
      "text/plain": [
       "FeatureUnion(transformer_list=[('linear_pca', PCA()), ('kernel_pca', 'drop')])"
      ]
     },
     "execution_count": 54,
     "metadata": {},
     "output_type": "execute_result"
    }
   ],
   "source": [
    "combined.set_params(kernel_pca='drop')"
   ]
  },
  {
   "cell_type": "markdown",
   "id": "e99a1935-5bef-4d0c-898c-5d266c8b0f81",
   "metadata": {},
   "source": [
    "---\n",
    "#### [Example: Concatenating multiple feature extraction methods](https://scikit-learn.org/stable/auto_examples/compose/plot_feature_union.html#sphx-glr-auto-examples-compose-plot-feature-union-py)\n",
    "\n",
    "In many real-world examples, there are many ways to extract features from a dataset. Often it is beneficial to *combine several methods to obtain good performance*. This example shows how to use `FeatureUnion` to *combine features obtained by **PCA** and **univariate selection***.\n",
    "\n",
    "> Combining features using this transformer has the benefit that it allows **cross validation** and **grid searches** over *the whole process*.\n",
    "\n",
    "(The combination used in this example is not particularly helpful on this dataset and is only used to illustrate the usage of `FeatureUnion`.)"
   ]
  },
  {
   "cell_type": "code",
   "execution_count": 55,
   "id": "e71f3c04-2219-435f-917f-268aa6cf34fe",
   "metadata": {},
   "outputs": [],
   "source": [
    "from sklearn.pipeline import Pipeline, FeatureUnion\n",
    "from sklearn.model_selection import GridSearchCV\n",
    "from sklearn.svm import SVC\n",
    "from sklearn.datasets import load_iris\n",
    "from sklearn.decomposition import PCA\n",
    "from sklearn.feature_selection import SelectKBest"
   ]
  },
  {
   "cell_type": "code",
   "execution_count": 58,
   "id": "bd56762a-0df1-460a-85d6-1a801b26bc37",
   "metadata": {},
   "outputs": [
    {
     "name": "stdout",
     "output_type": "stream",
     "text": [
      "X.shape: (150, 4)\n",
      "y.shape: (150,)\n",
      "\n",
      "X[:3]:\n",
      " [[5.1 3.5 1.4 0.2]\n",
      " [4.9 3.  1.4 0.2]\n",
      " [4.7 3.2 1.3 0.2]]\n",
      "y[:3]:\n",
      " [0 0 0]\n"
     ]
    }
   ],
   "source": [
    "iris = load_iris()\n",
    "X, y = iris.data, iris.target\n",
    "print(\"X.shape:\", X.shape)\n",
    "print(\"y.shape:\", y.shape)\n",
    "print()\n",
    "print(\"X[:3]:\\n\", X[:3])\n",
    "print(\"y[:3]:\\n\", y[:3])"
   ]
  },
  {
   "cell_type": "code",
   "execution_count": 59,
   "id": "df59719d-7dda-40da-9a65-ed6bd5b0b4b1",
   "metadata": {},
   "outputs": [],
   "source": [
    "# PCA:\n",
    "pca = PCA(n_components=2)  # Gives 2 features."
   ]
  },
  {
   "cell_type": "code",
   "execution_count": 60,
   "id": "99ad68e4-d82b-457b-a507-6de5f26f6d84",
   "metadata": {},
   "outputs": [],
   "source": [
    "# Univariate selection:\n",
    "selection = SelectKBest(k=1)  # Gives 1 feature."
   ]
  },
  {
   "cell_type": "code",
   "execution_count": 61,
   "id": "af01a72f-d319-46e2-af61-6942e3981039",
   "metadata": {},
   "outputs": [
    {
     "data": {
      "text/plain": [
       "FeatureUnion(transformer_list=[('pca', PCA(n_components=2)),\n",
       "                               ('univ_select', SelectKBest(k=1))])"
      ]
     },
     "execution_count": 61,
     "metadata": {},
     "output_type": "execute_result"
    }
   ],
   "source": [
    "# Build estimator from PCA and Univariate selection:\n",
    "combined_features = FeatureUnion(\n",
    "    [\n",
    "        (\"pca\", pca), \n",
    "        (\"univ_select\", selection)\n",
    "    ]\n",
    ")\n",
    "combined_features"
   ]
  },
  {
   "cell_type": "code",
   "execution_count": 63,
   "id": "f6762245-555f-497c-a02c-faceb558a392",
   "metadata": {},
   "outputs": [
    {
     "name": "stdout",
     "output_type": "stream",
     "text": [
      "Combined space has 3 features\n"
     ]
    }
   ],
   "source": [
    "# Use combined features to transform dataset:\n",
    "X_features = combined_features.fit(X, y).transform(X)\n",
    "\n",
    "print(\"Combined space has\", X_features.shape[1], \"features\")\n",
    "# Get total of 3 features."
   ]
  },
  {
   "cell_type": "code",
   "execution_count": 64,
   "id": "2e02b8cc-59da-4de4-943c-921733b32d20",
   "metadata": {},
   "outputs": [],
   "source": [
    "# SVM Classifier.\n",
    "svm = SVC(kernel=\"linear\")"
   ]
  },
  {
   "cell_type": "code",
   "execution_count": 65,
   "id": "7e9f9136-3ef9-44d7-8c43-2915872dd460",
   "metadata": {},
   "outputs": [],
   "source": [
    "# Do grid search over k, n_components and C:\n",
    "\n",
    "# Define Pipeline:\n",
    "pipeline = Pipeline(\n",
    "    [\n",
    "        (\"features\", combined_features),  # Note that Pipeline has taken in a FeatureUnion here!\n",
    "        (\"svm\", svm)\n",
    "    ]\n",
    ")\n",
    "\n",
    "# Define param_grid:\n",
    "param_grid = dict(\n",
    "    features__pca__n_components=[1, 2, 3],\n",
    "    features__univ_select__k=[1, 2],\n",
    "    svm__C=[0.1, 1, 10]\n",
    ")"
   ]
  },
  {
   "cell_type": "code",
   "execution_count": 67,
   "id": "68aaf8f5-3bee-4631-80b9-5dc7a10adb8b",
   "metadata": {
    "scrolled": true,
    "tags": []
   },
   "outputs": [
    {
     "name": "stdout",
     "output_type": "stream",
     "text": [
      "Fitting 5 folds for each of 18 candidates, totalling 90 fits\n",
      "[CV 1/5; 1/18] START features__pca__n_components=1, features__univ_select__k=1, svm__C=0.1\n",
      "[CV 1/5; 1/18] END features__pca__n_components=1, features__univ_select__k=1, svm__C=0.1;, score=0.933 total time=   0.0s\n",
      "[CV 2/5; 1/18] START features__pca__n_components=1, features__univ_select__k=1, svm__C=0.1\n",
      "[CV 2/5; 1/18] END features__pca__n_components=1, features__univ_select__k=1, svm__C=0.1;, score=0.933 total time=   0.0s\n",
      "[CV 3/5; 1/18] START features__pca__n_components=1, features__univ_select__k=1, svm__C=0.1\n",
      "[CV 3/5; 1/18] END features__pca__n_components=1, features__univ_select__k=1, svm__C=0.1;, score=0.867 total time=   0.0s\n",
      "[CV 4/5; 1/18] START features__pca__n_components=1, features__univ_select__k=1, svm__C=0.1\n",
      "[CV 4/5; 1/18] END features__pca__n_components=1, features__univ_select__k=1, svm__C=0.1;, score=0.933 total time=   0.0s\n",
      "[CV 5/5; 1/18] START features__pca__n_components=1, features__univ_select__k=1, svm__C=0.1\n",
      "[CV 5/5; 1/18] END features__pca__n_components=1, features__univ_select__k=1, svm__C=0.1;, score=1.000 total time=   0.0s\n",
      "[CV 1/5; 2/18] START features__pca__n_components=1, features__univ_select__k=1, svm__C=1\n",
      "[CV 1/5; 2/18] END features__pca__n_components=1, features__univ_select__k=1, svm__C=1;, score=0.900 total time=   0.0s\n",
      "[CV 2/5; 2/18] START features__pca__n_components=1, features__univ_select__k=1, svm__C=1\n",
      "[CV 2/5; 2/18] END features__pca__n_components=1, features__univ_select__k=1, svm__C=1;, score=1.000 total time=   0.0s\n",
      "[CV 3/5; 2/18] START features__pca__n_components=1, features__univ_select__k=1, svm__C=1\n",
      "[CV 3/5; 2/18] END features__pca__n_components=1, features__univ_select__k=1, svm__C=1;, score=0.867 total time=   0.0s\n",
      "[CV 4/5; 2/18] START features__pca__n_components=1, features__univ_select__k=1, svm__C=1\n",
      "[CV 4/5; 2/18] END features__pca__n_components=1, features__univ_select__k=1, svm__C=1;, score=0.933 total time=   0.0s\n",
      "[CV 5/5; 2/18] START features__pca__n_components=1, features__univ_select__k=1, svm__C=1\n",
      "[CV 5/5; 2/18] END features__pca__n_components=1, features__univ_select__k=1, svm__C=1;, score=1.000 total time=   0.0s\n",
      "[CV 1/5; 3/18] START features__pca__n_components=1, features__univ_select__k=1, svm__C=10\n",
      "[CV 1/5; 3/18] END features__pca__n_components=1, features__univ_select__k=1, svm__C=10;, score=0.933 total time=   0.0s\n",
      "[CV 2/5; 3/18] START features__pca__n_components=1, features__univ_select__k=1, svm__C=10\n",
      "[CV 2/5; 3/18] END features__pca__n_components=1, features__univ_select__k=1, svm__C=10;, score=1.000 total time=   0.0s\n",
      "[CV 3/5; 3/18] START features__pca__n_components=1, features__univ_select__k=1, svm__C=10\n",
      "[CV 3/5; 3/18] END features__pca__n_components=1, features__univ_select__k=1, svm__C=10;, score=0.900 total time=   0.0s\n",
      "[CV 4/5; 3/18] START features__pca__n_components=1, features__univ_select__k=1, svm__C=10\n",
      "[CV 4/5; 3/18] END features__pca__n_components=1, features__univ_select__k=1, svm__C=10;, score=0.933 total time=   0.0s\n",
      "[CV 5/5; 3/18] START features__pca__n_components=1, features__univ_select__k=1, svm__C=10\n",
      "[CV 5/5; 3/18] END features__pca__n_components=1, features__univ_select__k=1, svm__C=10;, score=1.000 total time=   0.0s\n",
      "[CV 1/5; 4/18] START features__pca__n_components=1, features__univ_select__k=2, svm__C=0.1\n",
      "[CV 1/5; 4/18] END features__pca__n_components=1, features__univ_select__k=2, svm__C=0.1;, score=0.933 total time=   0.0s\n",
      "[CV 2/5; 4/18] START features__pca__n_components=1, features__univ_select__k=2, svm__C=0.1\n",
      "[CV 2/5; 4/18] END features__pca__n_components=1, features__univ_select__k=2, svm__C=0.1;, score=0.967 total time=   0.0s\n",
      "[CV 3/5; 4/18] START features__pca__n_components=1, features__univ_select__k=2, svm__C=0.1\n",
      "[CV 3/5; 4/18] END features__pca__n_components=1, features__univ_select__k=2, svm__C=0.1;, score=0.933 total time=   0.0s\n",
      "[CV 4/5; 4/18] START features__pca__n_components=1, features__univ_select__k=2, svm__C=0.1\n",
      "[CV 4/5; 4/18] END features__pca__n_components=1, features__univ_select__k=2, svm__C=0.1;, score=0.933 total time=   0.0s\n",
      "[CV 5/5; 4/18] START features__pca__n_components=1, features__univ_select__k=2, svm__C=0.1\n",
      "[CV 5/5; 4/18] END features__pca__n_components=1, features__univ_select__k=2, svm__C=0.1;, score=1.000 total time=   0.0s\n",
      "[CV 1/5; 5/18] START features__pca__n_components=1, features__univ_select__k=2, svm__C=1\n",
      "[CV 1/5; 5/18] END features__pca__n_components=1, features__univ_select__k=2, svm__C=1;, score=0.933 total time=   0.0s\n",
      "[CV 2/5; 5/18] START features__pca__n_components=1, features__univ_select__k=2, svm__C=1\n",
      "[CV 2/5; 5/18] END features__pca__n_components=1, features__univ_select__k=2, svm__C=1;, score=0.967 total time=   0.0s\n",
      "[CV 3/5; 5/18] START features__pca__n_components=1, features__univ_select__k=2, svm__C=1\n",
      "[CV 3/5; 5/18] END features__pca__n_components=1, features__univ_select__k=2, svm__C=1;, score=0.933 total time=   0.0s\n",
      "[CV 4/5; 5/18] START features__pca__n_components=1, features__univ_select__k=2, svm__C=1\n",
      "[CV 4/5; 5/18] END features__pca__n_components=1, features__univ_select__k=2, svm__C=1;, score=0.933 total time=   0.0s\n",
      "[CV 5/5; 5/18] START features__pca__n_components=1, features__univ_select__k=2, svm__C=1\n",
      "[CV 5/5; 5/18] END features__pca__n_components=1, features__univ_select__k=2, svm__C=1;, score=1.000 total time=   0.0s\n",
      "[CV 1/5; 6/18] START features__pca__n_components=1, features__univ_select__k=2, svm__C=10\n",
      "[CV 1/5; 6/18] END features__pca__n_components=1, features__univ_select__k=2, svm__C=10;, score=0.967 total time=   0.0s\n",
      "[CV 2/5; 6/18] START features__pca__n_components=1, features__univ_select__k=2, svm__C=10\n",
      "[CV 2/5; 6/18] END features__pca__n_components=1, features__univ_select__k=2, svm__C=10;, score=0.967 total time=   0.0s\n",
      "[CV 3/5; 6/18] START features__pca__n_components=1, features__univ_select__k=2, svm__C=10\n",
      "[CV 3/5; 6/18] END features__pca__n_components=1, features__univ_select__k=2, svm__C=10;, score=0.933 total time=   0.0s\n",
      "[CV 4/5; 6/18] START features__pca__n_components=1, features__univ_select__k=2, svm__C=10\n",
      "[CV 4/5; 6/18] END features__pca__n_components=1, features__univ_select__k=2, svm__C=10;, score=0.933 total time=   0.0s\n",
      "[CV 5/5; 6/18] START features__pca__n_components=1, features__univ_select__k=2, svm__C=10\n",
      "[CV 5/5; 6/18] END features__pca__n_components=1, features__univ_select__k=2, svm__C=10;, score=1.000 total time=   0.0s\n",
      "[CV 1/5; 7/18] START features__pca__n_components=2, features__univ_select__k=1, svm__C=0.1\n",
      "[CV 1/5; 7/18] END features__pca__n_components=2, features__univ_select__k=1, svm__C=0.1;, score=0.933 total time=   0.0s\n",
      "[CV 2/5; 7/18] START features__pca__n_components=2, features__univ_select__k=1, svm__C=0.1\n",
      "[CV 2/5; 7/18] END features__pca__n_components=2, features__univ_select__k=1, svm__C=0.1;, score=1.000 total time=   0.0s\n",
      "[CV 3/5; 7/18] START features__pca__n_components=2, features__univ_select__k=1, svm__C=0.1\n",
      "[CV 3/5; 7/18] END features__pca__n_components=2, features__univ_select__k=1, svm__C=0.1;, score=0.867 total time=   0.0s\n",
      "[CV 4/5; 7/18] START features__pca__n_components=2, features__univ_select__k=1, svm__C=0.1\n",
      "[CV 4/5; 7/18] END features__pca__n_components=2, features__univ_select__k=1, svm__C=0.1;, score=0.933 total time=   0.0s\n",
      "[CV 5/5; 7/18] START features__pca__n_components=2, features__univ_select__k=1, svm__C=0.1\n",
      "[CV 5/5; 7/18] END features__pca__n_components=2, features__univ_select__k=1, svm__C=0.1;, score=1.000 total time=   0.0s\n",
      "[CV 1/5; 8/18] START features__pca__n_components=2, features__univ_select__k=1, svm__C=1\n",
      "[CV 1/5; 8/18] END features__pca__n_components=2, features__univ_select__k=1, svm__C=1;, score=0.967 total time=   0.0s\n",
      "[CV 2/5; 8/18] START features__pca__n_components=2, features__univ_select__k=1, svm__C=1\n",
      "[CV 2/5; 8/18] END features__pca__n_components=2, features__univ_select__k=1, svm__C=1;, score=1.000 total time=   0.0s\n",
      "[CV 3/5; 8/18] START features__pca__n_components=2, features__univ_select__k=1, svm__C=1\n",
      "[CV 3/5; 8/18] END features__pca__n_components=2, features__univ_select__k=1, svm__C=1;, score=0.933 total time=   0.0s\n",
      "[CV 4/5; 8/18] START features__pca__n_components=2, features__univ_select__k=1, svm__C=1\n",
      "[CV 4/5; 8/18] END features__pca__n_components=2, features__univ_select__k=1, svm__C=1;, score=0.933 total time=   0.0s\n",
      "[CV 5/5; 8/18] START features__pca__n_components=2, features__univ_select__k=1, svm__C=1\n",
      "[CV 5/5; 8/18] END features__pca__n_components=2, features__univ_select__k=1, svm__C=1;, score=1.000 total time=   0.0s\n",
      "[CV 1/5; 9/18] START features__pca__n_components=2, features__univ_select__k=1, svm__C=10\n",
      "[CV 1/5; 9/18] END features__pca__n_components=2, features__univ_select__k=1, svm__C=10;, score=0.967 total time=   0.0s\n",
      "[CV 2/5; 9/18] START features__pca__n_components=2, features__univ_select__k=1, svm__C=10\n",
      "[CV 2/5; 9/18] END features__pca__n_components=2, features__univ_select__k=1, svm__C=10;, score=0.967 total time=   0.0s\n",
      "[CV 3/5; 9/18] START features__pca__n_components=2, features__univ_select__k=1, svm__C=10\n",
      "[CV 3/5; 9/18] END features__pca__n_components=2, features__univ_select__k=1, svm__C=10;, score=0.900 total time=   0.0s\n",
      "[CV 4/5; 9/18] START features__pca__n_components=2, features__univ_select__k=1, svm__C=10\n",
      "[CV 4/5; 9/18] END features__pca__n_components=2, features__univ_select__k=1, svm__C=10;, score=0.933 total time=   0.0s\n",
      "[CV 5/5; 9/18] START features__pca__n_components=2, features__univ_select__k=1, svm__C=10\n",
      "[CV 5/5; 9/18] END features__pca__n_components=2, features__univ_select__k=1, svm__C=10;, score=1.000 total time=   0.0s\n",
      "[CV 1/5; 10/18] START features__pca__n_components=2, features__univ_select__k=2, svm__C=0.1\n",
      "[CV 1/5; 10/18] END features__pca__n_components=2, features__univ_select__k=2, svm__C=0.1;, score=0.967 total time=   0.0s\n",
      "[CV 2/5; 10/18] START features__pca__n_components=2, features__univ_select__k=2, svm__C=0.1\n",
      "[CV 2/5; 10/18] END features__pca__n_components=2, features__univ_select__k=2, svm__C=0.1;, score=1.000 total time=   0.0s\n",
      "[CV 3/5; 10/18] START features__pca__n_components=2, features__univ_select__k=2, svm__C=0.1\n",
      "[CV 3/5; 10/18] END features__pca__n_components=2, features__univ_select__k=2, svm__C=0.1;, score=0.933 total time=   0.0s\n",
      "[CV 4/5; 10/18] START features__pca__n_components=2, features__univ_select__k=2, svm__C=0.1\n",
      "[CV 4/5; 10/18] END features__pca__n_components=2, features__univ_select__k=2, svm__C=0.1;, score=0.933 total time=   0.0s\n",
      "[CV 5/5; 10/18] START features__pca__n_components=2, features__univ_select__k=2, svm__C=0.1\n",
      "[CV 5/5; 10/18] END features__pca__n_components=2, features__univ_select__k=2, svm__C=0.1;, score=1.000 total time=   0.0s\n",
      "[CV 1/5; 11/18] START features__pca__n_components=2, features__univ_select__k=2, svm__C=1\n",
      "[CV 1/5; 11/18] END features__pca__n_components=2, features__univ_select__k=2, svm__C=1;, score=0.967 total time=   0.0s\n",
      "[CV 2/5; 11/18] START features__pca__n_components=2, features__univ_select__k=2, svm__C=1\n",
      "[CV 2/5; 11/18] END features__pca__n_components=2, features__univ_select__k=2, svm__C=1;, score=1.000 total time=   0.0s\n",
      "[CV 3/5; 11/18] START features__pca__n_components=2, features__univ_select__k=2, svm__C=1\n",
      "[CV 3/5; 11/18] END features__pca__n_components=2, features__univ_select__k=2, svm__C=1;, score=0.933 total time=   0.0s\n",
      "[CV 4/5; 11/18] START features__pca__n_components=2, features__univ_select__k=2, svm__C=1\n",
      "[CV 4/5; 11/18] END features__pca__n_components=2, features__univ_select__k=2, svm__C=1;, score=0.967 total time=   0.0s\n",
      "[CV 5/5; 11/18] START features__pca__n_components=2, features__univ_select__k=2, svm__C=1\n",
      "[CV 5/5; 11/18] END features__pca__n_components=2, features__univ_select__k=2, svm__C=1;, score=1.000 total time=   0.0s\n",
      "[CV 1/5; 12/18] START features__pca__n_components=2, features__univ_select__k=2, svm__C=10\n",
      "[CV 1/5; 12/18] END features__pca__n_components=2, features__univ_select__k=2, svm__C=10;, score=0.967 total time=   0.0s\n",
      "[CV 2/5; 12/18] START features__pca__n_components=2, features__univ_select__k=2, svm__C=10\n",
      "[CV 2/5; 12/18] END features__pca__n_components=2, features__univ_select__k=2, svm__C=10;, score=1.000 total time=   0.0s\n",
      "[CV 3/5; 12/18] START features__pca__n_components=2, features__univ_select__k=2, svm__C=10\n",
      "[CV 3/5; 12/18] END features__pca__n_components=2, features__univ_select__k=2, svm__C=10;, score=0.900 total time=   0.0s\n",
      "[CV 4/5; 12/18] START features__pca__n_components=2, features__univ_select__k=2, svm__C=10\n",
      "[CV 4/5; 12/18] END features__pca__n_components=2, features__univ_select__k=2, svm__C=10;, score=0.933 total time=   0.0s\n",
      "[CV 5/5; 12/18] START features__pca__n_components=2, features__univ_select__k=2, svm__C=10\n",
      "[CV 5/5; 12/18] END features__pca__n_components=2, features__univ_select__k=2, svm__C=10;, score=1.000 total time=   0.0s\n",
      "[CV 1/5; 13/18] START features__pca__n_components=3, features__univ_select__k=1, svm__C=0.1\n",
      "[CV 1/5; 13/18] END features__pca__n_components=3, features__univ_select__k=1, svm__C=0.1;, score=0.967 total time=   0.0s\n",
      "[CV 2/5; 13/18] START features__pca__n_components=3, features__univ_select__k=1, svm__C=0.1\n",
      "[CV 2/5; 13/18] END features__pca__n_components=3, features__univ_select__k=1, svm__C=0.1;, score=1.000 total time=   0.0s\n",
      "[CV 3/5; 13/18] START features__pca__n_components=3, features__univ_select__k=1, svm__C=0.1\n",
      "[CV 3/5; 13/18] END features__pca__n_components=3, features__univ_select__k=1, svm__C=0.1;, score=0.933 total time=   0.0s\n",
      "[CV 4/5; 13/18] START features__pca__n_components=3, features__univ_select__k=1, svm__C=0.1\n",
      "[CV 4/5; 13/18] END features__pca__n_components=3, features__univ_select__k=1, svm__C=0.1;, score=0.967 total time=   0.0s\n",
      "[CV 5/5; 13/18] START features__pca__n_components=3, features__univ_select__k=1, svm__C=0.1\n",
      "[CV 5/5; 13/18] END features__pca__n_components=3, features__univ_select__k=1, svm__C=0.1;, score=1.000 total time=   0.0s\n",
      "[CV 1/5; 14/18] START features__pca__n_components=3, features__univ_select__k=1, svm__C=1\n",
      "[CV 1/5; 14/18] END features__pca__n_components=3, features__univ_select__k=1, svm__C=1;, score=0.967 total time=   0.0s\n",
      "[CV 2/5; 14/18] START features__pca__n_components=3, features__univ_select__k=1, svm__C=1\n",
      "[CV 2/5; 14/18] END features__pca__n_components=3, features__univ_select__k=1, svm__C=1;, score=1.000 total time=   0.0s\n",
      "[CV 3/5; 14/18] START features__pca__n_components=3, features__univ_select__k=1, svm__C=1\n",
      "[CV 3/5; 14/18] END features__pca__n_components=3, features__univ_select__k=1, svm__C=1;, score=0.933 total time=   0.0s\n",
      "[CV 4/5; 14/18] START features__pca__n_components=3, features__univ_select__k=1, svm__C=1\n",
      "[CV 4/5; 14/18] END features__pca__n_components=3, features__univ_select__k=1, svm__C=1;, score=0.967 total time=   0.0s\n",
      "[CV 5/5; 14/18] START features__pca__n_components=3, features__univ_select__k=1, svm__C=1\n",
      "[CV 5/5; 14/18] END features__pca__n_components=3, features__univ_select__k=1, svm__C=1;, score=1.000 total time=   0.0s\n",
      "[CV 1/5; 15/18] START features__pca__n_components=3, features__univ_select__k=1, svm__C=10\n",
      "[CV 1/5; 15/18] END features__pca__n_components=3, features__univ_select__k=1, svm__C=10;, score=1.000 total time=   0.0s\n",
      "[CV 2/5; 15/18] START features__pca__n_components=3, features__univ_select__k=1, svm__C=10\n",
      "[CV 2/5; 15/18] END features__pca__n_components=3, features__univ_select__k=1, svm__C=10;, score=1.000 total time=   0.0s\n",
      "[CV 3/5; 15/18] START features__pca__n_components=3, features__univ_select__k=1, svm__C=10\n",
      "[CV 3/5; 15/18] END features__pca__n_components=3, features__univ_select__k=1, svm__C=10;, score=0.933 total time=   0.0s\n",
      "[CV 4/5; 15/18] START features__pca__n_components=3, features__univ_select__k=1, svm__C=10\n",
      "[CV 4/5; 15/18] END features__pca__n_components=3, features__univ_select__k=1, svm__C=10;, score=0.967 total time=   0.0s\n",
      "[CV 5/5; 15/18] START features__pca__n_components=3, features__univ_select__k=1, svm__C=10\n",
      "[CV 5/5; 15/18] END features__pca__n_components=3, features__univ_select__k=1, svm__C=10;, score=1.000 total time=   0.0s\n",
      "[CV 1/5; 16/18] START features__pca__n_components=3, features__univ_select__k=2, svm__C=0.1\n",
      "[CV 1/5; 16/18] END features__pca__n_components=3, features__univ_select__k=2, svm__C=0.1;, score=0.967 total time=   0.0s\n",
      "[CV 2/5; 16/18] START features__pca__n_components=3, features__univ_select__k=2, svm__C=0.1\n",
      "[CV 2/5; 16/18] END features__pca__n_components=3, features__univ_select__k=2, svm__C=0.1;, score=1.000 total time=   0.0s\n",
      "[CV 3/5; 16/18] START features__pca__n_components=3, features__univ_select__k=2, svm__C=0.1\n",
      "[CV 3/5; 16/18] END features__pca__n_components=3, features__univ_select__k=2, svm__C=0.1;, score=0.933 total time=   0.0s\n",
      "[CV 4/5; 16/18] START features__pca__n_components=3, features__univ_select__k=2, svm__C=0.1\n",
      "[CV 4/5; 16/18] END features__pca__n_components=3, features__univ_select__k=2, svm__C=0.1;, score=0.967 total time=   0.0s\n",
      "[CV 5/5; 16/18] START features__pca__n_components=3, features__univ_select__k=2, svm__C=0.1\n",
      "[CV 5/5; 16/18] END features__pca__n_components=3, features__univ_select__k=2, svm__C=0.1;, score=1.000 total time=   0.0s\n",
      "[CV 1/5; 17/18] START features__pca__n_components=3, features__univ_select__k=2, svm__C=1\n",
      "[CV 1/5; 17/18] END features__pca__n_components=3, features__univ_select__k=2, svm__C=1;, score=0.967 total time=   0.0s\n",
      "[CV 2/5; 17/18] START features__pca__n_components=3, features__univ_select__k=2, svm__C=1\n",
      "[CV 2/5; 17/18] END features__pca__n_components=3, features__univ_select__k=2, svm__C=1;, score=1.000 total time=   0.0s\n",
      "[CV 3/5; 17/18] START features__pca__n_components=3, features__univ_select__k=2, svm__C=1\n",
      "[CV 3/5; 17/18] END features__pca__n_components=3, features__univ_select__k=2, svm__C=1;, score=0.967 total time=   0.0s\n",
      "[CV 4/5; 17/18] START features__pca__n_components=3, features__univ_select__k=2, svm__C=1\n",
      "[CV 4/5; 17/18] END features__pca__n_components=3, features__univ_select__k=2, svm__C=1;, score=0.967 total time=   0.0s\n",
      "[CV 5/5; 17/18] START features__pca__n_components=3, features__univ_select__k=2, svm__C=1\n",
      "[CV 5/5; 17/18] END features__pca__n_components=3, features__univ_select__k=2, svm__C=1;, score=1.000 total time=   0.0s\n",
      "[CV 1/5; 18/18] START features__pca__n_components=3, features__univ_select__k=2, svm__C=10\n",
      "[CV 1/5; 18/18] END features__pca__n_components=3, features__univ_select__k=2, svm__C=10;, score=1.000 total time=   0.0s\n",
      "[CV 2/5; 18/18] START features__pca__n_components=3, features__univ_select__k=2, svm__C=10\n",
      "[CV 2/5; 18/18] END features__pca__n_components=3, features__univ_select__k=2, svm__C=10;, score=1.000 total time=   0.0s\n",
      "[CV 3/5; 18/18] START features__pca__n_components=3, features__univ_select__k=2, svm__C=10\n",
      "[CV 3/5; 18/18] END features__pca__n_components=3, features__univ_select__k=2, svm__C=10;, score=0.900 total time=   0.0s\n",
      "[CV 4/5; 18/18] START features__pca__n_components=3, features__univ_select__k=2, svm__C=10\n",
      "[CV 4/5; 18/18] END features__pca__n_components=3, features__univ_select__k=2, svm__C=10;, score=0.967 total time=   0.0s\n",
      "[CV 5/5; 18/18] START features__pca__n_components=3, features__univ_select__k=2, svm__C=10\n",
      "[CV 5/5; 18/18] END features__pca__n_components=3, features__univ_select__k=2, svm__C=10;, score=1.000 total time=   0.0s\n"
     ]
    },
    {
     "data": {
      "text/plain": [
       "GridSearchCV(estimator=Pipeline(steps=[('features',\n",
       "                                        FeatureUnion(transformer_list=[('pca',\n",
       "                                                                        PCA(n_components=2)),\n",
       "                                                                       ('univ_select',\n",
       "                                                                        SelectKBest(k=1))])),\n",
       "                                       ('svm', SVC(kernel='linear'))]),\n",
       "             param_grid={'features__pca__n_components': [1, 2, 3],\n",
       "                         'features__univ_select__k': [1, 2],\n",
       "                         'svm__C': [0.1, 1, 10]},\n",
       "             verbose=10)"
      ]
     },
     "execution_count": 67,
     "metadata": {},
     "output_type": "execute_result"
    }
   ],
   "source": [
    "grid_search = GridSearchCV(\n",
    "    pipeline, \n",
    "    param_grid=param_grid, \n",
    "    verbose=10\n",
    ")\n",
    "\n",
    "grid_search.fit(X, y)"
   ]
  },
  {
   "cell_type": "code",
   "execution_count": 68,
   "id": "3db163ec-8286-4576-9ad3-4dcf4667573d",
   "metadata": {},
   "outputs": [
    {
     "name": "stdout",
     "output_type": "stream",
     "text": [
      "Pipeline(steps=[('features',\n",
      "                 FeatureUnion(transformer_list=[('pca', PCA(n_components=3)),\n",
      "                                                ('univ_select',\n",
      "                                                 SelectKBest(k=1))])),\n",
      "                ('svm', SVC(C=10, kernel='linear'))])\n"
     ]
    }
   ],
   "source": [
    "print(grid_search.best_estimator_)"
   ]
  },
  {
   "cell_type": "markdown",
   "id": "e385b171-5616-4c0d-80e3-b0f2705101a2",
   "metadata": {},
   "source": [
    "---"
   ]
  },
  {
   "cell_type": "markdown",
   "id": "6a4a24a8-76e5-4231-a68c-c1885f0ccee1",
   "metadata": {},
   "source": [
    "## [`ColumnTransformer` for heterogeneous data](https://scikit-learn.org/stable/modules/compose.html#columntransformer-for-heterogeneous-data)\n",
    "\n",
    "Many datasets contain features of different types, say text, floats, and dates, where each type of feature requires separate preprocessing or feature extraction steps. \n",
    "\n",
    "Often it is easiest to preprocess data before applying scikit-learn methods, for example using `pandas`. Processing your data before passing it to scikit-learn might be problematic for one of the following reasons:\n",
    "\n",
    "* Incorporating statistics from test data into the preprocessors makes cross-validation scores unreliable (known as **data leakage**), for example in the case of scalers or imputing missing values.\n",
    "* You may want to include the parameters of the preprocessors in a parameter search.\n",
    "\n",
    "The `ColumnTransformer` helps performing different transformations for different columns of the data, within a `Pipeline` that is *safe from data leakage* and that *can be parametrized*. `ColumnTransformer` works on:\n",
    "* arrays, \n",
    "* sparse matrices, and \n",
    "* `pandas DataFrames`.\n",
    "\n",
    "To each column, a different transformation can be applied, such as preprocessing or a specific feature extraction method:"
   ]
  },
  {
   "cell_type": "code",
   "execution_count": 70,
   "id": "97478e38-2a77-43fd-a96d-29099b81d127",
   "metadata": {},
   "outputs": [
    {
     "data": {
      "text/html": [
       "<div>\n",
       "<style scoped>\n",
       "    .dataframe tbody tr th:only-of-type {\n",
       "        vertical-align: middle;\n",
       "    }\n",
       "\n",
       "    .dataframe tbody tr th {\n",
       "        vertical-align: top;\n",
       "    }\n",
       "\n",
       "    .dataframe thead th {\n",
       "        text-align: right;\n",
       "    }\n",
       "</style>\n",
       "<table border=\"1\" class=\"dataframe\">\n",
       "  <thead>\n",
       "    <tr style=\"text-align: right;\">\n",
       "      <th></th>\n",
       "      <th>city</th>\n",
       "      <th>title</th>\n",
       "      <th>expert_rating</th>\n",
       "      <th>user_rating</th>\n",
       "    </tr>\n",
       "  </thead>\n",
       "  <tbody>\n",
       "    <tr>\n",
       "      <th>0</th>\n",
       "      <td>London</td>\n",
       "      <td>His Last Bow</td>\n",
       "      <td>5</td>\n",
       "      <td>4</td>\n",
       "    </tr>\n",
       "    <tr>\n",
       "      <th>1</th>\n",
       "      <td>London</td>\n",
       "      <td>How Watson Learned the Trick</td>\n",
       "      <td>3</td>\n",
       "      <td>5</td>\n",
       "    </tr>\n",
       "    <tr>\n",
       "      <th>2</th>\n",
       "      <td>Paris</td>\n",
       "      <td>A Moveable Feast</td>\n",
       "      <td>4</td>\n",
       "      <td>4</td>\n",
       "    </tr>\n",
       "    <tr>\n",
       "      <th>3</th>\n",
       "      <td>Sallisaw</td>\n",
       "      <td>The Grapes of Wrath</td>\n",
       "      <td>5</td>\n",
       "      <td>3</td>\n",
       "    </tr>\n",
       "  </tbody>\n",
       "</table>\n",
       "</div>"
      ],
      "text/plain": [
       "       city                         title  expert_rating  user_rating\n",
       "0    London                  His Last Bow              5            4\n",
       "1    London  How Watson Learned the Trick              3            5\n",
       "2     Paris              A Moveable Feast              4            4\n",
       "3  Sallisaw           The Grapes of Wrath              5            3"
      ]
     },
     "metadata": {},
     "output_type": "display_data"
    }
   ],
   "source": [
    "import pandas as pd\n",
    "X = pd.DataFrame(\n",
    "    {\n",
    "        'city': ['London', 'London', 'Paris', 'Sallisaw'],\n",
    "        'title': [\"His Last Bow\", \"How Watson Learned the Trick\", \"A Moveable Feast\", \"The Grapes of Wrath\"],\n",
    "        'expert_rating': [5, 3, 4, 5],\n",
    "        'user_rating': [4, 5, 4, 3]\n",
    "    }\n",
    ")\n",
    "display(X)"
   ]
  },
  {
   "cell_type": "markdown",
   "id": "b7c44d63-0b90-4379-a5b5-d116aaa2df52",
   "metadata": {},
   "source": [
    "For this data, we might want to encode the `'city'` column as a categorical variable using `OneHotEncoder` but apply a `CountVectorizer` to the `'title'` column. \n",
    "\n",
    "As we might use multiple feature extraction methods on the same column, *we give each transformer a unique name*, say `'city_category'` and `'title_bow'`. \n",
    "\n",
    "By default, the remaining rating columns are ignored (`remainder='drop'`):"
   ]
  },
  {
   "cell_type": "code",
   "execution_count": 71,
   "id": "b3fb4d1d-ab8e-47e4-8d3f-f7aa7c6b3ce2",
   "metadata": {},
   "outputs": [],
   "source": [
    "from sklearn.compose import ColumnTransformer\n",
    "from sklearn.feature_extraction.text import CountVectorizer\n",
    "from sklearn.preprocessing import OneHotEncoder\n",
    "\n",
    "column_trans = ColumnTransformer(\n",
    "    [\n",
    "        # Note the third item in the tuple - column name / list of culumns!\n",
    "        ('city_category', OneHotEncoder(dtype='int'), ['city']),\n",
    "        ('title_bow', CountVectorizer(), 'title')\n",
    "    ],\n",
    "    remainder='drop'  # Note also this default!\n",
    ")"
   ]
  },
  {
   "cell_type": "code",
   "execution_count": 72,
   "id": "a5135c8f-ed72-480b-9d9d-f054f0d1c22b",
   "metadata": {},
   "outputs": [
    {
     "data": {
      "text/plain": [
       "ColumnTransformer(transformers=[('city_category', OneHotEncoder(dtype='int'),\n",
       "                                 ['city']),\n",
       "                                ('title_bow', CountVectorizer(), 'title')])"
      ]
     },
     "execution_count": 72,
     "metadata": {},
     "output_type": "execute_result"
    }
   ],
   "source": [
    "column_trans.fit(X)"
   ]
  },
  {
   "cell_type": "code",
   "execution_count": 73,
   "id": "15c0bf66-0354-4957-a748-d8b59359e2e5",
   "metadata": {},
   "outputs": [
    {
     "data": {
      "text/plain": [
       "['city_category__x0_London',\n",
       " 'city_category__x0_Paris',\n",
       " 'city_category__x0_Sallisaw',\n",
       " 'title_bow__bow',\n",
       " 'title_bow__feast',\n",
       " 'title_bow__grapes',\n",
       " 'title_bow__his',\n",
       " 'title_bow__how',\n",
       " 'title_bow__last',\n",
       " 'title_bow__learned',\n",
       " 'title_bow__moveable',\n",
       " 'title_bow__of',\n",
       " 'title_bow__the',\n",
       " 'title_bow__trick',\n",
       " 'title_bow__watson',\n",
       " 'title_bow__wrath']"
      ]
     },
     "execution_count": 73,
     "metadata": {},
     "output_type": "execute_result"
    }
   ],
   "source": [
    "column_trans.get_feature_names()"
   ]
  },
  {
   "cell_type": "code",
   "execution_count": 74,
   "id": "4fed9b1a-1b68-4ca5-bfbc-1d6b86adaf20",
   "metadata": {},
   "outputs": [
    {
     "name": "stdout",
     "output_type": "stream",
     "text": [
      "type(transformed): <class 'scipy.sparse.csr.csr_matrix'>\n"
     ]
    },
    {
     "data": {
      "text/plain": [
       "array([[1, 0, 0, 1, 0, 0, 1, 0, 1, 0, 0, 0, 0, 0, 0, 0],\n",
       "       [1, 0, 0, 0, 0, 0, 0, 1, 0, 1, 0, 0, 1, 1, 1, 0],\n",
       "       [0, 1, 0, 0, 1, 0, 0, 0, 0, 0, 1, 0, 0, 0, 0, 0],\n",
       "       [0, 0, 1, 0, 0, 1, 0, 0, 0, 0, 0, 1, 1, 0, 0, 1]])"
      ]
     },
     "execution_count": 74,
     "metadata": {},
     "output_type": "execute_result"
    }
   ],
   "source": [
    "transformed = column_trans.transform(X)\n",
    "print(\"type(transformed):\", type(transformed))  # Sparse matrix, in this case, due to the particular transformers used, I suppose.\n",
    "\n",
    "transformed.toarray()"
   ]
  },
  {
   "cell_type": "markdown",
   "id": "43e0e234-dc36-48bd-a8b5-9aa960ebc804",
   "metadata": {},
   "source": [
    "⚠️ In the above example, the `CountVectorizer` **expects a 1D array as input** and therefore the columns were **specified as a string (`'title'`)**. However, `OneHotEncoder` as most of other transformers **expects 2D data**, therefore in that case you need to specify the column **as a list of strings (`['city']`)**.\n",
    "\n",
    "Apart from\n",
    "* a scalar or \n",
    "* a single item list, \n",
    "\n",
    "the column selection can be specified as \n",
    "* a list of multiple items, \n",
    "* an integer array, \n",
    "* a slice, \n",
    "* a boolean mask, \n",
    "* or with a `make_column_selector`. \n",
    "\n",
    "The `make_column_selector` [(docs)](https://scikit-learn.org/stable/modules/generated/sklearn.compose.make_column_selector.html#sklearn.compose.make_column_selector) is used to select columns based on data type or column name:"
   ]
  },
  {
   "cell_type": "code",
   "execution_count": 75,
   "id": "f39e1a68-4709-4eb9-b8c7-23bdf22ed8bb",
   "metadata": {},
   "outputs": [
    {
     "data": {
      "text/plain": [
       "array([[ 0.90453403,  0.        ,  1.        ,  0.        ,  0.        ],\n",
       "       [-1.50755672,  1.41421356,  1.        ,  0.        ,  0.        ],\n",
       "       [-0.30151134,  0.        ,  0.        ,  1.        ,  0.        ],\n",
       "       [ 0.90453403, -1.41421356,  0.        ,  0.        ,  1.        ]])"
      ]
     },
     "execution_count": 75,
     "metadata": {},
     "output_type": "execute_result"
    }
   ],
   "source": [
    "from sklearn.preprocessing import StandardScaler\n",
    "from sklearn.compose import make_column_selector\n",
    "\n",
    "ct = ColumnTransformer(\n",
    "    [\n",
    "        # Note the use of `make_column_selector`:\n",
    "        ('scale', StandardScaler(), make_column_selector(dtype_include=np.number)),\n",
    "        ('onehot', OneHotEncoder(), make_column_selector(pattern='city', dtype_include=object))\n",
    "    ]\n",
    ")\n",
    "\n",
    "ct.fit_transform(X)"
   ]
  },
  {
   "cell_type": "markdown",
   "id": "486653d8-9d08-4f9b-8e73-4a4a35e2972d",
   "metadata": {},
   "source": [
    "Strings can reference columns if the input is a `DataFrame`, integers are always interpreted as the positional columns.\n",
    "\n",
    "We can **keep the remaining columns** by setting `remainder='passthrough'`. The values are appended *to the end* of the transformation:"
   ]
  },
  {
   "cell_type": "code",
   "execution_count": 76,
   "id": "574244ad-fc6f-4e22-b489-5fd6308f2703",
   "metadata": {},
   "outputs": [],
   "source": [
    "column_trans = ColumnTransformer(\n",
    "    [\n",
    "        ('city_category', OneHotEncoder(dtype='int'),['city']),\n",
    "        ('title_bow', CountVectorizer(), 'title')\n",
    "    ],\n",
    "    remainder='passthrough'  # This.\n",
    ")"
   ]
  },
  {
   "cell_type": "code",
   "execution_count": 77,
   "id": "e396b00a-0d6f-4879-9129-74cef3e966f9",
   "metadata": {},
   "outputs": [
    {
     "data": {
      "text/plain": [
       "array([[1, 0, 0, 1, 0, 0, 1, 0, 1, 0, 0, 0, 0, 0, 0, 0, 5, 4],\n",
       "       [1, 0, 0, 0, 0, 0, 0, 1, 0, 1, 0, 0, 1, 1, 1, 0, 3, 5],\n",
       "       [0, 1, 0, 0, 1, 0, 0, 0, 0, 0, 1, 0, 0, 0, 0, 0, 4, 4],\n",
       "       [0, 0, 1, 0, 0, 1, 0, 0, 0, 0, 0, 1, 1, 0, 0, 1, 5, 3]])"
      ]
     },
     "execution_count": 77,
     "metadata": {},
     "output_type": "execute_result"
    }
   ],
   "source": [
    "column_trans.fit_transform(X)"
   ]
  },
  {
   "cell_type": "markdown",
   "id": "a2a810d2-2fff-4c1a-a6f8-4080a22be907",
   "metadata": {},
   "source": [
    "The remainder parameter **can be set to an *estimator*** to *transform the remaining columns*. \n",
    "\n",
    "The transformed values are appended to the end of the transformation:"
   ]
  },
  {
   "cell_type": "code",
   "execution_count": 78,
   "id": "34ca5074-a44a-43c2-ab3a-e90f0f4811be",
   "metadata": {},
   "outputs": [],
   "source": [
    "from sklearn.preprocessing import MinMaxScaler\n",
    "\n",
    "column_trans = ColumnTransformer(\n",
    "    [\n",
    "        ('city_category', OneHotEncoder(), ['city']),\n",
    "        ('title_bow', CountVectorizer(), 'title')\n",
    "    ],\n",
    "    remainder=MinMaxScaler()  # Like so.\n",
    ")"
   ]
  },
  {
   "cell_type": "code",
   "execution_count": 79,
   "id": "5624e239-49d8-4672-87b4-a03a2437fb38",
   "metadata": {},
   "outputs": [
    {
     "data": {
      "text/plain": [
       "ColumnTransformer(remainder=MinMaxScaler(),\n",
       "                  transformers=[('city_category', OneHotEncoder(), ['city']),\n",
       "                                ('title_bow', CountVectorizer(), 'title')])"
      ]
     },
     "execution_count": 79,
     "metadata": {},
     "output_type": "execute_result"
    }
   ],
   "source": [
    "column_trans"
   ]
  },
  {
   "cell_type": "code",
   "execution_count": 83,
   "id": "b8333b4d-7c45-4cb3-91d2-34ce21eeac1d",
   "metadata": {},
   "outputs": [
    {
     "name": "stdout",
     "output_type": "stream",
     "text": [
      "[[1.  0.  0.  1.  0.  0.  1.  0.  1.  0.  0.  0.  0.  0.  0.  0.  1.  0.5]\n",
      " [1.  0.  0.  0.  0.  0.  0.  1.  0.  1.  0.  0.  1.  1.  1.  0.  0.  1. ]\n",
      " [0.  1.  0.  0.  1.  0.  0.  0.  0.  0.  1.  0.  0.  0.  0.  0.  0.5 0.5]\n",
      " [0.  0.  1.  0.  0.  1.  0.  0.  0.  0.  0.  1.  1.  0.  0.  1.  1.  0. ]]\n"
     ]
    }
   ],
   "source": [
    "with np.printoptions(linewidth=120):\n",
    "    print(column_trans.fit_transform(X))"
   ]
  },
  {
   "cell_type": "markdown",
   "id": "f16b040e-c0d4-471f-a1c3-4141e13d0376",
   "metadata": {},
   "source": [
    "## [Visualizing Composite Estimators](https://scikit-learn.org/stable/modules/compose.html#visualizing-composite-estimators)\n",
    "\n",
    "Estimators can be displayed with a HTML representation when shown in a jupyter notebook. \n",
    "\n",
    "This can be useful to diagnose or visualize a `Pipeline` with many estimators. \n",
    "\n",
    "This visualization is activated by setting the `display` option in `set_config`:"
   ]
  },
  {
   "cell_type": "code",
   "execution_count": 84,
   "id": "093ed324-16dd-4bfa-887e-ca4a90266417",
   "metadata": {},
   "outputs": [
    {
     "data": {
      "text/html": [
       "<style>#sk-428981e3-ec43-4b58-a067-4c9652dab301 {color: black;background-color: white;}#sk-428981e3-ec43-4b58-a067-4c9652dab301 pre{padding: 0;}#sk-428981e3-ec43-4b58-a067-4c9652dab301 div.sk-toggleable {background-color: white;}#sk-428981e3-ec43-4b58-a067-4c9652dab301 label.sk-toggleable__label {cursor: pointer;display: block;width: 100%;margin-bottom: 0;padding: 0.2em 0.3em;box-sizing: border-box;text-align: center;}#sk-428981e3-ec43-4b58-a067-4c9652dab301 div.sk-toggleable__content {max-height: 0;max-width: 0;overflow: hidden;text-align: left;background-color: #f0f8ff;}#sk-428981e3-ec43-4b58-a067-4c9652dab301 div.sk-toggleable__content pre {margin: 0.2em;color: black;border-radius: 0.25em;background-color: #f0f8ff;}#sk-428981e3-ec43-4b58-a067-4c9652dab301 input.sk-toggleable__control:checked~div.sk-toggleable__content {max-height: 200px;max-width: 100%;overflow: auto;}#sk-428981e3-ec43-4b58-a067-4c9652dab301 div.sk-estimator input.sk-toggleable__control:checked~label.sk-toggleable__label {background-color: #d4ebff;}#sk-428981e3-ec43-4b58-a067-4c9652dab301 div.sk-label input.sk-toggleable__control:checked~label.sk-toggleable__label {background-color: #d4ebff;}#sk-428981e3-ec43-4b58-a067-4c9652dab301 input.sk-hidden--visually {border: 0;clip: rect(1px 1px 1px 1px);clip: rect(1px, 1px, 1px, 1px);height: 1px;margin: -1px;overflow: hidden;padding: 0;position: absolute;width: 1px;}#sk-428981e3-ec43-4b58-a067-4c9652dab301 div.sk-estimator {font-family: monospace;background-color: #f0f8ff;margin: 0.25em 0.25em;border: 1px dotted black;border-radius: 0.25em;box-sizing: border-box;}#sk-428981e3-ec43-4b58-a067-4c9652dab301 div.sk-estimator:hover {background-color: #d4ebff;}#sk-428981e3-ec43-4b58-a067-4c9652dab301 div.sk-parallel-item::after {content: \"\";width: 100%;border-bottom: 1px solid gray;flex-grow: 1;}#sk-428981e3-ec43-4b58-a067-4c9652dab301 div.sk-label:hover label.sk-toggleable__label {background-color: #d4ebff;}#sk-428981e3-ec43-4b58-a067-4c9652dab301 div.sk-serial::before {content: \"\";position: absolute;border-left: 1px solid gray;box-sizing: border-box;top: 2em;bottom: 0;left: 50%;}#sk-428981e3-ec43-4b58-a067-4c9652dab301 div.sk-serial {display: flex;flex-direction: column;align-items: center;background-color: white;}#sk-428981e3-ec43-4b58-a067-4c9652dab301 div.sk-item {z-index: 1;}#sk-428981e3-ec43-4b58-a067-4c9652dab301 div.sk-parallel {display: flex;align-items: stretch;justify-content: center;background-color: white;}#sk-428981e3-ec43-4b58-a067-4c9652dab301 div.sk-parallel-item {display: flex;flex-direction: column;position: relative;background-color: white;}#sk-428981e3-ec43-4b58-a067-4c9652dab301 div.sk-parallel-item:first-child::after {align-self: flex-end;width: 50%;}#sk-428981e3-ec43-4b58-a067-4c9652dab301 div.sk-parallel-item:last-child::after {align-self: flex-start;width: 50%;}#sk-428981e3-ec43-4b58-a067-4c9652dab301 div.sk-parallel-item:only-child::after {width: 0;}#sk-428981e3-ec43-4b58-a067-4c9652dab301 div.sk-dashed-wrapped {border: 1px dashed gray;margin: 0.2em;box-sizing: border-box;padding-bottom: 0.1em;background-color: white;position: relative;}#sk-428981e3-ec43-4b58-a067-4c9652dab301 div.sk-label label {font-family: monospace;font-weight: bold;background-color: white;display: inline-block;line-height: 1.2em;}#sk-428981e3-ec43-4b58-a067-4c9652dab301 div.sk-label-container {position: relative;z-index: 2;text-align: center;}#sk-428981e3-ec43-4b58-a067-4c9652dab301 div.sk-container {display: inline-block;position: relative;}</style><div id=\"sk-428981e3-ec43-4b58-a067-4c9652dab301\" class\"sk-top-container\"><div class=\"sk-container\"><div class=\"sk-item sk-dashed-wrapped\"><div class=\"sk-label-container\"><div class=\"sk-label sk-toggleable\"><input class=\"sk-toggleable__control sk-hidden--visually\" id=\"aecdbf25-5b52-491b-a1a1-36cdbad93432\" type=\"checkbox\" ><label class=\"sk-toggleable__label\" for=\"aecdbf25-5b52-491b-a1a1-36cdbad93432\">ColumnTransformer</label><div class=\"sk-toggleable__content\"><pre>ColumnTransformer(remainder=MinMaxScaler(),\n",
       "                  transformers=[('city_category', OneHotEncoder(), ['city']),\n",
       "                                ('title_bow', CountVectorizer(), 'title')])</pre></div></div></div><div class=\"sk-parallel\"><div class=\"sk-parallel-item\"><div class=\"sk-item\"><div class=\"sk-label-container\"><div class=\"sk-label sk-toggleable\"><input class=\"sk-toggleable__control sk-hidden--visually\" id=\"2feef6e6-a994-4c7b-ac52-3e3f510c5a63\" type=\"checkbox\" ><label class=\"sk-toggleable__label\" for=\"2feef6e6-a994-4c7b-ac52-3e3f510c5a63\">city_category</label><div class=\"sk-toggleable__content\"><pre>['city']</pre></div></div></div><div class=\"sk-serial\"><div class=\"sk-item\"><div class=\"sk-estimator sk-toggleable\"><input class=\"sk-toggleable__control sk-hidden--visually\" id=\"0d074594-bce0-41ee-8f24-91b9e7521c0b\" type=\"checkbox\" ><label class=\"sk-toggleable__label\" for=\"0d074594-bce0-41ee-8f24-91b9e7521c0b\">OneHotEncoder</label><div class=\"sk-toggleable__content\"><pre>OneHotEncoder()</pre></div></div></div></div></div></div><div class=\"sk-parallel-item\"><div class=\"sk-item\"><div class=\"sk-label-container\"><div class=\"sk-label sk-toggleable\"><input class=\"sk-toggleable__control sk-hidden--visually\" id=\"c3a75f6d-1286-4f85-9b93-c185b6a2bcd9\" type=\"checkbox\" ><label class=\"sk-toggleable__label\" for=\"c3a75f6d-1286-4f85-9b93-c185b6a2bcd9\">title_bow</label><div class=\"sk-toggleable__content\"><pre>title</pre></div></div></div><div class=\"sk-serial\"><div class=\"sk-item\"><div class=\"sk-estimator sk-toggleable\"><input class=\"sk-toggleable__control sk-hidden--visually\" id=\"d0892732-c61d-447e-8032-67ff4a1586f0\" type=\"checkbox\" ><label class=\"sk-toggleable__label\" for=\"d0892732-c61d-447e-8032-67ff4a1586f0\">CountVectorizer</label><div class=\"sk-toggleable__content\"><pre>CountVectorizer()</pre></div></div></div></div></div></div><div class=\"sk-parallel-item\"><div class=\"sk-item\"><div class=\"sk-label-container\"><div class=\"sk-label sk-toggleable\"><input class=\"sk-toggleable__control sk-hidden--visually\" id=\"c781d11b-d7aa-45da-a9ff-b5ef42004e22\" type=\"checkbox\" ><label class=\"sk-toggleable__label\" for=\"c781d11b-d7aa-45da-a9ff-b5ef42004e22\">remainder</label><div class=\"sk-toggleable__content\"><pre>['expert_rating', 'user_rating']</pre></div></div></div><div class=\"sk-serial\"><div class=\"sk-item\"><div class=\"sk-estimator sk-toggleable\"><input class=\"sk-toggleable__control sk-hidden--visually\" id=\"17b46bd8-5441-4f8d-bda0-782d2491cfc1\" type=\"checkbox\" ><label class=\"sk-toggleable__label\" for=\"17b46bd8-5441-4f8d-bda0-782d2491cfc1\">MinMaxScaler</label><div class=\"sk-toggleable__content\"><pre>MinMaxScaler()</pre></div></div></div></div></div></div></div></div></div></div>"
      ],
      "text/plain": [
       "ColumnTransformer(remainder=MinMaxScaler(),\n",
       "                  transformers=[('city_category', OneHotEncoder(), ['city']),\n",
       "                                ('title_bow', CountVectorizer(), 'title')])"
      ]
     },
     "execution_count": 84,
     "metadata": {},
     "output_type": "execute_result"
    }
   ],
   "source": [
    "from sklearn import set_config\n",
    "set_config(display='diagram')   \n",
    "# diplays HTML representation in a jupyter context\n",
    "column_trans"
   ]
  },
  {
   "cell_type": "markdown",
   "id": "a9d00b2f-d466-4292-9150-f9a940593e80",
   "metadata": {},
   "source": [
    "As an alternative, the HTML can be written to a file using estimator_html_repr:\n",
    "```python\n",
    "from sklearn.utils import estimator_html_repr\n",
    "with open('my_estimator.html', 'w') as f:  \n",
    "    f.write(estimator_html_repr(clf))\n",
    "```"
   ]
  },
  {
   "cell_type": "markdown",
   "id": "10bed8fd-e3c2-4ff2-a643-a4b109ff8f88",
   "metadata": {},
   "source": [
    "**Examples:**\n",
    "* [Column Transformer with Heterogeneous Data Sources](https://scikit-learn.org/stable/auto_examples/compose/plot_column_transformer.html#sphx-glr-auto-examples-compose-plot-column-transformer-py)\n",
    "* [Column Transformer with Mixed Types](https://scikit-learn.org/stable/auto_examples/compose/plot_column_transformer_mixed_types.html#sphx-glr-auto-examples-compose-plot-column-transformer-mixed-types-py) - covered below."
   ]
  },
  {
   "cell_type": "markdown",
   "id": "63abf586-42f3-4d61-a4b4-32b2e3326def",
   "metadata": {},
   "source": [
    "---\n",
    "#### [Example: Column Transformer with Mixed Types](https://scikit-learn.org/stable/auto_examples/compose/plot_column_transformer_mixed_types.html#sphx-glr-auto-examples-compose-plot-column-transformer-mixed-types-py)\n",
    "\n",
    "This example illustrates how to apply different preprocessing and feature extraction pipelines to different subsets of features, using `ColumnTransformer`. This is particularly handy for the case of datasets that contain heterogeneous data types, since we may want to:\n",
    "* scale the numeric features and \n",
    "* one-hot encode the categorical ones.\n",
    "\n",
    "In this example, the numeric data is standard-scaled after mean-imputation, while the categorical data is one-hot encoded after imputing missing values with a new category (`'missing'`).\n",
    "\n",
    "In addition, we show *two different ways to dispatch the columns* to the particular pre-processor: \n",
    "* by column names and \n",
    "* by column data types.\n",
    "\n",
    "Finally, the preprocessing pipeline is integrated in a full prediction pipeline using `Pipeline`, together with a simple classification model."
   ]
  },
  {
   "cell_type": "code",
   "execution_count": 91,
   "id": "424bde85-c083-427f-aab0-4af98448cbeb",
   "metadata": {},
   "outputs": [],
   "source": [
    "import numpy as np\n",
    "\n",
    "from sklearn.compose import ColumnTransformer\n",
    "from sklearn.datasets import fetch_openml\n",
    "from sklearn.pipeline import Pipeline\n",
    "from sklearn.impute import SimpleImputer\n",
    "from sklearn.preprocessing import StandardScaler, OneHotEncoder\n",
    "from sklearn.linear_model import LogisticRegression\n",
    "from sklearn.model_selection import train_test_split, GridSearchCV\n",
    "\n",
    "from sklearn import set_config  # For Pipeline representation control."
   ]
  },
  {
   "cell_type": "code",
   "execution_count": 86,
   "id": "f1a6d8e3-5290-4ca2-92d9-69806357c2d4",
   "metadata": {},
   "outputs": [],
   "source": [
    "np.random.seed(0)"
   ]
  },
  {
   "cell_type": "code",
   "execution_count": 88,
   "id": "05c6e2ba-135b-4bcc-9c6b-34249caca418",
   "metadata": {},
   "outputs": [
    {
     "name": "stdout",
     "output_type": "stream",
     "text": [
      "X.shape (1309, 13)\n",
      "y.shape (1309,)\n"
     ]
    },
    {
     "data": {
      "text/html": [
       "<div>\n",
       "<style scoped>\n",
       "    .dataframe tbody tr th:only-of-type {\n",
       "        vertical-align: middle;\n",
       "    }\n",
       "\n",
       "    .dataframe tbody tr th {\n",
       "        vertical-align: top;\n",
       "    }\n",
       "\n",
       "    .dataframe thead th {\n",
       "        text-align: right;\n",
       "    }\n",
       "</style>\n",
       "<table border=\"1\" class=\"dataframe\">\n",
       "  <thead>\n",
       "    <tr style=\"text-align: right;\">\n",
       "      <th></th>\n",
       "      <th>pclass</th>\n",
       "      <th>name</th>\n",
       "      <th>sex</th>\n",
       "      <th>age</th>\n",
       "      <th>sibsp</th>\n",
       "      <th>parch</th>\n",
       "      <th>ticket</th>\n",
       "      <th>fare</th>\n",
       "      <th>cabin</th>\n",
       "      <th>embarked</th>\n",
       "      <th>boat</th>\n",
       "      <th>body</th>\n",
       "      <th>home.dest</th>\n",
       "    </tr>\n",
       "  </thead>\n",
       "  <tbody>\n",
       "    <tr>\n",
       "      <th>0</th>\n",
       "      <td>1.0</td>\n",
       "      <td>Allen, Miss. Elisabeth Walton</td>\n",
       "      <td>female</td>\n",
       "      <td>29.0000</td>\n",
       "      <td>0.0</td>\n",
       "      <td>0.0</td>\n",
       "      <td>24160</td>\n",
       "      <td>211.3375</td>\n",
       "      <td>B5</td>\n",
       "      <td>S</td>\n",
       "      <td>2</td>\n",
       "      <td>NaN</td>\n",
       "      <td>St Louis, MO</td>\n",
       "    </tr>\n",
       "    <tr>\n",
       "      <th>1</th>\n",
       "      <td>1.0</td>\n",
       "      <td>Allison, Master. Hudson Trevor</td>\n",
       "      <td>male</td>\n",
       "      <td>0.9167</td>\n",
       "      <td>1.0</td>\n",
       "      <td>2.0</td>\n",
       "      <td>113781</td>\n",
       "      <td>151.5500</td>\n",
       "      <td>C22 C26</td>\n",
       "      <td>S</td>\n",
       "      <td>11</td>\n",
       "      <td>NaN</td>\n",
       "      <td>Montreal, PQ / Chesterville, ON</td>\n",
       "    </tr>\n",
       "    <tr>\n",
       "      <th>2</th>\n",
       "      <td>1.0</td>\n",
       "      <td>Allison, Miss. Helen Loraine</td>\n",
       "      <td>female</td>\n",
       "      <td>2.0000</td>\n",
       "      <td>1.0</td>\n",
       "      <td>2.0</td>\n",
       "      <td>113781</td>\n",
       "      <td>151.5500</td>\n",
       "      <td>C22 C26</td>\n",
       "      <td>S</td>\n",
       "      <td>None</td>\n",
       "      <td>NaN</td>\n",
       "      <td>Montreal, PQ / Chesterville, ON</td>\n",
       "    </tr>\n",
       "    <tr>\n",
       "      <th>3</th>\n",
       "      <td>1.0</td>\n",
       "      <td>Allison, Mr. Hudson Joshua Creighton</td>\n",
       "      <td>male</td>\n",
       "      <td>30.0000</td>\n",
       "      <td>1.0</td>\n",
       "      <td>2.0</td>\n",
       "      <td>113781</td>\n",
       "      <td>151.5500</td>\n",
       "      <td>C22 C26</td>\n",
       "      <td>S</td>\n",
       "      <td>None</td>\n",
       "      <td>135.0</td>\n",
       "      <td>Montreal, PQ / Chesterville, ON</td>\n",
       "    </tr>\n",
       "    <tr>\n",
       "      <th>4</th>\n",
       "      <td>1.0</td>\n",
       "      <td>Allison, Mrs. Hudson J C (Bessie Waldo Daniels)</td>\n",
       "      <td>female</td>\n",
       "      <td>25.0000</td>\n",
       "      <td>1.0</td>\n",
       "      <td>2.0</td>\n",
       "      <td>113781</td>\n",
       "      <td>151.5500</td>\n",
       "      <td>C22 C26</td>\n",
       "      <td>S</td>\n",
       "      <td>None</td>\n",
       "      <td>NaN</td>\n",
       "      <td>Montreal, PQ / Chesterville, ON</td>\n",
       "    </tr>\n",
       "    <tr>\n",
       "      <th>...</th>\n",
       "      <td>...</td>\n",
       "      <td>...</td>\n",
       "      <td>...</td>\n",
       "      <td>...</td>\n",
       "      <td>...</td>\n",
       "      <td>...</td>\n",
       "      <td>...</td>\n",
       "      <td>...</td>\n",
       "      <td>...</td>\n",
       "      <td>...</td>\n",
       "      <td>...</td>\n",
       "      <td>...</td>\n",
       "      <td>...</td>\n",
       "    </tr>\n",
       "    <tr>\n",
       "      <th>1304</th>\n",
       "      <td>3.0</td>\n",
       "      <td>Zabour, Miss. Hileni</td>\n",
       "      <td>female</td>\n",
       "      <td>14.5000</td>\n",
       "      <td>1.0</td>\n",
       "      <td>0.0</td>\n",
       "      <td>2665</td>\n",
       "      <td>14.4542</td>\n",
       "      <td>None</td>\n",
       "      <td>C</td>\n",
       "      <td>None</td>\n",
       "      <td>328.0</td>\n",
       "      <td>None</td>\n",
       "    </tr>\n",
       "    <tr>\n",
       "      <th>1305</th>\n",
       "      <td>3.0</td>\n",
       "      <td>Zabour, Miss. Thamine</td>\n",
       "      <td>female</td>\n",
       "      <td>NaN</td>\n",
       "      <td>1.0</td>\n",
       "      <td>0.0</td>\n",
       "      <td>2665</td>\n",
       "      <td>14.4542</td>\n",
       "      <td>None</td>\n",
       "      <td>C</td>\n",
       "      <td>None</td>\n",
       "      <td>NaN</td>\n",
       "      <td>None</td>\n",
       "    </tr>\n",
       "    <tr>\n",
       "      <th>1306</th>\n",
       "      <td>3.0</td>\n",
       "      <td>Zakarian, Mr. Mapriededer</td>\n",
       "      <td>male</td>\n",
       "      <td>26.5000</td>\n",
       "      <td>0.0</td>\n",
       "      <td>0.0</td>\n",
       "      <td>2656</td>\n",
       "      <td>7.2250</td>\n",
       "      <td>None</td>\n",
       "      <td>C</td>\n",
       "      <td>None</td>\n",
       "      <td>304.0</td>\n",
       "      <td>None</td>\n",
       "    </tr>\n",
       "    <tr>\n",
       "      <th>1307</th>\n",
       "      <td>3.0</td>\n",
       "      <td>Zakarian, Mr. Ortin</td>\n",
       "      <td>male</td>\n",
       "      <td>27.0000</td>\n",
       "      <td>0.0</td>\n",
       "      <td>0.0</td>\n",
       "      <td>2670</td>\n",
       "      <td>7.2250</td>\n",
       "      <td>None</td>\n",
       "      <td>C</td>\n",
       "      <td>None</td>\n",
       "      <td>NaN</td>\n",
       "      <td>None</td>\n",
       "    </tr>\n",
       "    <tr>\n",
       "      <th>1308</th>\n",
       "      <td>3.0</td>\n",
       "      <td>Zimmerman, Mr. Leo</td>\n",
       "      <td>male</td>\n",
       "      <td>29.0000</td>\n",
       "      <td>0.0</td>\n",
       "      <td>0.0</td>\n",
       "      <td>315082</td>\n",
       "      <td>7.8750</td>\n",
       "      <td>None</td>\n",
       "      <td>S</td>\n",
       "      <td>None</td>\n",
       "      <td>NaN</td>\n",
       "      <td>None</td>\n",
       "    </tr>\n",
       "  </tbody>\n",
       "</table>\n",
       "<p>1309 rows × 13 columns</p>\n",
       "</div>"
      ],
      "text/plain": [
       "      pclass                                             name     sex  \\\n",
       "0        1.0                    Allen, Miss. Elisabeth Walton  female   \n",
       "1        1.0                   Allison, Master. Hudson Trevor    male   \n",
       "2        1.0                     Allison, Miss. Helen Loraine  female   \n",
       "3        1.0             Allison, Mr. Hudson Joshua Creighton    male   \n",
       "4        1.0  Allison, Mrs. Hudson J C (Bessie Waldo Daniels)  female   \n",
       "...      ...                                              ...     ...   \n",
       "1304     3.0                             Zabour, Miss. Hileni  female   \n",
       "1305     3.0                            Zabour, Miss. Thamine  female   \n",
       "1306     3.0                        Zakarian, Mr. Mapriededer    male   \n",
       "1307     3.0                              Zakarian, Mr. Ortin    male   \n",
       "1308     3.0                               Zimmerman, Mr. Leo    male   \n",
       "\n",
       "          age  sibsp  parch  ticket      fare    cabin embarked  boat   body  \\\n",
       "0     29.0000    0.0    0.0   24160  211.3375       B5        S     2    NaN   \n",
       "1      0.9167    1.0    2.0  113781  151.5500  C22 C26        S    11    NaN   \n",
       "2      2.0000    1.0    2.0  113781  151.5500  C22 C26        S  None    NaN   \n",
       "3     30.0000    1.0    2.0  113781  151.5500  C22 C26        S  None  135.0   \n",
       "4     25.0000    1.0    2.0  113781  151.5500  C22 C26        S  None    NaN   \n",
       "...       ...    ...    ...     ...       ...      ...      ...   ...    ...   \n",
       "1304  14.5000    1.0    0.0    2665   14.4542     None        C  None  328.0   \n",
       "1305      NaN    1.0    0.0    2665   14.4542     None        C  None    NaN   \n",
       "1306  26.5000    0.0    0.0    2656    7.2250     None        C  None  304.0   \n",
       "1307  27.0000    0.0    0.0    2670    7.2250     None        C  None    NaN   \n",
       "1308  29.0000    0.0    0.0  315082    7.8750     None        S  None    NaN   \n",
       "\n",
       "                            home.dest  \n",
       "0                        St Louis, MO  \n",
       "1     Montreal, PQ / Chesterville, ON  \n",
       "2     Montreal, PQ / Chesterville, ON  \n",
       "3     Montreal, PQ / Chesterville, ON  \n",
       "4     Montreal, PQ / Chesterville, ON  \n",
       "...                               ...  \n",
       "1304                             None  \n",
       "1305                             None  \n",
       "1306                             None  \n",
       "1307                             None  \n",
       "1308                             None  \n",
       "\n",
       "[1309 rows x 13 columns]"
      ]
     },
     "metadata": {},
     "output_type": "display_data"
    },
    {
     "data": {
      "text/plain": [
       "0       1\n",
       "1       1\n",
       "2       0\n",
       "3       0\n",
       "4       0\n",
       "       ..\n",
       "1304    0\n",
       "1305    0\n",
       "1306    0\n",
       "1307    0\n",
       "1308    0\n",
       "Name: survived, Length: 1309, dtype: category\n",
       "Categories (2, object): ['0', '1']"
      ]
     },
     "metadata": {},
     "output_type": "display_data"
    }
   ],
   "source": [
    "# Load data from https://www.openml.org/d/40945\n",
    "X, y = fetch_openml(\"titanic\", version=1, as_frame=True, return_X_y=True)\n",
    "print(\"X.shape\", X.shape)\n",
    "print(\"y.shape\", y.shape)\n",
    "display(X)\n",
    "display(y)"
   ]
  },
  {
   "cell_type": "markdown",
   "id": "7af8b5b9-1588-4480-8257-3c57498b96db",
   "metadata": {},
   "source": [
    "**Use ColumnTransformer by selecting column by names**\n",
    "\n",
    "We will train our classifier with the following features:\n",
    "\n",
    "Numeric Features:\n",
    "* `age`: float;\n",
    "* `fare`: float.\n",
    "\n",
    "Categorical Features:\n",
    "* `embarked`: categories encoded as strings `{'C', 'S', 'Q'}`;\n",
    "* `sex`: categories encoded as strings `{'female', 'male'}`;\n",
    "* `pclass`: ordinal integers `{1, 2, 3}`.\n",
    "\n",
    "We create the preprocessing pipelines for both numeric and categorical data. Note that `pclass` could either be treated as a categorical or numeric feature."
   ]
  },
  {
   "cell_type": "code",
   "execution_count": 92,
   "id": "5ffdb145-0a7f-4401-bd3d-c5838bba9510",
   "metadata": {},
   "outputs": [
    {
     "data": {
      "text/plain": [
       "Pipeline(steps=[('imputer', SimpleImputer(strategy='median')),\n",
       "                ('scaler', StandardScaler())])"
      ]
     },
     "metadata": {},
     "output_type": "display_data"
    }
   ],
   "source": [
    "numeric_features = ['age', 'fare']\n",
    "numeric_transformer = Pipeline(\n",
    "    steps=[\n",
    "        ('imputer', SimpleImputer(strategy='median')),\n",
    "        ('scaler', StandardScaler())\n",
    "    ]\n",
    ")\n",
    "\n",
    "set_config(display='text')\n",
    "display(numeric_transformer)"
   ]
  },
  {
   "cell_type": "code",
   "execution_count": 93,
   "id": "54bed980-2848-4770-bc52-c320d77a5cd2",
   "metadata": {},
   "outputs": [
    {
     "data": {
      "text/plain": [
       "OneHotEncoder(handle_unknown='ignore')"
      ]
     },
     "execution_count": 93,
     "metadata": {},
     "output_type": "execute_result"
    }
   ],
   "source": [
    "categorical_features = ['embarked', 'sex', 'pclass']\n",
    "categorical_transformer = OneHotEncoder(handle_unknown='ignore')\n",
    "\n",
    "categorical_transformer"
   ]
  },
  {
   "cell_type": "code",
   "execution_count": 94,
   "id": "32724719-74ea-4770-87c5-5f6ea3a870da",
   "metadata": {},
   "outputs": [
    {
     "data": {
      "text/plain": [
       "ColumnTransformer(transformers=[('num',\n",
       "                                 Pipeline(steps=[('imputer',\n",
       "                                                  SimpleImputer(strategy='median')),\n",
       "                                                 ('scaler', StandardScaler())]),\n",
       "                                 ['age', 'fare']),\n",
       "                                ('cat', OneHotEncoder(handle_unknown='ignore'),\n",
       "                                 ['embarked', 'sex', 'pclass'])])"
      ]
     },
     "execution_count": 94,
     "metadata": {},
     "output_type": "execute_result"
    }
   ],
   "source": [
    "preprocessor = ColumnTransformer(  # <-- Here we get our ColumnTransformer object!\n",
    "    transformers=[\n",
    "        # Note the 3rd element of tuples sets the COLUMNS to use (by their name).\n",
    "        ('num', numeric_transformer, numeric_features),\n",
    "        ('cat', categorical_transformer, categorical_features)\n",
    "    ]\n",
    ")\n",
    "\n",
    "preprocessor"
   ]
  },
  {
   "cell_type": "code",
   "execution_count": 95,
   "id": "01abc3c4-79eb-4ad7-b99a-e1c2a38425ed",
   "metadata": {},
   "outputs": [
    {
     "data": {
      "text/plain": [
       "Pipeline(steps=[('preprocessor',\n",
       "                 ColumnTransformer(transformers=[('num',\n",
       "                                                  Pipeline(steps=[('imputer',\n",
       "                                                                   SimpleImputer(strategy='median')),\n",
       "                                                                  ('scaler',\n",
       "                                                                   StandardScaler())]),\n",
       "                                                  ['age', 'fare']),\n",
       "                                                 ('cat',\n",
       "                                                  OneHotEncoder(handle_unknown='ignore'),\n",
       "                                                  ['embarked', 'sex',\n",
       "                                                   'pclass'])])),\n",
       "                ('classifier', LogisticRegression())])"
      ]
     },
     "execution_count": 95,
     "metadata": {},
     "output_type": "execute_result"
    }
   ],
   "source": [
    "# Append classifier to preprocessing pipeline.\n",
    "# Now we have a full prediction pipeline.\n",
    "clf = Pipeline(\n",
    "    steps=[\n",
    "        ('preprocessor', preprocessor),\n",
    "        ('classifier', LogisticRegression())\n",
    "    ]\n",
    ")\n",
    "\n",
    "clf"
   ]
  },
  {
   "cell_type": "code",
   "execution_count": 96,
   "id": "e554b22d-1cfe-4e94-9f96-9e74a75b1c93",
   "metadata": {},
   "outputs": [],
   "source": [
    "X_train, X_test, y_train, y_test = train_test_split(\n",
    "    X, y, test_size=0.2, random_state=0\n",
    ")"
   ]
  },
  {
   "cell_type": "code",
   "execution_count": 98,
   "id": "4d372188-73d6-4f7e-937b-d2e9dfca1803",
   "metadata": {},
   "outputs": [
    {
     "name": "stdout",
     "output_type": "stream",
     "text": [
      "model score: 0.790\n"
     ]
    }
   ],
   "source": [
    "clf.fit(X_train, y_train)\n",
    "print(f\"model score: {clf.score(X_test, y_test):.3f}\")"
   ]
  },
  {
   "cell_type": "markdown",
   "id": "e5f4bf82-7881-4f83-a011-c4326fd2c611",
   "metadata": {},
   "source": [
    "**HTML representation of Pipeline**\n",
    "\n",
    "When the `Pipeline` is printed out in a jupyter notebook an HTML representation of the estimator is displayed as follows:"
   ]
  },
  {
   "cell_type": "code",
   "execution_count": 100,
   "id": "d76b9756-4883-4e9f-b854-2f8dc2de68bc",
   "metadata": {},
   "outputs": [
    {
     "data": {
      "text/html": [
       "<style>#sk-23f762bd-38ce-4a8f-bcc4-0db85e48aa2c {color: black;background-color: white;}#sk-23f762bd-38ce-4a8f-bcc4-0db85e48aa2c pre{padding: 0;}#sk-23f762bd-38ce-4a8f-bcc4-0db85e48aa2c div.sk-toggleable {background-color: white;}#sk-23f762bd-38ce-4a8f-bcc4-0db85e48aa2c label.sk-toggleable__label {cursor: pointer;display: block;width: 100%;margin-bottom: 0;padding: 0.2em 0.3em;box-sizing: border-box;text-align: center;}#sk-23f762bd-38ce-4a8f-bcc4-0db85e48aa2c div.sk-toggleable__content {max-height: 0;max-width: 0;overflow: hidden;text-align: left;background-color: #f0f8ff;}#sk-23f762bd-38ce-4a8f-bcc4-0db85e48aa2c div.sk-toggleable__content pre {margin: 0.2em;color: black;border-radius: 0.25em;background-color: #f0f8ff;}#sk-23f762bd-38ce-4a8f-bcc4-0db85e48aa2c input.sk-toggleable__control:checked~div.sk-toggleable__content {max-height: 200px;max-width: 100%;overflow: auto;}#sk-23f762bd-38ce-4a8f-bcc4-0db85e48aa2c div.sk-estimator input.sk-toggleable__control:checked~label.sk-toggleable__label {background-color: #d4ebff;}#sk-23f762bd-38ce-4a8f-bcc4-0db85e48aa2c div.sk-label input.sk-toggleable__control:checked~label.sk-toggleable__label {background-color: #d4ebff;}#sk-23f762bd-38ce-4a8f-bcc4-0db85e48aa2c input.sk-hidden--visually {border: 0;clip: rect(1px 1px 1px 1px);clip: rect(1px, 1px, 1px, 1px);height: 1px;margin: -1px;overflow: hidden;padding: 0;position: absolute;width: 1px;}#sk-23f762bd-38ce-4a8f-bcc4-0db85e48aa2c div.sk-estimator {font-family: monospace;background-color: #f0f8ff;margin: 0.25em 0.25em;border: 1px dotted black;border-radius: 0.25em;box-sizing: border-box;}#sk-23f762bd-38ce-4a8f-bcc4-0db85e48aa2c div.sk-estimator:hover {background-color: #d4ebff;}#sk-23f762bd-38ce-4a8f-bcc4-0db85e48aa2c div.sk-parallel-item::after {content: \"\";width: 100%;border-bottom: 1px solid gray;flex-grow: 1;}#sk-23f762bd-38ce-4a8f-bcc4-0db85e48aa2c div.sk-label:hover label.sk-toggleable__label {background-color: #d4ebff;}#sk-23f762bd-38ce-4a8f-bcc4-0db85e48aa2c div.sk-serial::before {content: \"\";position: absolute;border-left: 1px solid gray;box-sizing: border-box;top: 2em;bottom: 0;left: 50%;}#sk-23f762bd-38ce-4a8f-bcc4-0db85e48aa2c div.sk-serial {display: flex;flex-direction: column;align-items: center;background-color: white;}#sk-23f762bd-38ce-4a8f-bcc4-0db85e48aa2c div.sk-item {z-index: 1;}#sk-23f762bd-38ce-4a8f-bcc4-0db85e48aa2c div.sk-parallel {display: flex;align-items: stretch;justify-content: center;background-color: white;}#sk-23f762bd-38ce-4a8f-bcc4-0db85e48aa2c div.sk-parallel-item {display: flex;flex-direction: column;position: relative;background-color: white;}#sk-23f762bd-38ce-4a8f-bcc4-0db85e48aa2c div.sk-parallel-item:first-child::after {align-self: flex-end;width: 50%;}#sk-23f762bd-38ce-4a8f-bcc4-0db85e48aa2c div.sk-parallel-item:last-child::after {align-self: flex-start;width: 50%;}#sk-23f762bd-38ce-4a8f-bcc4-0db85e48aa2c div.sk-parallel-item:only-child::after {width: 0;}#sk-23f762bd-38ce-4a8f-bcc4-0db85e48aa2c div.sk-dashed-wrapped {border: 1px dashed gray;margin: 0.2em;box-sizing: border-box;padding-bottom: 0.1em;background-color: white;position: relative;}#sk-23f762bd-38ce-4a8f-bcc4-0db85e48aa2c div.sk-label label {font-family: monospace;font-weight: bold;background-color: white;display: inline-block;line-height: 1.2em;}#sk-23f762bd-38ce-4a8f-bcc4-0db85e48aa2c div.sk-label-container {position: relative;z-index: 2;text-align: center;}#sk-23f762bd-38ce-4a8f-bcc4-0db85e48aa2c div.sk-container {display: inline-block;position: relative;}</style><div id=\"sk-23f762bd-38ce-4a8f-bcc4-0db85e48aa2c\" class\"sk-top-container\"><div class=\"sk-container\"><div class=\"sk-item sk-dashed-wrapped\"><div class=\"sk-label-container\"><div class=\"sk-label sk-toggleable\"><input class=\"sk-toggleable__control sk-hidden--visually\" id=\"258b6804-3965-42d7-82a7-dfd814041f14\" type=\"checkbox\" ><label class=\"sk-toggleable__label\" for=\"258b6804-3965-42d7-82a7-dfd814041f14\">Pipeline</label><div class=\"sk-toggleable__content\"><pre>Pipeline(steps=[('preprocessor',\n",
       "                 ColumnTransformer(transformers=[('num',\n",
       "                                                  Pipeline(steps=[('imputer',\n",
       "                                                                   SimpleImputer(strategy='median')),\n",
       "                                                                  ('scaler',\n",
       "                                                                   StandardScaler())]),\n",
       "                                                  ['age', 'fare']),\n",
       "                                                 ('cat',\n",
       "                                                  OneHotEncoder(handle_unknown='ignore'),\n",
       "                                                  ['embarked', 'sex',\n",
       "                                                   'pclass'])])),\n",
       "                ('classifier', LogisticRegression())])</pre></div></div></div><div class=\"sk-serial\"><div class=\"sk-item sk-dashed-wrapped\"><div class=\"sk-label-container\"><div class=\"sk-label sk-toggleable\"><input class=\"sk-toggleable__control sk-hidden--visually\" id=\"1ff9b7f3-ea04-4cf2-92d5-830decc1101c\" type=\"checkbox\" ><label class=\"sk-toggleable__label\" for=\"1ff9b7f3-ea04-4cf2-92d5-830decc1101c\">preprocessor: ColumnTransformer</label><div class=\"sk-toggleable__content\"><pre>ColumnTransformer(transformers=[('num',\n",
       "                                 Pipeline(steps=[('imputer',\n",
       "                                                  SimpleImputer(strategy='median')),\n",
       "                                                 ('scaler', StandardScaler())]),\n",
       "                                 ['age', 'fare']),\n",
       "                                ('cat', OneHotEncoder(handle_unknown='ignore'),\n",
       "                                 ['embarked', 'sex', 'pclass'])])</pre></div></div></div><div class=\"sk-parallel\"><div class=\"sk-parallel-item\"><div class=\"sk-item\"><div class=\"sk-label-container\"><div class=\"sk-label sk-toggleable\"><input class=\"sk-toggleable__control sk-hidden--visually\" id=\"fa3bcabc-7ffb-44b2-a1b8-83d88de130b1\" type=\"checkbox\" ><label class=\"sk-toggleable__label\" for=\"fa3bcabc-7ffb-44b2-a1b8-83d88de130b1\">num</label><div class=\"sk-toggleable__content\"><pre>['age', 'fare']</pre></div></div></div><div class=\"sk-serial\"><div class=\"sk-item\"><div class=\"sk-serial\"><div class=\"sk-item\"><div class=\"sk-estimator sk-toggleable\"><input class=\"sk-toggleable__control sk-hidden--visually\" id=\"ab11ef04-627b-4723-adae-bae3a4f4fcd5\" type=\"checkbox\" ><label class=\"sk-toggleable__label\" for=\"ab11ef04-627b-4723-adae-bae3a4f4fcd5\">SimpleImputer</label><div class=\"sk-toggleable__content\"><pre>SimpleImputer(strategy='median')</pre></div></div></div><div class=\"sk-item\"><div class=\"sk-estimator sk-toggleable\"><input class=\"sk-toggleable__control sk-hidden--visually\" id=\"b1ed7798-f7ce-40f7-8042-624822996c85\" type=\"checkbox\" ><label class=\"sk-toggleable__label\" for=\"b1ed7798-f7ce-40f7-8042-624822996c85\">StandardScaler</label><div class=\"sk-toggleable__content\"><pre>StandardScaler()</pre></div></div></div></div></div></div></div></div><div class=\"sk-parallel-item\"><div class=\"sk-item\"><div class=\"sk-label-container\"><div class=\"sk-label sk-toggleable\"><input class=\"sk-toggleable__control sk-hidden--visually\" id=\"a5a945dd-869b-42f4-9508-77993f7dfe24\" type=\"checkbox\" ><label class=\"sk-toggleable__label\" for=\"a5a945dd-869b-42f4-9508-77993f7dfe24\">cat</label><div class=\"sk-toggleable__content\"><pre>['embarked', 'sex', 'pclass']</pre></div></div></div><div class=\"sk-serial\"><div class=\"sk-item\"><div class=\"sk-estimator sk-toggleable\"><input class=\"sk-toggleable__control sk-hidden--visually\" id=\"03006d2b-70b7-441c-86a4-8dedfc6d9f65\" type=\"checkbox\" ><label class=\"sk-toggleable__label\" for=\"03006d2b-70b7-441c-86a4-8dedfc6d9f65\">OneHotEncoder</label><div class=\"sk-toggleable__content\"><pre>OneHotEncoder(handle_unknown='ignore')</pre></div></div></div></div></div></div></div></div><div class=\"sk-item\"><div class=\"sk-estimator sk-toggleable\"><input class=\"sk-toggleable__control sk-hidden--visually\" id=\"4f7fa3c6-0da9-4949-9295-ec340b51e32f\" type=\"checkbox\" ><label class=\"sk-toggleable__label\" for=\"4f7fa3c6-0da9-4949-9295-ec340b51e32f\">LogisticRegression</label><div class=\"sk-toggleable__content\"><pre>LogisticRegression()</pre></div></div></div></div></div></div></div>"
      ],
      "text/plain": [
       "Pipeline(steps=[('preprocessor',\n",
       "                 ColumnTransformer(transformers=[('num',\n",
       "                                                  Pipeline(steps=[('imputer',\n",
       "                                                                   SimpleImputer(strategy='median')),\n",
       "                                                                  ('scaler',\n",
       "                                                                   StandardScaler())]),\n",
       "                                                  ['age', 'fare']),\n",
       "                                                 ('cat',\n",
       "                                                  OneHotEncoder(handle_unknown='ignore'),\n",
       "                                                  ['embarked', 'sex',\n",
       "                                                   'pclass'])])),\n",
       "                ('classifier', LogisticRegression())])"
      ]
     },
     "metadata": {},
     "output_type": "display_data"
    }
   ],
   "source": [
    "from sklearn import set_config\n",
    "\n",
    "set_config(\n",
    "    display='diagram'  # Options: {'text', diagram'}\n",
    ")\n",
    "\n",
    "display(clf)\n",
    "\n",
    "# NOTE: The HTML representation is interactive, click on things! 😎"
   ]
  },
  {
   "cell_type": "markdown",
   "id": "aabbd75d-0d72-42b2-b044-d803710d69cb",
   "metadata": {},
   "source": [
    "**Use `ColumnTransformer` by selecting column *by data types***\n",
    "\n",
    "When dealing with a cleaned dataset, the preprocessing can be automatic *by using the data types of the column* to decide whether to treat a column as a numerical or categorical feature. `sklearn.compose.make_column_selector` gives this possibility. \n",
    "\n",
    "First, let’s only select a subset of columns to simplify our example."
   ]
  },
  {
   "cell_type": "code",
   "execution_count": 101,
   "id": "cbe8302a-20db-4d50-98f4-ee326fbd7cbd",
   "metadata": {},
   "outputs": [
    {
     "data": {
      "text/html": [
       "<div>\n",
       "<style scoped>\n",
       "    .dataframe tbody tr th:only-of-type {\n",
       "        vertical-align: middle;\n",
       "    }\n",
       "\n",
       "    .dataframe tbody tr th {\n",
       "        vertical-align: top;\n",
       "    }\n",
       "\n",
       "    .dataframe thead th {\n",
       "        text-align: right;\n",
       "    }\n",
       "</style>\n",
       "<table border=\"1\" class=\"dataframe\">\n",
       "  <thead>\n",
       "    <tr style=\"text-align: right;\">\n",
       "      <th></th>\n",
       "      <th>embarked</th>\n",
       "      <th>sex</th>\n",
       "      <th>pclass</th>\n",
       "      <th>age</th>\n",
       "      <th>fare</th>\n",
       "    </tr>\n",
       "  </thead>\n",
       "  <tbody>\n",
       "    <tr>\n",
       "      <th>1118</th>\n",
       "      <td>S</td>\n",
       "      <td>male</td>\n",
       "      <td>3.0</td>\n",
       "      <td>25.0000</td>\n",
       "      <td>7.9250</td>\n",
       "    </tr>\n",
       "    <tr>\n",
       "      <th>44</th>\n",
       "      <td>C</td>\n",
       "      <td>female</td>\n",
       "      <td>1.0</td>\n",
       "      <td>41.0000</td>\n",
       "      <td>134.5000</td>\n",
       "    </tr>\n",
       "    <tr>\n",
       "      <th>1072</th>\n",
       "      <td>Q</td>\n",
       "      <td>male</td>\n",
       "      <td>3.0</td>\n",
       "      <td>NaN</td>\n",
       "      <td>7.7333</td>\n",
       "    </tr>\n",
       "    <tr>\n",
       "      <th>1130</th>\n",
       "      <td>S</td>\n",
       "      <td>female</td>\n",
       "      <td>3.0</td>\n",
       "      <td>18.0000</td>\n",
       "      <td>7.7750</td>\n",
       "    </tr>\n",
       "    <tr>\n",
       "      <th>574</th>\n",
       "      <td>S</td>\n",
       "      <td>male</td>\n",
       "      <td>2.0</td>\n",
       "      <td>29.0000</td>\n",
       "      <td>21.0000</td>\n",
       "    </tr>\n",
       "    <tr>\n",
       "      <th>...</th>\n",
       "      <td>...</td>\n",
       "      <td>...</td>\n",
       "      <td>...</td>\n",
       "      <td>...</td>\n",
       "      <td>...</td>\n",
       "    </tr>\n",
       "    <tr>\n",
       "      <th>763</th>\n",
       "      <td>S</td>\n",
       "      <td>female</td>\n",
       "      <td>3.0</td>\n",
       "      <td>0.1667</td>\n",
       "      <td>20.5750</td>\n",
       "    </tr>\n",
       "    <tr>\n",
       "      <th>835</th>\n",
       "      <td>S</td>\n",
       "      <td>male</td>\n",
       "      <td>3.0</td>\n",
       "      <td>NaN</td>\n",
       "      <td>8.0500</td>\n",
       "    </tr>\n",
       "    <tr>\n",
       "      <th>1216</th>\n",
       "      <td>Q</td>\n",
       "      <td>female</td>\n",
       "      <td>3.0</td>\n",
       "      <td>NaN</td>\n",
       "      <td>7.7333</td>\n",
       "    </tr>\n",
       "    <tr>\n",
       "      <th>559</th>\n",
       "      <td>S</td>\n",
       "      <td>female</td>\n",
       "      <td>2.0</td>\n",
       "      <td>20.0000</td>\n",
       "      <td>36.7500</td>\n",
       "    </tr>\n",
       "    <tr>\n",
       "      <th>684</th>\n",
       "      <td>Q</td>\n",
       "      <td>female</td>\n",
       "      <td>3.0</td>\n",
       "      <td>32.0000</td>\n",
       "      <td>15.5000</td>\n",
       "    </tr>\n",
       "  </tbody>\n",
       "</table>\n",
       "<p>1047 rows × 5 columns</p>\n",
       "</div>"
      ],
      "text/plain": [
       "     embarked     sex  pclass      age      fare\n",
       "1118        S    male     3.0  25.0000    7.9250\n",
       "44          C  female     1.0  41.0000  134.5000\n",
       "1072        Q    male     3.0      NaN    7.7333\n",
       "1130        S  female     3.0  18.0000    7.7750\n",
       "574         S    male     2.0  29.0000   21.0000\n",
       "...       ...     ...     ...      ...       ...\n",
       "763         S  female     3.0   0.1667   20.5750\n",
       "835         S    male     3.0      NaN    8.0500\n",
       "1216        Q  female     3.0      NaN    7.7333\n",
       "559         S  female     2.0  20.0000   36.7500\n",
       "684         Q  female     3.0  32.0000   15.5000\n",
       "\n",
       "[1047 rows x 5 columns]"
      ]
     },
     "metadata": {},
     "output_type": "display_data"
    }
   ],
   "source": [
    "subset_feature = ['embarked', 'sex', 'pclass', 'age', 'fare']\n",
    "X_train, X_test = X_train[subset_feature], X_test[subset_feature]\n",
    "display(X_train)"
   ]
  },
  {
   "cell_type": "markdown",
   "id": "7a2370c5-a1f3-4a46-82c6-c22e65f52f80",
   "metadata": {},
   "source": [
    "Then, we introspect the information regarding each column data type."
   ]
  },
  {
   "cell_type": "code",
   "execution_count": 102,
   "id": "fbf9be46-57fb-456c-96e3-ae08707f2b25",
   "metadata": {},
   "outputs": [
    {
     "name": "stdout",
     "output_type": "stream",
     "text": [
      "<class 'pandas.core.frame.DataFrame'>\n",
      "Int64Index: 1047 entries, 1118 to 684\n",
      "Data columns (total 5 columns):\n",
      " #   Column    Non-Null Count  Dtype   \n",
      "---  ------    --------------  -----   \n",
      " 0   embarked  1045 non-null   category\n",
      " 1   sex       1047 non-null   category\n",
      " 2   pclass    1047 non-null   float64 \n",
      " 3   age       841 non-null    float64 \n",
      " 4   fare      1046 non-null   float64 \n",
      "dtypes: category(2), float64(3)\n",
      "memory usage: 35.0 KB\n"
     ]
    }
   ],
   "source": [
    "X_train.info()"
   ]
  },
  {
   "cell_type": "markdown",
   "id": "56583298-ff5f-4212-a01c-90ea1a819eb5",
   "metadata": {},
   "source": [
    "We can observe that the `embarked` and `sex` columns were tagged as *category* columns when loading the data with `fetch_openml`. \n",
    "\n",
    "Therefore, we can use this information to dispatch the categorical columns to the `categorical_transformer` and the remaining columns to the `numerical_transformer`.\n",
    "\n",
    "**Note:**\n",
    "\n",
    "In practice, you will have to handle the column data type yourself. If you want some columns to be considered as category, you will have to convert them into categorical columns. If you are using pandas, you can refer to their documentation regarding [Categorical data](https://pandas.pydata.org/pandas-docs/stable/user_guide/categorical.html). "
   ]
  },
  {
   "cell_type": "code",
   "execution_count": 103,
   "id": "255f29f3-5cc1-4ecd-8050-b922e6a60ee7",
   "metadata": {},
   "outputs": [
    {
     "data": {
      "text/html": [
       "<style>#sk-705a110b-ff8d-48c7-bdea-6128f4627aab {color: black;background-color: white;}#sk-705a110b-ff8d-48c7-bdea-6128f4627aab pre{padding: 0;}#sk-705a110b-ff8d-48c7-bdea-6128f4627aab div.sk-toggleable {background-color: white;}#sk-705a110b-ff8d-48c7-bdea-6128f4627aab label.sk-toggleable__label {cursor: pointer;display: block;width: 100%;margin-bottom: 0;padding: 0.2em 0.3em;box-sizing: border-box;text-align: center;}#sk-705a110b-ff8d-48c7-bdea-6128f4627aab div.sk-toggleable__content {max-height: 0;max-width: 0;overflow: hidden;text-align: left;background-color: #f0f8ff;}#sk-705a110b-ff8d-48c7-bdea-6128f4627aab div.sk-toggleable__content pre {margin: 0.2em;color: black;border-radius: 0.25em;background-color: #f0f8ff;}#sk-705a110b-ff8d-48c7-bdea-6128f4627aab input.sk-toggleable__control:checked~div.sk-toggleable__content {max-height: 200px;max-width: 100%;overflow: auto;}#sk-705a110b-ff8d-48c7-bdea-6128f4627aab div.sk-estimator input.sk-toggleable__control:checked~label.sk-toggleable__label {background-color: #d4ebff;}#sk-705a110b-ff8d-48c7-bdea-6128f4627aab div.sk-label input.sk-toggleable__control:checked~label.sk-toggleable__label {background-color: #d4ebff;}#sk-705a110b-ff8d-48c7-bdea-6128f4627aab input.sk-hidden--visually {border: 0;clip: rect(1px 1px 1px 1px);clip: rect(1px, 1px, 1px, 1px);height: 1px;margin: -1px;overflow: hidden;padding: 0;position: absolute;width: 1px;}#sk-705a110b-ff8d-48c7-bdea-6128f4627aab div.sk-estimator {font-family: monospace;background-color: #f0f8ff;margin: 0.25em 0.25em;border: 1px dotted black;border-radius: 0.25em;box-sizing: border-box;}#sk-705a110b-ff8d-48c7-bdea-6128f4627aab div.sk-estimator:hover {background-color: #d4ebff;}#sk-705a110b-ff8d-48c7-bdea-6128f4627aab div.sk-parallel-item::after {content: \"\";width: 100%;border-bottom: 1px solid gray;flex-grow: 1;}#sk-705a110b-ff8d-48c7-bdea-6128f4627aab div.sk-label:hover label.sk-toggleable__label {background-color: #d4ebff;}#sk-705a110b-ff8d-48c7-bdea-6128f4627aab div.sk-serial::before {content: \"\";position: absolute;border-left: 1px solid gray;box-sizing: border-box;top: 2em;bottom: 0;left: 50%;}#sk-705a110b-ff8d-48c7-bdea-6128f4627aab div.sk-serial {display: flex;flex-direction: column;align-items: center;background-color: white;}#sk-705a110b-ff8d-48c7-bdea-6128f4627aab div.sk-item {z-index: 1;}#sk-705a110b-ff8d-48c7-bdea-6128f4627aab div.sk-parallel {display: flex;align-items: stretch;justify-content: center;background-color: white;}#sk-705a110b-ff8d-48c7-bdea-6128f4627aab div.sk-parallel-item {display: flex;flex-direction: column;position: relative;background-color: white;}#sk-705a110b-ff8d-48c7-bdea-6128f4627aab div.sk-parallel-item:first-child::after {align-self: flex-end;width: 50%;}#sk-705a110b-ff8d-48c7-bdea-6128f4627aab div.sk-parallel-item:last-child::after {align-self: flex-start;width: 50%;}#sk-705a110b-ff8d-48c7-bdea-6128f4627aab div.sk-parallel-item:only-child::after {width: 0;}#sk-705a110b-ff8d-48c7-bdea-6128f4627aab div.sk-dashed-wrapped {border: 1px dashed gray;margin: 0.2em;box-sizing: border-box;padding-bottom: 0.1em;background-color: white;position: relative;}#sk-705a110b-ff8d-48c7-bdea-6128f4627aab div.sk-label label {font-family: monospace;font-weight: bold;background-color: white;display: inline-block;line-height: 1.2em;}#sk-705a110b-ff8d-48c7-bdea-6128f4627aab div.sk-label-container {position: relative;z-index: 2;text-align: center;}#sk-705a110b-ff8d-48c7-bdea-6128f4627aab div.sk-container {display: inline-block;position: relative;}</style><div id=\"sk-705a110b-ff8d-48c7-bdea-6128f4627aab\" class\"sk-top-container\"><div class=\"sk-container\"><div class=\"sk-item sk-dashed-wrapped\"><div class=\"sk-label-container\"><div class=\"sk-label sk-toggleable\"><input class=\"sk-toggleable__control sk-hidden--visually\" id=\"fd35d33d-b629-459b-8cf5-e80cb970733f\" type=\"checkbox\" ><label class=\"sk-toggleable__label\" for=\"fd35d33d-b629-459b-8cf5-e80cb970733f\">Pipeline</label><div class=\"sk-toggleable__content\"><pre>Pipeline(steps=[('preprocessor',\n",
       "                 ColumnTransformer(transformers=[('num',\n",
       "                                                  Pipeline(steps=[('imputer',\n",
       "                                                                   SimpleImputer(strategy='median')),\n",
       "                                                                  ('scaler',\n",
       "                                                                   StandardScaler())]),\n",
       "                                                  <sklearn.compose._column_transformer.make_column_selector object at 0x7f6f8ff9bd00>),\n",
       "                                                 ('cat',\n",
       "                                                  OneHotEncoder(handle_unknown='ignore'),\n",
       "                                                  <sklearn.compose._column_transformer.make_column_selector object at 0x7f6f8ff9bee0>)])),\n",
       "                ('classifier', LogisticRegression())])</pre></div></div></div><div class=\"sk-serial\"><div class=\"sk-item sk-dashed-wrapped\"><div class=\"sk-label-container\"><div class=\"sk-label sk-toggleable\"><input class=\"sk-toggleable__control sk-hidden--visually\" id=\"c9791caa-5d8f-4804-b784-4e2b77febc74\" type=\"checkbox\" ><label class=\"sk-toggleable__label\" for=\"c9791caa-5d8f-4804-b784-4e2b77febc74\">preprocessor: ColumnTransformer</label><div class=\"sk-toggleable__content\"><pre>ColumnTransformer(transformers=[('num',\n",
       "                                 Pipeline(steps=[('imputer',\n",
       "                                                  SimpleImputer(strategy='median')),\n",
       "                                                 ('scaler', StandardScaler())]),\n",
       "                                 <sklearn.compose._column_transformer.make_column_selector object at 0x7f6f8ff9bd00>),\n",
       "                                ('cat', OneHotEncoder(handle_unknown='ignore'),\n",
       "                                 <sklearn.compose._column_transformer.make_column_selector object at 0x7f6f8ff9bee0>)])</pre></div></div></div><div class=\"sk-parallel\"><div class=\"sk-parallel-item\"><div class=\"sk-item\"><div class=\"sk-label-container\"><div class=\"sk-label sk-toggleable\"><input class=\"sk-toggleable__control sk-hidden--visually\" id=\"c2d87ada-68b8-41c4-9354-ee917ae30a87\" type=\"checkbox\" ><label class=\"sk-toggleable__label\" for=\"c2d87ada-68b8-41c4-9354-ee917ae30a87\">num</label><div class=\"sk-toggleable__content\"><pre><sklearn.compose._column_transformer.make_column_selector object at 0x7f6f8ff9bd00></pre></div></div></div><div class=\"sk-serial\"><div class=\"sk-item\"><div class=\"sk-serial\"><div class=\"sk-item\"><div class=\"sk-estimator sk-toggleable\"><input class=\"sk-toggleable__control sk-hidden--visually\" id=\"8f2304af-6189-4c08-9b67-e9407a5e207d\" type=\"checkbox\" ><label class=\"sk-toggleable__label\" for=\"8f2304af-6189-4c08-9b67-e9407a5e207d\">SimpleImputer</label><div class=\"sk-toggleable__content\"><pre>SimpleImputer(strategy='median')</pre></div></div></div><div class=\"sk-item\"><div class=\"sk-estimator sk-toggleable\"><input class=\"sk-toggleable__control sk-hidden--visually\" id=\"f47ec5ee-47ef-4485-9005-82cad046faa7\" type=\"checkbox\" ><label class=\"sk-toggleable__label\" for=\"f47ec5ee-47ef-4485-9005-82cad046faa7\">StandardScaler</label><div class=\"sk-toggleable__content\"><pre>StandardScaler()</pre></div></div></div></div></div></div></div></div><div class=\"sk-parallel-item\"><div class=\"sk-item\"><div class=\"sk-label-container\"><div class=\"sk-label sk-toggleable\"><input class=\"sk-toggleable__control sk-hidden--visually\" id=\"320bce24-2703-4be2-98ff-841f02ccd7a7\" type=\"checkbox\" ><label class=\"sk-toggleable__label\" for=\"320bce24-2703-4be2-98ff-841f02ccd7a7\">cat</label><div class=\"sk-toggleable__content\"><pre><sklearn.compose._column_transformer.make_column_selector object at 0x7f6f8ff9bee0></pre></div></div></div><div class=\"sk-serial\"><div class=\"sk-item\"><div class=\"sk-estimator sk-toggleable\"><input class=\"sk-toggleable__control sk-hidden--visually\" id=\"6e414c42-639c-400d-83f8-c0e49aa12554\" type=\"checkbox\" ><label class=\"sk-toggleable__label\" for=\"6e414c42-639c-400d-83f8-c0e49aa12554\">OneHotEncoder</label><div class=\"sk-toggleable__content\"><pre>OneHotEncoder(handle_unknown='ignore')</pre></div></div></div></div></div></div></div></div><div class=\"sk-item\"><div class=\"sk-estimator sk-toggleable\"><input class=\"sk-toggleable__control sk-hidden--visually\" id=\"646ebfce-9e39-434b-be36-5047956df2e5\" type=\"checkbox\" ><label class=\"sk-toggleable__label\" for=\"646ebfce-9e39-434b-be36-5047956df2e5\">LogisticRegression</label><div class=\"sk-toggleable__content\"><pre>LogisticRegression()</pre></div></div></div></div></div></div></div>"
      ],
      "text/plain": [
       "Pipeline(steps=[('preprocessor',\n",
       "                 ColumnTransformer(transformers=[('num',\n",
       "                                                  Pipeline(steps=[('imputer',\n",
       "                                                                   SimpleImputer(strategy='median')),\n",
       "                                                                  ('scaler',\n",
       "                                                                   StandardScaler())]),\n",
       "                                                  <sklearn.compose._column_transformer.make_column_selector object at 0x7f6f8ff9bd00>),\n",
       "                                                 ('cat',\n",
       "                                                  OneHotEncoder(handle_unknown='ignore'),\n",
       "                                                  <sklearn.compose._column_transformer.make_column_selector object at 0x7f6f8ff9bee0>)])),\n",
       "                ('classifier', LogisticRegression())])"
      ]
     },
     "metadata": {},
     "output_type": "display_data"
    }
   ],
   "source": [
    "from sklearn.compose import make_column_selector\n",
    "\n",
    "preprocessor = ColumnTransformer(\n",
    "    transformers=[\n",
    "        # Note the use of `make_column_selector()` here:\n",
    "        ('num', numeric_transformer, make_column_selector(dtype_exclude=\"category\")),\n",
    "        ('cat', categorical_transformer, make_column_selector(dtype_include=\"category\"))\n",
    "    ]\n",
    ")\n",
    "\n",
    "clf = Pipeline(\n",
    "    steps=[\n",
    "        ('preprocessor', preprocessor),\n",
    "        ('classifier', LogisticRegression())\n",
    "    ]\n",
    ")\n",
    "\n",
    "display(clf)"
   ]
  },
  {
   "cell_type": "code",
   "execution_count": 104,
   "id": "a9ed1e21-2a68-47d2-8ab4-463fafb04a0d",
   "metadata": {},
   "outputs": [
    {
     "name": "stdout",
     "output_type": "stream",
     "text": [
      "model score: 0.794\n"
     ]
    }
   ],
   "source": [
    "clf.fit(X_train, y_train)\n",
    "print(f\"model score: {clf.score(X_test, y_test):.3f}\")"
   ]
  },
  {
   "cell_type": "markdown",
   "id": "74c758a7-6413-44af-81bf-df76a1faf77c",
   "metadata": {},
   "source": [
    "The resulting score is not exactly the same as the one from the previous pipeline because the dtype-based selector treats the `pclass` column as a numeric feature instead of a categorical feature as previously:"
   ]
  },
  {
   "cell_type": "code",
   "execution_count": 105,
   "id": "ccbcf409-9eb7-4a0a-9747-68f9eb4c539a",
   "metadata": {},
   "outputs": [
    {
     "data": {
      "text/plain": [
       "['pclass', 'age', 'fare']"
      ]
     },
     "execution_count": 105,
     "metadata": {},
     "output_type": "execute_result"
    }
   ],
   "source": [
    "make_column_selector(dtype_exclude=\"category\")(X_train)"
   ]
  },
  {
   "cell_type": "code",
   "execution_count": 107,
   "id": "d9e5fd29-0b92-4e5d-bcdc-e6ba8610f048",
   "metadata": {},
   "outputs": [
    {
     "data": {
      "text/plain": [
       "['embarked', 'sex']"
      ]
     },
     "execution_count": 107,
     "metadata": {},
     "output_type": "execute_result"
    }
   ],
   "source": [
    "make_column_selector(dtype_include=\"category\")(X_train)"
   ]
  },
  {
   "cell_type": "markdown",
   "id": "8e885166-7c41-4313-aa09-0f0045ea2881",
   "metadata": {},
   "source": [
    "**Using the prediction pipeline in a grid search**\n",
    "\n",
    "Grid search can also be performed on the different preprocessing steps defined in the `ColumnTransformer` object, together with the classifier’s hyperparameters as part of the `Pipeline`. We will search for both the imputer strategy of the numeric preprocessing and the regularization parameter of the logistic regression using `GridSearchCV`."
   ]
  },
  {
   "cell_type": "code",
   "execution_count": 108,
   "id": "880b4302-ee7e-433a-b91a-0bace3671d18",
   "metadata": {},
   "outputs": [
    {
     "data": {
      "text/html": [
       "<style>#sk-ecf0cbd7-a2ed-42c7-9ed2-e74f85401855 {color: black;background-color: white;}#sk-ecf0cbd7-a2ed-42c7-9ed2-e74f85401855 pre{padding: 0;}#sk-ecf0cbd7-a2ed-42c7-9ed2-e74f85401855 div.sk-toggleable {background-color: white;}#sk-ecf0cbd7-a2ed-42c7-9ed2-e74f85401855 label.sk-toggleable__label {cursor: pointer;display: block;width: 100%;margin-bottom: 0;padding: 0.2em 0.3em;box-sizing: border-box;text-align: center;}#sk-ecf0cbd7-a2ed-42c7-9ed2-e74f85401855 div.sk-toggleable__content {max-height: 0;max-width: 0;overflow: hidden;text-align: left;background-color: #f0f8ff;}#sk-ecf0cbd7-a2ed-42c7-9ed2-e74f85401855 div.sk-toggleable__content pre {margin: 0.2em;color: black;border-radius: 0.25em;background-color: #f0f8ff;}#sk-ecf0cbd7-a2ed-42c7-9ed2-e74f85401855 input.sk-toggleable__control:checked~div.sk-toggleable__content {max-height: 200px;max-width: 100%;overflow: auto;}#sk-ecf0cbd7-a2ed-42c7-9ed2-e74f85401855 div.sk-estimator input.sk-toggleable__control:checked~label.sk-toggleable__label {background-color: #d4ebff;}#sk-ecf0cbd7-a2ed-42c7-9ed2-e74f85401855 div.sk-label input.sk-toggleable__control:checked~label.sk-toggleable__label {background-color: #d4ebff;}#sk-ecf0cbd7-a2ed-42c7-9ed2-e74f85401855 input.sk-hidden--visually {border: 0;clip: rect(1px 1px 1px 1px);clip: rect(1px, 1px, 1px, 1px);height: 1px;margin: -1px;overflow: hidden;padding: 0;position: absolute;width: 1px;}#sk-ecf0cbd7-a2ed-42c7-9ed2-e74f85401855 div.sk-estimator {font-family: monospace;background-color: #f0f8ff;margin: 0.25em 0.25em;border: 1px dotted black;border-radius: 0.25em;box-sizing: border-box;}#sk-ecf0cbd7-a2ed-42c7-9ed2-e74f85401855 div.sk-estimator:hover {background-color: #d4ebff;}#sk-ecf0cbd7-a2ed-42c7-9ed2-e74f85401855 div.sk-parallel-item::after {content: \"\";width: 100%;border-bottom: 1px solid gray;flex-grow: 1;}#sk-ecf0cbd7-a2ed-42c7-9ed2-e74f85401855 div.sk-label:hover label.sk-toggleable__label {background-color: #d4ebff;}#sk-ecf0cbd7-a2ed-42c7-9ed2-e74f85401855 div.sk-serial::before {content: \"\";position: absolute;border-left: 1px solid gray;box-sizing: border-box;top: 2em;bottom: 0;left: 50%;}#sk-ecf0cbd7-a2ed-42c7-9ed2-e74f85401855 div.sk-serial {display: flex;flex-direction: column;align-items: center;background-color: white;}#sk-ecf0cbd7-a2ed-42c7-9ed2-e74f85401855 div.sk-item {z-index: 1;}#sk-ecf0cbd7-a2ed-42c7-9ed2-e74f85401855 div.sk-parallel {display: flex;align-items: stretch;justify-content: center;background-color: white;}#sk-ecf0cbd7-a2ed-42c7-9ed2-e74f85401855 div.sk-parallel-item {display: flex;flex-direction: column;position: relative;background-color: white;}#sk-ecf0cbd7-a2ed-42c7-9ed2-e74f85401855 div.sk-parallel-item:first-child::after {align-self: flex-end;width: 50%;}#sk-ecf0cbd7-a2ed-42c7-9ed2-e74f85401855 div.sk-parallel-item:last-child::after {align-self: flex-start;width: 50%;}#sk-ecf0cbd7-a2ed-42c7-9ed2-e74f85401855 div.sk-parallel-item:only-child::after {width: 0;}#sk-ecf0cbd7-a2ed-42c7-9ed2-e74f85401855 div.sk-dashed-wrapped {border: 1px dashed gray;margin: 0.2em;box-sizing: border-box;padding-bottom: 0.1em;background-color: white;position: relative;}#sk-ecf0cbd7-a2ed-42c7-9ed2-e74f85401855 div.sk-label label {font-family: monospace;font-weight: bold;background-color: white;display: inline-block;line-height: 1.2em;}#sk-ecf0cbd7-a2ed-42c7-9ed2-e74f85401855 div.sk-label-container {position: relative;z-index: 2;text-align: center;}#sk-ecf0cbd7-a2ed-42c7-9ed2-e74f85401855 div.sk-container {display: inline-block;position: relative;}</style><div id=\"sk-ecf0cbd7-a2ed-42c7-9ed2-e74f85401855\" class\"sk-top-container\"><div class=\"sk-container\"><div class=\"sk-item sk-dashed-wrapped\"><div class=\"sk-label-container\"><div class=\"sk-label sk-toggleable\"><input class=\"sk-toggleable__control sk-hidden--visually\" id=\"da5e0ddc-6e64-4e90-b7ef-426735381ad0\" type=\"checkbox\" ><label class=\"sk-toggleable__label\" for=\"da5e0ddc-6e64-4e90-b7ef-426735381ad0\">GridSearchCV</label><div class=\"sk-toggleable__content\"><pre>GridSearchCV(cv=10,\n",
       "             estimator=Pipeline(steps=[('preprocessor',\n",
       "                                        ColumnTransformer(transformers=[('num',\n",
       "                                                                         Pipeline(steps=[('imputer',\n",
       "                                                                                          SimpleImputer(strategy='median')),\n",
       "                                                                                         ('scaler',\n",
       "                                                                                          StandardScaler())]),\n",
       "                                                                         <sklearn.compose._column_transformer.make_column_selector object at 0x7f6f8ff9bd00>),\n",
       "                                                                        ('cat',\n",
       "                                                                         OneHotEncoder(handle_unknown='ignore'),\n",
       "                                                                         <sklearn.compose._column_transformer.make_column_selector object at 0x7f6f8ff9bee0>)])),\n",
       "                                       ('classifier', LogisticRegression())]),\n",
       "             param_grid={'classifier__C': [0.1, 1.0, 10, 100],\n",
       "                         'preprocessor__num__imputer__strategy': ['mean',\n",
       "                                                                  'median']})</pre></div></div></div><div class=\"sk-parallel\"><div class=\"sk-parallel-item\"><div class=\"sk-item\"><div class=\"sk-serial\"><div class=\"sk-item\"><div class=\"sk-serial\"><div class=\"sk-item sk-dashed-wrapped\"><div class=\"sk-label-container\"><div class=\"sk-label sk-toggleable\"><input class=\"sk-toggleable__control sk-hidden--visually\" id=\"e136cd41-4715-4bcd-af8f-74312a946079\" type=\"checkbox\" ><label class=\"sk-toggleable__label\" for=\"e136cd41-4715-4bcd-af8f-74312a946079\">preprocessor: ColumnTransformer</label><div class=\"sk-toggleable__content\"><pre>ColumnTransformer(transformers=[('num',\n",
       "                                 Pipeline(steps=[('imputer',\n",
       "                                                  SimpleImputer(strategy='median')),\n",
       "                                                 ('scaler', StandardScaler())]),\n",
       "                                 <sklearn.compose._column_transformer.make_column_selector object at 0x7f6f8ff9bd00>),\n",
       "                                ('cat', OneHotEncoder(handle_unknown='ignore'),\n",
       "                                 <sklearn.compose._column_transformer.make_column_selector object at 0x7f6f8ff9bee0>)])</pre></div></div></div><div class=\"sk-parallel\"><div class=\"sk-parallel-item\"><div class=\"sk-item\"><div class=\"sk-label-container\"><div class=\"sk-label sk-toggleable\"><input class=\"sk-toggleable__control sk-hidden--visually\" id=\"dfd2dd08-1575-47f7-b109-8e1fa7e70a60\" type=\"checkbox\" ><label class=\"sk-toggleable__label\" for=\"dfd2dd08-1575-47f7-b109-8e1fa7e70a60\">num</label><div class=\"sk-toggleable__content\"><pre><sklearn.compose._column_transformer.make_column_selector object at 0x7f6f8ff9bd00></pre></div></div></div><div class=\"sk-serial\"><div class=\"sk-item\"><div class=\"sk-serial\"><div class=\"sk-item\"><div class=\"sk-estimator sk-toggleable\"><input class=\"sk-toggleable__control sk-hidden--visually\" id=\"ef93804a-9d59-4d07-9ef2-64aa2020cb04\" type=\"checkbox\" ><label class=\"sk-toggleable__label\" for=\"ef93804a-9d59-4d07-9ef2-64aa2020cb04\">SimpleImputer</label><div class=\"sk-toggleable__content\"><pre>SimpleImputer(strategy='median')</pre></div></div></div><div class=\"sk-item\"><div class=\"sk-estimator sk-toggleable\"><input class=\"sk-toggleable__control sk-hidden--visually\" id=\"6baaf8f1-8d68-4c9c-815a-7bc6e8943730\" type=\"checkbox\" ><label class=\"sk-toggleable__label\" for=\"6baaf8f1-8d68-4c9c-815a-7bc6e8943730\">StandardScaler</label><div class=\"sk-toggleable__content\"><pre>StandardScaler()</pre></div></div></div></div></div></div></div></div><div class=\"sk-parallel-item\"><div class=\"sk-item\"><div class=\"sk-label-container\"><div class=\"sk-label sk-toggleable\"><input class=\"sk-toggleable__control sk-hidden--visually\" id=\"de047998-ad70-4641-aaba-eeb9db2da3e8\" type=\"checkbox\" ><label class=\"sk-toggleable__label\" for=\"de047998-ad70-4641-aaba-eeb9db2da3e8\">cat</label><div class=\"sk-toggleable__content\"><pre><sklearn.compose._column_transformer.make_column_selector object at 0x7f6f8ff9bee0></pre></div></div></div><div class=\"sk-serial\"><div class=\"sk-item\"><div class=\"sk-estimator sk-toggleable\"><input class=\"sk-toggleable__control sk-hidden--visually\" id=\"fab25f16-ab1b-4b60-a85b-935046d779fe\" type=\"checkbox\" ><label class=\"sk-toggleable__label\" for=\"fab25f16-ab1b-4b60-a85b-935046d779fe\">OneHotEncoder</label><div class=\"sk-toggleable__content\"><pre>OneHotEncoder(handle_unknown='ignore')</pre></div></div></div></div></div></div></div></div><div class=\"sk-item\"><div class=\"sk-estimator sk-toggleable\"><input class=\"sk-toggleable__control sk-hidden--visually\" id=\"c90d7bb2-dc6f-4433-9f99-be57a4570026\" type=\"checkbox\" ><label class=\"sk-toggleable__label\" for=\"c90d7bb2-dc6f-4433-9f99-be57a4570026\">LogisticRegression</label><div class=\"sk-toggleable__content\"><pre>LogisticRegression()</pre></div></div></div></div></div></div></div></div></div></div></div></div>"
      ],
      "text/plain": [
       "GridSearchCV(cv=10,\n",
       "             estimator=Pipeline(steps=[('preprocessor',\n",
       "                                        ColumnTransformer(transformers=[('num',\n",
       "                                                                         Pipeline(steps=[('imputer',\n",
       "                                                                                          SimpleImputer(strategy='median')),\n",
       "                                                                                         ('scaler',\n",
       "                                                                                          StandardScaler())]),\n",
       "                                                                         <sklearn.compose._column_transformer.make_column_selector object at 0x7f6f8ff9bd00>),\n",
       "                                                                        ('cat',\n",
       "                                                                         OneHotEncoder(handle_unknown='ignore'),\n",
       "                                                                         <sklearn.compose._column_transformer.make_column_selector object at 0x7f6f8ff9bee0>)])),\n",
       "                                       ('classifier', LogisticRegression())]),\n",
       "             param_grid={'classifier__C': [0.1, 1.0, 10, 100],\n",
       "                         'preprocessor__num__imputer__strategy': ['mean',\n",
       "                                                                  'median']})"
      ]
     },
     "metadata": {},
     "output_type": "display_data"
    }
   ],
   "source": [
    "param_grid = {\n",
    "    'preprocessor__num__imputer__strategy': ['mean', 'median'],  # Note the nested estimator notation.\n",
    "    'classifier__C': [0.1, 1.0, 10, 100],\n",
    "}\n",
    "\n",
    "grid_search = GridSearchCV(clf, param_grid, cv=10)\n",
    "display(grid_search)"
   ]
  },
  {
   "cell_type": "markdown",
   "id": "29c218af-bb1b-414a-854a-507e7dc100fa",
   "metadata": {},
   "source": [
    "Calling `fit` triggers the cross-validated search for the best hyper-parameters combination:"
   ]
  },
  {
   "cell_type": "code",
   "execution_count": 109,
   "id": "d9dc7aa9-95ba-412d-92dc-c1a92a009c64",
   "metadata": {},
   "outputs": [
    {
     "name": "stdout",
     "output_type": "stream",
     "text": [
      "Best params:\n",
      "{'classifier__C': 0.1, 'preprocessor__num__imputer__strategy': 'mean'}\n"
     ]
    }
   ],
   "source": [
    "grid_search.fit(X_train, y_train)\n",
    "\n",
    "print(f\"Best params:\")\n",
    "print(grid_search.best_params_)"
   ]
  },
  {
   "cell_type": "code",
   "execution_count": 110,
   "id": "dab0053b-84b5-44da-b6cb-17fba72cff69",
   "metadata": {},
   "outputs": [
    {
     "name": "stdout",
     "output_type": "stream",
     "text": [
      "Internal CV score: 0.784\n"
     ]
    }
   ],
   "source": [
    "print(f\"Internal CV score: {grid_search.best_score_:.3f}\")"
   ]
  },
  {
   "cell_type": "code",
   "execution_count": 113,
   "id": "dcd35502-a1db-4246-a1f6-9f92af12c50f",
   "metadata": {},
   "outputs": [
    {
     "data": {
      "text/html": [
       "<div>\n",
       "<style scoped>\n",
       "    .dataframe tbody tr th:only-of-type {\n",
       "        vertical-align: middle;\n",
       "    }\n",
       "\n",
       "    .dataframe tbody tr th {\n",
       "        vertical-align: top;\n",
       "    }\n",
       "\n",
       "    .dataframe thead th {\n",
       "        text-align: right;\n",
       "    }\n",
       "</style>\n",
       "<table border=\"1\" class=\"dataframe\">\n",
       "  <thead>\n",
       "    <tr style=\"text-align: right;\">\n",
       "      <th></th>\n",
       "      <th>mean_test_score</th>\n",
       "      <th>std_test_score</th>\n",
       "      <th>param_preprocessor__num__imputer__strategy</th>\n",
       "      <th>param_classifier__C</th>\n",
       "    </tr>\n",
       "  </thead>\n",
       "  <tbody>\n",
       "    <tr>\n",
       "      <th>0</th>\n",
       "      <td>0.784167</td>\n",
       "      <td>0.035824</td>\n",
       "      <td>mean</td>\n",
       "      <td>0.1</td>\n",
       "    </tr>\n",
       "    <tr>\n",
       "      <th>2</th>\n",
       "      <td>0.780366</td>\n",
       "      <td>0.032722</td>\n",
       "      <td>mean</td>\n",
       "      <td>1.0</td>\n",
       "    </tr>\n",
       "    <tr>\n",
       "      <th>1</th>\n",
       "      <td>0.780348</td>\n",
       "      <td>0.037245</td>\n",
       "      <td>median</td>\n",
       "      <td>0.1</td>\n",
       "    </tr>\n",
       "    <tr>\n",
       "      <th>4</th>\n",
       "      <td>0.779414</td>\n",
       "      <td>0.033105</td>\n",
       "      <td>mean</td>\n",
       "      <td>10</td>\n",
       "    </tr>\n",
       "    <tr>\n",
       "      <th>6</th>\n",
       "      <td>0.779414</td>\n",
       "      <td>0.033105</td>\n",
       "      <td>mean</td>\n",
       "      <td>100</td>\n",
       "    </tr>\n",
       "  </tbody>\n",
       "</table>\n",
       "</div>"
      ],
      "text/plain": [
       "   mean_test_score  std_test_score param_preprocessor__num__imputer__strategy  \\\n",
       "0         0.784167        0.035824                                       mean   \n",
       "2         0.780366        0.032722                                       mean   \n",
       "1         0.780348        0.037245                                     median   \n",
       "4         0.779414        0.033105                                       mean   \n",
       "6         0.779414        0.033105                                       mean   \n",
       "\n",
       "  param_classifier__C  \n",
       "0                 0.1  \n",
       "2                 1.0  \n",
       "1                 0.1  \n",
       "4                  10  \n",
       "6                 100  "
      ]
     },
     "execution_count": 113,
     "metadata": {},
     "output_type": "execute_result"
    }
   ],
   "source": [
    "import pandas as pd\n",
    "\n",
    "cv_results = pd.DataFrame(grid_search.cv_results_)\n",
    "cv_results = cv_results.sort_values(\"mean_test_score\", ascending=False)\n",
    "cv_results[\n",
    "    [\n",
    "        \"mean_test_score\", \n",
    "        \"std_test_score\",\n",
    "        \"param_preprocessor__num__imputer__strategy\",\n",
    "        \"param_classifier__C\"\n",
    "    ]\n",
    "].head(5)"
   ]
  },
  {
   "cell_type": "markdown",
   "id": "98969522-1b9f-44ef-ab56-89564c8c653f",
   "metadata": {},
   "source": [
    "The best hyper-parameters have been used to re-fit a final model on the full training set. \n",
    "\n",
    "We can evaluate that final model on held out test data that was not used for hyperparameter tuning:"
   ]
  },
  {
   "cell_type": "code",
   "execution_count": 114,
   "id": "2cdad825-5a50-420f-a34e-30fc25b96c1b",
   "metadata": {},
   "outputs": [
    {
     "name": "stdout",
     "output_type": "stream",
     "text": [
      "best logistic regression from grid search: 0.794\n"
     ]
    }
   ],
   "source": [
    "print((\"best logistic regression from grid search: %.3f\" % grid_search.score(X_test, y_test)))"
   ]
  },
  {
   "cell_type": "markdown",
   "id": "ad11a2f7-65d2-4001-8fbd-fe6f654f6110",
   "metadata": {},
   "source": [
    "---"
   ]
  }
 ],
 "metadata": {
  "kernelspec": {
   "display_name": "Python 3",
   "language": "python",
   "name": "python3"
  },
  "language_info": {
   "codemirror_mode": {
    "name": "ipython",
    "version": 3
   },
   "file_extension": ".py",
   "mimetype": "text/x-python",
   "name": "python",
   "nbconvert_exporter": "python",
   "pygments_lexer": "ipython3",
   "version": "3.8.10"
  }
 },
 "nbformat": 4,
 "nbformat_minor": 5
}
