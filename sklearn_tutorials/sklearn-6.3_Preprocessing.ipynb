{
 "cells": [
  {
   "cell_type": "markdown",
   "id": "ce600a8d-87f3-44b1-9cf9-8fe90e8314ce",
   "metadata": {},
   "source": [
    "# Preprocessing data\n",
    "\n",
    "From this guide: https://scikit-learn.org/stable/modules/preprocessing.html"
   ]
  },
  {
   "cell_type": "markdown",
   "id": "3e7fbda1-adec-4012-a4d9-4d9b4e655534",
   "metadata": {},
   "source": [
    "---\n",
    "#### ⚠️ Any skipped sections are indicated with \\[🚧\\].\n",
    "---"
   ]
  },
  {
   "cell_type": "markdown",
   "id": "3a3aa6a2-0032-4f88-a264-0c56922d2919",
   "metadata": {},
   "source": [
    "## Overview\n",
    "\n",
    "The `sklearn.preprocessing` package provides several common utility functions and transformer classes to change raw feature vectors into a representation that is more suitable for the downstream estimators.\n",
    "\n",
    "In general, learning algorithms **benefit from standardization of the data set**. If some **outliers** are present in the set, ***robust scalers or transformers*** are more appropriate. The behaviors of the different scalers, transformers, and normalizers on a dataset containing marginal outliers is highlighted in the example:\n",
    "* 📚 [Compare the effect of different scalers on data with outliers](https://scikit-learn.org/stable/auto_examples/preprocessing/plot_all_scaling.html#sphx-glr-auto-examples-preprocessing-plot-all-scaling-py)."
   ]
  },
  {
   "cell_type": "markdown",
   "id": "90b224bc-3d89-46de-b7b1-c9c6d1209c43",
   "metadata": {},
   "source": [
    "## [Standardization, or mean removal and variance scaling](https://scikit-learn.org/stable/modules/preprocessing.html#standardization-or-mean-removal-and-variance-scaling)\n",
    "\n",
    "**Standardization** of datasets is a **common requirement for many machine learning estimators** implemented in scikit-learn; they might behave badly if the individual features do not more or less look like standard normally distributed data: *Gaussian with zero mean and unit variance*.\n",
    "\n",
    "In practice we often ignore the shape of the distribution and just transform the data to center it by removing the mean value of each feature, then scale it by dividing non-constant features by their standard deviation.\n",
    "\n",
    "For instance, many elements used in the objective function of a learning algorithm (such as the `RBF` kernel of Support Vector Machines or the `l1` and `l2` regularizers of linear models) assume that all features are centered around zero and have variance in the same order. If a feature has a variance that is orders of magnitude larger than others, it might dominate the objective function and make the estimator unable to learn from other features correctly as expected.\n",
    "\n",
    "The `preprocessing` module provides the `StandardScaler` utility class, which is a quick and easy way to perform the following operation on an array-like dataset:"
   ]
  },
  {
   "cell_type": "code",
   "execution_count": 1,
   "id": "f0a0073b-c6f9-46a6-961d-06e83d102f42",
   "metadata": {},
   "outputs": [
    {
     "data": {
      "text/plain": [
       "StandardScaler()"
      ]
     },
     "execution_count": 1,
     "metadata": {},
     "output_type": "execute_result"
    }
   ],
   "source": [
    "from IPython.display import display\n",
    "from sklearn import preprocessing\n",
    "import numpy as np\n",
    "X_train = np.array(\n",
    "    [\n",
    "        [ 1., -1.,  2.],\n",
    "        [ 2.,  0.,  0.],\n",
    "        [ 0.,  1., -1.]\n",
    "    ]\n",
    ")\n",
    "\n",
    "scaler = preprocessing.StandardScaler().fit(X_train)\n",
    "scaler"
   ]
  },
  {
   "cell_type": "code",
   "execution_count": 2,
   "id": "cd4c1f78-8b11-4df5-ace8-631a199b0248",
   "metadata": {},
   "outputs": [
    {
     "data": {
      "text/plain": [
       "array([1.        , 0.        , 0.33333333])"
      ]
     },
     "execution_count": 2,
     "metadata": {},
     "output_type": "execute_result"
    }
   ],
   "source": [
    "scaler.mean_"
   ]
  },
  {
   "cell_type": "code",
   "execution_count": 3,
   "id": "c5c6aeb8-3bc9-43eb-83bf-8d84ae21740d",
   "metadata": {},
   "outputs": [
    {
     "data": {
      "text/plain": [
       "array([0.81649658, 0.81649658, 1.24721913])"
      ]
     },
     "execution_count": 3,
     "metadata": {},
     "output_type": "execute_result"
    }
   ],
   "source": [
    "scaler.scale_"
   ]
  },
  {
   "cell_type": "code",
   "execution_count": 5,
   "id": "5b6dbabb-ed4b-47d5-a189-a1ba8279621d",
   "metadata": {},
   "outputs": [
    {
     "data": {
      "text/plain": [
       "array([[ 0.        , -1.22474487,  1.33630621],\n",
       "       [ 1.22474487,  0.        , -0.26726124],\n",
       "       [-1.22474487,  1.22474487, -1.06904497]])"
      ]
     },
     "execution_count": 5,
     "metadata": {},
     "output_type": "execute_result"
    }
   ],
   "source": [
    "X_scaled = scaler.transform(X_train)\n",
    "X_scaled"
   ]
  },
  {
   "cell_type": "markdown",
   "id": "5c65e130-657a-4f0b-9d55-abf73256508d",
   "metadata": {},
   "source": [
    "Scaled data has zero mean and unit variance:"
   ]
  },
  {
   "cell_type": "code",
   "execution_count": 6,
   "id": "de768f27-e9c7-41c7-b02a-6b6ee55ef7d6",
   "metadata": {},
   "outputs": [
    {
     "data": {
      "text/plain": [
       "array([0., 0., 0.])"
      ]
     },
     "execution_count": 6,
     "metadata": {},
     "output_type": "execute_result"
    }
   ],
   "source": [
    "X_scaled.mean(axis=0)"
   ]
  },
  {
   "cell_type": "code",
   "execution_count": 7,
   "id": "02d42493-3ae4-4502-b60d-87e5a5224b2c",
   "metadata": {},
   "outputs": [
    {
     "data": {
      "text/plain": [
       "array([1., 1., 1.])"
      ]
     },
     "execution_count": 7,
     "metadata": {},
     "output_type": "execute_result"
    }
   ],
   "source": [
    "X_scaled.std(axis=0)"
   ]
  },
  {
   "cell_type": "markdown",
   "id": "2b7d1301-8de9-4dd8-8e7e-2400b2bd734c",
   "metadata": {},
   "source": [
    "This class implements the `Transformer` API to compute the mean and standard deviation on a training set so as to be able to later re-apply the same transformation on the testing set. This class is hence suitable for use in the early steps of a `Pipeline`:"
   ]
  },
  {
   "cell_type": "code",
   "execution_count": 8,
   "id": "7c88c622-e06a-434a-8468-1a85e18b9c45",
   "metadata": {},
   "outputs": [],
   "source": [
    "from sklearn.datasets import make_classification\n",
    "from sklearn.linear_model import LogisticRegression\n",
    "from sklearn.model_selection import train_test_split\n",
    "from sklearn.pipeline import make_pipeline\n",
    "from sklearn.preprocessing import StandardScaler"
   ]
  },
  {
   "cell_type": "code",
   "execution_count": 9,
   "id": "f3480bdc-52a1-4bdb-8c5f-9c1b0bc29b38",
   "metadata": {},
   "outputs": [
    {
     "data": {
      "text/plain": [
       "Pipeline(steps=[('standardscaler', StandardScaler()),\n",
       "                ('logisticregression', LogisticRegression())])"
      ]
     },
     "execution_count": 9,
     "metadata": {},
     "output_type": "execute_result"
    }
   ],
   "source": [
    "X, y = make_classification(random_state=42)\n",
    "X_train, X_test, y_train, y_test = train_test_split(X, y, random_state=42)\n",
    "pipe = make_pipeline(StandardScaler(), LogisticRegression())\n",
    "pipe.fit(X_train, y_train)  # apply scaling on training data"
   ]
  },
  {
   "cell_type": "code",
   "execution_count": 10,
   "id": "604ca16d-7c37-45dd-9b1e-60d284e4f144",
   "metadata": {},
   "outputs": [
    {
     "data": {
      "text/plain": [
       "0.96"
      ]
     },
     "execution_count": 10,
     "metadata": {},
     "output_type": "execute_result"
    }
   ],
   "source": [
    "pipe.score(X_test, y_test)  # apply scaling on testing data, without leaking training data."
   ]
  },
  {
   "cell_type": "markdown",
   "id": "002a4ba6-a7b7-4bce-a467-3ab7efc3b4d7",
   "metadata": {},
   "source": [
    "It is possible to disable either centering or scaling by either passing `with_mean=False` or `with_std=False` to the constructor of `StandardScaler`."
   ]
  },
  {
   "cell_type": "markdown",
   "id": "211ca6ce-b2d9-43f4-8947-95a4c0559d6b",
   "metadata": {},
   "source": [
    "### Scaling features to a range\n",
    "\n",
    "An alternative standardization is:\n",
    "* scaling features to lie *between a given minimum and maximum value*, often between zero and one, or \n",
    "* so that the *maximum absolute value of each feature is scaled to unit size*. \n",
    "\n",
    "This can be achieved using `MinMaxScaler` or `MaxAbsScaler`, respectively.\n",
    "\n",
    "The motivation to use this scaling include robustness to very small standard deviations of features and preserving zero entries in sparse data.\n",
    "\n",
    "Here is an example to scale a toy data matrix to the `[0, 1]` range:"
   ]
  },
  {
   "cell_type": "code",
   "execution_count": 11,
   "id": "71f1c9eb-e10e-4e37-9489-a67b7ab92a82",
   "metadata": {},
   "outputs": [
    {
     "data": {
      "text/plain": [
       "array([[0.5       , 0.        , 1.        ],\n",
       "       [1.        , 0.5       , 0.33333333],\n",
       "       [0.        , 1.        , 0.        ]])"
      ]
     },
     "execution_count": 11,
     "metadata": {},
     "output_type": "execute_result"
    }
   ],
   "source": [
    "X_train = np.array(\n",
    "    [\n",
    "        [ 1., -1.,  2.],\n",
    "        [ 2.,  0.,  0.],\n",
    "        [ 0.,  1., -1.]\n",
    "    ]\n",
    ")\n",
    "\n",
    "min_max_scaler = preprocessing.MinMaxScaler()\n",
    "X_train_minmax = min_max_scaler.fit_transform(X_train)\n",
    "X_train_minmax"
   ]
  },
  {
   "cell_type": "markdown",
   "id": "b845e349-ad9e-4467-81c6-cb85a79b29f9",
   "metadata": {},
   "source": [
    "The same instance of the transformer can then be applied to some new test data unseen during the fit call: the same scaling and shifting operations will be applied to be consistent with the transformation performed on the train data:"
   ]
  },
  {
   "cell_type": "code",
   "execution_count": 12,
   "id": "5f6fa68f-bac5-4f86-8d67-5a76aa407074",
   "metadata": {},
   "outputs": [
    {
     "data": {
      "text/plain": [
       "array([[-1.5       ,  0.        ,  1.66666667]])"
      ]
     },
     "execution_count": 12,
     "metadata": {},
     "output_type": "execute_result"
    }
   ],
   "source": [
    "X_test = np.array([[-3., -1.,  4.]])\n",
    "X_test_minmax = min_max_scaler.transform(X_test)\n",
    "X_test_minmax"
   ]
  },
  {
   "cell_type": "markdown",
   "id": "88a377fd-aac4-4a45-8ef5-eb37d115378d",
   "metadata": {},
   "source": [
    "It is possible to introspect the scaler attributes to find about the exact nature of the transformation learned on the training data:"
   ]
  },
  {
   "cell_type": "code",
   "execution_count": 13,
   "id": "e671ba04-2e03-4efb-a410-8c80c0377853",
   "metadata": {},
   "outputs": [
    {
     "data": {
      "text/plain": [
       "array([0.5       , 0.5       , 0.33333333])"
      ]
     },
     "execution_count": 13,
     "metadata": {},
     "output_type": "execute_result"
    }
   ],
   "source": [
    "min_max_scaler.scale_"
   ]
  },
  {
   "cell_type": "code",
   "execution_count": 14,
   "id": "93f1eb0f-4d26-489b-ab23-cb21dae64f34",
   "metadata": {},
   "outputs": [
    {
     "data": {
      "text/plain": [
       "array([0.        , 0.5       , 0.33333333])"
      ]
     },
     "execution_count": 14,
     "metadata": {},
     "output_type": "execute_result"
    }
   ],
   "source": [
    "min_max_scaler.min_"
   ]
  },
  {
   "cell_type": "markdown",
   "id": "de74e621-c6ab-47b9-b73d-5193a92f568e",
   "metadata": {},
   "source": [
    "If `MinMaxScaler` is given an explicit `feature_range=(min, max)` the full formula is:\n",
    "```python\n",
    "X_std = (X - X.min(axis=0)) / (X.max(axis=0) - X.min(axis=0))\n",
    "X_scaled = X_std * (max - min) + min\n",
    "\n",
    "```"
   ]
  },
  {
   "cell_type": "markdown",
   "id": "cb00879c-a22f-4d2a-b2d6-b08743204e5b",
   "metadata": {},
   "source": [
    "⚠️ `MaxAbsScaler` works in a very similar fashion, but scales *in a way that the training data lies within the range `[-1, 1]`* by dividing through the largest maximum value in each feature. **It is meant for data that is already centered at zero or sparse data.**\n",
    "\n",
    "Here is how to use the toy data from the previous example with this scaler:"
   ]
  },
  {
   "cell_type": "code",
   "execution_count": 15,
   "id": "962022dc-0829-401b-9309-b6969a6f5cae",
   "metadata": {},
   "outputs": [
    {
     "data": {
      "text/plain": [
       "array([[ 0.5, -1. ,  1. ],\n",
       "       [ 1. ,  0. ,  0. ],\n",
       "       [ 0. ,  1. , -0.5]])"
      ]
     },
     "execution_count": 15,
     "metadata": {},
     "output_type": "execute_result"
    }
   ],
   "source": [
    "X_train = np.array(\n",
    "    [\n",
    "        [ 1., -1.,  2.],\n",
    "        [ 2.,  0.,  0.],\n",
    "        [ 0.,  1., -1.]\n",
    "    ]\n",
    ")\n",
    "\n",
    "max_abs_scaler = preprocessing.MaxAbsScaler()\n",
    "\n",
    "X_train_maxabs = max_abs_scaler.fit_transform(X_train)\n",
    "X_train_maxabs"
   ]
  },
  {
   "cell_type": "code",
   "execution_count": 16,
   "id": "a9db52fe-a583-40d5-9384-d8d293b32b6a",
   "metadata": {},
   "outputs": [
    {
     "data": {
      "text/plain": [
       "array([[-1.5, -1. ,  2. ]])"
      ]
     },
     "execution_count": 16,
     "metadata": {},
     "output_type": "execute_result"
    }
   ],
   "source": [
    "X_test = np.array([[ -3., -1.,  4.]])\n",
    "X_test_maxabs = max_abs_scaler.transform(X_test)\n",
    "X_test_maxabs"
   ]
  },
  {
   "cell_type": "code",
   "execution_count": 17,
   "id": "68b73586-5fbf-4539-a057-eeee39b9a88c",
   "metadata": {},
   "outputs": [
    {
     "data": {
      "text/plain": [
       "array([2., 1., 2.])"
      ]
     },
     "execution_count": 17,
     "metadata": {},
     "output_type": "execute_result"
    }
   ],
   "source": [
    "max_abs_scaler.scale_"
   ]
  },
  {
   "cell_type": "markdown",
   "id": "bc97bac8-3e73-4aad-b248-436beb91654b",
   "metadata": {},
   "source": [
    "### Scaling sparse data\n",
    "\n",
    "Centering sparse data would destroy the sparseness structure in the data, and thus rarely is a sensible thing to do. However, it can make sense to scale sparse inputs, especially if features are on different scales.\n",
    "\n",
    "`MaxAbsScaler` was **specifically designed for scaling sparse data**, and is the recommended way to go about this. However, `StandardScaler` can accept `scipy.sparse` matrices as input, *as long as `with_mean=False` is explicitly passed to the constructor*. Otherwise a `ValueError` will be raised as silently centering would break the sparsity and would often crash the execution by allocating excessive amounts of memory unintentionally. `RobustScaler` **cannot** be fitted to sparse inputs, but you can use the transform method on sparse inputs.\n",
    "\n",
    "Note that the scalers accept both `Compressed Sparse Rows` and `Compressed Sparse Columns` format (see `scipy.sparse.csr_matrix` and `scipy.sparse.csc_matrix`). Any other sparse input will be converted to the `Compressed Sparse Rows` representation. To avoid unnecessary memory copies, it is recommended to choose the `CSR` or `CSC` representation *upstream*.\n",
    "\n",
    "Finally, if the centered data is expected to be small enough, explicitly converting the input to an array using the `toarray` method of sparse matrices is another option."
   ]
  },
  {
   "cell_type": "markdown",
   "id": "9402f244-4929-4c85-8c09-dbdce3370ad9",
   "metadata": {},
   "source": [
    "### Scaling data with outliers\n",
    "\n",
    "If your data contains **many outliers**, scaling using the `mean` and `variance` of the data **is likely to not work very well**. In these cases, you can use `RobustScaler` as a drop-in replacement instead. \n",
    "> It uses more robust estimates for the center and range of your data."
   ]
  },
  {
   "cell_type": "markdown",
   "id": "7bbe6dff-db2e-4d4f-9504-5c239f333302",
   "metadata": {},
   "source": [
    "---\n",
    "\n",
    "**🔍 Scaling vs Whitening**\n",
    "\n",
    "It is sometimes not enough to center and scale the features independently, since a downstream *model can further make some assumption on the linear independence of the features*.\n",
    "\n",
    "To address this issue you can use `PCA` with `whiten=True` to **further remove the linear correlation** across features.\n",
    "\n",
    "---"
   ]
  },
  {
   "cell_type": "markdown",
   "id": "35b7e303-12b0-48f6-8964-25464d5ace94",
   "metadata": {},
   "source": [
    "### Centering kernel matrices\n",
    "\n",
    "If you have a kernel matrix of a kernel $K$ that computes a dot product in a feature space $\\phi$ defined by function $\\phi$, a `KernelCenterer` can transform the kernel matrix so that it contains inner products in the feature space defined by $\\phi$ followed by removal of the mean in that space."
   ]
  },
  {
   "cell_type": "markdown",
   "id": "9205742d-2eda-477c-b000-a2edf71ad41a",
   "metadata": {},
   "source": [
    "## [Non-linear transformation](https://scikit-learn.org/stable/modules/preprocessing.html#non-linear-transformation)\n",
    "\n",
    "Two types of transformations are available: **quantile transforms** and **power transforms**. Both quantile and power transforms are based on monotonic transformations of the features and thus preserve the rank of the values along each feature.\n",
    "\n",
    "**Quantile transforms** put all features into the same desired distribution based on the formula $G^{-1}(F(X))$ where:\n",
    "* $F$ is the *cumulative distribution function* of the feature and\n",
    "* $G^{-1}$ is the *quantile function* of the desired output distribution $G$.\n",
    "\n",
    "This formula is using the two following facts: \n",
    "* (i) if $X$ is a random variable with a continuous cumulative distribution function $F$ then $F(X)$ is uniformly distributed on `[0, 1]`; \n",
    "* (ii) if $U$ is a random variable with uniform distribution on $[0, 1]$ then $G^{-1}(U)$ has distribution $G$. \n",
    "\n",
    "ℹ️ By performing a rank transformation, a quantile transform smooths out unusual distributions and is **less influenced by outliers** than scaling methods.\n",
    "⚠️ It does, however, **distort correlations and distances** within and across features.\n",
    "\n",
    "**Power transforms** are a family of parametric transformations that aim to map data from any distribution to as close to a Gaussian distribution."
   ]
  },
  {
   "cell_type": "markdown",
   "id": "b3873fc9-04e4-46c0-833f-8f9bd0d9ec4b",
   "metadata": {},
   "source": [
    "###  Mapping to a Uniform distribution\n",
    "\n",
    "QuantileTransformer provides a non-parametric transformation to map the data to a uniform distribution with values between 0 and 1:"
   ]
  },
  {
   "cell_type": "code",
   "execution_count": 18,
   "id": "07a45894-35a7-409a-948f-b2b172e85732",
   "metadata": {},
   "outputs": [],
   "source": [
    "from sklearn.datasets import load_iris\n",
    "from sklearn.model_selection import train_test_split"
   ]
  },
  {
   "cell_type": "code",
   "execution_count": 23,
   "id": "afd7acb2-6913-4aae-9ca1-6e36a150b49b",
   "metadata": {},
   "outputs": [
    {
     "name": "stdout",
     "output_type": "stream",
     "text": [
      "X_train[:3]:\n",
      " [[5.9 3.  4.2 1.5]\n",
      " [5.8 2.6 4.  1.2]\n",
      " [6.8 3.  5.5 2.1]]\n"
     ]
    }
   ],
   "source": [
    "X, y = load_iris(return_X_y=True)\n",
    "X_train, X_test, y_train, y_test = train_test_split(X, y, random_state=0)\n",
    "\n",
    "print(\"X_train[:3]:\\n\", X_train[:3])"
   ]
  },
  {
   "cell_type": "code",
   "execution_count": 24,
   "id": "652e8ea7-1347-49f1-8c12-e46823e9d7f6",
   "metadata": {},
   "outputs": [
    {
     "name": "stderr",
     "output_type": "stream",
     "text": [
      "/mnt/space/miniconda3/envs/py38_playaround-sk/lib/python3.8/site-packages/sklearn/preprocessing/_data.py:2612: UserWarning: n_quantiles (1000) is greater than the total number of samples (112). n_quantiles is set to n_samples.\n",
      "  warnings.warn(\"n_quantiles (%s) is greater than the total number \"\n"
     ]
    }
   ],
   "source": [
    "quantile_transformer = preprocessing.QuantileTransformer(random_state=0)  # This.\n",
    "X_train_trans = quantile_transformer.fit_transform(X_train)\n",
    "X_test_trans = quantile_transformer.transform(X_test)"
   ]
  },
  {
   "cell_type": "code",
   "execution_count": 25,
   "id": "4b68c265-69ac-47b8-8d06-fe68e520f2be",
   "metadata": {},
   "outputs": [
    {
     "data": {
      "text/plain": [
       "array([4.3, 5.1, 5.8, 6.5, 7.9])"
      ]
     },
     "execution_count": 25,
     "metadata": {},
     "output_type": "execute_result"
    }
   ],
   "source": [
    "np.percentile(X_train[:, 0], [0, 25, 50, 75, 100]) "
   ]
  },
  {
   "cell_type": "markdown",
   "id": "a9053531-728a-4bf0-b2a1-e624cd8cc384",
   "metadata": {},
   "source": [
    "This feature corresponds to the sepal length in cm. Once the quantile transformation applied, those landmarks approach closely the percentiles previously defined:"
   ]
  },
  {
   "cell_type": "code",
   "execution_count": 28,
   "id": "06e73da8-6cb8-4d12-8904-18572d9ad6d0",
   "metadata": {},
   "outputs": [
    {
     "data": {
      "text/plain": [
       "array([0.        , 0.23873874, 0.50900901, 0.74324324, 1.        ])"
      ]
     },
     "execution_count": 28,
     "metadata": {},
     "output_type": "execute_result"
    }
   ],
   "source": [
    "np.percentile(X_train_trans[:, 0], [0, 25, 50, 75, 100]) "
   ]
  },
  {
   "cell_type": "markdown",
   "id": "c76f3d27-0813-4034-b94a-ed22c5498cbf",
   "metadata": {},
   "source": [
    "This can be confirmed on a independent testing set with similar remarks:"
   ]
  },
  {
   "cell_type": "code",
   "execution_count": 29,
   "id": "b6e34735-20f1-4c56-a822-4e6c13af0a43",
   "metadata": {},
   "outputs": [
    {
     "data": {
      "text/plain": [
       "array([4.4  , 5.125, 5.75 , 6.175, 7.3  ])"
      ]
     },
     "execution_count": 29,
     "metadata": {},
     "output_type": "execute_result"
    }
   ],
   "source": [
    "np.percentile(X_test[:, 0], [0, 25, 50, 75, 100])"
   ]
  },
  {
   "cell_type": "code",
   "execution_count": 30,
   "id": "5b8db27d-d781-4ae3-a7a4-03f0032dc2f3",
   "metadata": {},
   "outputs": [
    {
     "data": {
      "text/plain": [
       "array([0.01351351, 0.25      , 0.47747748, 0.60472973, 0.94144144])"
      ]
     },
     "execution_count": 30,
     "metadata": {},
     "output_type": "execute_result"
    }
   ],
   "source": [
    "np.percentile(X_test_trans[:, 0], [0, 25, 50, 75, 100])"
   ]
  },
  {
   "cell_type": "markdown",
   "id": "745d27e6-7fe2-4679-a55f-9493d5d3c7f4",
   "metadata": {},
   "source": [
    "### Mapping to a Gaussian distribution\n",
    "\n",
    "🚧"
   ]
  },
  {
   "cell_type": "markdown",
   "id": "a916b9ea-128a-4a0f-9cd2-7e6b42cc492c",
   "metadata": {},
   "source": [
    "## [Normalization](https://scikit-learn.org/stable/modules/preprocessing.html#normalization)\n",
    "\n",
    "> **Normalization** is the process of **scaling individual samples to have unit norm**. \n",
    "\n",
    "This process can be useful if you *plan to use a quadratic form such as the dot-product or any other kernel to quantify the **similarity of any pair of samples***.\n",
    "\n",
    "This assumption is the base of the [Vector Space Model](https://en.wikipedia.org/wiki/Vector_Space_Model) often used in text classification and clustering contexts.\n",
    "\n",
    "The function `normalize` provides a quick and easy way to perform this operation on a single array-like dataset, either using the `l1`, `l2`, or `max` norms:"
   ]
  },
  {
   "cell_type": "code",
   "execution_count": 32,
   "id": "bfd7f129-4831-4d2e-a31e-01b3119c73d6",
   "metadata": {},
   "outputs": [
    {
     "data": {
      "text/plain": [
       "array([[ 0.40824829, -0.40824829,  0.81649658],\n",
       "       [ 1.        ,  0.        ,  0.        ],\n",
       "       [ 0.        ,  0.70710678, -0.70710678]])"
      ]
     },
     "execution_count": 32,
     "metadata": {},
     "output_type": "execute_result"
    }
   ],
   "source": [
    "X = [[ 1., -1.,  2.],\n",
    "     [ 2.,  0.,  0.],\n",
    "     [ 0.,  1., -1.]]\n",
    "X_normalized = preprocessing.normalize(X, norm='l2')\n",
    "\n",
    "X_normalized"
   ]
  },
  {
   "cell_type": "markdown",
   "id": "f68ec6e6-4b06-4c00-9b9f-f6215a68f6c8",
   "metadata": {},
   "source": [
    "💡 The `preprocessing` module further provides a utility class `Normalizer` that implements the same operation using the `Transformer` API **(even though the fit method is useless in this case: the class is stateless as this operation treats samples independently)**.\n",
    "\n",
    "This class is hence suitable for use in the early steps of a `Pipeline`:"
   ]
  },
  {
   "cell_type": "code",
   "execution_count": 33,
   "id": "62a051e4-beb4-4c9c-8c74-9df951123aca",
   "metadata": {},
   "outputs": [
    {
     "data": {
      "text/plain": [
       "Normalizer()"
      ]
     },
     "execution_count": 33,
     "metadata": {},
     "output_type": "execute_result"
    }
   ],
   "source": [
    "normalizer = preprocessing.Normalizer().fit(X)  # fit does nothing\n",
    "normalizer"
   ]
  },
  {
   "cell_type": "markdown",
   "id": "22b209f8-01b6-4fc5-9eb0-f389d9a02140",
   "metadata": {},
   "source": [
    "The normalizer instance can then be used on sample vectors as any transformer:"
   ]
  },
  {
   "cell_type": "code",
   "execution_count": 34,
   "id": "cf9b2b32-61ac-4a6f-b598-aa5a9121f31b",
   "metadata": {},
   "outputs": [
    {
     "data": {
      "text/plain": [
       "array([[ 0.40824829, -0.40824829,  0.81649658],\n",
       "       [ 1.        ,  0.        ,  0.        ],\n",
       "       [ 0.        ,  0.70710678, -0.70710678]])"
      ]
     },
     "execution_count": 34,
     "metadata": {},
     "output_type": "execute_result"
    }
   ],
   "source": [
    "normalizer.transform(X)"
   ]
  },
  {
   "cell_type": "code",
   "execution_count": 36,
   "id": "b43eb9d4-dcd0-4db4-b722-ebcc3937a739",
   "metadata": {},
   "outputs": [
    {
     "data": {
      "text/plain": [
       "array([[-0.70710678,  0.70710678,  0.        ]])"
      ]
     },
     "execution_count": 36,
     "metadata": {},
     "output_type": "execute_result"
    }
   ],
   "source": [
    "normalizer.transform([[-1.,  1., 0.]])"
   ]
  },
  {
   "cell_type": "markdown",
   "id": "5ac23228-764c-46e0-b0eb-c4d97ef9e5ab",
   "metadata": {},
   "source": [
    "**Note:** L2 normalization is also known as *spatial sign preprocessing*."
   ]
  },
  {
   "cell_type": "markdown",
   "id": "f98c3093-8d9e-4cc8-bd9a-ee53910f48f8",
   "metadata": {},
   "source": [
    "---\n",
    "\n",
    "**🔍 Sparse input**\n",
    "\n",
    "`normalize` and` Normalizer` **accept** both dense array-like and sparse matrices from `scipy.sparse` as input.\n",
    "\n",
    "For sparse input the data is **converted to the `Compressed Sparse Rows` representation** (see `scipy.sparse.csr_matrix`) before being fed to efficient Cython routines. To avoid unnecessary memory copies, it is recommended to choose the CSR representation upstream.\n",
    "\n",
    "---"
   ]
  },
  {
   "cell_type": "markdown",
   "id": "eb79ea8d-49eb-4103-b1f0-d826c52d4150",
   "metadata": {},
   "source": [
    "## [Encoding categorical features](https://scikit-learn.org/stable/modules/preprocessing.html#encoding-categorical-features)\n",
    "\n",
    "Often features are not given as continuous values but categorical. For example a person could have features: \n",
    "* `[\"male\", \"female\"]`, \n",
    "* `[\"from Europe\", \"from US\", \"from Asia\"]`, \n",
    "* `[\"uses Firefox\", \"uses Chrome\", \"uses Safari\", \"uses Internet Explorer 🤣\"]`. \n",
    "\n",
    "Such features can be efficiently coded as integers, for instance: \n",
    "* `[\"male\", \"from US\", \"uses Internet Explorer 🤣\"]` could be expressed as `[0, 1, 3]` while \n",
    "* `[\"female\", \"from Asia\", \"uses Chrome\"]` would be `[1, 2, 1]`.\n",
    "\n",
    "To convert categorical features to such integer codes, we can use the `OrdinalEncoder`. This estimator transforms each categorical feature to one new feature of integers (`0` to `n_categories - 1`):"
   ]
  },
  {
   "cell_type": "code",
   "execution_count": 37,
   "id": "2de6608b-cefa-48cb-8830-ff7ba289a5b0",
   "metadata": {},
   "outputs": [
    {
     "data": {
      "text/plain": [
       "OrdinalEncoder()"
      ]
     },
     "execution_count": 37,
     "metadata": {},
     "output_type": "execute_result"
    }
   ],
   "source": [
    "enc = preprocessing.OrdinalEncoder()\n",
    "X = [\n",
    "    ['male', 'from US', 'uses Safari'], \n",
    "    ['female', 'from Europe', 'uses Firefox']\n",
    "]\n",
    "enc.fit(X)"
   ]
  },
  {
   "cell_type": "code",
   "execution_count": 38,
   "id": "5ab6cfea-c261-46dd-bbd9-8ac145a84a3b",
   "metadata": {},
   "outputs": [
    {
     "data": {
      "text/plain": [
       "array([[0., 1., 1.]])"
      ]
     },
     "execution_count": 38,
     "metadata": {},
     "output_type": "execute_result"
    }
   ],
   "source": [
    "enc.transform([['female', 'from US', 'uses Safari']])"
   ]
  },
  {
   "cell_type": "markdown",
   "id": "5c8f1da5-cb36-4beb-8118-22e0ac73fc4a",
   "metadata": {},
   "source": [
    "‼️ Such integer representation can, however, **not** be used directly with all scikit-learn estimators, as these expect continuous input, and would interpret the categories as being ordered, which is often not desired (i.e. the set of browsers was ordered arbitrarily).\n",
    "\n",
    "Another possibility to convert categorical features to features that can be used with scikit-learn estimators is to use a *one-of-K*, also known as *one-hot* or *dummy* encoding. This type of encoding can be obtained with the `OneHotEncoder`, which transforms each categorical feature with `n_categories` possible values into `n_categories` *binary features*, with one of them 1, and all others 0."
   ]
  },
  {
   "cell_type": "code",
   "execution_count": 39,
   "id": "f477ea2f-69db-4d88-98f9-20814da51259",
   "metadata": {},
   "outputs": [
    {
     "data": {
      "text/plain": [
       "OneHotEncoder()"
      ]
     },
     "execution_count": 39,
     "metadata": {},
     "output_type": "execute_result"
    }
   ],
   "source": [
    "enc = preprocessing.OneHotEncoder()\n",
    "X = [\n",
    "    ['male', 'from US', 'uses Safari'], \n",
    "    ['female', 'from Europe', 'uses Firefox']\n",
    "]\n",
    "enc.fit(X)"
   ]
  },
  {
   "cell_type": "code",
   "execution_count": 40,
   "id": "b90ffac8-be7c-495b-abd2-047f842785b4",
   "metadata": {},
   "outputs": [
    {
     "data": {
      "text/plain": [
       "array([[1., 0., 0., 1., 0., 1.],\n",
       "       [0., 1., 1., 0., 0., 1.]])"
      ]
     },
     "execution_count": 40,
     "metadata": {},
     "output_type": "execute_result"
    }
   ],
   "source": [
    "enc.transform(\n",
    "    [\n",
    "        ['female', 'from US', 'uses Safari'],\n",
    "        ['male', 'from Europe', 'uses Safari']\n",
    "    ]\n",
    ").toarray()"
   ]
  },
  {
   "cell_type": "markdown",
   "id": "51559d7e-e4d0-43a6-8249-535ede0179ef",
   "metadata": {},
   "source": [
    "By default, the values each feature can take is inferred automatically from the dataset and can be found in the `categories_ attribute`:"
   ]
  },
  {
   "cell_type": "code",
   "execution_count": 41,
   "id": "820378b6-cbc9-49fc-b7c4-58bd4e0d725f",
   "metadata": {},
   "outputs": [
    {
     "data": {
      "text/plain": [
       "[array(['female', 'male'], dtype=object),\n",
       " array(['from Europe', 'from US'], dtype=object),\n",
       " array(['uses Firefox', 'uses Safari'], dtype=object)]"
      ]
     },
     "execution_count": 41,
     "metadata": {},
     "output_type": "execute_result"
    }
   ],
   "source": [
    "enc.categories_"
   ]
  },
  {
   "cell_type": "markdown",
   "id": "09259a17-70d5-4d92-9e15-83f8162d05a2",
   "metadata": {},
   "source": [
    "It is **possible to specify this explicitly** using the parameter categories. \n",
    "\n",
    "There are two genders, four possible continents and four web browsers in our dataset:"
   ]
  },
  {
   "cell_type": "code",
   "execution_count": 42,
   "id": "d3da3e50-502d-4350-bd63-63d6dd75b9db",
   "metadata": {},
   "outputs": [],
   "source": [
    "genders = ['female', 'male']\n",
    "locations = ['from Africa', 'from Asia', 'from Europe', 'from US']\n",
    "browsers = ['uses Chrome', 'uses Firefox', 'uses IE', 'uses Safari']\n",
    "enc = preprocessing.OneHotEncoder(\n",
    "    categories=[genders, locations, browsers]  # <-- See this.\n",
    ")"
   ]
  },
  {
   "cell_type": "code",
   "execution_count": 43,
   "id": "09247dbb-7cb3-4cec-9bcd-4c239045770e",
   "metadata": {},
   "outputs": [
    {
     "data": {
      "text/plain": [
       "OneHotEncoder(categories=[['female', 'male'],\n",
       "                          ['from Africa', 'from Asia', 'from Europe',\n",
       "                           'from US'],\n",
       "                          ['uses Chrome', 'uses Firefox', 'uses IE',\n",
       "                           'uses Safari']])"
      ]
     },
     "execution_count": 43,
     "metadata": {},
     "output_type": "execute_result"
    }
   ],
   "source": [
    "# Note that there are missing categorical values for the 2nd and 3rd feature.\n",
    "\n",
    "X = [\n",
    "    ['male', 'from US', 'uses Safari'], \n",
    "    ['female', 'from Europe', 'uses Firefox']\n",
    "]\n",
    "enc.fit(X)"
   ]
  },
  {
   "cell_type": "code",
   "execution_count": 44,
   "id": "829a23b4-4524-4a28-ac6e-59462d1f99dc",
   "metadata": {},
   "outputs": [
    {
     "data": {
      "text/plain": [
       "array([[1., 0., 0., 1., 0., 0., 1., 0., 0., 0.]])"
      ]
     },
     "execution_count": 44,
     "metadata": {},
     "output_type": "execute_result"
    }
   ],
   "source": [
    "enc.transform([['female', 'from Asia', 'uses Chrome']]).toarray()"
   ]
  },
  {
   "cell_type": "markdown",
   "id": "67945005-d770-4798-8fc8-48b2db319e0e",
   "metadata": {},
   "source": [
    "‼️ If there is a possibility that the training data might have missing categorical features, it can often be better to specify `handle_unknown='ignore'` instead of setting the categories manually as above. \n",
    "\n",
    "When `handle_unknown='ignore'` is specified and unknown categories are encountered during transform, no error will be raised but the resulting one-hot encoded columns for this feature will be all zeros. \n",
    "\n",
    "(`handle_unknown='ignore'` is only supported for one-hot encoding):"
   ]
  },
  {
   "cell_type": "code",
   "execution_count": 45,
   "id": "ce910364-01ef-4360-a819-5d2fbe6f21f6",
   "metadata": {},
   "outputs": [
    {
     "data": {
      "text/plain": [
       "OneHotEncoder(handle_unknown='ignore')"
      ]
     },
     "execution_count": 45,
     "metadata": {},
     "output_type": "execute_result"
    }
   ],
   "source": [
    "enc = preprocessing.OneHotEncoder(\n",
    "    handle_unknown='ignore'  # <-- This.\n",
    ")\n",
    "\n",
    "X = [['male', 'from US', 'uses Safari'], ['female', 'from Europe', 'uses Firefox']]\n",
    "enc.fit(X)"
   ]
  },
  {
   "cell_type": "code",
   "execution_count": 46,
   "id": "64794d34-1ee8-4f42-91e7-19a84b588100",
   "metadata": {},
   "outputs": [
    {
     "data": {
      "text/plain": [
       "array([[1., 0., 0., 0., 0., 0.]])"
      ]
     },
     "execution_count": 46,
     "metadata": {},
     "output_type": "execute_result"
    }
   ],
   "source": [
    "enc.transform([['female', 'from Asia', 'uses Chrome']]).toarray()"
   ]
  },
  {
   "cell_type": "markdown",
   "id": "0ca5e08a-5f03-4c33-a99a-c2b1f5fb84fa",
   "metadata": {},
   "source": [
    "It is also possible to encode each column into `n_categories - 1` columns instead of `n_categories` columns by using the **`drop` parameter**.\n",
    "\n",
    "This parameter allows the user to specify a category for each feature to be dropped. This is useful to avoid co-linearity in the input matrix in some classifiers. \n",
    "\n",
    "Such functionality is useful, for example, when using non-regularized regression (`LinearRegression`), since co-linearity would cause the covariance matrix to be non-invertible. \n",
    "\n",
    "When this parameter is not `None`, `handle_unknown` must be set to `error`."
   ]
  },
  {
   "cell_type": "code",
   "execution_count": 47,
   "id": "0463b398-4164-48e7-bd48-244a4df5d365",
   "metadata": {},
   "outputs": [
    {
     "data": {
      "text/plain": [
       "[array(['female', 'male'], dtype=object),\n",
       " array(['from Europe', 'from US'], dtype=object),\n",
       " array(['uses Firefox', 'uses Safari'], dtype=object)]"
      ]
     },
     "execution_count": 47,
     "metadata": {},
     "output_type": "execute_result"
    }
   ],
   "source": [
    "X = [\n",
    "    ['male', 'from US', 'uses Safari'],\n",
    "    ['female', 'from Europe', 'uses Firefox']\n",
    "]\n",
    "\n",
    "drop_enc = preprocessing.OneHotEncoder(\n",
    "    drop='first'  # Options: {‘first’, ‘if_binary’} or a array-like of shape (n_features,), default=None\n",
    ").fit(X)\n",
    "drop_enc.categories_"
   ]
  },
  {
   "cell_type": "code",
   "execution_count": 48,
   "id": "c236968b-0cd9-43af-846e-b6e1b72dcc54",
   "metadata": {},
   "outputs": [
    {
     "data": {
      "text/plain": [
       "array([[1., 1., 1.],\n",
       "       [0., 0., 0.]])"
      ]
     },
     "execution_count": 48,
     "metadata": {},
     "output_type": "execute_result"
    }
   ],
   "source": [
    "drop_enc.transform(X).toarray()\n",
    "# Note that there are now FEWER features (3 not 6), as for each of the 2-category feature, we get only 1 column."
   ]
  },
  {
   "cell_type": "markdown",
   "id": "ee745424-fb0c-4b8e-a07f-d6cff82a0802",
   "metadata": {},
   "source": [
    "One might want to drop one of the two columns only for features with 2 categories. In this case, you can set the parameter `drop='if_binary'`."
   ]
  },
  {
   "cell_type": "code",
   "execution_count": 49,
   "id": "c6e8b833-8e63-496d-a7af-c1c67323652b",
   "metadata": {},
   "outputs": [
    {
     "name": "stdout",
     "output_type": "stream",
     "text": [
      "[array(['female', 'male'], dtype=object), array(['Asia', 'Europe', 'US'], dtype=object), array(['Chrome', 'Firefox', 'Safari'], dtype=object)]\n"
     ]
    },
    {
     "data": {
      "text/plain": [
       "array([[1., 0., 0., 1., 0., 0., 1.],\n",
       "       [0., 0., 1., 0., 0., 1., 0.],\n",
       "       [0., 1., 0., 0., 1., 0., 0.]])"
      ]
     },
     "metadata": {},
     "output_type": "display_data"
    }
   ],
   "source": [
    "X = [['male', 'US', 'Safari'],\n",
    "     ['female', 'Europe', 'Firefox'],\n",
    "     ['female', 'Asia', 'Chrome']]\n",
    "drop_enc = preprocessing.OneHotEncoder(drop='if_binary').fit(X)\n",
    "print(drop_enc.categories_)\n",
    "display(drop_enc.transform(X).toarray())"
   ]
  },
  {
   "cell_type": "markdown",
   "id": "b97e3f4a-3c4f-4fc1-9181-4055f2666758",
   "metadata": {},
   "source": [
    "In the transformed `X` above, the first column is the encoding of the feature with categories `\"male\"`/`\"female\"`, while the remaining 6 columns is the encoding of the 2 features with respectively 3 categories each."
   ]
  },
  {
   "cell_type": "markdown",
   "id": "feec08fe-5964-45b0-a8a9-1401866a36c9",
   "metadata": {},
   "source": [
    "`OneHotEncoder` supports categorical features **with missing values** by considering the missing values **as an additional category**:"
   ]
  },
  {
   "cell_type": "code",
   "execution_count": 52,
   "id": "ecb6f38d-712e-40e8-8952-438776d7c030",
   "metadata": {},
   "outputs": [
    {
     "name": "stdout",
     "output_type": "stream",
     "text": [
      "[array(['female', 'male', nan], dtype=object), array(['Firefox', 'Safari', None], dtype=object)]\n",
      "^ Note the missing items as a separate category.\n",
      "\n"
     ]
    },
    {
     "data": {
      "text/plain": [
       "array([[0., 1., 0., 0., 1., 0.],\n",
       "       [1., 0., 0., 0., 0., 1.],\n",
       "       [0., 0., 1., 1., 0., 0.]])"
      ]
     },
     "metadata": {},
     "output_type": "display_data"
    }
   ],
   "source": [
    "X = [\n",
    "    ['male', 'Safari'],\n",
    "    ['female', None],    # Browser missing.\n",
    "    [np.nan, 'Firefox']  # Gender missing.\n",
    "]\n",
    "enc = preprocessing.OneHotEncoder(handle_unknown='error').fit(X)\n",
    "print(enc.categories_)\n",
    "print(\"^ Note the missing items as a separate category.\", end=\"\\n\\n\")\n",
    "display(enc.transform(X).toarray())"
   ]
  },
  {
   "cell_type": "markdown",
   "id": "ba628ab5-ffc6-4767-b18b-03f27e2bef89",
   "metadata": {},
   "source": [
    "⚠️ If a feature contains both `np.nan` and `None`, **they will be considered separate categories**:"
   ]
  },
  {
   "cell_type": "code",
   "execution_count": 54,
   "id": "f62510ba-2d62-4d52-8068-0564d3671e6c",
   "metadata": {},
   "outputs": [
    {
     "name": "stdout",
     "output_type": "stream",
     "text": [
      "[array(['Firefox', 'Safari', None, nan], dtype=object)]\n",
      "^ Note BOTH NaN and None!.\n",
      "\n"
     ]
    },
    {
     "data": {
      "text/plain": [
       "array([[0., 1., 0., 0.],\n",
       "       [0., 0., 1., 0.],\n",
       "       [0., 0., 0., 1.],\n",
       "       [1., 0., 0., 0.]])"
      ]
     },
     "metadata": {},
     "output_type": "display_data"
    }
   ],
   "source": [
    "X = [\n",
    "    ['Safari'], \n",
    "    [None], \n",
    "    [np.nan], \n",
    "    ['Firefox']\n",
    "]\n",
    "enc = preprocessing.OneHotEncoder(handle_unknown='error').fit(X)\n",
    "print(enc.categories_)\n",
    "print(\"^ Note BOTH NaN and None!.\", end=\"\\n\\n\")\n",
    "display(enc.transform(X).toarray())"
   ]
  },
  {
   "cell_type": "markdown",
   "id": "4f91d539-ceb5-4fcc-8079-4f7a573c5aad",
   "metadata": {},
   "source": [
    "## [Discretization](https://scikit-learn.org/stable/modules/preprocessing.html#discretization)\n",
    "\n",
    "[Discretization](https://en.wikipedia.org/wiki/Discretization_of_continuous_features) (otherwise known as *quantization* or *binning*) provides a way to partition continuous features into discrete values.\n",
    "\n",
    "Certain datasets with continuous features may benefit from discretization, because discretization can transform the dataset of continuous attributes to one with only nominal attributes.\n",
    "\n",
    "One-hot encoded discretized features can make a model more expressive, while maintaining interpretability. For instance, pre-processing with a discretizer can introduce nonlinearity to linear models."
   ]
  },
  {
   "cell_type": "markdown",
   "id": "10eb1bfe-c19b-4b16-a254-a6256d13e574",
   "metadata": {},
   "source": [
    "### K-bins discretization\n",
    "\n",
    "`KBinsDiscretizer` discretizes features into `k` bins:"
   ]
  },
  {
   "cell_type": "code",
   "execution_count": 55,
   "id": "8bba3b90-f030-4425-add5-8ac2e56d8bfc",
   "metadata": {},
   "outputs": [],
   "source": [
    "X = np.array(\n",
    "    [\n",
    "        [ -3., 5., 15 ],\n",
    "        [  0., 6., 14 ],\n",
    "        [  6., 3., 11 ]\n",
    "    ]\n",
    ")\n",
    "\n",
    "# Fit:\n",
    "est = preprocessing.KBinsDiscretizer(n_bins=[3, 2, 2], encode='ordinal').fit(X)"
   ]
  },
  {
   "cell_type": "markdown",
   "id": "ab8d46c4-5cbc-4fc4-9f24-4997e7a547c8",
   "metadata": {},
   "source": [
    "⚠️ By default the output is one-hot encoded into **a sparse matrix** (See [Encoding categorical features](https://scikit-learn.org/stable/modules/preprocessing.html#preprocessing-categorical-features)) and this can be configured with the `encode` parameter.\n",
    "\n",
    "For each feature, the bin edges are computed during `fit` and together with the number of bins, they will define the intervals. Therefore, for the current example, these intervals are defined as:\n",
    "* feature 1: $[-\\infty, -1), [-1,2), [2, \\infty)$\n",
    "* feature 2: $[-\\infty, 5), [5, \\infty)$\n",
    "* feature 3: $[-\\infty, 14), [14, \\infty)$"
   ]
  },
  {
   "cell_type": "code",
   "execution_count": 66,
   "id": "c1d73d77-b065-4e00-b5eb-c1ab8669c7be",
   "metadata": {},
   "outputs": [
    {
     "name": "stdout",
     "output_type": "stream",
     "text": [
      "[array([-3., -1.,  2.,  6.]) array([3., 5., 6.]) array([11., 14., 15.])]\n",
      "[3 2 2]\n"
     ]
    }
   ],
   "source": [
    "print(est.bin_edges_)\n",
    "print(est.n_bins_)\n",
    "# 🤔 Hmm, not sure the above ranges are strictly true?"
   ]
  },
  {
   "cell_type": "markdown",
   "id": "4ba5eabd-3c10-44a5-ab18-1ba4007e4e03",
   "metadata": {},
   "source": [
    "Based on these bin intervals, X is transformed as follows:"
   ]
  },
  {
   "cell_type": "code",
   "execution_count": 56,
   "id": "be1cbefe-7d91-4992-89f3-12de1d89cc8a",
   "metadata": {},
   "outputs": [
    {
     "data": {
      "text/plain": [
       "array([[0., 1., 1.],\n",
       "       [1., 1., 1.],\n",
       "       [2., 0., 0.]])"
      ]
     },
     "execution_count": 56,
     "metadata": {},
     "output_type": "execute_result"
    }
   ],
   "source": [
    "est.transform(X)"
   ]
  },
  {
   "cell_type": "markdown",
   "id": "9091532e-e8e7-41dc-89f4-9e0e9cc5a72a",
   "metadata": {},
   "source": [
    "The resulting dataset contains **ordinal attributes** which can be further used in a `Pipeline`.\n",
    "\n",
    "Discretization is similar to constructing histograms for continuous data. However, histograms focus on counting features which fall into particular bins, whereas discretization focuses on assigning feature values to these bins.\n",
    "\n",
    "KBinsDiscretizer implements different binning strategies, which can be selected with the strategy parameter. \n",
    "* The `'uniform'` strategy uses constant-width bins. \n",
    "* The `'quantile'` strategy uses the quantiles values to have equally populated bins in each feature. \n",
    "* The `'kmeans'` strategy defines bins based on a k-means clustering procedure performed on each feature independently.\n",
    "\n",
    "Be aware that one can specify custom bins by passing a callable defining the discretization strategy to `FunctionTransformer`. For instance, we can use the Pandas function `pandas.cut`:"
   ]
  },
  {
   "cell_type": "code",
   "execution_count": 67,
   "id": "b2b7aca8-300f-41eb-a68e-cdaabe844ef9",
   "metadata": {},
   "outputs": [
    {
     "data": {
      "text/plain": [
       "['infant', 'kid', 'teen', 'adult', 'senior citizen']\n",
       "Categories (5, object): ['infant' < 'kid' < 'teen' < 'adult' < 'senior citizen']"
      ]
     },
     "execution_count": 67,
     "metadata": {},
     "output_type": "execute_result"
    }
   ],
   "source": [
    "import pandas as pd\n",
    "import numpy as np\n",
    "\n",
    "bins = [0, 1, 13, 20, 60, np.inf]\n",
    "labels = ['infant', 'kid', 'teen', 'adult', 'senior citizen']\n",
    "\n",
    "transformer = preprocessing.FunctionTransformer(  # Using FunctionTransformer...\n",
    "    pd.cut, \n",
    "    kw_args={\n",
    "        'bins': bins, \n",
    "        'labels': labels, \n",
    "        'retbins': False\n",
    "    }\n",
    ")\n",
    "\n",
    "X = np.array([0.2, 2, 15, 25, 97])\n",
    "transformer.fit_transform(X)"
   ]
  },
  {
   "cell_type": "markdown",
   "id": "afc5ba2e-4065-4e31-bc23-ba4e238a3f9c",
   "metadata": {},
   "source": [
    "**📚 Examples:**\n",
    "* [Using KBinsDiscretizer to discretize continuous features](https://scikit-learn.org/stable/auto_examples/preprocessing/plot_discretization.html#sphx-glr-auto-examples-preprocessing-plot-discretization-py)\n",
    "* [Feature discretization](https://scikit-learn.org/stable/auto_examples/preprocessing/plot_discretization_classification.html#sphx-glr-auto-examples-preprocessing-plot-discretization-classification-py)\n",
    "* [Demonstrating the different strategies of KBinsDiscretizer](https://scikit-learn.org/stable/auto_examples/preprocessing/plot_discretization_strategies.html#sphx-glr-auto-examples-preprocessing-plot-discretization-strategies-py)"
   ]
  },
  {
   "cell_type": "markdown",
   "id": "ecbb2a44-8261-4cc4-860e-3754fb030fbf",
   "metadata": {},
   "source": [
    "### Feature binarization\n",
    "\n",
    "> Feature **binarization** is the process of **thresholding numerical features to get boolean values**. \n",
    "\n",
    "This can be useful for downstream probabilistic estimators that make assumption that the input data is distributed according to a multi-variate Bernoulli distribution. For instance, this is the case for the `BernoulliRBM`.\n",
    "\n",
    "It is also common among the text processing community to use binary feature values (probably to simplify the probabilistic reasoning) even if normalized counts (a.k.a. term frequencies) or TF-IDF valued features often perform slightly better in practice.\n",
    "\n",
    "As for the `Normalizer`, the utility class `Binarizer` is meant to be used in the early stages of `Pipeline`. \n",
    "\n",
    "⚠️ The `fit` method does nothing as each sample is treated independently of others:"
   ]
  },
  {
   "cell_type": "code",
   "execution_count": 68,
   "id": "4ebed5ef-c2dd-4a0a-a2f0-cd52da30bc1f",
   "metadata": {},
   "outputs": [
    {
     "data": {
      "text/plain": [
       "Binarizer()"
      ]
     },
     "execution_count": 68,
     "metadata": {},
     "output_type": "execute_result"
    }
   ],
   "source": [
    "X = [\n",
    "    [ 1., -1.,  2.],\n",
    "    [ 2.,  0.,  0.],\n",
    "    [ 0.,  1., -1.]\n",
    "]\n",
    "\n",
    "binarizer = preprocessing.Binarizer().fit(X)  # fit does nothing\n",
    "binarizer"
   ]
  },
  {
   "cell_type": "code",
   "execution_count": 69,
   "id": "778d7fa6-ca9a-40ed-a7fa-a29bf42f0f81",
   "metadata": {},
   "outputs": [
    {
     "data": {
      "text/plain": [
       "array([[1., 0., 1.],\n",
       "       [1., 0., 0.],\n",
       "       [0., 1., 0.]])"
      ]
     },
     "execution_count": 69,
     "metadata": {},
     "output_type": "execute_result"
    }
   ],
   "source": [
    "binarizer.transform(X)"
   ]
  },
  {
   "cell_type": "markdown",
   "id": "d5a78563-aba3-4d4e-a407-9293541c4d78",
   "metadata": {},
   "source": [
    "It is possible to **adjust the threshold** of the binarizer:"
   ]
  },
  {
   "cell_type": "code",
   "execution_count": 70,
   "id": "e7e303c5-b036-4aed-b424-4feabefe6542",
   "metadata": {},
   "outputs": [
    {
     "data": {
      "text/plain": [
       "array([[0., 0., 1.],\n",
       "       [1., 0., 0.],\n",
       "       [0., 0., 0.]])"
      ]
     },
     "execution_count": 70,
     "metadata": {},
     "output_type": "execute_result"
    }
   ],
   "source": [
    "binarizer = preprocessing.Binarizer(threshold=1.1)\n",
    "binarizer.transform(X)"
   ]
  },
  {
   "cell_type": "markdown",
   "id": "e5ccde9e-894d-4ca2-8361-5479f9750cc2",
   "metadata": {},
   "source": [
    "As for the `Normalizer` class, the preprocessing module provides a companion function `binarize` to be used when the transformer API is not necessary.\n",
    "\n",
    "Note that the `Binarizer` is similar to the `KBinsDiscretizer` when `k = 2`, and when the bin edge is at the value threshold."
   ]
  },
  {
   "cell_type": "markdown",
   "id": "7d303859-409b-4b04-8803-fb435d4ecb85",
   "metadata": {},
   "source": [
    "---\n",
    "\n",
    "**Sparse input:**\n",
    "\n",
    "`binarize` and `Binarizer` **accept both** dense array-like and sparse matrices from `scipy.sparse` as input.\n",
    "\n",
    "For sparse input the data is converted to the `Compressed Sparse Rows` representation (see `scipy.sparse.csr_matrix`). To avoid unnecessary memory copies, it is recommended to choose the CSR representation upstream.\n",
    "\n",
    "---"
   ]
  },
  {
   "cell_type": "markdown",
   "id": "959f47d8-7553-46c4-a0ca-332731cff62f",
   "metadata": {},
   "source": [
    "## [Imputation of missing values](https://scikit-learn.org/stable/modules/preprocessing.html#imputation-of-missing-values)\n",
    "\n",
    "* ➯ 📚 Tools for imputing missing values are discussed at [Imputation of missing values](https://scikit-learn.org/stable/modules/impute.html#impute)."
   ]
  },
  {
   "cell_type": "markdown",
   "id": "b4a2f099-2d2a-4ee7-9fa3-b1765fe5c562",
   "metadata": {},
   "source": [
    "## [Generating polynomial features](https://scikit-learn.org/stable/modules/preprocessing.html#generating-polynomial-features)\n",
    "\n",
    "Often it’s useful to add complexity to the model by considering nonlinear features of the input data. A simple and common method to use is polynomial features, which can get features’ high-order and interaction terms. It is implemented in `PolynomialFeatures`:"
   ]
  },
  {
   "cell_type": "code",
   "execution_count": 71,
   "id": "94d2928a-bb2e-4761-9379-6901827b3b64",
   "metadata": {},
   "outputs": [
    {
     "data": {
      "text/plain": [
       "array([[0, 1],\n",
       "       [2, 3],\n",
       "       [4, 5]])"
      ]
     },
     "execution_count": 71,
     "metadata": {},
     "output_type": "execute_result"
    }
   ],
   "source": [
    "import numpy as np\n",
    "from sklearn.preprocessing import PolynomialFeatures\n",
    "X = np.arange(6).reshape(3, 2)\n",
    "X"
   ]
  },
  {
   "cell_type": "code",
   "execution_count": 72,
   "id": "fa836284-7fc7-4f2d-bc5e-278b9b37642b",
   "metadata": {},
   "outputs": [
    {
     "data": {
      "text/plain": [
       "array([[ 1.,  0.,  1.,  0.,  0.,  1.],\n",
       "       [ 1.,  2.,  3.,  4.,  6.,  9.],\n",
       "       [ 1.,  4.,  5., 16., 20., 25.]])"
      ]
     },
     "execution_count": 72,
     "metadata": {},
     "output_type": "execute_result"
    }
   ],
   "source": [
    "poly = PolynomialFeatures(2)\n",
    "poly.fit_transform(X)"
   ]
  },
  {
   "cell_type": "markdown",
   "id": "f81fa5dc-b1ab-477a-bd42-9c113611112b",
   "metadata": {},
   "source": [
    "The features of `X` have been transformed from $(X_1, X_2)$ to $(1, X_1, X_2, X_1^2, X_1 X_2, X_2^2)$.\n",
    "\n",
    "In some cases, only interaction terms among features are required, and it can be gotten with the setting `interaction_only=True`:"
   ]
  },
  {
   "cell_type": "code",
   "execution_count": 73,
   "id": "0fae9963-4e51-428e-a48f-a5c7978fe54a",
   "metadata": {},
   "outputs": [
    {
     "data": {
      "text/plain": [
       "array([[0, 1, 2],\n",
       "       [3, 4, 5],\n",
       "       [6, 7, 8]])"
      ]
     },
     "execution_count": 73,
     "metadata": {},
     "output_type": "execute_result"
    }
   ],
   "source": [
    "X = np.arange(9).reshape(3, 3)\n",
    "X"
   ]
  },
  {
   "cell_type": "code",
   "execution_count": 74,
   "id": "4924a2d9-45e0-430d-a1b6-4e37762b5535",
   "metadata": {},
   "outputs": [
    {
     "data": {
      "text/plain": [
       "array([[  1.,   0.,   1.,   2.,   0.,   0.,   2.,   0.],\n",
       "       [  1.,   3.,   4.,   5.,  12.,  15.,  20.,  60.],\n",
       "       [  1.,   6.,   7.,   8.,  42.,  48.,  56., 336.]])"
      ]
     },
     "execution_count": 74,
     "metadata": {},
     "output_type": "execute_result"
    }
   ],
   "source": [
    "poly = PolynomialFeatures(\n",
    "    degree=3, \n",
    "    interaction_only=True  # <-- Note this.\n",
    ")\n",
    "poly.fit_transform(X)"
   ]
  },
  {
   "cell_type": "markdown",
   "id": "6089972a-3638-460d-8805-2cb3808bf705",
   "metadata": {},
   "source": [
    "The features of `X` have been transformed from $(X_1, X_2, X_3)$ to $(1, X_1, X_2, X_3, X_1 X_2, X_1 X_3, X_2 X_3, X_1 X_2 X_3)$.\n",
    "\n",
    "Note that polynomial features are used *implicitly* in kernel methods (e.g., `SVC`, `KernelPCA`) when using *polynomial Kernel functions*.\n",
    "\n",
    "See [Polynomial interpolation](https://scikit-learn.org/stable/auto_examples/linear_model/plot_polynomial_interpolation.html#sphx-glr-auto-examples-linear-model-plot-polynomial-interpolation-py) for Ridge regression using created polynomial features."
   ]
  },
  {
   "cell_type": "markdown",
   "id": "1a0e59b9-0af1-4dee-adc8-c9976cd60cd4",
   "metadata": {},
   "source": [
    "## [💡 Custom transformers](https://scikit-learn.org/stable/modules/preprocessing.html#custom-transformers)\n",
    "\n",
    "Often, you will want to convert an existing Python function into a transformer to assist in data cleaning or processing. You can implement a transformer from an arbitrary function with FunctionTransformer. \n",
    "\n",
    "For example, to build a transformer that applies a log transformation in a pipeline, do:"
   ]
  },
  {
   "cell_type": "code",
   "execution_count": 75,
   "id": "65055dbc-4184-4741-a912-4d7d2f43feb9",
   "metadata": {},
   "outputs": [
    {
     "name": "stdout",
     "output_type": "stream",
     "text": [
      "[[0 1]\n",
      " [2 3]]\n",
      "[[0.         0.69314718]\n",
      " [1.09861229 1.38629436]]\n"
     ]
    }
   ],
   "source": [
    "import numpy as np\n",
    "from sklearn.preprocessing import FunctionTransformer\n",
    "\n",
    "transformer = FunctionTransformer(\n",
    "    np.log1p,  # <-- The function to apply is set here.\n",
    "    validate=True\n",
    ")\n",
    "\n",
    "X = np.array([[0, 1], [2, 3]])\n",
    "print(X)\n",
    "\n",
    "X = transformer.transform(X)\n",
    "print(X)"
   ]
  },
  {
   "cell_type": "markdown",
   "id": "a6133bab-05df-460c-94a6-8fa0e1967abf",
   "metadata": {},
   "source": [
    "You can ensure that `func` and `inverse_func` are the inverse of each other by setting `check_inverse=True` and calling `fit` before transform. \n",
    "\n",
    "Please note that a **warning** is raised and can be turned into an **error** with a `filterwarnings`:\n",
    "\n",
    "```python\n",
    "import warnings\n",
    "warnings.filterwarnings(\n",
    "    \"error\", \n",
    "    message=\".*check_inverse*.\",\n",
    "    category=UserWarning, \n",
    "    append=False\n",
    ")\n",
    "```"
   ]
  }
 ],
 "metadata": {
  "kernelspec": {
   "display_name": "Python 3",
   "language": "python",
   "name": "python3"
  },
  "language_info": {
   "codemirror_mode": {
    "name": "ipython",
    "version": 3
   },
   "file_extension": ".py",
   "mimetype": "text/x-python",
   "name": "python",
   "nbconvert_exporter": "python",
   "pygments_lexer": "ipython3",
   "version": "3.8.10"
  }
 },
 "nbformat": 4,
 "nbformat_minor": 5
}
