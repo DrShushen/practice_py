{
 "cells": [
  {
   "cell_type": "markdown",
   "id": "39d180ea-dfb9-4561-a8e1-7935d51670ea",
   "metadata": {},
   "source": [
    "# Feature selection\n",
    "\n",
    "From this guide: https://scikit-learn.org/stable/modules/feature_selection.html"
   ]
  },
  {
   "cell_type": "markdown",
   "id": "27246af1-f827-40f4-9543-f0246ab90b06",
   "metadata": {},
   "source": [
    "## Overview\n",
    "\n",
    "The classes in the `sklearn.feature_selection` module can be used for feature selection/dimensionality reduction on sample sets, either to improve estimators’ accuracy scores or to boost their performance on very high-dimensional datasets."
   ]
  },
  {
   "cell_type": "markdown",
   "id": "eb24ce4d-9e80-495e-9a12-104f87790ab1",
   "metadata": {},
   "source": [
    "## [Removing features with low variance](https://scikit-learn.org/stable/modules/feature_selection.html#removing-features-with-low-variance)\n",
    "\n",
    "`VarianceThreshold` is a simple baseline approach to feature selection. \n",
    "\n",
    "It removes *all features whose variance doesn’t meet some threshold*. \n",
    "\n",
    "By **default**, it removes **all zero-variance features**, i.e. features that have the same value in all samples.\n",
    "\n",
    "As an example, suppose that we have a dataset with boolean features, and we want to remove all features that are either one or zero (on or off) in more than 80% of the samples. Boolean features are Bernoulli random variables, and the variance of such variables is given by:\n",
    "\n",
    "$\n",
    "\\text{Var}[X] = p(1-p)\n",
    "$\n",
    "\n",
    "so we can select using the threshold `.8 * (1 - .8)`:"
   ]
  },
  {
   "cell_type": "code",
   "execution_count": 2,
   "id": "e37c71b2-07cb-492c-ba41-de88712fcc65",
   "metadata": {},
   "outputs": [
    {
     "name": "stdout",
     "output_type": "stream",
     "text": [
      "X:\n",
      " [[0 0 1]\n",
      " [0 1 0]\n",
      " [1 0 0]\n",
      " [0 1 1]\n",
      " [0 1 0]\n",
      " [0 1 1]]\n"
     ]
    }
   ],
   "source": [
    "from IPython.display import display\n",
    "import numpy as np\n",
    "from sklearn.feature_selection import VarianceThreshold\n",
    "\n",
    "X = np.array(\n",
    "    [\n",
    "        [0, 0, 1], \n",
    "        [0, 1, 0], \n",
    "        [1, 0, 0], \n",
    "        [0, 1, 1], \n",
    "        [0, 1, 0], \n",
    "        [0, 1, 1]\n",
    "    ]\n",
    ")\n",
    "print(\"X:\\n\", X)"
   ]
  },
  {
   "cell_type": "code",
   "execution_count": 5,
   "id": "decd7b66-700c-4e52-93c0-910d11260ac4",
   "metadata": {},
   "outputs": [
    {
     "name": "stdout",
     "output_type": "stream",
     "text": [
      "threshold = .8 * (1 - .8) = 0.16\n"
     ]
    },
    {
     "data": {
      "text/plain": [
       "array([[0, 1],\n",
       "       [1, 0],\n",
       "       [0, 0],\n",
       "       [1, 1],\n",
       "       [1, 0],\n",
       "       [1, 1]])"
      ]
     },
     "execution_count": 5,
     "metadata": {},
     "output_type": "execute_result"
    }
   ],
   "source": [
    "threshold = .8 * (1 - .8)\n",
    "print(f\"threshold = .8 * (1 - .8) = {threshold:.2f}\")\n",
    "\n",
    "sel = VarianceThreshold(threshold=threshold)  # NOTE: threshold parameter is a *variance* threshold.\n",
    "sel.fit_transform(X)"
   ]
  },
  {
   "cell_type": "markdown",
   "id": "318de912-469d-45d7-ab11-a795451e9b9d",
   "metadata": {},
   "source": [
    "As expected, `VarianceThreshold` has removed the first column, which has a probability $p = 5/6 > .8$ of containing a zero."
   ]
  },
  {
   "cell_type": "markdown",
   "id": "39d63f71-e3c1-41e8-bdce-d54bd3444b6d",
   "metadata": {},
   "source": [
    "## [Univariate feature selection](https://scikit-learn.org/stable/modules/feature_selection.html#univariate-feature-selection)\n",
    "\n",
    "Univariate feature selection works by *selecting the best features based on **univariate statistical tests***. \n",
    "\n",
    "It can be seen as a preprocessing step to an estimator. Scikit-learn exposes feature selection routines as objects that implement the `transform` method:\n",
    "* `SelectKBest` removes all but the $k$ highest scoring features\n",
    "* `SelectPercentile` removes all but a user-specified highest scoring percentage of features\n",
    "* using common univariate statistical tests for each feature: false positive rate `SelectFpr`, false discovery rate `SelectFdr`, or family wise error `SelectFwe`.\n",
    "* `GenericUnivariateSelect` allows to perform univariate feature selection with a configurable strategy. This allows to select the best univariate selection strategy with hyper-parameter search estimator.\n",
    "\n",
    "For instance, we can perform a $\\chi^2$ test to the samples to retrieve only the two best features as follows:"
   ]
  },
  {
   "cell_type": "code",
   "execution_count": 6,
   "id": "b95454b2-a994-4ed2-bbca-279b22ef6621",
   "metadata": {},
   "outputs": [],
   "source": [
    "from sklearn.datasets import load_iris\n",
    "from sklearn.feature_selection import SelectKBest\n",
    "from sklearn.feature_selection import chi2"
   ]
  },
  {
   "cell_type": "code",
   "execution_count": 7,
   "id": "a442c4eb-9f34-45c9-8f84-ef775410182b",
   "metadata": {},
   "outputs": [
    {
     "data": {
      "text/plain": [
       "(150, 4)"
      ]
     },
     "execution_count": 7,
     "metadata": {},
     "output_type": "execute_result"
    }
   ],
   "source": [
    "X, y = load_iris(return_X_y=True)\n",
    "X.shape"
   ]
  },
  {
   "cell_type": "code",
   "execution_count": 8,
   "id": "8ddd414c-d80c-4c88-96f7-c4c01dcda87e",
   "metadata": {},
   "outputs": [
    {
     "data": {
      "text/plain": [
       "(150, 2)"
      ]
     },
     "execution_count": 8,
     "metadata": {},
     "output_type": "execute_result"
    }
   ],
   "source": [
    "X_new = SelectKBest(\n",
    "    score_func=chi2,  # We are providing a score function here!\n",
    "    k=2\n",
    ").fit_transform(X, y)\n",
    "X_new.shape"
   ]
  },
  {
   "cell_type": "markdown",
   "id": "b333bcdb-7844-4b1e-a964-085c259f19b6",
   "metadata": {},
   "source": [
    "These objects take as input a scoring function that returns *univariate scores* and *p-values* (or only scores for `SelectKBest` and `SelectPercentile`):\n",
    "* For regression: [`f_regression`](https://scikit-learn.org/stable/modules/generated/sklearn.feature_selection.f_regression.html#sklearn.feature_selection.f_regression), [`mutual_info_regression`](https://scikit-learn.org/stable/modules/generated/sklearn.feature_selection.mutual_info_regression.html#sklearn.feature_selection.mutual_info_regression)\n",
    "* For classification: [`chi2`](https://scikit-learn.org/stable/modules/generated/sklearn.feature_selection.chi2.html#sklearn.feature_selection.chi2), [`f_classif`](https://scikit-learn.org/stable/modules/generated/sklearn.feature_selection.f_classif.html#sklearn.feature_selection.f_classif), [`mutual_info_classif`](https://scikit-learn.org/stable/modules/generated/sklearn.feature_selection.mutual_info_classif.html#sklearn.feature_selection.mutual_info_classif)\n",
    "> 📚🎓 See the documentation for each of the above functions for more details.\n",
    "\n",
    "The methods based on F-test estimate the degree of linear dependency between two random variables. On the other hand, mutual information methods can capture any kind of statistical dependency, but being nonparametric, they require more samples for accurate estimation."
   ]
  },
  {
   "cell_type": "markdown",
   "id": "0cf4ccdf-9901-4d0a-9878-fc1966ca4c18",
   "metadata": {},
   "source": [
    "---\n",
    "\n",
    "**🔍 Note: Feature selection with sparse data**\n",
    "\n",
    "If you use sparse data (i.e. data represented as sparse matrices), `chi2`, `mutual_info_regression`, `mutual_info_classif` will deal with the data without making it dense.\n",
    "\n",
    "---"
   ]
  },
  {
   "cell_type": "markdown",
   "id": "a762347e-77f9-480f-8b3d-e6fb16db1c40",
   "metadata": {},
   "source": [
    "---\n",
    "\n",
    "**⚠️ Warning**\n",
    "\n",
    "Beware not to use a regression scoring function with a classification problem, you will get useless results. \n",
    "\n",
    "---"
   ]
  },
  {
   "cell_type": "markdown",
   "id": "8f62674e-643d-463e-93fd-a0ed2d648a59",
   "metadata": {},
   "source": [
    "**📚 Examples:**\n",
    "\n",
    "* [Univariate Feature Selection](https://scikit-learn.org/stable/auto_examples/feature_selection/plot_feature_selection.html#sphx-glr-auto-examples-feature-selection-plot-feature-selection-py)\n",
    "* [Comparison of F-test and mutual information](https://scikit-learn.org/stable/auto_examples/feature_selection/plot_f_test_vs_mi.html#sphx-glr-auto-examples-feature-selection-plot-f-test-vs-mi-py)"
   ]
  },
  {
   "cell_type": "markdown",
   "id": "c372f038-f8ba-4c0f-939f-bb9ff4ab5489",
   "metadata": {},
   "source": [
    "## [Recursive feature elimination](https://scikit-learn.org/stable/modules/feature_selection.html#recursive-feature-elimination)\n",
    "\n",
    "Given an external *estimator that assigns weights to features* (e.g., the coefficients of a linear model), the goal of recursive feature elimination ([`RFE`](https://scikit-learn.org/stable/modules/generated/sklearn.feature_selection.RFE.html#sklearn.feature_selection.RFE)) is to select features by **recursively considering smaller and smaller sets of features**.\n",
    "* First, the estimator is trained on the initial set of features and the importance of each feature is obtained either through any specific attribute (such as `coef_`, `feature_importances_`) or *callable*.\n",
    "* Then, the least important features are pruned from current set of features. \n",
    "* 🔁 That procedure is recursively repeated on the pruned set until the desired number of features to select is eventually reached.\n",
    "\n",
    "[`RFECV`](https://scikit-learn.org/stable/modules/generated/sklearn.feature_selection.RFECV.html#sklearn.feature_selection.RFECV) performs RFE in a cross-validation loop to find the optimal number of features.\n",
    "\n",
    "**📚 Examples:**\n",
    "* [Recursive feature elimination](https://scikit-learn.org/stable/auto_examples/feature_selection/plot_rfe_digits.html#sphx-glr-auto-examples-feature-selection-plot-rfe-digits-py): A recursive feature elimination example showing the relevance of pixels in a digit classification task.\n",
    "* [Recursive feature elimination with cross-validation](https://scikit-learn.org/stable/auto_examples/feature_selection/plot_rfe_with_cross_validation.html#sphx-glr-auto-examples-feature-selection-plot-rfe-with-cross-validation-py): A recursive feature elimination example with automatic tuning of the number of features selected with cross-validation."
   ]
  },
  {
   "cell_type": "markdown",
   "id": "27cb3abd-0479-4586-a160-b2b3464727e7",
   "metadata": {},
   "source": [
    "## [Feature selection using `SelectFromModel`](https://scikit-learn.org/stable/modules/feature_selection.html#feature-selection-using-selectfrommodel)\n",
    "\n",
    "`SelectFromModel` is a **meta-transformer** that can be used alongside any estimator that assigns importance to each feature through:\n",
    "* a specific attribute (such as `coef_`, `feature_importances_`) or \n",
    "* via an `importance_getter()` *callable* \n",
    "\n",
    "after fitting.\n",
    "\n",
    "The features are considered unimportant and removed if the corresponding importance of the feature values are below the provided `threshold` parameter.\n",
    "\n",
    "Apart from specifying the threshold numerically, there are *built-in heuristics for finding a threshold* using a string argument.\n",
    "\n",
    "Available heuristics are: \n",
    "* `\"mean\"`, \n",
    "* `\"median\"` and \n",
    "* *float multiples of these*, like `\"0.1*mean\"`.\n",
    "\n",
    "In combination with the threshold criteria, one can use the `max_features` parameter to set a limit on the number of features to select.\n",
    "\n",
    "For examples on how it is to be used refer to the sections below.\n",
    "\n",
    "**📚 Example:**\n",
    "* [Model-based and sequential feature selection](https://scikit-learn.org/stable/auto_examples/feature_selection/plot_select_from_model_diabetes.html#sphx-glr-auto-examples-feature-selection-plot-select-from-model-diabetes-py)"
   ]
  },
  {
   "cell_type": "markdown",
   "id": "6338b7ab-7117-4c8b-a586-26fff93a5704",
   "metadata": {},
   "source": [
    "### L1-based feature selection\n",
    "\n",
    "Linear models penalized with the `L1` norm **have sparse solutions**: many of their estimated coefficients are zero. \n",
    "\n",
    "When the goal is to reduce the dimensionality of the data to use with another classifier, *they can be used along with `SelectFromModel`* to select the non-zero coefficients. \n",
    "\n",
    "In particular, sparse estimators useful for this purpose are: \n",
    "* the `Lasso` for regression, and \n",
    "* `LogisticRegression` and `LinearSVC` for classification:"
   ]
  },
  {
   "cell_type": "code",
   "execution_count": 9,
   "id": "999eca23-5d92-4165-9db5-bcc1c1861c26",
   "metadata": {},
   "outputs": [
    {
     "name": "stdout",
     "output_type": "stream",
     "text": [
      "(150, 4)\n"
     ]
    }
   ],
   "source": [
    "from sklearn.svm import LinearSVC\n",
    "from sklearn.datasets import load_iris\n",
    "from sklearn.feature_selection import SelectFromModel\n",
    "X, y = load_iris(return_X_y=True)\n",
    "print(X.shape)"
   ]
  },
  {
   "cell_type": "code",
   "execution_count": 10,
   "id": "cb2e2d70-785f-413a-a1e1-b86782749a7e",
   "metadata": {},
   "outputs": [
    {
     "name": "stderr",
     "output_type": "stream",
     "text": [
      "/mnt/space/miniconda3/envs/py38_playaround-sk/lib/python3.8/site-packages/sklearn/svm/_base.py:985: ConvergenceWarning: Liblinear failed to converge, increase the number of iterations.\n",
      "  warnings.warn(\"Liblinear failed to converge, increase \"\n"
     ]
    }
   ],
   "source": [
    "lsvc = LinearSVC(\n",
    "    C=0.01, \n",
    "    penalty=\"l1\",  # <-- l1, THIS IS KEY! \n",
    "    dual=False\n",
    ").fit(X, y)"
   ]
  },
  {
   "cell_type": "code",
   "execution_count": 11,
   "id": "4841da78-f41f-4ee7-b16b-ea7ac40c5feb",
   "metadata": {},
   "outputs": [
    {
     "name": "stdout",
     "output_type": "stream",
     "text": [
      "(150, 3)\n"
     ]
    }
   ],
   "source": [
    "# Now set up the meta-transformer:\n",
    "model = SelectFromModel(\n",
    "    lsvc, \n",
    "    prefit=True\n",
    ")\n",
    "X_new = model.transform(X)\n",
    "print(X_new.shape)"
   ]
  },
  {
   "cell_type": "markdown",
   "id": "5a19a638-198a-4ecc-89fe-ef0e3a4f171c",
   "metadata": {},
   "source": [
    "ℹ️ With SVMs and logistic-regression, the parameter `C` controls the sparsity: the smaller `C` the fewer features selected. With Lasso, the higher the `alpha` parameter, the fewer features selected.\n",
    "\n",
    "**📚 Examples:**\n",
    "* [Classification of text documents using sparse features](https://scikit-learn.org/stable/auto_examples/text/plot_document_classification_20newsgroups.html#sphx-glr-auto-examples-text-plot-document-classification-20newsgroups-py): Comparison of different algorithms for document classification including L1-based feature selection.\n",
    "\n",
    "🎓 For a discussion of \"L1-recovery and compressive sensing\" see [end of this section](https://scikit-learn.org/stable/modules/feature_selection.html#l1-based-feature-selection)."
   ]
  },
  {
   "cell_type": "markdown",
   "id": "3ed3eae4-c848-463d-8ea6-30c50c620ccd",
   "metadata": {},
   "source": [
    "###  Tree-based feature selection\n",
    "\n",
    "Tree-based estimators (see the `sklearn.tree` module and forest of trees in the `sklearn.ensemble` module) can be used to compute impurity-based feature importances, which in turn can be used to discard irrelevant features (when coupled with the `SelectFromModel` meta-transformer):"
   ]
  },
  {
   "cell_type": "code",
   "execution_count": 12,
   "id": "fb600d96-0d5e-48c9-9cb0-12c44a7825dc",
   "metadata": {},
   "outputs": [],
   "source": [
    "from sklearn.ensemble import ExtraTreesClassifier\n",
    "from sklearn.datasets import load_iris\n",
    "from sklearn.feature_selection import SelectFromModel"
   ]
  },
  {
   "cell_type": "code",
   "execution_count": 13,
   "id": "8a6bcc3c-63d7-4041-acba-12d38d0d8266",
   "metadata": {},
   "outputs": [
    {
     "data": {
      "text/plain": [
       "(150, 4)"
      ]
     },
     "execution_count": 13,
     "metadata": {},
     "output_type": "execute_result"
    }
   ],
   "source": [
    "X, y = load_iris(return_X_y=True)\n",
    "X.shape"
   ]
  },
  {
   "cell_type": "code",
   "execution_count": 14,
   "id": "843d1b67-ce20-4ad7-8df5-b1e66881074f",
   "metadata": {},
   "outputs": [
    {
     "data": {
      "text/plain": [
       "array([0.11040523, 0.05410085, 0.43245421, 0.40303971])"
      ]
     },
     "execution_count": 14,
     "metadata": {},
     "output_type": "execute_result"
    }
   ],
   "source": [
    "clf = ExtraTreesClassifier(n_estimators=50)\n",
    "clf = clf.fit(X, y)\n",
    "clf.feature_importances_"
   ]
  },
  {
   "cell_type": "code",
   "execution_count": 15,
   "id": "ae36f2be-a7ca-4586-8c7a-3a62b43e3b9c",
   "metadata": {},
   "outputs": [
    {
     "data": {
      "text/plain": [
       "(150, 2)"
      ]
     },
     "execution_count": 15,
     "metadata": {},
     "output_type": "execute_result"
    }
   ],
   "source": [
    "model = SelectFromModel(clf, prefit=True)  # Meta-transformer.\n",
    "X_new = model.transform(X)\n",
    "X_new.shape"
   ]
  },
  {
   "cell_type": "markdown",
   "id": "3a8cd2ba-6ee2-4f71-a97e-eb8c0e05e030",
   "metadata": {},
   "source": [
    "**📚 Examples:**\n",
    "* [Feature importances with a forest of trees](https://scikit-learn.org/stable/auto_examples/ensemble/plot_forest_importances.html#sphx-glr-auto-examples-ensemble-plot-forest-importances-py): example on synthetic data showing the recovery of the actually meaningful features.\n",
    "* [Pixel importances with a parallel forest of trees](https://scikit-learn.org/stable/auto_examples/ensemble/plot_forest_importances_faces.html#sphx-glr-auto-examples-ensemble-plot-forest-importances-faces-py): example on face recognition data."
   ]
  },
  {
   "cell_type": "markdown",
   "id": "9ec6d0b5-84f2-4cd3-b3fb-3f13172ff706",
   "metadata": {},
   "source": [
    "## [Sequential Feature Selection](https://scikit-learn.org/stable/modules/feature_selection.html#l1-based-feature-selection)\n",
    "\n",
    "**Sequential Feature Selection** (SFS) is available in the `SequentialFeatureSelector` transformer. SFS can be either **forward** or **backward**.\n",
    "\n",
    "**Forward-SFS** is a greedy procedure that iteratively finds the best new feature to add to the set of selected features. Concretely: \n",
    "* We initially start with zero feature and find the one feature that *maximizes a cross-validated score* when an estimator is trained on this single feature. \n",
    "* Once that first feature is selected, we repeat the procedure by adding a new feature to the set of selected features. \n",
    "* The procedure stops when the desired number of selected features is reached, as determined by the `n_features_to_select` parameter.\n",
    "\n",
    "**Backward-SFS** follows the same idea but works in the opposite direction: instead of starting with no feature and greedily adding features, we start with *all* the features and greedily *remove* features from the set. \n",
    "\n",
    "ℹ️ The `direction` parameter controls whether forward or backward SFS is used.\n",
    "\n",
    "In general, forward and backward selection *do not yield equivalent results*. Also, one may be much faster than the other depending on the requested number of selected features: if we have 10 features and ask for 7 selected features, forward selection would need to perform 7 iterations while backward selection would only need to perform 3.\n",
    "\n",
    "ℹ️ SFS differs from `RFE` and `SelectFromModel` in that **it does not require the underlying model to expose a `coef_` or `feature_importances_` attribute**. It may however be **slower** considering that more models need to be evaluated, compared to the other approaches. For example in backward selection, the iteration going from `m` features to `m - 1` features using k-fold cross-validation requires fitting `m * k` models, while `RFE` would require only a single fit, and `SelectFromModel` always just does a single fit and requires no iterations.\n",
    "\n",
    "**📚 Example:**\n",
    "* [Model-based and sequential feature selection](https://scikit-learn.org/stable/auto_examples/feature_selection/plot_select_from_model_diabetes.html#sphx-glr-auto-examples-feature-selection-plot-select-from-model-diabetes-py)"
   ]
  },
  {
   "cell_type": "markdown",
   "id": "1d8cb54c-c366-43c4-ade5-5e760c8cb98f",
   "metadata": {},
   "source": [
    "## [Feature selection as part of a pipeline](https://scikit-learn.org/stable/modules/feature_selection.html#feature-selection-as-part-of-a-pipeline)\n",
    "\n",
    "Feature selection is usually used as a pre-processing step before doing the actual learning. \n",
    "\n",
    "The recommended way to do this in scikit-learn is to use a `Pipeline`:"
   ]
  },
  {
   "cell_type": "code",
   "execution_count": 23,
   "id": "e8f02e63-35a0-47e1-b2e6-298634823945",
   "metadata": {},
   "outputs": [
    {
     "data": {
      "text/plain": [
       "Pipeline(steps=[('feature_selection',\n",
       "                 SelectFromModel(estimator=LinearSVC(dual=False,\n",
       "                                                     max_iter=100000,\n",
       "                                                     penalty='l1'))),\n",
       "                ('classification', RandomForestClassifier())])"
      ]
     },
     "execution_count": 23,
     "metadata": {},
     "output_type": "execute_result"
    }
   ],
   "source": [
    "from sklearn.pipeline import Pipeline\n",
    "from sklearn.ensemble import RandomForestClassifier\n",
    "\n",
    "clf = Pipeline([\n",
    "  ('feature_selection', SelectFromModel(LinearSVC(penalty=\"l1\", dual=False, max_iter=100000))),\n",
    "  ('classification', RandomForestClassifier())\n",
    "])\n",
    "\n",
    "clf.fit(X, y)"
   ]
  },
  {
   "cell_type": "markdown",
   "id": "f4e428f8-86b2-459c-acad-05efcd8a7b56",
   "metadata": {},
   "source": [
    "In this snippet we make use of a `LinearSVC` coupled with `SelectFromModel` to evaluate feature importances and select the most relevant features.\n",
    "\n",
    "Then, a `RandomForestClassifier` is trained on the transformed output, i.e. using only relevant features. You can perform similar operations with the other feature selection methods and also classifiers that provide a way to evaluate feature importances of course. See the `Pipeline` examples for more details."
   ]
  }
 ],
 "metadata": {
  "kernelspec": {
   "display_name": "Python 3",
   "language": "python",
   "name": "python3"
  },
  "language_info": {
   "codemirror_mode": {
    "name": "ipython",
    "version": 3
   },
   "file_extension": ".py",
   "mimetype": "text/x-python",
   "name": "python",
   "nbconvert_exporter": "python",
   "pygments_lexer": "ipython3",
   "version": "3.8.10"
  }
 },
 "nbformat": 4,
 "nbformat_minor": 5
}
