{
 "cells": [
  {
   "cell_type": "markdown",
   "id": "1a2fd539-f1ba-4e04-8524-3b887ee10499",
   "metadata": {},
   "source": [
    "# Getting Started\n",
    "\n",
    "From thois guide: https://scikit-learn.org/stable/getting_started.html"
   ]
  },
  {
   "cell_type": "code",
   "execution_count": 2,
   "id": "f564bae4-975f-4dc8-b56d-749802045e86",
   "metadata": {},
   "outputs": [
    {
     "name": "stdout",
     "output_type": "stream",
     "text": [
      "sklearn version: 0.24.2\n"
     ]
    }
   ],
   "source": [
    "import sklearn\n",
    "print(\"sklearn version:\", sklearn.__version__)"
   ]
  },
  {
   "cell_type": "markdown",
   "id": "2ef185e8-cf10-4680-9922-8db539dd3967",
   "metadata": {},
   "source": [
    "### 1. Estimator"
   ]
  },
  {
   "cell_type": "code",
   "execution_count": 3,
   "id": "7e01ae71-0428-4486-8965-26307b4bb916",
   "metadata": {},
   "outputs": [],
   "source": [
    "from sklearn.ensemble import RandomForestClassifier\n",
    "clf = RandomForestClassifier(random_state=0)"
   ]
  },
  {
   "cell_type": "code",
   "execution_count": 9,
   "id": "992c1b3d-b0c2-40ff-b815-2611b0904dbd",
   "metadata": {},
   "outputs": [
    {
     "name": "stdout",
     "output_type": "stream",
     "text": [
      "[[1, 2, 3], [11, 12, 13]]\n",
      "[0, 1]\n"
     ]
    }
   ],
   "source": [
    "X = [[ 1,  2,  3],  # 2 samples, 3 features\n",
    "     [11, 12, 13]]\n",
    "\n",
    "y = [0, 1]  # classes of each sample\n",
    "\n",
    "print(X)\n",
    "print(y)"
   ]
  },
  {
   "cell_type": "markdown",
   "id": "d832b120-51cb-4d85-bbae-d5014301488b",
   "metadata": {},
   "source": [
    "`.fit()` call:"
   ]
  },
  {
   "cell_type": "code",
   "execution_count": 10,
   "id": "08786cce-2679-4f44-b9ec-198f3b26d178",
   "metadata": {},
   "outputs": [
    {
     "data": {
      "text/plain": [
       "RandomForestClassifier(random_state=0)"
      ]
     },
     "execution_count": 10,
     "metadata": {},
     "output_type": "execute_result"
    }
   ],
   "source": [
    "clf.fit(X, y)"
   ]
  },
  {
   "cell_type": "markdown",
   "id": "4b14aff4-9fac-4b81-a6f6-728d5dff4c5d",
   "metadata": {},
   "source": [
    "`.predict()` call:"
   ]
  },
  {
   "cell_type": "code",
   "execution_count": 11,
   "id": "74c391a5-319c-498b-bfa5-03ce7feaf93f",
   "metadata": {},
   "outputs": [
    {
     "data": {
      "text/plain": [
       "array([0, 1])"
      ]
     },
     "execution_count": 11,
     "metadata": {},
     "output_type": "execute_result"
    }
   ],
   "source": [
    "clf.predict(X)  # predict classes of the training data"
   ]
  },
  {
   "cell_type": "code",
   "execution_count": 12,
   "id": "21e5cec3-4d1a-4bc4-b218-d6be34b902e4",
   "metadata": {},
   "outputs": [
    {
     "data": {
      "text/plain": [
       "array([0, 1])"
      ]
     },
     "execution_count": 12,
     "metadata": {},
     "output_type": "execute_result"
    }
   ],
   "source": [
    "clf.predict([[4, 5, 6], [14, 15, 16]])  # predict classes of new data"
   ]
  },
  {
   "cell_type": "markdown",
   "id": "2df49cbe-4566-4cef-a573-e4b7cdbea6e5",
   "metadata": {},
   "source": [
    "### 2. Transformers (pre-processors)\n",
    "\n",
    "Note this quote:\n",
    "> A typical pipeline consists of a pre-processing step that transforms or imputes the data, and *a final predictor that predicts target values*.\n",
    "\n",
    "**💡 Design note:**\n",
    "In scikit-learn, pre-processors and transformers follow the same API as the estimator objects (they actually all inherit from the same `BaseEstimator` class). "
   ]
  },
  {
   "cell_type": "code",
   "execution_count": 13,
   "id": "ee4734b0-fcf3-43b5-9a83-ad3d1c261aef",
   "metadata": {},
   "outputs": [],
   "source": [
    "from sklearn.preprocessing import StandardScaler"
   ]
  },
  {
   "cell_type": "code",
   "execution_count": 14,
   "id": "3a1ab492-8ab1-4cdf-ac1e-8b69d665184d",
   "metadata": {},
   "outputs": [
    {
     "data": {
      "text/plain": [
       "array([[-1.,  1.],\n",
       "       [ 1., -1.]])"
      ]
     },
     "execution_count": 14,
     "metadata": {},
     "output_type": "execute_result"
    }
   ],
   "source": [
    "X = [[0, 15],\n",
    "     [1, -10]]\n",
    "# scale data according to computed scaling values\n",
    "StandardScaler().fit(X).transform(X)"
   ]
  },
  {
   "cell_type": "markdown",
   "id": "524f3075-a3bb-48e9-ba8b-74ec8ed01734",
   "metadata": {},
   "source": [
    "### 3. Pipelines\n",
    "\n",
    "> The pipeline offers the same API as a regular estimator: it can be fitted and used for prediction with `fit` and `predict`.\n",
    "\n",
    "In the following example, we load the Iris dataset, split it into train and test sets, and compute the accuracy score of a pipeline on the test data:"
   ]
  },
  {
   "cell_type": "code",
   "execution_count": 15,
   "id": "70c9243b-6045-4955-baa5-48b1b3a9db01",
   "metadata": {},
   "outputs": [],
   "source": [
    "from sklearn.preprocessing import StandardScaler\n",
    "from sklearn.linear_model import LogisticRegression\n",
    "from sklearn.pipeline import make_pipeline\n",
    "from sklearn.datasets import load_iris\n",
    "from sklearn.model_selection import train_test_split\n",
    "from sklearn.metrics import accuracy_score"
   ]
  },
  {
   "cell_type": "code",
   "execution_count": 16,
   "id": "837cc65c-87f1-4b80-b5a6-55cf6aa26aca",
   "metadata": {},
   "outputs": [],
   "source": [
    "# create a pipeline object\n",
    "pipe = make_pipeline(\n",
    "    StandardScaler(),\n",
    "    LogisticRegression()\n",
    ")"
   ]
  },
  {
   "cell_type": "code",
   "execution_count": 17,
   "id": "73b196ec-f91b-4d3b-b9e5-4dd8ddd4ba53",
   "metadata": {},
   "outputs": [],
   "source": [
    "# load the iris dataset and split it into train and test sets\n",
    "X, y = load_iris(return_X_y=True)\n",
    "X_train, X_test, y_train, y_test = train_test_split(X, y, random_state=0)"
   ]
  },
  {
   "cell_type": "code",
   "execution_count": 18,
   "id": "110b6084-42e9-4d42-ae69-66ac2cecbf73",
   "metadata": {},
   "outputs": [
    {
     "data": {
      "text/plain": [
       "Pipeline(steps=[('standardscaler', StandardScaler()),\n",
       "                ('logisticregression', LogisticRegression())])"
      ]
     },
     "execution_count": 18,
     "metadata": {},
     "output_type": "execute_result"
    }
   ],
   "source": [
    "# fit the whole pipeline\n",
    "pipe.fit(X_train, y_train)"
   ]
  },
  {
   "cell_type": "code",
   "execution_count": 19,
   "id": "56e11d52-1f90-47f2-8162-33888e399f27",
   "metadata": {},
   "outputs": [
    {
     "data": {
      "text/plain": [
       "0.9736842105263158"
      ]
     },
     "execution_count": 19,
     "metadata": {},
     "output_type": "execute_result"
    }
   ],
   "source": [
    "# we can now use it like any other estimator\n",
    "accuracy_score(pipe.predict(X_test), y_test)"
   ]
  },
  {
   "cell_type": "markdown",
   "id": "c1371640-e505-4378-ad4b-2e1a3c3e5d86",
   "metadata": {},
   "source": [
    "### 4. Automatic parameter searches\n",
    "\n",
    "Scikit-learn provides tools to automatically find the best parameter combinations **(via cross-validation)**. In the following example, we randomly search over the parameter space of a random forest with a `RandomizedSearchCV` object. \n",
    "\n",
    "When the search is over, the `RandomizedSearchCV` behaves as a RandomForestRegressor that has been fitted with the best set of parameters. "
   ]
  },
  {
   "cell_type": "code",
   "execution_count": 20,
   "id": "74ddacf0-ce1f-479f-b35f-ef4ef9aff633",
   "metadata": {},
   "outputs": [],
   "source": [
    "from sklearn.datasets import fetch_california_housing\n",
    "from sklearn.ensemble import RandomForestRegressor\n",
    "from sklearn.model_selection import RandomizedSearchCV\n",
    "from sklearn.model_selection import train_test_split\n",
    "from scipy.stats import randint"
   ]
  },
  {
   "cell_type": "code",
   "execution_count": 21,
   "id": "3a686cf7-8bf8-4776-8762-af4e695bcfd5",
   "metadata": {},
   "outputs": [],
   "source": [
    "X, y = fetch_california_housing(return_X_y=True)\n",
    "X_train, X_test, y_train, y_test = train_test_split(X, y, random_state=0)"
   ]
  },
  {
   "cell_type": "code",
   "execution_count": 22,
   "id": "3a216eb0-efef-4ec2-bc28-54c38fa2195f",
   "metadata": {},
   "outputs": [],
   "source": [
    "# define the parameter space that will be searched over\n",
    "param_distributions = {'n_estimators': randint(1, 5),\n",
    "                       'max_depth': randint(5, 10)}"
   ]
  },
  {
   "cell_type": "code",
   "execution_count": 24,
   "id": "e17abd21-18a7-4679-abce-a5794453a10b",
   "metadata": {},
   "outputs": [
    {
     "data": {
      "text/plain": [
       "RandomizedSearchCV(estimator=RandomForestRegressor(random_state=0), n_iter=5,\n",
       "                   param_distributions={'max_depth': <scipy.stats._distn_infrastructure.rv_frozen object at 0x7fe751835bb0>,\n",
       "                                        'n_estimators': <scipy.stats._distn_infrastructure.rv_frozen object at 0x7fe751265700>},\n",
       "                   random_state=0)"
      ]
     },
     "execution_count": 24,
     "metadata": {},
     "output_type": "execute_result"
    }
   ],
   "source": [
    "# now create a searchCV object and fit it to the data\n",
    "search = RandomizedSearchCV(\n",
    "    estimator=RandomForestRegressor(random_state=0),\n",
    "    n_iter=5,\n",
    "    param_distributions=param_distributions,\n",
    "    random_state=0\n",
    ")\n",
    "search.fit(X_train, y_train)"
   ]
  },
  {
   "cell_type": "code",
   "execution_count": 25,
   "id": "dcbcb497-db4d-47d6-a38c-0982bf2179cf",
   "metadata": {},
   "outputs": [
    {
     "data": {
      "text/plain": [
       "{'max_depth': 9, 'n_estimators': 4}"
      ]
     },
     "execution_count": 25,
     "metadata": {},
     "output_type": "execute_result"
    }
   ],
   "source": [
    "search.best_params_"
   ]
  },
  {
   "cell_type": "code",
   "execution_count": 26,
   "id": "f032a63f-cf08-402e-877b-926510b01564",
   "metadata": {},
   "outputs": [
    {
     "data": {
      "text/plain": [
       "0.735363411343253"
      ]
     },
     "execution_count": 26,
     "metadata": {},
     "output_type": "execute_result"
    }
   ],
   "source": [
    "# the search object now acts like a normal random forest estimator\n",
    "# with max_depth=9 and n_estimators=4\n",
    "search.score(X_test, y_test)"
   ]
  },
  {
   "cell_type": "markdown",
   "id": "f454cfa4-9cf5-4a3d-8949-0c0537debaa5",
   "metadata": {},
   "source": [
    "#### ‼️ Note `Pipeline`s, hyperparameter search, and leakage\n",
    "\n",
    "In practice, you almost always want to search over a pipeline, instead of a single estimator. One of the main reasons is that if you apply a pre-processing step to the whole dataset without using a pipeline, and then perform any kind of cross-validation, you would be breaking the fundamental assumption of independence between training and testing data. Indeed, since you pre-processed the data using the whole dataset, some information about the test sets are available to the train sets. This will lead to over-estimating the generalization power of the estimator (you can read more in this Kaggle post).\n",
    "\n",
    "Using a pipeline for cross-validation and searching will largely keep you from this common pitfall."
   ]
  }
 ],
 "metadata": {
  "kernelspec": {
   "display_name": "Python 3",
   "language": "python",
   "name": "python3"
  },
  "language_info": {
   "codemirror_mode": {
    "name": "ipython",
    "version": 3
   },
   "file_extension": ".py",
   "mimetype": "text/x-python",
   "name": "python",
   "nbconvert_exporter": "python",
   "pygments_lexer": "ipython3",
   "version": "3.8.10"
  }
 },
 "nbformat": 4,
 "nbformat_minor": 5
}
