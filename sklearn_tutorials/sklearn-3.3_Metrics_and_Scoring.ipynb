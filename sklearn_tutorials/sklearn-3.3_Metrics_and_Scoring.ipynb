{
 "cells": [
  {
   "cell_type": "markdown",
   "id": "2b932476-65f6-45bc-8116-5718d20b0eb1",
   "metadata": {},
   "source": [
    "# Metrics and scoring: quantifying the quality of predictions\n",
    "\n",
    "From this guide: https://scikit-learn.org/stable/modules/model_evaluation.html"
   ]
  },
  {
   "cell_type": "markdown",
   "id": "2e38be52-9bb1-439d-9543-75d88ec8946a",
   "metadata": {},
   "source": [
    "---\n",
    "\n",
    "#### ⚠️📚 Most of this guide is fairly theoretical and requires detailed reading, here only the basics are covered. Parts skipped are indicated with \\[🚧\\].\n",
    "\n",
    "---"
   ]
  },
  {
   "cell_type": "markdown",
   "id": "53fe2b37-78c1-4321-8bba-5934e993035b",
   "metadata": {},
   "source": [
    "## Overview\n",
    "\n",
    "* There are **3 different APIs** for evaluating the quality of a model’s predictions:\n",
    "    * **Estimator score method:** Estimators have a `score` method providing a *default evaluation criterion* for the problem they are designed to solve. This is not discussed on this page, but in each estimator’s documentation.\n",
    "    * **Scoring parameter**: Model-evaluation tools using cross-validation (such as `model_selection.cross_val_score` and `model_selection.GridSearchCV`) rely on an internal scoring strategy. This is discussed in the section *The scoring parameter: defining model evaluation rules*.\n",
    "    * **Metric functions**: The `sklearn.metrics` module implements *functions* assessing prediction error for specific purposes. These metrics are detailed in sections on *Classification metrics*, *Multilabel ranking metrics*, *Regression metrics* and *Clustering metrics*.\n",
    "\n",
    "\n",
    "* Finally, *Dummy estimators* are useful **to get a baseline value of those metrics for random predictions**.\n",
    "\n",
    "* **See also:** For **“pairwise”** metrics, *between samples and not estimators or predictions*, see the [Pairwise metrics, Affinities and Kernels section](https://scikit-learn.org/stable/modules/metrics.html#metrics). "
   ]
  },
  {
   "cell_type": "markdown",
   "id": "3e366e0b-1e19-449c-bf7b-4ce1e685996e",
   "metadata": {},
   "source": [
    "## [The `scoring` parameter: defining model evaluation rules](https://scikit-learn.org/stable/modules/model_evaluation.html#the-scoring-parameter-defining-model-evaluation-rules)\n",
    "\n",
    "Model selection and evaluation using tools, such as \n",
    "* `model_selection.GridSearchCV` and \n",
    "* `model_selection.cross_val_score`, \n",
    "\n",
    "take a `scoring` parameter that controls what metric they apply to the estimators evaluated.\n"
   ]
  },
  {
   "cell_type": "markdown",
   "id": "6a784d72-0bb5-499a-b385-f6c9434f5851",
   "metadata": {},
   "source": [
    "### [Common cases: *predefined* values](https://scikit-learn.org/stable/modules/model_evaluation.html#common-cases-predefined-values)\n",
    "\n",
    "For the most common use cases, you can designate a *scorer object* with the `scoring` parameter; the table below shows all possible values. \n",
    "\n",
    "‼️ All **scorer objects** follow the convention that **higher return values are better than lower return values**. ‼️ \n",
    "\n",
    "Thus metrics which measure the distance between the model and the data, like `metrics.mean_squared_error`, are available as `neg_mean_squared_error` which return the negated value of the metric.\n",
    "\n",
    "* Note 3 categories: **Classification**, **Clustering**, **Regression**."
   ]
  },
  {
   "cell_type": "code",
   "execution_count": 1,
   "id": "0bc0833f-b97f-4c9a-bb54-3644dfa381ef",
   "metadata": {},
   "outputs": [
    {
     "data": {
      "text/html": [
       "<style>\n",
       "table.mytable td > p {\n",
       "    margin-bottom: 0em !important;\n",
       "    line-height: 0.5 !important;\n",
       "}\n",
       "</style>\n"
      ],
      "text/plain": [
       "<IPython.core.display.HTML object>"
      ]
     },
     "metadata": {},
     "output_type": "display_data"
    }
   ],
   "source": [
    "%%html\n",
    "<style>\n",
    "table.mytable td > p {\n",
    "    margin-bottom: 0em !important;\n",
    "    line-height: 0.5 !important;\n",
    "}\n",
    "</style>"
   ]
  },
  {
   "cell_type": "markdown",
   "id": "7c429584-f10e-4956-baac-56a03ad6e805",
   "metadata": {},
   "source": [
    "<table class=\"docutils align-default mytable\" style=\"margin-left:0; margin-right:auto;\">\n",
    "<colgroup>\n",
    "<col style=\"width: 31%\">\n",
    "<col style=\"width: 40%\">\n",
    "<col style=\"width: 29%\">\n",
    "</colgroup>\n",
    "<thead>\n",
    "<tr class=\"row-odd\"><th class=\"head\"><p>Scoring</p></th>\n",
    "<th class=\"head\"><p>Function</p></th>\n",
    "<th class=\"head\"><p>Comment</p></th>\n",
    "</tr>\n",
    "</thead>\n",
    "<tbody>\n",
    "<tr class=\"row-even\"><td><p><strong>Classification</strong></p></td>\n",
    "<td></td>\n",
    "<td></td>\n",
    "</tr>\n",
    "<tr class=\"row-odd\"><td><p>‘accuracy’</p></td>\n",
    "<td><p><a class=\"reference internal\" href=\"generated/sklearn.metrics.accuracy_score.html#sklearn.metrics.accuracy_score\" title=\"sklearn.metrics.accuracy_score\"><code class=\"xref py py-func docutils literal notranslate\"><span class=\"pre\">metrics.accuracy_score</span></code></a></p></td>\n",
    "<td></td>\n",
    "</tr>\n",
    "<tr class=\"row-even\"><td><p>‘balanced_accuracy’</p></td>\n",
    "<td><p><a class=\"reference internal\" href=\"generated/sklearn.metrics.balanced_accuracy_score.html#sklearn.metrics.balanced_accuracy_score\" title=\"sklearn.metrics.balanced_accuracy_score\"><code class=\"xref py py-func docutils literal notranslate\"><span class=\"pre\">metrics.balanced_accuracy_score</span></code></a></p></td>\n",
    "<td></td>\n",
    "</tr>\n",
    "<tr class=\"row-odd\"><td><p>‘top_k_accuracy’</p></td>\n",
    "<td><p><a class=\"reference internal\" href=\"generated/sklearn.metrics.top_k_accuracy_score.html#sklearn.metrics.top_k_accuracy_score\" title=\"sklearn.metrics.top_k_accuracy_score\"><code class=\"xref py py-func docutils literal notranslate\"><span class=\"pre\">metrics.top_k_accuracy_score</span></code></a></p></td>\n",
    "<td></td>\n",
    "</tr>\n",
    "<tr class=\"row-even\"><td><p>‘average_precision’</p></td>\n",
    "<td><p><a class=\"reference internal\" href=\"generated/sklearn.metrics.average_precision_score.html#sklearn.metrics.average_precision_score\" title=\"sklearn.metrics.average_precision_score\"><code class=\"xref py py-func docutils literal notranslate\"><span class=\"pre\">metrics.average_precision_score</span></code></a></p></td>\n",
    "<td></td>\n",
    "</tr>\n",
    "<tr class=\"row-odd\"><td><p>‘neg_brier_score’</p></td>\n",
    "<td><p><a class=\"reference internal\" href=\"generated/sklearn.metrics.brier_score_loss.html#sklearn.metrics.brier_score_loss\" title=\"sklearn.metrics.brier_score_loss\"><code class=\"xref py py-func docutils literal notranslate\"><span class=\"pre\">metrics.brier_score_loss</span></code></a></p></td>\n",
    "<td></td>\n",
    "</tr>\n",
    "<tr class=\"row-even\"><td><p>‘f1’</p></td>\n",
    "<td><p><a class=\"reference internal\" href=\"generated/sklearn.metrics.f1_score.html#sklearn.metrics.f1_score\" title=\"sklearn.metrics.f1_score\"><code class=\"xref py py-func docutils literal notranslate\"><span class=\"pre\">metrics.f1_score</span></code></a></p></td>\n",
    "<td><p>for binary targets</p></td>\n",
    "</tr>\n",
    "<tr class=\"row-odd\"><td><p>‘f1_micro’</p></td>\n",
    "<td><p><a class=\"reference internal\" href=\"generated/sklearn.metrics.f1_score.html#sklearn.metrics.f1_score\" title=\"sklearn.metrics.f1_score\"><code class=\"xref py py-func docutils literal notranslate\"><span class=\"pre\">metrics.f1_score</span></code></a></p></td>\n",
    "<td><p>micro-averaged</p></td>\n",
    "</tr>\n",
    "<tr class=\"row-even\"><td><p>‘f1_macro’</p></td>\n",
    "<td><p><a class=\"reference internal\" href=\"generated/sklearn.metrics.f1_score.html#sklearn.metrics.f1_score\" title=\"sklearn.metrics.f1_score\"><code class=\"xref py py-func docutils literal notranslate\"><span class=\"pre\">metrics.f1_score</span></code></a></p></td>\n",
    "<td><p>macro-averaged</p></td>\n",
    "</tr>\n",
    "<tr class=\"row-odd\"><td><p>‘f1_weighted’</p></td>\n",
    "<td><p><a class=\"reference internal\" href=\"generated/sklearn.metrics.f1_score.html#sklearn.metrics.f1_score\" title=\"sklearn.metrics.f1_score\"><code class=\"xref py py-func docutils literal notranslate\"><span class=\"pre\">metrics.f1_score</span></code></a></p></td>\n",
    "<td><p>weighted average</p></td>\n",
    "</tr>\n",
    "<tr class=\"row-even\"><td><p>‘f1_samples’</p></td>\n",
    "<td><p><a class=\"reference internal\" href=\"generated/sklearn.metrics.f1_score.html#sklearn.metrics.f1_score\" title=\"sklearn.metrics.f1_score\"><code class=\"xref py py-func docutils literal notranslate\"><span class=\"pre\">metrics.f1_score</span></code></a></p></td>\n",
    "<td><p>by multilabel sample</p></td>\n",
    "</tr>\n",
    "<tr class=\"row-odd\"><td><p>‘neg_log_loss’</p></td>\n",
    "<td><p><a class=\"reference internal\" href=\"generated/sklearn.metrics.log_loss.html#sklearn.metrics.log_loss\" title=\"sklearn.metrics.log_loss\"><code class=\"xref py py-func docutils literal notranslate\"><span class=\"pre\">metrics.log_loss</span></code></a></p></td>\n",
    "<td><p>requires <code class=\"docutils literal notranslate\"><span class=\"pre\">predict_proba</span></code> support</p></td>\n",
    "</tr>\n",
    "<tr class=\"row-even\"><td><p>‘precision’ etc.</p></td>\n",
    "<td><p><a class=\"reference internal\" href=\"generated/sklearn.metrics.precision_score.html#sklearn.metrics.precision_score\" title=\"sklearn.metrics.precision_score\"><code class=\"xref py py-func docutils literal notranslate\"><span class=\"pre\">metrics.precision_score</span></code></a></p></td>\n",
    "<td><p>suffixes apply as with ‘f1’</p></td>\n",
    "</tr>\n",
    "<tr class=\"row-odd\"><td><p>‘recall’ etc.</p></td>\n",
    "<td><p><a class=\"reference internal\" href=\"generated/sklearn.metrics.recall_score.html#sklearn.metrics.recall_score\" title=\"sklearn.metrics.recall_score\"><code class=\"xref py py-func docutils literal notranslate\"><span class=\"pre\">metrics.recall_score</span></code></a></p></td>\n",
    "<td><p>suffixes apply as with ‘f1’</p></td>\n",
    "</tr>\n",
    "<tr class=\"row-even\"><td><p>‘jaccard’ etc.</p></td>\n",
    "<td><p><a class=\"reference internal\" href=\"generated/sklearn.metrics.jaccard_score.html#sklearn.metrics.jaccard_score\" title=\"sklearn.metrics.jaccard_score\"><code class=\"xref py py-func docutils literal notranslate\"><span class=\"pre\">metrics.jaccard_score</span></code></a></p></td>\n",
    "<td><p>suffixes apply as with ‘f1’</p></td>\n",
    "</tr>\n",
    "<tr class=\"row-odd\"><td><p>‘roc_auc’</p></td>\n",
    "<td><p><a class=\"reference internal\" href=\"generated/sklearn.metrics.roc_auc_score.html#sklearn.metrics.roc_auc_score\" title=\"sklearn.metrics.roc_auc_score\"><code class=\"xref py py-func docutils literal notranslate\"><span class=\"pre\">metrics.roc_auc_score</span></code></a></p></td>\n",
    "<td></td>\n",
    "</tr>\n",
    "<tr class=\"row-even\"><td><p>‘roc_auc_ovr’</p></td>\n",
    "<td><p><a class=\"reference internal\" href=\"generated/sklearn.metrics.roc_auc_score.html#sklearn.metrics.roc_auc_score\" title=\"sklearn.metrics.roc_auc_score\"><code class=\"xref py py-func docutils literal notranslate\"><span class=\"pre\">metrics.roc_auc_score</span></code></a></p></td>\n",
    "<td></td>\n",
    "</tr>\n",
    "<tr class=\"row-odd\"><td><p>‘roc_auc_ovo’</p></td>\n",
    "<td><p><a class=\"reference internal\" href=\"generated/sklearn.metrics.roc_auc_score.html#sklearn.metrics.roc_auc_score\" title=\"sklearn.metrics.roc_auc_score\"><code class=\"xref py py-func docutils literal notranslate\"><span class=\"pre\">metrics.roc_auc_score</span></code></a></p></td>\n",
    "<td></td>\n",
    "</tr>\n",
    "<tr class=\"row-even\"><td><p>‘roc_auc_ovr_weighted’</p></td>\n",
    "<td><p><a class=\"reference internal\" href=\"generated/sklearn.metrics.roc_auc_score.html#sklearn.metrics.roc_auc_score\" title=\"sklearn.metrics.roc_auc_score\"><code class=\"xref py py-func docutils literal notranslate\"><span class=\"pre\">metrics.roc_auc_score</span></code></a></p></td>\n",
    "<td></td>\n",
    "</tr>\n",
    "<tr class=\"row-odd\"><td><p>‘roc_auc_ovo_weighted’</p></td>\n",
    "<td><p><a class=\"reference internal\" href=\"generated/sklearn.metrics.roc_auc_score.html#sklearn.metrics.roc_auc_score\" title=\"sklearn.metrics.roc_auc_score\"><code class=\"xref py py-func docutils literal notranslate\"><span class=\"pre\">metrics.roc_auc_score</span></code></a></p></td>\n",
    "<td></td>\n",
    "</tr>\n",
    "<tr class=\"row-even\"><td><p><strong>Clustering</strong></p></td>\n",
    "<td></td>\n",
    "<td></td>\n",
    "</tr>\n",
    "<tr class=\"row-odd\"><td><p>‘adjusted_mutual_info_score’</p></td>\n",
    "<td><p><a class=\"reference internal\" href=\"generated/sklearn.metrics.adjusted_mutual_info_score.html#sklearn.metrics.adjusted_mutual_info_score\" title=\"sklearn.metrics.adjusted_mutual_info_score\"><code class=\"xref py py-func docutils literal notranslate\"><span class=\"pre\">metrics.adjusted_mutual_info_score</span></code></a></p></td>\n",
    "<td></td>\n",
    "</tr>\n",
    "<tr class=\"row-even\"><td><p>‘adjusted_rand_score’</p></td>\n",
    "<td><p><a class=\"reference internal\" href=\"generated/sklearn.metrics.adjusted_rand_score.html#sklearn.metrics.adjusted_rand_score\" title=\"sklearn.metrics.adjusted_rand_score\"><code class=\"xref py py-func docutils literal notranslate\"><span class=\"pre\">metrics.adjusted_rand_score</span></code></a></p></td>\n",
    "<td></td>\n",
    "</tr>\n",
    "<tr class=\"row-odd\"><td><p>‘completeness_score’</p></td>\n",
    "<td><p><a class=\"reference internal\" href=\"generated/sklearn.metrics.completeness_score.html#sklearn.metrics.completeness_score\" title=\"sklearn.metrics.completeness_score\"><code class=\"xref py py-func docutils literal notranslate\"><span class=\"pre\">metrics.completeness_score</span></code></a></p></td>\n",
    "<td></td>\n",
    "</tr>\n",
    "<tr class=\"row-even\"><td><p>‘fowlkes_mallows_score’</p></td>\n",
    "<td><p><a class=\"reference internal\" href=\"generated/sklearn.metrics.fowlkes_mallows_score.html#sklearn.metrics.fowlkes_mallows_score\" title=\"sklearn.metrics.fowlkes_mallows_score\"><code class=\"xref py py-func docutils literal notranslate\"><span class=\"pre\">metrics.fowlkes_mallows_score</span></code></a></p></td>\n",
    "<td></td>\n",
    "</tr>\n",
    "<tr class=\"row-odd\"><td><p>‘homogeneity_score’</p></td>\n",
    "<td><p><a class=\"reference internal\" href=\"generated/sklearn.metrics.homogeneity_score.html#sklearn.metrics.homogeneity_score\" title=\"sklearn.metrics.homogeneity_score\"><code class=\"xref py py-func docutils literal notranslate\"><span class=\"pre\">metrics.homogeneity_score</span></code></a></p></td>\n",
    "<td></td>\n",
    "</tr>\n",
    "<tr class=\"row-even\"><td><p>‘mutual_info_score’</p></td>\n",
    "<td><p><a class=\"reference internal\" href=\"generated/sklearn.metrics.mutual_info_score.html#sklearn.metrics.mutual_info_score\" title=\"sklearn.metrics.mutual_info_score\"><code class=\"xref py py-func docutils literal notranslate\"><span class=\"pre\">metrics.mutual_info_score</span></code></a></p></td>\n",
    "<td></td>\n",
    "</tr>\n",
    "<tr class=\"row-odd\"><td><p>‘normalized_mutual_info_score’</p></td>\n",
    "<td><p><a class=\"reference internal\" href=\"generated/sklearn.metrics.normalized_mutual_info_score.html#sklearn.metrics.normalized_mutual_info_score\" title=\"sklearn.metrics.normalized_mutual_info_score\"><code class=\"xref py py-func docutils literal notranslate\"><span class=\"pre\">metrics.normalized_mutual_info_score</span></code></a></p></td>\n",
    "<td></td>\n",
    "</tr>\n",
    "<tr class=\"row-even\"><td><p>‘rand_score’</p></td>\n",
    "<td><p><a class=\"reference internal\" href=\"generated/sklearn.metrics.rand_score.html#sklearn.metrics.rand_score\" title=\"sklearn.metrics.rand_score\"><code class=\"xref py py-func docutils literal notranslate\"><span class=\"pre\">metrics.rand_score</span></code></a></p></td>\n",
    "<td></td>\n",
    "</tr>\n",
    "<tr class=\"row-odd\"><td><p>‘v_measure_score’</p></td>\n",
    "<td><p><a class=\"reference internal\" href=\"generated/sklearn.metrics.v_measure_score.html#sklearn.metrics.v_measure_score\" title=\"sklearn.metrics.v_measure_score\"><code class=\"xref py py-func docutils literal notranslate\"><span class=\"pre\">metrics.v_measure_score</span></code></a></p></td>\n",
    "<td></td>\n",
    "</tr>\n",
    "<tr class=\"row-even\"><td><p><strong>Regression</strong></p></td>\n",
    "<td></td>\n",
    "<td></td>\n",
    "</tr>\n",
    "<tr class=\"row-odd\"><td><p>‘explained_variance’</p></td>\n",
    "<td><p><a class=\"reference internal\" href=\"generated/sklearn.metrics.explained_variance_score.html#sklearn.metrics.explained_variance_score\" title=\"sklearn.metrics.explained_variance_score\"><code class=\"xref py py-func docutils literal notranslate\"><span class=\"pre\">metrics.explained_variance_score</span></code></a></p></td>\n",
    "<td></td>\n",
    "</tr>\n",
    "<tr class=\"row-even\"><td><p>‘max_error’</p></td>\n",
    "<td><p><a class=\"reference internal\" href=\"generated/sklearn.metrics.max_error.html#sklearn.metrics.max_error\" title=\"sklearn.metrics.max_error\"><code class=\"xref py py-func docutils literal notranslate\"><span class=\"pre\">metrics.max_error</span></code></a></p></td>\n",
    "<td></td>\n",
    "</tr>\n",
    "<tr class=\"row-odd\"><td><p>‘neg_mean_absolute_error’</p></td>\n",
    "<td><p><a class=\"reference internal\" href=\"generated/sklearn.metrics.mean_absolute_error.html#sklearn.metrics.mean_absolute_error\" title=\"sklearn.metrics.mean_absolute_error\"><code class=\"xref py py-func docutils literal notranslate\"><span class=\"pre\">metrics.mean_absolute_error</span></code></a></p></td>\n",
    "<td><b>Note \"neg_\" here and in several others!</b></td>\n",
    "</tr>\n",
    "<tr class=\"row-even\"><td><p>‘neg_mean_squared_error’</p></td>\n",
    "<td><p><a class=\"reference internal\" href=\"generated/sklearn.metrics.mean_squared_error.html#sklearn.metrics.mean_squared_error\" title=\"sklearn.metrics.mean_squared_error\"><code class=\"xref py py-func docutils literal notranslate\"><span class=\"pre\">metrics.mean_squared_error</span></code></a></p></td>\n",
    "<td></td>\n",
    "</tr>\n",
    "<tr class=\"row-odd\"><td><p>‘neg_root_mean_squared_error’</p></td>\n",
    "<td><p><a class=\"reference internal\" href=\"generated/sklearn.metrics.mean_squared_error.html#sklearn.metrics.mean_squared_error\" title=\"sklearn.metrics.mean_squared_error\"><code class=\"xref py py-func docutils literal notranslate\"><span class=\"pre\">metrics.mean_squared_error</span></code></a></p></td>\n",
    "<td></td>\n",
    "</tr>\n",
    "<tr class=\"row-even\"><td><p>‘neg_mean_squared_log_error’</p></td>\n",
    "<td><p><a class=\"reference internal\" href=\"generated/sklearn.metrics.mean_squared_log_error.html#sklearn.metrics.mean_squared_log_error\" title=\"sklearn.metrics.mean_squared_log_error\"><code class=\"xref py py-func docutils literal notranslate\"><span class=\"pre\">metrics.mean_squared_log_error</span></code></a></p></td>\n",
    "<td></td>\n",
    "</tr>\n",
    "<tr class=\"row-odd\"><td><p>‘neg_median_absolute_error’</p></td>\n",
    "<td><p><a class=\"reference internal\" href=\"generated/sklearn.metrics.median_absolute_error.html#sklearn.metrics.median_absolute_error\" title=\"sklearn.metrics.median_absolute_error\"><code class=\"xref py py-func docutils literal notranslate\"><span class=\"pre\">metrics.median_absolute_error</span></code></a></p></td>\n",
    "<td></td>\n",
    "</tr>\n",
    "<tr class=\"row-even\"><td><p>‘r2’</p></td>\n",
    "<td><p><a class=\"reference internal\" href=\"generated/sklearn.metrics.r2_score.html#sklearn.metrics.r2_score\" title=\"sklearn.metrics.r2_score\"><code class=\"xref py py-func docutils literal notranslate\"><span class=\"pre\">metrics.r2_score</span></code></a></p></td>\n",
    "<td></td>\n",
    "</tr>\n",
    "<tr class=\"row-odd\"><td><p>‘neg_mean_poisson_deviance’</p></td>\n",
    "<td><p><a class=\"reference internal\" href=\"generated/sklearn.metrics.mean_poisson_deviance.html#sklearn.metrics.mean_poisson_deviance\" title=\"sklearn.metrics.mean_poisson_deviance\"><code class=\"xref py py-func docutils literal notranslate\"><span class=\"pre\">metrics.mean_poisson_deviance</span></code></a></p></td>\n",
    "<td></td>\n",
    "</tr>\n",
    "<tr class=\"row-even\"><td><p>‘neg_mean_gamma_deviance’</p></td>\n",
    "<td><p><a class=\"reference internal\" href=\"generated/sklearn.metrics.mean_gamma_deviance.html#sklearn.metrics.mean_gamma_deviance\" title=\"sklearn.metrics.mean_gamma_deviance\"><code class=\"xref py py-func docutils literal notranslate\"><span class=\"pre\">metrics.mean_gamma_deviance</span></code></a></p></td>\n",
    "<td></td>\n",
    "</tr>\n",
    "<tr class=\"row-odd\"><td><p>‘neg_mean_absolute_percentage_error’</p></td>\n",
    "<td><p><a class=\"reference internal\" href=\"generated/sklearn.metrics.mean_absolute_percentage_error.html#sklearn.metrics.mean_absolute_percentage_error\" title=\"sklearn.metrics.mean_absolute_percentage_error\"><code class=\"xref py py-func docutils literal notranslate\"><span class=\"pre\">metrics.mean_absolute_percentage_error</span></code></a></p></td>\n",
    "<td></td>\n",
    "</tr>\n",
    "</tbody>\n",
    "</table>"
   ]
  },
  {
   "cell_type": "markdown",
   "id": "e3a14579-e54c-46f2-816c-0f34ee182566",
   "metadata": {},
   "source": [
    "Usage examples:"
   ]
  },
  {
   "cell_type": "code",
   "execution_count": 2,
   "id": "3e090014-1b7c-4d1f-8f99-99a338f076fa",
   "metadata": {},
   "outputs": [],
   "source": [
    "from sklearn import svm, datasets\n",
    "from sklearn.model_selection import cross_val_score\n",
    "\n",
    "X, y = datasets.load_iris(return_X_y=True)"
   ]
  },
  {
   "cell_type": "code",
   "execution_count": 3,
   "id": "8a054b19-6f2e-40d5-b3a8-a282c28236c8",
   "metadata": {},
   "outputs": [
    {
     "data": {
      "text/plain": [
       "array([0.96666667, 0.96666667, 0.96666667, 0.93333333, 1.        ])"
      ]
     },
     "execution_count": 3,
     "metadata": {},
     "output_type": "execute_result"
    }
   ],
   "source": [
    "clf = svm.SVC(random_state=0)\n",
    "cross_val_score(clf, X, y, cv=5, scoring='recall_macro')"
   ]
  },
  {
   "cell_type": "code",
   "execution_count": 4,
   "id": "f5e89741-e841-4462-925d-0d70e16d6c98",
   "metadata": {},
   "outputs": [
    {
     "name": "stdout",
     "output_type": "stream",
     "text": [
      "ValueError: 'wrong_choice' is not a valid scoring value. Use sorted(sklearn.metrics.SCORERS.keys()) to get valid options.\n"
     ]
    }
   ],
   "source": [
    "try:\n",
    "    model = svm.SVC()\n",
    "    cross_val_score(model, X, y, cv=5, scoring='wrong_choice')\n",
    "except ValueError as e:\n",
    "    print(f\"ValueError: {e}\")"
   ]
  },
  {
   "cell_type": "code",
   "execution_count": 5,
   "id": "e89e6b3e-b860-496b-a25f-7d34d4bbf4d4",
   "metadata": {
    "scrolled": true,
    "tags": []
   },
   "outputs": [
    {
     "data": {
      "text/plain": [
       "['explained_variance',\n",
       " 'r2',\n",
       " 'max_error',\n",
       " 'neg_median_absolute_error',\n",
       " 'neg_mean_absolute_error',\n",
       " 'neg_mean_absolute_percentage_error',\n",
       " 'neg_mean_squared_error',\n",
       " 'neg_mean_squared_log_error',\n",
       " 'neg_root_mean_squared_error',\n",
       " 'neg_mean_poisson_deviance',\n",
       " 'neg_mean_gamma_deviance',\n",
       " 'accuracy',\n",
       " 'top_k_accuracy',\n",
       " 'roc_auc',\n",
       " 'roc_auc_ovr',\n",
       " 'roc_auc_ovo',\n",
       " 'roc_auc_ovr_weighted',\n",
       " 'roc_auc_ovo_weighted',\n",
       " 'balanced_accuracy',\n",
       " 'average_precision',\n",
       " 'neg_log_loss',\n",
       " 'neg_brier_score',\n",
       " 'adjusted_rand_score',\n",
       " 'rand_score',\n",
       " 'homogeneity_score',\n",
       " 'completeness_score',\n",
       " 'v_measure_score',\n",
       " 'mutual_info_score',\n",
       " 'adjusted_mutual_info_score',\n",
       " 'normalized_mutual_info_score',\n",
       " 'fowlkes_mallows_score',\n",
       " 'precision',\n",
       " 'precision_macro',\n",
       " 'precision_micro',\n",
       " 'precision_samples',\n",
       " 'precision_weighted',\n",
       " 'recall',\n",
       " 'recall_macro',\n",
       " 'recall_micro',\n",
       " 'recall_samples',\n",
       " 'recall_weighted',\n",
       " 'f1',\n",
       " 'f1_macro',\n",
       " 'f1_micro',\n",
       " 'f1_samples',\n",
       " 'f1_weighted',\n",
       " 'jaccard',\n",
       " 'jaccard_macro',\n",
       " 'jaccard_micro',\n",
       " 'jaccard_samples',\n",
       " 'jaccard_weighted']"
      ]
     },
     "metadata": {},
     "output_type": "display_data"
    }
   ],
   "source": [
    "# To view the list:\n",
    "import sklearn.metrics\n",
    "from IPython.display import display\n",
    "display(list(sklearn.metrics.SCORERS.keys()))"
   ]
  },
  {
   "cell_type": "markdown",
   "id": "3004f775-23b6-4881-b29a-8b09efd6fc21",
   "metadata": {},
   "source": [
    "#### 💡 Implementation note:\n",
    "\n",
    "There are two concepts:\n",
    "1. *Functions* measuring prediction accuracy / metrics functions\n",
    "    * Examples are the list above from `sklearn.metrics.SCORERS.keys()`\n",
    "2. The *scorer objects* for those functions\n",
    "    * Listed under `sklearn.metrics.SCORERS`"
   ]
  },
  {
   "cell_type": "code",
   "execution_count": 6,
   "id": "b2cbcafe-069c-4927-b084-c31f5f63b743",
   "metadata": {
    "scrolled": true,
    "tags": []
   },
   "outputs": [
    {
     "name": "stdout",
     "output_type": "stream",
     "text": [
      "str_repr:\tmake_scorer(explained_variance_score)\n",
      "obj_type:\t<class 'sklearn.metrics._scorer._PredictScorer'>\n",
      "\n",
      "str_repr:\tmake_scorer(r2_score)\n",
      "obj_type:\t<class 'sklearn.metrics._scorer._PredictScorer'>\n",
      "\n",
      "str_repr:\tmake_scorer(max_error, greater_is_better=False)\n",
      "obj_type:\t<class 'sklearn.metrics._scorer._PredictScorer'>\n",
      "\n",
      "str_repr:\tmake_scorer(median_absolute_error, greater_is_better=False)\n",
      "obj_type:\t<class 'sklearn.metrics._scorer._PredictScorer'>\n",
      "\n",
      "str_repr:\tmake_scorer(mean_absolute_error, greater_is_better=False)\n",
      "obj_type:\t<class 'sklearn.metrics._scorer._PredictScorer'>\n",
      "\n",
      "str_repr:\tmake_scorer(mean_absolute_percentage_error, greater_is_better=False)\n",
      "obj_type:\t<class 'sklearn.metrics._scorer._PredictScorer'>\n",
      "\n",
      "str_repr:\tmake_scorer(mean_squared_error, greater_is_better=False)\n",
      "obj_type:\t<class 'sklearn.metrics._scorer._PredictScorer'>\n",
      "\n",
      "str_repr:\tmake_scorer(mean_squared_log_error, greater_is_better=False)\n",
      "obj_type:\t<class 'sklearn.metrics._scorer._PredictScorer'>\n",
      "\n",
      "str_repr:\tmake_scorer(mean_squared_error, greater_is_better=False, squared=False)\n",
      "obj_type:\t<class 'sklearn.metrics._scorer._PredictScorer'>\n",
      "\n",
      "str_repr:\tmake_scorer(mean_poisson_deviance, greater_is_better=False)\n",
      "obj_type:\t<class 'sklearn.metrics._scorer._PredictScorer'>\n",
      "\n",
      "str_repr:\tmake_scorer(mean_gamma_deviance, greater_is_better=False)\n",
      "obj_type:\t<class 'sklearn.metrics._scorer._PredictScorer'>\n",
      "\n",
      "str_repr:\tmake_scorer(accuracy_score)\n",
      "obj_type:\t<class 'sklearn.metrics._scorer._PredictScorer'>\n",
      "\n",
      "str_repr:\tmake_scorer(top_k_accuracy_score, needs_threshold=True)\n",
      "obj_type:\t<class 'sklearn.metrics._scorer._ThresholdScorer'>\n",
      "\n",
      "str_repr:\tmake_scorer(roc_auc_score, needs_threshold=True)\n",
      "obj_type:\t<class 'sklearn.metrics._scorer._ThresholdScorer'>\n",
      "\n",
      "str_repr:\tmake_scorer(roc_auc_score, needs_proba=True, multi_class=ovr)\n",
      "obj_type:\t<class 'sklearn.metrics._scorer._ProbaScorer'>\n",
      "\n",
      "str_repr:\tmake_scorer(roc_auc_score, needs_proba=True, multi_class=ovo)\n",
      "obj_type:\t<class 'sklearn.metrics._scorer._ProbaScorer'>\n",
      "\n",
      "str_repr:\tmake_scorer(roc_auc_score, needs_proba=True, multi_class=ovr, average=weighted)\n",
      "obj_type:\t<class 'sklearn.metrics._scorer._ProbaScorer'>\n",
      "\n",
      "str_repr:\tmake_scorer(roc_auc_score, needs_proba=True, multi_class=ovo, average=weighted)\n",
      "obj_type:\t<class 'sklearn.metrics._scorer._ProbaScorer'>\n",
      "\n",
      "str_repr:\tmake_scorer(balanced_accuracy_score)\n",
      "obj_type:\t<class 'sklearn.metrics._scorer._PredictScorer'>\n",
      "\n",
      "str_repr:\tmake_scorer(average_precision_score, needs_threshold=True)\n",
      "obj_type:\t<class 'sklearn.metrics._scorer._ThresholdScorer'>\n",
      "\n",
      "str_repr:\tmake_scorer(log_loss, greater_is_better=False, needs_proba=True)\n",
      "obj_type:\t<class 'sklearn.metrics._scorer._ProbaScorer'>\n",
      "\n",
      "str_repr:\tmake_scorer(brier_score_loss, greater_is_better=False, needs_proba=True)\n",
      "obj_type:\t<class 'sklearn.metrics._scorer._ProbaScorer'>\n",
      "\n",
      "str_repr:\tmake_scorer(adjusted_rand_score)\n",
      "obj_type:\t<class 'sklearn.metrics._scorer._PredictScorer'>\n",
      "\n",
      "str_repr:\tmake_scorer(rand_score)\n",
      "obj_type:\t<class 'sklearn.metrics._scorer._PredictScorer'>\n",
      "\n",
      "str_repr:\tmake_scorer(homogeneity_score)\n",
      "obj_type:\t<class 'sklearn.metrics._scorer._PredictScorer'>\n",
      "\n",
      "str_repr:\tmake_scorer(completeness_score)\n",
      "obj_type:\t<class 'sklearn.metrics._scorer._PredictScorer'>\n",
      "\n",
      "str_repr:\tmake_scorer(v_measure_score)\n",
      "obj_type:\t<class 'sklearn.metrics._scorer._PredictScorer'>\n",
      "\n",
      "str_repr:\tmake_scorer(mutual_info_score)\n",
      "obj_type:\t<class 'sklearn.metrics._scorer._PredictScorer'>\n",
      "\n",
      "str_repr:\tmake_scorer(adjusted_mutual_info_score)\n",
      "obj_type:\t<class 'sklearn.metrics._scorer._PredictScorer'>\n",
      "\n",
      "str_repr:\tmake_scorer(normalized_mutual_info_score)\n",
      "obj_type:\t<class 'sklearn.metrics._scorer._PredictScorer'>\n",
      "\n",
      "str_repr:\tmake_scorer(fowlkes_mallows_score)\n",
      "obj_type:\t<class 'sklearn.metrics._scorer._PredictScorer'>\n",
      "\n",
      "str_repr:\tmake_scorer(precision_score, average=binary)\n",
      "obj_type:\t<class 'sklearn.metrics._scorer._PredictScorer'>\n",
      "\n",
      "str_repr:\tmake_scorer(precision_score, pos_label=None, average=macro)\n",
      "obj_type:\t<class 'sklearn.metrics._scorer._PredictScorer'>\n",
      "\n",
      "str_repr:\tmake_scorer(precision_score, pos_label=None, average=micro)\n",
      "obj_type:\t<class 'sklearn.metrics._scorer._PredictScorer'>\n",
      "\n",
      "str_repr:\tmake_scorer(precision_score, pos_label=None, average=samples)\n",
      "obj_type:\t<class 'sklearn.metrics._scorer._PredictScorer'>\n",
      "\n",
      "str_repr:\tmake_scorer(precision_score, pos_label=None, average=weighted)\n",
      "obj_type:\t<class 'sklearn.metrics._scorer._PredictScorer'>\n",
      "\n",
      "str_repr:\tmake_scorer(recall_score, average=binary)\n",
      "obj_type:\t<class 'sklearn.metrics._scorer._PredictScorer'>\n",
      "\n",
      "str_repr:\tmake_scorer(recall_score, pos_label=None, average=macro)\n",
      "obj_type:\t<class 'sklearn.metrics._scorer._PredictScorer'>\n",
      "\n",
      "str_repr:\tmake_scorer(recall_score, pos_label=None, average=micro)\n",
      "obj_type:\t<class 'sklearn.metrics._scorer._PredictScorer'>\n",
      "\n",
      "str_repr:\tmake_scorer(recall_score, pos_label=None, average=samples)\n",
      "obj_type:\t<class 'sklearn.metrics._scorer._PredictScorer'>\n",
      "\n",
      "str_repr:\tmake_scorer(recall_score, pos_label=None, average=weighted)\n",
      "obj_type:\t<class 'sklearn.metrics._scorer._PredictScorer'>\n",
      "\n",
      "str_repr:\tmake_scorer(f1_score, average=binary)\n",
      "obj_type:\t<class 'sklearn.metrics._scorer._PredictScorer'>\n",
      "\n",
      "str_repr:\tmake_scorer(f1_score, pos_label=None, average=macro)\n",
      "obj_type:\t<class 'sklearn.metrics._scorer._PredictScorer'>\n",
      "\n",
      "str_repr:\tmake_scorer(f1_score, pos_label=None, average=micro)\n",
      "obj_type:\t<class 'sklearn.metrics._scorer._PredictScorer'>\n",
      "\n",
      "str_repr:\tmake_scorer(f1_score, pos_label=None, average=samples)\n",
      "obj_type:\t<class 'sklearn.metrics._scorer._PredictScorer'>\n",
      "\n",
      "str_repr:\tmake_scorer(f1_score, pos_label=None, average=weighted)\n",
      "obj_type:\t<class 'sklearn.metrics._scorer._PredictScorer'>\n",
      "\n",
      "str_repr:\tmake_scorer(jaccard_score, average=binary)\n",
      "obj_type:\t<class 'sklearn.metrics._scorer._PredictScorer'>\n",
      "\n",
      "str_repr:\tmake_scorer(jaccard_score, pos_label=None, average=macro)\n",
      "obj_type:\t<class 'sklearn.metrics._scorer._PredictScorer'>\n",
      "\n",
      "str_repr:\tmake_scorer(jaccard_score, pos_label=None, average=micro)\n",
      "obj_type:\t<class 'sklearn.metrics._scorer._PredictScorer'>\n",
      "\n",
      "str_repr:\tmake_scorer(jaccard_score, pos_label=None, average=samples)\n",
      "obj_type:\t<class 'sklearn.metrics._scorer._PredictScorer'>\n",
      "\n",
      "str_repr:\tmake_scorer(jaccard_score, pos_label=None, average=weighted)\n",
      "obj_type:\t<class 'sklearn.metrics._scorer._PredictScorer'>\n",
      "\n"
     ]
    }
   ],
   "source": [
    "# To view the list of SCORER OBJECTS.\n",
    "objs = list(sklearn.metrics.SCORERS.values())\n",
    "print_ = [(str(o), type(o)) for o in objs]\n",
    "\n",
    "for str_repr, obj_itself in print_:\n",
    "    print(f\"str_repr:\\t{str_repr}\\nobj_type:\\t{obj_itself}\")\n",
    "    print()"
   ]
  },
  {
   "cell_type": "markdown",
   "id": "04c4edeb-2a18-4641-a926-c18eab2d8872",
   "metadata": {},
   "source": [
    "### [Defining your scoring strategy from metric functions](https://scikit-learn.org/stable/modules/model_evaluation.html#defining-your-scoring-strategy-from-metric-functions)\n",
    "\n",
    "The module `sklearn.metrics` also exposes a set of simple functions measuring a *prediction error* given *ground truth* and *prediction*:\n",
    "* \\[❗\\] functions ending with `_score` return a value to **maximize, the higher the better**.\n",
    "* \\[❗\\] functions ending with `_error` or `_loss` return a value to **minimize, the lower the better**. \n",
    "    * When converting into a *scorer object* using `make_scorer()`, set the `greater_is_better` parameter to `False` (`True` by default).\n",
    "\n",
    "**Many metrics are not given names to be used as scoring values**, sometimes because they require additional parameters, such as `fbeta_score`. In such cases, **you need to generate an appropriate scoring object**. The simplest way to generate a callable object for scoring is by using `make_scorer`. *That function converts metrics into callables that can be used for model evaluation*.\n",
    "\n",
    "**Example:**\n",
    "\n",
    "One typical use case is to wrap an existing metric function from the library *with non-default values for its parameters*, such as the `beta` parameter for the `fbeta_score` function:"
   ]
  },
  {
   "cell_type": "code",
   "execution_count": 7,
   "id": "2a5dfaf8-fc64-484d-b725-b8cfbd31e546",
   "metadata": {},
   "outputs": [],
   "source": [
    "from sklearn.metrics import (\n",
    "    fbeta_score,  # <-- we will wrap this. \n",
    "    make_scorer   # <-- using this.\n",
    ")\n",
    "\n",
    "ftwo_scorer = make_scorer(fbeta_score, beta=2)  # Instantiate a SCORER object from FUNCTION, setting PARAMETER (here, beta=2)"
   ]
  },
  {
   "cell_type": "code",
   "execution_count": 8,
   "id": "2b9a633c-7ea2-4407-9cae-bf1280446204",
   "metadata": {},
   "outputs": [],
   "source": [
    "# Now use this new scorer object in parameter search.\n",
    "\n",
    "from sklearn.model_selection import GridSearchCV\n",
    "from sklearn.svm import LinearSVC\n",
    "\n",
    "grid = GridSearchCV(\n",
    "    LinearSVC(), \n",
    "    param_grid={'C': [1, 10]},\n",
    "    scoring=ftwo_scorer,  # <-- our scorer object from above. \n",
    "    cv=5\n",
    ")"
   ]
  },
  {
   "cell_type": "markdown",
   "id": "3547019b-e2d8-4dda-8efd-66357dcb1b6b",
   "metadata": {},
   "source": [
    "💡 The second use case is to **build a completely custom scorer object** from a *simple python function* using `make_scorer`, which can take several parameters:\n",
    "\n",
    "* the python function you want to use (`my_custom_loss_func` in the example below)\n",
    "* whether the python function returns a score (`greater_is_better=True`, the default) or a loss (`greater_is_better=False`). If a loss, the output of the python function is negated by the scorer object, conforming to the cross validation convention that scorers return higher values for better models.\n",
    "* for classification metrics only: whether the python function you provided requires continuous decision certainties (`needs_threshold=True`). The default value is `False`.\n",
    "* any additional parameters, such as `beta` or `labels` in `f1_score`.\n",
    "\n",
    "Here is an example of building custom scorers, and of using the `greater_is_better` parameter:"
   ]
  },
  {
   "cell_type": "code",
   "execution_count": 9,
   "id": "bbff9e30-7a4c-4c4a-bcdd-637831068460",
   "metadata": {},
   "outputs": [],
   "source": [
    "import numpy as np\n",
    "\n",
    "def my_custom_loss_func(y_true, y_pred):\n",
    "    diff = np.abs(y_true - y_pred).max()\n",
    "    return np.log1p(diff)"
   ]
  },
  {
   "cell_type": "code",
   "execution_count": 10,
   "id": "d4c98dcb-eba1-426b-9938-d1a60cf2121e",
   "metadata": {},
   "outputs": [],
   "source": [
    "# score will negate the return value of `my_custom_loss_func`,\n",
    "# which will be np.log(2), 0.693, given the values for X\n",
    "# and y defined below.\n",
    "score = make_scorer(\n",
    "    my_custom_loss_func, \n",
    "    greater_is_better=False  # Note.\n",
    ")"
   ]
  },
  {
   "cell_type": "code",
   "execution_count": 11,
   "id": "c47c1b8e-8608-45ef-9937-062307ee79f2",
   "metadata": {},
   "outputs": [],
   "source": [
    "X = [[1], [1]]\n",
    "y = [0, 1]"
   ]
  },
  {
   "cell_type": "code",
   "execution_count": 12,
   "id": "56a062d8-0f38-4e73-a0b0-5e1ed2fb4945",
   "metadata": {},
   "outputs": [],
   "source": [
    "from sklearn.dummy import DummyClassifier\n",
    "clf = DummyClassifier(strategy='most_frequent', random_state=0)  # Note use of DummyClassifier!\n",
    "clf = clf.fit(X, y)"
   ]
  },
  {
   "cell_type": "code",
   "execution_count": 13,
   "id": "ebf1609f-94d6-4fe0-9f7e-0689df084003",
   "metadata": {},
   "outputs": [
    {
     "data": {
      "text/plain": [
       "0.6931471805599453"
      ]
     },
     "execution_count": 13,
     "metadata": {},
     "output_type": "execute_result"
    }
   ],
   "source": [
    "# Result of calling our python function directly:\n",
    "my_custom_loss_func(y, clf.predict(X))"
   ]
  },
  {
   "cell_type": "code",
   "execution_count": 14,
   "id": "21b919ea-f18a-44fc-94fc-8e3f52b78b10",
   "metadata": {},
   "outputs": [
    {
     "data": {
      "text/plain": [
       "-0.6931471805599453"
      ]
     },
     "execution_count": 14,
     "metadata": {},
     "output_type": "execute_result"
    }
   ],
   "source": [
    "# Now using the scorer object, note the -ve:\n",
    "score(clf, X, y)"
   ]
  },
  {
   "cell_type": "markdown",
   "id": "aeee65ad-222b-4770-b3d5-95db7c4c147e",
   "metadata": {},
   "source": [
    "#### [💡 Implementing your own scoring object](https://scikit-learn.org/stable/modules/model_evaluation.html#implementing-your-own-scoring-object)\n",
    "\n",
    "You can generate even more flexible model scorers by constructing your own scoring object from scratch, without using the `make_scorer` factory. \n",
    "\n",
    "For a *callable* to be a **scorer**, it needs to **meet the protocol specified by the following *two rules***:\n",
    "\n",
    "1. It can be called with parameters `(estimator, X, y)`, where: \n",
    "    * `estimator` is the model that should be evaluated, \n",
    "    * `X` is validation data, and \n",
    "    * `y` is the ground truth target for `X` (in the supervised case) or `None` (in the unsupervised case).\n",
    "2. It returns a *floating point number* that quantifies the estimator prediction quality on `X`, with reference to `y`. Again, **by convention higher numbers are better**, so if your scorer returns loss, that value should be negated.\n",
    "\n",
    "💡 See also **Note: Using custom scorers in functions where n_jobs > 1** at end of [section](https://scikit-learn.org/stable/modules/model_evaluation.html#implementing-your-own-scoring-object)."
   ]
  },
  {
   "cell_type": "markdown",
   "id": "0b0f0d53-5c56-4831-be7c-55cf80640925",
   "metadata": {},
   "source": [
    "#### [Using *multiple metric* evaluation](https://scikit-learn.org/stable/modules/model_evaluation.html#using-multiple-metric-evaluation)\n",
    "\n",
    "Scikit-learn also permits evaluation of **multiple metrics** (but only) in:\n",
    "* `GridSearchCV`, \n",
    "* `RandomizedSearchCV` and \n",
    "* `cross_validate`.\n",
    "\n",
    "There are **three ways** to specify multiple scoring metrics for the scoring parameter:\n",
    "\n",
    "**1. As an iterable of string metrics:**"
   ]
  },
  {
   "cell_type": "code",
   "execution_count": 15,
   "id": "e8ecd90e-a442-4f46-895d-c6b4ebe77056",
   "metadata": {},
   "outputs": [],
   "source": [
    "scoring = ['accuracy', 'precision']"
   ]
  },
  {
   "cell_type": "markdown",
   "id": "ffa6c47d-6deb-4d43-8a9d-1cafaa7e5446",
   "metadata": {},
   "source": [
    "**2. As a `dict` mapping the scorer name to the scoring function:**\n",
    "\n",
    "* Note that the `dict` values can either be *scorer functions* or one of the *predefined metric strings*."
   ]
  },
  {
   "cell_type": "code",
   "execution_count": 16,
   "id": "cfee7fd4-21a2-470d-ae1a-73580400e698",
   "metadata": {},
   "outputs": [
    {
     "data": {
      "text/plain": [
       "{'accuracy': make_scorer(accuracy_score), 'prec': 'precision'}"
      ]
     },
     "execution_count": 16,
     "metadata": {},
     "output_type": "execute_result"
    }
   ],
   "source": [
    "from sklearn.metrics import accuracy_score\n",
    "from sklearn.metrics import make_scorer\n",
    "\n",
    "scoring = {\n",
    "    'accuracy': make_scorer(accuracy_score),\n",
    "    'prec': 'precision'\n",
    "}\n",
    "scoring"
   ]
  },
  {
   "cell_type": "markdown",
   "id": "8a1076bb-afb8-4793-8e3f-94fcd4dc578f",
   "metadata": {},
   "source": [
    "**3. As a *callable* that returns a *dictionary of scores*:**"
   ]
  },
  {
   "cell_type": "code",
   "execution_count": 17,
   "id": "c8b41216-fec6-4f22-8eb0-a7631ac78d8c",
   "metadata": {},
   "outputs": [
    {
     "name": "stdout",
     "output_type": "stream",
     "text": [
      "X.shape (100, 20)\n",
      "y.shape (100,)\n",
      "X[:3]:\n",
      " [[-0.03926799  0.13191176 -0.21120598 -1.2141474   1.05004467 -0.42132759\n",
      "   0.76877064  0.87569568  2.45122972 -0.48024204 -2.13264106 -0.52325094\n",
      "   0.70869527 -1.98056559 -1.36516288 -0.94893281  1.94709864  1.97698901\n",
      "   1.02122474 -0.46931074]\n",
      " [ 0.77416061  0.10490717 -0.33281176 -1.27034986  0.37911283 -0.82282832\n",
      "  -0.61262574  1.49613964  0.56845892 -0.46749317 -1.80170793 -0.8624933\n",
      "  -0.63119194  0.13391292 -0.97240289 -0.77445897  1.34622107  1.2678044\n",
      "   0.62251914 -1.49026539]\n",
      " [-0.0148577   0.67057045 -0.21416666  0.25020227  0.05548937 -1.56699471\n",
      "   0.03976673  0.26568797  1.84959125  0.71998373  0.27713603 -1.10290621\n",
      "   0.01927938 -0.7075057   0.72310049  0.82140594  0.02461213 -0.10486202\n",
      "  -0.10169727 -0.45130304]]\n",
      "y[:3]:\n",
      " [0 0 1]\n"
     ]
    }
   ],
   "source": [
    "from sklearn.model_selection import cross_validate\n",
    "from sklearn.metrics import confusion_matrix\n",
    "\n",
    "# A sample toy binary classification dataset\n",
    "X, y = datasets.make_classification(n_classes=2, random_state=0)\n",
    "\n",
    "print(\"X.shape\", X.shape)\n",
    "print(\"y.shape\", y.shape)\n",
    "print(\"X[:3]:\\n\", X[:3])\n",
    "print(\"y[:3]:\\n\", y[:3])"
   ]
  },
  {
   "cell_type": "code",
   "execution_count": 18,
   "id": "a814406a-ad50-46ac-9bee-880bbccbb582",
   "metadata": {},
   "outputs": [],
   "source": [
    "svm = LinearSVC(random_state=0)"
   ]
  },
  {
   "cell_type": "code",
   "execution_count": 19,
   "id": "2e203899-891c-4343-b3af-db0643375777",
   "metadata": {},
   "outputs": [],
   "source": [
    "# A custom CALLABLE that returns a DICTIONARY of SCORES:\n",
    "def confusion_matrix_scorer(clf, X, y):\n",
    "    y_pred = clf.predict(X)\n",
    "    cm = confusion_matrix(y, y_pred)\n",
    "    return {\n",
    "        'tn': cm[0, 0], \n",
    "        'fp': cm[0, 1],\n",
    "        'fn': cm[1, 0], \n",
    "        'tp': cm[1, 1]\n",
    "    }"
   ]
  },
  {
   "cell_type": "code",
   "execution_count": 20,
   "id": "aabaf35a-e164-4c28-aafb-a52aa0bc54d8",
   "metadata": {},
   "outputs": [
    {
     "name": "stdout",
     "output_type": "stream",
     "text": [
      "[CV] END .................................................... total time=   0.0s\n",
      "[CV] END .................................................... total time=   0.0s\n",
      "[CV] END .................................................... total time=   0.0s\n",
      "[CV] END .................................................... total time=   0.0s\n",
      "[CV] END .................................................... total time=   0.0s\n"
     ]
    },
    {
     "name": "stderr",
     "output_type": "stream",
     "text": [
      "[Parallel(n_jobs=1)]: Using backend SequentialBackend with 1 concurrent workers.\n",
      "[Parallel(n_jobs=1)]: Done   1 out of   1 | elapsed:    0.0s remaining:    0.0s\n",
      "[Parallel(n_jobs=1)]: Done   5 out of   5 | elapsed:    0.0s finished\n"
     ]
    }
   ],
   "source": [
    "cv_results = cross_validate(\n",
    "    svm, \n",
    "    X, \n",
    "    y, \n",
    "    cv=5,\n",
    "    scoring=confusion_matrix_scorer,\n",
    "    verbose=2,\n",
    ")"
   ]
  },
  {
   "cell_type": "code",
   "execution_count": 21,
   "id": "26895ec1-9e56-47a5-9a81-08997f46592e",
   "metadata": {},
   "outputs": [
    {
     "name": "stdout",
     "output_type": "stream",
     "text": [
      "['fit_time', 'score_time', 'test_tn', 'test_fp', 'test_fn', 'test_tp']\n"
     ]
    }
   ],
   "source": [
    "print(list(cv_results.keys()))"
   ]
  },
  {
   "cell_type": "code",
   "execution_count": 22,
   "id": "ecf9273d-420c-42df-9e11-e1effce2578d",
   "metadata": {},
   "outputs": [
    {
     "name": "stdout",
     "output_type": "stream",
     "text": [
      "[10  9  8  7  8]\n"
     ]
    }
   ],
   "source": [
    "# Getting the test set true positive scores\n",
    "print(cv_results['test_tp'])"
   ]
  },
  {
   "cell_type": "code",
   "execution_count": 23,
   "id": "f77d63f5-95f9-4bee-800e-2be8dc97c801",
   "metadata": {},
   "outputs": [
    {
     "name": "stdout",
     "output_type": "stream",
     "text": [
      "[0 1 2 3 2]\n"
     ]
    }
   ],
   "source": [
    "# Getting the test set false negative scores\n",
    "print(cv_results['test_fn'])"
   ]
  },
  {
   "cell_type": "markdown",
   "id": "3df964ca-79fb-4349-af1d-1e3b15c52e22",
   "metadata": {},
   "source": [
    "## Metric Categories\n",
    "\n",
    "The following metric categories are covered:\n",
    "1. Classification metrics\n",
    "2. Multilabel ranking metrics\n",
    "3. Clustering metrics\n",
    "4. Regression metrics"
   ]
  },
  {
   "cell_type": "markdown",
   "id": "2939b9ef-9fe8-4e58-86a8-3d96fc9dab6a",
   "metadata": {},
   "source": [
    "## [Classification metrics](https://scikit-learn.org/stable/modules/model_evaluation.html#classification-metrics)\n",
    "\n",
    "* The `sklearn.metrics` module implements several *loss*, *score*, and *utility* functions to measure classification performance. \n",
    "* Some metrics might require: \n",
    "    * *probability estimates of the positive class*, \n",
    "    * *confidence values*, or \n",
    "    * *binary decisions values*. \n",
    "* Most implementations allow each sample to provide a *weighted contribution* to the overall score, through the `sample_weight` parameter.\n",
    "\n",
    "**Some of these are restricted to the `binary classification` case:**"
   ]
  },
  {
   "cell_type": "markdown",
   "id": "48dc1e3e-2462-44d7-9f28-209d4e9afab2",
   "metadata": {},
   "source": [
    "<table class=\"longtable docutils align-default mytable\">\n",
    "<colgroup>\n",
    "<col style=\"width: 10%\">\n",
    "<col style=\"width: 90%\">\n",
    "</colgroup>\n",
    "<tbody>\n",
    "<tr class=\"row-odd\"><td><p><a class=\"reference internal\" href=\"generated/sklearn.metrics.precision_recall_curve.html#sklearn.metrics.precision_recall_curve\" title=\"sklearn.metrics.precision_recall_curve\"><code class=\"xref py py-obj docutils literal notranslate\"><span class=\"pre\">precision_recall_curve</span></code></a>(y_true,&nbsp;probas_pred,&nbsp;*)</p></td>\n",
    "<td><p>Compute precision-recall pairs for different probability thresholds.</p></td>\n",
    "</tr>\n",
    "<tr class=\"row-even\"><td><p><a class=\"reference internal\" href=\"generated/sklearn.metrics.roc_curve.html#sklearn.metrics.roc_curve\" title=\"sklearn.metrics.roc_curve\"><code class=\"xref py py-obj docutils literal notranslate\"><span class=\"pre\">roc_curve</span></code></a>(y_true,&nbsp;y_score,&nbsp;*[,&nbsp;pos_label,&nbsp;…])</p></td>\n",
    "<td><p>Compute Receiver operating characteristic (ROC).</p></td>\n",
    "</tr>\n",
    "<tr class=\"row-odd\"><td><p><a class=\"reference internal\" href=\"generated/sklearn.metrics.det_curve.html#sklearn.metrics.det_curve\" title=\"sklearn.metrics.det_curve\"><code class=\"xref py py-obj docutils literal notranslate\"><span class=\"pre\">det_curve</span></code></a>(y_true,&nbsp;y_score[,&nbsp;pos_label,&nbsp;…])</p></td>\n",
    "<td><p>Compute error rates for different probability thresholds.</p></td>\n",
    "</tr>\n",
    "</tbody>\n",
    "</table>"
   ]
  },
  {
   "cell_type": "markdown",
   "id": "09f27ee0-fbec-4d9d-a79e-5af39133003d",
   "metadata": {},
   "source": [
    "**Others also work in the `multiclass` case:**"
   ]
  },
  {
   "cell_type": "markdown",
   "id": "415f92bb-c4a8-49c1-9fbd-a40085f5ea51",
   "metadata": {},
   "source": [
    "<table class=\"longtable docutils align-default mytable\">\n",
    "<colgroup>\n",
    "<col style=\"width: 10%\">\n",
    "<col style=\"width: 90%\">\n",
    "</colgroup>\n",
    "<tbody>\n",
    "<tr class=\"row-odd\"><td><p><a class=\"reference internal\" href=\"generated/sklearn.metrics.balanced_accuracy_score.html#sklearn.metrics.balanced_accuracy_score\" title=\"sklearn.metrics.balanced_accuracy_score\"><code class=\"xref py py-obj docutils literal notranslate\"><span class=\"pre\">balanced_accuracy_score</span></code></a>(y_true,&nbsp;y_pred,&nbsp;*[,&nbsp;…])</p></td>\n",
    "<td><p>Compute the balanced accuracy.</p></td>\n",
    "</tr>\n",
    "<tr class=\"row-even\"><td><p><a class=\"reference internal\" href=\"generated/sklearn.metrics.cohen_kappa_score.html#sklearn.metrics.cohen_kappa_score\" title=\"sklearn.metrics.cohen_kappa_score\"><code class=\"xref py py-obj docutils literal notranslate\"><span class=\"pre\">cohen_kappa_score</span></code></a>(y1,&nbsp;y2,&nbsp;*[,&nbsp;labels,&nbsp;…])</p></td>\n",
    "<td><p>Cohen’s kappa: a statistic that measures inter-annotator agreement.</p></td>\n",
    "</tr>\n",
    "<tr class=\"row-odd\"><td><p><a class=\"reference internal\" href=\"generated/sklearn.metrics.confusion_matrix.html#sklearn.metrics.confusion_matrix\" title=\"sklearn.metrics.confusion_matrix\"><code class=\"xref py py-obj docutils literal notranslate\"><span class=\"pre\">confusion_matrix</span></code></a>(y_true,&nbsp;y_pred,&nbsp;*[,&nbsp;…])</p></td>\n",
    "<td><p>Compute confusion matrix to evaluate the accuracy of a classification.</p></td>\n",
    "</tr>\n",
    "<tr class=\"row-even\"><td><p><a class=\"reference internal\" href=\"generated/sklearn.metrics.hinge_loss.html#sklearn.metrics.hinge_loss\" title=\"sklearn.metrics.hinge_loss\"><code class=\"xref py py-obj docutils literal notranslate\"><span class=\"pre\">hinge_loss</span></code></a>(y_true,&nbsp;pred_decision,&nbsp;*[,&nbsp;…])</p></td>\n",
    "<td><p>Average hinge loss (non-regularized).</p></td>\n",
    "</tr>\n",
    "<tr class=\"row-odd\"><td><p><a class=\"reference internal\" href=\"generated/sklearn.metrics.matthews_corrcoef.html#sklearn.metrics.matthews_corrcoef\" title=\"sklearn.metrics.matthews_corrcoef\"><code class=\"xref py py-obj docutils literal notranslate\"><span class=\"pre\">matthews_corrcoef</span></code></a>(y_true,&nbsp;y_pred,&nbsp;*[,&nbsp;…])</p></td>\n",
    "<td><p>Compute the Matthews correlation coefficient (MCC).</p></td>\n",
    "</tr>\n",
    "<tr class=\"row-even\"><td><p><a class=\"reference internal\" href=\"generated/sklearn.metrics.roc_auc_score.html#sklearn.metrics.roc_auc_score\" title=\"sklearn.metrics.roc_auc_score\"><code class=\"xref py py-obj docutils literal notranslate\"><span class=\"pre\">roc_auc_score</span></code></a>(y_true,&nbsp;y_score,&nbsp;*[,&nbsp;average,&nbsp;…])</p></td>\n",
    "<td><p>Compute Area Under the Receiver Operating Characteristic Curve (ROC AUC) from prediction scores.</p></td>\n",
    "</tr>\n",
    "<tr class=\"row-odd\"><td><p><a class=\"reference internal\" href=\"generated/sklearn.metrics.top_k_accuracy_score.html#sklearn.metrics.top_k_accuracy_score\" title=\"sklearn.metrics.top_k_accuracy_score\"><code class=\"xref py py-obj docutils literal notranslate\"><span class=\"pre\">top_k_accuracy_score</span></code></a>(y_true,&nbsp;y_score,&nbsp;*[,&nbsp;…])</p></td>\n",
    "<td><p>Top-k Accuracy classification score.</p></td>\n",
    "</tr>\n",
    "</tbody>\n",
    "</table>"
   ]
  },
  {
   "cell_type": "markdown",
   "id": "a6978935-b2f2-4033-9eb3-43e74b58324c",
   "metadata": {},
   "source": [
    "**Some also work in the `multilabel` case:**"
   ]
  },
  {
   "cell_type": "markdown",
   "id": "071a33ec-7466-42f8-a024-3b6f0d481344",
   "metadata": {},
   "source": [
    "<table class=\"longtable docutils align-default mytable\">\n",
    "<colgroup>\n",
    "<col style=\"width: 10%\">\n",
    "<col style=\"width: 90%\">\n",
    "</colgroup>\n",
    "<tbody>\n",
    "<tr class=\"row-odd\"><td><p><a class=\"reference internal\" href=\"generated/sklearn.metrics.accuracy_score.html#sklearn.metrics.accuracy_score\" title=\"sklearn.metrics.accuracy_score\"><code class=\"xref py py-obj docutils literal notranslate\"><span class=\"pre\">accuracy_score</span></code></a>(y_true,&nbsp;y_pred,&nbsp;*[,&nbsp;…])</p></td>\n",
    "<td><p>Accuracy classification score.</p></td>\n",
    "</tr>\n",
    "<tr class=\"row-even\"><td><p><a class=\"reference internal\" href=\"generated/sklearn.metrics.classification_report.html#sklearn.metrics.classification_report\" title=\"sklearn.metrics.classification_report\"><code class=\"xref py py-obj docutils literal notranslate\"><span class=\"pre\">classification_report</span></code></a>(y_true,&nbsp;y_pred,&nbsp;*[,&nbsp;…])</p></td>\n",
    "<td><p>Build a text report showing the main classification metrics.</p></td>\n",
    "</tr>\n",
    "<tr class=\"row-odd\"><td><p><a class=\"reference internal\" href=\"generated/sklearn.metrics.f1_score.html#sklearn.metrics.f1_score\" title=\"sklearn.metrics.f1_score\"><code class=\"xref py py-obj docutils literal notranslate\"><span class=\"pre\">f1_score</span></code></a>(y_true,&nbsp;y_pred,&nbsp;*[,&nbsp;labels,&nbsp;…])</p></td>\n",
    "<td><p>Compute the F1 score, also known as balanced F-score or F-measure.</p></td>\n",
    "</tr>\n",
    "<tr class=\"row-even\"><td><p><a class=\"reference internal\" href=\"generated/sklearn.metrics.fbeta_score.html#sklearn.metrics.fbeta_score\" title=\"sklearn.metrics.fbeta_score\"><code class=\"xref py py-obj docutils literal notranslate\"><span class=\"pre\">fbeta_score</span></code></a>(y_true,&nbsp;y_pred,&nbsp;*,&nbsp;beta[,&nbsp;…])</p></td>\n",
    "<td><p>Compute the F-beta score.</p></td>\n",
    "</tr>\n",
    "<tr class=\"row-odd\"><td><p><a class=\"reference internal\" href=\"generated/sklearn.metrics.hamming_loss.html#sklearn.metrics.hamming_loss\" title=\"sklearn.metrics.hamming_loss\"><code class=\"xref py py-obj docutils literal notranslate\"><span class=\"pre\">hamming_loss</span></code></a>(y_true,&nbsp;y_pred,&nbsp;*[,&nbsp;sample_weight])</p></td>\n",
    "<td><p>Compute the average Hamming loss.</p></td>\n",
    "</tr>\n",
    "<tr class=\"row-even\"><td><p><a class=\"reference internal\" href=\"generated/sklearn.metrics.jaccard_score.html#sklearn.metrics.jaccard_score\" title=\"sklearn.metrics.jaccard_score\"><code class=\"xref py py-obj docutils literal notranslate\"><span class=\"pre\">jaccard_score</span></code></a>(y_true,&nbsp;y_pred,&nbsp;*[,&nbsp;labels,&nbsp;…])</p></td>\n",
    "<td><p>Jaccard similarity coefficient score.</p></td>\n",
    "</tr>\n",
    "<tr class=\"row-odd\"><td><p><a class=\"reference internal\" href=\"generated/sklearn.metrics.log_loss.html#sklearn.metrics.log_loss\" title=\"sklearn.metrics.log_loss\"><code class=\"xref py py-obj docutils literal notranslate\"><span class=\"pre\">log_loss</span></code></a>(y_true,&nbsp;y_pred,&nbsp;*[,&nbsp;eps,&nbsp;…])</p></td>\n",
    "<td><p>Log loss, aka logistic loss or cross-entropy loss.</p></td>\n",
    "</tr>\n",
    "<tr class=\"row-even\"><td><p><a class=\"reference internal\" href=\"generated/sklearn.metrics.multilabel_confusion_matrix.html#sklearn.metrics.multilabel_confusion_matrix\" title=\"sklearn.metrics.multilabel_confusion_matrix\"><code class=\"xref py py-obj docutils literal notranslate\"><span class=\"pre\">multilabel_confusion_matrix</span></code></a>(y_true,&nbsp;y_pred,&nbsp;*)</p></td>\n",
    "<td><p>Compute a confusion matrix for each class or sample.</p></td>\n",
    "</tr>\n",
    "<tr class=\"row-odd\"><td><p><a class=\"reference internal\" href=\"generated/sklearn.metrics.precision_recall_fscore_support.html#sklearn.metrics.precision_recall_fscore_support\" title=\"sklearn.metrics.precision_recall_fscore_support\"><code class=\"xref py py-obj docutils literal notranslate\"><span class=\"pre\">precision_recall_fscore_support</span></code></a>(y_true,&nbsp;…)</p></td>\n",
    "<td><p>Compute precision, recall, F-measure and support for each class.</p></td>\n",
    "</tr>\n",
    "<tr class=\"row-even\"><td><p><a class=\"reference internal\" href=\"generated/sklearn.metrics.precision_score.html#sklearn.metrics.precision_score\" title=\"sklearn.metrics.precision_score\"><code class=\"xref py py-obj docutils literal notranslate\"><span class=\"pre\">precision_score</span></code></a>(y_true,&nbsp;y_pred,&nbsp;*[,&nbsp;labels,&nbsp;…])</p></td>\n",
    "<td><p>Compute the precision.</p></td>\n",
    "</tr>\n",
    "<tr class=\"row-odd\"><td><p><a class=\"reference internal\" href=\"generated/sklearn.metrics.recall_score.html#sklearn.metrics.recall_score\" title=\"sklearn.metrics.recall_score\"><code class=\"xref py py-obj docutils literal notranslate\"><span class=\"pre\">recall_score</span></code></a>(y_true,&nbsp;y_pred,&nbsp;*[,&nbsp;labels,&nbsp;…])</p></td>\n",
    "<td><p>Compute the recall.</p></td>\n",
    "</tr>\n",
    "<tr class=\"row-even\"><td><p><a class=\"reference internal\" href=\"generated/sklearn.metrics.roc_auc_score.html#sklearn.metrics.roc_auc_score\" title=\"sklearn.metrics.roc_auc_score\"><code class=\"xref py py-obj docutils literal notranslate\"><span class=\"pre\">roc_auc_score</span></code></a>(y_true,&nbsp;y_score,&nbsp;*[,&nbsp;average,&nbsp;…])</p></td>\n",
    "<td><p>Compute Area Under the Receiver Operating Characteristic Curve (ROC AUC) from prediction scores.</p></td>\n",
    "</tr>\n",
    "<tr class=\"row-odd\"><td><p><a class=\"reference internal\" href=\"generated/sklearn.metrics.zero_one_loss.html#sklearn.metrics.zero_one_loss\" title=\"sklearn.metrics.zero_one_loss\"><code class=\"xref py py-obj docutils literal notranslate\"><span class=\"pre\">zero_one_loss</span></code></a>(y_true,&nbsp;y_pred,&nbsp;*[,&nbsp;…])</p></td>\n",
    "<td><p>Zero-one classification loss.</p></td>\n",
    "</tr>\n",
    "</tbody>\n",
    "</table>"
   ]
  },
  {
   "cell_type": "markdown",
   "id": "c3749744-7037-42b7-881e-8e07465c06dc",
   "metadata": {},
   "source": [
    "**And some work with `binary and multilabel (but not multiclass)` problems:**"
   ]
  },
  {
   "cell_type": "markdown",
   "id": "f7a9e235-5484-4e75-935d-726e1bea4331",
   "metadata": {},
   "source": [
    "<table class=\"longtable docutils align-default mytable\">\n",
    "<colgroup>\n",
    "<col style=\"width: 10%\">\n",
    "<col style=\"width: 90%\">\n",
    "</colgroup>\n",
    "<tbody>\n",
    "<tr class=\"row-odd\"><td><p><a class=\"reference internal\" href=\"generated/sklearn.metrics.average_precision_score.html#sklearn.metrics.average_precision_score\" title=\"sklearn.metrics.average_precision_score\"><code class=\"xref py py-obj docutils literal notranslate\"><span class=\"pre\">average_precision_score</span></code></a>(y_true,&nbsp;y_score,&nbsp;*)</p></td>\n",
    "<td><p>Compute average precision (AP) from prediction scores.</p></td>\n",
    "</tr>\n",
    "</tbody>\n",
    "</table>"
   ]
  },
  {
   "cell_type": "markdown",
   "id": "ed120790-6451-4ae6-a500-f5a8cca41faa",
   "metadata": {},
   "source": [
    "### [From binary to multiclass and multilabel](https://scikit-learn.org/stable/modules/model_evaluation.html#from-binary-to-multiclass-and-multilabel)\n",
    "\n",
    "Some metrics are essentially defined for *binary classification* tasks (e.g. `f1_score`, `roc_auc_score`). \n",
    "\n",
    "⚠️ In these cases, **by default only the positive label is evaluated**, assuming by default that the positive class is labelled `1` (though this may be configurable through the `pos_label` parameter).\n",
    "\n",
    "In **extending a binary metric to multiclass or multilabel problems**, the data is treated as *a collection of binary problems, one for each class*.\n",
    "\n",
    "There are then a number of ways to **average** binary metric calculations across the set of classes, each of which may be useful in some scenario. \n",
    "\n",
    "Where available, you should select among these using the average parameter.\n",
    "\n",
    "‼️ These averaging strategies are **important to understand**:\n",
    "* `\"macro\"` simply calculates the mean of the binary metrics, **giving equal weight to each class**. \n",
    "    * In problems where infrequent classes are nonetheless important, macro-averaging may be a means of highlighting their performance. \n",
    "    * On the other hand, the assumption that all classes are equally important is often untrue, such that macro-averaging will over-emphasize the typically low performance on an infrequent class.\n",
    "* `\"weighted\"` accounts for class imbalance by computing the average of binary metrics in which *each class’s score is weighted by its presence in the true data sample*.\n",
    "* `\"micro\"` gives **each sample-class pair an equal contribution to the overall metric** (except as a result of sample-weight). \n",
    "    * Rather than summing the metric per class, **this sums the dividends and divisors that make up the per-class metrics to calculate an overall quotient**. \n",
    "    * Micro-averaging **may be preferred in multilabel settings**, including multiclass classification where a majority class is to be ignored.\n",
    "    * \\[🤔\\] Confusing. Explained by examople here: https://datascience.stackexchange.com/a/24051\n",
    "* `\"samples\"` **applies only to multilabel problems**. It *does not calculate a per-class measure*, instead calculating the *metric over the true and predicted classes **for each sample** in the evaluation data*, and returning their (`sample_weight`-weighted) average.\n",
    "* Selecting `average=None` will return an array with the score for each class."
   ]
  },
  {
   "cell_type": "markdown",
   "id": "97403b52-e634-48e2-bfd2-936ffd94bf92",
   "metadata": {},
   "source": [
    "#### 📑 [Accuracy score](https://scikit-learn.org/stable/modules/model_evaluation.html#accuracy-score)\n",
    "\n",
    "The `accuracy_score` function computes the accuracy, either the fraction (default) or the count (`normalize=False`) of correct predictions.\n",
    "\n",
    "In *multilabel* classification, the function returns the subset accuracy. If the entire set of predicted labels for a sample strictly match with the true set of labels, then the subset accuracy is `1.0`; otherwise it is `0.0`.\n",
    "\n",
    "If $\\hat{y}_i$ is the predicted value of the $i$-th sample and is the corresponding true value, then the fraction of correct predictions over $n_{samples}$ is defined as:\n",
    "\n",
    "$\n",
    "\\texttt{accuracy}(y, \\hat{y}) = \\frac{1}{n_{samples}} \\sum^{n_{samples}-1}_{i=0} 1(\\hat{y}_i=y_i)\n",
    "$\n",
    "\n",
    "where $1(x)$ is the [indicator function](https://en.wikipedia.org/wiki/Indicator_function)."
   ]
  },
  {
   "cell_type": "code",
   "execution_count": 24,
   "id": "cfc7ffd6-68ef-46a3-a20c-93093e70b0ba",
   "metadata": {},
   "outputs": [],
   "source": [
    "import numpy as np\n",
    "from sklearn.metrics import accuracy_score  # Note.\n",
    "y_pred = [0, 2, 1, 3]\n",
    "y_true = [0, 1, 2, 3]"
   ]
  },
  {
   "cell_type": "code",
   "execution_count": 25,
   "id": "afb4357e-dc85-4ea0-928e-0660604ffadc",
   "metadata": {},
   "outputs": [
    {
     "data": {
      "text/plain": [
       "0.5"
      ]
     },
     "execution_count": 25,
     "metadata": {},
     "output_type": "execute_result"
    }
   ],
   "source": [
    "accuracy_score(y_true, y_pred)"
   ]
  },
  {
   "cell_type": "code",
   "execution_count": 26,
   "id": "a0023e94-6264-438e-8e6d-40fc1dd990a7",
   "metadata": {},
   "outputs": [
    {
     "data": {
      "text/plain": [
       "2"
      ]
     },
     "execution_count": 26,
     "metadata": {},
     "output_type": "execute_result"
    }
   ],
   "source": [
    "accuracy_score(y_true, y_pred, normalize=False)  # Count."
   ]
  },
  {
   "cell_type": "code",
   "execution_count": 27,
   "id": "fef4766b-bfcd-4ae8-9ff9-86353dd2f8d9",
   "metadata": {},
   "outputs": [
    {
     "data": {
      "text/plain": [
       "0.5"
      ]
     },
     "execution_count": 27,
     "metadata": {},
     "output_type": "execute_result"
    }
   ],
   "source": [
    "# **Multilabel** case:\n",
    "accuracy_score(\n",
    "    np.array(\n",
    "        [\n",
    "            [0, 1], \n",
    "            [1, 1]\n",
    "        ]\n",
    "    ), \n",
    "    np.array(\n",
    "        [\n",
    "            [1, 1],\n",
    "            [1, 1]\n",
    "        ]\n",
    "    )\n",
    ")"
   ]
  },
  {
   "cell_type": "markdown",
   "id": "e493d46c-858c-40cb-9d63-05d468eb74b3",
   "metadata": {},
   "source": [
    "#### 📑 [Top-k accuracy score](https://scikit-learn.org/stable/modules/model_evaluation.html#top-k-accuracy-score)\n",
    "\n",
    "🚧 TBD"
   ]
  },
  {
   "cell_type": "markdown",
   "id": "e1e8bc14-0e2e-406c-8fe2-580ae77d2e6c",
   "metadata": {},
   "source": [
    "#### 📑 [Balanced accuracy score](https://scikit-learn.org/stable/modules/model_evaluation.html#balanced-accuracy-score)\n",
    "\n",
    "🚧 TBD"
   ]
  },
  {
   "cell_type": "markdown",
   "id": "0f30f8b5-147c-48c2-b8da-cfe05d009a67",
   "metadata": {},
   "source": [
    "#### 📑 [Cohen’s kappa](https://scikit-learn.org/stable/modules/model_evaluation.html#cohen-s-kappa)\n",
    "\n",
    "🚧 TBD"
   ]
  },
  {
   "cell_type": "markdown",
   "id": "4bc7c6a1-f598-42cf-9133-41ec868e2713",
   "metadata": {},
   "source": [
    "#### 📑 [Confusion matrix](https://scikit-learn.org/stable/modules/model_evaluation.html#confusion-matrix)\n",
    "\n",
    "The `confusion_matrix` [(docs)](https://scikit-learn.org/stable/modules/generated/sklearn.metrics.confusion_matrix.html#sklearn.metrics.confusion_matrix) function evaluates classification accuracy by computing the confusion matrix with each **row corresponding to the true class** (Wikipedia and other references may use different convention for axes).\n",
    "\n",
    "By definition, entry $i,j$ in a confusion matrix is the number of observations actually in group $i$, but predicted to be in group $j$. \n",
    "\n",
    "Here is an example:"
   ]
  },
  {
   "cell_type": "code",
   "execution_count": 28,
   "id": "89844e77-a422-4e14-8764-8e2188b8bd5d",
   "metadata": {},
   "outputs": [
    {
     "data": {
      "text/plain": [
       "array([[2, 0, 0],\n",
       "       [0, 0, 1],\n",
       "       [1, 0, 2]])"
      ]
     },
     "execution_count": 28,
     "metadata": {},
     "output_type": "execute_result"
    }
   ],
   "source": [
    "from sklearn.metrics import confusion_matrix\n",
    "y_true = [2, 0, 2, 2, 0, 1]\n",
    "y_pred = [0, 0, 2, 2, 0, 2]\n",
    "confusion_matrix(y_true, y_pred)"
   ]
  },
  {
   "cell_type": "markdown",
   "id": "c4389ba5-0af2-435d-922e-8130dcc1feb9",
   "metadata": {},
   "source": [
    "[plot_confusion_matrix](https://scikit-learn.org/stable/modules/generated/sklearn.metrics.plot_confusion_matrix.html#sklearn.metrics.plot_confusion_matrix) can be used to visually represent a confusion matrix as shown in the [Confusion matrix example](https://scikit-learn.org/stable/auto_examples/model_selection/plot_confusion_matrix.html#sphx-glr-auto-examples-model-selection-plot-confusion-matrix-py), which creates the following figure:\n",
    "\n",
    "<img src=\"https://scikit-learn.org/stable/_images/sphx_glr_plot_confusion_matrix_0011.png\" width=500 />\n",
    "\n",
    "The parameter `normalize` allows to report ratios instead of counts. The confusion matrix can be normalized in 3 different ways: `'pred'`, `'true'`, and `'all'` which will divide the counts by the sum of each columns, rows, or the entire matrix, respectively."
   ]
  },
  {
   "cell_type": "code",
   "execution_count": 29,
   "id": "9d51f895-86fb-4f55-9509-ff66f144b1d2",
   "metadata": {},
   "outputs": [
    {
     "name": "stdout",
     "output_type": "stream",
     "text": [
      "normalize=None:\n",
      " [[2 1]\n",
      " [2 3]] \n",
      "\n",
      "normalize='pred':\n",
      " [[0.5  0.25]\n",
      " [0.5  0.75]] \n",
      "\n",
      "normalize='true':\n",
      " [[0.66666667 0.33333333]\n",
      " [0.4        0.6       ]] \n",
      "\n",
      "normalize='all':\n",
      " [[0.25  0.125]\n",
      " [0.25  0.375]] \n",
      "\n"
     ]
    }
   ],
   "source": [
    "y_true = [0, 0, 0, 1, 1, 1, 1, 1]\n",
    "y_pred = [0, 1, 0, 1, 0, 1, 0, 1]\n",
    "\n",
    "print(\"normalize=None:\\n\", confusion_matrix(y_true, y_pred, normalize=None), \"\\n\")\n",
    "print(\"normalize='pred':\\n\", confusion_matrix(y_true, y_pred, normalize='pred'), \"\\n\")\n",
    "print(\"normalize='true':\\n\", confusion_matrix(y_true, y_pred, normalize='true'), \"\\n\")\n",
    "print(\"normalize='all':\\n\", confusion_matrix(y_true, y_pred, normalize='all'), \"\\n\")"
   ]
  },
  {
   "cell_type": "markdown",
   "id": "bef82cf4-e22d-4f99-9198-f37fada1be61",
   "metadata": {},
   "source": [
    "For binary problems, we can get counts of true negatives, false positives, false negatives and true positives as follows:"
   ]
  },
  {
   "cell_type": "code",
   "execution_count": 30,
   "id": "e1717a8d-d214-4555-8a74-103b3adde848",
   "metadata": {},
   "outputs": [
    {
     "data": {
      "text/plain": [
       "2"
      ]
     },
     "metadata": {},
     "output_type": "display_data"
    },
    {
     "data": {
      "text/plain": [
       "1"
      ]
     },
     "metadata": {},
     "output_type": "display_data"
    },
    {
     "data": {
      "text/plain": [
       "2"
      ]
     },
     "metadata": {},
     "output_type": "display_data"
    },
    {
     "data": {
      "text/plain": [
       "3"
      ]
     },
     "metadata": {},
     "output_type": "display_data"
    }
   ],
   "source": [
    "y_true = [0, 0, 0, 1, 1, 1, 1, 1]\n",
    "y_pred = [0, 1, 0, 1, 0, 1, 0, 1]\n",
    "tn, fp, fn, tp = confusion_matrix(y_true, y_pred).ravel()\n",
    "display(tn, fp, fn, tp)"
   ]
  },
  {
   "cell_type": "markdown",
   "id": "a11c25f6-be48-4767-87ce-7f6a0678f2a7",
   "metadata": {},
   "source": [
    "---\n",
    "#### [Confusion Matrix Plot Example](https://scikit-learn.org/stable/auto_examples/model_selection/plot_confusion_matrix.html#sphx-glr-auto-examples-model-selection-plot-confusion-matrix-py)\n",
    "\n",
    "Example of confusion matrix usage to evaluate the quality of the output of a classifier on the *iris* data set. \n",
    "\n",
    "* The diagonal elements represent the number of points for which the predicted label is equal to the true label, \n",
    "* while off-diagonal elements are those that are mislabeled by the classifier. \n",
    "\n",
    "The higher the diagonal values of the confusion matrix the better, indicating many correct predictions.\n",
    "\n",
    "The figures show the confusion matrix *with and without normalization* by class support size (number of elements in each class). This kind of normalization can be interesting in case of class imbalance to have a more visual interpretation of which class is being misclassified."
   ]
  },
  {
   "cell_type": "code",
   "execution_count": 31,
   "id": "c8f96481-3d3a-44b4-bd0d-d7b4f6163d83",
   "metadata": {},
   "outputs": [],
   "source": [
    "import numpy as np\n",
    "import matplotlib.pyplot as plt"
   ]
  },
  {
   "cell_type": "code",
   "execution_count": 32,
   "id": "2383f68e-e845-44f8-ad9b-f99b7eef3e07",
   "metadata": {},
   "outputs": [],
   "source": [
    "from sklearn import svm, datasets\n",
    "from sklearn.model_selection import train_test_split\n",
    "from sklearn.metrics import plot_confusion_matrix  # <-- ❗ Note."
   ]
  },
  {
   "cell_type": "code",
   "execution_count": 33,
   "id": "ff739e38-ec5e-4bcd-8894-d80c853fea53",
   "metadata": {},
   "outputs": [
    {
     "name": "stdout",
     "output_type": "stream",
     "text": [
      "['setosa' 'versicolor' 'virginica']\n"
     ]
    }
   ],
   "source": [
    "# import some data to play with\n",
    "iris = datasets.load_iris()\n",
    "X = iris.data\n",
    "y = iris.target\n",
    "class_names = iris.target_names\n",
    "print(class_names)"
   ]
  },
  {
   "cell_type": "code",
   "execution_count": 34,
   "id": "8aa00004-1598-46a4-ab6c-6b30b73c98bb",
   "metadata": {},
   "outputs": [],
   "source": [
    "# Split the data into a training set and a test set\n",
    "X_train, X_test, y_train, y_test = train_test_split(X, y, random_state=0)"
   ]
  },
  {
   "cell_type": "code",
   "execution_count": 35,
   "id": "42eb17ef-b867-45ac-8b91-0fb34c9f5d58",
   "metadata": {},
   "outputs": [],
   "source": [
    "# Run classifier, using a model that is too regularized (C too low) to see the impact on the results\n",
    "classifier = svm.SVC(kernel='linear', C=0.01).fit(X_train, y_train)"
   ]
  },
  {
   "cell_type": "code",
   "execution_count": 36,
   "id": "81bad6e2-2954-4efb-a20b-c89d188a3c8e",
   "metadata": {},
   "outputs": [],
   "source": [
    "titles_options = [\n",
    "    (\"Confusion matrix, without normalization\", None),\n",
    "    (\"Normalized confusion matrix\", 'true')\n",
    "]"
   ]
  },
  {
   "cell_type": "code",
   "execution_count": 37,
   "id": "47faa733-394d-4527-bbaf-d86cf4eb31ac",
   "metadata": {},
   "outputs": [
    {
     "name": "stdout",
     "output_type": "stream",
     "text": [
      "Confusion matrix, without normalization\n",
      "[[13  0  0]\n",
      " [ 0 10  6]\n",
      " [ 0  0  9]]\n",
      "Normalized confusion matrix\n",
      "[[1.   0.   0.  ]\n",
      " [0.   0.62 0.38]\n",
      " [0.   0.   1.  ]]\n"
     ]
    },
    {
     "data": {
      "image/png": "[encoded data removed]",
      "text/plain": [
       "<Figure size 432x288 with 2 Axes>"
      ]
     },
     "metadata": {
      "needs_background": "light"
     },
     "output_type": "display_data"
    },
    {
     "data": {
      "image/png": "[encoded data removed]",
      "text/plain": [
       "<Figure size 432x288 with 2 Axes>"
      ]
     },
     "metadata": {
      "needs_background": "light"
     },
     "output_type": "display_data"
    }
   ],
   "source": [
    "with np.printoptions(precision=2):\n",
    "    for title, normalize in titles_options:\n",
    "        disp = plot_confusion_matrix(\n",
    "            classifier, \n",
    "            X_test, \n",
    "            y_test,\n",
    "            display_labels=class_names,\n",
    "            cmap=plt.cm.Blues,\n",
    "            normalize=normalize\n",
    "        )\n",
    "        disp.ax_.set_title(title)\n",
    "        \n",
    "        print(title)\n",
    "        print(disp.confusion_matrix)\n",
    "\n",
    "plt.show()"
   ]
  },
  {
   "cell_type": "markdown",
   "id": "3ebb853b-ecd3-4db0-9832-fc3c70cd8e54",
   "metadata": {},
   "source": [
    "---"
   ]
  },
  {
   "cell_type": "markdown",
   "id": "c9a2226f-5c55-4ada-8f45-79a969aaa7a1",
   "metadata": {},
   "source": [
    "#### 📑 [Classification report](https://scikit-learn.org/stable/modules/model_evaluation.html#classification-report)\n",
    "\n",
    "The `classification_report` function builds a text report showing the main classification metrics. \n",
    "\n",
    "Here is a small example with custom target_names and inferred labels:"
   ]
  },
  {
   "cell_type": "code",
   "execution_count": 38,
   "id": "578b605f-7ded-425a-adc6-1f368cbe5ab4",
   "metadata": {},
   "outputs": [
    {
     "name": "stdout",
     "output_type": "stream",
     "text": [
      "              precision    recall  f1-score   support\n",
      "\n",
      "     class 0       0.67      1.00      0.80         2\n",
      "     class 1       0.00      0.00      0.00         1\n",
      "     class 2       1.00      0.50      0.67         2\n",
      "\n",
      "    accuracy                           0.60         5\n",
      "   macro avg       0.56      0.50      0.49         5\n",
      "weighted avg       0.67      0.60      0.59         5\n",
      "\n"
     ]
    }
   ],
   "source": [
    "from sklearn.metrics import classification_report\n",
    "\n",
    "y_true = [0, 1, 2, 2, 0]\n",
    "y_pred = [0, 0, 2, 1, 0]\n",
    "\n",
    "target_names = ['class 0', 'class 1', 'class 2']\n",
    "\n",
    "print(\n",
    "    classification_report(\n",
    "        y_true, \n",
    "        y_pred, \n",
    "        target_names=target_names  # Note.\n",
    "    )\n",
    ")"
   ]
  },
  {
   "cell_type": "markdown",
   "id": "f0eaf9b5-92a0-4aa3-858b-590622a1971a",
   "metadata": {},
   "source": [
    "#### 📑 [Hamming loss](https://scikit-learn.org/stable/modules/model_evaluation.html#hamming-loss)\n",
    "\n",
    "🚧 TBD"
   ]
  },
  {
   "cell_type": "markdown",
   "id": "e7a5cab2-f85f-4d8d-8050-4462b4e26d65",
   "metadata": {},
   "source": [
    "#### 📑 [Precision, recall and F-measures](https://scikit-learn.org/stable/modules/model_evaluation.html#precision-recall-and-f-measures)\n",
    "\n",
    "Intuitively: \n",
    "* **precision** ($P$) is the ability of the classifier *not to label as positive a sample that is negative (hence it's \"precise\")*, \n",
    "* and **recall** ($R$) is the ability of the classifier to *find **all** (hence \"recall\") the positive* samples.\n",
    "\n",
    "The F-measure ($F_\\beta$ and $F_1$ measures) can be interpreted as a weighted harmonic mean of the precision and recall. A $F_\\beta$ measure reaches its best value at 1 and its worst score at 0. With $\\beta=1$, $F_\\beta$ and $F_1$ are equivalent, and the *recall and the precision are equally important*.\n",
    "\n",
    "The `precision_recall_curve` computes a precision-recall curve from the *ground truth label* and a *score given by the classifier* by **varying a decision threshold**.\n",
    "\n",
    "The `average_precision_score` function computes the average precision ($AP$) from prediction scores. The value is between 0 and 1 and higher is better. AP is defined as:\n",
    "\n",
    "$\n",
    "AP = \\sum_n (R - R_{n-1})P_n\n",
    "$\n",
    "\n",
    "where $P_n$ and $R_n$ are the precision and recall at the $n$th **threshold**. *With random predictions, the AP is the fraction of positive samples.*\n",
    "\n",
    "🎓 References [Manning2008](https://scikit-learn.org/stable/modules/model_evaluation.html#manning2008) and [Everingham2010](https://scikit-learn.org/stable/modules/model_evaluation.html#everingham2010) present alternative variants of AP that interpolate the precision-recall curve. Currently, `average_precision_score` **does not implement any interpolated variant**. References [Davis2006](https://scikit-learn.org/stable/modules/model_evaluation.html#davis2006) and [Flach2015](https://scikit-learn.org/stable/modules/model_evaluation.html#flach2015) describe why a linear interpolation of points on the precision-recall curve provides an overly-optimistic measure of classifier performance. *This linear interpolation is used when computing area under the curve with the trapezoidal rule in `auc`*.\n",
    "\n",
    "Several functions allow you to analyze the precision, recall and F-measures score:"
   ]
  },
  {
   "cell_type": "markdown",
   "id": "690d9e0a-4507-44f7-b68e-04959181fb72",
   "metadata": {},
   "source": [
    "<table class=\"longtable docutils align-default mytable\">\n",
    "<colgroup>\n",
    "<col style=\"width: 10%\">\n",
    "<col style=\"width: 90%\">\n",
    "</colgroup>\n",
    "<tbody>\n",
    "<tr class=\"row-odd\"><td><p><a class=\"reference internal\" href=\"generated/sklearn.metrics.average_precision_score.html#sklearn.metrics.average_precision_score\" title=\"sklearn.metrics.average_precision_score\"><code class=\"xref py py-obj docutils literal notranslate\"><span class=\"pre\">average_precision_score</span></code></a>(y_true,&nbsp;y_score,&nbsp;*)</p></td>\n",
    "<td><p>Compute average precision (AP) from prediction scores.</p></td>\n",
    "</tr>\n",
    "<tr class=\"row-even\"><td><p><a class=\"reference internal\" href=\"generated/sklearn.metrics.f1_score.html#sklearn.metrics.f1_score\" title=\"sklearn.metrics.f1_score\"><code class=\"xref py py-obj docutils literal notranslate\"><span class=\"pre\">f1_score</span></code></a>(y_true,&nbsp;y_pred,&nbsp;*[,&nbsp;labels,&nbsp;…])</p></td>\n",
    "<td><p>Compute the F1 score, also known as balanced F-score or F-measure.</p></td>\n",
    "</tr>\n",
    "<tr class=\"row-odd\"><td><p><a class=\"reference internal\" href=\"generated/sklearn.metrics.fbeta_score.html#sklearn.metrics.fbeta_score\" title=\"sklearn.metrics.fbeta_score\"><code class=\"xref py py-obj docutils literal notranslate\"><span class=\"pre\">fbeta_score</span></code></a>(y_true,&nbsp;y_pred,&nbsp;*,&nbsp;beta[,&nbsp;…])</p></td>\n",
    "<td><p>Compute the F-beta score.</p></td>\n",
    "</tr>\n",
    "<tr class=\"row-even\"><td><p><a class=\"reference internal\" href=\"generated/sklearn.metrics.precision_recall_curve.html#sklearn.metrics.precision_recall_curve\" title=\"sklearn.metrics.precision_recall_curve\"><code class=\"xref py py-obj docutils literal notranslate\"><span class=\"pre\">precision_recall_curve</span></code></a>(y_true,&nbsp;probas_pred,&nbsp;*)</p></td>\n",
    "<td><p>Compute precision-recall pairs for different probability thresholds.</p></td>\n",
    "</tr>\n",
    "<tr class=\"row-odd\"><td><p><a class=\"reference internal\" href=\"generated/sklearn.metrics.precision_recall_fscore_support.html#sklearn.metrics.precision_recall_fscore_support\" title=\"sklearn.metrics.precision_recall_fscore_support\"><code class=\"xref py py-obj docutils literal notranslate\"><span class=\"pre\">precision_recall_fscore_support</span></code></a>(y_true,&nbsp;…)</p></td>\n",
    "<td><p>Compute precision, recall, F-measure and support for each class.</p></td>\n",
    "</tr>\n",
    "<tr class=\"row-even\"><td><p><a class=\"reference internal\" href=\"generated/sklearn.metrics.precision_score.html#sklearn.metrics.precision_score\" title=\"sklearn.metrics.precision_score\"><code class=\"xref py py-obj docutils literal notranslate\"><span class=\"pre\">precision_score</span></code></a>(y_true,&nbsp;y_pred,&nbsp;*[,&nbsp;labels,&nbsp;…])</p></td>\n",
    "<td><p>Compute the precision.</p></td>\n",
    "</tr>\n",
    "<tr class=\"row-odd\"><td><p><a class=\"reference internal\" href=\"generated/sklearn.metrics.recall_score.html#sklearn.metrics.recall_score\" title=\"sklearn.metrics.recall_score\"><code class=\"xref py py-obj docutils literal notranslate\"><span class=\"pre\">recall_score</span></code></a>(y_true,&nbsp;y_pred,&nbsp;*[,&nbsp;labels,&nbsp;…])</p></td>\n",
    "<td><p>Compute the recall.</p></td>\n",
    "</tr>\n",
    "</tbody>\n",
    "</table>"
   ]
  },
  {
   "cell_type": "markdown",
   "id": "ce2ccac8-5226-4443-a802-d82a585ff3df",
   "metadata": {},
   "source": [
    "Note that the `precision_recall_curve` function is **restricted to the binary case**. The `average_precision_score` function works only in *binary* classification and *multilabel indicator* format. \n",
    "\n",
    "The `plot_precision_recall_curve` function plots the precision recall as follows:\n",
    "\n",
    "<img src=\"https://scikit-learn.org/stable/_images/sphx_glr_plot_precision_recall_0011.png\" width=500/>"
   ]
  },
  {
   "cell_type": "markdown",
   "id": "afcebf7c-d760-4687-b007-aa59799d093a",
   "metadata": {},
   "source": [
    "##### ↳ 📑 [Binary classification](https://scikit-learn.org/stable/modules/model_evaluation.html#binary-classification)\n",
    "\n",
    "In a binary classification task, the terms *\"positive\"* and *\"negative\"* refer to the classifier’s prediction, and the terms *\"true\"* and *\"false\"* refer to whether that prediction corresponds to the external judgment (sometimes known as the ‘’observation’’). Given these definitions, we can formulate the following table:"
   ]
  },
  {
   "cell_type": "markdown",
   "id": "1baa49bc-cea8-4a1c-b42e-78c3766cba84",
   "metadata": {},
   "source": [
    "<table class=\"docutils align-default\">\n",
    "<colgroup>\n",
    "<col style=\"width: 29%\">\n",
    "<col style=\"width: 32%\">\n",
    "<col style=\"width: 39%\">\n",
    "</colgroup>\n",
    "<tbody>\n",
    "<tr class=\"row-odd\"><td></td>\n",
    "<td colspan=\"2\"><p>Actual class (observation)</p></td>\n",
    "</tr>\n",
    "<tr class=\"row-even\"><td rowspan=\"2\"><p>Predicted class\n",
    "(expectation)</p></td>\n",
    "<td><p>tp (true positive)\n",
    "Correct result</p></td>\n",
    "<td><p>fp (false positive)\n",
    "Unexpected result</p></td>\n",
    "</tr>\n",
    "<tr class=\"row-odd\"><td><p>fn (false negative)\n",
    "Missing result</p></td>\n",
    "<td><p>tn (true negative)\n",
    "Correct absence of result</p></td>\n",
    "</tr>\n",
    "</tbody>\n",
    "</table>"
   ]
  },
  {
   "cell_type": "markdown",
   "id": "10b9a7b5-1d7d-4d90-9a04-3e66ee1eea3a",
   "metadata": {},
   "source": [
    "In this context, we can define the notions of precision, recall and F-measure:\n",
    "\n",
    "$\n",
    "\\text{precision}=\\frac{tp}{tp+fp}\n",
    "$\n",
    "\n",
    "$\n",
    "\\text{recall}=\\frac{tp}{tp+fn}\n",
    "$\n",
    "\n",
    "$\n",
    "F_\\beta = (1 + \\beta^2) \\frac{\\text{precision} \\times \\text{recall}}{\\beta^2 \\text{precision} + \\text{recall}}\n",
    "$\n",
    "\n",
    "Examples:"
   ]
  },
  {
   "cell_type": "code",
   "execution_count": 39,
   "id": "93f7fbf2-d058-4cdb-b58b-58891c98089f",
   "metadata": {},
   "outputs": [
    {
     "name": "stdout",
     "output_type": "stream",
     "text": [
      "y_true: [0, 1, 0, 1]\n",
      "y_pred: [0, 1, 0, 0]\n"
     ]
    }
   ],
   "source": [
    "from sklearn import metrics\n",
    "y_pred = [0, 1, 0, 0]\n",
    "y_true = [0, 1, 0, 1]\n",
    "print(\"y_true:\", y_true)\n",
    "print(\"y_pred:\", y_pred)"
   ]
  },
  {
   "cell_type": "code",
   "execution_count": 40,
   "id": "f5020d4d-3be7-4276-aa81-6cd0432b6cbf",
   "metadata": {},
   "outputs": [
    {
     "name": "stdout",
     "output_type": "stream",
     "text": [
      "precision_score: 1.0\n",
      "recall_score: 0.5\n",
      "f1_score: 0.6666666666666666\n",
      "fbeta_score beta=0.5: 0.8333333333333334\n",
      "fbeta_score beta=1: 0.6666666666666666\n",
      "fbeta_score beta=2: 0.5555555555555556\n",
      "precision_recall_fscore_support:\n",
      " (array([0.66666667, 1.        ]), array([1. , 0.5]), array([0.71428571, 0.83333333]), array([2, 2]))\n"
     ]
    }
   ],
   "source": [
    "print(\"precision_score:\", metrics.precision_score(y_true, y_pred))\n",
    "print(\"recall_score:\", metrics.recall_score(y_true, y_pred))\n",
    "print(\"f1_score:\", metrics.f1_score(y_true, y_pred))\n",
    "print(\"fbeta_score beta=0.5:\", metrics.fbeta_score(y_true, y_pred, beta=0.5))\n",
    "print(\"fbeta_score beta=1:\", metrics.fbeta_score(y_true, y_pred, beta=1))\n",
    "print(\"fbeta_score beta=2:\", metrics.fbeta_score(y_true, y_pred, beta=2))\n",
    "print(\"precision_recall_fscore_support:\\n\", metrics.precision_recall_fscore_support(y_true, y_pred, beta=0.5))"
   ]
  },
  {
   "cell_type": "code",
   "execution_count": 41,
   "id": "66b48e18-4b62-46fa-a025-a8863f1e0a1d",
   "metadata": {},
   "outputs": [],
   "source": [
    "import numpy as np\n",
    "from sklearn.metrics import precision_recall_curve\n",
    "from sklearn.metrics import average_precision_score"
   ]
  },
  {
   "cell_type": "code",
   "execution_count": 42,
   "id": "02cfa0ae-e09a-4f0b-aa30-de10566180fb",
   "metadata": {},
   "outputs": [
    {
     "name": "stdout",
     "output_type": "stream",
     "text": [
      "y_true: [0 0 1 1]\n",
      "y_scores: [0.1  0.4  0.35 0.8 ]\n"
     ]
    }
   ],
   "source": [
    "y_true = np.array([0, 0, 1, 1])\n",
    "y_scores = np.array([0.1, 0.4, 0.35, 0.8])\n",
    "print(\"y_true:\", y_true)\n",
    "print(\"y_scores:\", y_scores)"
   ]
  },
  {
   "cell_type": "code",
   "execution_count": 43,
   "id": "7a94d70e-95dc-455f-a227-e332a4f9493a",
   "metadata": {},
   "outputs": [
    {
     "name": "stdout",
     "output_type": "stream",
     "text": [
      "precision:\n",
      " [0.66666667 0.5        1.         1.        ]\n",
      "recall:\n",
      " [1.  0.5 0.5 0. ]\n",
      "threshold:\n",
      " [0.35 0.4  0.8 ]\n"
     ]
    }
   ],
   "source": [
    "precision, recall, threshold = precision_recall_curve(y_true, y_scores)\n",
    "print(\"precision:\\n\", precision)\n",
    "print(\"recall:\\n\", recall)\n",
    "print(\"threshold:\\n\", threshold)"
   ]
  },
  {
   "cell_type": "code",
   "execution_count": 44,
   "id": "9d28c850-e2a5-47da-9ebc-55541f5c1b08",
   "metadata": {},
   "outputs": [
    {
     "data": {
      "text/plain": [
       "0.8333333333333333"
      ]
     },
     "execution_count": 44,
     "metadata": {},
     "output_type": "execute_result"
    }
   ],
   "source": [
    "average_precision_score(y_true, y_scores)"
   ]
  },
  {
   "cell_type": "markdown",
   "id": "d37890f7-cf19-41da-9602-28a7c3533f8a",
   "metadata": {},
   "source": [
    "##### ↳ 📑 [Multiclass and multilabel classification](https://scikit-learn.org/stable/modules/model_evaluation.html#multiclass-and-multilabel-classification)\n",
    "\n",
    "🚧 TBD"
   ]
  },
  {
   "cell_type": "markdown",
   "id": "fd8ab006-e3d1-4dde-a1ba-8d02ee40e495",
   "metadata": {},
   "source": [
    "#### 📑 [Jaccard similarity coefficient score](https://scikit-learn.org/stable/modules/model_evaluation.html#jaccard-similarity-coefficient-score)\n",
    "\n",
    "🚧 TBD"
   ]
  },
  {
   "cell_type": "markdown",
   "id": "3edf57a5-87de-44ce-9e77-a05af207c923",
   "metadata": {},
   "source": [
    "#### [Hinge loss](https://scikit-learn.org/stable/modules/model_evaluation.html#hinge-loss)\n",
    "\n",
    "🚧 TBD"
   ]
  },
  {
   "cell_type": "markdown",
   "id": "25637a2b-cf42-45d9-9fdb-6ed2f70703dc",
   "metadata": {},
   "source": [
    "#### 📑 [Log loss](https://scikit-learn.org/stable/modules/model_evaluation.html#log-loss)\n",
    "\n",
    "**Log loss**, also called \n",
    "* **logistic regression loss** or \n",
    "* **cross-entropy loss**, \n",
    "\n",
    "is defined on probability estimates. \n",
    "\n",
    "It is commonly used in (multinomial) logistic regression and neural networks, as well as in some variants of expectation-maximization, \\[💡\\] and can be used to evaluate the **probability outputs** (`predict_proba`) of a classifier **instead of its discrete predictions**.\n",
    "\n",
    "The `log_loss` function computes log loss given \n",
    "* a list of ground-truth labels and \n",
    "* a probability **matrix**, \n",
    "\n",
    "*as returned by an estimator’s `predict_proba` method*.\n",
    "\n",
    "Example:"
   ]
  },
  {
   "cell_type": "code",
   "execution_count": 45,
   "id": "261a2ed8-6350-4f35-ab17-6495e7b4ee8c",
   "metadata": {},
   "outputs": [
    {
     "name": "stdout",
     "output_type": "stream",
     "text": [
      "y_true (true classes):       [0, 0, 1, 1]\n",
      "y_pred (pred. class prob's): [[0.9, 0.1], [0.8, 0.2], [0.3, 0.7], [0.01, 0.99]]\n",
      "log_loss(y_true, y_pred):    0.1738073366910675\n"
     ]
    }
   ],
   "source": [
    "# The first [.9, .1] in y_pred denotes 90% probability that the first sample has label 0. \n",
    "# The log loss is non-negative.\n",
    "\n",
    "from sklearn.metrics import log_loss\n",
    "y_true = [0, 0, 1, 1]\n",
    "y_pred = [[.9, .1], [.8, .2], [.3, .7], [.01, .99]]\n",
    "print(\"y_true (true classes):      \", y_true)\n",
    "print(\"y_pred (pred. class prob's):\", y_pred)\n",
    "print(\"log_loss(y_true, y_pred):   \", log_loss(y_true, y_pred))"
   ]
  },
  {
   "cell_type": "markdown",
   "id": "8e70bedb-34e5-4dd4-807f-784fd962dcf0",
   "metadata": {},
   "source": [
    "#### 📑 [Matthews correlation coefficient](https://scikit-learn.org/stable/modules/model_evaluation.html#matthews-correlation-coefficient)\n",
    "\n",
    "🚧 TBD"
   ]
  },
  {
   "cell_type": "markdown",
   "id": "3038143c-0618-4dc1-a547-a976d9dc780c",
   "metadata": {},
   "source": [
    "#### 📑 [Multi-label confusion matrix](https://scikit-learn.org/stable/modules/model_evaluation.html#multi-label-confusion-matrix)\n",
    "\n",
    "The `multilabel_confusion_matrix` function computes class-wise (default) or sample-wise (`samplewise=True`) **multilabel confusion matrix** to evaluate the accuracy of a classification.\n",
    "\n",
    "`multilabel_confusion_matrix` also **treats multiclass data as if it were multilabel**, as this is a transformation commonly applied to evaluate multiclass problems with binary classification metrics (such as precision, recall, etc.).\n",
    "\n",
    "When calculating class-wise multilabel confusion matrix $C$: \n",
    "* the *count of true negatives* for class $i$ is $C_{i,0,0}$, \n",
    "* *false negatives* is $C_{i,1,0}$,\n",
    "* *true positives* is $C_{i,1,1}$,\n",
    "* and *false positives* is $C_{i,0,1}$.\n",
    "\n",
    "Here is an example demonstrating the use of the `multilabel_confusion_matrix` function with *multilabel indicator matrix input*:"
   ]
  },
  {
   "cell_type": "code",
   "execution_count": 46,
   "id": "3232d1a8-bae6-416e-80c2-04d1e1eef5d2",
   "metadata": {},
   "outputs": [
    {
     "name": "stdout",
     "output_type": "stream",
     "text": [
      "matrix.shape: (3, 2, 2)\n",
      "^ n_classes, 2x2 conf. matrix\n",
      "\n",
      "matrix:\n",
      " [[[1 0]\n",
      "  [0 3]]\n",
      "\n",
      " [[1 0]\n",
      "  [1 2]]\n",
      "\n",
      " [[1 1]\n",
      "  [2 0]]]\n",
      "\n",
      "------------------------------\n",
      "Label/Class 0:\n",
      "[[1 0]\n",
      " [0 3]]\n",
      "Label/Class 1:\n",
      "[[1 0]\n",
      " [1 2]]\n",
      "Label/Class 2:\n",
      "[[1 1]\n",
      " [2 0]]\n"
     ]
    }
   ],
   "source": [
    "import numpy as np\n",
    "from sklearn.metrics import multilabel_confusion_matrix\n",
    "\n",
    "y_true = np.array(\n",
    "    [\n",
    "        [1, 0, 1],\n",
    "        [0, 1, 0],\n",
    "        [1, 1, 1],\n",
    "        [1, 1, 0]\n",
    "    ]\n",
    ")\n",
    "y_pred = np.array(\n",
    "    [\n",
    "        [1, 0, 0],\n",
    "        [0, 1, 1],\n",
    "        [1, 1, 0],\n",
    "        [1, 0, 0]\n",
    "    ]\n",
    ")\n",
    "\n",
    "# Note that this is a 3D matrix.\n",
    "matrix = multilabel_confusion_matrix(y_true, y_pred)\n",
    "print(\"matrix.shape:\", matrix.shape)\n",
    "print(\"^ n_classes, 2x2 conf. matrix\")\n",
    "print(\"\\nmatrix:\\n\", matrix)\n",
    "print(\"\\n------------------------------\")\n",
    "for i in range(matrix.shape[0]):\n",
    "    print(f\"Label/Class {i}:\")\n",
    "    print(matrix[i])"
   ]
  },
  {
   "cell_type": "markdown",
   "id": "496d36e9-798e-47ca-8f2c-c4214c265aa4",
   "metadata": {},
   "source": [
    "Or a confusion matrix can be constructed for *each sample’s labels*:"
   ]
  },
  {
   "cell_type": "code",
   "execution_count": 47,
   "id": "e28f3956-5d53-4968-8362-af9db511f05b",
   "metadata": {},
   "outputs": [
    {
     "name": "stdout",
     "output_type": "stream",
     "text": [
      "matrix.shape: (4, 2, 2)\n",
      "^ n_samples, 2x2 conf. matrix\n",
      "\n",
      "matrix:\n",
      " [[[1 0]\n",
      "  [1 1]]\n",
      "\n",
      " [[1 1]\n",
      "  [0 1]]\n",
      "\n",
      " [[0 0]\n",
      "  [1 2]]\n",
      "\n",
      " [[1 0]\n",
      "  [1 1]]]\n",
      "\n",
      "------------------------------\n",
      "Sample 0:\n",
      "[[1 0]\n",
      " [1 1]]\n",
      "Sample 1:\n",
      "[[1 1]\n",
      " [0 1]]\n",
      "Sample 2:\n",
      "[[0 0]\n",
      " [1 2]]\n",
      "Sample 3:\n",
      "[[1 0]\n",
      " [1 1]]\n"
     ]
    }
   ],
   "source": [
    "matrix = multilabel_confusion_matrix(y_true, y_pred, samplewise=True)\n",
    "\n",
    "print(\"matrix.shape:\", matrix.shape)\n",
    "print(\"^ n_samples, 2x2 conf. matrix\")\n",
    "print(\"\\nmatrix:\\n\", matrix)\n",
    "print(\"\\n------------------------------\")\n",
    "for i in range(matrix.shape[0]):\n",
    "    print(f\"Sample {i}:\")\n",
    "    print(matrix[i])"
   ]
  },
  {
   "cell_type": "markdown",
   "id": "43c9fb35-fb56-4c38-9f9b-805ebf5cc471",
   "metadata": {},
   "source": [
    "Here is an example demonstrating the use of the `multilabel_confusion_matrix` function with **multiclass** input:"
   ]
  },
  {
   "cell_type": "code",
   "execution_count": 48,
   "id": "c0511e5b-b486-427f-b186-8ce583992d4f",
   "metadata": {},
   "outputs": [
    {
     "data": {
      "text/plain": [
       "array([[[3, 1],\n",
       "        [0, 2]],\n",
       "\n",
       "       [[5, 0],\n",
       "        [1, 0]],\n",
       "\n",
       "       [[2, 1],\n",
       "        [1, 2]]])"
      ]
     },
     "execution_count": 48,
     "metadata": {},
     "output_type": "execute_result"
    }
   ],
   "source": [
    "y_true = [\"cat\", \"ant\", \"cat\", \"cat\", \"ant\", \"bird\"]\n",
    "y_pred = [\"ant\", \"ant\", \"cat\", \"cat\", \"ant\", \"cat\"]\n",
    "\n",
    "multilabel_confusion_matrix(\n",
    "    y_true, \n",
    "    y_pred,\n",
    "    labels=[\"ant\", \"bird\", \"cat\"]\n",
    ")"
   ]
  },
  {
   "cell_type": "markdown",
   "id": "b36e4685-8460-4bd5-ac1f-0c7a8b908bc2",
   "metadata": {},
   "source": [
    "Here are some examples demonstrating the use of the `multilabel_confusion_matrix` function to calculate: \n",
    "* recall (or sensitivity), \n",
    "* specificity, \n",
    "* fall out and \n",
    "* miss rate \n",
    "\n",
    "for each class in a problem with multilabel indicator matrix input."
   ]
  },
  {
   "cell_type": "code",
   "execution_count": 49,
   "id": "9a68bb29-9c79-4353-9fc0-6a83c9885b68",
   "metadata": {},
   "outputs": [
    {
     "name": "stdout",
     "output_type": "stream",
     "text": [
      "DATA (3 classes, 4 samples):\n",
      "y_true:\n",
      " [[0 0 1]\n",
      " [0 1 0]\n",
      " [1 1 0]\n",
      " [1 1 1]]\n",
      "y_pred:\n",
      " [[0 0 1]\n",
      " [0 1 0]\n",
      " [1 1 0]\n",
      " [1 1 1]]\n",
      "\n",
      "multilabel_confusion_matrix:\n",
      " [[[2 0]\n",
      "  [1 1]]\n",
      "\n",
      " [[0 1]\n",
      "  [2 1]]\n",
      "\n",
      " [[1 1]\n",
      "  [1 1]]]\n",
      "\n",
      "RATES (per class):\n",
      "TN = mcm[:, 0, 0] = [2 0 1]\n",
      "TP = mcm[:, 1, 1] = [1 1 1]\n",
      "FN = mcm[:, 1, 0] = [1 2 1]\n",
      "FP = mcm[:, 0, 1] = [0 1 1]\n"
     ]
    }
   ],
   "source": [
    "y_true = np.array(\n",
    "    [\n",
    "        [0, 0, 1],\n",
    "        [0, 1, 0],\n",
    "        [1, 1, 0],\n",
    "        [1, 1, 1]\n",
    "    ]\n",
    ")\n",
    "y_pred = np.array(\n",
    "    [\n",
    "        [0, 1, 0],\n",
    "        [0, 0, 1],\n",
    "        [1, 1, 0],\n",
    "        [0, 0, 1]\n",
    "    ]\n",
    ")\n",
    "print(\"DATA (3 classes, 4 samples):\")\n",
    "print(\"y_true:\\n\", y_true)\n",
    "print(\"y_pred:\\n\", y_true)\n",
    "\n",
    "mcm = multilabel_confusion_matrix(y_true, y_pred)\n",
    "print(\"\\nmultilabel_confusion_matrix:\\n\", mcm)\n",
    "\n",
    "tn = mcm[:, 0, 0]\n",
    "tp = mcm[:, 1, 1]\n",
    "fn = mcm[:, 1, 0]\n",
    "fp = mcm[:, 0, 1]\n",
    "print(\"\\nRATES (per class):\")\n",
    "for name, value, how in zip([\"TN\", \"TP\", \"FN\", \"FP\"], [tn, tp, fn, fp], [\"mcm[:, 0, 0]\", \"mcm[:, 1, 1]\", \"mcm[:, 1, 0]\", \"mcm[:, 0, 1]\"]):\n",
    "    print(f\"{name} = {how} = {value}\")"
   ]
  },
  {
   "cell_type": "code",
   "execution_count": 50,
   "id": "8a10647b-98c6-497f-9d69-65c8621eda17",
   "metadata": {},
   "outputs": [
    {
     "data": {
      "text/plain": [
       "array([0.5       , 0.33333333, 0.5       ])"
      ]
     },
     "execution_count": 50,
     "metadata": {},
     "output_type": "execute_result"
    }
   ],
   "source": [
    "# recall (also called the true positive rate or the sensitivity) for each class:\n",
    "tp / (tp + fn)"
   ]
  },
  {
   "cell_type": "code",
   "execution_count": 51,
   "id": "287f156c-3542-464b-b774-c5f720760905",
   "metadata": {},
   "outputs": [
    {
     "data": {
      "text/plain": [
       "array([1. , 0. , 0.5])"
      ]
     },
     "execution_count": 51,
     "metadata": {},
     "output_type": "execute_result"
    }
   ],
   "source": [
    "#  specificity (also called the true negative rate) for each class:\n",
    "tn / (tn + fp)"
   ]
  },
  {
   "cell_type": "code",
   "execution_count": 52,
   "id": "d8cef12f-f183-49d8-bd4f-1055edb84843",
   "metadata": {},
   "outputs": [
    {
     "data": {
      "text/plain": [
       "array([0. , 1. , 0.5])"
      ]
     },
     "execution_count": 52,
     "metadata": {},
     "output_type": "execute_result"
    }
   ],
   "source": [
    "# fall out (also called the false positive rate) for each class:\n",
    "fp / (fp + tn)"
   ]
  },
  {
   "cell_type": "code",
   "execution_count": 53,
   "id": "8c336cf6-14b9-415c-9b2b-1e712ab81250",
   "metadata": {},
   "outputs": [
    {
     "data": {
      "text/plain": [
       "array([0.5       , 0.66666667, 0.5       ])"
      ]
     },
     "execution_count": 53,
     "metadata": {},
     "output_type": "execute_result"
    }
   ],
   "source": [
    "# miss rate (also called the false negative rate) for each class:\n",
    "fn / (fn + tp)"
   ]
  },
  {
   "cell_type": "markdown",
   "id": "b1806c99-f233-4f63-bf7c-9828ba9bd749",
   "metadata": {},
   "source": [
    "#### 📑 [Receiver operating characteristic (ROC)](https://scikit-learn.org/stable/modules/model_evaluation.html#receiver-operating-characteristic-roc)\n",
    "\n",
    "The function `roc_curve` computes the [**receiver operating characteristic curve, or ROC curve**](https://en.wikipedia.org/wiki/Receiver_operating_characteristic). \n",
    "\n",
    "Quoting Wikipedia :\n",
    "> A receiver operating characteristic (*ROC*), or simply ROC curve, is a graphical plot which illustrates the performance of a **binary classifier** system **as its discrimination threshold is varied**. It is created by plotting the *fraction of true positives out of the positives* (`TPR = true positive rate`) vs. *the fraction of false positives out of the negatives* (`FPR = false positive rate`), *at various threshold settings*. TPR is also known as sensitivity, and FPR is one minus the specificity or true negative rate.\n",
    "\n",
    "This function requires the **true binary value** and the **target scores**, which can either be \n",
    "* probability estimates of the positive class, \n",
    "* confidence values, or \n",
    "* binary decisions. \n",
    "\n",
    "Here is a small example of how to use the roc_curve function:"
   ]
  },
  {
   "cell_type": "code",
   "execution_count": 54,
   "id": "ec5a295d-ab95-4fd9-94e9-3cc9601904c1",
   "metadata": {},
   "outputs": [
    {
     "name": "stdout",
     "output_type": "stream",
     "text": [
      "FPR:\n",
      " [0.  0.  0.5 0.5 1. ]\n",
      "TPR:\n",
      " [0.  0.5 0.5 1.  1. ]\n",
      "Threshold:\n",
      " [1.8  0.8  0.4  0.35 0.1 ]\n"
     ]
    }
   ],
   "source": [
    "import numpy as np\n",
    "from sklearn.metrics import roc_curve\n",
    "y_true = np.array([1, 1, 2, 2])\n",
    "scores = np.array([0.1, 0.4, 0.35, 0.8])\n",
    "\n",
    "fpr, tpr, thresholds = roc_curve(\n",
    "    y_true, \n",
    "    scores, \n",
    "    pos_label=2  # Side note: use of \"pos_label\"\n",
    ")\n",
    "\n",
    "print(\"FPR:\\n\", fpr)\n",
    "print(\"TPR:\\n\", tpr)\n",
    "print(\"Threshold:\\n\", thresholds)"
   ]
  },
  {
   "cell_type": "markdown",
   "id": "3c84b308-a674-4561-9b81-b56940383e51",
   "metadata": {},
   "source": [
    "This figure shows an example of such an ROC curve:\n",
    "\n",
    "<img src=\"https://scikit-learn.org/stable/_images/sphx_glr_plot_roc_0011.png\" width=500/>\n",
    "\n",
    "The `roc_auc_score` function computes the area under the receiver operating characteristic (ROC) curve, which is also denoted by *AUC* or *AUROC*. By computing the area under the ROC curve, the curve information is summarized in one number.\n",
    "\n",
    "Compared to metrics such as the subset accuracy, the Hamming loss, or the F1 score, ROC doesn’t require optimizing a threshold for each label."
   ]
  },
  {
   "cell_type": "markdown",
   "id": "38c41c16-fb71-4ab2-843b-a3a47e5d290e",
   "metadata": {},
   "source": [
    "---\n",
    "#### Good examples on ROC: [Receiver Operating Characteristic (ROC)](https://scikit-learn.org/stable/auto_examples/model_selection/plot_roc.html)\n",
    "\n",
    "**1\\. [Basic Receiver Operating Characteristic (ROC)](https://scikit-learn.org/stable/auto_examples/model_selection/plot_roc.html#receiver-operating-characteristic-roc)**\n",
    "\n",
    "Example of Receiver Operating Characteristic (ROC) metric to evaluate classifier output quality.\n",
    "\n",
    "ROC curves typically feature \n",
    "* true positive rate on the Y axis, and \n",
    "* false positive rate on the X axis. \n",
    "\n",
    "This means that the top left corner of the plot is the \"ideal\" point - a false positive rate of zero, and a true positive rate of one. This is not very realistic, but it does mean that a larger area under the curve (AUC) is usually better.\n",
    "\n",
    "The \"steepness\" of ROC curves is also important, since it is ideal to maximize the true positive rate while minimizing the false positive rate.\n",
    "\n",
    "ROC curves are typically used in **binary classification** to study the output of a classifier. \n",
    "\n",
    "\\[❗\\] In order to extend ROC curve and ROC area to *multi-label classification*, it is necessary to **binarize the output**. *One ROC curve can be drawn per label*, but one *can also draw a ROC curve by considering each element of the label indicator matrix as a binary prediction (micro-averaging)*. \\[❗\\]\n",
    "\n",
    "Another evaluation measure for multi-label classification is macro-averaging, which gives equal weight to the classification of each label."
   ]
  },
  {
   "cell_type": "code",
   "execution_count": 55,
   "id": "71eb1e3b-807c-47ff-93de-81d89b4591a4",
   "metadata": {},
   "outputs": [],
   "source": [
    "import numpy as np\n",
    "import matplotlib.pyplot as plt\n",
    "from itertools import cycle"
   ]
  },
  {
   "cell_type": "code",
   "execution_count": 56,
   "id": "d93f68bc-d411-433e-a2b6-f50f668f3316",
   "metadata": {},
   "outputs": [],
   "source": [
    "from sklearn import svm, datasets\n",
    "from sklearn.metrics import (\n",
    "    roc_curve,  # Returns FPR, TPR, Threshold arrays\n",
    "    auc         # Cumputes generic area under curve given x and y\n",
    ")\n",
    "from sklearn.model_selection import train_test_split\n",
    "from sklearn.preprocessing import label_binarize  # <-- Note: label binarizer.\n",
    "from sklearn.multiclass import OneVsRestClassifier\n",
    "from scipy import interp  # <-- Note: Interpolator.\n",
    "from sklearn.metrics import roc_auc_score  # AUC."
   ]
  },
  {
   "cell_type": "code",
   "execution_count": 57,
   "id": "953a7230-e4eb-422c-90bb-e23bcc87bc02",
   "metadata": {},
   "outputs": [
    {
     "name": "stdout",
     "output_type": "stream",
     "text": [
      "X[0]:\n",
      " [5.1 3.5 1.4 0.2]\n",
      "y[0]:\n",
      " 0\n"
     ]
    }
   ],
   "source": [
    "# Import some data to play with\n",
    "iris = datasets.load_iris()\n",
    "X = iris.data\n",
    "y = iris.target\n",
    "\n",
    "print(\"X[0]:\\n\", X[0])\n",
    "print(\"y[0]:\\n\", y[0])"
   ]
  },
  {
   "cell_type": "code",
   "execution_count": 58,
   "id": "070d7ae5-973e-4916-ac3d-7707f9410ecd",
   "metadata": {},
   "outputs": [
    {
     "name": "stdout",
     "output_type": "stream",
     "text": [
      "y[0]:\n",
      " [1 0 0]\n"
     ]
    }
   ],
   "source": [
    "# Binarize the output\n",
    "y = label_binarize(y, classes=[0, 1, 2])\n",
    "print(\"y[0]:\\n\", y[0])\n",
    "n_classes = y.shape[1]"
   ]
  },
  {
   "cell_type": "code",
   "execution_count": 59,
   "id": "d8f974d4-43f7-4df8-8380-6d9ec2bcb734",
   "metadata": {},
   "outputs": [],
   "source": [
    "# Add noisy features to make the problem harder\n",
    "random_state = np.random.RandomState(0)\n",
    "n_samples, n_features = X.shape\n",
    "X = np.c_[X, random_state.randn(n_samples, 200 * n_features)]"
   ]
  },
  {
   "cell_type": "code",
   "execution_count": 60,
   "id": "6906ca55-d717-4463-88d1-b1614d979bde",
   "metadata": {},
   "outputs": [],
   "source": [
    "# shuffle and split training and test sets\n",
    "X_train, X_test, y_train, y_test = train_test_split(\n",
    "    X, \n",
    "    y, \n",
    "    test_size=.5,\n",
    "    random_state=0\n",
    ")"
   ]
  },
  {
   "cell_type": "code",
   "execution_count": 61,
   "id": "a6a08d68-c557-4b63-94c8-fdaff06e48be",
   "metadata": {},
   "outputs": [
    {
     "data": {
      "text/plain": [
       "OneVsRestClassifier(estimator=SVC(kernel='linear', probability=True,\n",
       "                                  random_state=RandomState(MT19937) at 0x7F4467464240))"
      ]
     },
     "metadata": {},
     "output_type": "display_data"
    }
   ],
   "source": [
    "# ❗ Learn to predict each class against the other\n",
    "classifier = OneVsRestClassifier(\n",
    "    svm.SVC(kernel='linear', probability=True, random_state=random_state)\n",
    ")\n",
    "# ^ OneVsRest on top of SVC.\n",
    "display(classifier)"
   ]
  },
  {
   "cell_type": "code",
   "execution_count": 62,
   "id": "8df350c8-2cfd-4958-844f-56f08ae3614e",
   "metadata": {},
   "outputs": [
    {
     "name": "stdout",
     "output_type": "stream",
     "text": [
      "y_score[0]:\n",
      " [-0.76301132 -0.36482547  0.12386354]\n"
     ]
    }
   ],
   "source": [
    "# ‼️ OBTAIN score from `.decision_function()`\n",
    "\n",
    "y_score = classifier.fit(X_train, y_train).decision_function(X_test)\n",
    "print(\"y_score[0]:\\n\", y_score[0])"
   ]
  },
  {
   "cell_type": "code",
   "execution_count": 63,
   "id": "6aca8d50-c086-49e5-9b36-de5a39d3e2a0",
   "metadata": {},
   "outputs": [
    {
     "name": "stdout",
     "output_type": "stream",
     "text": [
      "\n",
      "fpr:\n"
     ]
    },
    {
     "data": {
      "text/plain": [
       "{0: array([0.        , 0.        , 0.        , 0.01851852, 0.01851852,\n",
       "        0.03703704, 0.03703704, 0.05555556, 0.05555556, 0.07407407,\n",
       "        0.07407407, 0.09259259, 0.09259259, 0.12962963, 0.12962963,\n",
       "        0.14814815, 0.14814815, 0.2037037 , 0.2037037 , 0.27777778,\n",
       "        0.27777778, 1.        ]),\n",
       " 1: array([0.        , 0.        , 0.        , 0.02222222, 0.02222222,\n",
       "        0.11111111, 0.11111111, 0.17777778, 0.17777778, 0.2       ,\n",
       "        0.2       , 0.24444444, 0.24444444, 0.26666667, 0.26666667,\n",
       "        0.37777778, 0.37777778, 0.42222222, 0.42222222, 0.48888889,\n",
       "        0.48888889, 0.55555556, 0.55555556, 0.62222222, 0.62222222,\n",
       "        0.64444444, 0.64444444, 0.66666667, 0.66666667, 0.73333333,\n",
       "        0.73333333, 0.75555556, 0.75555556, 0.88888889, 0.88888889,\n",
       "        1.        ]),\n",
       " 2: array([0.        , 0.        , 0.        , 0.01960784, 0.01960784,\n",
       "        0.07843137, 0.07843137, 0.09803922, 0.09803922, 0.11764706,\n",
       "        0.11764706, 0.1372549 , 0.1372549 , 0.15686275, 0.15686275,\n",
       "        0.17647059, 0.17647059, 0.31372549, 0.31372549, 0.33333333,\n",
       "        0.33333333, 0.35294118, 0.35294118, 0.41176471, 0.41176471,\n",
       "        0.45098039, 0.45098039, 0.47058824, 0.47058824, 0.50980392,\n",
       "        0.50980392, 0.56862745, 0.56862745, 1.        ])}"
      ]
     },
     "metadata": {},
     "output_type": "display_data"
    },
    {
     "name": "stdout",
     "output_type": "stream",
     "text": [
      "\n",
      "tpr:\n"
     ]
    },
    {
     "data": {
      "text/plain": [
       "{0: array([0.        , 0.04761905, 0.14285714, 0.14285714, 0.19047619,\n",
       "        0.19047619, 0.33333333, 0.33333333, 0.38095238, 0.38095238,\n",
       "        0.61904762, 0.61904762, 0.66666667, 0.66666667, 0.76190476,\n",
       "        0.76190476, 0.9047619 , 0.9047619 , 0.95238095, 0.95238095,\n",
       "        1.        , 1.        ]),\n",
       " 1: array([0.        , 0.03333333, 0.13333333, 0.13333333, 0.16666667,\n",
       "        0.16666667, 0.2       , 0.2       , 0.26666667, 0.26666667,\n",
       "        0.33333333, 0.33333333, 0.4       , 0.4       , 0.43333333,\n",
       "        0.43333333, 0.5       , 0.5       , 0.56666667, 0.56666667,\n",
       "        0.6       , 0.6       , 0.63333333, 0.63333333, 0.7       ,\n",
       "        0.7       , 0.73333333, 0.73333333, 0.9       , 0.9       ,\n",
       "        0.93333333, 0.93333333, 0.96666667, 0.96666667, 1.        ,\n",
       "        1.        ]),\n",
       " 2: array([0.        , 0.04166667, 0.125     , 0.125     , 0.25      ,\n",
       "        0.25      , 0.29166667, 0.29166667, 0.33333333, 0.33333333,\n",
       "        0.41666667, 0.41666667, 0.5       , 0.5       , 0.54166667,\n",
       "        0.54166667, 0.58333333, 0.58333333, 0.70833333, 0.70833333,\n",
       "        0.75      , 0.75      , 0.79166667, 0.79166667, 0.83333333,\n",
       "        0.83333333, 0.875     , 0.875     , 0.91666667, 0.91666667,\n",
       "        0.95833333, 0.95833333, 1.        , 1.        ])}"
      ]
     },
     "metadata": {},
     "output_type": "display_data"
    },
    {
     "name": "stdout",
     "output_type": "stream",
     "text": [
      "\n",
      "roc_auc:\n"
     ]
    },
    {
     "data": {
      "text/plain": [
       "{0: 0.9126984126984127, 1: 0.6037037037037037, 2: 0.7867647058823529}"
      ]
     },
     "metadata": {},
     "output_type": "display_data"
    }
   ],
   "source": [
    "# Compute ROC curve and ROC area for each class\n",
    "fpr = dict()\n",
    "tpr = dict()\n",
    "roc_auc = dict()\n",
    "for i in range(n_classes):\n",
    "    fpr[i], tpr[i], _ = roc_curve(y_test[:, i], y_score[:, i])\n",
    "    roc_auc[i] = auc(fpr[i], tpr[i])\n",
    "\n",
    "print(\"\\nfpr:\")\n",
    "display(fpr)\n",
    "print(\"\\ntpr:\")\n",
    "display(tpr)\n",
    "print(\"\\nroc_auc:\")\n",
    "display(roc_auc)"
   ]
  },
  {
   "cell_type": "code",
   "execution_count": 64,
   "id": "066c5639-f430-42c2-87f7-3cb1a95b2a6e",
   "metadata": {},
   "outputs": [
    {
     "name": "stdout",
     "output_type": "stream",
     "text": [
      "fpr['micro']:\n",
      " [0.         0.         0.         0.00666667 0.00666667 0.01333333\n",
      " 0.01333333 0.02       0.02       0.02666667] ...\n",
      "tpr['micro']:\n",
      " [0.         0.01333333 0.08       0.08       0.10666667 0.10666667\n",
      " 0.12       0.12       0.16       0.16      ] ...\n",
      "roc_auc['micro']:\n",
      " 0.7277333333333333\n"
     ]
    }
   ],
   "source": [
    "# Compute micro-average ROC curve and ROC area\n",
    "fpr[\"micro\"], tpr[\"micro\"], _ = roc_curve(y_test.ravel(), y_score.ravel())\n",
    "roc_auc[\"micro\"] = auc(fpr[\"micro\"], tpr[\"micro\"])\n",
    "\n",
    "print(\"fpr['micro']:\\n\", fpr[\"micro\"][:10], \"...\")\n",
    "print(\"tpr['micro']:\\n\", tpr[\"micro\"][:10], \"...\")\n",
    "print(\"roc_auc['micro']:\\n\", roc_auc[\"micro\"])"
   ]
  },
  {
   "cell_type": "code",
   "execution_count": 65,
   "id": "b2f53264-0ca0-4183-84cf-292a7453b3a1",
   "metadata": {},
   "outputs": [
    {
     "data": {
      "image/png": "[encoded data removed]",
      "text/plain": [
       "<Figure size 432x288 with 1 Axes>"
      ]
     },
     "metadata": {
      "needs_background": "light"
     },
     "output_type": "display_data"
    }
   ],
   "source": [
    "# Plot of a ROC curve for a specific class\n",
    "\n",
    "plt.figure()\n",
    "lw = 2\n",
    "plt.plot(\n",
    "    fpr[2], \n",
    "    tpr[2], \n",
    "    color='darkorange',\n",
    "    lw=lw, \n",
    "    label='ROC curve (area = %0.2f)' % roc_auc[2]\n",
    ")\n",
    "plt.plot([0, 1], [0, 1], color='navy', lw=lw, linestyle='--')\n",
    "plt.xlim([0.0, 1.0])\n",
    "plt.ylim([0.0, 1.05])\n",
    "plt.xlabel('False Positive Rate')\n",
    "plt.ylabel('True Positive Rate')\n",
    "plt.title('Receiver operating characteristic example')\n",
    "plt.legend(loc=\"lower right\")\n",
    "plt.show()"
   ]
  },
  {
   "cell_type": "markdown",
   "id": "3eac6854-1c44-4234-9a29-69385a7b3663",
   "metadata": {},
   "source": [
    "**2\\. [Plot ROC curves for the multilabel problem](https://scikit-learn.org/stable/auto_examples/model_selection/plot_roc.html#plot-roc-curves-for-the-multilabel-problem)**\n",
    "\n",
    "Compute **macro-average ROC curve** and **ROC area**."
   ]
  },
  {
   "cell_type": "code",
   "execution_count": 66,
   "id": "4e875243-946c-4cb3-83fd-f10f97dd138e",
   "metadata": {},
   "outputs": [
    {
     "name": "stdout",
     "output_type": "stream",
     "text": [
      "all_fpr: [0.         0.01851852 0.01960784 0.02222222 0.03703704 0.05555556\n",
      " 0.07407407 0.07843137 0.09259259 0.09803922 0.11111111 0.11764706\n",
      " 0.12962963 0.1372549  0.14814815 0.15686275 0.17647059 0.17777778\n",
      " 0.2        0.2037037  0.24444444 0.26666667 0.27777778 0.31372549\n",
      " 0.33333333 0.35294118 0.37777778 0.41176471 0.42222222 0.45098039\n",
      " 0.47058824 0.48888889 0.50980392 0.55555556 0.56862745 0.62222222\n",
      " 0.64444444 0.66666667 0.73333333 0.75555556 0.88888889 1.        ]\n"
     ]
    }
   ],
   "source": [
    "# First aggregate all false positive rates\n",
    "all_fpr = np.unique(np.concatenate([fpr[i] for i in range(n_classes)]))\n",
    "print(\"all_fpr:\", all_fpr)"
   ]
  },
  {
   "cell_type": "code",
   "execution_count": 67,
   "id": "4fb2ba48-589d-4923-927f-56bd00f274a9",
   "metadata": {},
   "outputs": [
    {
     "name": "stderr",
     "output_type": "stream",
     "text": [
      "<ipython-input-67-47c6b6d41ae3>:4: DeprecationWarning: scipy.interp is deprecated and will be removed in SciPy 2.0.0, use numpy.interp instead\n",
      "  mean_tpr += interp(all_fpr, fpr[i], tpr[i])\n"
     ]
    }
   ],
   "source": [
    "# Then *interpolate all ROC curves* at these points\n",
    "mean_tpr = np.zeros_like(all_fpr)\n",
    "for i in range(n_classes):\n",
    "    mean_tpr += interp(all_fpr, fpr[i], tpr[i])"
   ]
  },
  {
   "cell_type": "code",
   "execution_count": 68,
   "id": "01b88e0d-c534-4fef-b4ca-949c4cf649aa",
   "metadata": {},
   "outputs": [
    {
     "name": "stdout",
     "output_type": "stream",
     "text": [
      "[0.13373016 0.14960317 0.19126984 0.20238095 0.25       0.26587302\n",
      " 0.3452381  0.35912698 0.375      0.38888889 0.4        0.42777778\n",
      " 0.45952381 0.48730159 0.53492063 0.54880952 0.56269841 0.58492063\n",
      " 0.60714286 0.62301587 0.6452381  0.65634921 0.67222222 0.71388889\n",
      " 0.72777778 0.74166667 0.76388889 0.77777778 0.8        0.81388889\n",
      " 0.82777778 0.83888889 0.85277778 0.86388889 0.87777778 0.9\n",
      " 0.91111111 0.96666667 0.97777778 0.98888889 1.         1.        ]\n"
     ]
    }
   ],
   "source": [
    "# Finally average it and compute AUC\n",
    "mean_tpr /= n_classes\n",
    "print(mean_tpr)"
   ]
  },
  {
   "cell_type": "code",
   "execution_count": 69,
   "id": "b2d0b56d-9a33-48c0-90c8-4167407e79a5",
   "metadata": {},
   "outputs": [],
   "source": [
    "# Get macro AUC\n",
    "fpr[\"macro\"] = all_fpr\n",
    "tpr[\"macro\"] = mean_tpr  # The above `mean_tpr` was needed for macro-averaged TPR.\n",
    "roc_auc[\"macro\"] = auc(fpr[\"macro\"], tpr[\"macro\"])"
   ]
  },
  {
   "cell_type": "code",
   "execution_count": 70,
   "id": "fdbcd804-2c72-4d7c-9dd0-77c317430555",
   "metadata": {},
   "outputs": [
    {
     "data": {
      "image/png": "[encoded data removed]",
      "text/plain": [
       "<Figure size 648x504 with 1 Axes>"
      ]
     },
     "metadata": {
      "needs_background": "light"
     },
     "output_type": "display_data"
    }
   ],
   "source": [
    "# Plot all ROC curves\n",
    "plt.figure(figsize=(9,7))\n",
    "\n",
    "# --- Micro-averaged ---\n",
    "plt.plot(\n",
    "    fpr[\"micro\"], \n",
    "    tpr[\"micro\"],\n",
    "    label='micro-average ROC curve (area = {0:0.2f})'.format(roc_auc[\"micro\"]),\n",
    "    color='deeppink', \n",
    "    linestyle=':', \n",
    "    linewidth=4\n",
    ")\n",
    "\n",
    "# --- Macro-averaged ---\n",
    "plt.plot(\n",
    "    fpr[\"macro\"], \n",
    "    tpr[\"macro\"],\n",
    "    label='macro-average ROC curve (area = {0:0.2f})'.format(roc_auc[\"macro\"]),\n",
    "    color='navy', \n",
    "    linestyle=':', \n",
    "    linewidth=4\n",
    ")\n",
    "\n",
    "# --- Individual classes ---\n",
    "colors = cycle(['aqua', 'darkorange', 'cornflowerblue'])\n",
    "for i, color in zip(range(n_classes), colors):\n",
    "    plt.plot(\n",
    "        fpr[i], \n",
    "        tpr[i], \n",
    "        color=color, \n",
    "        lw=lw,\n",
    "        label='ROC curve of class {0} (area = {1:0.2f})'.format(i, roc_auc[i])\n",
    "    )\n",
    "\n",
    "plt.plot([0, 1], [0, 1], 'k--', lw=lw)\n",
    "plt.xlim([0.0, 1.0])\n",
    "plt.ylim([0.0, 1.05])\n",
    "plt.xlabel('False Positive Rate')\n",
    "plt.ylabel('True Positive Rate')\n",
    "plt.title('Some extension of Receiver operating characteristic to multi-class')\n",
    "plt.legend(loc=\"lower right\")\n",
    "plt.show()"
   ]
  },
  {
   "cell_type": "markdown",
   "id": "1ff40747-456e-47f9-aac9-a64db5838393",
   "metadata": {},
   "source": [
    "**2\\. [Area under ROC for the multiclass problem](https://scikit-learn.org/stable/auto_examples/model_selection/plot_roc.html#area-under-roc-for-the-multiclass-problem)**\n",
    "\n",
    "The `sklearn.metrics.roc_auc_score` function can be used for multi-class classification. \n",
    "\n",
    "The multi-class *One-vs-One* scheme compares every unique pairwise combination of classes. \n",
    "\n",
    "In this section, we calculate the AUC using the **OvR** and **OvO** schemes. \n",
    "\n",
    "We report a macro average, and a prevalence-weighted average."
   ]
  },
  {
   "cell_type": "code",
   "execution_count": 71,
   "id": "c2764edb-0319-47ce-b97e-34c3ac2990ab",
   "metadata": {},
   "outputs": [],
   "source": [
    "y_prob = classifier.predict_proba(X_test)"
   ]
  },
  {
   "cell_type": "code",
   "execution_count": 72,
   "id": "7dddf92f-19ec-4e2e-a642-3b4622dc7f66",
   "metadata": {},
   "outputs": [
    {
     "name": "stdout",
     "output_type": "stream",
     "text": [
      "One-vs-One ROC AUC scores:\n",
      "0.698586 (macro),\n",
      "0.665839 (weighted by prevalence)\n",
      "One-vs-Rest ROC AUC scores:\n",
      "0.698586 (macro),\n",
      "0.665839 (weighted by prevalence)\n"
     ]
    }
   ],
   "source": [
    "macro_roc_auc_ovo = roc_auc_score(\n",
    "    y_test, \n",
    "    y_prob, \n",
    "    multi_class=\"ovo\",\n",
    "    average=\"macro\"\n",
    ")\n",
    "weighted_roc_auc_ovo = roc_auc_score(\n",
    "    y_test, \n",
    "    y_prob, \n",
    "    multi_class=\"ovo\",\n",
    "    average=\"weighted\"\n",
    ")\n",
    "macro_roc_auc_ovr = roc_auc_score(\n",
    "    y_test, \n",
    "    y_prob, \n",
    "    multi_class=\"ovr\",\n",
    "    average=\"macro\"\n",
    ")\n",
    "weighted_roc_auc_ovr = roc_auc_score(\n",
    "    y_test, \n",
    "    y_prob, \n",
    "    multi_class=\"ovr\",\n",
    "    average=\"weighted\"\n",
    ")\n",
    "print(\"One-vs-One ROC AUC scores:\\n{:.6f} (macro),\\n{:.6f} (weighted by prevalence)\".format(macro_roc_auc_ovo, weighted_roc_auc_ovo))\n",
    "print(\"One-vs-Rest ROC AUC scores:\\n{:.6f} (macro),\\n{:.6f} (weighted by prevalence)\".format(macro_roc_auc_ovr, weighted_roc_auc_ovr))\n",
    "\n",
    "# Note: in this example, OvO and OvR results end up identical."
   ]
  },
  {
   "cell_type": "markdown",
   "id": "62b2055e-833b-44d3-b2c3-5a28d1142918",
   "metadata": {},
   "source": [
    "---"
   ]
  },
  {
   "cell_type": "markdown",
   "id": "da5c998d-0a3c-4943-ad4e-a065ddb0c657",
   "metadata": {},
   "source": [
    "#### 📑 [Receiver operating characteristic (ROC) *(contd.)*](https://scikit-learn.org/stable/modules/model_evaluation.html#receiver-operating-characteristic-roc)\n",
    "\n",
    "##### ↳ 📑 [Binary case](https://scikit-learn.org/stable/modules/model_evaluation.html#binary-case)\n",
    "\n",
    "In the **binary case**, you can either: \n",
    "* provide the **probability estimates**, using the `classifier.predict_proba()` method, or \n",
    "* the **non-thresholded decision values** given by the `classifier.decision_function()` method. \n",
    "\n",
    "‼️ In the case of providing the probability estimates, *the probability of the class with the \"greater label\" should be provided*. The \"greater label\" corresponds to `classifier.classes_[1]` and thus `classifier.predict_proba(X)[:, 1]`. Therefore, the `y_score` parameter is of size `(n_samples,)`."
   ]
  },
  {
   "cell_type": "code",
   "execution_count": 73,
   "id": "7ba49621-c2b4-4ed3-9adb-cdf3ab89ee14",
   "metadata": {},
   "outputs": [],
   "source": [
    "from sklearn.datasets import load_breast_cancer\n",
    "from sklearn.linear_model import LogisticRegression\n",
    "from sklearn.metrics import roc_auc_score"
   ]
  },
  {
   "cell_type": "code",
   "execution_count": 74,
   "id": "fa6213a8-530e-4c1c-94aa-bdf8d2ef8203",
   "metadata": {},
   "outputs": [
    {
     "name": "stdout",
     "output_type": "stream",
     "text": [
      "X[0]:\n",
      " [1.799e+01 1.038e+01 1.228e+02 1.001e+03 1.184e-01 2.776e-01 3.001e-01\n",
      " 1.471e-01 2.419e-01 7.871e-02 1.095e+00 9.053e-01 8.589e+00 1.534e+02\n",
      " 6.399e-03 4.904e-02 5.373e-02 1.587e-02 3.003e-02 6.193e-03 2.538e+01\n",
      " 1.733e+01 1.846e+02 2.019e+03 1.622e-01 6.656e-01 7.119e-01 2.654e-01\n",
      " 4.601e-01 1.189e-01]\n",
      "y[0]:\n",
      " 0\n"
     ]
    }
   ],
   "source": [
    "X, y = load_breast_cancer(return_X_y=True)\n",
    "print(\"X[0]:\\n\", X[0])\n",
    "print(\"y[0]:\\n\", y[0])"
   ]
  },
  {
   "cell_type": "code",
   "execution_count": 75,
   "id": "6430ecb0-5842-4a72-9e6f-e97bb5e748ea",
   "metadata": {},
   "outputs": [
    {
     "data": {
      "text/plain": [
       "array([0, 1])"
      ]
     },
     "execution_count": 75,
     "metadata": {},
     "output_type": "execute_result"
    }
   ],
   "source": [
    "clf = LogisticRegression(solver=\"liblinear\").fit(X, y)\n",
    "clf.classes_"
   ]
  },
  {
   "cell_type": "code",
   "execution_count": 91,
   "id": "4c7ebf9e-f6ca-4188-9010-dae757a981b9",
   "metadata": {},
   "outputs": [
    {
     "name": "stdout",
     "output_type": "stream",
     "text": [
      "predict_proba.shape: (569, 2)\n",
      "predict_proba:\n",
      " [[1.00000000e+00 3.93157374e-15]\n",
      " [9.99999978e-01 2.21690071e-08]\n",
      " [9.99999952e-01 4.81860186e-08]] \n",
      " ...\n",
      "\n",
      "y_score = predict_proba[:, 1]:\n",
      " [3.93157374e-15 2.21690071e-08 4.81860186e-08] ...\n",
      "\n",
      "roc_auc_score(y, y_score):\n",
      " 0.9947016542466043\n"
     ]
    }
   ],
   "source": [
    "# We can use the probability estimates corresponding to clf.classes_[1].\n",
    "\n",
    "predict_proba = clf.predict_proba(X)\n",
    "print(\"predict_proba.shape:\", predict_proba.shape)\n",
    "print(\"predict_proba:\\n\", predict_proba[:3], \"\\n ...\")\n",
    "print()\n",
    "\n",
    "y_score = predict_proba[:, 1]\n",
    "print(\"y_score = predict_proba[:, 1]:\\n\", predict_proba[:, 1][:3], \"...\")\n",
    "print()\n",
    "\n",
    "print(\n",
    "    \"roc_auc_score(y, y_score):\\n\",\n",
    "    roc_auc_score(y, y_score)  # <-- Use of `roc_auc_score()` function.\n",
    ")"
   ]
  },
  {
   "cell_type": "code",
   "execution_count": 97,
   "id": "86961523-4a5f-4491-90eb-e2c32e524086",
   "metadata": {},
   "outputs": [
    {
     "name": "stdout",
     "output_type": "stream",
     "text": [
      "non_thresholded_decision_values = clf.decision_function(X):\n",
      " [-33.16973661 -17.62457058 -16.84819688] ...\n",
      "roc_auc_score(y, non_thresholded_decision_values)\n",
      " 0.9947016542466043\n"
     ]
    }
   ],
   "source": [
    "# Otherwise, we can use the non-thresholded decision values.\n",
    "\n",
    "non_thresholded_decision_values = clf.decision_function(X)\n",
    "print(\n",
    "    \"non_thresholded_decision_values = clf.decision_function(X):\\n\",\n",
    "    non_thresholded_decision_values[:3], \"...\"\n",
    ")\n",
    "print(\n",
    "    \"roc_auc_score(y, non_thresholded_decision_values)\\n\",\n",
    "    roc_auc_score(y, non_thresholded_decision_values)  # <-- Use of `roc_auc_score()` function.\n",
    ")\n",
    "\n",
    "# ‼️ NOTE SAME RESULT BY EITHER METHOD!"
   ]
  },
  {
   "cell_type": "markdown",
   "id": "a982680f-5c94-42bd-ab63-9919fbf8f58a",
   "metadata": {},
   "source": [
    "##### ↳ 📑 [Multi-class case](https://scikit-learn.org/stable/modules/model_evaluation.html#multi-class-case)\n",
    "\n",
    "The `roc_auc_score` function **can also be used in multi-class classification**. \n",
    "\n",
    "Two averaging strategies are currently supported: \n",
    "* the one-vs-one (OvO) algorithm computes the average of *the pairwise ROC AUC scores*, \n",
    "* and the one-vs-rest (OvR) algorithm computes *the average of the ROC AUC scores for each class against all other classes*.\n",
    "\n",
    "In both cases: \n",
    "* the *predicted labels* are provided in an *array with values from `0` to `n_classes`*, \n",
    "* and the *scores* correspond to the probability estimates that a sample belongs to a particular class. \n",
    "\n",
    "The OvO and OvR algorithms support weighting uniformly (`average='macro'`) and by prevalence (`average='weighted'`).\n",
    "\n",
    "🎓⚠️ The exact details of OvO and OvR multi-class ROC AUC computation algorithms are given [in the guide](https://scikit-learn.org/stable/modules/model_evaluation.html#multi-class-case)."
   ]
  },
  {
   "cell_type": "markdown",
   "id": "0f656a5d-c20e-4375-b4f8-0cb8f131a4e4",
   "metadata": {},
   "source": [
    "##### ↳ 📑 [Multi-label case](https://scikit-learn.org/stable/modules/model_evaluation.html#multi-label-case)\n",
    "\n",
    "In **multi-*label* classification**, the `roc_auc_score` function is extended by averaging over the labels as in [*\"From binary to multiclass and multilabel\" section*](https://scikit-learn.org/stable/modules/model_evaluation.html#from-binary-to-multiclass-and-multilabel). \n",
    "\n",
    "In this case, you should provide a `y_score` of shape `(n_samples, n_classes)`. \n",
    "\n",
    "*Thus, when using the probability estimates, one needs to select the probability of the class with the greater label for each output:*"
   ]
  },
  {
   "cell_type": "code",
   "execution_count": 128,
   "id": "7251f154-c934-4cb4-8aa1-c4c4cd867418",
   "metadata": {},
   "outputs": [
    {
     "name": "stdout",
     "output_type": "stream",
     "text": [
      "DATA:\n",
      "y[0]:\n",
      " [0 0 1 1 1]\n",
      "\n",
      "clf.predict_proba(X) as returned by MultiOutputClassifier:\n",
      " list of length 5 (n_classes)\n",
      " each of shape (100, 2) elements being (prob_yes, prob_no)\n",
      " [array([[0.9777656 , 0.0222344 ],\n",
      "       [0.90666407, 0.09333593],\n",
      "       [0.2920559 , 0.7079441 ]]) ...,\n",
      "  array([[0.73515422, 0.26484578],\n",
      "       [0.76846371, 0.23153629],\n",
      "       [0.51711897, 0.48288103]]) ...,\n",
      "  array([[5.22115744e-01, 4.77884256e-01],\n",
      "       [4.29250996e-04, 9.99570749e-01],\n",
      "       [9.61521888e-01, 3.84781117e-02]]) ...,\n",
      "  array([[0.20277053, 0.79722947],\n",
      "       [0.72107012, 0.27892988],\n",
      "       [0.16995853, 0.83004147]]) ...,\n",
      "  array([[0.05504693, 0.94495307],\n",
      "       [0.9128426 , 0.0871574 ],\n",
      "       [0.97975129, 0.02024871]])]\n",
      "\n",
      "y_score (selected the probability of the class with the greater label for each output):\n",
      " one numpy array of shape (100, 5) that is (n_samples, n_classes)\n",
      " [[0.0222344  0.26484578 0.47788426 0.79722947 0.94495307]\n",
      " [0.09333593 0.23153629 0.99957075 0.27892988 0.0871574 ]\n",
      " [0.7079441  0.48288103 0.03847811 0.83004147 0.02024871]] \n",
      " ...\n",
      "\n",
      "roc_auc_score(y, y_score, average=None):\n",
      " [0.82664884 0.86034414 0.94181818 0.8502652  0.94809095]\n"
     ]
    }
   ],
   "source": [
    "from sklearn.datasets import make_multilabel_classification\n",
    "from sklearn.multioutput import MultiOutputClassifier\n",
    "\n",
    "X, y = make_multilabel_classification(\n",
    "    n_classes=5,  # NOTE 5 CLASSES!\n",
    "    random_state=0    \n",
    ")\n",
    "print(\"DATA:\")\n",
    "print(\"y[0]:\\n\", y[0])\n",
    "print()\n",
    "\n",
    "inner_clf = LogisticRegression(solver=\"liblinear\", random_state=0)\n",
    "clf = MultiOutputClassifier(inner_clf).fit(X, y)  # MultiOutputClassifier to get multi-label scenario.\n",
    "\n",
    "predict_proba = clf.predict_proba(X)\n",
    "print(\n",
    "    \"clf.predict_proba(X) as returned by MultiOutputClassifier:\\n\",\n",
    "    \"list of length\", len(predict_proba), \"(n_classes)\\n\",\n",
    "    \"each of shape\", predict_proba[0].shape, \"elements being (prob_yes, prob_no)\\n\",\n",
    "    str([cl[:3] for cl in predict_proba]).replace(\"), array(\", \") ...,\\n  array(\")\n",
    ")\n",
    "\n",
    "y_score = np.transpose(\n",
    "    [y_pred[:, 1] for y_pred in predict_proba]  # <-- ! select the probability of the class with the greater label for each output !\n",
    ")\n",
    "print(\n",
    "    \"\\ny_score (selected the probability of the class with the greater label for each output):\\n\",\n",
    "    f\"one numpy array of shape {y_score.shape} that is (n_samples, n_classes)\\n\",\n",
    "    y_score[:3], \"\\n ...\"\n",
    ")\n",
    "print()\n",
    "\n",
    "print(\n",
    "    \"roc_auc_score(y, y_score, average=None):\\n\", \n",
    "    roc_auc_score(y, y_score, average=None)\n",
    ")"
   ]
  },
  {
   "cell_type": "code",
   "execution_count": 129,
   "id": "271a7e02-9de0-4c3b-8c34-740d3ad1851d",
   "metadata": {},
   "outputs": [
    {
     "data": {
      "text/plain": [
       "array([0.81996435, 0.8467387 , 0.93090909, 0.87229702, 0.94422994])"
      ]
     },
     "execution_count": 129,
     "metadata": {},
     "output_type": "execute_result"
    }
   ],
   "source": [
    "# And the decision values do not require such processing.\n",
    "\n",
    "from sklearn.linear_model import RidgeClassifierCV\n",
    "clf = RidgeClassifierCV().fit(X, y)\n",
    "y_score = clf.decision_function(X)\n",
    "\n",
    "roc_auc_score(y, y_score, average=None)"
   ]
  },
  {
   "cell_type": "markdown",
   "id": "c1329f4f-de5e-4787-bf46-27e15608e848",
   "metadata": {},
   "source": [
    "#### 📑 [Detection error tradeoff (DET)](https://scikit-learn.org/stable/modules/model_evaluation.html#detection-error-tradeoff-det)\n",
    "\n",
    "🚧 TBD"
   ]
  },
  {
   "cell_type": "markdown",
   "id": "f40ac2df-daff-43cb-af12-d1abe472c2c9",
   "metadata": {},
   "source": [
    "#### 📑 [Zero one loss](https://scikit-learn.org/stable/modules/model_evaluation.html#zero-one-loss)\n",
    "\n",
    "🚧 TBD"
   ]
  },
  {
   "cell_type": "markdown",
   "id": "eabe04e4-00db-4f6f-89ae-8a33ea30c1c2",
   "metadata": {},
   "source": [
    "#### 📑 [Brier score loss](https://scikit-learn.org/stable/modules/model_evaluation.html#brier-score-loss)\n",
    "\n",
    "The `brier_score_loss` function computes the [Brier score](https://en.wikipedia.org/wiki/Brier_score) for binary classes [Brier1950](https://scikit-learn.org/stable/modules/model_evaluation.html#brier1950). \n",
    "\n",
    "Quoting Wikipedia:\n",
    "> The Brier score is a proper score function that measures the accuracy of probabilistic predictions. It is applicable to tasks in which predictions must assign probabilities to a set of mutually exclusive discrete outcomes.\n",
    "\n",
    "This function returns the **mean squared error of** the *actual outcome* $y \\in \\{0,1\\}$ and the *predicted probability estimate* $p = \\Pr(y=1)$ (`predict_proba`) as outputted by:\n",
    "\n",
    "$\n",
    "BS = \\frac{1}{n_{samples}} \\sum^{n_{samples}-1}_{i=0} (y_i - p_i)^2\n",
    "$\n",
    "\n",
    "The Brier score loss is also between 0 to 1 and the lower the value (the mean square difference is smaller), the more accurate the prediction is.\n",
    "\n",
    "Here is a small example of usage of this function:"
   ]
  },
  {
   "cell_type": "code",
   "execution_count": 136,
   "id": "00ac8779-361a-4baf-985d-bc08528fe608",
   "metadata": {},
   "outputs": [],
   "source": [
    "import numpy as np\n",
    "from sklearn.metrics import brier_score_loss\n",
    "\n",
    "y_true = np.array([0, 1, 1, 0])\n",
    "y_true_categorical = np.array([\"spam\", \"ham\", \"ham\", \"spam\"])\n",
    "y_prob = np.array([0.1, 0.9, 0.8, 0.4])\n",
    "y_pred = np.array([0, 1, 1, 0])"
   ]
  },
  {
   "cell_type": "code",
   "execution_count": 137,
   "id": "36a52e2b-f68a-448b-812f-38276319a95e",
   "metadata": {},
   "outputs": [
    {
     "data": {
      "text/plain": [
       "0.055"
      ]
     },
     "execution_count": 137,
     "metadata": {},
     "output_type": "execute_result"
    }
   ],
   "source": [
    "brier_score_loss(y_true, y_prob)"
   ]
  },
  {
   "cell_type": "code",
   "execution_count": 138,
   "id": "60b9dbc5-d25a-41e8-a5bb-378ee057d1da",
   "metadata": {},
   "outputs": [
    {
     "data": {
      "text/plain": [
       "0.055"
      ]
     },
     "execution_count": 138,
     "metadata": {},
     "output_type": "execute_result"
    }
   ],
   "source": [
    "brier_score_loss(y_true, 1 - y_prob, pos_label=0)"
   ]
  },
  {
   "cell_type": "code",
   "execution_count": 139,
   "id": "f763ae91-904d-4e3f-b72c-74c2d11658d6",
   "metadata": {},
   "outputs": [
    {
     "data": {
      "text/plain": [
       "0.055"
      ]
     },
     "execution_count": 139,
     "metadata": {},
     "output_type": "execute_result"
    }
   ],
   "source": [
    "brier_score_loss(y_true_categorical, y_prob, pos_label=\"ham\")"
   ]
  },
  {
   "cell_type": "code",
   "execution_count": 145,
   "id": "d74c0d22-cec8-4c7f-8e4f-6e3a099c43cc",
   "metadata": {},
   "outputs": [
    {
     "name": "stdout",
     "output_type": "stream",
     "text": [
      "y_true: [0 1 1 0]\n",
      "(y_prob > 0.5).astype(int): [0 1 1 0]\n"
     ]
    },
    {
     "data": {
      "text/plain": [
       "0.0"
      ]
     },
     "execution_count": 145,
     "metadata": {},
     "output_type": "execute_result"
    }
   ],
   "source": [
    "print(\"y_true:\", y_true)\n",
    "print(\"(y_prob > 0.5).astype(int):\", (y_prob > 0.5).astype(int))\n",
    "\n",
    "brier_score_loss(y_true, (y_prob > 0.5).astype(int))"
   ]
  },
  {
   "cell_type": "markdown",
   "id": "645db15d-7a6f-4d08-8769-1740a2e63927",
   "metadata": {},
   "source": [
    "⚠️ The Brier score can be used to assess how well a classifier is calibrated. However, a lower Brier score loss does not always mean a better calibration. This is because, by analogy with the bias-variance decomposition of the mean squared error, the Brier score loss can be decomposed as the sum of calibration loss and refinement loss [Bella2012](https://scikit-learn.org/stable/modules/model_evaluation.html#bella2012). Calibration loss is defined as the mean squared deviation from empirical probabilities derived from the slope of ROC segments. Refinement loss can be defined as the expected optimal loss as measured by the area under the optimal cost curve. Refinement loss can change independently from calibration loss, thus a lower Brier score loss does not necessarily mean a better calibrated model. “Only when refinement loss remains the same does a lower Brier score loss always mean better calibration” [Bella2012](https://scikit-learn.org/stable/modules/model_evaluation.html#bella2012), [Flach2008](https://scikit-learn.org/stable/modules/model_evaluation.html#flach2008)."
   ]
  },
  {
   "cell_type": "markdown",
   "id": "3fcc2cff-98de-428b-87b5-d5ef5bd64d7d",
   "metadata": {},
   "source": [
    "## [Multilabel ranking metrics](https://scikit-learn.org/stable/modules/model_evaluation.html#multilabel-ranking-metrics)\n",
    "\n",
    "In multilabel learning, each sample can have **any number of ground truth labels associated with it**. \n",
    "\n",
    "*The goal is to give high scores and better rank to the ground truth labels.*"
   ]
  },
  {
   "cell_type": "markdown",
   "id": "2f605c53-c606-4d2c-abe8-3118b1664e8c",
   "metadata": {},
   "source": [
    "#### 📑 [Coverage error](https://scikit-learn.org/stable/modules/model_evaluation.html#coverage-error)\n",
    "\n",
    "🚧 TBD"
   ]
  },
  {
   "cell_type": "markdown",
   "id": "cad32da7-1f7b-48cf-a4b4-40701d3e5aa2",
   "metadata": {},
   "source": [
    "#### 📑 [Label ranking average precision](https://scikit-learn.org/stable/modules/model_evaluation.html#label-ranking-average-precision)\n",
    "\n",
    "🚧 TBD"
   ]
  },
  {
   "cell_type": "markdown",
   "id": "3640b798-b122-444f-af49-dd1e14b741e3",
   "metadata": {},
   "source": [
    "#### 📑 [Ranking loss](https://scikit-learn.org/stable/modules/model_evaluation.html#ranking-loss)\n",
    "\n",
    "🚧 TBD"
   ]
  },
  {
   "cell_type": "markdown",
   "id": "96f527fe-2016-4db1-bb38-028c9b5e8de6",
   "metadata": {},
   "source": [
    "#### 📑 [Normalized Discounted Cumulative Gain](https://scikit-learn.org/stable/modules/model_evaluation.html#normalized-discounted-cumulative-gain)\n",
    "\n",
    "🚧 TBD"
   ]
  },
  {
   "cell_type": "markdown",
   "id": "68f71b74-ba09-4855-a8ac-3c9d427cdfef",
   "metadata": {},
   "source": [
    "## [Regression metrics](https://scikit-learn.org/stable/modules/model_evaluation.html#regression-metrics)\n",
    "\n",
    "The `sklearn.metrics` module implements several \n",
    "* loss, \n",
    "* score, and \n",
    "* utility \n",
    "\n",
    "functions to measure regression performance. \n",
    "\n",
    "Some of those have been **enhanced to handle the multioutput case**: \n",
    "* `mean_squared_error`, \n",
    "* `mean_absolute_error`, \n",
    "* `explained_variance_score` and \n",
    "* `r2_score`.\n",
    "\n",
    "These functions have a `multioutput` keyword argument which specifies the way the scores or losses for each individual target should be averaged. \n",
    "* The default is `'uniform_average'`, which specifies a uniformly weighted mean over outputs. \n",
    "* If an `ndarray` of shape `(n_outputs,)` is passed, then its entries are interpreted as weights and an according weighted average is returned. \n",
    "* If `multioutput='raw_values'` is specified, then all unaltered individual scores or losses will be returned in an array of shape `(n_outputs,)`.\n",
    "\n",
    "The `r2_score` and `explained_variance_score` accept an additional value `'variance_weighted'` for the multioutput parameter. This option leads to a weighting of each individual score by the variance of the corresponding target variable. This setting quantifies the globally captured unscaled variance. If the target variables are of different scale, then this score puts more importance on well explaining the higher variance variables. `multioutput='variance_weighted'` is the default value for `r2_score` for backward compatibility. This will be changed to `uniform_average` in the future."
   ]
  },
  {
   "cell_type": "markdown",
   "id": "42444a85-a1cf-41bc-b48f-6abc76512dd6",
   "metadata": {},
   "source": [
    "#### 📑 [Explained variance score](https://scikit-learn.org/stable/modules/model_evaluation.html#explained-variance-score)\n",
    "\n",
    "The `explained_variance_score` computes the **explained variance regression score**.\n",
    "\n",
    "If $\\hat{y}$ is the estimated target output, $y$ the corresponding (correct) target output, and $Var{}$ is Variance (the square of the standard deviation), then the explained variance is estimated as follows:\n",
    "\n",
    "$\n",
    "\\text{explained_variance}(y,\\hat{y}) = 1 - \\frac{Var\\{y-\\hat{y}\\}}{Var\\{y\\}}\n",
    "$\n",
    "\n",
    "The best possible score is 1.0, lower values are worse.\n",
    "\n",
    "Here is a small example of usage of the `explained_variance_score` function:"
   ]
  },
  {
   "cell_type": "code",
   "execution_count": 146,
   "id": "dcc9e90e-c8bc-46cf-b655-7948f7d09d6b",
   "metadata": {},
   "outputs": [
    {
     "data": {
      "text/plain": [
       "0.9571734475374732"
      ]
     },
     "execution_count": 146,
     "metadata": {},
     "output_type": "execute_result"
    }
   ],
   "source": [
    "from sklearn.metrics import explained_variance_score\n",
    "y_true = [3, -0.5, 2, 7]\n",
    "y_pred = [2.5, 0.0, 2, 8]\n",
    "explained_variance_score(y_true, y_pred)"
   ]
  },
  {
   "cell_type": "code",
   "execution_count": 147,
   "id": "b22282f2-ec76-43c6-a89a-7921110bcb77",
   "metadata": {},
   "outputs": [
    {
     "data": {
      "text/plain": [
       "array([0.96774194, 1.        ])"
      ]
     },
     "execution_count": 147,
     "metadata": {},
     "output_type": "execute_result"
    }
   ],
   "source": [
    "y_true = [[0.5, 1], [-1, 1], [7, -6]]\n",
    "y_pred = [[0, 2], [-1, 2], [8, -5]]\n",
    "explained_variance_score(y_true, y_pred, multioutput='raw_values')"
   ]
  },
  {
   "cell_type": "code",
   "execution_count": 149,
   "id": "611d5f5c-fdfe-40e0-9aa8-583df8145d4e",
   "metadata": {},
   "outputs": [
    {
     "data": {
      "text/plain": [
       "0.9903225806451612"
      ]
     },
     "execution_count": 149,
     "metadata": {},
     "output_type": "execute_result"
    }
   ],
   "source": [
    "explained_variance_score(y_true, y_pred, multioutput=[0.3, 0.7])"
   ]
  },
  {
   "cell_type": "markdown",
   "id": "63e07ed2-2a95-4da4-910c-00c5f7da548b",
   "metadata": {},
   "source": [
    "#### 📑 [Max error](https://scikit-learn.org/stable/modules/model_evaluation.html#max-error)\n",
    "\n",
    "The `max_error` function computes the maximum residual error, a metric that captures the worst case error between the predicted value and the true value. In a perfectly fitted single output regression model, `max_error` would be 0 on the training set and though this would be highly unlikely in the real world, this metric shows the extent of error that the model had when it was fitted.\n",
    "\n",
    "The `max_error` does not support multioutput.\n",
    "\n",
    "Here is a small example of usage of the `max_error` function:"
   ]
  },
  {
   "cell_type": "code",
   "execution_count": 150,
   "id": "d52627eb-de05-40eb-a010-bfb40c06c69d",
   "metadata": {},
   "outputs": [
    {
     "data": {
      "text/plain": [
       "6"
      ]
     },
     "execution_count": 150,
     "metadata": {},
     "output_type": "execute_result"
    }
   ],
   "source": [
    "from sklearn.metrics import max_error\n",
    "y_true = [3, 2, 7, 1]\n",
    "y_pred = [9, 2, 7, 1]\n",
    "max_error(y_true, y_pred)"
   ]
  },
  {
   "cell_type": "markdown",
   "id": "b992ade8-0d41-4173-b7be-4b75d78d3978",
   "metadata": {},
   "source": [
    "#### 📑 [Mean absolute error](https://scikit-learn.org/stable/modules/model_evaluation.html#mean-absolute-error)\n",
    "\n",
    "The `mean_absolute_error` function computes mean absolute error, a risk metric corresponding to the expected value of the absolute error loss or $l_1$-norm loss.\n",
    "\n",
    "Here is a small example of usage of the mean_absolute_error function:"
   ]
  },
  {
   "cell_type": "code",
   "execution_count": 151,
   "id": "7e380aee-d14d-4bfe-9e74-8af0b29c3cb5",
   "metadata": {},
   "outputs": [
    {
     "data": {
      "text/plain": [
       "0.5"
      ]
     },
     "execution_count": 151,
     "metadata": {},
     "output_type": "execute_result"
    }
   ],
   "source": [
    "from sklearn.metrics import mean_absolute_error\n",
    "y_true = [3, -0.5, 2, 7]\n",
    "y_pred = [2.5, 0.0, 2, 8]\n",
    "mean_absolute_error(y_true, y_pred)"
   ]
  },
  {
   "cell_type": "code",
   "execution_count": 153,
   "id": "bb9f5417-cd22-40af-a471-1fb7acc3a3c3",
   "metadata": {},
   "outputs": [],
   "source": [
    "# Multi-outpit cases:\n",
    "y_true = [[0.5, 1], [-1, 1], [7, -6]]\n",
    "y_pred = [[0, 2], [-1, 2], [8, -5]]"
   ]
  },
  {
   "cell_type": "code",
   "execution_count": 154,
   "id": "421d9958-b936-4375-94c5-7abe4d2ff5da",
   "metadata": {},
   "outputs": [
    {
     "data": {
      "text/plain": [
       "0.75"
      ]
     },
     "execution_count": 154,
     "metadata": {},
     "output_type": "execute_result"
    }
   ],
   "source": [
    "mean_absolute_error(y_true, y_pred)"
   ]
  },
  {
   "cell_type": "code",
   "execution_count": 155,
   "id": "8c110233-7a1a-452b-9369-e384807d0bde",
   "metadata": {},
   "outputs": [
    {
     "data": {
      "text/plain": [
       "array([0.5, 1. ])"
      ]
     },
     "execution_count": 155,
     "metadata": {},
     "output_type": "execute_result"
    }
   ],
   "source": [
    "mean_absolute_error(y_true, y_pred, multioutput='raw_values')"
   ]
  },
  {
   "cell_type": "code",
   "execution_count": 156,
   "id": "b61eb654-25f2-4ac6-84c2-8cf2b3b9c628",
   "metadata": {},
   "outputs": [
    {
     "data": {
      "text/plain": [
       "0.85"
      ]
     },
     "execution_count": 156,
     "metadata": {},
     "output_type": "execute_result"
    }
   ],
   "source": [
    "mean_absolute_error(y_true, y_pred, multioutput=[0.3, 0.7])"
   ]
  },
  {
   "cell_type": "markdown",
   "id": "a8e67433-8ea0-4bcd-9982-2c8ca1e2505c",
   "metadata": {},
   "source": [
    "#### 📑 [Mean squared error](https://scikit-learn.org/stable/modules/model_evaluation.html#mean-squared-error)\n",
    "\n",
    "The `mean_squared_error` function computes mean square error, a risk metric corresponding to the expected value of the squared (quadratic) error or loss.\n",
    "\n",
    "Here is a small example of usage of the mean_squared_error function:"
   ]
  },
  {
   "cell_type": "code",
   "execution_count": 157,
   "id": "82896dcf-5472-44e8-ba19-8eaa64bb19d2",
   "metadata": {},
   "outputs": [
    {
     "data": {
      "text/plain": [
       "0.375"
      ]
     },
     "execution_count": 157,
     "metadata": {},
     "output_type": "execute_result"
    }
   ],
   "source": [
    "from sklearn.metrics import mean_squared_error\n",
    "y_true = [3, -0.5, 2, 7]\n",
    "y_pred = [2.5, 0.0, 2, 8]\n",
    "mean_squared_error(y_true, y_pred)"
   ]
  },
  {
   "cell_type": "code",
   "execution_count": 158,
   "id": "2f3807eb-4230-4f23-836c-29e366d73b1e",
   "metadata": {},
   "outputs": [
    {
     "data": {
      "text/plain": [
       "0.7083333333333334"
      ]
     },
     "execution_count": 158,
     "metadata": {},
     "output_type": "execute_result"
    }
   ],
   "source": [
    "y_true = [[0.5, 1], [-1, 1], [7, -6]]\n",
    "y_pred = [[0, 2], [-1, 2], [8, -5]]\n",
    "mean_squared_error(y_true, y_pred)"
   ]
  },
  {
   "cell_type": "markdown",
   "id": "b97bb0ee-b00d-4045-8e7d-bdd8f7e21f6b",
   "metadata": {},
   "source": [
    "#### 📑 [Mean squared logarithmic error](https://scikit-learn.org/stable/modules/model_evaluation.html#mean-squared-logarithmic-error)\n",
    "\n",
    "🚧 TBD"
   ]
  },
  {
   "cell_type": "markdown",
   "id": "94145c2b-5454-4f70-b73a-e8db2efc4947",
   "metadata": {},
   "source": [
    "#### 📑 [Mean absolute percentage error](https://scikit-learn.org/stable/modules/model_evaluation.html#mean-absolute-percentage-error)\n",
    "\n",
    "The `mean_absolute_percentage_error` (MAPE), also known as mean absolute percentage deviation (MAPD), is an evaluation metric for regression problems. \n",
    "\n",
    "*The idea of this metric is to be sensitive to relative errors. It is for example not changed by a global scaling of the target variable.*\n",
    "\n",
    "If $\\hat{y}_i$ is the predicted value of the $i$-th sample and $y_i$ is the corresponding true value, then the mean absolute percentage error (MAPE) estimated over $n_{samples}$ is defined as:\n",
    "\n",
    "$\n",
    "\\text{MAPE}(y, \\hat{y}) =  \\frac{1}{n_{samples}} \\sum^{n_{samples}-1}_{i=0} \\frac{|y_i - \\hat{y}_i|}{\\max{(\\epsilon, |y_i|)}}\n",
    "$\n",
    "\n",
    "where $\\epsilon$ is an arbitrary small yet strictly positive number to avoid undefined results when y is zero.\n",
    "\n",
    "The `mean_absolute_percentage_error` function supports multioutput.\n",
    "\n",
    "Here is a small example of usage of the `mean_absolute_percentage_error` function:"
   ]
  },
  {
   "cell_type": "code",
   "execution_count": 159,
   "id": "bbb5c1ff-e83f-4456-9e79-2faaf5c18061",
   "metadata": {},
   "outputs": [
    {
     "data": {
      "text/plain": [
       "0.26666666666666666"
      ]
     },
     "execution_count": 159,
     "metadata": {},
     "output_type": "execute_result"
    }
   ],
   "source": [
    "from sklearn.metrics import mean_absolute_percentage_error\n",
    "y_true = [1, 10, 1e6]\n",
    "y_pred = [0.9, 15, 1.2e6]\n",
    "mean_absolute_percentage_error(y_true, y_pred)"
   ]
  },
  {
   "cell_type": "markdown",
   "id": "b0028d6f-1aa6-4c89-8221-4abdad467788",
   "metadata": {},
   "source": [
    "❗ In above example, if we had used `mean_absolute_error`, it would have ignored the small magnitude values and only reflected the error in prediction of highest magnitude value. But that problem is resolved in case of MAPE because it calculates relative percentage error with respect to actual output."
   ]
  },
  {
   "cell_type": "markdown",
   "id": "12486b55-b3b4-4478-bb57-25069db822cc",
   "metadata": {},
   "source": [
    "#### 📑 [Median absolute error](https://scikit-learn.org/stable/modules/model_evaluation.html#median-absolute-error)\n",
    "\n",
    "The `median_absolute_error` is *particularly interesting because it is **robust to outliers***. \n",
    "\n",
    "The loss is calculated by taking the median of all absolute differences between the target and the prediction.\n",
    "\n",
    "Here is a small example of usage of the `median_absolute_error` function:"
   ]
  },
  {
   "cell_type": "code",
   "execution_count": 160,
   "id": "3304ce8a-cd2f-4c7e-8af8-58021a3f100e",
   "metadata": {},
   "outputs": [
    {
     "data": {
      "text/plain": [
       "0.5"
      ]
     },
     "execution_count": 160,
     "metadata": {},
     "output_type": "execute_result"
    }
   ],
   "source": [
    "from sklearn.metrics import median_absolute_error\n",
    "y_true = [3, -0.5, 2, 7]\n",
    "y_pred = [2.5, 0.0, 2, 8]\n",
    "median_absolute_error(y_true, y_pred)"
   ]
  },
  {
   "cell_type": "markdown",
   "id": "24434196-85a5-41d5-9cd1-6f6bcfbc3902",
   "metadata": {},
   "source": [
    "#### 📑 [R² score, the coefficient of determination](https://scikit-learn.org/stable/modules/model_evaluation.html#r2-score-the-coefficient-of-determination)\n",
    "\n",
    "The `r2_score` function computes the [**coefficient of determination**](https://en.wikipedia.org/wiki/Coefficient_of_determination), usually denoted as **R²**.\n",
    "\n",
    "It represents the proportion of variance (of $y$) that has been explained by the independent variables ($X$) in the model. It provides an indication of goodness of fit and therefore a measure of how well unseen samples are likely to be predicted by the model, through the proportion of explained variance.\n",
    "\n",
    "❗ As such variance is dataset dependent, R² may not be meaningfully comparable across different datasets. \n",
    "\n",
    "Best possible score is `1.0` and it *can be negative* (because the model can be arbitrarily worse). A constant model that always predicts the expected value of $y$, disregarding the input features, would get a R² score of `0.0`.\n",
    "\n",
    "If $\\hat{y}_i$ is the predicted value of the $i$-th sample and $y_i$ is the corresponding true value for total samples, the estimated R² is defined as:\n",
    "\n",
    "$\n",
    "R^2(y,\\hat{y}) = 1 - \\frac{\\sum^{n}_{i=1}(y_i-\\hat{y}_i)^2}{\\sum^{n}_{i=1}(y_i-\\bar{y})^2}\n",
    "$\n",
    "\n",
    "where $\\bar{y} = \\frac{1}{n}\\sum^{n}_{i=1} y_i$\n",
    "\n",
    "Note that `r2_score` calculates **unadjusted R²** without correcting for bias in sample variance of $y$.\n",
    "\n",
    "Here is a small example of usage of the r2_score function:"
   ]
  },
  {
   "cell_type": "code",
   "execution_count": 161,
   "id": "82e992f1-f891-4d8a-b73c-f54ca15298ee",
   "metadata": {},
   "outputs": [
    {
     "data": {
      "text/plain": [
       "0.9486081370449679"
      ]
     },
     "execution_count": 161,
     "metadata": {},
     "output_type": "execute_result"
    }
   ],
   "source": [
    "from sklearn.metrics import r2_score\n",
    "y_true = [3, -0.5, 2, 7]\n",
    "y_pred = [2.5, 0.0, 2, 8]\n",
    "r2_score(y_true, y_pred)"
   ]
  },
  {
   "cell_type": "code",
   "execution_count": 162,
   "id": "06d28ebe-11d2-41e7-b78f-09f74b1fc184",
   "metadata": {},
   "outputs": [
    {
     "data": {
      "text/plain": [
       "0.9382566585956417"
      ]
     },
     "execution_count": 162,
     "metadata": {},
     "output_type": "execute_result"
    }
   ],
   "source": [
    "# Multi-output case:\n",
    "y_true = [[0.5, 1], [-1, 1], [7, -6]]\n",
    "y_pred = [[0, 2], [-1, 2], [8, -5]]\n",
    "r2_score(y_true, y_pred, multioutput='variance_weighted')"
   ]
  },
  {
   "cell_type": "code",
   "execution_count": 163,
   "id": "37e9128d-79ed-4eb8-9b2c-9e38051dab93",
   "metadata": {},
   "outputs": [
    {
     "data": {
      "text/plain": [
       "array([0.96543779, 0.90816327])"
      ]
     },
     "execution_count": 163,
     "metadata": {},
     "output_type": "execute_result"
    }
   ],
   "source": [
    "r2_score(y_true, y_pred, multioutput='raw_values')"
   ]
  },
  {
   "cell_type": "code",
   "execution_count": 165,
   "id": "8a3148af-388a-4bf7-a0be-ab64735d148c",
   "metadata": {},
   "outputs": [
    {
     "data": {
      "text/plain": [
       "0.9253456221198156"
      ]
     },
     "execution_count": 165,
     "metadata": {},
     "output_type": "execute_result"
    }
   ],
   "source": [
    "r2_score(y_true, y_pred, multioutput=[0.3, 0.7])  # Custom weighting"
   ]
  },
  {
   "cell_type": "markdown",
   "id": "f424629e-7c0d-419e-9f46-4807a63d5e26",
   "metadata": {},
   "source": [
    "#### 📑 [Mean Poisson, Gamma, and Tweedie deviances](https://scikit-learn.org/stable/modules/model_evaluation.html#mean-poisson-gamma-and-tweedie-deviances)\n",
    "\n",
    "🚧 TBD"
   ]
  },
  {
   "cell_type": "markdown",
   "id": "21343db9-837d-4807-82e1-fcb4a995d0e6",
   "metadata": {},
   "source": [
    "## [Clustering metrics](https://scikit-learn.org/stable/modules/model_evaluation.html#clustering-metrics)\n",
    "\n",
    "The `sklearn.metrics` module implements several loss, score, and utility functions. \n",
    "\n",
    "For more information see: \n",
    "* ➯ the [Clustering performance evaluation](https://scikit-learn.org/stable/modules/clustering.html#clustering-evaluation) section for instance clustering, and \n",
    "* ➯ [Biclustering evaluation](https://scikit-learn.org/stable/modules/biclustering.html#biclustering-evaluation) for biclustering.\n"
   ]
  },
  {
   "cell_type": "markdown",
   "id": "2f1a1112-8a2c-4116-aef8-a13d88c59064",
   "metadata": {},
   "source": [
    "## [💡 Dummy estimators](https://scikit-learn.org/stable/modules/model_evaluation.html#dummy-estimators)\n",
    "\n",
    "When doing supervised learning, a simple sanity check consists of comparing one’s estimator against simple rules of thumb. \n",
    "\n",
    "`DummyClassifier` implements several such simple strategies for classification:\n",
    "* `stratified` generates random predictions by respecting the training set class distribution.\n",
    "* `most_frequent` always predicts the most frequent label in the training set.\n",
    "* `prior` always predicts the class that maximizes the class prior (like `most_frequent`) and `predict_proba` returns the class prior.\n",
    "* `uniform` generates predictions uniformly at random.\n",
    "* **constant always predicts a constant label that is provided by the user.**\n",
    "    * A major motivation of this method is F1-scoring, when the positive class is in the minority.\n",
    "\n",
    "❗ Note that with all these strategies, the `predict` method completely ignores the input data!\n",
    "\n",
    "To illustrate `DummyClassifier`, first let’s create an imbalanced dataset:"
   ]
  },
  {
   "cell_type": "code",
   "execution_count": 168,
   "id": "63830b18-dc82-4f6d-93db-719a9ca7dc0a",
   "metadata": {},
   "outputs": [
    {
     "name": "stdout",
     "output_type": "stream",
     "text": [
      "X[:3]:\n",
      " [[5.1 3.5 1.4 0.2]\n",
      " [4.9 3.  1.4 0.2]\n",
      " [4.7 3.2 1.3 0.2]]\n",
      "y[:3]:\n",
      " [-1 -1 -1]\n"
     ]
    }
   ],
   "source": [
    "from sklearn.datasets import load_iris\n",
    "from sklearn.model_selection import train_test_split\n",
    "X, y = load_iris(return_X_y=True)\n",
    "print(\"X[:3]:\\n\", X[:3])\n",
    "y[y != 1] = -1\n",
    "print(\"y[:3]:\\n\", y[:3])\n",
    "X_train, X_test, y_train, y_test = train_test_split(X, y, random_state=0)"
   ]
  },
  {
   "cell_type": "markdown",
   "id": "e9471413-29a8-4eba-9adf-26a65dc19727",
   "metadata": {},
   "source": [
    "Next, let’s compare the accuracy of `SVC` and `most_frequent`:"
   ]
  },
  {
   "cell_type": "code",
   "execution_count": 169,
   "id": "93152a19-3778-403d-85d0-21458c54fbf6",
   "metadata": {},
   "outputs": [
    {
     "data": {
      "text/plain": [
       "0.631578947368421"
      ]
     },
     "execution_count": 169,
     "metadata": {},
     "output_type": "execute_result"
    }
   ],
   "source": [
    "from sklearn.dummy import DummyClassifier\n",
    "from sklearn.svm import SVC\n",
    "clf = SVC(kernel='linear', C=1).fit(X_train, y_train)\n",
    "clf.score(X_test, y_test)"
   ]
  },
  {
   "cell_type": "code",
   "execution_count": 170,
   "id": "f5d1bef9-bd71-4ab4-b7f4-5cdf74860f3b",
   "metadata": {},
   "outputs": [
    {
     "data": {
      "text/plain": [
       "0.5789473684210527"
      ]
     },
     "execution_count": 170,
     "metadata": {},
     "output_type": "execute_result"
    }
   ],
   "source": [
    "clf = DummyClassifier(strategy='most_frequent', random_state=0)\n",
    "clf.fit(X_train, y_train)\n",
    "clf.score(X_test, y_test)"
   ]
  },
  {
   "cell_type": "markdown",
   "id": "7ff08634-a94d-4e7d-8168-94cc22e5783d",
   "metadata": {},
   "source": [
    "**We see that SVC doesn’t do much better than a dummy classifier!** \n",
    "\n",
    "Now, let’s change the kernel:"
   ]
  },
  {
   "cell_type": "code",
   "execution_count": 171,
   "id": "118a32a5-96e2-4130-9254-3c241b755752",
   "metadata": {},
   "outputs": [
    {
     "data": {
      "text/plain": [
       "0.9473684210526315"
      ]
     },
     "execution_count": 171,
     "metadata": {},
     "output_type": "execute_result"
    }
   ],
   "source": [
    "clf = SVC(kernel='rbf', C=1).fit(X_train, y_train)\n",
    "clf.score(X_test, y_test)"
   ]
  },
  {
   "cell_type": "markdown",
   "id": "a93d8820-07fe-4ed3-9c2f-1d6fbd5cf77f",
   "metadata": {},
   "source": [
    "More generally, when the accuracy of a classifier is too close to random, it probably means that something went wrong: features are not helpful, a hyperparameter is not correctly tuned, the classifier is suffering from class imbalance, etc. ...\n",
    "\n",
    "`DummyRegressor` also implements four simple rules of thumb for regression:\n",
    "* `mean` always predicts the mean of the training targets.\n",
    "* `median` always predicts the median of the training targets.\n",
    "* `quantile` always predicts a user provided quantile of the training targets.\n",
    "* `constant` always predicts a constant value that is provided by the user.\n",
    "\n",
    "❗ In all these strategies, the predict method completely ignores the input data."
   ]
  }
 ],
 "metadata": {
  "kernelspec": {
   "display_name": "Python 3",
   "language": "python",
   "name": "python3"
  },
  "language_info": {
   "codemirror_mode": {
    "name": "ipython",
    "version": 3
   },
   "file_extension": ".py",
   "mimetype": "text/x-python",
   "name": "python",
   "nbconvert_exporter": "python",
   "pygments_lexer": "ipython3",
   "version": "3.8.10"
  }
 },
 "nbformat": 4,
 "nbformat_minor": 5
}
