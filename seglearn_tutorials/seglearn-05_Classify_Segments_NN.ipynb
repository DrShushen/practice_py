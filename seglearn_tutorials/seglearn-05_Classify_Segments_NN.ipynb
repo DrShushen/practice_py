{
 "cells": [
  {
   "cell_type": "markdown",
   "id": "2ec88806-74f5-4299-b70f-5bbe56fc7f46",
   "metadata": {},
   "source": [
    "# Classifying Segments Directly with a Neural Network\n",
    "\n",
    "From here: https://dmbee.github.io/seglearn/auto_examples/plot_segment_rep.html"
   ]
  },
  {
   "cell_type": "markdown",
   "id": "b73b8a9a-cfbd-4a10-93c0-5854b8e547b0",
   "metadata": {},
   "source": [
    "## Overview\n",
    "\n",
    "This is a basic example using a convolutional recurrent neural network to learn segments directly from time series data."
   ]
  },
  {
   "cell_type": "code",
   "execution_count": 1,
   "id": "efbe524e-36c5-4b19-afda-c25091a40099",
   "metadata": {},
   "outputs": [],
   "source": [
    "import matplotlib.image as mpimg\n",
    "import matplotlib.pyplot as plt\n",
    "import numpy as np\n",
    "from sklearn.model_selection import train_test_split"
   ]
  },
  {
   "cell_type": "code",
   "execution_count": 2,
   "id": "1aa9a8fb-18d2-4bc3-a15e-d567d34f00fb",
   "metadata": {},
   "outputs": [],
   "source": [
    "from tensorflow.python.keras.layers import Dense, LSTM, Conv1D\n",
    "from tensorflow.python.keras.models import Sequential\n",
    "from tensorflow.python.keras.wrappers.scikit_learn import KerasClassifier"
   ]
  },
  {
   "cell_type": "code",
   "execution_count": 3,
   "id": "7d5f42ad-09f1-4ba5-bca0-ebb5593fd21d",
   "metadata": {},
   "outputs": [],
   "source": [
    "from seglearn.datasets import load_watch\n",
    "from seglearn.pipe import Pype\n",
    "from seglearn.transform import Segment"
   ]
  },
  {
   "cell_type": "code",
   "execution_count": 4,
   "id": "4e0ca99a-d957-4ad9-aaa0-324048a6d88b",
   "metadata": {},
   "outputs": [],
   "source": [
    "# Define Conv/RNN model.\n",
    "def crnn_model(\n",
    "    width=100, \n",
    "    n_vars=6, \n",
    "    n_classes=7, \n",
    "    conv_kernel_size=5,\n",
    "    conv_filters=3, \n",
    "    lstm_units=3\n",
    "):\n",
    "    input_shape = (width, n_vars)\n",
    "    model = Sequential()\n",
    "    model.add(\n",
    "        Conv1D(\n",
    "            filters=conv_filters, \n",
    "            kernel_size=conv_kernel_size,\n",
    "            padding='valid', \n",
    "            activation='relu', \n",
    "            input_shape=input_shape\n",
    "        )\n",
    "    )\n",
    "    model.add(\n",
    "        Conv1D(\n",
    "            filters=conv_filters, \n",
    "            kernel_size=conv_kernel_size,\n",
    "            padding='valid', \n",
    "            activation='relu'\n",
    "        )\n",
    "    )\n",
    "    model.add(\n",
    "        LSTM(\n",
    "            units=lstm_units, \n",
    "            dropout=0.1, \n",
    "            recurrent_dropout=0.1\n",
    "        )\n",
    "    )\n",
    "    model.add(Dense(n_classes, activation=\"softmax\"))\n",
    "\n",
    "    model.compile(\n",
    "        loss='categorical_crossentropy', \n",
    "        optimizer='adam',\n",
    "        metrics=['accuracy']\n",
    "    )\n",
    "\n",
    "    return model"
   ]
  },
  {
   "cell_type": "code",
   "execution_count": 5,
   "id": "e23c72ed-04d8-45a2-b422-d8fd33663c6e",
   "metadata": {},
   "outputs": [],
   "source": [
    "# load the data\n",
    "data = load_watch()\n",
    "X = data['X']\n",
    "y = data['y']"
   ]
  },
  {
   "cell_type": "code",
   "execution_count": 6,
   "id": "fb6aebc0-f5dc-4c4d-b5a3-a1cc3fa92b91",
   "metadata": {},
   "outputs": [
    {
     "name": "stdout",
     "output_type": "stream",
     "text": [
      "<class 'list'>\n",
      "140\n",
      "(1333, 6)\n",
      "(2197, 6)\n",
      "(1597, 6)\n"
     ]
    }
   ],
   "source": [
    "print(type(X))\n",
    "print(len(X))\n",
    "print(X[0].shape)\n",
    "print(X[2].shape)\n",
    "print(X[3].shape)"
   ]
  },
  {
   "cell_type": "code",
   "execution_count": 7,
   "id": "babeb0ae-528c-4010-9ff0-aa559fc90c66",
   "metadata": {},
   "outputs": [
    {
     "name": "stdout",
     "output_type": "stream",
     "text": [
      "<class 'numpy.ndarray'>\n",
      "(140,)\n",
      "[0 2 2]\n",
      "[0 1 2 3 4 5 6]\n"
     ]
    }
   ],
   "source": [
    "print(type(y))\n",
    "print(y.shape)\n",
    "print(y[0:3])\n",
    "print(np.unique(y))"
   ]
  },
  {
   "cell_type": "code",
   "execution_count": 8,
   "id": "4668010f-f132-4812-b399-7f1df0d01c02",
   "metadata": {},
   "outputs": [
    {
     "name": "stderr",
     "output_type": "stream",
     "text": [
      "/mnt/space/miniconda3/envs/py38_playaround-sk/lib/python3.8/site-packages/sklearn/utils/validation.py:70: FutureWarning: Pass memory=None as keyword args. From version 1.0 (renaming of 0.25) passing these as positional arguments will result in an error\n",
      "  warnings.warn(f\"Pass {args_msg} as keyword args. From version \"\n"
     ]
    }
   ],
   "source": [
    "# create a segment learning pipeline\n",
    "pipe = Pype(\n",
    "    [\n",
    "        (\n",
    "            'seg', \n",
    "            Segment(\n",
    "                width=100, \n",
    "                step=100, \n",
    "                order='C'\n",
    "                # ^ From: https://dmbee.github.io/seglearn/transform.html#seglearn.transform.Segment\n",
    "                # Determines the index order of the segmented time series. \n",
    "                # ‘C’ means C-like index order (first index changes slowest) and ‘F’ means \n",
    "                # Fortran-like index order (last index changes slowest). \n",
    "                # ‘C’ ordering is suggested for neural network estimators, \n",
    "                # and ‘F’ ordering is suggested for computing feature representations.\n",
    "            )\n",
    "        ),\n",
    "        (\n",
    "            'crnn', \n",
    "            KerasClassifier(\n",
    "                build_fn=crnn_model, \n",
    "                epochs=10, \n",
    "                batch_size=256, \n",
    "                verbose=0\n",
    "            )\n",
    "        )\n",
    "    ]\n",
    ")"
   ]
  },
  {
   "cell_type": "code",
   "execution_count": 9,
   "id": "53104c54-8ef8-44a5-a37e-dc8c8da0756b",
   "metadata": {},
   "outputs": [],
   "source": [
    "# split the data\n",
    "X_train, X_test, y_train, y_test = train_test_split(X, y, test_size=0.25, random_state=42)"
   ]
  },
  {
   "cell_type": "code",
   "execution_count": 10,
   "id": "9d145024-26dc-4f91-98d7-4a856522c91a",
   "metadata": {},
   "outputs": [
    {
     "name": "stderr",
     "output_type": "stream",
     "text": [
      "/mnt/space/miniconda3/envs/py38_playaround-sk/lib/python3.8/site-packages/seglearn/transform.py:237: VisibleDeprecationWarning: Creating an ndarray from ragged nested sequences (which is a list-or-tuple of lists-or-tuples-or ndarrays with different lengths or shapes) is deprecated. If you meant to do this, you must specify 'dtype=object' when creating the ndarray\n",
      "  Xt = np.array([sliding_tensor(Xt[i], self.width, self._step, self.order)\n"
     ]
    },
    {
     "data": {
      "text/plain": [
       "Pype(steps=[('seg', Segment(order='C', overlap=None, step=100)),\n",
       "            ('crnn',\n",
       "             <tensorflow.python.keras.wrappers.scikit_learn.KerasClassifier object at 0x7f1373e0a5e0>)])"
      ]
     },
     "execution_count": 10,
     "metadata": {},
     "output_type": "execute_result"
    }
   ],
   "source": [
    "pipe.fit(X_train, y_train)"
   ]
  },
  {
   "cell_type": "code",
   "execution_count": 11,
   "id": "4cd579b0-d098-4712-a005-ddb9b469271d",
   "metadata": {},
   "outputs": [
    {
     "data": {
      "text/plain": [
       "0.11092150211334229"
      ]
     },
     "execution_count": 11,
     "metadata": {},
     "output_type": "execute_result"
    }
   ],
   "source": [
    "score = pipe.score(X_test, y_test)\n",
    "score"
   ]
  },
  {
   "cell_type": "code",
   "execution_count": 12,
   "id": "49a0f570-6594-44bf-96ab-fcd6fc7f553f",
   "metadata": {},
   "outputs": [
    {
     "name": "stdout",
     "output_type": "stream",
     "text": [
      "N series in train:  105\n",
      "N series in test:  35\n",
      "N segments in train:  1783\n",
      "N segments in test:  586\n",
      "Accuracy score:  0.11092150211334229\n"
     ]
    },
    {
     "data": {
      "text/plain": [
       "<matplotlib.image.AxesImage at 0x7f13f98ce0a0>"
      ]
     },
     "execution_count": 12,
     "metadata": {},
     "output_type": "execute_result"
    },
    {
     "data": {
      "image/png": "[encoded data removed]",
      "text/plain": [
       "<Figure size 432x288 with 1 Axes>"
      ]
     },
     "metadata": {
      "needs_background": "light"
     },
     "output_type": "display_data"
    }
   ],
   "source": [
    "print(\"N series in train: \", len(X_train))\n",
    "print(\"N series in test: \", len(X_test))\n",
    "print(\"N segments in train: \", pipe.N_train)\n",
    "print(\"N segments in test: \", pipe.N_test)\n",
    "print(\"Accuracy score: \", score)\n",
    "\n",
    "img = mpimg.imread('https://dmbee.github.io/seglearn/_images/sphx_glr_plot_segment_rep_001.png')\n",
    "plt.imshow(img)"
   ]
  }
 ],
 "metadata": {
  "kernelspec": {
   "display_name": "Python 3",
   "language": "python",
   "name": "python3"
  },
  "language_info": {
   "codemirror_mode": {
    "name": "ipython",
    "version": 3
   },
   "file_extension": ".py",
   "mimetype": "text/x-python",
   "name": "python",
   "nbconvert_exporter": "python",
   "pygments_lexer": "ipython3",
   "version": "3.8.10"
  }
 },
 "nbformat": 4,
 "nbformat_minor": 5
}
