{
 "cells": [
  {
   "cell_type": "markdown",
   "id": "1a5a2bc5-e146-44b3-babb-0209d7442258",
   "metadata": {},
   "source": [
    "# Simple FeatureRepMix Example\n",
    "\n",
    "From: https://dmbee.github.io/seglearn/auto_examples/plot_feature_rep_mix_example.html#simple-featurerepmix-example"
   ]
  },
  {
   "cell_type": "markdown",
   "id": "c8e1c0de-94a0-4854-aa99-cde3bbb08024",
   "metadata": {},
   "source": [
    "This example demonstrates how to use the `FeatureRepMix` on segmented data.\n",
    "\n",
    "Although not shown here, `FeatureRepMix` can be used with `Pype` in place of `FeatureRep`. See API documentation for an example."
   ]
  },
  {
   "cell_type": "code",
   "execution_count": 1,
   "id": "29caf247-3aea-4918-95a9-65172d3229ae",
   "metadata": {},
   "outputs": [],
   "source": [
    "from seglearn.transform import Segment, FeatureRep, FeatureRepMix\n",
    "from seglearn.feature_functions import minimum, maximum\n",
    "from seglearn.base import TS_Data"
   ]
  },
  {
   "cell_type": "code",
   "execution_count": 2,
   "id": "1402b6c3-2738-4b27-8475-18c2cdef932e",
   "metadata": {},
   "outputs": [],
   "source": [
    "import numpy as np\n",
    "import pandas as pd"
   ]
  },
  {
   "cell_type": "code",
   "execution_count": 3,
   "id": "e5aa77d6-5a82-4714-9755-18c5a302d76d",
   "metadata": {},
   "outputs": [],
   "source": [
    "from IPython.display import display"
   ]
  },
  {
   "cell_type": "code",
   "execution_count": 4,
   "id": "287cf6a6-a0b2-4ffb-9c38-dcc5dfa237d6",
   "metadata": {},
   "outputs": [],
   "source": [
    "# Single (as in single example) multivariate time series with 3 samples of 4 variables:\n",
    "X = [np.array([[0, 1, 2, 3], [4, 5, 6, 7], [8, 9, 10, 11]])]\n",
    "\n",
    "# Time series target:\n",
    "y = [np.array([True, False, False])]"
   ]
  },
  {
   "cell_type": "code",
   "execution_count": 5,
   "id": "4cf6f48e-ce8d-4a0d-a00c-315615e7aa0a",
   "metadata": {},
   "outputs": [
    {
     "name": "stdout",
     "output_type": "stream",
     "text": [
      "len(X): 1\n",
      "X[0].shape: (3, 4)\n"
     ]
    },
    {
     "data": {
      "text/plain": [
       "[array([[ 0,  1,  2,  3],\n",
       "        [ 4,  5,  6,  7],\n",
       "        [ 8,  9, 10, 11]])]"
      ]
     },
     "metadata": {},
     "output_type": "display_data"
    }
   ],
   "source": [
    "print(\"len(X):\", len(X))\n",
    "print(\"X[0].shape:\", X[0].shape)\n",
    "display(X)"
   ]
  },
  {
   "cell_type": "code",
   "execution_count": 6,
   "id": "e5065817-a7b2-4a5d-bf36-d9c972bd8d6a",
   "metadata": {},
   "outputs": [
    {
     "name": "stdout",
     "output_type": "stream",
     "text": [
      "len(y): 1\n",
      "y[0].shape: (3,)\n"
     ]
    },
    {
     "data": {
      "text/plain": [
       "[array([ True, False, False])]"
      ]
     },
     "metadata": {},
     "output_type": "display_data"
    }
   ],
   "source": [
    "print(\"len(y):\", len(y))\n",
    "print(\"y[0].shape:\", y[0].shape)\n",
    "display(y)"
   ]
  },
  {
   "cell_type": "markdown",
   "id": "0749fc48-25b0-4d24-85ea-e1a766de78aa",
   "metadata": {},
   "source": [
    "#### `Semgent` [(docs)](https://dmbee.github.io/seglearn/transform.html#seglearn.transform.Segment):\n",
    "\n",
    "**Init signature:**\n",
    "\n",
    "```python\n",
    "Segment(\n",
    "    width=100,\n",
    "    overlap=0.5,\n",
    "    step=None,\n",
    "    y_func=<function last at 0x7f6030040dc0>,\n",
    "    shuffle=False,\n",
    "    random_state=None,\n",
    "    order='F',\n",
    ")\n",
    "```\n",
    "\n",
    "**Docstring:**     \n",
    "Transformer for sliding window segmentation for datasets where\n",
    "`X` is time series data, *optionally with contextual variables*\n",
    "and `y` can either have a single value for each time series or\n",
    "itself be a time series with the same sampling interval as `X`.\n",
    "\n",
    "The target `y` is mapped to segments from their parent series.\n",
    "\n",
    "If the target `y` is a `time_series`, the optional parameter `y_func`\n",
    "determines the mapping behavior. The segment targets can be a single value,\n",
    "or a sequence of values depending on ``y_func`` parameter.\n",
    "\n",
    "The transformed data consists of segment/target pairs that can be learned\n",
    "through a feature representation or directly with a neural network.\n",
    "\n",
    "\n",
    "**Parameters**\n",
    "```\n",
    "width : int > 0\n",
    "    width of segments (number of samples)\n",
    "overlap : float range [0,1]\n",
    "    amount of overlap between segments. must be in range: 0 <= overlap <= 1\n",
    "    (note: setting overlap to 1.0 results in the segments to being advanced by a single sample)\n",
    "step : int range [1, width] (default=None)\n",
    "    number of samples to advance adjacent segments (note: this takes precedence over overlap)\n",
    "y_func : function\n",
    "    returns target from array of target segments (eg ``last``, ``middle``, or ``mean``)\n",
    "shuffle : bool, optional\n",
    "    shuffle the segments after transform (recommended for batch optimizations)\n",
    "random_state : int, default = None\n",
    "    Randomized segment shuffling will return different results for each call to ``transform``.\n",
    "    If you have set ``shuffle`` to True and want the same result with each call to ``fit``,\n",
    "    set ``random_state`` to an integer.\n",
    "order : str, optional (default='F')\n",
    "    Determines the index order of the segmented time series. 'C' means C-like index order (first\n",
    "    index changes slowest) and 'F' means Fortran-like index order (last index changes slowest).\n",
    "    'C' ordering is suggested for neural network estimators, and 'F' ordering is suggested for computing\n",
    "    feature representations.\n",
    "```\n",
    "\n",
    "**Returns**\n",
    "```\n",
    "self : object\n",
    "    Returns self.\n",
    "```\n",
    "\n",
    "File:           `[...]/seglearn/transform.py`\n",
    "\n",
    "Type:           `type`\n",
    "\n",
    "Subclasses:     `SegmentX`, `SegmentXY`, `SegmentXYForecast`"
   ]
  },
  {
   "cell_type": "markdown",
   "id": "7f7395ef-a5c8-4a10-b832-fd83fcf5e8e4",
   "metadata": {},
   "source": [
    "<br/>\n",
    "\n",
    "**⚠️ Note:**\n",
    "\n",
    "Source: https://dmbee.github.io/seglearn/transform.html#seglearn.transform.Segment\n",
    "\n",
    "It appears that `SegmentX` and `SegmentXY` have both been **deprecated** and replaced by the above `Segment`."
   ]
  },
  {
   "cell_type": "code",
   "execution_count": 7,
   "id": "4a524803-5618-428e-8d88-96a6e44a26ab",
   "metadata": {},
   "outputs": [
    {
     "data": {
      "text/plain": [
       "Segment(overlap=1, width=3)"
      ]
     },
     "execution_count": 7,
     "metadata": {},
     "output_type": "execute_result"
    }
   ],
   "source": [
    "segment = Segment(width=3, overlap=1)\n",
    "segment"
   ]
  },
  {
   "cell_type": "code",
   "execution_count": 8,
   "id": "2746f11f-367a-4170-ba5a-5dc5f3f1fafc",
   "metadata": {},
   "outputs": [],
   "source": [
    "X, y, _ = segment.fit_transform(X, y)"
   ]
  },
  {
   "cell_type": "code",
   "execution_count": 9,
   "id": "8dcf3055-5097-4e08-8e6f-b0f05965723c",
   "metadata": {},
   "outputs": [
    {
     "name": "stdout",
     "output_type": "stream",
     "text": [
      "After segmentation:\n",
      "X:\n",
      " [[[ 0  1  2  3]\n",
      "  [ 4  5  6  7]\n",
      "  [ 8  9 10 11]]]\n",
      "y:\n",
      " [False]\n"
     ]
    }
   ],
   "source": [
    "print('After segmentation:')\n",
    "print(\"X:\\n\", X)\n",
    "print(\"y:\\n\", y)"
   ]
  },
  {
   "cell_type": "markdown",
   "id": "6fb905a9-963a-4d5a-b095-4c04e9d841bd",
   "metadata": {},
   "source": [
    "---\n",
    "\n",
    "### Play around with `Segment`"
   ]
  },
  {
   "cell_type": "code",
   "execution_count": 10,
   "id": "84c46b4c-b91a-4987-a8a4-c120889ed98a",
   "metadata": {},
   "outputs": [],
   "source": [
    "# n_samples = 2, timesteps=[4, 5], features=3\n",
    "X_ = [\n",
    "    np.array(\n",
    "        [\n",
    "            [0, .1, 10],\n",
    "            [2, .1, 20],\n",
    "            [3, -.1, 15],\n",
    "            [4, .2, 30],\n",
    "        ]\n",
    "    ),\n",
    "    np.array(\n",
    "        [\n",
    "            [-1, .1, 22],\n",
    "            [-3, .2, 33],\n",
    "            [-5, .3, 22],\n",
    "            [-7, .4, 44],\n",
    "            [-9, .5, 33],\n",
    "        ]\n",
    "    )\n",
    "]\n",
    "\n",
    "# Time series target:\n",
    "y_ = [\n",
    "    np.array([True, False, False, True]),\n",
    "    np.array([True, False, False, True, True]),\n",
    "]"
   ]
  },
  {
   "cell_type": "code",
   "execution_count": 11,
   "id": "78c369f5-c7de-49e4-99e1-b80df6c0f611",
   "metadata": {},
   "outputs": [
    {
     "data": {
      "text/plain": [
       "[array([[ 0. ,  0.1, 10. ],\n",
       "        [ 2. ,  0.1, 20. ],\n",
       "        [ 3. , -0.1, 15. ],\n",
       "        [ 4. ,  0.2, 30. ]]),\n",
       " array([[-1. ,  0.1, 22. ],\n",
       "        [-3. ,  0.2, 33. ],\n",
       "        [-5. ,  0.3, 22. ],\n",
       "        [-7. ,  0.4, 44. ],\n",
       "        [-9. ,  0.5, 33. ]])]"
      ]
     },
     "execution_count": 11,
     "metadata": {},
     "output_type": "execute_result"
    }
   ],
   "source": [
    "X_"
   ]
  },
  {
   "cell_type": "code",
   "execution_count": 12,
   "id": "593f7f30-07cb-4245-8ece-be34f3345ac8",
   "metadata": {},
   "outputs": [
    {
     "data": {
      "text/plain": [
       "[array([ True, False, False,  True]),\n",
       " array([ True, False, False,  True,  True])]"
      ]
     },
     "execution_count": 12,
     "metadata": {},
     "output_type": "execute_result"
    }
   ],
   "source": [
    "y_"
   ]
  },
  {
   "cell_type": "code",
   "execution_count": 13,
   "id": "25f08ff9-8049-4788-876e-cda214bc63e9",
   "metadata": {},
   "outputs": [
    {
     "name": "stderr",
     "output_type": "stream",
     "text": [
      "/mnt/space/miniconda3/envs/py38_playaround-sk/lib/python3.8/site-packages/seglearn/transform.py:237: VisibleDeprecationWarning: Creating an ndarray from ragged nested sequences (which is a list-or-tuple of lists-or-tuples-or ndarrays with different lengths or shapes) is deprecated. If you meant to do this, you must specify 'dtype=object' when creating the ndarray.\n",
      "  Xt = np.array([sliding_tensor(Xt[i], self.width, self._step, self.order)\n",
      "/mnt/space/miniconda3/envs/py38_playaround-sk/lib/python3.8/site-packages/seglearn/transform.py:254: VisibleDeprecationWarning: Creating an ndarray from ragged nested sequences (which is a list-or-tuple of lists-or-tuples-or ndarrays with different lengths or shapes) is deprecated. If you meant to do this, you must specify 'dtype=object' when creating the ndarray.\n",
      "  yt = np.array([sliding_window(y[i], self.width, self._step, self.order)\n"
     ]
    }
   ],
   "source": [
    "segment = Segment(\n",
    "    width=3, \n",
    "    overlap=1\n",
    ")\n",
    "X_tr, y_tr, sample_weight_new = segment.fit_transform(X_, y_)"
   ]
  },
  {
   "cell_type": "code",
   "execution_count": 14,
   "id": "0f7a9522-1ff4-412e-b18e-9d8d63a3b151",
   "metadata": {},
   "outputs": [
    {
     "name": "stdout",
     "output_type": "stream",
     "text": [
      "(5, 3, 3)\n"
     ]
    },
    {
     "data": {
      "text/plain": [
       "array([[[ 0. ,  0.1, 10. ],\n",
       "        [ 2. ,  0.1, 20. ],\n",
       "        [ 3. , -0.1, 15. ]],\n",
       "\n",
       "       [[ 2. ,  0.1, 20. ],\n",
       "        [ 3. , -0.1, 15. ],\n",
       "        [ 4. ,  0.2, 30. ]],\n",
       "\n",
       "       [[-1. ,  0.1, 22. ],\n",
       "        [-3. ,  0.2, 33. ],\n",
       "        [-5. ,  0.3, 22. ]],\n",
       "\n",
       "       [[-3. ,  0.2, 33. ],\n",
       "        [-5. ,  0.3, 22. ],\n",
       "        [-7. ,  0.4, 44. ]],\n",
       "\n",
       "       [[-5. ,  0.3, 22. ],\n",
       "        [-7. ,  0.4, 44. ],\n",
       "        [-9. ,  0.5, 33. ]]])"
      ]
     },
     "execution_count": 14,
     "metadata": {},
     "output_type": "execute_result"
    }
   ],
   "source": [
    "print(X_tr.shape)\n",
    "X_tr"
   ]
  },
  {
   "cell_type": "code",
   "execution_count": 15,
   "id": "7ef51d7b-c6ea-43d7-b084-f0e81e7e9dfd",
   "metadata": {},
   "outputs": [
    {
     "name": "stdout",
     "output_type": "stream",
     "text": [
      "(5,)\n"
     ]
    },
    {
     "data": {
      "text/plain": [
       "array([False,  True, False,  True,  True])"
      ]
     },
     "execution_count": 15,
     "metadata": {},
     "output_type": "execute_result"
    }
   ],
   "source": [
    "print(y_tr.shape)\n",
    "y_tr"
   ]
  },
  {
   "cell_type": "code",
   "execution_count": 16,
   "id": "283f7b31-6f64-4987-a63c-f116eda4f362",
   "metadata": {},
   "outputs": [
    {
     "data": {
      "text/plain": [
       "NoneType"
      ]
     },
     "execution_count": 16,
     "metadata": {},
     "output_type": "execute_result"
    }
   ],
   "source": [
    "type(sample_weight_new)"
   ]
  },
  {
   "cell_type": "markdown",
   "id": "1a0543c0-3810-435d-a67b-9a600df28c03",
   "metadata": {},
   "source": [
    "### ✍🏻 My interpretation\n",
    "\n",
    "* Can see above that there is a sliding window (of size 3, `width` parameter).\n",
    "* This is applied to (\"slid along\") each sample.\n",
    "* ⚠️ Then, the windows for all samples are **concatenated**!\n",
    "* The `y` is mapped to each segment using `y_func` definition, here, `\"last\"`."
   ]
  },
  {
   "cell_type": "code",
   "execution_count": 17,
   "id": "2c99b737-341d-4405-81a0-82f8b01bec3b",
   "metadata": {},
   "outputs": [
    {
     "name": "stdout",
     "output_type": "stream",
     "text": [
      "(7, 2, 3)\n"
     ]
    },
    {
     "data": {
      "text/plain": [
       "array([[[ 0. ,  0.1, 10. ],\n",
       "        [ 2. ,  0.1, 20. ]],\n",
       "\n",
       "       [[ 2. ,  0.1, 20. ],\n",
       "        [ 3. , -0.1, 15. ]],\n",
       "\n",
       "       [[ 3. , -0.1, 15. ],\n",
       "        [ 4. ,  0.2, 30. ]],\n",
       "\n",
       "       [[-1. ,  0.1, 22. ],\n",
       "        [-3. ,  0.2, 33. ]],\n",
       "\n",
       "       [[-3. ,  0.2, 33. ],\n",
       "        [-5. ,  0.3, 22. ]],\n",
       "\n",
       "       [[-5. ,  0.3, 22. ],\n",
       "        [-7. ,  0.4, 44. ]],\n",
       "\n",
       "       [[-7. ,  0.4, 44. ],\n",
       "        [-9. ,  0.5, 33. ]]])"
      ]
     },
     "metadata": {},
     "output_type": "display_data"
    },
    {
     "name": "stdout",
     "output_type": "stream",
     "text": [
      "(7,)\n"
     ]
    },
    {
     "data": {
      "text/plain": [
       "array([False, False,  True, False, False,  True,  True])"
      ]
     },
     "metadata": {},
     "output_type": "display_data"
    }
   ],
   "source": [
    "# Try with width 2:\n",
    "segment = Segment(\n",
    "    width=2,  # NOTE. \n",
    "    overlap=1\n",
    ")\n",
    "X_tr, y_tr, sample_weight_new = segment.fit_transform(X_, y_)\n",
    "print(X_tr.shape)\n",
    "display(X_tr)\n",
    "print(y_tr.shape)\n",
    "display(y_tr)"
   ]
  },
  {
   "cell_type": "code",
   "execution_count": 18,
   "id": "612497fb-e5ca-40e1-8a2b-7d7f7cc326d5",
   "metadata": {},
   "outputs": [
    {
     "name": "stdout",
     "output_type": "stream",
     "text": [
      "(2, 3, 3)\n"
     ]
    },
    {
     "data": {
      "text/plain": [
       "array([[[ 0. ,  0.1, 10. ],\n",
       "        [ 2. ,  0.1, 20. ],\n",
       "        [ 3. , -0.1, 15. ]],\n",
       "\n",
       "       [[-1. ,  0.1, 22. ],\n",
       "        [-3. ,  0.2, 33. ],\n",
       "        [-5. ,  0.3, 22. ]]])"
      ]
     },
     "metadata": {},
     "output_type": "display_data"
    },
    {
     "name": "stdout",
     "output_type": "stream",
     "text": [
      "(2,)\n"
     ]
    },
    {
     "data": {
      "text/plain": [
       "array([False, False])"
      ]
     },
     "metadata": {},
     "output_type": "display_data"
    }
   ],
   "source": [
    "# ⚠️ Try with width overlap 0:\n",
    "segment = Segment(\n",
    "    width=3, \n",
    "    overlap=0  # NOTE\n",
    ")\n",
    "X_tr, y_tr, sample_weight_new = segment.fit_transform(X_, y_)\n",
    "print(X_tr.shape)\n",
    "display(X_tr)\n",
    "print(y_tr.shape)\n",
    "display(y_tr)"
   ]
  },
  {
   "cell_type": "code",
   "execution_count": 19,
   "id": "90e895e2-812a-4095-87a7-e0a9f9c042b2",
   "metadata": {},
   "outputs": [
    {
     "name": "stdout",
     "output_type": "stream",
     "text": [
      "(3, 3, 3)\n"
     ]
    },
    {
     "data": {
      "text/plain": [
       "array([[[ 0. ,  0.1, 10. ],\n",
       "        [ 2. ,  0.1, 20. ],\n",
       "        [ 3. , -0.1, 15. ]],\n",
       "\n",
       "       [[-1. ,  0.1, 22. ],\n",
       "        [-3. ,  0.2, 33. ],\n",
       "        [-5. ,  0.3, 22. ]],\n",
       "\n",
       "       [[-5. ,  0.3, 22. ],\n",
       "        [-7. ,  0.4, 44. ],\n",
       "        [-9. ,  0.5, 33. ]]])"
      ]
     },
     "metadata": {},
     "output_type": "display_data"
    },
    {
     "name": "stdout",
     "output_type": "stream",
     "text": [
      "(3,)\n"
     ]
    },
    {
     "data": {
      "text/plain": [
       "array([False, False,  True])"
      ]
     },
     "metadata": {},
     "output_type": "display_data"
    }
   ],
   "source": [
    "# ⚠️ Try with width overlap 0.3:\n",
    "segment = Segment(\n",
    "    width=3, \n",
    "    overlap=0.3  # NOTE\n",
    ")\n",
    "X_tr, y_tr, sample_weight_new = segment.fit_transform(X_, y_)\n",
    "print(X_tr.shape)\n",
    "display(X_tr)\n",
    "print(y_tr.shape)\n",
    "display(y_tr)"
   ]
  },
  {
   "cell_type": "markdown",
   "id": "a2631c64-eed8-4dad-b32f-9b8fb4e956dd",
   "metadata": {},
   "source": [
    "⚠️ You can see that `overlap` parameter changes:\n",
    "\n",
    "> as how many *segments* each *sample* will end up.\n",
    "\n",
    "* `overlap` of `0` will result in just one (first) segment, \n",
    "* `1` will lead to shifting by one step every segment,\n",
    "* Other values will have other step sizes, based on integer derived from segment width and overlap size.\n"
   ]
  },
  {
   "cell_type": "markdown",
   "id": "851365cd-44f2-4d84-abd3-74eca5c0b130",
   "metadata": {},
   "source": [
    "**The parameter `step` controls the step size directly (and takes priority over `overlap` parameter):**"
   ]
  },
  {
   "cell_type": "code",
   "execution_count": 20,
   "id": "e12f3d26-3dfc-4f4f-9be7-d34409da55e1",
   "metadata": {},
   "outputs": [
    {
     "name": "stdout",
     "output_type": "stream",
     "text": [
      "(3, 3, 3)\n"
     ]
    },
    {
     "data": {
      "text/plain": [
       "array([[[ 0. ,  0.1, 10. ],\n",
       "        [ 2. ,  0.1, 20. ],\n",
       "        [ 3. , -0.1, 15. ]],\n",
       "\n",
       "       [[-1. ,  0.1, 22. ],\n",
       "        [-3. ,  0.2, 33. ],\n",
       "        [-5. ,  0.3, 22. ]],\n",
       "\n",
       "       [[-5. ,  0.3, 22. ],\n",
       "        [-7. ,  0.4, 44. ],\n",
       "        [-9. ,  0.5, 33. ]]])"
      ]
     },
     "metadata": {},
     "output_type": "display_data"
    },
    {
     "name": "stdout",
     "output_type": "stream",
     "text": [
      "(3,)\n"
     ]
    },
    {
     "data": {
      "text/plain": [
       "array([False, False,  True])"
      ]
     },
     "metadata": {},
     "output_type": "display_data"
    }
   ],
   "source": [
    "segment = Segment(\n",
    "    width=3, \n",
    "    step=2  # NOTE\n",
    ")\n",
    "X_tr, y_tr, sample_weight_new = segment.fit_transform(X_, y_)\n",
    "print(X_tr.shape)\n",
    "display(X_tr)\n",
    "print(y_tr.shape)\n",
    "display(y_tr)"
   ]
  },
  {
   "cell_type": "markdown",
   "id": "88ff9005-8076-442c-ba1b-6587581ed29b",
   "metadata": {},
   "source": [
    "✍🏻‼️ Not clear to me how the \"contextual\" `X` data is meant to be provided."
   ]
  },
  {
   "cell_type": "markdown",
   "id": "1986bd6b-d693-40d8-be82-2e5b132a3a41",
   "metadata": {},
   "source": [
    "---"
   ]
  },
  {
   "cell_type": "code",
   "execution_count": 21,
   "id": "ab79a0a9-72e0-4608-9f35-13b4d079e71c",
   "metadata": {},
   "outputs": [
    {
     "name": "stdout",
     "output_type": "stream",
     "text": [
      "After segmentation:\n",
      "X:\n",
      " [[[ 0  1  2  3]\n",
      "  [ 4  5  6  7]\n",
      "  [ 8  9 10 11]]]\n",
      "y:  [False]\n"
     ]
    }
   ],
   "source": [
    "print('After segmentation:')\n",
    "print(\"X:\\n\", X)\n",
    "print(\"y: \", y)"
   ]
  },
  {
   "cell_type": "markdown",
   "id": "18619eba-18aa-4e27-9da0-f6343fd3c7e3",
   "metadata": {},
   "source": [
    "### Relevant docs here:\n",
    "1. [`FeatureRep`](https://dmbee.github.io/seglearn/transform.html#seglearn.transform.FeatureRep)\n",
    "2. [`FeatureRepMix`](https://dmbee.github.io/seglearn/transform.html#seglearn.transform.FeatureRepMix)"
   ]
  },
  {
   "cell_type": "code",
   "execution_count": 22,
   "id": "2d1aa436-963d-4a18-b5e4-4c563eae854f",
   "metadata": {},
   "outputs": [],
   "source": [
    "union = FeatureRepMix([\n",
    "    (\n",
    "        'a', \n",
    "        FeatureRep(features={'min': minimum}), # Note the feature functions `minimum` and `maximum` from seglearn.feature_functions\n",
    "        0\n",
    "    ),\n",
    "    (\n",
    "        'b',                                    # Name\n",
    "        FeatureRep(features={'min': minimum}),  # FeatureRep Transformer\n",
    "        1                                       # Which variable of the segment to apply the FeatureRep to\n",
    "    ),\n",
    "    ('c', FeatureRep(features={'min': minimum}), [2, 3]),\n",
    "    ('d', FeatureRep(features={'max': maximum}), slice(0, 2)),\n",
    "    ('e', FeatureRep(features={'max': maximum}), [False, False, True, True]),\n",
    "])"
   ]
  },
  {
   "cell_type": "code",
   "execution_count": 23,
   "id": "e2399859-7668-4a75-b863-864e537559de",
   "metadata": {},
   "outputs": [],
   "source": [
    "X = union.fit_transform(X, y)"
   ]
  },
  {
   "cell_type": "code",
   "execution_count": 24,
   "id": "fbb7ab4b-796c-43e1-b605-eb331794a7a0",
   "metadata": {},
   "outputs": [
    {
     "name": "stdout",
     "output_type": "stream",
     "text": [
      "After column-wise feature extraction:\n"
     ]
    },
    {
     "data": {
      "text/html": [
       "<div>\n",
       "<style scoped>\n",
       "    .dataframe tbody tr th:only-of-type {\n",
       "        vertical-align: middle;\n",
       "    }\n",
       "\n",
       "    .dataframe tbody tr th {\n",
       "        vertical-align: top;\n",
       "    }\n",
       "\n",
       "    .dataframe thead th {\n",
       "        text-align: right;\n",
       "    }\n",
       "</style>\n",
       "<table border=\"1\" class=\"dataframe\">\n",
       "  <thead>\n",
       "    <tr style=\"text-align: right;\">\n",
       "      <th></th>\n",
       "      <th>a_min_0</th>\n",
       "      <th>b_min_1</th>\n",
       "      <th>c_min_2</th>\n",
       "      <th>c_min_3</th>\n",
       "      <th>d_max_0</th>\n",
       "      <th>d_max_1</th>\n",
       "      <th>e_max_2</th>\n",
       "      <th>e_max_3</th>\n",
       "    </tr>\n",
       "  </thead>\n",
       "  <tbody>\n",
       "    <tr>\n",
       "      <th>0</th>\n",
       "      <td>0</td>\n",
       "      <td>1</td>\n",
       "      <td>2</td>\n",
       "      <td>3</td>\n",
       "      <td>8</td>\n",
       "      <td>9</td>\n",
       "      <td>10</td>\n",
       "      <td>11</td>\n",
       "    </tr>\n",
       "  </tbody>\n",
       "</table>\n",
       "</div>"
      ],
      "text/plain": [
       "   a_min_0  b_min_1  c_min_2  c_min_3  d_max_0  d_max_1  e_max_2  e_max_3\n",
       "0        0        1        2        3        8        9       10       11"
      ]
     },
     "metadata": {},
     "output_type": "display_data"
    }
   ],
   "source": [
    "print('After column-wise feature extraction:')\n",
    "df = pd.DataFrame(data=X, columns=union.f_labels)\n",
    "display(df)"
   ]
  },
  {
   "cell_type": "markdown",
   "id": "d99965b9-bc11-47df-bc06-03350c5f2579",
   "metadata": {},
   "source": [
    "* Remember that in this example's case we only had **one** segment.\n",
    "* ⚠️ Note also that the `y` is just completely ignored!!!"
   ]
  },
  {
   "cell_type": "markdown",
   "id": "cc0bee0f-59c1-4a33-8e26-f7902f6fbf6d",
   "metadata": {},
   "source": [
    "---\n",
    "\n",
    "### Play around with `FeatureRep` and `FeatureRepMix`"
   ]
  },
  {
   "cell_type": "code",
   "execution_count": 25,
   "id": "07a2dc78-67ec-4af0-9ca6-ae2852606c99",
   "metadata": {},
   "outputs": [
    {
     "data": {
      "text/plain": [
       "[array([[ 0. ,  0.1, 10. ],\n",
       "        [ 2. ,  0.1, 20. ],\n",
       "        [ 3. , -0.1, 15. ],\n",
       "        [ 4. ,  0.2, 30. ]]),\n",
       " array([[-1. ,  0.1, 22. ],\n",
       "        [-3. ,  0.2, 33. ],\n",
       "        [-5. ,  0.3, 22. ],\n",
       "        [-7. ,  0.4, 44. ],\n",
       "        [-9. ,  0.5, 33. ]])]"
      ]
     },
     "execution_count": 25,
     "metadata": {},
     "output_type": "execute_result"
    }
   ],
   "source": [
    "X_"
   ]
  },
  {
   "cell_type": "code",
   "execution_count": 26,
   "id": "01628b3f-3126-45fd-886e-de4f640e40b6",
   "metadata": {},
   "outputs": [
    {
     "data": {
      "text/plain": [
       "[array([ True, False, False,  True]),\n",
       " array([ True, False, False,  True,  True])]"
      ]
     },
     "execution_count": 26,
     "metadata": {},
     "output_type": "execute_result"
    }
   ],
   "source": [
    "y_"
   ]
  },
  {
   "cell_type": "code",
   "execution_count": 27,
   "id": "e1cd7184-6565-45dd-81d1-42ad0b24b8d6",
   "metadata": {},
   "outputs": [
    {
     "name": "stdout",
     "output_type": "stream",
     "text": [
      "(5, 3, 3)\n"
     ]
    },
    {
     "name": "stderr",
     "output_type": "stream",
     "text": [
      "/mnt/space/miniconda3/envs/py38_playaround-sk/lib/python3.8/site-packages/seglearn/transform.py:237: VisibleDeprecationWarning: Creating an ndarray from ragged nested sequences (which is a list-or-tuple of lists-or-tuples-or ndarrays with different lengths or shapes) is deprecated. If you meant to do this, you must specify 'dtype=object' when creating the ndarray.\n",
      "  Xt = np.array([sliding_tensor(Xt[i], self.width, self._step, self.order)\n",
      "/mnt/space/miniconda3/envs/py38_playaround-sk/lib/python3.8/site-packages/seglearn/transform.py:254: VisibleDeprecationWarning: Creating an ndarray from ragged nested sequences (which is a list-or-tuple of lists-or-tuples-or ndarrays with different lengths or shapes) is deprecated. If you meant to do this, you must specify 'dtype=object' when creating the ndarray.\n",
      "  yt = np.array([sliding_window(y[i], self.width, self._step, self.order)\n"
     ]
    },
    {
     "data": {
      "text/plain": [
       "array([[[ 0. ,  0.1, 10. ],\n",
       "        [ 2. ,  0.1, 20. ],\n",
       "        [ 3. , -0.1, 15. ]],\n",
       "\n",
       "       [[ 2. ,  0.1, 20. ],\n",
       "        [ 3. , -0.1, 15. ],\n",
       "        [ 4. ,  0.2, 30. ]],\n",
       "\n",
       "       [[-1. ,  0.1, 22. ],\n",
       "        [-3. ,  0.2, 33. ],\n",
       "        [-5. ,  0.3, 22. ]],\n",
       "\n",
       "       [[-3. ,  0.2, 33. ],\n",
       "        [-5. ,  0.3, 22. ],\n",
       "        [-7. ,  0.4, 44. ]],\n",
       "\n",
       "       [[-5. ,  0.3, 22. ],\n",
       "        [-7. ,  0.4, 44. ],\n",
       "        [-9. ,  0.5, 33. ]]])"
      ]
     },
     "metadata": {},
     "output_type": "display_data"
    },
    {
     "name": "stdout",
     "output_type": "stream",
     "text": [
      "(5,)\n"
     ]
    },
    {
     "data": {
      "text/plain": [
       "array([False,  True, False,  True,  True])"
      ]
     },
     "metadata": {},
     "output_type": "display_data"
    }
   ],
   "source": [
    "segment = Segment(\n",
    "    width=3, \n",
    "    step=1  # NOTE\n",
    ")\n",
    "X_seg, y_seg, sample_weight_new = segment.fit_transform(X_, y_)\n",
    "print(X_seg.shape)\n",
    "display(X_seg)\n",
    "print(y_seg.shape)\n",
    "display(y_seg)"
   ]
  },
  {
   "cell_type": "code",
   "execution_count": 28,
   "id": "00d050f7-f759-4453-8cf2-3f071e14987a",
   "metadata": {},
   "outputs": [],
   "source": [
    "from seglearn.feature_functions import mean, var, std, skew\n",
    "fts = {'min': minimum, 'std': std}"
   ]
  },
  {
   "cell_type": "code",
   "execution_count": 29,
   "id": "411e2b45-3950-4c90-8332-b7c1da9face9",
   "metadata": {},
   "outputs": [],
   "source": [
    "fr = FeatureRep(features=fts)"
   ]
  },
  {
   "cell_type": "code",
   "execution_count": 30,
   "id": "6f77866b-6775-40bb-8e0d-b1a0359590ec",
   "metadata": {},
   "outputs": [],
   "source": [
    "X_seg_fr = fr.fit_transform(X_seg, y_seg)"
   ]
  },
  {
   "cell_type": "code",
   "execution_count": 31,
   "id": "933797be-b82a-4f38-9594-aefa38d20225",
   "metadata": {},
   "outputs": [
    {
     "name": "stdout",
     "output_type": "stream",
     "text": [
      "(5, 6)\n"
     ]
    },
    {
     "data": {
      "text/html": [
       "<div>\n",
       "<style scoped>\n",
       "    .dataframe tbody tr th:only-of-type {\n",
       "        vertical-align: middle;\n",
       "    }\n",
       "\n",
       "    .dataframe tbody tr th {\n",
       "        vertical-align: top;\n",
       "    }\n",
       "\n",
       "    .dataframe thead th {\n",
       "        text-align: right;\n",
       "    }\n",
       "</style>\n",
       "<table border=\"1\" class=\"dataframe\">\n",
       "  <thead>\n",
       "    <tr style=\"text-align: right;\">\n",
       "      <th></th>\n",
       "      <th>min_0</th>\n",
       "      <th>min_1</th>\n",
       "      <th>min_2</th>\n",
       "      <th>std_0</th>\n",
       "      <th>std_1</th>\n",
       "      <th>std_2</th>\n",
       "    </tr>\n",
       "  </thead>\n",
       "  <tbody>\n",
       "    <tr>\n",
       "      <th>0</th>\n",
       "      <td>0.0</td>\n",
       "      <td>-0.1</td>\n",
       "      <td>10.0</td>\n",
       "      <td>1.247219</td>\n",
       "      <td>0.094281</td>\n",
       "      <td>4.082483</td>\n",
       "    </tr>\n",
       "    <tr>\n",
       "      <th>1</th>\n",
       "      <td>2.0</td>\n",
       "      <td>-0.1</td>\n",
       "      <td>15.0</td>\n",
       "      <td>0.816497</td>\n",
       "      <td>0.124722</td>\n",
       "      <td>6.236096</td>\n",
       "    </tr>\n",
       "    <tr>\n",
       "      <th>2</th>\n",
       "      <td>-5.0</td>\n",
       "      <td>0.1</td>\n",
       "      <td>22.0</td>\n",
       "      <td>1.632993</td>\n",
       "      <td>0.081650</td>\n",
       "      <td>5.185450</td>\n",
       "    </tr>\n",
       "    <tr>\n",
       "      <th>3</th>\n",
       "      <td>-7.0</td>\n",
       "      <td>0.2</td>\n",
       "      <td>22.0</td>\n",
       "      <td>1.632993</td>\n",
       "      <td>0.081650</td>\n",
       "      <td>8.981462</td>\n",
       "    </tr>\n",
       "    <tr>\n",
       "      <th>4</th>\n",
       "      <td>-9.0</td>\n",
       "      <td>0.3</td>\n",
       "      <td>22.0</td>\n",
       "      <td>1.632993</td>\n",
       "      <td>0.081650</td>\n",
       "      <td>8.981462</td>\n",
       "    </tr>\n",
       "  </tbody>\n",
       "</table>\n",
       "</div>"
      ],
      "text/plain": [
       "   min_0  min_1  min_2     std_0     std_1     std_2\n",
       "0    0.0   -0.1   10.0  1.247219  0.094281  4.082483\n",
       "1    2.0   -0.1   15.0  0.816497  0.124722  6.236096\n",
       "2   -5.0    0.1   22.0  1.632993  0.081650  5.185450\n",
       "3   -7.0    0.2   22.0  1.632993  0.081650  8.981462\n",
       "4   -9.0    0.3   22.0  1.632993  0.081650  8.981462"
      ]
     },
     "metadata": {},
     "output_type": "display_data"
    }
   ],
   "source": [
    "print(X_seg_fr.shape)\n",
    "\n",
    "# Put into data fram for nice printing.\n",
    "display(\n",
    "    pd.DataFrame(\n",
    "        X_seg_fr, \n",
    "        columns=fr.f_labels  # <-- NOTE: Very useful attribute!\n",
    "    )\n",
    ")"
   ]
  },
  {
   "cell_type": "markdown",
   "id": "1421f039-482e-40d9-a0d1-75de7c284e47",
   "metadata": {},
   "source": [
    "✍🏻 So we see, for `FeatureRep`: \n",
    "* the output is `(n_segments x (n_vars * size_of_fts_dict))` (here, 5 x (3 * 2))\n",
    "* ⚠️ the *time series* dimension of the segment is **collapsed**!\n",
    "* The features in the final array go as `fr_0__var_0, fr_0__var_1, ... , fr_1__var_0, fr_1__var_1, ...`"
   ]
  },
  {
   "cell_type": "markdown",
   "id": "bda41aa4-2718-4afc-bb0c-b526635c62b7",
   "metadata": {},
   "source": [
    "`FeatureRepMix` behaves as a union transformer on top of this."
   ]
  },
  {
   "cell_type": "markdown",
   "id": "b91132fd-038e-4d62-9b02-7af33eaf3ff9",
   "metadata": {},
   "source": [
    "---"
   ]
  }
 ],
 "metadata": {
  "kernelspec": {
   "display_name": "Python 3",
   "language": "python",
   "name": "python3"
  },
  "language_info": {
   "codemirror_mode": {
    "name": "ipython",
    "version": 3
   },
   "file_extension": ".py",
   "mimetype": "text/x-python",
   "name": "python",
   "nbconvert_exporter": "python",
   "pygments_lexer": "ipython3",
   "version": "3.8.10"
  }
 },
 "nbformat": 4,
 "nbformat_minor": 5
}
