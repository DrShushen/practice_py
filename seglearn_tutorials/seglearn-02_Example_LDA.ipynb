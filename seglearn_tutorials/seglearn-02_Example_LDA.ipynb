{
 "cells": [
  {
   "cell_type": "markdown",
   "id": "7bd50143-741a-4f8f-82aa-e6fe9c1d55a2",
   "metadata": {},
   "source": [
    "# Linear Discriminant Analysis\n",
    "\n",
    "From: https://dmbee.github.io/seglearn/auto_examples/plot_lda.html"
   ]
  },
  {
   "cell_type": "markdown",
   "id": "c60dc820-de80-47a7-86d9-04a8df03ed33",
   "metadata": {},
   "source": [
    "## Overview\n",
    "\n",
    "This example demonstrates how the pipeline can be used to perform transformation of time series data, such as linear discriminant analysis for visualization purposes."
   ]
  },
  {
   "cell_type": "code",
   "execution_count": 2,
   "id": "418a3d75-5d5b-421d-ba01-22796b5bfc97",
   "metadata": {},
   "outputs": [],
   "source": [
    "import matplotlib.pyplot as plt\n",
    "import numpy as np\n",
    "from sklearn.discriminant_analysis import LinearDiscriminantAnalysis  # LDA is the one from sklearn. \n",
    "# So, we're using seglearn here to get a fixed vectore repr.\n",
    "\n",
    "import seglearn as sgl"
   ]
  },
  {
   "cell_type": "code",
   "execution_count": 3,
   "id": "6e7dd1a5-ed1d-4da1-9c27-5c0b2cf4c0e7",
   "metadata": {},
   "outputs": [],
   "source": [
    "# Plotting helper\n",
    "def plot_embedding(emb, y, y_labels):\n",
    "    # plot a 2D feature map embedding\n",
    "    x_min, x_max = np.min(emb, 0), np.max(emb, 0)\n",
    "    emb = (emb - x_min) / (x_max - x_min)  # NOTE: min max normalised here!\n",
    "\n",
    "    NC = len(y_labels)\n",
    "    markers = ['.', '+', 'x', '|', '_', '*', 'o']\n",
    "\n",
    "    fig = plt.figure()\n",
    "    fig.set_size_inches(6, 6)\n",
    "\n",
    "    for c in range(NC):\n",
    "        i = y == c\n",
    "        plt.scatter(emb[i, 0], emb[i, 1], marker=markers[c], label=y_labels[c])\n",
    "\n",
    "    plt.xticks([]), plt.yticks([])\n",
    "    plt.legend()\n",
    "    plt.tight_layout()"
   ]
  },
  {
   "cell_type": "code",
   "execution_count": 8,
   "id": "ebd221f6-5d98-48ea-829f-b27df5f750e0",
   "metadata": {},
   "outputs": [],
   "source": [
    "# load the data\n",
    "# ℹ️ Seglearn's provided watch dataset.\n",
    "data = sgl.load_watch()\n",
    "X = data['X']\n",
    "y = data['y']"
   ]
  },
  {
   "cell_type": "code",
   "execution_count": 9,
   "id": "5d4e30d1-e52d-43f7-9a5e-efc919a35639",
   "metadata": {},
   "outputs": [
    {
     "name": "stdout",
     "output_type": "stream",
     "text": [
      "len(X): 140\n",
      "X[0].shape: (1333, 6)\n"
     ]
    }
   ],
   "source": [
    "print(\"len(X):\", len(X))\n",
    "print(\"X[0].shape:\", X[0].shape)"
   ]
  },
  {
   "cell_type": "code",
   "execution_count": 16,
   "id": "096b1ea9-d669-46e9-804c-0c23c77529a3",
   "metadata": {},
   "outputs": [
    {
     "name": "stdout",
     "output_type": "stream",
     "text": [
      "len(y): 140\n",
      "y[0].shape: ()\n",
      "y unique: [0 1 2 3 4 5 6]\n"
     ]
    }
   ],
   "source": [
    "print(\"len(y):\", len(y))\n",
    "print(\"y[0].shape:\", y[0].shape)\n",
    "print(\"y unique:\", np.unique(y))\n",
    "# Note 7 possible labels in this dataset."
   ]
  },
  {
   "cell_type": "code",
   "execution_count": 11,
   "id": "01c1d891-2d40-45ba-ac07-eb3dbb157ac4",
   "metadata": {},
   "outputs": [
    {
     "name": "stderr",
     "output_type": "stream",
     "text": [
      "/mnt/space/miniconda3/envs/py38_playaround-sk/lib/python3.8/site-packages/sklearn/utils/validation.py:70: FutureWarning: Pass memory=None as keyword args. From version 1.0 (renaming of 0.25) passing these as positional arguments will result in an error\n",
      "  warnings.warn(f\"Pass {args_msg} as keyword args. From version \"\n"
     ]
    }
   ],
   "source": [
    "# create a pipeline for LDA transformation of the feature representation\n",
    "# ℹ️ Using Seglearn's own pipeline class- Pype.\n",
    "\n",
    "clf = sgl.Pype(\n",
    "    [\n",
    "        ('segment', sgl.Segment()),  # Will use default width=100, overlap=0.5\n",
    "        ('ftr', sgl.FeatureRep()),   # Will use the default featires dictionary.\n",
    "        ('lda', LinearDiscriminantAnalysis(n_components=2))\n",
    "    ]\n",
    ")"
   ]
  },
  {
   "cell_type": "markdown",
   "id": "124902b2-3f3a-4eb8-9847-37451863f3d4",
   "metadata": {},
   "source": [
    "The default features dict. for `FeatureRep` is:\n",
    "```python\n",
    "features = {'mean': mean,\n",
    "            'median': median,\n",
    "            'abs_energy': abs_energy,\n",
    "            'std': std,\n",
    "            'var': var,\n",
    "            'min': minimum,\n",
    "            'max': maximum,\n",
    "            'skew': skew,\n",
    "            'kurt': kurt,\n",
    "            'mse': mse,\n",
    "            'mnx': mean_crossings}\n",
    "```\n",
    "\n",
    "Sources: \n",
    "1. https://dmbee.github.io/seglearn/transform.html#seglearn.transform.FeatureRep\n",
    "2. https://github.com/dmbee/seglearn/blob/746d6c4eb89a338e6366c5be59fb25d1af63477f/seglearn/feature_functions.py#L37"
   ]
  },
  {
   "cell_type": "markdown",
   "id": "19a675ef-557d-4136-bbc2-07c352751f75",
   "metadata": {},
   "source": [
    "<br/>\n",
    "\n",
    "**✍🏻🤔 Note:**\n",
    "\n",
    "Seems like despite the fact that `FeatureRep` doesn't explicitly return `y`, the `Pype` pipeline doesn't lose `y` and passes it along..."
   ]
  },
  {
   "cell_type": "code",
   "execution_count": 12,
   "id": "debf1147-b037-4516-89df-78a8e7fc5af1",
   "metadata": {},
   "outputs": [
    {
     "name": "stderr",
     "output_type": "stream",
     "text": [
      "/mnt/space/miniconda3/envs/py38_playaround-sk/lib/python3.8/site-packages/seglearn/transform.py:237: VisibleDeprecationWarning: Creating an ndarray from ragged nested sequences (which is a list-or-tuple of lists-or-tuples-or ndarrays with different lengths or shapes) is deprecated. If you meant to do this, you must specify 'dtype=object' when creating the ndarray.\n",
      "  Xt = np.array([sliding_tensor(Xt[i], self.width, self._step, self.order)\n"
     ]
    }
   ],
   "source": [
    "X2, y2 = clf.fit_transform(X, y)"
   ]
  },
  {
   "cell_type": "code",
   "execution_count": 13,
   "id": "f67343eb-de83-4e13-b5ed-b41666afc664",
   "metadata": {},
   "outputs": [
    {
     "name": "stdout",
     "output_type": "stream",
     "text": [
      "X2.shape: (4677, 2)\n",
      "y2.shape: (4677,)\n"
     ]
    }
   ],
   "source": [
    "print(\"X2.shape:\", X2.shape)\n",
    "print(\"y2.shape:\", y2.shape)"
   ]
  },
  {
   "cell_type": "code",
   "execution_count": 14,
   "id": "15aeb7d0-876f-41b9-9904-cf9e72266bf3",
   "metadata": {},
   "outputs": [
    {
     "data": {
      "image/png": "[encoded data removed]",
      "text/plain": [
       "<Figure size 432x432 with 1 Axes>"
      ]
     },
     "metadata": {},
     "output_type": "display_data"
    }
   ],
   "source": [
    "plot_embedding(X2, y2.astype(int), data['y_labels'])\n",
    "plt.show()"
   ]
  }
 ],
 "metadata": {
  "kernelspec": {
   "display_name": "Python 3",
   "language": "python",
   "name": "python3"
  },
  "language_info": {
   "codemirror_mode": {
    "name": "ipython",
    "version": 3
   },
   "file_extension": ".py",
   "mimetype": "text/x-python",
   "name": "python",
   "nbconvert_exporter": "python",
   "pygments_lexer": "ipython3",
   "version": "3.8.10"
  }
 },
 "nbformat": 4,
 "nbformat_minor": 5
}
