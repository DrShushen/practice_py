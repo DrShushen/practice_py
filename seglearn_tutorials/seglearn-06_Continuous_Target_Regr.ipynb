{
 "cells": [
  {
   "cell_type": "markdown",
   "id": "a9aff7b7-9c99-4691-a713-906743818703",
   "metadata": {},
   "source": [
    "# Continuous Target and Time Series Regression\n",
    "\n",
    "From here: https://dmbee.github.io/seglearn/auto_examples/plot_regression.html"
   ]
  },
  {
   "cell_type": "markdown",
   "id": "caaa1371-058d-4d21-adb3-b055183a7128",
   "metadata": {},
   "source": [
    "## Overview\n",
    "\n",
    "In this example, we use the pipeline to learn a continuous time series target with a regressor."
   ]
  },
  {
   "cell_type": "code",
   "execution_count": 1,
   "id": "e37996f5-87b6-48bf-8ede-e2e0fe4e96e1",
   "metadata": {},
   "outputs": [],
   "source": [
    "import matplotlib.pyplot as plt\n",
    "import numpy as np\n",
    "import pandas as pd\n",
    "from sklearn.linear_model import LinearRegression\n",
    "from sklearn.model_selection import cross_validate"
   ]
  },
  {
   "cell_type": "code",
   "execution_count": 2,
   "id": "a1660e3b-6c9a-4f4c-8ca2-c61bed033f60",
   "metadata": {},
   "outputs": [],
   "source": [
    "from seglearn.pipe import Pype\n",
    "from seglearn.split import (\n",
    "    # Not these two:\n",
    "    temporal_split, \n",
    "    TemporalKFold\n",
    ")\n",
    "from seglearn.transform import (\n",
    "    FeatureRep, \n",
    "    Segment, \n",
    "    last  # This is new.\n",
    ")"
   ]
  },
  {
   "cell_type": "code",
   "execution_count": 3,
   "id": "0fdc6b85-dcc6-4474-978a-074592c04e00",
   "metadata": {},
   "outputs": [],
   "source": [
    "# for a single time series, we need to make it a list\n",
    "X = [np.arange(10000) / 100.]\n",
    "y = [np.sin(X[0]) * X[0] * 3 + X[0] * X[0]]"
   ]
  },
  {
   "cell_type": "code",
   "execution_count": 10,
   "id": "a96720d7-0282-488b-b523-f7257f120056",
   "metadata": {},
   "outputs": [
    {
     "name": "stdout",
     "output_type": "stream",
     "text": [
      "1\n",
      "(10000,)\n"
     ]
    }
   ],
   "source": [
    "print(len(X))\n",
    "print(X[0].shape)"
   ]
  },
  {
   "cell_type": "code",
   "execution_count": 8,
   "id": "410ff3f4-bb5f-4eea-88bc-9c4417eb7a17",
   "metadata": {},
   "outputs": [
    {
     "name": "stdout",
     "output_type": "stream",
     "text": [
      "1\n",
      "(10000,)\n"
     ]
    }
   ],
   "source": [
    "print(len(y))\n",
    "print(y[0].shape)"
   ]
  },
  {
   "cell_type": "code",
   "execution_count": 9,
   "id": "bd946c58-648e-46a8-924b-b358f1dfb3cf",
   "metadata": {},
   "outputs": [],
   "source": [
    "# split the data along the time axis (our only option since we have only 1 time series)\n",
    "X_train, X_test, y_train, y_test = temporal_split(X, y)"
   ]
  },
  {
   "cell_type": "code",
   "execution_count": 12,
   "id": "ac0e893a-7f10-4f1e-bf8e-68c70d554c9f",
   "metadata": {},
   "outputs": [
    {
     "name": "stdout",
     "output_type": "stream",
     "text": [
      "1\n",
      "(7500,)\n"
     ]
    }
   ],
   "source": [
    "print(len(X_train))\n",
    "print(X_train[0].shape)"
   ]
  },
  {
   "cell_type": "code",
   "execution_count": 13,
   "id": "8a6e68b4-d427-4d20-9ec0-a5b322a6f316",
   "metadata": {},
   "outputs": [
    {
     "name": "stdout",
     "output_type": "stream",
     "text": [
      "1\n",
      "(2500,)\n"
     ]
    }
   ],
   "source": [
    "print(len(y_test))\n",
    "print(y_test[0].shape)"
   ]
  },
  {
   "cell_type": "code",
   "execution_count": 14,
   "id": "5bc717c3-f378-44ab-9972-d3e47aae9a30",
   "metadata": {},
   "outputs": [
    {
     "name": "stderr",
     "output_type": "stream",
     "text": [
      "/mnt/space/miniconda3/envs/py38_playaround-sk/lib/python3.8/site-packages/sklearn/utils/validation.py:70: FutureWarning: Pass memory=None as keyword args. From version 1.0 (renaming of 0.25) passing these as positional arguments will result in an error\n",
      "  warnings.warn(f\"Pass {args_msg} as keyword args. From version \"\n"
     ]
    }
   ],
   "source": [
    "# ⚠️ setting y_func = last, selects the last value from each y segment as the target\n",
    "# other options include transform.middle, or you can make your own function\n",
    "# see the API documentation for further details\n",
    "pipe = Pype(\n",
    "    [\n",
    "        ('seg', Segment(width=200, overlap=0.5, y_func=last)),\n",
    "        ('features', FeatureRep()),\n",
    "        ('lin', LinearRegression())\n",
    "    ]\n",
    ")"
   ]
  },
  {
   "cell_type": "code",
   "execution_count": 15,
   "id": "d1a18a0c-598e-4e9c-9cda-458064f70f7e",
   "metadata": {},
   "outputs": [
    {
     "data": {
      "text/plain": [
       "Pype(steps=[('seg', Segment(width=200)),\n",
       "            ('features',\n",
       "             FeatureRep(features={'abs_energy': <function abs_energy at 0x7f78f7fe7e50>,\n",
       "                                  'kurt': <function kurt at 0x7f78f7ff2310>,\n",
       "                                  'max': <function maximum at 0x7f78f7ff21f0>,\n",
       "                                  'mean': <function mean at 0x7f78f7fe7af0>,\n",
       "                                  'median': <function median at 0x7f78f7fe7b80>,\n",
       "                                  'min': <function minimum at 0x7f78f7ff2160>,\n",
       "                                  'mnx': <function mean_crossings at 0x7f78f7ff2550>,\n",
       "                                  'mse': <function mse at 0x7f78f7ff24c0>,\n",
       "                                  'skew': <function skew at 0x7f78f7ff2280>,\n",
       "                                  'std': <function std at 0x7f78f7fe7ee0>,\n",
       "                                  'var': <function var at 0x7f78f7fe7f70>})),\n",
       "            ('lin', LinearRegression())])"
      ]
     },
     "execution_count": 15,
     "metadata": {},
     "output_type": "execute_result"
    }
   ],
   "source": [
    "# fit and score\n",
    "pipe.fit(X_train, y_train)"
   ]
  },
  {
   "cell_type": "code",
   "execution_count": 17,
   "id": "e063a131-a226-477a-82d6-4a8179cf955b",
   "metadata": {},
   "outputs": [
    {
     "data": {
      "text/plain": [
       "0.9738870490410149"
      ]
     },
     "execution_count": 17,
     "metadata": {},
     "output_type": "execute_result"
    }
   ],
   "source": [
    "score = pipe.score(X_test, y_test)\n",
    "score"
   ]
  },
  {
   "cell_type": "code",
   "execution_count": 18,
   "id": "ee0714a8-b845-4588-92c6-2d5b9dc2c85c",
   "metadata": {},
   "outputs": [
    {
     "name": "stdout",
     "output_type": "stream",
     "text": [
      "N series in train:  1\n",
      "N series in test:  1\n",
      "N segments in train:  74\n",
      "N segments in test:  24\n",
      "Score:  0.9738870490410149\n"
     ]
    }
   ],
   "source": [
    "print(\"N series in train: \", len(X_train))\n",
    "print(\"N series in test: \", len(X_test))\n",
    "print(\"N segments in train: \", pipe.N_train)\n",
    "print(\"N segments in test: \", pipe.N_test)\n",
    "print(\"Score: \", score)"
   ]
  },
  {
   "cell_type": "code",
   "execution_count": 19,
   "id": "6c9be1b3-3619-4630-acca-fd3205863beb",
   "metadata": {},
   "outputs": [],
   "source": [
    "# generate some predictions\n",
    "# ⚠️ Looks like seglearn implements a custom transform_predict function on their Pype. \n",
    "ytr, ytr_p = pipe.transform_predict(X_train, y_train)  # training predictions\n",
    "yte, yte_p = pipe.transform_predict(X_test, y_test)  # test predictions\n",
    "xtr = np.arange(len(ytr))  # segment number\n",
    "xte = np.arange(len(yte)) + len(xtr)"
   ]
  },
  {
   "cell_type": "code",
   "execution_count": 21,
   "id": "864ddf1c-6611-4d39-9449-212223d3581b",
   "metadata": {},
   "outputs": [
    {
     "data": {
      "image/png": "[encoded data removed]",
      "text/plain": [
       "<Figure size 720x432 with 1 Axes>"
      ]
     },
     "metadata": {
      "needs_background": "light"
     },
     "output_type": "display_data"
    }
   ],
   "source": [
    "# plot the amazing results\n",
    "plt.figure(figsize=(10,6))\n",
    "plt.plot(xtr, ytr, '.', label=\"training\")\n",
    "plt.plot(xte, yte, '.', label=\"actual\")\n",
    "plt.plot(xte, yte_p, label=\"predicted\")\n",
    "plt.xlabel(\"Segment Number\")\n",
    "plt.ylabel(\"Target\")\n",
    "plt.legend()\n",
    "plt.show()"
   ]
  },
  {
   "cell_type": "code",
   "execution_count": 30,
   "id": "e216125e-6525-44e0-87a7-f8a9b4ed96c4",
   "metadata": {},
   "outputs": [],
   "source": [
    "# now try a cross validation\n",
    "X = [np.arange(4000) / 100.]\n",
    "y = [np.sin(X[0])]"
   ]
  },
  {
   "cell_type": "code",
   "execution_count": 31,
   "id": "67eeaa26-0a56-4b4d-acba-653fd800791f",
   "metadata": {},
   "outputs": [
    {
     "name": "stdout",
     "output_type": "stream",
     "text": [
      "(4000,)\n",
      "(4000,)\n"
     ]
    }
   ],
   "source": [
    "print(X[0].shape)\n",
    "print(y[0].shape)"
   ]
  },
  {
   "cell_type": "code",
   "execution_count": 32,
   "id": "e05496dc-417b-468f-a542-eb6f1c3d70bf",
   "metadata": {},
   "outputs": [],
   "source": [
    "tkf = TemporalKFold(n_splits=3)\n",
    "X, y, cv = tkf.split(X, y)"
   ]
  },
  {
   "cell_type": "code",
   "execution_count": 33,
   "id": "7e6f9d4d-5184-44c3-8c91-9f188cdaaac1",
   "metadata": {},
   "outputs": [
    {
     "name": "stdout",
     "output_type": "stream",
     "text": [
      "(1333,)\n",
      "(1333,)\n"
     ]
    }
   ],
   "source": [
    "print(X[0].shape)\n",
    "print(y[0].shape)"
   ]
  },
  {
   "cell_type": "code",
   "execution_count": 45,
   "id": "c2871226-44ef-4905-84eb-308bd23a4275",
   "metadata": {},
   "outputs": [
    {
     "name": "stdout",
     "output_type": "stream",
     "text": [
      "\n",
      "cv:\n",
      "<class 'list'>\n",
      "3\n",
      "\n",
      "cv[0]:\n",
      "<class 'tuple'>\n",
      "2\n",
      "\n",
      "cv[0][0]:\n",
      "<class 'numpy.ndarray'>\n",
      "(2,)\n",
      "[1 2]\n",
      "\n",
      "[(array([1, 2]), array([0])), (array([0, 2]), array([1])), (array([0, 1]), array([2]))]\n"
     ]
    }
   ],
   "source": [
    "print(\"\\ncv:\")\n",
    "print(type(cv))\n",
    "print(len(cv))\n",
    "print(\"\\ncv[0]:\")\n",
    "print(type(cv[0]))\n",
    "print(len(cv[0]))\n",
    "print(\"\\ncv[0][0]:\")\n",
    "print(type(cv[0][0]))\n",
    "print(cv[0][0].shape)\n",
    "print(cv[0][0])\n",
    "\n",
    "print()\n",
    "print(cv)"
   ]
  },
  {
   "cell_type": "code",
   "execution_count": 47,
   "id": "b2781785-27c6-45d6-a1e3-bf272159f17a",
   "metadata": {},
   "outputs": [
    {
     "name": "stdout",
     "output_type": "stream",
     "text": [
      "CV Scores:\n",
      "    fit_time  score_time  test_score  train_score\n",
      "0  0.003984    0.001412   -0.179475     0.057730\n",
      "1  0.003183    0.001263   -0.149984     0.126310\n",
      "2  0.003026    0.001205   -0.239356     0.097838\n"
     ]
    },
    {
     "name": "stderr",
     "output_type": "stream",
     "text": [
      "/mnt/space/miniconda3/envs/py38_playaround-sk/lib/python3.8/site-packages/sklearn/utils/validation.py:70: FutureWarning: Pass memory=None as keyword args. From version 1.0 (renaming of 0.25) passing these as positional arguments will result in an error\n",
      "  warnings.warn(f\"Pass {args_msg} as keyword args. From version \"\n",
      "/mnt/space/miniconda3/envs/py38_playaround-sk/lib/python3.8/site-packages/sklearn/utils/validation.py:70: FutureWarning: Pass memory=None as keyword args. From version 1.0 (renaming of 0.25) passing these as positional arguments will result in an error\n",
      "  warnings.warn(f\"Pass {args_msg} as keyword args. From version \"\n",
      "/mnt/space/miniconda3/envs/py38_playaround-sk/lib/python3.8/site-packages/sklearn/utils/validation.py:70: FutureWarning: Pass memory=None as keyword args. From version 1.0 (renaming of 0.25) passing these as positional arguments will result in an error\n",
      "  warnings.warn(f\"Pass {args_msg} as keyword args. From version \"\n"
     ]
    }
   ],
   "source": [
    "cv_scores = cross_validate(pipe, X, y, cv=cv, return_train_score=True)\n",
    "print(\"CV Scores:\\n\", pd.DataFrame(cv_scores))"
   ]
  }
 ],
 "metadata": {
  "kernelspec": {
   "display_name": "Python 3",
   "language": "python",
   "name": "python3"
  },
  "language_info": {
   "codemirror_mode": {
    "name": "ipython",
    "version": 3
   },
   "file_extension": ".py",
   "mimetype": "text/x-python",
   "name": "python",
   "nbconvert_exporter": "python",
   "pygments_lexer": "ipython3",
   "version": "3.8.10"
  }
 },
 "nbformat": 4,
 "nbformat_minor": 5
}
