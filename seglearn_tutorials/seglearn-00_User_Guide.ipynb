{
 "cells": [
  {
   "cell_type": "markdown",
   "id": "ab011f82-b796-494f-9bb1-0de0d5583792",
   "metadata": {},
   "source": [
    "# Seglearn User Guide\n",
    "\n",
    "From here: https://dmbee.github.io/seglearn/user_guide.html"
   ]
  },
  {
   "cell_type": "markdown",
   "id": "e3cb79ce-df9c-46bf-8775-33625bcd99bf",
   "metadata": {},
   "source": [
    "## What this Package Includes\n",
    "\n",
    "The main contributions of this package are:\n",
    "\n",
    "* `SegmentX` - transformer class for performing the time series / sequence sliding window segmentation when the target is **contextual**.\n",
    "    * ✍🏻 I think, here, \"contectual\" means \"static\".\n",
    "* `SegmentXY` - transformer class for performing the time series / sequence sliding window segmentation when the target is a **time series or sequence**.\n",
    "* `SegmentXYForecast` - transformer class for performing the time series / sequence sliding window segmentation when the target is future values of a time series or sequence.\n",
    "* `PadTrunc` - transformer class for fixing time series / sequence length using a combination of *padding and truncation*.\n",
    "* `Interp` - transformer class for *resampling* time series data.\n",
    "* `InterpLongToWide` - transformer class for interpolating **long format** time series to **wide format** used by `seglearn`.\n",
    "* `FeatureRep` - transformer class for computing a **feature representation** from segment data.\n",
    "* `FeatureRepMix` - transformer class for computing **feature representations** where a different FeatureRep can be applied to *each time series variable*.\n",
    "* `Pype` - sklearn compatible **pipeline class** that can *handle transforms that change X, y, and number of samples*.\n",
    "* `TS_Data` - an indexable / iterable class for **storing time series & contextual data**.\n",
    "* `split` - a module for splitting time series or sequences along the temporal axis."
   ]
  },
  {
   "cell_type": "markdown",
   "id": "9c2d0fc4-e842-498f-aa8a-25425bf9791b",
   "metadata": {},
   "source": [
    "## What this Package Doesn’t Include\n",
    "\n",
    "For now, this package does not include tools to help label time series data - which is a separate challenge.\n"
   ]
  },
  {
   "cell_type": "markdown",
   "id": "d49e4848-def5-424d-8f5a-e9b98c4c114b",
   "metadata": {},
   "source": [
    "## Valid Sequence Data Representations\n",
    "\n",
    "Time series data can be represented as a *list* or *array of arrays* as follows:"
   ]
  },
  {
   "cell_type": "code",
   "execution_count": 1,
   "id": "e32234eb-61e1-4f78-8e32-726f8ca45229",
   "metadata": {},
   "outputs": [],
   "source": [
    "from numpy import array\n",
    "from numpy.random import rand"
   ]
  },
  {
   "cell_type": "code",
   "execution_count": 2,
   "id": "e6d7ee1b-0cbe-4471-bcf0-1f8a9687e196",
   "metadata": {},
   "outputs": [],
   "source": [
    "# multivariate time series data: (N = 3, variables = 5)\n",
    "X = [rand(100, 5), rand(200, 5), rand(50, 5)]"
   ]
  },
  {
   "cell_type": "code",
   "execution_count": 3,
   "id": "559ecd97-d0ea-4325-9d09-c6f31152a315",
   "metadata": {},
   "outputs": [
    {
     "name": "stderr",
     "output_type": "stream",
     "text": [
      "<ipython-input-3-c3b5f2cd07f0>:2: VisibleDeprecationWarning: Creating an ndarray from ragged nested sequences (which is a list-or-tuple of lists-or-tuples-or ndarrays with different lengths or shapes) is deprecated. If you meant to do this, you must specify 'dtype=object' when creating the ndarray.\n",
      "  X = array([rand(100, 5), rand(200, 5), rand(50, 5)])\n"
     ]
    }
   ],
   "source": [
    "# or equivalently as a numpy array\n",
    "X = array([rand(100, 5), rand(200, 5), rand(50, 5)])"
   ]
  },
  {
   "cell_type": "markdown",
   "id": "a527cdb1-c66d-4e58-b841-01d1c13da98d",
   "metadata": {},
   "source": [
    "‼️ **Note:** \n",
    "\n",
    "This \"array of array\" is **not** the usual array where the first dimension is `n_samples` (and the next two are `timesteps, features`).\n",
    "\n",
    "It is similar, but, as `numpy` complained above, it is actuall an array of `objects` (which *are* arrays) of size `n_samples`. Each of those arrays is then like `timesteps, features`. "
   ]
  },
  {
   "cell_type": "code",
   "execution_count": 5,
   "id": "4be9e703-1d8d-4f65-b814-7c2dd1903fb9",
   "metadata": {},
   "outputs": [
    {
     "data": {
      "text/plain": [
       "(3,)"
      ]
     },
     "execution_count": 5,
     "metadata": {},
     "output_type": "execute_result"
    }
   ],
   "source": [
    "X.shape"
   ]
  },
  {
   "cell_type": "code",
   "execution_count": 6,
   "id": "a7a4d7c4-cd75-4d48-a559-55a7a74f5fd1",
   "metadata": {},
   "outputs": [
    {
     "data": {
      "text/plain": [
       "(100, 5)"
      ]
     },
     "execution_count": 6,
     "metadata": {},
     "output_type": "execute_result"
    }
   ],
   "source": [
    "X[0].shape"
   ]
  },
  {
   "cell_type": "code",
   "execution_count": 9,
   "id": "772cbba4-8832-4515-bee0-1c2d46ede712",
   "metadata": {},
   "outputs": [
    {
     "name": "stdout",
     "output_type": "stream",
     "text": [
      "0: (100, 5)\n",
      "1: (200, 5)\n",
      "2: (50, 5)\n",
      "Confirmed all samples have the same number of features (of 5).\n"
     ]
    }
   ],
   "source": [
    "feature_dims = []\n",
    "for idx in range(X.shape[0]):\n",
    "    print(f\"{idx}: {X[idx].shape}\")\n",
    "    feature_dims.append(X[idx].shape[1])\n",
    "assert all([d == 5 for d in feature_dims])\n",
    "print(\"Confirmed all samples have the same number of features (of 5).\")"
   ]
  },
  {
   "cell_type": "markdown",
   "id": "10bea70c-00d2-41b6-b8ce-c7c90faaf3b6",
   "metadata": {},
   "source": [
    "<br/>\n",
    "\n",
    "The target, as a contextual variable (again N = 3) is represented as an array or list:"
   ]
  },
  {
   "cell_type": "code",
   "execution_count": 11,
   "id": "eba43272-dcc0-43a8-883f-a56c78fab3f5",
   "metadata": {},
   "outputs": [],
   "source": [
    "y = [2, 1, 3]\n",
    "# or\n",
    "y = array([2, 1, 3])"
   ]
  },
  {
   "cell_type": "code",
   "execution_count": 13,
   "id": "93f26402-9de9-4240-bf65-ba59df713054",
   "metadata": {},
   "outputs": [
    {
     "data": {
      "text/plain": [
       "(3,)"
      ]
     },
     "execution_count": 13,
     "metadata": {},
     "output_type": "execute_result"
    }
   ],
   "source": [
    "# Note that y *is* a straight-forward shape[0] of n_samples=3 array.\n",
    "y.shape"
   ]
  },
  {
   "cell_type": "markdown",
   "id": "f82004c1-21c8-40df-abdf-7fa20da5eee6",
   "metadata": {},
   "source": [
    "The target, **as a continous variable** (again N = 3), will have the same shape as the time series data:"
   ]
  },
  {
   "cell_type": "code",
   "execution_count": 14,
   "id": "dea31969-ee46-4609-87be-15a4712cf4b1",
   "metadata": {},
   "outputs": [],
   "source": [
    "y_cont = [rand(100), rand(200), rand(50)]"
   ]
  },
  {
   "cell_type": "code",
   "execution_count": 17,
   "id": "26f93d23-991b-4eaf-bf29-d66308885904",
   "metadata": {},
   "outputs": [
    {
     "name": "stdout",
     "output_type": "stream",
     "text": [
      "0: y_cont[idx].shape - (100,)\n",
      "   X[idx].shape -      (100, 5)\n",
      "Confirmed matching time length.\n",
      "1: y_cont[idx].shape - (200,)\n",
      "   X[idx].shape -      (200, 5)\n",
      "Confirmed matching time length.\n",
      "2: y_cont[idx].shape - (50,)\n",
      "   X[idx].shape -      (50, 5)\n",
      "Confirmed matching time length.\n"
     ]
    }
   ],
   "source": [
    "for idx in range(len(y_cont)):\n",
    "    print(f\"{idx}: y_cont[idx].shape - {y_cont[idx].shape}\")\n",
    "    print(f\"   X[idx].shape -      {X[idx].shape}\")\n",
    "    assert y_cont[idx].shape[0] == X[idx].shape[0]\n",
    "    print(\"Confirmed matching time length.\")"
   ]
  },
  {
   "cell_type": "markdown",
   "id": "7f860643-9d35-41f2-8510-43105f680625",
   "metadata": {},
   "source": [
    "The `TS_Data` class is provided as an **indexable / iterable that can store `time series` & `contextual` data**:"
   ]
  },
  {
   "cell_type": "code",
   "execution_count": 18,
   "id": "2a0697b4-29dd-4806-80f3-85235cca53ab",
   "metadata": {},
   "outputs": [],
   "source": [
    "from seglearn.base import TS_Data"
   ]
  },
  {
   "cell_type": "code",
   "execution_count": 20,
   "id": "994f818a-d144-47af-87ca-a7f2aa4fbdb3",
   "metadata": {},
   "outputs": [],
   "source": [
    "# Time series part:\n",
    "Xt = array([rand(100,5), rand(200,5), rand(50,5)], dtype=object)\n",
    "\n",
    "# Create 2 context variables:\n",
    "Xc = rand(3, 2)\n",
    "\n",
    "X = TS_Data(Xt, Xc)"
   ]
  },
  {
   "cell_type": "code",
   "execution_count": 21,
   "id": "01cc8142-a801-4121-b08c-dc41fcb9432c",
   "metadata": {},
   "outputs": [
    {
     "data": {
      "text/plain": [
       "seglearn.base.TS_Data"
      ]
     },
     "execution_count": 21,
     "metadata": {},
     "output_type": "execute_result"
    }
   ],
   "source": [
    "type(X)"
   ]
  },
  {
   "cell_type": "markdown",
   "id": "d42021a2-cbc3-4741-8e2b-8006c2773987",
   "metadata": {},
   "source": [
    "A quick look at various methods / attributes of `TS_Data`:"
   ]
  },
  {
   "cell_type": "code",
   "execution_count": 24,
   "id": "9eebc30d-3c1c-4321-9cef-96f9bf55c842",
   "metadata": {},
   "outputs": [
    {
     "data": {
      "text/plain": [
       "['N', 'context_data', 'from_df', 'index', 'shape', 'ts_data']"
      ]
     },
     "execution_count": 24,
     "metadata": {},
     "output_type": "execute_result"
    }
   ],
   "source": [
    "class_attrs = [x for x in dir(X) if \"__\" not in x]\n",
    "class_attrs"
   ]
  },
  {
   "cell_type": "code",
   "execution_count": 25,
   "id": "ae644fca-9983-484f-bd01-71370943eebb",
   "metadata": {},
   "outputs": [
    {
     "data": {
      "text/plain": [
       "3"
      ]
     },
     "execution_count": 25,
     "metadata": {},
     "output_type": "execute_result"
    }
   ],
   "source": [
    "X.N"
   ]
  },
  {
   "cell_type": "code",
   "execution_count": 27,
   "id": "dc634719-ec40-45b0-a2f2-c28f237d7f88",
   "metadata": {},
   "outputs": [
    {
     "data": {
      "text/plain": [
       "[3]"
      ]
     },
     "execution_count": 27,
     "metadata": {},
     "output_type": "execute_result"
    }
   ],
   "source": [
    "X.shape"
   ]
  },
  {
   "cell_type": "code",
   "execution_count": 31,
   "id": "283895e7-cfcb-40d7-b21e-0f1ffec1e71f",
   "metadata": {},
   "outputs": [
    {
     "name": "stdout",
     "output_type": "stream",
     "text": [
      "Help on method from_df in module seglearn.base:\n",
      "\n",
      "from_df(df) method of builtins.type instance\n",
      "\n"
     ]
    }
   ],
   "source": [
    "help(X.from_df)"
   ]
  },
  {
   "cell_type": "code",
   "execution_count": 35,
   "id": "0fb946d5-1177-4bb6-a4aa-bbec323105c2",
   "metadata": {},
   "outputs": [
    {
     "data": {
      "text/plain": [
       "0"
      ]
     },
     "execution_count": 35,
     "metadata": {},
     "output_type": "execute_result"
    }
   ],
   "source": [
    "X.index"
   ]
  },
  {
   "cell_type": "code",
   "execution_count": 36,
   "id": "e8fc2cd8-1a69-4055-8177-d8cfd3822265",
   "metadata": {},
   "outputs": [
    {
     "data": {
      "text/plain": [
       "array([[0.38629216, 0.3848893 ],\n",
       "       [0.06379743, 0.92788826],\n",
       "       [0.55308507, 0.06523256]])"
      ]
     },
     "execution_count": 36,
     "metadata": {},
     "output_type": "execute_result"
    }
   ],
   "source": [
    "X.context_data"
   ]
  },
  {
   "cell_type": "code",
   "execution_count": 43,
   "id": "80291c6c-496f-4a40-b6e4-0d156ad73636",
   "metadata": {},
   "outputs": [
    {
     "name": "stdout",
     "output_type": "stream",
     "text": [
      "X.ts_data:\n",
      "shape=(3,)\n",
      "\n",
      "[array([[0.60055822, 0.1479646 , 0.31193028, 0.82904598, 0.99366586],\n",
      "        [0.43682286, 0.44301719, 0.50046637, 0.75321285, 0.69766529],\n",
      "        [0.73308697, 0.10755424, 0.85839365, 0.45548365, 0.23042428],\n",
      "        [0.82291378, 0.15064949, 0.70469326, 0.01067503, 0.33340476],\n",
      "        [0.94172176, ...\n"
     ]
    }
   ],
   "source": [
    "print(\"X.ts_data:\")\n",
    "print(f\"shape={X.ts_data.shape}\", end=\"\\n\\n\")\n",
    "print(\n",
    "    str(X.ts_data)[:300] + \" ...\"\n",
    ")"
   ]
  },
  {
   "cell_type": "markdown",
   "id": "c2cf1402-1d69-4552-9dcc-2ac65585380a",
   "metadata": {},
   "source": [
    "`TS_Data` can be initialized from a `pandas` dataframe using column `'ts_data'` for the time series:"
   ]
  },
  {
   "cell_type": "code",
   "execution_count": 44,
   "id": "11db4650-3f5c-4497-9936-13c72390644e",
   "metadata": {},
   "outputs": [],
   "source": [
    "import pandas as pd"
   ]
  },
  {
   "cell_type": "code",
   "execution_count": 45,
   "id": "064c9c11-3556-41f4-b9d1-8cbe738d3dee",
   "metadata": {},
   "outputs": [
    {
     "data": {
      "text/html": [
       "<div>\n",
       "<style scoped>\n",
       "    .dataframe tbody tr th:only-of-type {\n",
       "        vertical-align: middle;\n",
       "    }\n",
       "\n",
       "    .dataframe tbody tr th {\n",
       "        vertical-align: top;\n",
       "    }\n",
       "\n",
       "    .dataframe thead th {\n",
       "        text-align: right;\n",
       "    }\n",
       "</style>\n",
       "<table border=\"1\" class=\"dataframe\">\n",
       "  <thead>\n",
       "    <tr style=\"text-align: right;\">\n",
       "      <th></th>\n",
       "      <th>0</th>\n",
       "      <th>1</th>\n",
       "    </tr>\n",
       "  </thead>\n",
       "  <tbody>\n",
       "    <tr>\n",
       "      <th>0</th>\n",
       "      <td>0.386292</td>\n",
       "      <td>0.384889</td>\n",
       "    </tr>\n",
       "    <tr>\n",
       "      <th>1</th>\n",
       "      <td>0.063797</td>\n",
       "      <td>0.927888</td>\n",
       "    </tr>\n",
       "    <tr>\n",
       "      <th>2</th>\n",
       "      <td>0.553085</td>\n",
       "      <td>0.065233</td>\n",
       "    </tr>\n",
       "  </tbody>\n",
       "</table>\n",
       "</div>"
      ],
      "text/plain": [
       "          0         1\n",
       "0  0.386292  0.384889\n",
       "1  0.063797  0.927888\n",
       "2  0.553085  0.065233"
      ]
     },
     "execution_count": 45,
     "metadata": {},
     "output_type": "execute_result"
    }
   ],
   "source": [
    "df = pd.DataFrame(Xc)\n",
    "df"
   ]
  },
  {
   "cell_type": "code",
   "execution_count": 47,
   "id": "bcdbc765-76c1-47f2-a5bf-d16c85751a80",
   "metadata": {},
   "outputs": [
    {
     "data": {
      "text/html": [
       "<div>\n",
       "<style scoped>\n",
       "    .dataframe tbody tr th:only-of-type {\n",
       "        vertical-align: middle;\n",
       "    }\n",
       "\n",
       "    .dataframe tbody tr th {\n",
       "        vertical-align: top;\n",
       "    }\n",
       "\n",
       "    .dataframe thead th {\n",
       "        text-align: right;\n",
       "    }\n",
       "</style>\n",
       "<table border=\"1\" class=\"dataframe\">\n",
       "  <thead>\n",
       "    <tr style=\"text-align: right;\">\n",
       "      <th></th>\n",
       "      <th>0</th>\n",
       "      <th>1</th>\n",
       "      <th>ts_data</th>\n",
       "    </tr>\n",
       "  </thead>\n",
       "  <tbody>\n",
       "    <tr>\n",
       "      <th>0</th>\n",
       "      <td>0.386292</td>\n",
       "      <td>0.384889</td>\n",
       "      <td>[[0.6005582152336411, 0.14796459990134914, 0.3...</td>\n",
       "    </tr>\n",
       "    <tr>\n",
       "      <th>1</th>\n",
       "      <td>0.063797</td>\n",
       "      <td>0.927888</td>\n",
       "      <td>[[0.05357667712581771, 0.9481113284716495, 0.9...</td>\n",
       "    </tr>\n",
       "    <tr>\n",
       "      <th>2</th>\n",
       "      <td>0.553085</td>\n",
       "      <td>0.065233</td>\n",
       "      <td>[[0.2730056524386082, 0.17913637707892582, 0.8...</td>\n",
       "    </tr>\n",
       "  </tbody>\n",
       "</table>\n",
       "</div>"
      ],
      "text/plain": [
       "          0         1                                            ts_data\n",
       "0  0.386292  0.384889  [[0.6005582152336411, 0.14796459990134914, 0.3...\n",
       "1  0.063797  0.927888  [[0.05357667712581771, 0.9481113284716495, 0.9...\n",
       "2  0.553085  0.065233  [[0.2730056524386082, 0.17913637707892582, 0.8..."
      ]
     },
     "execution_count": 47,
     "metadata": {},
     "output_type": "execute_result"
    }
   ],
   "source": [
    "df['ts_data'] = Xt\n",
    "df"
   ]
  },
  {
   "cell_type": "markdown",
   "id": "0e00582f-b625-43c3-a36c-6bdee0ce9944",
   "metadata": {},
   "source": [
    "**‼️ Note:**\n",
    "\n",
    "This `pandas` helper *isn't very useful*, as the timeseries data has to be pre-collected as a list/array of arrays for each sample in `\"ts_data\"` column."
   ]
  },
  {
   "cell_type": "code",
   "execution_count": 50,
   "id": "6dab22c7-ec92-42a7-808f-86db2ba479f4",
   "metadata": {},
   "outputs": [],
   "source": [
    "X = TS_Data.from_df(df)"
   ]
  },
  {
   "cell_type": "markdown",
   "id": "ae10dd7a-d5d8-43f0-9641-1286054eb88d",
   "metadata": {},
   "source": [
    "There is a caveat for datasets that are a **single time series**. \n",
    "\n",
    "For compatibility with the seglearn segmenter classes, they need to be represented as a list:"
   ]
  },
  {
   "cell_type": "code",
   "execution_count": 51,
   "id": "d43bf116-0837-48be-8e58-6192b563f769",
   "metadata": {},
   "outputs": [],
   "source": [
    "X = [rand(1000,10)]\n",
    "y = [rand(1000)]"
   ]
  },
  {
   "cell_type": "markdown",
   "id": "15a1ec2e-c02f-45c1-b375-07b875274763",
   "metadata": {},
   "source": [
    "If you want to split a single time series for train / test or cross validation - make sure to use one of the temporal splitting tools in `split`. \n",
    "\n",
    "If you have many time series in the dataset, you can use the sklearn splitters to split the data by series. This is demonstrated in the examples."
   ]
  },
  {
   "cell_type": "markdown",
   "id": "d0955629-ed21-4f45-a370-3730dc43e576",
   "metadata": {},
   "source": [
    "Irregularly sampled **\"long\" format** time series data (with timestamps) can be **interpolated and transformed** to wide format used by seglearn using the `InterpLongToWide` transformer:"
   ]
  },
  {
   "cell_type": "code",
   "execution_count": 53,
   "id": "84fd8aab-1aaf-4cc8-936a-9930c87e456d",
   "metadata": {},
   "outputs": [],
   "source": [
    "import numpy as np\n",
    "Xlong = pd.DataFrame({'time': np.arange(20), 'sensor': np.random.choice([1,2,3], 20), 'value': np.random.rand(20)})"
   ]
  },
  {
   "cell_type": "code",
   "execution_count": 54,
   "id": "b43849fe-7233-4ef2-9274-c21ef08a9fb8",
   "metadata": {},
   "outputs": [
    {
     "data": {
      "text/html": [
       "<div>\n",
       "<style scoped>\n",
       "    .dataframe tbody tr th:only-of-type {\n",
       "        vertical-align: middle;\n",
       "    }\n",
       "\n",
       "    .dataframe tbody tr th {\n",
       "        vertical-align: top;\n",
       "    }\n",
       "\n",
       "    .dataframe thead th {\n",
       "        text-align: right;\n",
       "    }\n",
       "</style>\n",
       "<table border=\"1\" class=\"dataframe\">\n",
       "  <thead>\n",
       "    <tr style=\"text-align: right;\">\n",
       "      <th></th>\n",
       "      <th>time</th>\n",
       "      <th>sensor</th>\n",
       "      <th>value</th>\n",
       "    </tr>\n",
       "  </thead>\n",
       "  <tbody>\n",
       "    <tr>\n",
       "      <th>0</th>\n",
       "      <td>0</td>\n",
       "      <td>2</td>\n",
       "      <td>0.670529</td>\n",
       "    </tr>\n",
       "    <tr>\n",
       "      <th>1</th>\n",
       "      <td>1</td>\n",
       "      <td>2</td>\n",
       "      <td>0.435911</td>\n",
       "    </tr>\n",
       "    <tr>\n",
       "      <th>2</th>\n",
       "      <td>2</td>\n",
       "      <td>3</td>\n",
       "      <td>0.342993</td>\n",
       "    </tr>\n",
       "    <tr>\n",
       "      <th>3</th>\n",
       "      <td>3</td>\n",
       "      <td>2</td>\n",
       "      <td>0.063419</td>\n",
       "    </tr>\n",
       "    <tr>\n",
       "      <th>4</th>\n",
       "      <td>4</td>\n",
       "      <td>2</td>\n",
       "      <td>0.883680</td>\n",
       "    </tr>\n",
       "    <tr>\n",
       "      <th>5</th>\n",
       "      <td>5</td>\n",
       "      <td>1</td>\n",
       "      <td>0.375351</td>\n",
       "    </tr>\n",
       "    <tr>\n",
       "      <th>6</th>\n",
       "      <td>6</td>\n",
       "      <td>1</td>\n",
       "      <td>0.543495</td>\n",
       "    </tr>\n",
       "    <tr>\n",
       "      <th>7</th>\n",
       "      <td>7</td>\n",
       "      <td>2</td>\n",
       "      <td>0.411129</td>\n",
       "    </tr>\n",
       "    <tr>\n",
       "      <th>8</th>\n",
       "      <td>8</td>\n",
       "      <td>2</td>\n",
       "      <td>0.272273</td>\n",
       "    </tr>\n",
       "    <tr>\n",
       "      <th>9</th>\n",
       "      <td>9</td>\n",
       "      <td>1</td>\n",
       "      <td>0.248770</td>\n",
       "    </tr>\n",
       "    <tr>\n",
       "      <th>10</th>\n",
       "      <td>10</td>\n",
       "      <td>1</td>\n",
       "      <td>0.618263</td>\n",
       "    </tr>\n",
       "    <tr>\n",
       "      <th>11</th>\n",
       "      <td>11</td>\n",
       "      <td>3</td>\n",
       "      <td>0.391303</td>\n",
       "    </tr>\n",
       "    <tr>\n",
       "      <th>12</th>\n",
       "      <td>12</td>\n",
       "      <td>1</td>\n",
       "      <td>0.651670</td>\n",
       "    </tr>\n",
       "    <tr>\n",
       "      <th>13</th>\n",
       "      <td>13</td>\n",
       "      <td>3</td>\n",
       "      <td>0.467145</td>\n",
       "    </tr>\n",
       "    <tr>\n",
       "      <th>14</th>\n",
       "      <td>14</td>\n",
       "      <td>3</td>\n",
       "      <td>0.875930</td>\n",
       "    </tr>\n",
       "    <tr>\n",
       "      <th>15</th>\n",
       "      <td>15</td>\n",
       "      <td>2</td>\n",
       "      <td>0.976952</td>\n",
       "    </tr>\n",
       "    <tr>\n",
       "      <th>16</th>\n",
       "      <td>16</td>\n",
       "      <td>3</td>\n",
       "      <td>0.720296</td>\n",
       "    </tr>\n",
       "    <tr>\n",
       "      <th>17</th>\n",
       "      <td>17</td>\n",
       "      <td>1</td>\n",
       "      <td>0.051907</td>\n",
       "    </tr>\n",
       "    <tr>\n",
       "      <th>18</th>\n",
       "      <td>18</td>\n",
       "      <td>1</td>\n",
       "      <td>0.419321</td>\n",
       "    </tr>\n",
       "    <tr>\n",
       "      <th>19</th>\n",
       "      <td>19</td>\n",
       "      <td>3</td>\n",
       "      <td>0.517879</td>\n",
       "    </tr>\n",
       "  </tbody>\n",
       "</table>\n",
       "</div>"
      ],
      "text/plain": [
       "    time  sensor     value\n",
       "0      0       2  0.670529\n",
       "1      1       2  0.435911\n",
       "2      2       3  0.342993\n",
       "3      3       2  0.063419\n",
       "4      4       2  0.883680\n",
       "5      5       1  0.375351\n",
       "6      6       1  0.543495\n",
       "7      7       2  0.411129\n",
       "8      8       2  0.272273\n",
       "9      9       1  0.248770\n",
       "10    10       1  0.618263\n",
       "11    11       3  0.391303\n",
       "12    12       1  0.651670\n",
       "13    13       3  0.467145\n",
       "14    14       3  0.875930\n",
       "15    15       2  0.976952\n",
       "16    16       3  0.720296\n",
       "17    17       1  0.051907\n",
       "18    18       1  0.419321\n",
       "19    19       3  0.517879"
      ]
     },
     "execution_count": 54,
     "metadata": {},
     "output_type": "execute_result"
    }
   ],
   "source": [
    "Xlong"
   ]
  },
  {
   "cell_type": "markdown",
   "id": "39da6efc-76d7-42dd-a0b2-09971b28b41b",
   "metadata": {},
   "source": [
    "So you can see above, the \"long\" format is `time`, `variable` (here, \"sensor\"), `value` format."
   ]
  },
  {
   "cell_type": "code",
   "execution_count": 56,
   "id": "9200c695-8953-46ac-b774-258a370a34ab",
   "metadata": {},
   "outputs": [],
   "source": [
    "from seglearn import InterpLongToWide\n",
    "interp = InterpLongToWide(\n",
    "    sample_period=1.0, \n",
    "    kind='linear', \n",
    "    assume_sorted=False\n",
    ")"
   ]
  },
  {
   "cell_type": "code",
   "execution_count": 57,
   "id": "e7fe2e31-016f-4069-b1bd-25fba3e8f90b",
   "metadata": {},
   "outputs": [
    {
     "data": {
      "text/plain": [
       "InterpLongToWide(assume_sorted=False, sample_period=1.0)"
      ]
     },
     "execution_count": 57,
     "metadata": {},
     "output_type": "execute_result"
    }
   ],
   "source": [
    "interp"
   ]
  },
  {
   "cell_type": "code",
   "execution_count": 58,
   "id": "c3655b5a-248d-4416-9ddb-ce6c356db4a9",
   "metadata": {},
   "outputs": [
    {
     "data": {
      "text/plain": [
       "[array([[0.37535102, 0.72616307, 0.35909666],\n",
       "        [0.54349493, 0.56864586, 0.36446442],\n",
       "        [0.4452532 , 0.41112865, 0.36983219],\n",
       "        [0.34701147, 0.27227317, 0.37519995],\n",
       "        [0.24876973, 0.37294161, 0.38056771],\n",
       "        [0.61826328, 0.47361005, 0.38593547],\n",
       "        [0.63496667, 0.57427849, 0.39130323],\n",
       "        [0.65167006, 0.67494692, 0.42922395],\n",
       "        [0.53171741, 0.77561536, 0.46714467],\n",
       "        [0.41176475, 0.8762838 , 0.87593014]])]"
      ]
     },
     "execution_count": 58,
     "metadata": {},
     "output_type": "execute_result"
    }
   ],
   "source": [
    "Xwide, _ , _ = interp.transform([Xlong.values])\n",
    "Xwide"
   ]
  },
  {
   "cell_type": "markdown",
   "id": "83953246-7180-421d-bfa8-0cfd5c6c7800",
   "metadata": {},
   "source": [
    "Interpolation like this can be incorporated into a seglearn pipeline."
   ]
  }
 ],
 "metadata": {
  "kernelspec": {
   "display_name": "Python 3",
   "language": "python",
   "name": "python3"
  },
  "language_info": {
   "codemirror_mode": {
    "name": "ipython",
    "version": 3
   },
   "file_extension": ".py",
   "mimetype": "text/x-python",
   "name": "python",
   "nbconvert_exporter": "python",
   "pygments_lexer": "ipython3",
   "version": "3.8.10"
  }
 },
 "nbformat": 4,
 "nbformat_minor": 5
}
