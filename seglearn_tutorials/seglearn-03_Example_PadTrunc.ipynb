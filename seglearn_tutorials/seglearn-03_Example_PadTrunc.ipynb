{
 "cells": [
  {
   "cell_type": "markdown",
   "id": "5646225d-b19b-4fe9-9316-3bc4762aa7a9",
   "metadata": {},
   "source": [
    "# Pipeline using Time Series Padding and Truncation\n",
    "\n",
    "From here: https://dmbee.github.io/seglearn/auto_examples/plot_padtrunc.html"
   ]
  },
  {
   "cell_type": "markdown",
   "id": "bbddbbd1-65ac-498c-96b1-5bce5c4d16f1",
   "metadata": {},
   "source": [
    "## Overview\n",
    "\n",
    "This is a basic example using the pipeline to learn a feature representation of the time series data using **padding and truncation** *instead of sliding window segmentation*.\n",
    "\n",
    "<img src=\"https://dmbee.github.io/seglearn/_images/sphx_glr_plot_padtrunc_001.png\" width=300/>"
   ]
  },
  {
   "cell_type": "markdown",
   "id": "bbb896b9-2fd4-420b-8d07-690454184fc3",
   "metadata": {},
   "source": [
    "---\n",
    "\n",
    "### Play around with `PadTrunc`"
   ]
  },
  {
   "cell_type": "code",
   "execution_count": 1,
   "id": "72167ef4-9c3a-4e26-9e49-fed3fd60d2bb",
   "metadata": {},
   "outputs": [],
   "source": [
    "import numpy as np\n",
    "from seglearn.transform import FeatureRep, PadTrunc"
   ]
  },
  {
   "cell_type": "code",
   "execution_count": 2,
   "id": "f92d59b0-60d2-4110-ae38-f1aa0edcfc56",
   "metadata": {},
   "outputs": [],
   "source": [
    "# n_samples = 2, timesteps=[4, 5, 7], features=3\n",
    "X_ = [\n",
    "    np.array(\n",
    "        [\n",
    "            [0, .1, 10],\n",
    "            [2, .1, 20],\n",
    "            [3, -.1, 15],\n",
    "            [4, .2, 30],\n",
    "        ]\n",
    "    ),\n",
    "    np.array(\n",
    "        [\n",
    "            [-1, .1, 22],\n",
    "            [-3, .2, 33],\n",
    "            [-5, .3, 22],\n",
    "            [-7, .4, 44],\n",
    "            [-9, .5, 33],\n",
    "        ]\n",
    "    ),\n",
    "    np.array(\n",
    "        [\n",
    "            [66, .1, 10],\n",
    "            [66, -.1, 25],\n",
    "            [66, .2, 30],\n",
    "            [66, -.2, 45],\n",
    "            [66, .3, 55],\n",
    "            [66, -.3, 65],\n",
    "            [66, .4, 70],\n",
    "        ]\n",
    "    )\n",
    "]\n",
    "\n",
    "# Time series target:\n",
    "y_ = [\n",
    "    np.array([True, False, False, True]),\n",
    "    np.array([True, False, False, True, True]),\n",
    "    np.array([False, False, False, True, True, False, True]),\n",
    "]"
   ]
  },
  {
   "cell_type": "code",
   "execution_count": 3,
   "id": "da619dbb-1dbe-44a9-89ca-da8cb2f5ab91",
   "metadata": {},
   "outputs": [
    {
     "data": {
      "text/plain": [
       "[array([[ 0. ,  0.1, 10. ],\n",
       "        [ 2. ,  0.1, 20. ],\n",
       "        [ 3. , -0.1, 15. ],\n",
       "        [ 4. ,  0.2, 30. ]]),\n",
       " array([[-1. ,  0.1, 22. ],\n",
       "        [-3. ,  0.2, 33. ],\n",
       "        [-5. ,  0.3, 22. ],\n",
       "        [-7. ,  0.4, 44. ],\n",
       "        [-9. ,  0.5, 33. ]]),\n",
       " array([[66. ,  0.1, 10. ],\n",
       "        [66. , -0.1, 25. ],\n",
       "        [66. ,  0.2, 30. ],\n",
       "        [66. , -0.2, 45. ],\n",
       "        [66. ,  0.3, 55. ],\n",
       "        [66. , -0.3, 65. ],\n",
       "        [66. ,  0.4, 70. ]])]"
      ]
     },
     "execution_count": 3,
     "metadata": {},
     "output_type": "execute_result"
    }
   ],
   "source": [
    "X_"
   ]
  },
  {
   "cell_type": "code",
   "execution_count": 4,
   "id": "944cf344-4a12-44c0-8803-db5b5b91f2aa",
   "metadata": {},
   "outputs": [
    {
     "data": {
      "text/plain": [
       "[array([ True, False, False,  True]),\n",
       " array([ True, False, False,  True,  True]),\n",
       " array([False, False, False,  True,  True, False,  True])]"
      ]
     },
     "execution_count": 4,
     "metadata": {},
     "output_type": "execute_result"
    }
   ],
   "source": [
    "y_"
   ]
  },
  {
   "cell_type": "code",
   "execution_count": 5,
   "id": "7c20cbb7-8438-48c9-bdb8-77da506d2dd4",
   "metadata": {},
   "outputs": [
    {
     "data": {
      "text/plain": [
       "PadTrunc(width=5)"
      ]
     },
     "execution_count": 5,
     "metadata": {},
     "output_type": "execute_result"
    }
   ],
   "source": [
    "pt = PadTrunc(width=5)\n",
    "pt"
   ]
  },
  {
   "cell_type": "code",
   "execution_count": 6,
   "id": "7b4dc271-3616-4aaa-b445-740cba299e6a",
   "metadata": {},
   "outputs": [],
   "source": [
    "X_pt, y_pt, _ = pt.fit_transform(X_, y_)"
   ]
  },
  {
   "cell_type": "code",
   "execution_count": 7,
   "id": "2be34433-1dd5-43c9-a212-0c756d90b3cf",
   "metadata": {},
   "outputs": [
    {
     "data": {
      "text/plain": [
       "array([[[ 0. ,  0.1, 10. ],\n",
       "        [ 2. ,  0.1, 20. ],\n",
       "        [ 3. , -0.1, 15. ],\n",
       "        [ 4. ,  0.2, 30. ],\n",
       "        [ 0. ,  0. ,  0. ]],\n",
       "\n",
       "       [[-1. ,  0.1, 22. ],\n",
       "        [-3. ,  0.2, 33. ],\n",
       "        [-5. ,  0.3, 22. ],\n",
       "        [-7. ,  0.4, 44. ],\n",
       "        [-9. ,  0.5, 33. ]],\n",
       "\n",
       "       [[66. ,  0.1, 10. ],\n",
       "        [66. , -0.1, 25. ],\n",
       "        [66. ,  0.2, 30. ],\n",
       "        [66. , -0.2, 45. ],\n",
       "        [66. ,  0.3, 55. ]]])"
      ]
     },
     "execution_count": 7,
     "metadata": {},
     "output_type": "execute_result"
    }
   ],
   "source": [
    "X_pt"
   ]
  },
  {
   "cell_type": "code",
   "execution_count": 8,
   "id": "c0a395b5-0d7a-4c3f-b9c6-7dace6f91a1a",
   "metadata": {},
   "outputs": [
    {
     "data": {
      "text/plain": [
       "array([[1., 0., 0., 1., 0.],\n",
       "       [1., 0., 0., 1., 1.],\n",
       "       [0., 0., 0., 1., 1.]])"
      ]
     },
     "execution_count": 8,
     "metadata": {},
     "output_type": "execute_result"
    }
   ],
   "source": [
    "y_pt"
   ]
  },
  {
   "cell_type": "markdown",
   "id": "5dd897b3-0915-4de7-8c2c-95b7ae90f0ac",
   "metadata": {},
   "source": [
    "**⚠️ Note (from docs):**\n",
    "1. Transformer for using padding and truncation to enforce fixed length on all time series in the dataset. Series longer than width are truncated to length width. **Series shorter than length width are padded at the end with `zeros` up to length width**.\n",
    "2. The same behavior is applied to the target if it is a series and passed to the transformer."
   ]
  },
  {
   "cell_type": "code",
   "execution_count": 9,
   "id": "7067d409-1892-4ce1-8d50-87c497461982",
   "metadata": {},
   "outputs": [],
   "source": [
    "# Try FeatureRep on top of this.\n",
    "from seglearn.feature_functions import minimum, std\n",
    "fr = FeatureRep(features={'min': minimum, 'std': std})\n",
    "X_pt_fr = fr.fit_transform(X_pt, y_pt)"
   ]
  },
  {
   "cell_type": "code",
   "execution_count": 10,
   "id": "74629172-cac4-4deb-be00-ff7e1299214d",
   "metadata": {},
   "outputs": [
    {
     "data": {
      "text/html": [
       "<div>\n",
       "<style scoped>\n",
       "    .dataframe tbody tr th:only-of-type {\n",
       "        vertical-align: middle;\n",
       "    }\n",
       "\n",
       "    .dataframe tbody tr th {\n",
       "        vertical-align: top;\n",
       "    }\n",
       "\n",
       "    .dataframe thead th {\n",
       "        text-align: right;\n",
       "    }\n",
       "</style>\n",
       "<table border=\"1\" class=\"dataframe\">\n",
       "  <thead>\n",
       "    <tr style=\"text-align: right;\">\n",
       "      <th></th>\n",
       "      <th>min_0</th>\n",
       "      <th>min_1</th>\n",
       "      <th>min_2</th>\n",
       "      <th>std_0</th>\n",
       "      <th>std_1</th>\n",
       "      <th>std_2</th>\n",
       "    </tr>\n",
       "  </thead>\n",
       "  <tbody>\n",
       "    <tr>\n",
       "      <th>0</th>\n",
       "      <td>0.0</td>\n",
       "      <td>-0.1</td>\n",
       "      <td>0.0</td>\n",
       "      <td>1.600000</td>\n",
       "      <td>0.101980</td>\n",
       "      <td>10.000000</td>\n",
       "    </tr>\n",
       "    <tr>\n",
       "      <th>1</th>\n",
       "      <td>-9.0</td>\n",
       "      <td>0.1</td>\n",
       "      <td>22.0</td>\n",
       "      <td>2.828427</td>\n",
       "      <td>0.141421</td>\n",
       "      <td>8.231646</td>\n",
       "    </tr>\n",
       "    <tr>\n",
       "      <th>2</th>\n",
       "      <td>66.0</td>\n",
       "      <td>-0.2</td>\n",
       "      <td>10.0</td>\n",
       "      <td>0.000000</td>\n",
       "      <td>0.185472</td>\n",
       "      <td>15.684387</td>\n",
       "    </tr>\n",
       "  </tbody>\n",
       "</table>\n",
       "</div>"
      ],
      "text/plain": [
       "   min_0  min_1  min_2     std_0     std_1      std_2\n",
       "0    0.0   -0.1    0.0  1.600000  0.101980  10.000000\n",
       "1   -9.0    0.1   22.0  2.828427  0.141421   8.231646\n",
       "2   66.0   -0.2   10.0  0.000000  0.185472  15.684387"
      ]
     },
     "metadata": {},
     "output_type": "display_data"
    }
   ],
   "source": [
    "import pandas as pd\n",
    "df = pd.DataFrame(data=X_pt_fr, columns=fr.f_labels)\n",
    "display(df)"
   ]
  },
  {
   "cell_type": "markdown",
   "id": "70488bd3-6793-4def-968a-0c17da602a09",
   "metadata": {},
   "source": [
    "✍🏻 So while in previous examples, the FeatureRep 0th dimension were *segments*, in this case, it is *samples*."
   ]
  },
  {
   "cell_type": "markdown",
   "id": "e1be2ce2-f27c-4bc6-9f1d-b15f46a58cdb",
   "metadata": {},
   "source": [
    "---"
   ]
  },
  {
   "cell_type": "code",
   "execution_count": 11,
   "id": "2c674919-14a2-4911-8e53-0b23e5b270b1",
   "metadata": {},
   "outputs": [],
   "source": [
    "import matplotlib.image as mpimg\n",
    "import matplotlib.pyplot as plt"
   ]
  },
  {
   "cell_type": "code",
   "execution_count": 12,
   "id": "b0ceacaf-33e2-4ef7-9836-33bad85c4a4f",
   "metadata": {},
   "outputs": [],
   "source": [
    "from sklearn.model_selection import train_test_split\n",
    "from sklearn.preprocessing import StandardScaler\n",
    "from sklearn.svm import LinearSVC"
   ]
  },
  {
   "cell_type": "code",
   "execution_count": 13,
   "id": "d53b50fe-9525-4f01-9eb1-768f4c8a1ff1",
   "metadata": {},
   "outputs": [],
   "source": [
    "from seglearn.datasets import load_watch\n",
    "from seglearn.pipe import Pype\n",
    "from seglearn.transform import FeatureRep, PadTrunc"
   ]
  },
  {
   "cell_type": "code",
   "execution_count": 14,
   "id": "4f04eb9e-d5ca-4de6-9ceb-4fd234abd968",
   "metadata": {},
   "outputs": [],
   "source": [
    "# load the data\n",
    "data = load_watch()\n",
    "X = data['X']\n",
    "y = data['y']"
   ]
  },
  {
   "cell_type": "code",
   "execution_count": 15,
   "id": "b18e473e-c183-4c16-952b-2389744bb6d4",
   "metadata": {},
   "outputs": [
    {
     "name": "stderr",
     "output_type": "stream",
     "text": [
      "/mnt/space/miniconda3/envs/py38_playaround-sk/lib/python3.8/site-packages/sklearn/utils/validation.py:70: FutureWarning: Pass memory=None as keyword args. From version 1.0 (renaming of 0.25) passing these as positional arguments will result in an error\n",
      "  warnings.warn(f\"Pass {args_msg} as keyword args. From version \"\n"
     ]
    }
   ],
   "source": [
    "# create a feature representation pipeline with PadTrunc segmentation\n",
    "# the time series are between 20-40 seconds\n",
    "# this truncates them all to the first 5 seconds (sampling rate is 50 Hz)\n",
    "\n",
    "pipe = Pype(\n",
    "    [\n",
    "        ('trunc', PadTrunc(width=250)),  # Note.\n",
    "        ('features', FeatureRep()),      # After fixing the TS \"sizing\" with PadTrunc, we apply FeatureRep directly on the TS.\n",
    "        ('scaler', StandardScaler()),\n",
    "        ('svc', LinearSVC())\n",
    "    ]\n",
    ")"
   ]
  },
  {
   "cell_type": "code",
   "execution_count": 16,
   "id": "cdd86712-2906-40ef-a53f-7114499d7354",
   "metadata": {},
   "outputs": [],
   "source": [
    "# split the data\n",
    "X_train, X_test, y_train, y_test = train_test_split(\n",
    "    X, y, test_size=0.25, shuffle=True, random_state=42)"
   ]
  },
  {
   "cell_type": "code",
   "execution_count": 17,
   "id": "eb4498a2-ca07-4874-81b2-21237aebe113",
   "metadata": {},
   "outputs": [],
   "source": [
    "pipe.fit(X_train, y_train)\n",
    "score = pipe.score(X_test, y_test)  # Note!"
   ]
  },
  {
   "cell_type": "code",
   "execution_count": 18,
   "id": "060f3950-fafc-49b6-8240-9cd2175ce5c5",
   "metadata": {},
   "outputs": [
    {
     "name": "stdout",
     "output_type": "stream",
     "text": [
      "N series in train:  105\n",
      "N series in test:  35\n",
      "N segments in train:  105\n",
      "N segments in test:  35\n",
      "Accuracy score:  0.8285714285714286\n"
     ]
    }
   ],
   "source": [
    "print(\"N series in train: \", len(X_train))\n",
    "print(\"N series in test: \", len(X_test))\n",
    "print(\"N segments in train: \", pipe.N_train)\n",
    "print(\"N segments in test: \", pipe.N_test)\n",
    "print(\"Accuracy score: \", score)"
   ]
  },
  {
   "cell_type": "code",
   "execution_count": 20,
   "id": "f5be6c55-bfd7-4912-8150-6c9ce7e3faa6",
   "metadata": {},
   "outputs": [
    {
     "data": {
      "text/plain": [
       "<matplotlib.image.AxesImage at 0x7f7a5c120430>"
      ]
     },
     "execution_count": 20,
     "metadata": {},
     "output_type": "execute_result"
    },
    {
     "data": {
      "image/png": "[encoded data removed]",
      "text/plain": [
       "<Figure size 432x288 with 1 Axes>"
      ]
     },
     "metadata": {
      "needs_background": "light"
     },
     "output_type": "display_data"
    }
   ],
   "source": [
    "img = mpimg.imread('https://dmbee.github.io/seglearn/_images/sphx_glr_plot_padtrunc_001.png')\n",
    "plt.imshow(img)"
   ]
  }
 ],
 "metadata": {
  "kernelspec": {
   "display_name": "Python 3",
   "language": "python",
   "name": "python3"
  },
  "language_info": {
   "codemirror_mode": {
    "name": "ipython",
    "version": 3
   },
   "file_extension": ".py",
   "mimetype": "text/x-python",
   "name": "python",
   "nbconvert_exporter": "python",
   "pygments_lexer": "ipython3",
   "version": "3.8.10"
  }
 },
 "nbformat": 4,
 "nbformat_minor": 5
}
