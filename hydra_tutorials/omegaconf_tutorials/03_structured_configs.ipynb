{
 "cells": [
  {
   "attachments": {},
   "cell_type": "markdown",
   "metadata": {},
   "source": [
    "# Structured Configs\n",
    "\n",
    "Following: https://omegaconf.readthedocs.io/en/latest/structured_config.html"
   ]
  },
  {
   "attachments": {},
   "cell_type": "markdown",
   "metadata": {},
   "source": [
    "> Structured configs are used to create OmegaConf configuration object **with runtime type safety**.\n",
    ">\n",
    "> In addition, they can be used *with tools like mypy or your IDE* for **static type checking**.\n",
    "\n",
    "\n",
    "Two types of structures classes are supported: `dataclasses` and `attr` classes.\n",
    "* `dataclass`es are standard as of Python 3.7 or newer and are available in Python 3.6 via the `dataclasses` pip package.\n",
    "    * NOTE: official Python `dataclass`es: https://docs.python.org/3.7/library/dataclasses.html\n",
    "* `attrs` Offset slightly cleaner syntax in some cases but depends on the attrs pip package.\n",
    "    * Uses a *library*: https://github.com/python-attrs/attrs\n",
    "\n",
    "**NOTE: It can use *EITHER* of the above, it doesn't use BOTH**\n",
    "\n",
    "> This documentation will use `dataclass`es, but you can use the annotation `@attr.s(auto_attribs=True)`\n",
    "> from `attrs` instead of `@dataclass`.\n",
    "\n",
    "Basic usage involves passing in a *structured config class or instance* to `OmegaConf.structured()`, which will return an OmegaConf config that matches the values and types specified in the input.\n",
    "\n",
    "At runtime, OmegaConf will validate modifications to the created config object against the schema specified in the input class.\n",
    "\n",
    "\n",
    "Currently, type hints supported in OmegaConf’s structured configs include:\n",
    "* primitive types (`int`, `float`, `bool`, `str`, `bytes`, `Path`) and enum types (user-defined subclasses of `enum.Enum`). See the **Simple types** section below.\n",
    "* unions of primitive/enum types, e.g. `Union[float, bool, MyEnum]`. See **Unions** below.\n",
    "* structured config fields (i.e. `MyConfig.x` can have type hint `MySubConfig`). See the **Nesting structured configs** section below.\n",
    "* `dict` and `list` types: `typing.Dict[K, V]` or `typing.List[V]`, where `K` is primitive or enum, and where `V` is any of the above (including nested dicts or lists, e.g. `Dict[str, List[int]]`). See the **Lists and Dictionaries sections** below.\n",
    "* optional types (any of the above can be wrapped in a `typing.Optional[...]` annotation). See **Other special features** below.\n"
   ]
  },
  {
   "attachments": {},
   "cell_type": "markdown",
   "metadata": {},
   "source": [
    "## Simple types\n",
    "\n",
    "\n",
    "Simple types include:\n",
    "* `int`: numeric integers\n",
    "* `float`: numeric floating point values\n",
    "* `bool`: boolean values (`True`, `False`, On, Off etc.)\n",
    "* `str`: any string\n",
    "* `bytes`: an immutable sequence of numbers in `[0, 255]`\n",
    "* `pathlib.Path`: filesystem paths as represented by python’s standard library `pathlib`\n",
    "* `Enums`: User defined enums\n",
    "\n",
    "The following class defines fields with all simple types:"
   ]
  },
  {
   "cell_type": "code",
   "execution_count": 1,
   "metadata": {},
   "outputs": [],
   "source": [
    "from enum import Enum\n",
    "from dataclasses import dataclass\n",
    "import pathlib\n",
    "\n",
    "\n",
    "class Height(Enum):\n",
    "    SHORT = 0\n",
    "    TALL = 1\n",
    "\n",
    "\n",
    "@dataclass\n",
    "class SimpleTypes:\n",
    "    num: int = 10\n",
    "    pi: float = 3.1415\n",
    "    is_awesome: bool = True\n",
    "    height: Height = Height.SHORT\n",
    "    description: str = \"text\"\n",
    "    data: bytes = b\"bin_data\"\n",
    "    path: pathlib.Path = pathlib.Path(\"hello.txt\")"
   ]
  },
  {
   "attachments": {},
   "cell_type": "markdown",
   "metadata": {},
   "source": [
    "You can create a config based on the *SimpleTypes class* itself or *an instance of it*.\n",
    "\n",
    "Those would be equivalent by default, but the *Object* variant allows you to *set the values of specific fields during construction*."
   ]
  },
  {
   "cell_type": "code",
   "execution_count": 2,
   "metadata": {},
   "outputs": [
    {
     "name": "stdout",
     "output_type": "stream",
     "text": [
      "num: 20\n",
      "pi: 3.1415\n",
      "is_awesome: true\n",
      "height: TALL\n",
      "description: text\n",
      "data: !!binary |\n",
      "  YmluX2RhdGE=\n",
      "path: !!python/object/apply:pathlib.PosixPath\n",
      "- hello.txt\n",
      "\n"
     ]
    }
   ],
   "source": [
    "from omegaconf import OmegaConf\n",
    "\n",
    "conf1 = OmegaConf.structured(SimpleTypes)\n",
    "conf2 = OmegaConf.structured(SimpleTypes())\n",
    "\n",
    "# The two configs are identical in this case\n",
    "assert conf1 == conf2\n",
    "\n",
    "# But the second form allow for easy customization of the values:\n",
    "conf3 = OmegaConf.structured(SimpleTypes(num=20, height=Height.TALL))\n",
    "\n",
    "print(OmegaConf.to_yaml(conf3))"
   ]
  },
  {
   "attachments": {},
   "cell_type": "markdown",
   "metadata": {},
   "source": [
    "The resulting object is a regular OmegaConf `DictConfig`,\n",
    "> **except** that it will utilize the type information in the input class/object and will validate the data at runtime.\n",
    "\n",
    "The resulting object will also **rejects attempts to access or set fields that are not already defined** (similarly to configs with their to *Struct* flag set, but not recursive)."
   ]
  },
  {
   "cell_type": "code",
   "execution_count": 10,
   "metadata": {},
   "outputs": [
    {
     "name": "stdout",
     "output_type": "stream",
     "text": [
      "{'num': 10, 'pi': 3.1415, 'is_awesome': True, 'height': <Height.SHORT: 0>, 'description': 'text', 'data': b'bin_data', 'path': PosixPath('hello.txt')}\n"
     ]
    },
    {
     "data": {
      "text/plain": [
       "omegaconf.dictconfig.DictConfig"
      ]
     },
     "metadata": {},
     "output_type": "display_data"
    },
    {
     "name": "stdout",
     "output_type": "stream",
     "text": [
      "Key 'does_not_exist' not in 'SimpleTypes'\n",
      "    full_key: does_not_exist\n",
      "    object_type=SimpleTypes\n"
     ]
    }
   ],
   "source": [
    "conf = OmegaConf.structured(SimpleTypes)\n",
    "\n",
    "print(conf)\n",
    "display(type(conf))\n",
    "\n",
    "try:\n",
    "    conf.does_not_exist\n",
    "except AttributeError as e:\n",
    "    print(e)"
   ]
  },
  {
   "attachments": {},
   "cell_type": "markdown",
   "metadata": {},
   "source": [
    "## Static type checker support\n",
    "\n",
    "Python type annotation can be used by static type checkers like *Mypy/Pyre* or by IDEs like *PyCharm*."
   ]
  },
  {
   "cell_type": "code",
   "execution_count": 11,
   "metadata": {},
   "outputs": [
    {
     "name": "stdout",
     "output_type": "stream",
     "text": [
      "Value 'foo' of type 'str' could not be converted to Integer\n",
      "    full_key: num\n",
      "    object_type=SimpleTypes\n"
     ]
    }
   ],
   "source": [
    "from omegaconf import ValidationError\n",
    "\n",
    "\n",
    "conf: SimpleTypes = OmegaConf.structured(SimpleTypes)\n",
    "\n",
    "# Passes static type checking\n",
    "conf.description = \"text\"\n",
    "\n",
    "# Fails static type checking (but will also raise a Validation error)\n",
    "try:\n",
    "    conf.num = \"foo\"  # pyright: ignore\n",
    "except ValidationError as e:\n",
    "    print(e)"
   ]
  },
  {
   "attachments": {},
   "cell_type": "markdown",
   "metadata": {},
   "source": [
    "This is **duck-typing**; the actual object type of conf is `DictConfig`.\n",
    "\n",
    "You can access the *underlying type* using `OmegaConf.get_type()`:"
   ]
  },
  {
   "cell_type": "code",
   "execution_count": 12,
   "metadata": {},
   "outputs": [
    {
     "data": {
      "text/plain": [
       "'DictConfig'"
      ]
     },
     "execution_count": 12,
     "metadata": {},
     "output_type": "execute_result"
    }
   ],
   "source": [
    "type(conf).__name__"
   ]
  },
  {
   "cell_type": "code",
   "execution_count": 16,
   "metadata": {},
   "outputs": [
    {
     "data": {
      "text/plain": [
       "'SimpleTypes'"
      ]
     },
     "execution_count": 16,
     "metadata": {},
     "output_type": "execute_result"
    }
   ],
   "source": [
    "# NOTE: This is important to understand! Compare with the above line.\n",
    "OmegaConf.get_type(conf).__name__  # pyright: ignore"
   ]
  },
  {
   "attachments": {},
   "cell_type": "markdown",
   "metadata": {},
   "source": [
    "## Runtime type validation and conversion\n",
    "\n",
    "OmegaConf supports merging configs together, as well as overriding from the command line.\n",
    "\n",
    "This means *some mistakes can not be identified by static type checkers*, and **runtime validation is required**."
   ]
  },
  {
   "cell_type": "code",
   "execution_count": 17,
   "metadata": {},
   "outputs": [
    {
     "name": "stdout",
     "output_type": "stream",
     "text": [
      "Value 'foo' of type 'str' could not be converted to Integer\n",
      "    full_key: num\n",
      "    object_type=SimpleTypes\n"
     ]
    }
   ],
   "source": [
    "# This is okay, the string \"100\" can be converted to an int\n",
    "# Note that static type checkers will not like it and you should\n",
    "# avoid such explicit mistyped assignments.\n",
    "\n",
    "conf.num = \"100\"  # pyright: ignore\n",
    "assert conf.num == 100\n",
    "# NOTE: ^ Note that \"coercion\" exists similar to pydantic.\n",
    "\n",
    "try:\n",
    "    # This will fail at runtime because num is an int\n",
    "    # and foo cannot be converted to an int\n",
    "    # Note that the static type checker can't help here.\n",
    "    conf.merge_with_dotlist([\"num=foo\"])  # pyright: ignore\n",
    "\n",
    "except ValidationError as e:\n",
    "    print(e)"
   ]
  },
  {
   "attachments": {},
   "cell_type": "markdown",
   "metadata": {},
   "source": [
    "Runtime validation and conversion works for all supported types, including `Enum`s:"
   ]
  },
  {
   "cell_type": "code",
   "execution_count": 18,
   "metadata": {},
   "outputs": [],
   "source": [
    "conf.height = Height.TALL\n",
    "\n",
    "assert conf.height == Height.TALL\n",
    "\n",
    "# The name of Height.TALL is TALL\n",
    "conf.height = \"TALL\"  # pyright: ignore\n",
    "assert conf.height == Height.TALL\n",
    "\n",
    "# This works too\n",
    "conf.height = \"Height.TALL\"  # pyright: ignore\n",
    "assert conf.height == Height.TALL\n",
    "\n",
    "# The ordinal of Height.TALL is 1\n",
    "conf.height = 1  # pyright: ignore\n",
    "assert conf.height == Height.TALL"
   ]
  },
  {
   "attachments": {},
   "cell_type": "markdown",
   "metadata": {},
   "source": [
    "## Nesting structured configs\n",
    "\n",
    "Structured configs can be nested."
   ]
  },
  {
   "cell_type": "code",
   "execution_count": 19,
   "metadata": {},
   "outputs": [
    {
     "name": "stdout",
     "output_type": "stream",
     "text": [
      "name: ???\n",
      "admin:\n",
      "  name: ???\n",
      "  height: ???\n",
      "manager:\n",
      "  name: manager\n",
      "  height: TALL\n",
      "\n"
     ]
    }
   ],
   "source": [
    "from omegaconf import MISSING\n",
    "from dataclasses import field  # NOTE!\n",
    "\n",
    "\n",
    "@dataclass\n",
    "class User:\n",
    "    # A simple user class with two missing fields\n",
    "    name: str = MISSING\n",
    "    height: Height = MISSING\n",
    "\n",
    "\n",
    "@dataclass\n",
    "class DuperUser(User):\n",
    "    duper: bool = True\n",
    "\n",
    "\n",
    "# Group class contains two instances of User.\n",
    "@dataclass\n",
    "class Group:\n",
    "    name: str = MISSING\n",
    "\n",
    "    # data classes can be nested\n",
    "    admin: User = field(\n",
    "        default_factory=User\n",
    "    )  # NOTE: field > default factory pattern! (Python dataclasses thing).\n",
    "\n",
    "    # You can also specify different defaults for nested classes\n",
    "    manager: User = field(\n",
    "        default_factory=lambda: User(name=\"manager\", height=Height.TALL)\n",
    "    )\n",
    "    # NOTE: ^ field > default factory pattern! (Python dataclasses thing).\n",
    "\n",
    "\n",
    "conf: Group = OmegaConf.structured(Group)\n",
    "print(OmegaConf.to_yaml(conf))"
   ]
  },
  {
   "attachments": {},
   "cell_type": "markdown",
   "metadata": {},
   "source": [
    "OmegaConf will validate that assignment of nested objects is of the correct type:"
   ]
  },
  {
   "cell_type": "code",
   "execution_count": 20,
   "metadata": {},
   "outputs": [
    {
     "name": "stdout",
     "output_type": "stream",
     "text": [
      "Invalid type assigned: int is not a subclass of User. value: 10\n",
      "    full_key: manager\n",
      "    object_type=Group\n"
     ]
    }
   ],
   "source": [
    "try:\n",
    "    conf.manager = 10  # pyright: ignore\n",
    "except ValidationError as e:\n",
    "    print(e)"
   ]
  },
  {
   "cell_type": "markdown",
   "metadata": {},
   "source": [
    "You can assign subclasses:"
   ]
  },
  {
   "cell_type": "code",
   "execution_count": 21,
   "metadata": {},
   "outputs": [],
   "source": [
    "conf.manager = DuperUser()\n",
    "\n",
    "assert conf.manager.duper == True"
   ]
  },
  {
   "attachments": {},
   "cell_type": "markdown",
   "metadata": {},
   "source": [
    "## Lists\n",
    "\n",
    "Structured Config fields annotated with `typing.List` or `typing.Tuple` can hold any type supported by OmegaConf\n",
    "(`int`, `float`, `bool`, `str`, `bytes`, `pathlib.Path`, `Enum` or *Structured configs*)."
   ]
  },
  {
   "cell_type": "code",
   "execution_count": 22,
   "metadata": {},
   "outputs": [],
   "source": [
    "from dataclasses import dataclass, field\n",
    "from typing import List, Tuple  # NOTE.\n",
    "\n",
    "\n",
    "@dataclass\n",
    "class User:\n",
    "    name: str = MISSING\n",
    "\n",
    "\n",
    "@dataclass\n",
    "class ListsExample:\n",
    "    # Typed list can hold Any, int, float, bool, str,\n",
    "    # bytes, pathlib.Path and Enums as well as arbitrary Structured configs.\n",
    "    ints: List[int] = field(default_factory=lambda: [10, 20, 30])\n",
    "    bools: Tuple[bool, bool] = field(default_factory=lambda: (True, False))\n",
    "    users: List[User] = field(default_factory=lambda: [User(name=\"omry\")])"
   ]
  },
  {
   "attachments": {},
   "cell_type": "markdown",
   "metadata": {},
   "source": [
    "OmegaConf verifies at runtime that your Lists contains only values of the correct type.\n",
    "\n",
    "In the example below, the OmegaConf object conf (which is actually an instance of DictConfig) is duck-typed as `ListExample`."
   ]
  },
  {
   "cell_type": "code",
   "execution_count": 23,
   "metadata": {},
   "outputs": [
    {
     "name": "stdout",
     "output_type": "stream",
     "text": [
      "Invalid type assigned: int is not a subclass of User. value: 10\n",
      "    full_key: users[2]\n",
      "    reference_type=List[User]\n",
      "    object_type=list\n"
     ]
    }
   ],
   "source": [
    "conf: ListsExample = OmegaConf.structured(ListsExample)\n",
    "\n",
    "# Okay, 10 is an int\n",
    "conf.ints.append(10)\n",
    "\n",
    "# Okay, \"20\" can be converted to an int\n",
    "conf.ints.append(\"20\")  # pyright: ignore\n",
    "\n",
    "conf.bools.append(True)  # pyright: ignore\n",
    "conf.users.append(User(name=\"Joe\"))\n",
    "\n",
    "# Not okay, 10 cannot be converted to a User\n",
    "try:\n",
    "    conf.users.append(10)  # pyright: ignore\n",
    "except ValidationError as e:\n",
    "    print(e)"
   ]
  },
  {
   "attachments": {},
   "cell_type": "markdown",
   "metadata": {},
   "source": [
    "## Dictionaries\n",
    "\n",
    "Dictionaries are supported via annotation of structured config fields with `typing.Dict`.\n",
    "\n",
    "*Keys* must be typed as one of `str`, `int`, `Enum`, `float`, `bytes`, or `bool`.\n",
    "\n",
    "*Values* can be any of the types supported by OmegaConf (`Any`, `int`, `float`, `bool`, `bytes`, `pathlib.Path`, `str` and `Enum` as well as arbitrary *Structured configs*)"
   ]
  },
  {
   "cell_type": "code",
   "execution_count": 25,
   "metadata": {},
   "outputs": [],
   "source": [
    "from dataclasses import dataclass, field\n",
    "from typing import Dict\n",
    "\n",
    "\n",
    "@dataclass\n",
    "class DictExample:\n",
    "    ints: Dict[str, int] = field(default_factory=lambda: {\"a\": 10, \"b\": 20, \"c\": 30})\n",
    "    bools: Dict[str, bool] = field(default_factory=lambda: {\"Uno\": True, \"Zoro\": False})\n",
    "    users: Dict[str, User] = field(default_factory=lambda: {\"omry\": User(name=\"omry\")})"
   ]
  },
  {
   "attachments": {},
   "cell_type": "markdown",
   "metadata": {},
   "source": [
    "Like with Lists, the types of values contained in Dicts are verified at runtime."
   ]
  },
  {
   "cell_type": "code",
   "execution_count": 26,
   "metadata": {},
   "outputs": [
    {
     "name": "stdout",
     "output_type": "stream",
     "text": [
      "Invalid type assigned: int is not a subclass of User. value: 10\n",
      "    full_key: Joe\n",
      "    object_type=None\n"
     ]
    }
   ],
   "source": [
    "conf: DictExample = OmegaConf.structured(DictExample)\n",
    "\n",
    "# Okay, correct type is assigned\n",
    "conf.ints[\"d\"] = 10\n",
    "\n",
    "conf.bools[\"Dos\"] = True\n",
    "conf.users[\"James\"] = User(name=\"Bond\")\n",
    "\n",
    "# Not okay, 10 cannot be assigned to a User\n",
    "try:\n",
    "    conf.users[\"Joe\"] = 10  # pyright: ignore\n",
    "except ValidationError as e:\n",
    "    print(e)"
   ]
  },
  {
   "attachments": {},
   "cell_type": "markdown",
   "metadata": {},
   "source": [
    "## Nested dict and list annotations\n",
    "\n",
    "Dict and List annotations can be nested flexibly:"
   ]
  },
  {
   "cell_type": "code",
   "execution_count": 27,
   "metadata": {},
   "outputs": [
    {
     "name": "stdout",
     "output_type": "stream",
     "text": [
      "dict_of_dict:\n",
      "  foo:\n",
      "    bar: 123\n",
      "list_of_list:\n",
      "- - 123\n",
      "dict_of_list: ???\n",
      "list_of_dict: ???\n",
      "\n"
     ]
    }
   ],
   "source": [
    "@dataclass\n",
    "class NestedContainers:\n",
    "    dict_of_dict: Dict[str, Dict[str, int]]\n",
    "    list_of_list: List[List[int]] = field(default_factory=lambda: [[123]])\n",
    "    dict_of_list: Dict[str, List[int]] = MISSING\n",
    "    list_of_dict: List[Dict[str, int]] = MISSING\n",
    "\n",
    "\n",
    "cfg = OmegaConf.structured(NestedContainers(dict_of_dict={\"foo\": {\"bar\": 123}}))\n",
    "\n",
    "print(OmegaConf.to_yaml(cfg))"
   ]
  },
  {
   "cell_type": "code",
   "execution_count": 28,
   "metadata": {},
   "outputs": [
    {
     "name": "stdout",
     "output_type": "stream",
     "text": [
      "Invalid type assigned: list is not a subclass of Dict[str, int]. value: ['whoops']\n",
      "    full_key: 0\n",
      "    object_type=None\n"
     ]
    }
   ],
   "source": [
    "try:\n",
    "    cfg.list_of_dict = [[\"whoops\"]]  # not a list of dicts\n",
    "except ValidationError as e:\n",
    "    print(e)"
   ]
  },
  {
   "attachments": {},
   "cell_type": "markdown",
   "metadata": {},
   "source": [
    "## Unions\n",
    "\n",
    "You can use `typing.Union` to annotate unions of **Simple types** (⚠️)."
   ]
  },
  {
   "cell_type": "code",
   "execution_count": 31,
   "metadata": {},
   "outputs": [
    {
     "name": "stdout",
     "output_type": "stream",
     "text": [
      "Value 'b'binary'' of type 'bytes' is incompatible with type hint 'Union[float, bool]'\n",
      "    full_key: u\n",
      "    object_type=HasUnion\n",
      "Value 'abc' of type 'str' is incompatible with type hint 'Union[float, bool]'\n",
      "    full_key: u\n",
      "    object_type=None\n"
     ]
    }
   ],
   "source": [
    "from typing import Union\n",
    "\n",
    "\n",
    "@dataclass\n",
    "class HasUnion:\n",
    "    u: Union[float, bool] = 10.1\n",
    "\n",
    "\n",
    "cfg = OmegaConf.structured(HasUnion)\n",
    "\n",
    "assert cfg.u == 10.1\n",
    "cfg.u = True  # ok\n",
    "\n",
    "try:\n",
    "    cfg.u = b\"binary\"  # bytes not compatible with union\n",
    "except ValidationError as e:\n",
    "    print(e)\n",
    "\n",
    "try:\n",
    "    OmegaConf.structured(HasUnion(\"abc\"))  # pyright: ignore  # str not compatible\n",
    "except ValidationError as e:\n",
    "    print(e)"
   ]
  },
  {
   "attachments": {},
   "cell_type": "markdown",
   "metadata": {},
   "source": [
    "If any argument of a `Union` type hint is `Optional`, the whole union is considered optional.\n",
    "\n",
    "ℹ️ For example, OmegaConf treats all four of the following type hints as equivalent:\n",
    "* `Optional[Union[int, str]]`\n",
    "* `Union[Optional[int], str]`\n",
    "* `Union[int, str, None]`\n",
    "* `Union[int, str, type(None)]`\n",
    "\n",
    "**Ordinarily**, assignment to a structured config field results in coercion of the assigned value to the field’s type.\n",
    "\n",
    "For example, assigning an integer to a field typed as `str` results in the integer being converted to a string:"
   ]
  },
  {
   "cell_type": "code",
   "execution_count": 32,
   "metadata": {},
   "outputs": [],
   "source": [
    "@dataclass\n",
    "class HasStr:\n",
    "    s: str\n",
    "\n",
    "\n",
    "cfg = OmegaConf.structured(HasStr)\n",
    "cfg.s = 10.1\n",
    "\n",
    "assert cfg.s == \"10.1\"  # The assigned value has been converted to a string"
   ]
  },
  {
   "attachments": {},
   "cell_type": "markdown",
   "metadata": {},
   "source": [
    "> ⚠️ When dealing with `Union` types, **however**, *conversion is disabled so as to avoid ambiguity*.\n",
    "\n",
    "Values assigned to a union-typed field of a structured config must precisely match one of the types in the `Union` annotation:"
   ]
  },
  {
   "cell_type": "code",
   "execution_count": 33,
   "metadata": {},
   "outputs": [
    {
     "name": "stdout",
     "output_type": "stream",
     "text": [
      "Value '123' of type 'int' is incompatible with type hint 'Union[str, float]'\n",
      "    full_key: u\n",
      "    object_type=StrOrInt\n"
     ]
    }
   ],
   "source": [
    "@dataclass\n",
    "class StrOrInt:\n",
    "    u: Union[str, float]  # NOTE.\n",
    "\n",
    "\n",
    "cfg = OmegaConf.structured(StrOrInt)\n",
    "\n",
    "cfg.u = 10.1\n",
    "assert cfg.u == 10.1  # NOTE: The assigned value remains a `float`.\n",
    "\n",
    "cfg.u = \"10.1\"\n",
    "assert cfg.u == \"10.1\"  # NOTE: The assigned value remains a `str`.\n",
    "\n",
    "try:\n",
    "    cfg.u = 123  # Conversion from `int` to `float` does not occur.\n",
    "except ValidationError as e:\n",
    "    print(e)"
   ]
  },
  {
   "attachments": {},
   "cell_type": "markdown",
   "metadata": {},
   "source": [
    "## Other special features\n",
    "\n",
    "OmegaConf supports field modifiers such as `MISSING` and `Optional`."
   ]
  },
  {
   "cell_type": "code",
   "execution_count": 34,
   "metadata": {},
   "outputs": [],
   "source": [
    "from typing import Optional\n",
    "from omegaconf import MISSING\n",
    "\n",
    "\n",
    "@dataclass\n",
    "class Modifiers:\n",
    "    num: int = 10\n",
    "    optional_num: Optional[int] = 10  # NOTE.\n",
    "    another_num: int = MISSING  # NOTE.\n",
    "    optional_dict: Optional[Dict[str, int]] = None\n",
    "    list_optional: List[Optional[int]] = field(\n",
    "        default_factory=lambda: [10, MISSING, None]\n",
    "    )\n",
    "\n",
    "\n",
    "conf: Modifiers = OmegaConf.structured(Modifiers)"
   ]
  },
  {
   "attachments": {},
   "cell_type": "markdown",
   "metadata": {},
   "source": [
    "> Note for Python3.6 users: pickling structured configs with complex type annotations, such as dict-of-list or list-of-optional, is not supported."
   ]
  },
  {
   "attachments": {},
   "cell_type": "markdown",
   "metadata": {},
   "source": [
    "### Mandatory missing values\n",
    "\n",
    "Fields assigned the constant `MISSING` do not have a value and the value **must be set prior to accessing the field**.\n",
    "\n",
    "Otherwise a `MissingMandatoryValue` exception is raised."
   ]
  },
  {
   "cell_type": "code",
   "execution_count": 35,
   "metadata": {},
   "outputs": [
    {
     "name": "stdout",
     "output_type": "stream",
     "text": [
      "Missing mandatory value: another_num\n",
      "    full_key: another_num\n",
      "    object_type=Modifiers\n"
     ]
    }
   ],
   "source": [
    "from omegaconf import MissingMandatoryValue\n",
    "\n",
    "try:\n",
    "    x = conf.another_num\n",
    "except MissingMandatoryValue as e:\n",
    "    print(e)\n",
    "\n",
    "conf.another_num = 20\n",
    "assert conf.another_num == 20"
   ]
  },
  {
   "attachments": {},
   "cell_type": "markdown",
   "metadata": {},
   "source": [
    "### Optional fields"
   ]
  },
  {
   "cell_type": "code",
   "execution_count": 37,
   "metadata": {},
   "outputs": [
    {
     "name": "stdout",
     "output_type": "stream",
     "text": [
      "field 'num' is not Optional\n",
      "    full_key: num\n",
      "    object_type=Modifiers\n"
     ]
    }
   ],
   "source": [
    "try:\n",
    "    # regular fields cannot be assigned None\n",
    "    conf.num = None  # pyright: ignore\n",
    "except ValidationError as e:\n",
    "    print(e)\n",
    "\n",
    "conf.optional_num = None\n",
    "assert conf.optional_num is None\n",
    "assert conf.list_optional[2] is None"
   ]
  },
  {
   "attachments": {},
   "cell_type": "markdown",
   "metadata": {},
   "source": [
    "### Interpolations\n",
    "\n",
    "Variable interpolation works normally with Structured configs, **but static type checkers may object to you assigning a string to another type**.\n",
    "\n",
    "To **work around** this, use the *special functions* `omegaconf.SI` and `omegaconf.II` described below."
   ]
  },
  {
   "cell_type": "code",
   "execution_count": 38,
   "metadata": {},
   "outputs": [],
   "source": [
    "from omegaconf import SI, II\n",
    "\n",
    "\n",
    "@dataclass\n",
    "class Interpolation:\n",
    "    val: int = 100\n",
    "\n",
    "    # This will work, but static type checkers will complain\n",
    "    a: int = \"${val}\"  # NOTE: As you can see, pyright complains here.\n",
    "\n",
    "    # This is equivalent to the above, but static type checkers\n",
    "    # will not complain\n",
    "    b: int = SI(\"${val}\")  # NOTE: ... but doesn't complain here.\n",
    "\n",
    "    # This is syntactic sugar; the input string is\n",
    "    # wrapped with ${} automatically.\n",
    "    c: int = II(\"val\")\n",
    "\n",
    "\n",
    "conf: Interpolation = OmegaConf.structured(Interpolation)\n",
    "\n",
    "assert conf.a == 100\n",
    "assert conf.b == 100\n",
    "assert conf.c == 100"
   ]
  },
  {
   "attachments": {},
   "cell_type": "markdown",
   "metadata": {},
   "source": [
    "Interpolated values are validated, and converted when possible, to the annotated type when the interpolation is accessed, e.g:"
   ]
  },
  {
   "cell_type": "code",
   "execution_count": 41,
   "metadata": {},
   "outputs": [
    {
     "data": {
      "text/plain": [
       "omegaconf.errors.InterpolationValidationError"
      ]
     },
     "metadata": {},
     "output_type": "display_data"
    },
    {
     "name": "stdout",
     "output_type": "stream",
     "text": [
      "While dereferencing interpolation '${str_key}': Value 'string' of type 'str' could not be converted to Integer\n",
      "    full_key: int_key\n",
      "    object_type=Interpolation\n"
     ]
    }
   ],
   "source": [
    "from omegaconf import II\n",
    "\n",
    "\n",
    "@dataclass\n",
    "class Interpolation:\n",
    "    str_key: str = \"string\"\n",
    "    int_key: int = II(\"str_key\")\n",
    "\n",
    "\n",
    "cfg = OmegaConf.structured(Interpolation)\n",
    "\n",
    "try:\n",
    "    cfg.int_key  # fails due to type mismatch\n",
    "except Exception as e:\n",
    "    display(type(e))\n",
    "    print(e)"
   ]
  },
  {
   "cell_type": "code",
   "execution_count": 42,
   "metadata": {},
   "outputs": [],
   "source": [
    "cfg.str_key = \"1234\"  # string value\n",
    "\n",
    "assert cfg.int_key == 1234  # automatically convert str to int"
   ]
  },
  {
   "attachments": {},
   "cell_type": "markdown",
   "metadata": {},
   "source": [
    "> ⚠️ Annoyance / missing functionality\n",
    ">\n",
    "> Note however that this validation step is currently skipped for container node interpolations:"
   ]
  },
  {
   "cell_type": "code",
   "execution_count": 44,
   "metadata": {},
   "outputs": [],
   "source": [
    "@dataclass\n",
    "class NotValidated:\n",
    "    some_int: int = 0\n",
    "    some_dict: Dict[str, str] = II(\"some_int\")\n",
    "\n",
    "\n",
    "cfg = OmegaConf.structured(NotValidated)\n",
    "\n",
    "# NOTE:\n",
    "assert cfg.some_dict == 0  # type mismatch, but no error"
   ]
  },
  {
   "attachments": {},
   "cell_type": "markdown",
   "metadata": {},
   "source": [
    "### Frozen classes\n",
    "\n",
    "**Frozen** dataclasses and attr classes are supported via OmegaConf *Read-only flag*, which makes the entire config node and all of its child nodes read-only."
   ]
  },
  {
   "cell_type": "code",
   "execution_count": 45,
   "metadata": {},
   "outputs": [
    {
     "name": "stdout",
     "output_type": "stream",
     "text": [
      "Cannot change read-only config container\n",
      "    full_key: x\n",
      "    object_type=FrozenClass\n"
     ]
    }
   ],
   "source": [
    "from dataclasses import dataclass, field\n",
    "from typing import List\n",
    "from omegaconf import ReadonlyConfigError\n",
    "\n",
    "\n",
    "@dataclass(frozen=True)  # NOTE.\n",
    "class FrozenClass:\n",
    "    x: int = 10\n",
    "    list: List = field(default_factory=lambda: [1, 2, 3])\n",
    "\n",
    "\n",
    "conf = OmegaConf.structured(FrozenClass)\n",
    "\n",
    "try:\n",
    "    conf.x = 20\n",
    "except ReadonlyConfigError as e:\n",
    "    print(e)"
   ]
  },
  {
   "cell_type": "code",
   "execution_count": 46,
   "metadata": {},
   "outputs": [
    {
     "name": "stdout",
     "output_type": "stream",
     "text": [
      "ListConfig is read-only\n",
      "    full_key: list[0]\n",
      "    reference_type=List[Any]\n",
      "    object_type=list\n"
     ]
    }
   ],
   "source": [
    "# The read-only flag is recursive:\n",
    "\n",
    "try:\n",
    "    conf.list[0] = 20\n",
    "except ReadonlyConfigError as e:\n",
    "    print(e)"
   ]
  },
  {
   "attachments": {},
   "cell_type": "markdown",
   "metadata": {},
   "source": [
    "## Merging with other configs\n",
    "\n",
    "Once an OmegaConf object is created, it can be merged with others regardless of its source.\n",
    "\n",
    "OmegaConf configs created from *Structured configs* contains type information that is enforced at runtime.\n",
    "\n",
    "> This can be used to **validate config files based on a *schema* specified in a structured config class**.\n",
    "\n",
    "`example.yaml` file:\n",
    "```yaml\n",
    "server:\n",
    "  port: 80\n",
    "log:\n",
    "  file: ???\n",
    "  rotation: 3600\n",
    "users:\n",
    "  - user1\n",
    "  - user2\n",
    "```"
   ]
  },
  {
   "attachments": {},
   "cell_type": "markdown",
   "metadata": {},
   "source": [
    "A *Schema* for the above config can be defined like this."
   ]
  },
  {
   "cell_type": "code",
   "execution_count": 47,
   "metadata": {},
   "outputs": [],
   "source": [
    "@dataclass\n",
    "class Server:\n",
    "    port: int = MISSING\n",
    "\n",
    "\n",
    "@dataclass\n",
    "class Log:\n",
    "    file: str = MISSING\n",
    "    rotation: int = MISSING\n",
    "\n",
    "\n",
    "@dataclass\n",
    "class MyConfig:\n",
    "    server: Server = field(\n",
    "        default_factory=Server\n",
    "    )  # NOTE the field > default_factory pattern.\n",
    "    log: Log = field(default_factory=Log)\n",
    "    users: List[int] = field(\n",
    "        default_factory=list\n",
    "    )  # NOTE: intentional error for the sake of the example."
   ]
  },
  {
   "attachments": {},
   "cell_type": "markdown",
   "metadata": {},
   "source": [
    "I intentionally made an error in the type of the users list (`List[int]` should be `List[str]`).\n",
    "\n",
    "This will cause a validation error when merging the config from the file with that from the scheme."
   ]
  },
  {
   "cell_type": "code",
   "execution_count": 48,
   "metadata": {},
   "outputs": [
    {
     "name": "stdout",
     "output_type": "stream",
     "text": [
      "Value 'user1' of type 'str' could not be converted to Integer\n",
      "    full_key: users[0]\n",
      "    reference_type=List[int]\n",
      "    object_type=list\n"
     ]
    }
   ],
   "source": [
    "schema = OmegaConf.structured(MyConfig)\n",
    "\n",
    "conf = OmegaConf.load(\"source/example.yaml\")\n",
    "\n",
    "try:\n",
    "    OmegaConf.merge(schema, conf)\n",
    "except ValidationError as e:\n",
    "    print(e)"
   ]
  },
  {
   "attachments": {},
   "cell_type": "markdown",
   "metadata": {},
   "source": [
    "## Using Metadata to Ignore Fields\n",
    "\n",
    "OmegaConf inspects the metadata of `dataclass` / `attr` class fields, **ignoring any fields where `metadata[\"omegaconf_ignore\"]`** is `True`.\n",
    "\n",
    "When defining a `dataclass` or `attr` class, fields **can be given metadata** by passing the `metadata` keyword argument to the `dataclasses.field` function or the `attrs.field` function:"
   ]
  },
  {
   "cell_type": "code",
   "execution_count": 50,
   "metadata": {},
   "outputs": [
    {
     "data": {
      "text/plain": [
       "{'normal_field': 1, 'field_not_ignored': 3}"
      ]
     },
     "execution_count": 50,
     "metadata": {},
     "output_type": "execute_result"
    }
   ],
   "source": [
    "@dataclass\n",
    "class HasIgnoreMetadata:\n",
    "    normal_field: int = 1\n",
    "    field_ignored: int = field(\n",
    "        default=2, metadata={\"omegaconf_ignore\": True}\n",
    "    )  # NOTE metadata.\n",
    "    field_not_ignored: int = field(\n",
    "        default=3, metadata={\"omegaconf_ignore\": False}\n",
    "    )  # NOTE metadata.\n",
    "\n",
    "\n",
    "cfg = OmegaConf.create(HasIgnoreMetadata)  # pyright: ignore\n",
    "\n",
    "cfg"
   ]
  },
  {
   "attachments": {},
   "cell_type": "markdown",
   "metadata": {},
   "source": [
    "In the above example, `field_ignored` is ignored by OmegaConf."
   ]
  }
 ],
 "metadata": {
  "kernelspec": {
   "display_name": "learn_py38_hydra",
   "language": "python",
   "name": "python3"
  },
  "language_info": {
   "codemirror_mode": {
    "name": "ipython",
    "version": 3
   },
   "file_extension": ".py",
   "mimetype": "text/x-python",
   "name": "python",
   "nbconvert_exporter": "python",
   "pygments_lexer": "ipython3",
   "version": "3.8.15"
  },
  "orig_nbformat": 4,
  "vscode": {
   "interpreter": {
    "hash": "280ec2c2813ce3888aa183717bfa587096b5fe0e3d4b5d3c4156b9ddf0e32161"
   }
  }
 },
 "nbformat": 4,
 "nbformat_minor": 2
}
