{
 "cells": [
  {
   "attachments": {},
   "cell_type": "markdown",
   "metadata": {},
   "source": [
    "# Usage\n",
    "\n",
    "Following: https://omegaconf.readthedocs.io/en/latest/usage.html\n",
    "\n",
    "## Installation\n",
    "\n",
    "```sh\n",
    "pip install omegaconf\n",
    "```\n",
    "\n",
    "(!) Python 3.6+"
   ]
  },
  {
   "attachments": {},
   "cell_type": "markdown",
   "metadata": {},
   "source": [
    "## Creating\n",
    "\n",
    "You can create OmegaConf objects from multiple sources."
   ]
  },
  {
   "attachments": {},
   "cell_type": "markdown",
   "metadata": {},
   "source": [
    "### Empty"
   ]
  },
  {
   "cell_type": "code",
   "execution_count": 1,
   "metadata": {},
   "outputs": [
    {
     "name": "stdout",
     "output_type": "stream",
     "text": [
      "{}\n",
      "\n"
     ]
    }
   ],
   "source": [
    "from omegaconf import OmegaConf\n",
    "\n",
    "conf = OmegaConf.create()\n",
    "\n",
    "print(OmegaConf.to_yaml(conf))"
   ]
  },
  {
   "attachments": {},
   "cell_type": "markdown",
   "metadata": {},
   "source": [
    "### From a dictionary"
   ]
  },
  {
   "cell_type": "code",
   "execution_count": 3,
   "metadata": {},
   "outputs": [
    {
     "name": "stdout",
     "output_type": "stream",
     "text": [
      "k: v\n",
      "list:\n",
      "- 1\n",
      "- a: '1'\n",
      "  b: '2'\n",
      "  3: c\n",
      "\n"
     ]
    }
   ],
   "source": [
    "conf = OmegaConf.create({\"k\": \"v\", \"list\": [1, {\"a\": \"1\", \"b\": \"2\", 3: \"c\"}]})\n",
    "\n",
    "print(OmegaConf.to_yaml(conf))\n",
    "\n",
    "# NOTE how yaml handles the list below."
   ]
  },
  {
   "cell_type": "code",
   "execution_count": 4,
   "metadata": {},
   "outputs": [
    {
     "name": "stdout",
     "output_type": "stream",
     "text": [
      "{'key': 'str', 123: 'int', True: 'bool', 3.14: 'float', <Color.RED: 1>: 'Color', b'123': 'bytes'}\n"
     ]
    }
   ],
   "source": [
    "# Here is an example of various supported key types:\n",
    "\n",
    "from enum import Enum\n",
    "\n",
    "\n",
    "class Color(Enum):\n",
    "    RED = 1\n",
    "    BLUE = 2\n",
    "\n",
    "\n",
    "conf = OmegaConf.create(\n",
    "    {\n",
    "        \"key\": \"str\",\n",
    "        123: \"int\",\n",
    "        True: \"bool\",\n",
    "        3.14: \"float\",\n",
    "        Color.RED: \"Color\",\n",
    "        b\"123\": \"bytes\",\n",
    "    }\n",
    ")\n",
    "\n",
    "print(conf)"
   ]
  },
  {
   "attachments": {},
   "cell_type": "markdown",
   "metadata": {},
   "source": [
    "> OmegaConf supports `str`, `int`, `bool`, `float`, `bytes`, and `Enum` as **dictionary key types**."
   ]
  },
  {
   "cell_type": "markdown",
   "metadata": {},
   "source": [
    "### From a list"
   ]
  },
  {
   "cell_type": "code",
   "execution_count": 5,
   "metadata": {},
   "outputs": [
    {
     "name": "stdout",
     "output_type": "stream",
     "text": [
      "- 1\n",
      "- a: 10\n",
      "  b:\n",
      "    a: 10\n",
      "    123: int_key\n",
      "\n"
     ]
    }
   ],
   "source": [
    "conf = OmegaConf.create([1, {\"a\": 10, \"b\": {\"a\": 10, 123: \"int_key\"}}])\n",
    "\n",
    "print(OmegaConf.to_yaml(conf))"
   ]
  },
  {
   "attachments": {},
   "cell_type": "markdown",
   "metadata": {},
   "source": [
    "### From a YAML file"
   ]
  },
  {
   "cell_type": "code",
   "execution_count": 6,
   "metadata": {},
   "outputs": [
    {
     "name": "stdout",
     "output_type": "stream",
     "text": [
      "server:\n",
      "  port: 80\n",
      "log:\n",
      "  file: ???\n",
      "  rotation: 3600\n",
      "users:\n",
      "- user1\n",
      "- user2\n",
      "\n"
     ]
    }
   ],
   "source": [
    "conf = OmegaConf.load(\"source/example.yaml\")\n",
    "\n",
    "# Output is identical to the YAML file\n",
    "print(OmegaConf.to_yaml(conf))"
   ]
  },
  {
   "attachments": {},
   "cell_type": "markdown",
   "metadata": {},
   "source": [
    "### From a YAML string"
   ]
  },
  {
   "cell_type": "code",
   "execution_count": 7,
   "metadata": {},
   "outputs": [
    {
     "name": "stdout",
     "output_type": "stream",
     "text": [
      "a: b\n",
      "b: c\n",
      "list:\n",
      "- item1\n",
      "- item2\n",
      "123: 456\n",
      "\n"
     ]
    }
   ],
   "source": [
    "s = \"\"\"\n",
    "a: b\n",
    "b: c\n",
    "list:\n",
    "- item1\n",
    "- item2\n",
    "123: 456\n",
    "\"\"\"\n",
    "\n",
    "conf = OmegaConf.create(s)\n",
    "\n",
    "print(OmegaConf.to_yaml(conf))"
   ]
  },
  {
   "attachments": {},
   "cell_type": "markdown",
   "metadata": {},
   "source": [
    "### From a dot-list"
   ]
  },
  {
   "cell_type": "code",
   "execution_count": 8,
   "metadata": {},
   "outputs": [
    {
     "name": "stdout",
     "output_type": "stream",
     "text": [
      "a:\n",
      "  aa:\n",
      "    aaa: 1\n",
      "    bbb: 2\n",
      "  bb:\n",
      "    aaa: 3\n",
      "    bbb: 4\n",
      "\n"
     ]
    }
   ],
   "source": [
    "dot_list = [\"a.aa.aaa=1\", \"a.aa.bbb=2\", \"a.bb.aaa=3\", \"a.bb.bbb=4\"]\n",
    "\n",
    "conf = OmegaConf.from_dotlist(dot_list)\n",
    "\n",
    "print(OmegaConf.to_yaml(conf))"
   ]
  },
  {
   "attachments": {},
   "cell_type": "markdown",
   "metadata": {},
   "source": [
    "### From command line arguments"
   ]
  },
  {
   "cell_type": "code",
   "execution_count": 9,
   "metadata": {},
   "outputs": [
    {
     "name": "stdout",
     "output_type": "stream",
     "text": [
      "server:\n",
      "  port: 82\n",
      "log:\n",
      "  file: log2.txt\n",
      "\n"
     ]
    }
   ],
   "source": [
    "# Simulating command line arguments\n",
    "import sys\n",
    "\n",
    "sys.argv = [\"your-program.py\", \"server.port=82\", \"log.file=log2.txt\"]\n",
    "\n",
    "conf = OmegaConf.from_cli()\n",
    "\n",
    "print(OmegaConf.to_yaml(conf))"
   ]
  },
  {
   "attachments": {},
   "cell_type": "markdown",
   "metadata": {},
   "source": [
    "### From structured config\n",
    "\n",
    "ℹ️ You can create OmegaConf objects from *structured config classes or objects*.\n",
    "\n",
    "This provides static and runtime type safety.\n",
    "\n",
    "See [Structured Configs](https://omegaconf.readthedocs.io/en/latest/structured_config.html) for more details, or keep reading for a minimal example."
   ]
  },
  {
   "cell_type": "code",
   "execution_count": 10,
   "metadata": {},
   "outputs": [
    {
     "name": "stdout",
     "output_type": "stream",
     "text": [
      "port: 80\n",
      "host: localhost\n",
      "\n"
     ]
    }
   ],
   "source": [
    "from dataclasses import dataclass\n",
    "\n",
    "\n",
    "@dataclass\n",
    "class MyConfig:  # NOTE.\n",
    "    port: int = 80\n",
    "    host: str = \"localhost\"\n",
    "\n",
    "\n",
    "# ⚠️ For strict typing purposes, prefer OmegaConf.structured() when creating structured configs\n",
    "conf = OmegaConf.structured(MyConfig)  # NOTE: From class.\n",
    "\n",
    "print(OmegaConf.to_yaml(conf))"
   ]
  },
  {
   "cell_type": "code",
   "execution_count": 11,
   "metadata": {},
   "outputs": [
    {
     "name": "stdout",
     "output_type": "stream",
     "text": [
      "port: 443\n",
      "host: localhost\n",
      "\n"
     ]
    }
   ],
   "source": [
    "# You can use an object to initialize the config as well.\n",
    "\n",
    "conf = OmegaConf.structured(MyConfig(port=443))  # NOTE: From object.\n",
    "\n",
    "print(OmegaConf.to_yaml(conf))"
   ]
  },
  {
   "cell_type": "code",
   "execution_count": 12,
   "metadata": {},
   "outputs": [
    {
     "name": "stdout",
     "output_type": "stream",
     "text": [
      "Value 'oops' of type 'str' could not be converted to Integer\n",
      "    full_key: port\n",
      "    object_type=MyConfig\n"
     ]
    }
   ],
   "source": [
    "# OmegaConf objects constructed from Structured classes provide runtime type safety.\n",
    "\n",
    "conf.port = 42  # Ok, type matches\n",
    "conf.port = \"1080\"  # Ok! \"1080\" can be converted to an int\n",
    "\n",
    "try:\n",
    "    conf.port = \"oops\"  # \"oops\" cannot be converted to an int\n",
    "except Exception as e:\n",
    "    print(e)"
   ]
  },
  {
   "attachments": {},
   "cell_type": "markdown",
   "metadata": {},
   "source": [
    "In addition, the config class can be *used as type annotation* for **static type checkers or IDEs**:\n",
    "\n",
    "```python\n",
    "def foo(conf: MyConfig):\n",
    "    print(conf.port) # passes static type checker\n",
    "    print(conf.pork) # fails static type checker\n",
    "```"
   ]
  },
  {
   "attachments": {},
   "cell_type": "markdown",
   "metadata": {},
   "source": [
    "## Access and manipulation\n",
    "\n",
    "Input YAML file for this section:\n",
    "```yaml\n",
    "server:\n",
    "  port: 80\n",
    "log:\n",
    "  file: ???\n",
    "  rotation: 3600\n",
    "users:\n",
    "  - user1\n",
    "  - user2\n",
    "```\n",
    "\n",
    "Or, `source/example.yaml`."
   ]
  },
  {
   "cell_type": "code",
   "execution_count": 14,
   "metadata": {},
   "outputs": [],
   "source": [
    "conf = OmegaConf.load(\"./source/example.yaml\")"
   ]
  },
  {
   "attachments": {},
   "cell_type": "markdown",
   "metadata": {},
   "source": [
    "### Access"
   ]
  },
  {
   "cell_type": "code",
   "execution_count": 15,
   "metadata": {},
   "outputs": [
    {
     "data": {
      "text/plain": [
       "80"
      ]
     },
     "execution_count": 15,
     "metadata": {},
     "output_type": "execute_result"
    }
   ],
   "source": [
    "# object style access of dictionary elements\n",
    "conf.server.port"
   ]
  },
  {
   "cell_type": "code",
   "execution_count": 16,
   "metadata": {},
   "outputs": [
    {
     "data": {
      "text/plain": [
       "3600"
      ]
     },
     "execution_count": 16,
     "metadata": {},
     "output_type": "execute_result"
    }
   ],
   "source": [
    "# dictionary style access\n",
    "conf[\"log\"][\"rotation\"]  # pyright: ignore"
   ]
  },
  {
   "cell_type": "code",
   "execution_count": 17,
   "metadata": {},
   "outputs": [
    {
     "data": {
      "text/plain": [
       "'user1'"
      ]
     },
     "execution_count": 17,
     "metadata": {},
     "output_type": "execute_result"
    }
   ],
   "source": [
    "# items in list\n",
    "conf.users[0]"
   ]
  },
  {
   "attachments": {},
   "cell_type": "markdown",
   "metadata": {},
   "source": [
    "### Default values\n",
    "\n",
    "You can provide default values directly in the accessing code:"
   ]
  },
  {
   "cell_type": "code",
   "execution_count": 18,
   "metadata": {},
   "outputs": [
    {
     "data": {
      "text/plain": [
       "'a default value'"
      ]
     },
     "execution_count": 18,
     "metadata": {},
     "output_type": "execute_result"
    }
   ],
   "source": [
    "conf.get(\"missing_key\", \"a default value\")  # pyright: ignore"
   ]
  },
  {
   "attachments": {},
   "cell_type": "markdown",
   "metadata": {},
   "source": [
    "### Mandatory values\n",
    "\n",
    "Use the value `???` to indicate parameters that need to be set prior to access:"
   ]
  },
  {
   "cell_type": "code",
   "execution_count": 19,
   "metadata": {},
   "outputs": [
    {
     "name": "stdout",
     "output_type": "stream",
     "text": [
      "Missing mandatory value: log.file\n",
      "    full_key: log.file\n",
      "    object_type=dict\n"
     ]
    }
   ],
   "source": [
    "try:\n",
    "    print(conf.log.file)\n",
    "except Exception as e:\n",
    "    print(e)"
   ]
  },
  {
   "attachments": {},
   "cell_type": "markdown",
   "metadata": {},
   "source": [
    "### Manipulation"
   ]
  },
  {
   "cell_type": "code",
   "execution_count": 20,
   "metadata": {},
   "outputs": [
    {
     "data": {
      "text/plain": [
       "81"
      ]
     },
     "execution_count": 20,
     "metadata": {},
     "output_type": "execute_result"
    }
   ],
   "source": [
    "# Changing existing keys\n",
    "conf.server.port = 81\n",
    "\n",
    "conf.server.port"
   ]
  },
  {
   "cell_type": "code",
   "execution_count": 21,
   "metadata": {},
   "outputs": [
    {
     "data": {
      "text/plain": [
       "'localhost'"
      ]
     },
     "execution_count": 21,
     "metadata": {},
     "output_type": "execute_result"
    }
   ],
   "source": [
    "# Adding new keys\n",
    "conf.server.hostname = \"localhost\"\n",
    "\n",
    "conf.server.hostname"
   ]
  },
  {
   "cell_type": "code",
   "execution_count": 22,
   "metadata": {},
   "outputs": [
    {
     "data": {
      "text/plain": [
       "{'hostname': 'database01', 'port': 3306}"
      ]
     },
     "execution_count": 22,
     "metadata": {},
     "output_type": "execute_result"
    }
   ],
   "source": [
    "# Adding a new dictionary\n",
    "conf.database = {\"hostname\": \"database01\", \"port\": 3306}\n",
    "\n",
    "conf.database"
   ]
  },
  {
   "attachments": {},
   "cell_type": "markdown",
   "metadata": {},
   "source": [
    "## Serialization\n",
    "\n",
    "OmegaConf objects can be saved and loaded with `OmegaConf.save()` and `OmegaConf.load()`.\n",
    "\n",
    "The created file is in `YAML` format.\n",
    "\n",
    "Save and load can operate on *file-names*, `Path`s and *file objects*."
   ]
  },
  {
   "attachments": {},
   "cell_type": "markdown",
   "metadata": {},
   "source": [
    "### Save/Load YAML file"
   ]
  },
  {
   "cell_type": "code",
   "execution_count": 23,
   "metadata": {},
   "outputs": [],
   "source": [
    "import tempfile\n",
    "\n",
    "conf = OmegaConf.create({\"foo\": 10, \"bar\": 20, 123: 456})\n",
    "\n",
    "with tempfile.NamedTemporaryFile() as fp:\n",
    "    OmegaConf.save(config=conf, f=fp.name)\n",
    "    loaded = OmegaConf.load(fp.name)\n",
    "    assert conf == loaded"
   ]
  },
  {
   "attachments": {},
   "cell_type": "markdown",
   "metadata": {},
   "source": [
    "> ⚠️ Note that this **does not retain type information**."
   ]
  },
  {
   "attachments": {},
   "cell_type": "markdown",
   "metadata": {},
   "source": [
    "### Save/Load pickle file\n",
    "\n",
    "Use `pickle` to save and load while retaining the type information.\n",
    "\n",
    "> ⚠️ Note that the saved file may be incompatible across different versions of OmegaConf."
   ]
  },
  {
   "cell_type": "code",
   "execution_count": 24,
   "metadata": {},
   "outputs": [],
   "source": [
    "import pickle\n",
    "\n",
    "conf = OmegaConf.create({\"foo\": 10, \"bar\": 20, 123: 456})\n",
    "\n",
    "with tempfile.TemporaryFile() as fp:\n",
    "    pickle.dump(conf, fp)\n",
    "\n",
    "    fp.flush()\n",
    "    assert fp.seek(0) == 0\n",
    "\n",
    "    loaded = pickle.load(fp)\n",
    "    assert conf == loaded"
   ]
  },
  {
   "attachments": {},
   "cell_type": "markdown",
   "metadata": {},
   "source": [
    "> Note for Python3.6 users: due to limitations in pickling support, structured configs with complex type hints\n",
    "> (such as nested container types or containers with optional element types) cannot be pickled using Python3.6."
   ]
  },
  {
   "attachments": {},
   "cell_type": "markdown",
   "metadata": {},
   "source": [
    "## Variable interpolation\n",
    "\n",
    "OmegaConf supports variable interpolation.\n",
    "\n",
    "Interpolations are *evaluated lazily* on access."
   ]
  },
  {
   "attachments": {},
   "cell_type": "markdown",
   "metadata": {},
   "source": [
    "### Config node interpolation\n",
    "\n",
    "The interpolated variable can be the path to another node in the configuration, and in that case the value will be the value of that node.\n",
    "\n",
    "This path may use either dot-notation (`foo.1`), brackets (`[foo][1]`) or a mix of both (`foo[1]`, `[foo].1`).\n",
    "\n",
    "Interpolations are *absolute* by default.\n",
    "\n",
    "Relative interpolation are prefixed by one or more **dots**: The first dot denotes the level of the node itself and\n",
    "additional dots are going up the parent hierarchy. e.g. `${..foo}` points to the foo sibling of the parent of the current node.\n",
    "\n",
    "**⚠️ NOTE: Interpolations may cause config cycles. Such cycles are forbidden and may cause undefined behavior.**\n",
    "\n",
    "Input YAML file:\n",
    "```yaml\n",
    "server:\n",
    "  host: localhost\n",
    "  port: 80\n",
    "\n",
    "client:\n",
    "  url: http://${server.host}:${server.port}/\n",
    "  server_port: ${server.port}\n",
    "  # relative interpolation\n",
    "  description: Client of ${.url}\n",
    "```"
   ]
  },
  {
   "cell_type": "code",
   "execution_count": 25,
   "metadata": {},
   "outputs": [],
   "source": [
    "conf = OmegaConf.load(\"./source/config_interpolation.yaml\")\n",
    "\n",
    "\n",
    "def show(x):\n",
    "    print(f\"type: {type(x).__name__}, value: {repr(x)}\")"
   ]
  },
  {
   "cell_type": "code",
   "execution_count": 26,
   "metadata": {},
   "outputs": [
    {
     "name": "stdout",
     "output_type": "stream",
     "text": [
      "type: int, value: 80\n"
     ]
    }
   ],
   "source": [
    "# Primitive interpolation types are inherited from the reference\n",
    "\n",
    "show(conf.client.server_port)"
   ]
  },
  {
   "cell_type": "code",
   "execution_count": 27,
   "metadata": {},
   "outputs": [
    {
     "name": "stdout",
     "output_type": "stream",
     "text": [
      "type: str, value: 'http://localhost:80/'\n"
     ]
    }
   ],
   "source": [
    "# String interpolations concatenate fragments into a string\n",
    "\n",
    "show(conf.client.url)"
   ]
  },
  {
   "cell_type": "code",
   "execution_count": 28,
   "metadata": {},
   "outputs": [
    {
     "name": "stdout",
     "output_type": "stream",
     "text": [
      "type: str, value: 'Client of http://localhost:80/'\n"
     ]
    }
   ],
   "source": [
    "# Relative interpolation example\n",
    "\n",
    "show(conf.client.description)"
   ]
  },
  {
   "attachments": {},
   "cell_type": "markdown",
   "metadata": {},
   "source": [
    "### Nested interpolation\n",
    "\n",
    "Interpolations may be nested, enabling more advanced behavior like dynamically selecting a sub-config:"
   ]
  },
  {
   "cell_type": "code",
   "execution_count": 29,
   "metadata": {},
   "outputs": [],
   "source": [
    "cfg = OmegaConf.create(\n",
    "    {\n",
    "        \"plans\": {\n",
    "            \"A\": \"plan A\",\n",
    "            \"B\": \"plan B\",\n",
    "        },\n",
    "        \"selected_plan\": \"A\",\n",
    "        \"plan\": \"${plans[${selected_plan}]}\",  # NOTE.\n",
    "    }\n",
    ")"
   ]
  },
  {
   "cell_type": "code",
   "execution_count": 30,
   "metadata": {},
   "outputs": [
    {
     "data": {
      "text/plain": [
       "'plan A'"
      ]
     },
     "execution_count": 30,
     "metadata": {},
     "output_type": "execute_result"
    }
   ],
   "source": [
    "cfg.plan  # default plan"
   ]
  },
  {
   "cell_type": "code",
   "execution_count": 31,
   "metadata": {},
   "outputs": [
    {
     "data": {
      "text/plain": [
       "'plan B'"
      ]
     },
     "execution_count": 31,
     "metadata": {},
     "output_type": "execute_result"
    }
   ],
   "source": [
    "cfg.selected_plan = \"B\"\n",
    "\n",
    "cfg.plan  # new plan"
   ]
  },
  {
   "cell_type": "code",
   "execution_count": 32,
   "metadata": {},
   "outputs": [
    {
     "data": {
      "text/plain": [
       "(180, 75)"
      ]
     },
     "execution_count": 32,
     "metadata": {},
     "output_type": "execute_result"
    }
   ],
   "source": [
    "# Interpolated nodes can be any node in the config, not just leaf nodes:\n",
    "\n",
    "cfg = OmegaConf.create(\n",
    "    {\n",
    "        \"john\": {\"height\": 180, \"weight\": 75},\n",
    "        \"player\": \"${john}\",\n",
    "    }\n",
    ")\n",
    "\n",
    "(cfg.player.height, cfg.player.weight)"
   ]
  },
  {
   "attachments": {},
   "cell_type": "markdown",
   "metadata": {},
   "source": [
    "### Resolvers\n",
    "\n",
    "Add **new interpolation types** by registering resolvers using `OmegaConf.register_new_resolver()`.\n",
    "\n",
    "Such resolvers are called when the config node is accessed.\n",
    "\n",
    "The minimal example below shows its most basic usage, see [Resolvers](https://omegaconf.readthedocs.io/en/latest/custom_resolvers.html) for more details."
   ]
  },
  {
   "cell_type": "code",
   "execution_count": 33,
   "metadata": {},
   "outputs": [
    {
     "data": {
      "text/plain": [
       "6"
      ]
     },
     "execution_count": 33,
     "metadata": {},
     "output_type": "execute_result"
    }
   ],
   "source": [
    "OmegaConf.register_new_resolver(\"add\", lambda *numbers: sum(numbers))\n",
    "\n",
    "c = OmegaConf.create({\"total\": \"${add:1,2,3}\"})\n",
    "\n",
    "c.total"
   ]
  },
  {
   "attachments": {},
   "cell_type": "markdown",
   "metadata": {},
   "source": [
    "### Built-in resolvers\n",
    "\n",
    "OmegaConf comes with a set of built-in custom resolvers:\n",
    "* `oc.create`: Dynamically generating config nodes\n",
    "* `oc.decode`: Parsing an input string using interpolation grammar\n",
    "* `oc.deprecated`: Deprecate a key in your config\n",
    "* `oc.env`: Accessing environment variables\n",
    "* `oc.select`: Selecting an interpolation key, similar to interpolation but more flexible\n",
    "* `oc.dict`.{keys,value}: Viewing the keys or the values of a dictionary as a list\n",
    "\n",
    "Links to each: https://omegaconf.readthedocs.io/en/latest/usage.html#built-in-resolvers"
   ]
  },
  {
   "attachments": {},
   "cell_type": "markdown",
   "metadata": {},
   "source": [
    "## Merging configurations\n",
    "\n",
    "Merging configurations enables the creation of reusable configuration files **for each logical component**\n",
    "instead of a single config file for each variation of your task.\n"
   ]
  },
  {
   "attachments": {},
   "cell_type": "markdown",
   "metadata": {},
   "source": [
    "### `OmegaConf.merge()`\n",
    "\n",
    "Machine learning experiment example:\n",
    "```python\n",
    "conf = OmegaConf.merge(base_cfg, model_cfg, optimizer_cfg, dataset_cfg)\n",
    "```\n",
    "\n",
    "Web server configuration example:\n",
    "```python\n",
    "conf = OmegaConf.merge(server_cfg, plugin1_cfg, site1_cfg, site2_cfg)\n",
    "```\n",
    "\n",
    "The following example creates *two* configs from *files*, and *one* from the *cli*.\n",
    "\n",
    "It then *combines* them into a single object.\n",
    "\n",
    "Note how the port changes to 82, and how the users lists are combined."
   ]
  },
  {
   "cell_type": "code",
   "execution_count": 34,
   "metadata": {},
   "outputs": [],
   "source": [
    "from omegaconf import OmegaConf\n",
    "import sys"
   ]
  },
  {
   "cell_type": "code",
   "execution_count": 35,
   "metadata": {},
   "outputs": [],
   "source": [
    "# Simulate command line arguments\n",
    "\n",
    "sys.argv = [\"program.py\", \"server.port=82\"]"
   ]
  },
  {
   "cell_type": "code",
   "execution_count": 36,
   "metadata": {},
   "outputs": [
    {
     "data": {
      "text/plain": [
       "{'server': {'port': 82}}"
      ]
     },
     "execution_count": 36,
     "metadata": {},
     "output_type": "execute_result"
    }
   ],
   "source": [
    "base_conf = OmegaConf.load(\"source/example2.yaml\")\n",
    "second_conf = OmegaConf.load(\"source/example3.yaml\")\n",
    "\n",
    "cli_conf = OmegaConf.from_cli()\n",
    "cli_conf"
   ]
  },
  {
   "cell_type": "code",
   "execution_count": 37,
   "metadata": {},
   "outputs": [
    {
     "name": "stdout",
     "output_type": "stream",
     "text": [
      "server:\n",
      "  port: 82\n",
      "users:\n",
      "- user1\n",
      "- user2\n",
      "log:\n",
      "  file: log.txt\n",
      "\n"
     ]
    }
   ],
   "source": [
    "# merge them all\n",
    "\n",
    "conf = OmegaConf.merge(base_conf, second_conf, cli_conf)\n",
    "\n",
    "print(OmegaConf.to_yaml(conf))"
   ]
  },
  {
   "attachments": {},
   "cell_type": "markdown",
   "metadata": {},
   "source": [
    "### `OmegaConf.unsafe_merge()`\n",
    "\n",
    "OmegaConf offers a second *faster* function to merge config objects:\n",
    "```python\n",
    "conf = OmegaConf.unsafe_merge(base_cfg, model_cfg, optimizer_cfg, dataset_cfg)\n",
    "```\n",
    "\n",
    "> Unlike `OmegaConf.merge()`, `unsafe_merge()` is **destroying the input configs** and *they should no longer be used* after this call.\n",
    ">\n",
    "> The upside is that it’s substantially faster."
   ]
  },
  {
   "attachments": {},
   "cell_type": "markdown",
   "metadata": {},
   "source": [
    "## Configuration flags\n",
    "\n",
    "OmegaConf support several **configuration flags**.\n",
    "\n",
    "Configuration flags can be set on any configuration node (`Sequence` or `Mapping`).\n",
    "\n",
    "If a configuration flag is not set it *inherits the value from the parent* of the node.\n",
    "\n",
    "The default value inherited from the root node is always false."
   ]
  },
  {
   "attachments": {},
   "cell_type": "markdown",
   "metadata": {},
   "source": [
    "### Read-only flag\n",
    "\n",
    "A read-only configuration cannot be modified.\n",
    "\n",
    "An attempt to modify it will result in `omegaconf.ReadonlyConfigError` exception."
   ]
  },
  {
   "cell_type": "code",
   "execution_count": 38,
   "metadata": {},
   "outputs": [
    {
     "name": "stdout",
     "output_type": "stream",
     "text": [
      "Cannot change read-only config container\n",
      "    full_key: a.b\n",
      "    object_type=dict\n"
     ]
    }
   ],
   "source": [
    "conf = OmegaConf.create({\"a\": {\"b\": 10}})\n",
    "\n",
    "OmegaConf.set_readonly(conf, True)  # NOTE.\n",
    "\n",
    "try:\n",
    "    conf.a.b = 20\n",
    "except Exception as e:\n",
    "    print(e)"
   ]
  },
  {
   "attachments": {},
   "cell_type": "markdown",
   "metadata": {},
   "source": [
    "ℹ️ Useful!\n",
    "\n",
    "You can temporarily remove the read only flag from a config object:"
   ]
  },
  {
   "cell_type": "code",
   "execution_count": 40,
   "metadata": {},
   "outputs": [
    {
     "data": {
      "text/plain": [
       "{'a': {'b': 20}}"
      ]
     },
     "execution_count": 40,
     "metadata": {},
     "output_type": "execute_result"
    }
   ],
   "source": [
    "from omegaconf import read_write  # NOTE.\n",
    "\n",
    "conf = OmegaConf.create({\"a\": {\"b\": 10}})\n",
    "OmegaConf.set_readonly(conf, True)\n",
    "\n",
    "with read_write(conf):  # NOTE.\n",
    "    conf.a.b = 20\n",
    "\n",
    "conf"
   ]
  },
  {
   "attachments": {},
   "cell_type": "markdown",
   "metadata": {},
   "source": [
    "### Struct flag\n",
    "\n",
    "⚠️ By default, OmegaConf dictionaries allow write access to unknown fields.\n",
    "\n",
    "If a field does not exist:\n",
    "* writing it will *create the field*,\n",
    "* and attempting to *access the field* before creation will raise an *exception* (either `ConfigKeyError` or `ConfigAttributeError`, depending on the mode of access).\n",
    "\n",
    "It’s sometime useful to change this behavior.\n",
    "\n",
    "Using `OmegaConf.set_struct`, it is possible to **prevent the creation of fields that do not exist**:"
   ]
  },
  {
   "cell_type": "code",
   "execution_count": 42,
   "metadata": {},
   "outputs": [
    {
     "name": "stdout",
     "output_type": "stream",
     "text": [
      "Key 'cc' is not in struct\n",
      "    full_key: a.cc\n",
      "    object_type=dict\n"
     ]
    }
   ],
   "source": [
    "conf = OmegaConf.create({\"a\": {\"aa\": 10, \"bb\": 20}})\n",
    "OmegaConf.set_struct(conf, True)  # NOTE.\n",
    "\n",
    "try:\n",
    "    conf.a.cc = 30  # Trying to set a field that doesn't exist.\n",
    "except Exception as e:\n",
    "    print(e)"
   ]
  },
  {
   "attachments": {},
   "cell_type": "markdown",
   "metadata": {},
   "source": [
    "ℹ️ You can temporarily remove the struct flag from a config object:"
   ]
  },
  {
   "cell_type": "code",
   "execution_count": 43,
   "metadata": {},
   "outputs": [
    {
     "data": {
      "text/plain": [
       "30"
      ]
     },
     "execution_count": 43,
     "metadata": {},
     "output_type": "execute_result"
    }
   ],
   "source": [
    "from omegaconf import open_dict  # NOTE.\n",
    "\n",
    "conf = OmegaConf.create({\"a\": {\"aa\": 10, \"bb\": 20}})\n",
    "OmegaConf.set_struct(conf, True)\n",
    "\n",
    "with open_dict(conf):\n",
    "    conf.a.cc = 30\n",
    "\n",
    "conf.a.cc"
   ]
  },
  {
   "attachments": {},
   "cell_type": "markdown",
   "metadata": {},
   "source": [
    "## Utility functions"
   ]
  },
  {
   "attachments": {},
   "cell_type": "markdown",
   "metadata": {},
   "source": [
    "### `OmegaConf.to_container`\n",
    "\n",
    "OmegaConf config objects *looks very similar to python `dict` and `list`*, **but in fact are not**.\n",
    "\n",
    "Use `OmegaConf.to_container(cfg: Container, resolve: bool)` to convert to a primitive container.\n",
    "\n",
    "If `resolve` is set to `True`, *interpolations will be resolved during conversion*."
   ]
  },
  {
   "cell_type": "code",
   "execution_count": 44,
   "metadata": {},
   "outputs": [
    {
     "name": "stdout",
     "output_type": "stream",
     "text": [
      "type: dict, value: {'foo': 'bar', 'foo2': '${foo}'}\n"
     ]
    }
   ],
   "source": [
    "from omegaconf import DictConfig\n",
    "\n",
    "conf = OmegaConf.create({\"foo\": \"bar\", \"foo2\": \"${foo}\"})\n",
    "assert type(conf) == DictConfig\n",
    "\n",
    "primitive = OmegaConf.to_container(conf)\n",
    "show(primitive)"
   ]
  },
  {
   "cell_type": "code",
   "execution_count": 46,
   "metadata": {},
   "outputs": [
    {
     "name": "stdout",
     "output_type": "stream",
     "text": [
      "type: dict, value: {'foo': 'bar', 'foo2': 'bar'}\n"
     ]
    }
   ],
   "source": [
    "resolved = OmegaConf.to_container(conf, resolve=True)\n",
    "show(resolved)"
   ]
  },
  {
   "attachments": {},
   "cell_type": "markdown",
   "metadata": {},
   "source": [
    "### Using `throw_on_missing`\n",
    "\n",
    "You can control how **missing values** are handled by `OmegaConf.to_container()` using the `throw_on_missing` keyword argument."
   ]
  },
  {
   "cell_type": "code",
   "execution_count": 48,
   "metadata": {},
   "outputs": [
    {
     "name": "stdout",
     "output_type": "stream",
     "text": [
      "type: dict, value: {'foo': 'bar', 'missing': '???'}\n"
     ]
    }
   ],
   "source": [
    "conf = OmegaConf.create({\"foo\": \"bar\", \"missing\": \"???\"})\n",
    "\n",
    "has_missing = OmegaConf.to_container(conf, throw_on_missing=False)\n",
    "\n",
    "show(has_missing)  # NOTE: Missing item(s) will just take the value \"???\""
   ]
  },
  {
   "cell_type": "code",
   "execution_count": 49,
   "metadata": {},
   "outputs": [
    {
     "name": "stdout",
     "output_type": "stream",
     "text": [
      "Missing mandatory value: missing\n",
      "    full_key: missing\n",
      "    object_type=dict\n"
     ]
    }
   ],
   "source": [
    "# But this will throw an exception.\n",
    "\n",
    "try:\n",
    "    OmegaConf.to_container(conf, throw_on_missing=True)  # NOTE.\n",
    "except Exception as e:\n",
    "    print(e)"
   ]
  },
  {
   "attachments": {},
   "cell_type": "markdown",
   "metadata": {},
   "source": [
    "By default, `throw_on_missing=False`.\n",
    "\n",
    "Setting `throw_on_missing=True` can be useful if you want your program to fail fast when there are missing values in the config."
   ]
  },
  {
   "attachments": {},
   "cell_type": "markdown",
   "metadata": {},
   "source": [
    "### Using `structured_config_mode`\n",
    "\n",
    "You can customize the treatment of `OmegaConf.to_container()` for *Structured Config nodes* using the `structured_config_mode` option.\n",
    "\n",
    "1.\n",
    "The default, `structured_config_mode=SCMode.DICT`, converts Structured Config nodes **to plain dict**.\n",
    "\n",
    "2.\n",
    "Using `structured_config_mode=SCMode.DICT_CONFIG` causes such nodes to **remain as `DictConfig`**,\n",
    "allowing attribute style access on the resulting node.\n",
    "\n",
    "3.\n",
    "Using `structured_config_mode=SCMode.INSTANTIATE`, Structured Config nodes are *converted to instances of the backing dataclass or attrs class*.\n",
    "\n",
    "(!) Note that when `structured_config_mode=SCMode.INSTANTIATE`, interpolations nested within a structured config node will be resolved, even if `OmegaConf.to_container` is called with the the keyword argument `resolve=False`, so that interpolations are resolved before being used to instantiate dataclass/attr class instances. Interpolations within non-structured parent nodes will be resolved (or not) as usual, according to the resolve keyword arg."
   ]
  },
  {
   "cell_type": "code",
   "execution_count": 50,
   "metadata": {},
   "outputs": [
    {
     "name": "stdout",
     "output_type": "stream",
     "text": [
      "type: dict, value: {'structured_config': {'port': 80, 'host': 'localhost'}}\n"
     ]
    }
   ],
   "source": [
    "from omegaconf import SCMode\n",
    "\n",
    "conf = OmegaConf.create(\n",
    "    {\"structured_config\": MyConfig}\n",
    ")  # MyConfig from earlier in tutorial.\n",
    "\n",
    "container = OmegaConf.to_container(\n",
    "    conf, structured_config_mode=SCMode.DICT_CONFIG  # NOTE.\n",
    ")\n",
    "\n",
    "show(container)"
   ]
  },
  {
   "cell_type": "code",
   "execution_count": 51,
   "metadata": {},
   "outputs": [
    {
     "name": "stdout",
     "output_type": "stream",
     "text": [
      "type: DictConfig, value: {'port': 80, 'host': 'localhost'}\n"
     ]
    }
   ],
   "source": [
    "show(container[\"structured_config\"])  # pyright: ignore"
   ]
  },
  {
   "attachments": {},
   "cell_type": "markdown",
   "metadata": {},
   "source": [
    "### `OmegaConf.to_object`\n",
    "\n",
    "The `OmegaConf.to_object` method recursively converts `DictConfig` and `ListConfig` objects into plain Python `dict`s and `list`s,\n",
    "with the *exception* that Structured Config objects are converted into *instances* of the *backing `dataclass` or `attr` class*.\n",
    "\n",
    "Interpolations in the config are *always resolved* by `OmegaConf.to_object`."
   ]
  },
  {
   "cell_type": "code",
   "execution_count": 52,
   "metadata": {},
   "outputs": [
    {
     "name": "stdout",
     "output_type": "stream",
     "text": [
      "type: dict, value: {'structured_config': MyConfig(port=80, host='localhost')}\n"
     ]
    }
   ],
   "source": [
    "container = OmegaConf.to_object(conf)\n",
    "\n",
    "show(container)\n",
    "\n",
    "# NOTE it is a `dict`"
   ]
  },
  {
   "cell_type": "code",
   "execution_count": 53,
   "metadata": {},
   "outputs": [
    {
     "name": "stdout",
     "output_type": "stream",
     "text": [
      "type: MyConfig, value: MyConfig(port=80, host='localhost')\n"
     ]
    }
   ],
   "source": [
    "show(container[\"structured_config\"])  # pyright: ignore\n",
    "\n",
    "# NOTE it is a `MyConfig`!"
   ]
  },
  {
   "attachments": {},
   "cell_type": "markdown",
   "metadata": {},
   "source": [
    "Note that here, `container[\"structured_config\"]` is actually an instance of `MyConfig`,\n",
    "whereas in the previous examples we had a `dict` or a `DictConfig` object that was **duck-typed to look like an instance of `MyConfig`**.\n",
    "\n",
    "> The call `OmegaConf.to_object(conf)` is **equivalent** to:\n",
    "> \n",
    "> `OmegaConf.to_container(conf, resolve=True, throw_on_missing=True, structured_config_mode=SCMode.INSTANTIATE)`."
   ]
  },
  {
   "attachments": {},
   "cell_type": "markdown",
   "metadata": {},
   "source": [
    "### `OmegaConf.resolve`\n",
    "\n",
    "```python\n",
    "def resolve(cfg: Container) -> None:\n",
    "    \"\"\"\n",
    "    Resolves all interpolations in the given config object in-place.\n",
    "    :param cfg: An OmegaConf container (DictConfig, ListConfig)\n",
    "                Raises a ValueError if the input object is not an OmegaConf container.\n",
    "    \"\"\"\n",
    "```\n",
    "\n",
    "Normally interpolations are resolved *lazily*, at access time.\n",
    "\n",
    "This function *eagerly* resolves all interpolations in the given config object in-place. Example:"
   ]
  },
  {
   "cell_type": "code",
   "execution_count": 54,
   "metadata": {},
   "outputs": [
    {
     "name": "stdout",
     "output_type": "stream",
     "text": [
      "type: DictConfig, value: {'a': 10, 'b': '${a}'}\n"
     ]
    }
   ],
   "source": [
    "cfg = OmegaConf.create({\"a\": 10, \"b\": \"${a}\"})\n",
    "\n",
    "show(cfg)"
   ]
  },
  {
   "cell_type": "code",
   "execution_count": 55,
   "metadata": {},
   "outputs": [],
   "source": [
    "assert cfg.a == cfg.b == 10  # lazily resolving interpolation"
   ]
  },
  {
   "cell_type": "code",
   "execution_count": 56,
   "metadata": {},
   "outputs": [
    {
     "name": "stdout",
     "output_type": "stream",
     "text": [
      "type: DictConfig, value: {'a': 10, 'b': 10}\n"
     ]
    }
   ],
   "source": [
    "OmegaConf.resolve(cfg)\n",
    "\n",
    "show(cfg)"
   ]
  },
  {
   "attachments": {},
   "cell_type": "markdown",
   "metadata": {},
   "source": [
    "### `OmegaConf.select`\n",
    "\n",
    "`OmegaConf.select()` allows you to select a config node or value, using either a dot-notation or brackets to denote sub-keys."
   ]
  },
  {
   "cell_type": "code",
   "execution_count": 62,
   "metadata": {},
   "outputs": [],
   "source": [
    "cfg = OmegaConf.create(\n",
    "    {\n",
    "        \"foo\": {\n",
    "            \"missing\": \"???\",\n",
    "            \"bar\": {\n",
    "                \"zonk\": 10,\n",
    "            },\n",
    "        }\n",
    "    }\n",
    ")\n",
    "\n",
    "assert OmegaConf.select(cfg, \"foo\") == {\n",
    "    \"missing\": \"???\",\n",
    "    \"bar\": {\n",
    "        \"zonk\": 10,\n",
    "    },\n",
    "}\n",
    "\n",
    "assert OmegaConf.select(cfg, \"foo.bar\") == {\n",
    "    \"zonk\": 10,\n",
    "}\n",
    "\n",
    "assert OmegaConf.select(cfg, \"foo.bar.zonk\") == 10  # dots\n",
    "\n",
    "assert OmegaConf.select(cfg, \"foo[bar][zonk]\") == 10  # brackets\n",
    "\n",
    "assert OmegaConf.select(cfg, \"no_such_key\", default=99) == 99\n",
    "\n",
    "assert OmegaConf.select(cfg, \"foo.missing\") is None\n",
    "\n",
    "assert OmegaConf.select(cfg, \"foo.missing\", default=99) == 99"
   ]
  },
  {
   "cell_type": "code",
   "execution_count": 63,
   "metadata": {},
   "outputs": [
    {
     "name": "stdout",
     "output_type": "stream",
     "text": [
      "Missing mandatory value: foo.missing\n",
      "    full_key: foo.missing\n",
      "    object_type=dict\n"
     ]
    }
   ],
   "source": [
    "try:\n",
    "    OmegaConf.select(cfg, \"foo.missing\", throw_on_missing=True)\n",
    "except Exception as e:\n",
    "    print(e)"
   ]
  },
  {
   "attachments": {},
   "cell_type": "markdown",
   "metadata": {},
   "source": [
    "### `OmegaConf.update`\n",
    "\n",
    "`OmegaConf.update()` allows you to **update values** in your config using either:\n",
    "* a dot-notation or \n",
    "* brackets to denote sub-keys.\n",
    "\n",
    "The `merge` flag controls the behavior if the input is a `dict` or a `list`.\n",
    "\n",
    "If `merge=True` true (the default), `dict`s and `list`s are *merged* instead of being *assigned*.\n",
    "\n",
    "The `force_add` flag ensures that the *path is created* even if it will result in insertion of new values into struct nodes."
   ]
  },
  {
   "cell_type": "code",
   "execution_count": 64,
   "metadata": {},
   "outputs": [],
   "source": [
    "cfg = OmegaConf.create({\"foo\": {\"bar\": 10}})\n",
    "\n",
    "OmegaConf.update(cfg, \"foo.bar\", 20)\n",
    "assert cfg.foo.bar == 20\n",
    "\n",
    "# Set dictionary value (using dot notation)\n",
    "OmegaConf.update(cfg, \"foo.bar\", {\"zonk\": 30}, merge=False)\n",
    "assert cfg.foo.bar == {\"zonk\": 30}\n",
    "\n",
    "# Merge dictionary value (using bracket notation)\n",
    "# note that merge is True by default, so you don't really need it here.\n",
    "OmegaConf.update(cfg, \"foo[bar]\", {\"oompa\": 40}, merge=True)\n",
    "assert cfg.foo.bar == {\"zonk\": 30, \"oompa\": 40}\n",
    "\n",
    "# force_add ignores nodes in struct mode or Structured Configs nodes\n",
    "# and updates anyway, inserting keys as needed.\n",
    "OmegaConf.set_struct(cfg, True)\n",
    "OmegaConf.update(cfg, \"a.b.c.d\", 10, force_add=True)\n",
    "\n",
    "assert cfg.a.b.c.d == 10"
   ]
  },
  {
   "attachments": {},
   "cell_type": "markdown",
   "metadata": {},
   "source": [
    "### `OmegaConf.masked_copy`\n",
    "\n",
    "Creates a copy of a DictConfig that *contains only specific keys*."
   ]
  },
  {
   "cell_type": "code",
   "execution_count": 65,
   "metadata": {},
   "outputs": [
    {
     "name": "stdout",
     "output_type": "stream",
     "text": [
      "a:\n",
      "  b: 10\n",
      "c: 20\n",
      "\n"
     ]
    }
   ],
   "source": [
    "conf = OmegaConf.create({\"a\": {\"b\": 10}, \"c\": 20})\n",
    "\n",
    "print(OmegaConf.to_yaml(conf))"
   ]
  },
  {
   "cell_type": "code",
   "execution_count": 66,
   "metadata": {},
   "outputs": [
    {
     "name": "stdout",
     "output_type": "stream",
     "text": [
      "a:\n",
      "  b: 10\n",
      "\n"
     ]
    }
   ],
   "source": [
    "c = OmegaConf.masked_copy(conf, [\"a\"])\n",
    "\n",
    "print(OmegaConf.to_yaml(c))"
   ]
  },
  {
   "attachments": {},
   "cell_type": "markdown",
   "metadata": {},
   "source": [
    "### `OmegaConf.is_missing`\n",
    "\n",
    "Tests if a value is missing (`\"???\"`)."
   ]
  },
  {
   "cell_type": "code",
   "execution_count": 67,
   "metadata": {},
   "outputs": [],
   "source": [
    "cfg = OmegaConf.create({\"foo\": 10, \"bar\": \"???\"})\n",
    "\n",
    "assert not OmegaConf.is_missing(cfg, \"foo\")\n",
    "assert OmegaConf.is_missing(cfg, \"bar\")"
   ]
  },
  {
   "attachments": {},
   "cell_type": "markdown",
   "metadata": {},
   "source": [
    "### `OmegaConf.is_interpolation`\n",
    "\n",
    "Tests if a value is an interpolation."
   ]
  },
  {
   "cell_type": "code",
   "execution_count": 69,
   "metadata": {},
   "outputs": [],
   "source": [
    "cfg = OmegaConf.create({\"foo\": 10, \"bar\": \"${foo}\"})\n",
    "\n",
    "assert not OmegaConf.is_interpolation(cfg, \"foo\")\n",
    "assert OmegaConf.is_interpolation(cfg, \"bar\")"
   ]
  },
  {
   "attachments": {},
   "cell_type": "markdown",
   "metadata": {},
   "source": [
    "### `OmegaConf.{is_config, is_dict, is_list}`\n",
    "\n",
    "* `OmegaConf.is_config` tests whether an object is an OmegaConf object (e.g. `DictConfig` or `ListConfig`).\n",
    "* `OmegaConf.is_dict(cfg)` is equivalent to `isinstance(cfg, DictConfig)`, and\n",
    "* `OmegaConf.is_list(cfg)` is equivalent to `isinstance(cfg, ListConfig)`."
   ]
  },
  {
   "cell_type": "code",
   "execution_count": 70,
   "metadata": {},
   "outputs": [],
   "source": [
    "# dict:\n",
    "\n",
    "d = OmegaConf.create({\"foo\": \"bar\"})\n",
    "\n",
    "assert OmegaConf.is_config(d)\n",
    "assert OmegaConf.is_dict(d)\n",
    "assert not OmegaConf.is_list(d)\n",
    "\n",
    "# list:\n",
    "\n",
    "l = OmegaConf.create([1, 2, 3])\n",
    "\n",
    "assert OmegaConf.is_config(l)\n",
    "assert OmegaConf.is_list(l)\n",
    "assert not OmegaConf.is_dict(l)"
   ]
  },
  {
   "attachments": {},
   "cell_type": "markdown",
   "metadata": {},
   "source": [
    "### `OmegaConf.missing_keys`\n",
    "\n",
    "`OmegaConf.missing_keys(cfg)` returns a set of missing keys present in the input `cfg`.\n",
    "\n",
    "Each missing key is *represented as a str, using a dotlist style*.\n",
    "\n",
    "This utility function can be used after creating a config object, after merging sources and so on, to check for missing mandatory fields and aid in creating a proper error message."
   ]
  },
  {
   "cell_type": "code",
   "execution_count": 71,
   "metadata": {},
   "outputs": [],
   "source": [
    "missings = OmegaConf.missing_keys(\n",
    "    {\"foo\": {\"bar\": \"???\"}, \"missing\": \"???\", \"list\": [\"a\", None, \"???\"]}\n",
    ")\n",
    "\n",
    "assert missings == {\"list[2]\", \"foo.bar\", \"missing\"}"
   ]
  }
 ],
 "metadata": {
  "kernelspec": {
   "display_name": "learn_py38_hydra",
   "language": "python",
   "name": "python3"
  },
  "language_info": {
   "codemirror_mode": {
    "name": "ipython",
    "version": 3
   },
   "file_extension": ".py",
   "mimetype": "text/x-python",
   "name": "python",
   "nbconvert_exporter": "python",
   "pygments_lexer": "ipython3",
   "version": "3.8.15"
  },
  "orig_nbformat": 4,
  "vscode": {
   "interpreter": {
    "hash": "280ec2c2813ce3888aa183717bfa587096b5fe0e3d4b5d3c4156b9ddf0e32161"
   }
  }
 },
 "nbformat": 4,
 "nbformat_minor": 2
}
